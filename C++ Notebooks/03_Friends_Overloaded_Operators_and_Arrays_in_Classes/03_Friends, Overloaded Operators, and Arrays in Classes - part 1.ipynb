{
 "cells": [
  {
   "cell_type": "markdown",
   "metadata": {},
   "source": [
    "<div style=\"font-family: arial; padding: 30px; padding-bottom: 0;\">\n",
    "\n",
    "<h4 style=\"text-align: center;\">In the Name of God</h4>\n",
    "\n",
    "<h2 style=\"text-align: center; color: #103bc9;\">CS232 - Advanced Programming</h2>\n",
    "\n",
    "<h3 style=\"text-align: center; color: #d42c06;\">Iran University of Science and Technology</h3>\n",
    "    \n",
    "<h3 style=\"text-align: center; color: #d42c06;\">School of Mathematics and Computer Science</h3>\n",
    "\n",
    "<h4 style=\"padding-top: 7px; text-align: center;\">Winter-Spring 2024</h4>\n",
    "\n",
    "<hr style=\"margin-top: 25px; border-color: #fff;\">\n",
    "\n",
    "<h1 style=\"text-align: center; color: #9c0000;\">Chapter 11: Friends, Overloaded Operators\n",
    "and Arrays in Classes</h1>\n",
    "\n",
    "<h3 style=\"padding-top: 7px; text-align: center;\">Fatemeh Raadfar, Iliya Kaheni</h3>\n",
    "\n",
    "<hr style=\"margin-top: 25px; border-color: #fff;\">\n",
    "\n",
    "</div>"
   ]
  },
  {
   "cell_type": "markdown",
   "metadata": {},
   "source": [
    "<div style=\"font-family: arial; padding: 30px; padding-bottom: 0;\">\n",
    "\n",
    "<hr style=\"margin-top: 25px; border-color: #fff;\">\n",
    "\n",
    "<h2 style=\"text-align: center; color: #186e00;\">Section 1: Friend Functions</h2>\n",
    "\n",
    "<hr style=\"margin-top: 25px; border-color: #fff;\">\n",
    "\n",
    "</div>"
   ]
  },
  {
   "cell_type": "markdown",
   "metadata": {},
   "source": [
    "<div style=\"font-family: arial; padding: 30px; padding-top: 0; padding-bottom: 0;\">\n",
    "    \n",
    "<h2 id=\"Friend Functions\" style=\"color: #d42c06;\">Friend Functions</h2>\n",
    "<li> Class operations are typically implemented\n",
    "as member functions </li><br>\n",
    "<li> Some operations are better implemented as\n",
    "ordinary (nonmember) functions </li>\n",
    "<br>\n",
    "</div>\n"
   ]
  },
  {
   "cell_type": "markdown",
   "metadata": {},
   "source": [
    "<div style=\"font-family: arial; padding: 30px; padding-top: 0; padding-bottom: 0;\">\n",
    "    \n",
    "<h2 id=\"Program Example: An Equality Function\" style=\"color: #d42c06;\">Program Example: An Equality Function</h2>\n",
    "<ul>\n",
    "<li> The DayOfYear class from Chapter 10 can\n",
    "be enhanced to include an equality function\n",
    "  <ul style=\"margin-right:50px\">\n",
    "    <li>An equality function tests two objects of\n",
    "type DayOfYear to see if their values represent\n",
    "the same date\n",
    "    <li>Two dates are equal if they represent the same\n",
    "day and month\n",
    "    </ul>\n",
    "</ul>\n",
    "</div>"
   ]
  },
  {
   "cell_type": "markdown",
   "metadata": {},
   "source": [
    "<div style=\"font-family: arial; padding: 30px; padding-top: 0; padding-bottom: 0;\">\n",
    "    \n",
    "<h2 id=\"Declaration of equality Function\" style=\"color: #d42c06;\">Declaration of Equality Function</h2>\n",
    "<ul>\n",
    "    <li> We want the equality function to return a value\n",
    "    of type bool that is true if the dates are the same\n",
    "    <li> The equality function requires a parameter for\n",
    "each of the two dates to compare\n",
    "    <li> The declaration is <br>\n",
    "</ul>\n",
    "</div>"
   ]
  },
  {
   "cell_type": "markdown",
   "metadata": {},
   "source": [
    "```cpp\n",
    "        bool equal(DayOfYear date1, DayOfYear date2);\n",
    "```"
   ]
  },
  {
   "cell_type": "markdown",
   "metadata": {},
   "source": [
    "<div style=\"font-family: arial; padding: 30px; padding-top: 0; padding-bottom: 0;\">\n",
    "<ul>\n",
    "     <ul>\n",
    "        <li> Notice that equal is not a member of the class\n",
    "DayOfYear\n",
    "    </ul>\n",
    "\n",
    "</ul>\n",
    "</div>"
   ]
  },
  {
   "cell_type": "markdown",
   "metadata": {},
   "source": [
    "<div style=\"font-family: arial; padding: 30px; padding-top: 0; padding-bottom: 0;\">\n",
    "    \n",
    "<h2 id=\"Defining Function equal\" style=\"color: #d42c06;\">Defining Function equal</h2>\n",
    "<ul>\n",
    "    <li>The function equal, is not a member function\n",
    "    <ul>\n",
    "        <li> It must use public accessor functions to obtain the\n",
    "day and month from a DayOfYear object\n",
    "    </ul>\n",
    "    <li> equal can be defined in this way:\n",
    "</ul>\n",
    "</div>"
   ]
  },
  {
   "cell_type": "markdown",
   "metadata": {},
   "source": [
    "```cpp\n",
    "        bool equal(DayOfYear date1, DayOfYear date2)\n",
    "        {\n",
    "        return ( date1.getMonth( ) == date2.getMonth( )\n",
    "\n",
    "        &&\n",
    "        date1.getDay( ) == date2.getDay( ) );\n",
    "        }\n",
    "```"
   ]
  },
  {
   "cell_type": "markdown",
   "metadata": {},
   "source": [
    "<div style=\"font-family: arial; padding: 30px; padding-top: 0; padding-bottom: 0;\">\n",
    "    \n",
    "<h2 id=\"Using The Function equal\" style=\"color: #d42c06;\">Using The Function equal</h2>\n",
    "<ul>\n",
    "    <li>The equal function can be used to compare dates\n",
    "in this manner\n",
    "</ul>\n",
    "</div>"
   ]
  },
  {
   "cell_type": "markdown",
   "metadata": {},
   "source": [
    "```cpp\n",
    "\n",
    "        if ( equal( today, bach_birthday) )\n",
    "            cout << \"It's Bach's birthday!\";\n",
    "\n",
    "```"
   ]
  },
  {
   "cell_type": "markdown",
   "metadata": {},
   "source": [
    "<div style=\"font-family: arial; padding: 30px; padding-top: 0; padding-bottom: 0;\">\n",
    "<ul>\n",
    "    <li>A complete program using function equal is\n",
    "found in :\n",
    "</ul>\n",
    "</div>"
   ]
  },
  {
   "cell_type": "code",
   "execution_count": 1,
   "metadata": {
    "vscode": {
     "languageId": "cpp"
    }
   },
   "outputs": [],
   "source": [
    "#include <iostream>\n",
    "using namespace std;"
   ]
  },
  {
   "cell_type": "code",
   "execution_count": 2,
   "metadata": {
    "vscode": {
     "languageId": "cpp"
    }
   },
   "outputs": [
    {
     "name": "stdout",
     "output_type": "stream",
     "text": [
      "Enter today`s date:\n",
      "Enter the month as a number: Enter the day of the month: Today`s date is month = 2, day = 2\n",
      "J. S. Bach`s birthday is month = 3, day = 21\n",
      "Happy Unbirthday Johann Sebastian!\n"
     ]
    }
   ],
   "source": [
    "{\n",
    "    // Program to demonstrate the function equal. The class DayOfYear\n",
    "    // is the same as in Self-Test Exercises 23-24 in Chapter 10.\n",
    "    class DayOfYear\n",
    "    {\n",
    "    public:\n",
    "        DayOfYear(int theMonth, int theDay)\n",
    "        {\n",
    "            month = theMonth;\n",
    "            day = theDay;\n",
    "            // checkDate();\n",
    "        }\n",
    "        //Precondintion: theMonth and theDay form and\n",
    "        //possible date. Initializes the date according \n",
    "        //to the aruments.\n",
    "\n",
    "        DayOfYear()\n",
    "        {\n",
    "            \n",
    "        }\n",
    "        //Initializes the date to January first.\n",
    "\n",
    "        void input()\n",
    "        {\n",
    "            cout << \"Enter the month as a number: \";\n",
    "            cin >> month;\n",
    "            cout << \"Enter the day of the month: \";\n",
    "            cin >> day;\n",
    "        }\n",
    "\n",
    "        void output()\n",
    "        {\n",
    "            cout << \"month = \" << month\n",
    "            << \", day = \" << day << endl;\n",
    "        }\n",
    "\n",
    "        int getMonth()\n",
    "        {\n",
    "            return month;\n",
    "        }\n",
    "        //Returns the month, 1 for January, 2 for February, etc.\n",
    "\n",
    "        int getDay()\n",
    "        {\n",
    "            return day;\n",
    "        }\n",
    "        //Returns the day of the month.\n",
    "\n",
    "    private:\n",
    "        void checkDate();\n",
    "        int month;\n",
    "        int day;\n",
    "    };\n",
    "\n",
    "    //Precondition: date1 and date2 have values.\n",
    "    //Returns true if date1 and date2 represent the same date;\n",
    "    //otherwise, returns false.\n",
    "\n",
    "    DayOfYear today, bachBirthday(3, 21);\n",
    "    cout << \"Enter today`s date:\\n\";\n",
    "    today.input();\n",
    "    cout << \"Today`s date is \";\n",
    "    today.output();\n",
    "\n",
    "    cout<<\"J. S. Bach`s birthday is \";\n",
    "\n",
    "    bachBirthday.output();\n",
    "    if (today.getMonth() == bachBirthday.getMonth() && today.getDay() == bachBirthday.getDay())\n",
    "        cout << \"Happy Birthday Johann Sebastian!\\n\";\n",
    "    else\n",
    "        cout << \"Happy Unbirthday Johann Sebastian!\\n\";\n",
    "    }"
   ]
  },
  {
   "cell_type": "markdown",
   "metadata": {},
   "source": [
    "<div style=\"font-family: arial; padding: 30px; padding-top: 0; padding-bottom: 0;\">\n",
    "    \n",
    "<h2 id=\"Is equal Efficient?\" style=\"color: #d42c06;\">Is equal Efficient?</h2>\n",
    "<ul>\n",
    "    <li> Function equal could be made more efficient\n",
    "    <ul>\n",
    "        <li> Equal uses member function calls to obtain the\n",
    "private data values\n",
    "        <li> Direct access of the member variables would\n",
    "be more efficient (faster)\n",
    "    </ul>\n",
    "</ul>\n",
    "</div>"
   ]
  },
  {
   "cell_type": "markdown",
   "metadata": {},
   "source": [
    "<div style=\"font-family: arial; padding: 30px; padding-top: 0; padding-bottom: 0;\">\n",
    "    \n",
    "<h2 id=\"A More Efficient equal\" style=\"color: #d42c06;\">A More Efficient equal</h2>\n",
    "<ul>\n",
    "    <li> As defined here, equal is more efficient,\n",
    "but not legal\n",
    "\n",
    "</ul>\n",
    "</div>"
   ]
  },
  {
   "cell_type": "markdown",
   "metadata": {},
   "source": [
    "```cpp\n",
    "\n",
    "        bool equal(DayOfYear date1, DayOfYear date2)\n",
    "        {\n",
    "\n",
    "        return (date1.month = = date2.month\n",
    "\n",
    "        &&\n",
    "\n",
    "        date1.day = = date2.day );\n",
    "\n",
    "        }\n",
    "\n",
    "```"
   ]
  },
  {
   "cell_type": "markdown",
   "metadata": {},
   "source": [
    "<div style=\"font-family: arial; padding: 30px; padding-top: 0; padding-bottom: 0;\">\n",
    "    \n",
    "<ul>\n",
    "    <ul>\n",
    "        <li> Equal uses member function calls to obtain the\n",
    "private data values\n",
    "        <li> Direct access of the member variables would\n",
    "be more efficient (faster)\n",
    "    </ul>\n",
    "</ul>\n",
    "</div>"
   ]
  },
  {
   "cell_type": "markdown",
   "metadata": {},
   "source": [
    "<div style=\"font-family: arial; padding: 30px; padding-top: 0; padding-bottom: 0;\">\n",
    "    \n",
    "<h2 id=\"Friend Functions\" style=\"color: #d42c06;\">Friend Functions</h2>\n",
    "<ul>\n",
    "    <li> Friend functions are not members of a class, but\n",
    "can access private member variables of the class\n",
    "    <ul>\n",
    "        <li> A friend function is declared using the keyword\n",
    "friend in the class definition\n",
    "        <ul>\n",
    "            <li> A friend function is not a member function\n",
    "            <li> A friend function is an ordinary function\n",
    "            <li> A friend function has extraordinary access to data\n",
    "members of the class\n",
    "        </ul>\n",
    "        <li> As a friend function, the more efficient version\n",
    "        of equal is legal\n",
    "    </ul>\n",
    "</ul>\n",
    "</div>"
   ]
  },
  {
   "cell_type": "markdown",
   "metadata": {},
   "source": [
    "<div style=\"font-family: arial; padding: 30px; padding-top: 0; padding-bottom: 0;\">\n",
    "    \n",
    "<h2 id=\"Declaring A Friend\" style=\"color: #d42c06;\">Declaring A Friend</h2>\n",
    "<ul>\n",
    "    <li> The function equal is declared a friend in the\n",
    "abbreviated class definition here\n",
    "</ul>\n",
    "</div>"
   ]
  },
  {
   "cell_type": "markdown",
   "metadata": {},
   "source": [
    "```cpp\n",
    "        class DayOfYear\n",
    "        {\n",
    "            public:\n",
    "                friend bool equal(DayOfYear date1,\n",
    "                                DayOfYear date2);\n",
    "            // The rest of the public members\n",
    "            private:\n",
    "            // the private members\n",
    "\n",
    "        };\n",
    "```"
   ]
  },
  {
   "cell_type": "markdown",
   "metadata": {},
   "source": [
    "<div style=\"font-family: arial; padding: 30px; padding-top: 0; padding-bottom: 0;\">\n",
    "    \n",
    "<h2 id=\"Using A Friend Function\" style=\"color: #d42c06;\">Using A Friend Function</h2>\n",
    "<ul>\n",
    "    <li> A friend function is declared as a friend in the\n",
    "class definition\n",
    "    <li> A friend function is defined as a nonmember\n",
    "function without using the \"::\" operator\n",
    "    <li> A friend function is called without using the\n",
    "'.' operator\n",
    "</ul>\n",
    "</div>"
   ]
  },
  {
   "cell_type": "markdown",
   "metadata": {
    "vscode": {
     "languageId": "cpp"
    }
   },
   "source": [
    "```cpp\n",
    "        //Demonstrates the function equal.\n",
    "        //In this version equal is a fiend of the class DayOfYear.\n",
    "        #include <iostream>\n",
    "        using namespace std;\n",
    "\n",
    "        class DayOfYear\n",
    "        {\n",
    "          public:\n",
    "            friend bool equal(DayOfYear date1, DayOfYear date2);\n",
    "            //Precondition: date1 abd date 2 have values.\n",
    "            //Returns true if date1 and date2 represent the same date;\n",
    "            //otherwise, returns false.\n",
    "\n",
    "            DayOfYear(int theMonth, int theDay);\n",
    "            //Precondition: theMonth and theDay form a \n",
    "            //posible date. Initializes the date according\n",
    "            //to the arguments.\n",
    "\n",
    "            DayOfYear();\n",
    "            //Initializes the date to January first.\n",
    "\n",
    "            void input();\n",
    "\n",
    "            void output();\n",
    "\n",
    "            int getMonth();\n",
    "            //Retruns the month, 1 for January, 2 for February, etc.\n",
    "\n",
    "            int getDay();\n",
    "            //Retruns the day of the month.\n",
    "           private:\n",
    "            void checkDate();\n",
    "            int month;\n",
    "            int day;\n",
    "        };\n",
    "\n",
    "            int main()\n",
    "            {\n",
    "                DayOfYear today, bachBirthday(3, 21);\n",
    "                cout << \"Enter today`s date:\\n\";\n",
    "                today.input()\n",
    "                cout << \"Today`s date is \";\n",
    "                today.output();\n",
    "\n",
    "                cout<<\"J. S. Bach`s birthday is \";\n",
    "\n",
    "                bachBirthday.output();\n",
    "                if (equal(today, bachBirthday))\n",
    "                    cout << \"Happy Birthday Johann Sebastian!\\n\";\n",
    "                else\n",
    "                    cout << \"Happy Unbirthday Johann Sebastian!\\n\";\n",
    "\n",
    "                return 0;\n",
    "            }\n",
    "\n",
    "            bool equal(DayOfYear date1, DayOfYear date2)\n",
    "            {\n",
    "                return equal(date1.month == date2.month &&\n",
    "                            date1.day == date2.day);\n",
    "                //Note that the private member variables month \n",
    "                //and day can be accessed by name. \n",
    "            }\n",
    "\n",
    "            //<The rest of this display, including the Sample Dialogue,\n",
    "            // is the same as in Display 11.1.>\n",
    "```\n"
   ]
  },
  {
   "cell_type": "markdown",
   "metadata": {},
   "source": [
    "<div style=\"font-family: arial; padding: 30px; padding-top: 0; padding-bottom: 0;\">\n",
    "    \n",
    "<h2 id=\"Friend Declaration Syntax\" style=\"color: #d42c06;\">Friend Declaration Syntax</h2>\n",
    "<ul>\n",
    "    <li> The syntax for declaring friend function is\n",
    "</ul>\n",
    "</div>"
   ]
  },
  {
   "cell_type": "markdown",
   "metadata": {},
   "source": [
    "```cpp\n",
    "        class class_name\n",
    "        {\n",
    "        public:\n",
    "\n",
    "        friend Declaration_for_Friend_Function_1\n",
    "        friend Declaration_for_Friend_Function_2\n",
    "        ...\n",
    "        Member_Function_Declarations\n",
    "\n",
    "        private:\n",
    "\n",
    "        Private_Member_Declarations\n",
    "\n",
    "        };\n",
    "\n",
    "```"
   ]
  },
  {
   "cell_type": "markdown",
   "metadata": {},
   "source": [
    "<div style=\"font-family: arial; padding: 30px; padding-top: 0; padding-bottom: 0;\">\n",
    "    \n",
    "<h2 id=\"Are Friends Needed?\" style=\"color: #d42c06;\">Are Friends Needed?</h2>\n",
    "<ul>\n",
    "    <li> Friend functions can be written as non-friend\n",
    "functions using the normal accessor and mutator\n",
    "functions that should be part of the class\n",
    "    <li> The code of a friend function is simpler and it is\n",
    "more efficient\n",
    "</ul>\n",
    "</div>"
   ]
  },
  {
   "cell_type": "markdown",
   "metadata": {},
   "source": [
    "<div style=\"font-family: arial; padding: 30px; padding-top: 0; padding-bottom: 0;\">\n",
    "    \n",
    "<h2 id=\"Choosing Friends\" style=\"color: #d42c06;\">Choosing Friends</h2>\n",
    "<ul>\n",
    "    <li> How do you know when a function should be\n",
    "a friend or a member function?\n",
    "        <ul>\n",
    "            <li> In general, use a member function if the task\n",
    "performed by the function involves only one object\n",
    "            <li> In general, use a nonmember function if the task\n",
    "performed by the function involves more than\n",
    "one object\n",
    "            <ul>\n",
    "                <li> Choosing to make the nonmember function a friend is\n",
    "a decision of efficiency and personal taste\n",
    "            </ul>\n",
    "        </ul>\n",
    "</ul>\n",
    "</div>"
   ]
  },
  {
   "cell_type": "markdown",
   "metadata": {},
   "source": [
    "<div style=\"font-family: arial; padding: 30px; padding-top: 0; padding-bottom: 0;\">\n",
    "    \n",
    "<h2 id=\"Program Example:The Money Class (version 1)\" style=\"color: #d42c06;\">Program Example:<br>\n",
    "The Money Class (version 1)</h2>\n",
    "<ul>\n",
    "    <li> Display 11.3 demonstrates a class called Money\n",
    "        <ul>\n",
    "            <li> U.S. currency is represented\n",
    "            <li> Value is implemented as an integer\n",
    "representing the value as if converted to\n",
    "pennies\n",
    "one object\n",
    "            <ul>\n",
    "                <li> An integer allows exact representation of the value\n",
    "                <li> Type long is used to allow larger values\n",
    "            </ul>    \n",
    "            <li> Two friend functions, equal and add, are used\n",
    "        </ul>\n",
    "</ul>\n",
    "</div>"
   ]
  },
  {
   "cell_type": "markdown",
   "metadata": {},
   "source": [
    "<div style=\"font-family: arial; padding: 30px; padding-top: 0; padding-bottom: 0;\">\n",
    "    \n",
    "<h2 style=\"color: #d42c06;\">the money class </h2>\n",
    "\n",
    "\n",
    "</div>"
   ]
  },
  {
   "cell_type": "markdown",
   "metadata": {},
   "source": [
    "```cpp\n",
    "//Program to demonstrate the class Money.\n",
    "#include <iostream>\n",
    "#include <cstdlib>\n",
    "#include <cctype>\n",
    "\n",
    "using namespace std;\n",
    "//Class for amounts of money in U.S. currency.\n",
    "\n",
    "class Money\n",
    "{\n",
    "public:\n",
    "    friend Money add(Money amount1, Money amount2);\n",
    "    //Precondition: amount1 and amount2 have been given values.\n",
    "    //Returns the sum of the values of amount1 and amount2.\n",
    "\n",
    "    friend bool equal(Money amount1, Money amount2);\n",
    "    //Precondition: amount1 and amount2 have been given values.\n",
    "    //Returns true if the amount1 and amount2 have the same value;\n",
    "    //otherwise, returns false.\n",
    "    \n",
    "    Money(long dollars, int cents);\n",
    "    //Initializes the object so its value represents an amount with the\n",
    "    //dollars and cents given by the arguments. If the amount is negative,\n",
    "    //then both dollars and cents must be negative.\n",
    "    \n",
    "    Money(long dollars);\n",
    "    //Initializes the object so its value represents $dollars.00.\n",
    "    \n",
    "    Money( );\n",
    "    //Initializes the object so its value represents $0.00.\n",
    "    \n",
    "    double getValue( );\n",
    "    //Precondition: The calling object has been given a value.\n",
    "    //Returns the amount of money recorded in the data of the calling object.\n",
    "    \n",
    "    void input(istream& ins);\n",
    "    //Precondition: If ins is a file input stream, then ins has already been\n",
    "    //connected to a file. An amount of money, including a dollar sign, has been\n",
    "    //entered in the input stream ins. Notation for negative amounts is -$100.00.\n",
    "    //Postcondition: The value of the calling object has been set to\n",
    "    //the amount of money read from the input stream ins.\n",
    "    \n",
    "    void output(ostream& outs);\n",
    "    //Precondition: If outs is a file output stream, then outs has already been\n",
    "    //connected to a file.\n",
    "    //Postcondition: A dollar sign and the amount of money recorded\n",
    "    //in the calling object have been sent to the output stream outs.\n",
    "\n",
    "private:\n",
    "    long allCents;\n",
    "};\n",
    "\n",
    "\n",
    "int main(){\n",
    "    Money yourAmount, myAmount(10, 9), ourAmount;\n",
    "    cout << \"Enter an amount of money: \";\n",
    "    yourAmount.input(cin);\n",
    "    cout << \"Your amount is \";\n",
    "    yourAmount.output(cout);\n",
    "    cout << endl;\n",
    "    cout << \"My amount is \";\n",
    "    myAmount.output(cout);\n",
    "    cout << endl;\n",
    "    if (equal(yourAmount, myAmount))\n",
    "        cout << \"We have the same amounts.\\n\";\n",
    "    else\n",
    "        cout << \"One of us is richer.\\n\";\n",
    "    ourAmount = add(yourAmount, myAmount);\n",
    "    yourAmount.output(cout);\n",
    "    cout << \" + \";\n",
    "    myAmount.output(cout);\n",
    "    cout << \" equals \";\n",
    "    ourAmount.output(cout);\n",
    "    cout << endl;\n",
    "}\n",
    "\n",
    "\n",
    "\n",
    "int digitToInt(char c)\n",
    "{\n",
    "    return (static_cast<int>(c) - static_cast<int>('0'));\n",
    "}\n",
    "Money add(Money amount1, Money amount2)\n",
    "{\n",
    "    Money temp;\n",
    "\n",
    "    temp.allCents = amount1.allCents + amount2.allCents;\n",
    "    return temp;\n",
    "}\n",
    "bool equal(Money amount1, Money amount2)\n",
    "{\n",
    "    return (amount1.allCents == amount2.allCents);\n",
    "}\n",
    "\n",
    "Money::Money(long dollars, int cents)\n",
    "{\n",
    "    if (dollars * cents < 0) //If one is negative and one is positive\n",
    "    {\n",
    "        cout << \"Error illegal form for money input\\n\";\n",
    "        exit(1);\n",
    "    }\n",
    "\n",
    "    allCents = dollars * 100 + cents;\n",
    "}\n",
    "Money::Money(): allCents(0){}\n",
    "Money::Money(long dollars): allCents(dollars*100){}\n",
    "void Money::input(istream& ins){\n",
    "    char oneChar, decimalPoint, digit1, digit2;\n",
    "    long dollars;\n",
    "    int cents;\n",
    "    bool negative;\n",
    "\n",
    "    ins >> oneChar;\n",
    "    if (oneChar == ' '){\n",
    "        negative = true;\n",
    "        ins >> oneChar; //read $\n",
    "    }else\n",
    "        negative = false;\n",
    "    ins >> dollars >> decimalPoint >> digit1 >> digit2;\n",
    "    if ( oneChar != '$' || decimalPoint != '.' ||\n",
    "        !isdigit(digit1) || !isdigit(digit2)){\n",
    "        cout << \"Error illegal form from money input\\n\";\n",
    "        exit(1);\n",
    "    }\n",
    "\n",
    "    cents = digitToInt(digit1) * 10 + digitToInt(digit2);\n",
    "    allCents = dollars * 100 + cents;\n",
    "    if(negative)\n",
    "        allCents = - allCents;\n",
    "}\n",
    "//Uses cstdlib and iostream:\n",
    "\n",
    "void Money::output(ostream& outs)\n",
    "{\n",
    "    long positiveCents, dollars, cents;\n",
    "    positiveCents = labs(allCents);\n",
    "    dollars = positiveCents / 100;\n",
    "    cents = positiveCents % 100;\n",
    "\n",
    "    if (allCents < 0)\n",
    "        outs << \"-$\" << dollars << '.';\n",
    "    else\n",
    "        outs << \"$\" << dollars << '.';\n",
    "    \n",
    "    if (cents < 10)\n",
    "        outs << '0';\n",
    "    outs << cents;\n",
    "}\n",
    "```"
   ]
  },
  {
   "cell_type": "markdown",
   "metadata": {},
   "source": [
    "<div style=\"font-family: arial; padding: 30px; padding-top: 0; padding-bottom: 0;\">\n",
    "    \n",
    "<h2  style=\"color: #d42c06;\">Characters to Integers</h2>\n",
    "\n",
    "</div>"
   ]
  },
  {
   "cell_type": "markdown",
   "metadata": {},
   "source": [
    "<div style=\"font-size: 1.1em; font-family: arial; padding: 30px; padding-top: 0; padding-bottom: 0;\">\n",
    "\n",
    "\n",
    "<div style=\"font-size: 1em; font-family: arial; margin-top: 20px;\">\n",
    "    <ul>\n",
    "        <p>Notice how function input (Display 11.3) processes the dollar values entered:</p>\n",
    "        <li>First read the character that is a dollar sign or a dash.</li>\n",
    "        <li>If it is the -, set the value of negative to true and read the $ sign which should be next.</li>\n",
    "        <li>Next read the dollar amount as a long.</li>\n",
    "        <li>Next read the decimal point and cents as three characters.</li>\n",
    "        <li>digitToInt is then used to convert the cents characters to integers.</li>\n",
    "        </ul>\n",
    "    \n",
    "</div>\n",
    "\n",
    "</div>\n"
   ]
  },
  {
   "cell_type": "markdown",
   "metadata": {},
   "source": [
    "<div style=\"font-family: arial; padding: 30px; padding-top: 0; padding-bottom: 0;\">\n",
    "    \n",
    "<h2  style=\"color: #d42c06;\">digitToInt(optional)</h2>\n",
    "\n",
    "</div>"
   ]
  },
  {
   "cell_type": "markdown",
   "metadata": {},
   "source": [
    "<div style=\"font-size: 1.1em; font-family: arial; padding: 30px; padding-top: 0; padding-bottom: 0;\">\n",
    "\n",
    "\n",
    "\n",
    "<p><strong>digitToInt is defined as:</strong></p>\n",
    "<pre>\n",
    "int digitToInt(char c)\n",
    "{\n",
    "    return (static_cast&lt;int&gt;(c) - static_cast&lt;int&gt;('0'));\n",
    "}\n",
    "</pre>\n",
    "<p><strong>Explanation:</strong></p>\n",
    "<ul>\n",
    "    <li>A digit, such as '3', is parameter <em>c</em>.</li>\n",
    "    <li>This is the character '3', not the number 3.</li>\n",
    "    <li>The type cast <code>static_cast&lt;int&gt;(c)</code> returns the number that implements the character stored in <em>c</em>.</li>\n",
    "    <li>The type cast <code>static_cast&lt;int&gt;('0')</code> returns the number that implements the character '0'.</li>\n",
    "</ul>\n",
    "\n",
    "</div>\n"
   ]
  },
  {
   "cell_type": "markdown",
   "metadata": {},
   "source": [
    "<div style=\"font-family: arial; padding: 30px; padding-top: 0; padding-bottom: 0;\">\n",
    "    \n",
    "<h2  style=\"color: #d42c06;\">int(c) – int ('0')?</h2>\n",
    "\n",
    "</div>"
   ]
  },
  {
   "cell_type": "markdown",
   "metadata": {},
   "source": [
    "<div style=\"font-size: 1.1em; font-family: arial; padding: 30px; padding-top: 0; padding-bottom: 0;\">\n",
    "\n",
    "<p>The numbers implementing the digits are in order:</p>\n",
    "<ul>\n",
    "    <li><code>int('0') + 1</code> is equivalent to <code>int('1')</code>.</li>\n",
    "    <li><code>int('1') + 1</code> is equivalent to <code>int('2')</code>.</li>\n",
    "</ul>\n",
    "\n",
    "<p>If <code>c</code> is '0':</p>\n",
    "<ul>\n",
    "    <li><code>int(c) - int('0')</code> returns integer 0.</li>\n",
    "</ul>\n",
    "\n",
    "<p>If <code>c</code> is '1':</p>\n",
    "<ul>\n",
    "    <li><code>int(c) – int('0')</code> returns integer 1.</li>\n",
    "</ul>\n",
    "\n",
    "</div>\n",
    "\n"
   ]
  },
  {
   "cell_type": "markdown",
   "metadata": {},
   "source": [
    "<div style=\"font-family: arial; padding: 30px; padding-top: 0; padding-bottom: 0;\">\n",
    "    \n",
    "<h2  style=\"color: #d42c06;\">Leading Zeros</h2>\n",
    "\n",
    "</div>"
   ]
  },
  {
   "cell_type": "markdown",
   "metadata": {},
   "source": [
    "<div style=\"font-size: 1.1em; font-family: arial; padding: 30px; padding-top: 0; padding-bottom: 0;\">\n",
    "\n",
    "<p>Some compilers interpret a number with a leading zero as a base 8 number.</p>\n",
    "<ul>\n",
    "    <li>Base 8 uses digits 0–7.</li>\n",
    "</ul>\n",
    "<p>Using 09 to represent 9 cents could cause an error.</p>\n",
    "<ul>\n",
    "    <li>the digit 9 is not allowed in a base 8 number.</li>\n",
    "</ul>\n",
    "<p>The ANSI C++ standard is that input should be interpreted as base 10 regardless of a leading zero.</p>\n",
    "\n",
    "</div>\n",
    "\n"
   ]
  },
  {
   "cell_type": "markdown",
   "metadata": {},
   "source": [
    "<div style=\"font-family: arial; padding: 30px; padding-top: 0; padding-bottom: 0;\">\n",
    "    \n",
    "<h2  style=\"color: #d42c06;\">Parameter Passing Efficiency</h2>\n",
    "\n",
    "</div>"
   ]
  },
  {
   "cell_type": "markdown",
   "metadata": {},
   "source": [
    "<div style=\"font-size: 1.1em; font-family: arial; padding: 30px; padding-top: 0; padding-bottom: 0;\">\n",
    "\n",
    "\n",
    "<p>A call-by-value parameter is less efficient than a call-by-reference parameter.\n",
    "    <ul>\n",
    "        <li>The parameter is a local variable initialized to the value of the argument.\n",
    "            <ul>\n",
    "                <li>This results in two copies of the argument.</li>\n",
    "            </ul>\n",
    "        </li>\n",
    "    </ul>\n",
    "</p>\n",
    "<p>A call-by-reference parameter is more efficient.\n",
    "    <ul>\n",
    "        <li>The parameter is a placeholder replaced by the argument.\n",
    "            <ul>\n",
    "                <li>There is only one copy of the argument.</li>\n",
    "            </ul>\n",
    "        </li>\n",
    "    </ul>\n",
    "</p>\n",
    "\n",
    "</div>\n"
   ]
  },
  {
   "cell_type": "markdown",
   "metadata": {},
   "source": [
    "<div style=\"font-family: arial; padding: 30px; padding-top: 0; padding-bottom: 0;\">\n",
    "    \n",
    "<h2  style=\"color: #d42c06;\">Class Parameters</h2>\n",
    "\n",
    "</div>"
   ]
  },
  {
   "cell_type": "markdown",
   "metadata": {},
   "source": [
    "<div style=\"font-size: 1.1em; font-family: arial; padding: 30px; padding-top: 0; padding-bottom: 0;\">\n",
    "<ul>\n",
    "<li> It can be much more efficient to use call-by-reference parameters when the parameter is of a class type.</li>\n",
    "<li>When using a call-by-reference parameter.</li>\n",
    "    <ul>\n",
    "<li> If the function does not change the value of the parameter, mark the parameter so the compiler knows it should not be changed.</li>\n",
    "    </ul>\n",
    "</ul>\n",
    "</div> \n"
   ]
  },
  {
   "cell_type": "markdown",
   "metadata": {},
   "source": [
    "<div style=\"font-family: arial; padding: 30px; padding-top: 0; padding-bottom: 0;\">\n",
    "    \n",
    "<h2  style=\"color: #d42c06;\">Const Parameter Modifier</h2>\n",
    "\n",
    "</div>"
   ]
  },
  {
   "cell_type": "markdown",
   "metadata": {},
   "source": [
    "<div style=\"font-size: 1.1em; font-family: arial; padding: 30px; padding-top: 0; padding-bottom: 0;\">\n",
    "\n",
    "<p> To mark a call-by-reference parameter so it cannot be changed:</p>\n",
    "<ul>\n",
    "   <li> Use the modifier <strong>const</strong> before the parameter type.</li>\n",
    "   <li> The parameter becomes a constant parameter.</li>\n",
    "   <li><strong>const</strong> used in the function declaration and definition.</li>\n",
    "</ul>\n",
    "\n",
    "</div> \n"
   ]
  },
  {
   "cell_type": "markdown",
   "metadata": {},
   "source": [
    "<div style=\"font-family: arial; padding: 30px; padding-top: 0; padding-bottom: 0;\">\n",
    "    \n",
    "<h2  style=\"color: #d42c06;\">const Parameter Example</h2>\n",
    "\n",
    "</div>"
   ]
  },
  {
   "cell_type": "markdown",
   "metadata": {},
   "source": [
    "<div style=\"font-size: 1.1em; font-family: arial; padding: 30px; padding-top: 0; padding-bottom: 0;\">\n",
    "\n",
    "<p> Example (from the Money class of Display 11.3):</p>\n",
    "<ul>\n",
    "   <li> A function declaration with constant parameters:\n",
    "      <ul>\n",
    "         <li> <code>friend Money add(const Money& amount1, const Money& amount2);</code></li>\n",
    "      </ul>\n",
    "   </li>\n",
    "   <li> A function definition with constant parameters:\n",
    "      <ul>\n",
    "         <li> <code>Money add(const Money& amount1, const Money& amount2) \n",
    "    {<br>\n",
    "         ...<br>\n",
    "    }</code></li>\n",
    "      </ul>\n",
    "   </li>\n",
    "</ul>\n",
    "\n",
    "</div> \n",
    "\n"
   ]
  },
  {
   "cell_type": "markdown",
   "metadata": {},
   "source": [
    "<div style=\"font-family: arial; padding: 30px; padding-top: 0; padding-bottom: 0;\">\n",
    "    \n",
    "<h2  style=\"color: #d42c06;\">const Considerations</h2>\n",
    "\n",
    "</div>"
   ]
  },
  {
   "cell_type": "markdown",
   "metadata": {},
   "source": [
    "<div style=\"font-size: 1.1em; font-family: arial; padding: 30px; padding-top: 0; padding-bottom: 0;\">\n",
    "\n",
    "<p>When a function has a constant parameter, the compiler will make certain the parameter cannot be changed by the function.</p>\n",
    "<ul>\n",
    "    <li>What if the parameter calls a member function?</li>\n",
    "    <ul>\n",
    "        <li> Example:</li>\n",
    "        <li><code>Money add(const Money&amp; amount1, const Money&amp; amount2) \n",
    "        {<br>\n",
    "        ...<br>\n",
    "        amount1.input(cin);<br>\n",
    "        }</code></li>\n",
    "        <li> The call to <code>input</code> will change the value of <code>amount1</code>!</li>\n",
    "    </ul>\n",
    "</ul>\n",
    "\n",
    "</div> \n",
    "\n",
    "\n"
   ]
  },
  {
   "cell_type": "markdown",
   "metadata": {},
   "source": [
    "<div style=\"font-family: arial; padding: 30px; padding-top: 0; padding-bottom: 0;\">\n",
    "    \n",
    "<h2  style=\"color: #d42c06;\">const And Accessor Functions</h2>\n",
    "\n",
    "</div>"
   ]
  },
  {
   "cell_type": "markdown",
   "metadata": {},
   "source": [
    "<div style=\"font-size: 1.1em; font-family: arial; padding: 30px; padding-top: 0; padding-bottom: 0;\">\n",
    "<p>Will the compiler accept an accessor function call from the constant parameter?</p>\n",
    "<ul>\n",
    "    <li> Example:</li>\n",
    "    <li><code>Money add(const Money&amp; amount1, const Money&amp; amount2)\n",
    "    {<br>\n",
    "    ...<br>\n",
    "    amount1.output(cout);<br>\n",
    "    }</code></li>\n",
    "    <li>The compiler will not accept this code.\n",
    "        <ul>\n",
    "            <li> There is no guarantee that <code>output</code> will not change the value of the parameter.</li>\n",
    "        </ul>\n",
    "    </li>\n",
    "</ul>\n",
    "\n",
    "</div> \n",
    "\n"
   ]
  },
  {
   "cell_type": "markdown",
   "metadata": {},
   "source": [
    "<div style=\"font-family: arial; padding: 30px; padding-top: 0; padding-bottom: 0;\">\n",
    "    \n",
    "<h2  style=\"color: #d42c06;\">const Modifies Functions</h2>\n",
    "\n",
    "</div>"
   ]
  },
  {
   "cell_type": "markdown",
   "metadata": {},
   "source": [
    "<div style=\"font-size: 1.1em; font-family: arial; padding: 30px; padding-top: 0; padding-bottom: 0;\">\n",
    "<p> If a constant parameter makes a member function call...</p>\n",
    "<ul>\n",
    "   <li>The member function called must be marked so the compiler knows it will not change the parameter.</li>\n",
    "   <li> <strong>const</strong> is used to mark functions that will not change the value of an object.</li>\n",
    "   <li><strong>const</strong> is used in the function declaration and the function definition.</li>\n",
    "</ul>\n",
    "</div> \n"
   ]
  },
  {
   "cell_type": "markdown",
   "metadata": {},
   "source": [
    "<div style=\"font-family: arial; padding: 30px; padding-top: 0; padding-bottom: 0;\">\n",
    "    \n",
    "<h2  style=\"color: #d42c06;\">Function Declarations With const</h2>\n",
    "\n",
    "</div>"
   ]
  },
  {
   "cell_type": "markdown",
   "metadata": {},
   "source": [
    "<div style=\"font-size: 1.1em; font-family: arial; padding: 30px; padding-top: 0; padding-bottom: 0;\">\n",
    "<p>To declare a function that will not change the value of any member variables:</p>\n",
    "<ul>\n",
    "   <li> Use <strong>const</strong> after the parameter list and just before the semicolon.</li>\n",
    "</ul>\n",
    "<p>Example in class declaration:</p>\n",
    "<code>class Money {\n",
    "public: \n",
    "...\n",
    "void output(ostream& outs) const; \n",
    "...\n",
    "}</code>\n",
    "\n",
    "\n",
    "</div> \n"
   ]
  },
  {
   "cell_type": "markdown",
   "metadata": {},
   "source": [
    "<div style=\"font-family: arial; padding: 30px; padding-top: 0; padding-bottom: 0;\">\n",
    "    \n",
    "<h2  style=\"color: #d42c06;\">const Problem Solved</h2>\n",
    "\n",
    "</div>"
   ]
  },
  {
   "cell_type": "markdown",
   "metadata": {},
   "source": [
    "\n",
    "<div style=\"font-size: 1.1em; font-family: arial; padding: 30px; padding-top: 0; padding-bottom: 0;\">\n",
    "<ul>\n",
    "<li> Now that <code>output</code> is declared and defined using the <strong>const</strong> modifier, the compiler will accept this code:</li>\n",
    "<li><code>Money add(const Money&amp; amount1, const Money&amp; amount2)\n",
    "{... \n",
    "amount1.output(cout);\n",
    "}</code></li>\n",
    "</ul>\n",
    "</div> \n"
   ]
  },
  {
   "cell_type": "markdown",
   "metadata": {},
   "source": [
    "<div style=\"font-family: arial; padding: 30px; padding-top: 0; padding-bottom: 0;\">\n",
    "    \n",
    "<h2  style=\"color: #d42c06;\">const Wrapup</h2>\n",
    "\n",
    "</div>"
   ]
  },
  {
   "cell_type": "markdown",
   "metadata": {},
   "source": [
    "<div style=\"font-size: 1.1em; font-family: arial; padding: 30px; padding-top: 0; padding-bottom: 0;\">\n",
    "\n",
    "<ul> <li> Using <strong>const</strong> to modify parameters of class types improves program efficiency:</li>\n",
    "<ul>\n",
    "    <li><strong>const</strong> is typed in front of the parameter's type.</li>\n",
    "</ul>\n",
    "<li>Member functions called by constant parameters must also use <strong>const</strong> to let the compiler know they do not change the value of the parameter:</li>\n",
    "<ul>\n",
    "    <li><strong>const</strong> is typed following the parameter list in the declaration and definition.</li>\n",
    "</ul>\n",
    "</ul>\n",
    "</div> \n"
   ]
  },
  {
   "cell_type": "markdown",
   "metadata": {},
   "source": [
    "<div style=\"font-family: arial; padding: 30px; padding-top: 0; padding-bottom: 0;\">\n",
    "    \n",
    "<h2  style=\"color: #d42c06;\">The Class Money With Constant Parameters</h2>\n",
    "\n",
    "</div>"
   ]
  },
  {
   "cell_type": "code",
   "execution_count": null,
   "metadata": {},
   "outputs": [],
   "source": [
    "#include <iostream>\n",
    "using namespace std;"
   ]
  },
  {
   "cell_type": "markdown",
   "metadata": {
    "vscode": {
     "languageId": "c++"
    }
   },
   "source": [
    "```cpp\n",
    "//Class for amounts of money in U.S. currency.\n",
    "class Money\n",
    "{\n",
    "public:\n",
    "friend Money add(const Money& amount1, const Money& amount2);\n",
    "//Precondition: amount1 and amount2 have been given values.\n",
    "//Returns the sum of the values of amount1 and amount2.\n",
    "\n",
    "friend bool equal(const Money& amount1, const Money& amount2);\n",
    "//Precondition: amount1 and amount2 have been given values.\n",
    "//Returns true if amount1 and amount2 have the same value;\n",
    "//otherwise, returns false.\n",
    "\n",
    "Money(long dollars, int cents);\n",
    "//Initializes the object so its value represents an amount with the\n",
    "//dollars and cents given by the arguments. If the amount is negative,\n",
    "//then both dollars and cents must be negative.\n",
    "\n",
    "Money(long dollars);\n",
    "//Initializes the object so its value represents $dollars.00.\n",
    "\n",
    "Money();\n",
    "//Initializes the object so its value represents $0.00.\n",
    "\n",
    "double getValue() const;\n",
    "//Precondition: The calling object has been given a value.\n",
    "//Returns the amount of money recorded in the data of the calling object.\n",
    "\n",
    "void input(istream& ins);\n",
    "//Precondition: If ins is a file input stream, then ins has already been\n",
    "//connected to a file. An amount of money, including a dollar sign, has been\n",
    "//entered in the input stream ins. Notation for negative amounts is −$100.00.\n",
    "//Postcondition: The value of the calling object has been set to\n",
    "//the amount of money read from the input stream ins.\n",
    "\n",
    "void output(ostream& outs) const;\n",
    "//Precondition: If outs is a file output stream, then outs has already been\n",
    "//connected to a file.\n",
    "//Postcondition: A dollar sign and the amount of money recorded\n",
    "//in the calling object have been sent to the output stream outs.\n",
    "\n",
    "private:\n",
    "long allCents;\n",
    "};\n",
    "```"
   ]
  },
  {
   "cell_type": "markdown",
   "metadata": {},
   "source": [
    "<div style=\"font-family: arial; padding: 30px; padding-top: 0; padding-bottom: 0;\">\n",
    "    \n",
    "<h2  style=\"color: #d42c06;\">Use const Consistently</h2>\n",
    "\n",
    "</div>"
   ]
  },
  {
   "cell_type": "markdown",
   "metadata": {},
   "source": [
    "<div style=\"font-size: 1.1em; font-family: arial; padding: 30px; padding-top: 0; padding-bottom: 0;\">\n",
    "<ul>\n",
    "<li>Once a parameter is modified by using <strong>const</strong> to make it a constant parameter:</li>\n",
    "<ul>\n",
    "    <li>Any member functions that are called by the parameter must also be modified using <strong>const</strong> to tell the compiler they will not change the parameter.</li>\n",
    "    <li>It is a good idea to modify, with <strong>const</strong>, every member function that does not change a member variable.</li>\n",
    "</ul>\n",
    "</ul>\n",
    "\n",
    "</div> \n"
   ]
  },
  {
   "cell_type": "markdown",
   "metadata": {},
   "source": [
    "<div style=\"font-family: arial; padding: 30px; padding-top: 0; padding-bottom: 0;\">\n",
    "    \n",
    "<h2 id=\"conclusion\" style=\"color: #d42c06;\">Conclusion</h2>\n",
    "\n",
    "</div>"
   ]
  },
  {
   "cell_type": "markdown",
   "metadata": {},
   "source": [
    "\n",
    "<div style=\"font-size: 1.1em; font-family: arial; padding: 30px; padding-top: 0; padding-bottom: 0;\">\n",
    "<ul>\n",
    "<li>Can you...</li>\n",
    "<ul>\n",
    "    <li>Describe the promise that you make to the compiler when you modify a parameter with <strong>const</strong>?\n",
    "    <li> Explain why this declaration is probably not correct?\n",
    "        <ul>\n",
    "            <li>\n",
    "               <pre> <code>class Money \n",
    "                {\n",
    "                 ... \n",
    "                public:\n",
    "                       void input(istream&amp; ins) const;\n",
    "                 ... \n",
    "                };</code></pre>\n",
    "</ul>\n",
    "</ul>\n",
    "</div> \n"
   ]
  },
  {
   "cell_type": "markdown",
   "metadata": {},
   "source": [
    "<div style=\"font-family: arial; padding: 30px; padding-top: 0; padding-bottom: 0;\">\n",
    "    \n",
    "<h2 style=\"color: #d42c06;\">References</h2>\n",
    "\n",
    "<ul>\n",
    "    <li>Walter J. Savitch. Problem Solving with C++, Tenth Edition. 2018.</li>\n",
    "</ul>\n",
    "\n",
    "<hr style=\"margin-top: 25px; border-color: #fff;\">\n",
    "\n",
    "</div>"
   ]
  }
 ],
 "metadata": {
  "kernelspec": {
   "display_name": "C++17",
   "language": "C++17",
   "name": "xcpp17"
  },
  "language_info": {
   "codemirror_mode": "text/x-c++src",
   "file_extension": ".cpp",
   "mimetype": "text/x-c++src",
   "name": "c++",
   "version": "-std=c++17"
  }
 },
 "nbformat": 4,
 "nbformat_minor": 2
}

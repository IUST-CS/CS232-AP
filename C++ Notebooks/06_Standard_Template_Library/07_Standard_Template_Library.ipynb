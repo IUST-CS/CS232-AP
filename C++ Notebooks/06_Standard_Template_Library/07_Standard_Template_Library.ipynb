{
 "cells": [
  {
   "cell_type": "markdown",
   "id": "883aa48a",
   "metadata": {},
   "source": [
    "<div style=\"font-family: arial; padding: 30px; padding-bottom: 0;\">\n",
    "\n",
    "<h4 style=\"text-align: center;\">In the Name of God</h4>\n",
    "\n",
    "<h2 style=\"text-align: center; color: #103bc9;\">CS232 - Advanced Programming</h2>\n",
    "\n",
    "<h3 style=\"text-align: center; color: #d42c06;\">Iran University of Science and Technology</h3>\n",
    "    \n",
    "<h3 style=\"text-align: center; color: #d42c06;\">School of Mathematics and Computer Science</h3>\n",
    "\n",
    "<h4 style=\"padding-top: 7px; text-align: center;\">Winter-Spring 2024</h4>\n",
    "\n",
    "<hr style=\"margin-top: 25px; border-color: #fff;\">\n",
    "\n",
    "<h1 style=\"text-align: center; color: #9c0000;\">Chapter 18: Standard Template Library and C++11</h1>\n",
    "\n",
    "<h3 style=\"padding-top: 7px; text-align: center;\">Ali Zargar, Herbod Pourali</h3>\n",
    "\n",
    "<hr style=\"margin-top: 25px; border-color: #fff;\">\n",
    "\n",
    "</div>"
   ]
  },
  {
   "cell_type": "markdown",
   "id": "2c07689c",
   "metadata": {},
   "source": [
    "<div style=\"font-family: arial; padding: 30px; padding-bottom: 0;\">\n",
    "\n",
    "<hr style=\"margin-top: 25px; border-color: #fff;\">\n",
    "\n",
    "<h2 style=\"text-align: center; color: #186e00;\">Section 1: Iterators</h2>\n",
    "\n",
    "<hr style=\"margin-top: 25px; border-color: #fff;\">\n",
    "\n",
    "</div>"
   ]
  },
  {
   "cell_type": "markdown",
   "id": "57e130df",
   "metadata": {},
   "source": [
    "<div style=\"font-family: arial; padding: 30px; padding-top: 0; padding-bottom: 0;\">\n",
    "    \n",
    "<h2 id=\"Helper Function\" style=\"color: #d42c06;\">Overview</h2>\n",
    "18.1 Iterators<br>\n",
    "18.2 Containers<br>\n",
    "18.3 Generic Algorithms<br>\n",
    "18.4 C++ Is Evolving<br>\n",
    "</div>"
   ]
  },
  {
   "cell_type": "markdown",
   "id": "bc343de5",
   "metadata": {},
   "source": [
    "<div style=\"font-family: arial; padding: 30px; padding-top: 0; padding-bottom: 0;\">\n",
    "    \n",
    "<h2 id=\"Classes To Produce ADTs\" style=\"color: #d42c06;\">Iterators</h2>\n",
    "STL has containers, algorithms and Iterators<br>\n",
    "<ul style=\"margin-right:50px\">\n",
    "    <li>Containers hold objects, all of a specified type\n",
    "    <li>Generic algorithms act on objects in containers\n",
    "    <li>Iterators provide access to objects in the containers\n",
    "\n",
    "</div>"
   ]
  },
  {
   "cell_type": "markdown",
   "id": "b717ea6d",
   "metadata": {},
   "source": [
    "<div style=\"font-family: arial; padding: 30px; padding-top: 0; padding-bottom: 0;\">\n",
    "    \n",
    "<h2 id=\"Classes To Produce ADTs\" style=\"color: #d42c06;\">Using Declarations</h2>\n",
    "Using declarations allow use of a function or\n",
    "name defined in a namespace:<br>\n",
    "<ul style=\"margin-right:50px\">\n",
    "    <li><code>using ns::fun( );</code>\n",
    "    <li><code>using ns::iterator;</code>\n",
    "    <li><code>using std::vector;</code>\n",
    "    <li><code>using std::vector<int> ::iterator;</code>\n",
    "\n",
    "</div>"
   ]
  },
  {
   "cell_type": "markdown",
   "id": "206567c0",
   "metadata": {},
   "source": [
    "<div style=\"font-family: arial; padding: 30px; padding-top: 0; padding-bottom: 0;\">\n",
    "    \n",
    "<h2 id=\"Classes To Produce ADTs\" style=\"color: #d42c06;\">Iterator Basics</h2>\n",
    "An iterator is a generalization of pointer<br>\n",
    "<ul style=\"margin-right:50px\">\n",
    "    <li>Not a pointer but usually implemented using pointers\n",
    "    <li>The pointer operations may be overloaded for behavior appropriate for the container internals\n",
    "    <li>Treating iterators as pointers typically is OK.\n",
    "    <li>Each container defines an appropriate iterator type.\n",
    "    <li>Operations are consistent across all iterator types\n",
    "\n",
    "</div>"
   ]
  },
  {
   "cell_type": "markdown",
   "id": "e8665770",
   "metadata": {},
   "source": [
    "<div style=\"font-family: arial; padding: 30px; padding-top: 0; padding-bottom: 0;\">\n",
    "    \n",
    "<h2 id=\"Classes To Produce ADTs\" style=\"color: #d42c06;\">Basic Iterator Operations</h2>\n",
    "Basic operations shared by all iterator types<br>\n",
    "<ul style=\"margin-right:50px\">\n",
    "    <li><code>++</code> (pre- and postfix) to advance to the next data item\n",
    "    <li><code>==</code> and <code>!=</code> operators to test whether two iterators point\n",
    "to the same data item\n",
    "    <li><code>*</code> dereferencing operator provides data item access\n",
    "    <li><code>c.begin( )</code> returns an iterator pointing to the first\n",
    "element of container c\n",
    "    <li><code>c.end( )</code> returns an iterator pointing past the last element of container c. Analogous to the null pointer. Unlike the null pointer, you can apply <code>--</code> to the iterator returned by <code>c.end( )</code> to get an iterator pointing to last element in the container.\n",
    "\n",
    "</div>"
   ]
  },
  {
   "cell_type": "markdown",
   "id": "d034b6f3",
   "metadata": {},
   "source": [
    "<div style=\"font-family: arial; padding: 30px; padding-top: 0; padding-bottom: 0;\">\n",
    "    \n",
    "<h2 id=\"Classes To Produce ADTs\" style=\"color: #d42c06;\">\n",
    "More Iterator Operations\n",
    "</h2>\n",
    "<ul style=\"margin-right:50px\">\n",
    "    <li><code>--</code> (pre- and postfix) moves to previous data item Available to some kinds of iterators.\n",
    "    <li><code>*p</code> access may be read-only or read-write depending on the container and the definition of the iterator p.\n",
    "    <li><code>STL</code> containers define iterator types appropriate to the container internals.\n",
    "    <li>Some containers provide read-only iterators\n",
    "    <br><br>Display 18.1\n",
    "</ul>\n",
    "</div>"
   ]
  },
  {
   "cell_type": "markdown",
   "id": "9cb05746",
   "metadata": {},
   "source": [
    "<div style=\"font-family: arial; padding: 30px; padding-top: 0; padding-bottom: 0;\">\n",
    "    \n",
    "<h2 id=\"Classes To Produce ADTs\" style=\"color: #d42c06;\">\n",
    "DISPLAY 18.1 Iterators Used with a Vector\n",
    "</h2>"
   ]
  },
  {
   "cell_type": "code",
   "execution_count": 1,
   "id": "909747b0",
   "metadata": {
    "vscode": {
     "languageId": "cpp"
    }
   },
   "outputs": [],
   "source": [
    "// Program to demonstrate STL iterators.\n",
    "#include <iostream>\n",
    "#include <vector>"
   ]
  },
  {
   "cell_type": "code",
   "execution_count": 4,
   "id": "fa121035",
   "metadata": {
    "vscode": {
     "languageId": "cpp"
    }
   },
   "outputs": [
    {
     "name": "stdout",
     "output_type": "stream",
     "text": [
      "Here is what is in the container:\n",
      "1 2 3 4 \n",
      "Setting entries to 0:\n",
      "Container now contains:\n",
      "0 0 0 0 \n"
     ]
    }
   ],
   "source": [
    "{\n",
    "    using std::cout;\n",
    "    using std::endl;\n",
    "    using std::vector;\n",
    "\n",
    "    vector<int> container;\n",
    "    for (int i = 1; i <= 4; i++)\n",
    "        container.push_back(i);\n",
    "    cout << \"Here is what is in the container:\\n\";\n",
    "    vector<int>::iterator p;\n",
    "    for (p = container.begin(); p != container.end(); p++)\n",
    "        cout << *p << \" \";\n",
    "    cout << endl;\n",
    "    cout << \"Setting entries to 0:\\n\";\n",
    "    for (p = container.begin(); p != container.end(); p++)\n",
    "        *p = 0;\n",
    "\n",
    "    cout << \"Container now contains:\\n\";\n",
    "    for (p = container.begin(); p != container.end(); p++)\n",
    "        cout << *p << \" \";\n",
    "    cout << endl;\n",
    "}"
   ]
  },
  {
   "cell_type": "markdown",
   "id": "561648a8",
   "metadata": {},
   "source": [
    "<div style=\"font-family: arial; padding: 30px; padding-top: 0; padding-bottom: 0;\">\n",
    "    \n",
    "<h2 id=\"Classes To Produce ADTs\" style=\"color: #d42c06;\">\n",
    "Kinds of Iterators\n",
    "</h2>\n",
    "<ul style=\"margin-right:50px\">\n",
    "    <li>Forward iterators provide the basic operations\n",
    "    <li>Bidirectional iterators provide the basic operations and the -- operators (pre- and postfix) to move to the previous data item.\n",
    "    <li>Random access iterators provide\n",
    "    <ul style=\"margin-right:50px\">\n",
    "        <li>The basic operations and –\n",
    "        <li>Indexing p[2] returns the third element in the container\n",
    "        <li>Iterator arithmetic p + 2 returns an iterator to the third element in the containe\n",
    "    </ul>\n",
    "    <br><br>Display 18.2 (1-2)\n",
    "</ul>\n",
    "</div>"
   ]
  },
  {
   "cell_type": "markdown",
   "id": "54e851f9",
   "metadata": {},
   "source": [
    "<div style=\"font-family: arial; padding: 30px; padding-top: 0; padding-bottom: 0;\">\n",
    "    \n",
    "<h2 id=\"Classes To Produce ADTs\" style=\"color: #d42c06;\">\n",
    "DISPLAY 18.2 Bidirectional and Random Access Iterator Use (parts 1 & 2)\n",
    "</h2>"
   ]
  },
  {
   "cell_type": "code",
   "execution_count": 5,
   "id": "bf315d76",
   "metadata": {
    "vscode": {
     "languageId": "cpp"
    }
   },
   "outputs": [],
   "source": [
    "// Program to demonstrate bidirectional and random access iterators.\n",
    "#include <iostream>\n",
    "#include <vector>"
   ]
  },
  {
   "cell_type": "code",
   "execution_count": 6,
   "id": "a763bace",
   "metadata": {
    "vscode": {
     "languageId": "cpp"
    }
   },
   "outputs": [
    {
     "name": "stdout",
     "output_type": "stream",
     "text": [
      "container[0] == A\n",
      "container[1] == B\n",
      "container[2] == C\n",
      "container[3] == D\n",
      "The third entry is C\n",
      "The third entry is C\n",
      "The third entry is C\n",
      "Back to container[0].\n",
      "which has value A\n",
      "Two steps forward and one step back:\n",
      "B\n",
      "C\n",
      "B\n"
     ]
    }
   ],
   "source": [
    "{\n",
    "    using std::cout;\n",
    "    using std::endl;\n",
    "    using std::vector;\n",
    "\n",
    "    vector<char> container;\n",
    "    container.push_back('A');\n",
    "    container.push_back('B');\n",
    "    container.push_back('C');\n",
    "    container.push_back('D');\n",
    "    for (int i = 0; i < 4; i++)\n",
    "        cout << \"container[\" << i << \"] == \"\n",
    "             << container[i] << endl;\n",
    "    vector<char>::iterator p = container.begin();\n",
    "    cout << \"The third entry is \" << container[2] << endl;\n",
    "    cout << \"The third entry is \" << p[2] << endl;\n",
    "    cout << \"The third entry is \" << *(p + 2) << endl;\n",
    "    cout << \"Back to container[0].\\n\";\n",
    "    p = container.begin();\n",
    "    cout << \"which has value \" << *p << endl;\n",
    "    cout << \"Two steps forward and one step back:\\n\";\n",
    "    p++;\n",
    "    cout << *p << endl;\n",
    "    p++;\n",
    "    cout << *p << endl;\n",
    "    p--;\n",
    "    cout << *p << endl;\n",
    "}"
   ]
  },
  {
   "cell_type": "markdown",
   "id": "03fa5290",
   "metadata": {},
   "source": [
    "<div style=\"font-family: arial; padding: 30px; padding-top: 0; padding-bottom: 0;\">\n",
    "    \n",
    "<h2 id=\"Classes To Produce ADTs\" style=\"color: #d42c06;\">\n",
    "Constant and Mutable Iterators\n",
    "</h2>\n",
    "Categories of iterator divide into constant and\n",
    "mutable iterator. <br>\n",
    "<ul style=\"margin-right:50px\">\n",
    "    <li>Constant Iterator cp does not allow assigning\n",
    "element at <code>p</code>\n",
    "<div>\n",
    "\n",
    "```c++\n",
    "\n",
    "using std::vector<int>::const_iterator;\n",
    "const_iterator cp = v.begin( );\n",
    "*cp = something; // illegal\n",
    "```\n",
    "</div>\n",
    "    <li>Mutable iterator <code>p</code> does allow changing the element at <code>p</code>.\n",
    "<div>\n",
    "\n",
    "```c++\n",
    "\n",
    "using std::vector<int>::iterator;\n",
    "iterator p = v.begin( );\n",
    "*p = something; // OK\n",
    "```\n",
    "</div>\n",
    "</ul>\n",
    "</div>"
   ]
  },
  {
   "cell_type": "markdown",
   "id": "e8524ca6",
   "metadata": {},
   "source": [
    "<div style=\"font-family: arial; padding: 30px; padding-top: 0; padding-bottom: 0;\">\n",
    "    \n",
    "<h2 id=\"Classes To Produce ADTs\" style=\"color: #d42c06;\">\n",
    "Using auto\n",
    "</h2>\n",
    "The C++11 auto keyword can simplify variable\n",
    "declarations for iterators, e.g. instead of:<br>\n",
    "<div>\n",
    "\n",
    "```c++\n",
    "\n",
    "vector<int>::iterator p = v.begin();\n",
    "```\n",
    "</div>\n",
    "We simply use: <br>\n",
    "<div>\n",
    "\n",
    "```c++\n",
    "\n",
    "auto p = v.begin();\n",
    "```\n",
    "</div>\n",
    "</ul>\n",
    "</div>"
   ]
  },
  {
   "cell_type": "markdown",
   "id": "ce4138e2",
   "metadata": {},
   "source": [
    "<div style=\"font-family: arial; padding: 30px; padding-top: 0; padding-bottom: 0;\">\n",
    "    \n",
    "<h2 id=\"Classes To Produce ADTs\" style=\"color: #d42c06;\">\n",
    "Reverse Iterators\n",
    "</h2>\n",
    "A reverse iterator enables cycling through a container\n",
    "from the end to the beginning. Reverse iterators reverse\n",
    "the more usual behavior of ++ and –<br><br>\n",
    "<code>rp--</code> moves the reverse iterator rp towards the beginning\n",
    "of the container.<br><br>\n",
    "<code>rp++</code> moves the reverse iterator rp towards the end of the\n",
    "container.\n",
    "<div>\n",
    "\n",
    "```c++\n",
    "\n",
    "reverse_iterator rp;\n",
    "for(rp = c.rbegin( ); rp != c.rend( ); rp++)\n",
    "process_item_at (rp);\n",
    "```\n",
    "</div>\n",
    "Object <code>c</code> is a container with bidirectional iterators<br><br>\n",
    "Display 18.3 (1-2)\n",
    "</div>\n",
    "</ul>\n",
    "</div>"
   ]
  },
  {
   "cell_type": "markdown",
   "id": "e87f17f7",
   "metadata": {},
   "source": [
    "<div style=\"font-family: arial; padding: 30px; padding-top: 0; padding-bottom: 0;\">\n",
    "    \n",
    "<h2 id=\"Classes To Produce ADTs\" style=\"color: #d42c06;\">\n",
    "DISPLAY 18.3 Reverse Iterator (parts 1 & 2)\n",
    "</h2>"
   ]
  },
  {
   "cell_type": "code",
   "execution_count": null,
   "id": "c363c062",
   "metadata": {
    "vscode": {
     "languageId": "cpp"
    }
   },
   "outputs": [],
   "source": [
    "// Program to demonstrate a reverse iterator.\n",
    "#include <iostream>\n",
    "#include <vector>"
   ]
  },
  {
   "cell_type": "code",
   "execution_count": 8,
   "id": "762eb748",
   "metadata": {
    "vscode": {
     "languageId": "cpp"
    }
   },
   "outputs": [
    {
     "name": "stdout",
     "output_type": "stream",
     "text": [
      "Forward:\n",
      "A B C \n",
      "Reverse:\n",
      "C B A \n"
     ]
    }
   ],
   "source": [
    "{\n",
    "    using std::cout;\n",
    "    using std::endl;\n",
    "    using std::vector;\n",
    "\n",
    "    vector<char> container;\n",
    "    container.push_back('A');\n",
    "    container.push_back('B');\n",
    "    container.push_back('C');\n",
    "    cout << \"Forward:\\n\";\n",
    "    vector<char>::iterator p;\n",
    "    for (p = container.begin(); p != container.end(); p++)\n",
    "        cout << *p << \" \";\n",
    "    cout << endl;\n",
    "\n",
    "    cout << \"Reverse:\\n\";\n",
    "    vector<char>::reverse_iterator rp;\n",
    "    for (rp = container.rbegin(); rp != container.rend(); rp++)\n",
    "        cout << *rp << \" \";\n",
    "    cout << endl;\n",
    "}"
   ]
  },
  {
   "cell_type": "markdown",
   "id": "a3761899",
   "metadata": {},
   "source": [
    "<div style=\"font-family: arial; padding: 30px; padding-top: 0; padding-bottom: 0;\">\n",
    "    \n",
    "<h2 id=\"Classes To Produce ADTs\" style=\"color: #d42c06;\">Other Kinds of Iterators</h2>\n",
    "Two other kinds of (weaker) iterator –<br>\n",
    "<ul style=\"margin-right:50px\">\n",
    "    <li>An input iterator is a forward iterator that can\n",
    "be used with input streams.\n",
    "    <li>An output iterator is a forward iterator that can\n",
    "be used with output streams.\n",
    "\n",
    "</div>"
   ]
  },
  {
   "cell_type": "markdown",
   "id": "e5ffd16e",
   "metadata": {},
   "source": [
    "<div style=\"font-family: arial; padding: 30px; padding-bottom: 0;\">\n",
    "\n",
    "<hr style=\"margin-top: 25px; border-color: #fff;\">\n",
    "\n",
    "<h2 style=\"text-align: center; color: #186e00;\">Section 2: Containers</h2>\n",
    "\n",
    "<hr style=\"margin-top: 25px; border-color: #fff;\">\n",
    "\n",
    "</div>"
   ]
  },
  {
   "cell_type": "markdown",
   "id": "c3273580",
   "metadata": {},
   "source": [
    "<div style=\"font-family: arial; padding: 30px; padding-top: 0; padding-bottom: 0;\">\n",
    "    \n",
    "<h2 id=\"Classes To Produce ADTs\" style=\"color: #d42c06;\">Containers</h2>\n",
    "The STL provides three kinds containers:<br>\n",
    "<ul style=\"margin-right:50px\">\n",
    "    <li>Sequential Containers are containers where\n",
    "the ultimate position of the element depends\n",
    "on where it was inserted, not on its value.\n",
    "    <li>Container Adapters use the sequential\n",
    "containers for storage, but modify the user\n",
    "interface to stack, queue or other structure.\n",
    "    <li>Associative Containers maintain the data in\n",
    "sorted order to implement the container’s\n",
    "purpose. The position depends on the value of\n",
    "the element.\n",
    "\n",
    "</div>"
   ]
  },
  {
   "cell_type": "markdown",
   "id": "8a8980c4",
   "metadata": {},
   "source": [
    "<div style=\"font-family: arial; padding: 30px; padding-top: 0; padding-bottom: 0;\">\n",
    "    \n",
    "<h2 id=\"Classes To Produce ADTs\" style=\"color: #d42c06;\">Sequential Containers</h2>\n",
    "<ul style=\"margin-right:50px\">\n",
    "    <li>The STL sequential containers are the <code>list</code>,\n",
    "<code>vector</code> and <code>deque</code>. (The <code>slist</code> is not in the STL.)\n",
    "    <li>Sequential means the container has a first,\n",
    "element, a second element and so on.\n",
    "    <li>An STL <code>list</code> is a doubly linked list.\n",
    "    <li>An STL <code>vector</code> is essentially an array whose\n",
    "allocated space can grow while the program runs.\n",
    "    <li>An STL <code>deque</code> (“d-que” or “deck”) is a “double\n",
    "ended queue”. Data can be added or removed at\n",
    "either end and the size can change while the\n",
    "program runs.\n",
    "\n",
    "<br>Display 18.4 <br>Display 18.5\n",
    "\n",
    "</div>"
   ]
  },
  {
   "cell_type": "markdown",
   "id": "586379d8",
   "metadata": {},
   "source": [
    "<div style=\"font-family: arial; padding: 30px; padding-top: 0; padding-bottom: 0;\">\n",
    "    \n",
    "<h2 id=\"Classes To Produce ADTs\" style=\"color: #d42c06;\">\n",
    "DISPLAY 18.4 Two Kinds of Lists\n",
    "</h2>\n",
    "<img src=\"src/images/Two_Kinds_of_Lists.jpg\" style=\"max-width:70%\"></img>"
   ]
  },
  {
   "cell_type": "markdown",
   "id": "6fbe9d05",
   "metadata": {},
   "source": [
    "<div style=\"font-family: arial; padding: 30px; padding-top: 0; padding-bottom: 0;\">\n",
    "    \n",
    "<h2 id=\"Classes To Produce ADTs\" style=\"color: #d42c06;\">\n",
    "DISPLAY 18.5 Using the list Template Class (parts 1 & 2)\n",
    "</h2>"
   ]
  },
  {
   "cell_type": "code",
   "execution_count": 9,
   "id": "967eb8e0",
   "metadata": {
    "vscode": {
     "languageId": "cpp"
    }
   },
   "outputs": [],
   "source": [
    "// Program to demonstrate the STL template class list.\n",
    "#include <iostream>\n",
    "#include <list>"
   ]
  },
  {
   "cell_type": "code",
   "execution_count": 10,
   "id": "1876f59d",
   "metadata": {
    "vscode": {
     "languageId": "cpp"
    }
   },
   "outputs": [
    {
     "name": "stdout",
     "output_type": "stream",
     "text": [
      "List contains:\n",
      "1 2 3 \n",
      "Setting all entries to 0:\n",
      "List now contains:\n",
      "0 0 0 \n"
     ]
    }
   ],
   "source": [
    "{\n",
    "    using std::cout;\n",
    "    using std::endl;\n",
    "    using std::list;\n",
    "\n",
    "    list<int> listObject;\n",
    "\n",
    "    for (int i = 1; i <= 3; i++)\n",
    "        listObject.push_back(i);\n",
    "\n",
    "    cout << \"List contains:\\n\";\n",
    "    list<int>::iterator iter;\n",
    "    for (iter = listObject.begin(); iter != listObject.end(); iter++)\n",
    "        cout << *iter << \" \";\n",
    "    cout << endl;\n",
    "\n",
    "    cout << \"Setting all entries to 0:\\n\";\n",
    "    for (iter = listObject.begin(); iter != listObject.end(); iter++)\n",
    "        *iter = 0;\n",
    "\n",
    "    cout << \"List now contains:\\n\";\n",
    "    for (iter = listObject.begin(); iter != listObject.end(); iter++)\n",
    "        cout << *iter << \" \";\n",
    "    cout << endl;\n",
    "\n",
    "}"
   ]
  },
  {
   "cell_type": "markdown",
   "id": "021b7697",
   "metadata": {},
   "source": [
    "<div style=\"font-family: arial; padding: 30px; padding-top: 0; padding-bottom: 0;\">\n",
    "    \n",
    "<h2 id=\"Classes To Produce ADTs\" style=\"color: #d42c06;\">Common Container Members</h2>\n",
    "The STL sequential containers each have\n",
    "different characteristics, but they all support these\n",
    "members:<br>\n",
    "<ul style=\"margin-right:50px\">\n",
    "<div>\n",
    "\n",
    "```c++\n",
    "\n",
    "container( ); // creates empty container\n",
    "~container( ); // destroys container, erases all\n",
    "members\n",
    "c.empty( ) // true if there are no entries in c\n",
    "c.size( ) const; // number of entries in container c\n",
    "c = v; //replace contents of c with contents of v\n",
    "```\n",
    "</div>\n",
    "\n",
    "</div>"
   ]
  },
  {
   "cell_type": "markdown",
   "id": "8c6d1689",
   "metadata": {},
   "source": [
    "<div style=\"font-family: arial; padding: 30px; padding-top: 0; padding-bottom: 0;\">\n",
    "    \n",
    "<h2 id=\"Classes To Produce ADTs\" style=\"color: #d42c06;\">More Common Container Members</h2>\n",
    "The STL sequential containers each have\n",
    "different characteristics, but they all support these\n",
    "members:<br>\n",
    "<ul style=\"margin-right:50px\">\n",
    "<div>\n",
    "\n",
    "```c++\n",
    "\n",
    "c.swap(other_container); // swaps contents of\n",
    "// c and other_container.\n",
    "\n",
    "c.push_back(item); // appends item to container c\n",
    "\n",
    "c.begin( ); // returns an iterator to the first\n",
    "// element in container c\n",
    "\n",
    "c.end( ); // returns an iterator to a position\n",
    "// beyond the end of the container c.\n",
    "\n",
    "c.rbegin( ); // returns an iterator to the last element\n",
    "// in the container. Serves to as start of\n",
    "// reverse traversal.\n",
    "\n",
    "c.rend( ); // returns an iterator to a position\n",
    "// beyond the of the container.\n",
    "\n",
    "c.front( ); // returns the first element in the\n",
    "// container (same as *c.begin( );)\n",
    "\n",
    "c.back( ); //returns the last element in the container\n",
    "// same as *(--c.end( ));\n",
    "\n",
    "c.insert(iter, elem); //insert copy of element elem\n",
    "//before iteIr\n",
    "\n",
    "c.erase(iter); //removes element iter points to,\n",
    "// returns an iterator to element\n",
    "// following erasure. returns c.end( ) if\n",
    "// last element is removed.\n",
    "\n",
    "c.clear( ); // makes container c empty\n",
    "\n",
    "c1 == c2 // returns true if the sizes equal and\n",
    "// corresponding elements in c1 and c2 are\n",
    "//equal\n",
    "\n",
    "c1 != c2 // returns !(c1==c2)\n",
    "\n",
    "c.push_front(elem) // insert element elem at the\n",
    "// front of container c.\n",
    "// NOT implemented for vector due to large\n",
    "// run-time that results\n",
    "```\n",
    "</div>\n",
    "\n",
    "</div>"
   ]
  },
  {
   "cell_type": "markdown",
   "id": "a657e414",
   "metadata": {},
   "source": [
    "<div style=\"font-family: arial; padding: 30px; padding-top: 0; padding-bottom: 0;\">\n",
    "    \n",
    "<h2 id=\"Classes To Produce ADTs\" style=\"color: #d42c06;\">PITFALL:\n",
    "Iterators and Removing Elements</h2>\n",
    "<ul style=\"margin-right:50px\">\n",
    "    <li>Removing elements will invalidates some\n",
    "iterators.\n",
    "    <li><code>erase</code> member returns an iterator pointing to the\n",
    "next element past the erased element.\n",
    "    <li>With <code>list</code> we are guaranteed that only iterators\n",
    "pointing to the erased element are invalidated.\n",
    "    <li>With <code>vector</code> and <code>deque</code>, treat all operations that\n",
    "erase or insert as invalidating previous iterators.\n",
    "\n",
    "</div>"
   ]
  },
  {
   "cell_type": "markdown",
   "id": "a4211066",
   "metadata": {},
   "source": [
    "<div style=\"font-family: arial; padding: 30px; padding-top: 0; padding-bottom: 0;\">\n",
    "    \n",
    "<h2 id=\"Classes To Produce ADTs\" style=\"color: #d42c06;\">Operation Support</h2>\n",
    "<ul style=\"margin-right:50px\">\n",
    "    <img src=\"src/images/Operation_support.jpg\" style=\"max-width:70%\"></img>\n",
    "\n",
    "<br>Display 18.6\n",
    "\n",
    "</div>"
   ]
  },
  {
   "cell_type": "markdown",
   "id": "7458c14d",
   "metadata": {},
   "source": [
    "<div style=\"font-family: arial; padding: 30px; padding-top: 0; padding-bottom: 0;\">\n",
    "    \n",
    "<h2 id=\"Classes To Produce ADTs\" style=\"color: #d42c06;\">\n",
    "DISPLAY 18.6 STL Basic Sequential Containers\n",
    "</h2>\n",
    "<img src=\"src/images/STL_Basic_Sequential_Containers.jpg\" style=\"max-width:70%\"></img>"
   ]
  },
  {
   "cell_type": "markdown",
   "id": "1137fd6a",
   "metadata": {},
   "source": [
    "<div style=\"font-family: arial; padding: 30px; padding-top: 0; padding-bottom: 0;\">\n",
    "    \n",
    "<h2 id=\"Classes To Produce ADTs\" style=\"color: #d42c06;\">The Container Adapters\n",
    "<code>stack</code> and <code>queue</code></h2>\n",
    "<ul style=\"margin-right:50px\">\n",
    "    <li>Container Adapters use sequence containers for storage\n",
    "but supply a different user interface.\n",
    "    <li>A stack uses a Last-In-First-Out discipline.\n",
    "    <li>A queue uses a First-In-First-Out discipline.\n",
    "    <li>A priority queue keeps its items sorted on a property of\n",
    "the items called the priority, so that the highest priority\n",
    "item is removed first.\n",
    "    <li>The deque is the default container for both stack and\n",
    "queue.\n",
    "    <li>A vector cannot be used for a queue as the queue\n",
    "requires operations at the front of the container.\n",
    "\n",
    "</div>"
   ]
  },
  {
   "cell_type": "markdown",
   "id": "61aefe38",
   "metadata": {},
   "source": [
    "<div style=\"font-family: arial; padding: 30px; padding-top: 0; padding-bottom: 0;\">\n",
    "    \n",
    "<h2 id=\"Classes To Produce ADTs\" style=\"color: #d42c06;\">Container Adapter <code>stack</code></h2>\n",
    "<ul style=\"margin-right:50px\">\n",
    "<li>Declarations:\n",
    "<div>\n",
    "\n",
    "```c++\n",
    "\n",
    "stack<T> s; // uses deque as underlying store\n",
    "stack<T, underlying_container> t ; //uses the specified\n",
    "//container as underlying container for stack\n",
    "Stack<T> s (sequence_container); // initializes stack to\n",
    "// to elements in sequence_container.\n",
    "```\n",
    "</div>\n",
    "\n",
    "<li>Header:\n",
    "<div>\n",
    "\n",
    "```c++\n",
    "\n",
    "#include <stack>\n",
    "```\n",
    "</div>\n",
    "    <li>Defined types:\n",
    "<div>\n",
    "\n",
    "```c++\n",
    "\n",
    "value_type, size_type\n",
    "```\n",
    "</div>\n",
    "    <li>No iterators are defined.\n",
    "\n",
    "</div>"
   ]
  },
  {
   "cell_type": "markdown",
   "id": "c8d4243b",
   "metadata": {},
   "source": [
    "<div style=\"font-family: arial; padding: 30px; padding-top: 0; padding-bottom: 0;\">\n",
    "    \n",
    "<h2 id=\"Classes To Produce ADTs\" style=\"color: #d42c06;\"><code>stack</code> Member Functions</h2>\n",
    "<ul style=\"margin-right:50px\">\n",
    "    <img src=\"src/images/stack_member_functions.jpg\" style=\"max-width:70%\"></img>\n",
    "\n",
    "<br>Display 18.10 (1-2)\n",
    "\n",
    "</div>"
   ]
  },
  {
   "cell_type": "markdown",
   "id": "43da61af",
   "metadata": {},
   "source": [
    "<div style=\"font-family: arial; padding: 30px; padding-top: 0; padding-bottom: 0;\">\n",
    "    \n",
    "<h2 id=\"Classes To Produce ADTs\" style=\"color: #d42c06;\">\n",
    "DISPLAY 18.10 Program Using the Stack Template Class (parts 1 & 2)\n",
    "</h2>"
   ]
  },
  {
   "cell_type": "code",
   "execution_count": 11,
   "id": "d54b406c",
   "metadata": {
    "vscode": {
     "languageId": "cpp"
    }
   },
   "outputs": [],
   "source": [
    "// Program to demonstrate the use of the stack template class from the STL.\n",
    "#include <iostream>\n",
    "#include <stack>"
   ]
  },
  {
   "cell_type": "code",
   "execution_count": 12,
   "id": "09420c2f",
   "metadata": {
    "vscode": {
     "languageId": "cpp"
    }
   },
   "outputs": [
    {
     "name": "stdout",
     "output_type": "stream",
     "text": [
      "Enter a line of text:\n",
      "Written backward that is:\n",
      "sds\n"
     ]
    }
   ],
   "source": [
    "{\n",
    "    using std::cin;\n",
    "    using std::cout;\n",
    "    using std::endl;\n",
    "    using std::stack;\n",
    "    \n",
    "    stack<char> s;\n",
    "\n",
    "    cout << \"Enter a line of text:\\n\";\n",
    "    char next;\n",
    "    cin.get(next);\n",
    "    while (next != '\\n')\n",
    "    {\n",
    "        s.push(next);\n",
    "        cin.get(next);\n",
    "    }\n",
    "\n",
    "    cout << \"Written backward that is:\\n\";\n",
    "    while (!s.empty())\n",
    "    {\n",
    "        cout << s.top();\n",
    "        s.pop();\n",
    "    }\n",
    "    cout << endl;\n",
    "}"
   ]
  },
  {
   "cell_type": "markdown",
   "id": "26c48012",
   "metadata": {},
   "source": [
    "<div style=\"font-family: arial; padding: 30px; padding-top: 0; padding-bottom: 0;\">\n",
    "    \n",
    "<h2 id=\"Classes To Produce ADTs\" style=\"color: #d42c06;\">Container Adapter <code>queue</code></h2>\n",
    "<ul style=\"margin-right:50px\">\n",
    "<li>Declarations:\n",
    "<div>\n",
    "\n",
    "```c++\n",
    "\n",
    "queue<T> q; // uses deque as underlying store\n",
    "queue<T, underlying_container> q ; //uses the\n",
    "specified\n",
    "//container as underlying container for queue\n",
    "Stack<T> s (sequence_container); // initializes\n",
    "queue to\n",
    "// to elements in sequence_container.\n",
    "```\n",
    "</div>\n",
    "\n",
    "<li>Header:\n",
    "<div>\n",
    "\n",
    "```c++\n",
    "\n",
    "#include <queue>\n",
    "```\n",
    "</div>\n",
    "    <li>Defined types:\n",
    "<div>\n",
    "\n",
    "```c++\n",
    "\n",
    "value_type, size_type\n",
    "```\n",
    "</div>\n",
    "    <li>No iterators are defined.\n",
    "\n",
    "</div>"
   ]
  },
  {
   "cell_type": "markdown",
   "id": "560c3d8e",
   "metadata": {},
   "source": [
    "<div style=\"font-family: arial; padding: 30px; padding-top: 0; padding-bottom: 0;\">\n",
    "    \n",
    "<h2 id=\"Classes To Produce ADTs\" style=\"color: #d42c06;\"><code>queue</code> Member Functions</h2>\n",
    "<ul style=\"margin-right:50px\">\n",
    "    <img src=\"src/images/queue_member_functions.jpg\" style=\"max-width:70%\"></img>\n",
    "\n",
    "</div>"
   ]
  },
  {
   "cell_type": "markdown",
   "id": "5b06463b",
   "metadata": {},
   "source": [
    "<div style=\"font-family: arial; padding: 30px; padding-top: 0; padding-bottom: 0;\">\n",
    "    \n",
    "<h2 id=\"Classes To Produce ADTs\" style=\"color: #d42c06;\">Associative Containers set and map</h2>\n",
    "<ul style=\"margin-right:50px\">\n",
    "    <li>Associative containers keep elements sorted on a some\n",
    "property of the element called the key.\n",
    "    <li>Only the first insertion of a value into a set has effect.\n",
    "    <li>The order relation to be used may be specified:\n",
    "<div>\n",
    "\n",
    "```c++\n",
    "\n",
    "set<T, OrderRelation> s;\n",
    "```\n",
    "</div>\n",
    "    <li>The default order is the <code><</code> relational operator for both set\n",
    "and map.\n",
    "\n",
    "</div>"
   ]
  },
  {
   "cell_type": "markdown",
   "id": "b2d5ffbe",
   "metadata": {},
   "source": [
    "<div style=\"font-family: arial; padding: 30px; padding-top: 0; padding-bottom: 0;\">\n",
    "    \n",
    "<h2 id=\"Classes To Produce ADTs\" style=\"color: #d42c06;\">Container Adapter <code>queue</code></h2>\n",
    "<ul style=\"margin-right:50px\">\n",
    "<li>Declarations:\n",
    "<div>\n",
    "\n",
    "```c++\n",
    "\n",
    "set<T> s; // uses deque as underlying store\n",
    "set<T, Ordering> s ; //uses the specified\n",
    "// order relation to sort elements in the set\n",
    "// uses < if no order is specified.\n",
    "```\n",
    "</div>\n",
    "\n",
    "<li>Header:\n",
    "<div>\n",
    "\n",
    "```c++\n",
    "\n",
    "#include <set>\n",
    "```\n",
    "</div>\n",
    "    <li>Defined types:\n",
    "<div>\n",
    "\n",
    "```c++\n",
    "\n",
    "value_type, size_type\n",
    "```\n",
    "</div>\n",
    "    <li>Iterators: <code>iterator, const_iterator, reverse_iterator,\n",
    "const_reverse_iterator</code>\n",
    "\n",
    "</div>"
   ]
  },
  {
   "cell_type": "markdown",
   "id": "2a47aa02",
   "metadata": {},
   "source": [
    "<div style=\"font-family: arial; padding: 30px; padding-top: 0; padding-bottom: 0;\">\n",
    "    \n",
    "<h2 id=\"Classes To Produce ADTs\" style=\"color: #d42c06;\"><code>set</code> Member Functions</h2>\n",
    "<ul style=\"margin-right:50px\">\n",
    "    <img src=\"src/images/set_member_functions.jpg\" style=\"max-width:70%\"></img>\n",
    "\n",
    "<br>Display 18.12\n",
    "</div>"
   ]
  },
  {
   "cell_type": "markdown",
   "id": "7866503f",
   "metadata": {},
   "source": [
    "<div style=\"font-family: arial; padding: 30px; padding-top: 0; padding-bottom: 0;\">\n",
    "    \n",
    "<h2 id=\"Classes To Produce ADTs\" style=\"color: #d42c06;\">\n",
    "DISPLAY 18.12 Program Using the set Template Class\n",
    "</h2>"
   ]
  },
  {
   "cell_type": "code",
   "execution_count": 13,
   "id": "cd367610",
   "metadata": {
    "vscode": {
     "languageId": "cpp"
    }
   },
   "outputs": [],
   "source": [
    "// Program to demonstrate use of the set template class.\n",
    "#include <iostream>\n",
    "#include <set>"
   ]
  },
  {
   "cell_type": "code",
   "execution_count": 14,
   "id": "606df193",
   "metadata": {
    "vscode": {
     "languageId": "cpp"
    }
   },
   "outputs": [
    {
     "name": "stdout",
     "output_type": "stream",
     "text": [
      "The set contains:\n",
      "A B C D \n",
      "Removing C.\n",
      "A B D \n"
     ]
    }
   ],
   "source": [
    "{\n",
    "    using std::cout;\n",
    "    using std::endl;\n",
    "    using std::set;\n",
    "\n",
    "    set<char> s;\n",
    "\n",
    "    s.insert('A');\n",
    "    s.insert('D');\n",
    "    s.insert('D');\n",
    "    s.insert('C');\n",
    "    s.insert('C');\n",
    "    s.insert('B');\n",
    "\n",
    "    cout << \"The set contains:\\n\";\n",
    "    set<char>::const_iterator p;\n",
    "    for (p = s.begin(); p != s.end(); p++)\n",
    "        cout << *p << \" \";\n",
    "    cout << endl;\n",
    "\n",
    "    cout << \"Removing C.\\n\";\n",
    "    s.erase('C');\n",
    "    for (p = s.begin(); p != s.end(); p++)\n",
    "        cout << *p << \" \";\n",
    "    cout << endl;\n",
    "\n",
    "}"
   ]
  },
  {
   "cell_type": "markdown",
   "id": "d5ef38c2",
   "metadata": {},
   "source": [
    "<div style=\"font-family: arial; padding: 30px; padding-top: 0; padding-bottom: 0;\">\n",
    "    \n",
    "<h2 id=\"Classes To Produce ADTs\" style=\"color: #d42c06;\">The map associative container</h2>\n",
    "<ul style=\"margin-right:50px\">\n",
    "    <li>A map is a function given as a set of ordered pairs <code>< first, second ></code>\n",
    "<li>For each first in an ordered pair <first, second> there is\n",
    "at most one value, second, that appears in an ordered\n",
    "pair in the map.\n",
    "<li>First and second can be different data types, so for\n",
    "example you could map an integer to a string\n",
    "<li>The STL provides a template class pair<T1,T2> defined in\n",
    "the utility header file.\n",
    "<li>You may wish to read about the multiset and multimap.\n",
    "See Josuttis, The C++ Standard Library Addison Wesley.\n",
    "\n",
    "</div>"
   ]
  },
  {
   "cell_type": "markdown",
   "id": "8412b13a",
   "metadata": {},
   "source": [
    "<div style=\"font-family: arial; padding: 30px; padding-top: 0; padding-bottom: 0;\">\n",
    "    \n",
    "<h2 id=\"Classes To Produce ADTs\" style=\"color: #d42c06;\">Maps as associative arrays</h2>\n",
    "<ul style=\"margin-right:50px\">\n",
    "    <li>An alternative interpretation is that a map is an\n",
    "associative array. For example,\n",
    "<div>\n",
    "\n",
    "```c++\n",
    "\n",
    "numbermap[\"c++\"] = 5\n",
    "```\n",
    "</div> associates the\n",
    "integer 5 with the string \"c++\"\n",
    "<li>The easiest way to add and retrieve data from a\n",
    "map is to use the <code>[]</code> operator\n",
    "<ul style=\"margin-right:50px\"><li>However, if you attempt to access <code>map[key]</code>\n",
    "and key is not already in the map, then a new\n",
    "entry with the default value will be added!\n",
    "</ul>\n",
    "<br>Display 18.14 (1-2)\n",
    "</div>"
   ]
  },
  {
   "cell_type": "markdown",
   "id": "5a628335",
   "metadata": {},
   "source": [
    "<div style=\"font-family: arial; padding: 30px; padding-top: 0; padding-bottom: 0;\">\n",
    "    \n",
    "<h2 id=\"Classes To Produce ADTs\" style=\"color: #d42c06;\">DISPLAY 18.14 Program Using the map Template Class (parts 1 & 2)</h2>"
   ]
  },
  {
   "cell_type": "code",
   "execution_count": 15,
   "id": "2edeba1c",
   "metadata": {
    "vscode": {
     "languageId": "cpp"
    }
   },
   "outputs": [],
   "source": [
    "// Program to demonstrate use of the map template class.\n",
    "#include <iostream>\n",
    "#include <map>\n",
    "#include <string>"
   ]
  },
  {
   "cell_type": "code",
   "execution_count": 16,
   "id": "42a4556e",
   "metadata": {
    "vscode": {
     "languageId": "cpp"
    }
   },
   "outputs": [
    {
     "name": "stdout",
     "output_type": "stream",
     "text": [
      "Entry for Mercury - Hot planet\n",
      "\n",
      "Mercury is in the map.\n",
      "Ceres is not in the map.\n",
      "\n",
      "Iterating through all planets: \n",
      "Earth - Home\n",
      "Jupiter - Largest planet in our solar system\n",
      "Mars - The Red Planet\n",
      "Mercury - Hot planet\n",
      "Neptune - 1500 mile-per-hour winds\n",
      "Pluto - Dwarf planet\n",
      "Saturn - Has rings\n",
      "Uranus - Tilts on its side\n",
      "Venus - Atmosphere of sulfuric acid\n"
     ]
    }
   ],
   "source": [
    "{\n",
    "    using std::cout;\n",
    "    using std::endl;\n",
    "    using std::map;\n",
    "    using std::string;\n",
    "\n",
    "    map<string, string> planets;\n",
    "    planets[\"Mercury\"] = \"Hot planet\";\n",
    "    planets[\"Venus\"] = \"Atmosphere of sulfuric acid\";\n",
    "    planets[\"Earth\"] = \"Home\";\n",
    "    planets[\"Mars\"] = \"The Red Planet\";\n",
    "    planets[\"Jupiter\"] = \"Largest planet in our solar system\";\n",
    "    planets[\"Saturn\"] = \"Has rings\";\n",
    "    planets[\"Uranus\"] = \"Tilts on its side\";\n",
    "    planets[\"Neptune\"] = \"1500 mile-per-hour winds\";\n",
    "    planets[\"Pluto\"] = \"Dwarf planet\";\n",
    "    cout << \"Entry for Mercury - \" << planets[\"Mercury\"]\n",
    "         << endl\n",
    "         << endl;\n",
    "    if (planets.find(\"Mercury\") != planets.end())\n",
    "        cout << \"Mercury is in the map.\" << endl;\n",
    "    if (planets.find(\"Ceres\") == planets.end())\n",
    "        cout << \"Ceres is not in the map.\" << endl\n",
    "             << endl;\n",
    "    cout << \"Iterating through all planets: \" << endl;\n",
    "    map<string, string>::const_iterator iter;\n",
    "    for (iter = planets.begin(); iter != planets.end(); iter++)\n",
    "    {\n",
    "        cout << iter->first << \" - \" << iter->second << endl;\n",
    "    }\n",
    "}"
   ]
  },
  {
   "cell_type": "markdown",
   "id": "b4c4e5b3",
   "metadata": {},
   "source": [
    "<div style=\"font-family: arial; padding: 30px; padding-top: 0; padding-bottom: 0;\">\n",
    "    \n",
    "<h2 id=\"Classes To Produce ADTs\" style=\"color: #d42c06;\"><code>map</code> Member Functions</h2>\n",
    "<ul style=\"margin-right:50px\">\n",
    "    <img src=\"src/images/map_member_functions.jpg\" style=\"max-width:70%\"></img>\n",
    "\n",
    "</div>"
   ]
  },
  {
   "cell_type": "markdown",
   "id": "a897c3db",
   "metadata": {},
   "source": [
    "<div style=\"font-family: arial; padding: 30px; padding-top: 0; padding-bottom: 0;\">\n",
    "    \n",
    "<h2 id=\"Classes To Produce ADTs\" style=\"color: #d42c06;\">\n",
    "Efficiency\n",
    "</h2>\n",
    "<ul style=\"margin-right:50px\">\n",
    "    <li>The STL was designed with efficiency as an\n",
    "important consideration.\n",
    "    <li>STL requires compliant implementations to\n",
    "guarantee a maximum running time.\n",
    "    <li>STL implementations strive to be optimally\n",
    "efficient.\n",
    "    <li>Sorting is usually specified to be O(N*log(N))\n",
    "where N is the number of items being sorted\n",
    "    <li>Search is usually specified to be O(log(N)) where\n",
    "N is the number of items being searched.\n",
    "Slide\n",
    "\n",
    "</div>"
   ]
  },
  {
   "cell_type": "markdown",
   "id": "8c4141c8",
   "metadata": {},
   "source": [
    "<div style=\"font-family: arial; padding: 30px; padding-top: 0; padding-bottom: 0;\">\n",
    "    \n",
    "<h2 id=\"Classes To Produce ADTs\" style=\"color: #d42c06;\">Tip: Use ranged-for, auto with containers</h2>\n",
    "<ul style=\"margin-right:50px\">\n",
    "<li>C++11 ranged-for loop and auto keyword make it easier\n",
    "to iterate through containers. Consider the following map\n",
    "and set:\n",
    "<div>\n",
    "\n",
    "```c++\n",
    "\n",
    "map<int, string> personIDs = {\n",
    "                                {1,\"Walt\"},\n",
    "                                {2,\"Kenrick\"}\n",
    "                                };\n",
    "set<string> colors = {\"red\",\"green\",\"blue\"};\n",
    "```\n",
    "</div>\n",
    "\n",
    "<li>We can iterate through each container conveniently with a\n",
    "ranged for loop and auto:\n",
    "<div>\n",
    "\n",
    "```c++\n",
    "\n",
    "for (auto p : personIDs)\n",
    "    cout << p.first << \" \" << p.second << endl;\n",
    "for (auto p : colors)\n",
    "    cout << p << \" \";\n",
    "```\n",
    "\n",
    "</div>"
   ]
  },
  {
   "cell_type": "markdown",
   "id": "115fdbf3",
   "metadata": {},
   "source": [
    "<div style=\"font-family: arial; padding: 30px; padding-bottom: 0;\">\n",
    "\n",
    "<hr style=\"margin-top: 25px; border-color: #fff;\">\n",
    "\n",
    "<h2 style=\"text-align: center; color: #186e00;\">Section 3: Generic Algorithms</h2>\n",
    "\n",
    "<hr style=\"margin-top: 25px; border-color: #fff;\">\n",
    "\n",
    "</div>"
   ]
  },
  {
   "cell_type": "markdown",
   "id": "900028a9",
   "metadata": {},
   "source": [
    "<div style=\"font-family: arial; padding: 30px; padding-top: 0; padding-bottom: 0;\">\n",
    "    \n",
    "<h2 id=\"Classes To Produce ADTs\" style=\"color: #d42c06;\">\n",
    "Generic Algorithms\n",
    "</h2>\n",
    "<ul style=\"margin-right:50px\">\n",
    "    <li>“Generic Algorithm” are a template functions that\n",
    "use iterators as template parameters.\n",
    "    <li>This chapter will use Generic Algorithm, Generic\n",
    "function, and STL function template to mean the\n",
    "same thing.\n",
    "    <li>Function interface specifies task, minimum\n",
    "strength of iterator arguments, and provides\n",
    "run-time specification.\n",
    "\n",
    "</div>"
   ]
  },
  {
   "cell_type": "markdown",
   "id": "b0c8fce2",
   "metadata": {},
   "source": [
    "<div style=\"font-family: arial; padding: 30px; padding-top: 0; padding-bottom: 0;\">\n",
    "    \n",
    "<h2 id=\"Classes To Produce ADTs\" style=\"color: #d42c06;\">\n",
    "Running Times and Big-O Notation\n",
    "</h2>\n",
    "<ul style=\"margin-right:50px\">\n",
    "    <li>To be useful, running times for an algorithm\n",
    "must specify time as a function of the problem\n",
    "size.\n",
    "    <li>We can time a program with a stop watch or\n",
    "instrument the code with calls to the system clock\n",
    "to empirically determine running time.\n",
    "    <li>What problems do you see there?\n",
    "    <li>There is a better way.\n",
    "\n",
    "</div>"
   ]
  },
  {
   "cell_type": "markdown",
   "id": "7f5e7eda",
   "metadata": {},
   "source": [
    "<div style=\"font-family: arial; padding: 30px; padding-top: 0; padding-bottom: 0;\">\n",
    "    \n",
    "<h2 id=\"Classes To Produce ADTs\" style=\"color: #d42c06;\">\n",
    "Worst case running time\n",
    "</h2>\n",
    "<ul style=\"margin-right:50px\">\n",
    "    <li>In the rest of the chapter we will always mean\n",
    "“worst case running time” when we specify a\n",
    "running time.\n",
    "    <li>How do we proceed? Do we count “steps” or\n",
    "“operations”?\n",
    "    <li>What is a step? What is an operation?\n",
    "    <li> Disagreement abounds, but mostly we agree to\n",
    "count <code>=, <, &&, !, [ ], ==,</code> and <code>++</code>\n",
    "    <li> This simplifying assumption works well in\n",
    "practice.\n",
    "\n",
    "</div>"
   ]
  },
  {
   "cell_type": "markdown",
   "id": "36d21f18",
   "metadata": {},
   "source": [
    "<div style=\"font-family: arial; padding: 30px; padding-top: 0; padding-bottom: 0;\">\n",
    "    \n",
    "<h2 id=\"Classes To Produce ADTs\" style=\"color: #d42c06;\">\n",
    "An example\n",
    "</h2>\n",
    "<ul style=\"margin-right:50px\">\n",
    "<div>\n",
    "\n",
    "```c++\n",
    "\n",
    "int i = 0;\n",
    "    bool found = false;\n",
    "    while (( i < N ) && !(found))\n",
    "        if (a[i] == target)\n",
    "            found = true;\n",
    "        else\n",
    "            i++;\n",
    "```\n",
    "</dive>\n",
    "    <li>Assume target is not in array.\n",
    "    <li>Loop runs N times, 6 operations per iteration.\n",
    "<code><, &&, ! , [i] , ==, ++</code>\n",
    "    <li> After N iterations, boolean expression adds 3\n",
    "operations, <code><, &&,</code> and <code>!</code>\n",
    "    <li> Total of 6N + 3 operations.\n",
    "</div>"
   ]
  },
  {
   "cell_type": "markdown",
   "id": "a269c78a",
   "metadata": {},
   "source": [
    "<div style=\"font-family: arial; padding: 30px; padding-top: 0; padding-bottom: 0;\">\n",
    "    \n",
    "<h2 id=\"Classes To Produce ADTs\" style=\"color: #d42c06;\">\n",
    "Objections\n",
    "</h2>\n",
    "<ul style=\"margin-right:50px\">\n",
    "    <li>Not all operations take the same time\n",
    "    <li> A given operation takes different time on different\n",
    "machines\n",
    "    <li> We ignores some operations that might be\n",
    "significant.\n",
    "    <li> What we are really interested in is the growth rate\n",
    "of the running time as a function of the problem\n",
    "size, not precise computations for a particular\n",
    "architecture.\n",
    "\n",
    "</div>"
   ]
  },
  {
   "cell_type": "markdown",
   "id": "cfa7f48e",
   "metadata": {},
   "source": [
    "<div style=\"font-family: arial; padding: 30px; padding-top: 0; padding-bottom: 0;\">\n",
    "    \n",
    "<h2 id=\"Classes To Produce ADTs\" style=\"color: #d42c06;\">\n",
    "Big-O Notation\n",
    "</h2>\n",
    "<ul style=\"margin-right:50px\">\n",
    "    <li>Estimates of running time are usually expressed\n",
    "with the Big-O notation.\n",
    "    <li> We pronounce this “Big-Oh.” The O is the letter\n",
    "Oh, not the digit zero, 0.\n",
    "    <li> We say that our loop in a previous slide runs in\n",
    "O(6N + 3).\n",
    "    <li> This means that the actual running time will be\n",
    "less than or equal to\n",
    "c(6N+3)\n",
    "    <li> We say the code runs in O(6N+3)\n",
    "\n",
    "</div>"
   ]
  },
  {
   "cell_type": "markdown",
   "id": "3d0107d3",
   "metadata": {},
   "source": [
    "<div style=\"font-family: arial; padding: 30px; padding-top: 0; padding-bottom: 0;\">\n",
    "    \n",
    "<h2 id=\"Classes To Produce ADTs\" style=\"color: #d42c06;\">\n",
    "Large Coefficients Do Not Matter\n",
    "</h2>\n",
    "<ul style=\"margin-right:50px\">\n",
    "    <li>Big-O estimates do not distinguish 5N + 5 and\n",
    "100N\n",
    "    <li>These all have Big-O estimates of O(N<sup>3</sup>)\n",
    "    <ul style=\"margin-right:50px\">\n",
    "        <li> N<sup>3</sup> + 4000N<sup>2</sup> – N + 1\n",
    "        <li> 8N<sup>3</sup> + 5N – 1000\n",
    "        <li> 1000N<sup>3</sup> + 4N<sup>2</sup> – 100000N + 1\n",
    "    </ul>\n",
    "    <li> Regardless of the coefficient, the largest\n",
    "exponent “rules”\n",
    "\n",
    "</div>"
   ]
  },
  {
   "cell_type": "markdown",
   "id": "ca632672",
   "metadata": {},
   "source": [
    "<div style=\"font-family: arial; padding: 30px; padding-top: 0; padding-bottom: 0;\">\n",
    "    \n",
    "<h2 id=\"Classes To Produce ADTs\" style=\"color: #d42c06;\">\n",
    "Some generic terminology\n",
    "</h2>\n",
    "<ul style=\"margin-right:50px\">\n",
    "    <li>T(N) means runnning time.\n",
    "    <li> Linear running time\n",
    "    <ul style=\"margin-right:50px\">\n",
    "        <li> T(N) = aN + b\n",
    "    </ul>\n",
    "    <li> Quadratic running time\n",
    "    <ul style=\"margin-right:50px\">\n",
    "        <li> T(N) has highest term N2\n",
    "    </ul>\n",
    "    <li> O(log N) A function with this running time is very\n",
    "fast\n",
    "    <li> O(N log N) A function with this running time is\n",
    "slower than linear, but much faster than\n",
    "quadratic.\n",
    "\n",
    "<br>Display 18.16\n",
    "\n",
    "</div>"
   ]
  },
  {
   "cell_type": "markdown",
   "id": "c4af8692",
   "metadata": {},
   "source": [
    "<div style=\"font-family: arial; padding: 30px; padding-top: 0; padding-bottom: 0;\">\n",
    "    \n",
    "<h2 id=\"Classes To Produce ADTs\" style=\"color: #d42c06;\">\n",
    "DISPLAY 18.16 Comparison of Running Times\n",
    "</h2>\n",
    "<img src=\"src/images/Comparison_of_Running_Times.jpg\" style=\"max-width:70%\"></img>"
   ]
  },
  {
   "cell_type": "markdown",
   "id": "6862bff9",
   "metadata": {},
   "source": [
    "<div style=\"font-family: arial; padding: 30px; padding-top: 0; padding-bottom: 0;\">\n",
    "    \n",
    "<h2 id=\"Classes To Produce ADTs\" style=\"color: #d42c06;\">\n",
    "Container Access Time\n",
    "</h2>\n",
    "<ul style=\"margin-right:50px\">\n",
    "    <li> <code>vector: push_back(el), pop_back( )</code> have\n",
    "O(1) (constant upper bound) running time\n",
    "    <li> <code>deque: push_back(el), push_front(el),\n",
    "pop_back( ), push_back(el)</code> are all O(1)\n",
    "    <li> <code>list: insert</code> anywhere is O(1)\n",
    "    <li> Finding the location of an element in a <code>list</code>\n",
    "has O(N) running time.\n",
    "    <li> <code>vector, deque insert</code> in the middle is O(N)\n",
    "    <li> <code>vector insert</code> at the front is O(N)\n",
    "    <li> Most <code>set</code> and <code>map</code> operations are O(log N)\n",
    "Other set and map operations are O(1).\n",
    "\n",
    "</div>"
   ]
  },
  {
   "cell_type": "markdown",
   "id": "72a66fd4",
   "metadata": {},
   "source": [
    "<div style=\"padding: 30px; padding-top: 0; padding-bottom: 0;\">\n",
    "\n",
    "<hr style=\"border-color: #fff;\">\n",
    "\n",
    "</div>"
   ]
  },
  {
   "cell_type": "markdown",
   "id": "39765d94",
   "metadata": {},
   "source": [
    "<div style=\"font-family: arial; padding: 30px; padding-top: 0; padding-bottom: 0;\">\n",
    "    \n",
    "<h2 id=\"Classes To Produce ADTs\" style=\"color: #d42c06;\">\n",
    "Generic Algorithm Classification\n",
    "</h2>\n",
    "<ul style=\"margin-right:50px\">\n",
    "    <li> Algorithms are classified into\n",
    "    <ul> \n",
    "    <li> Nonmodifying Sequence Algorithms\n",
    "    <li> Modifying Sequence Algorithms\n",
    "    <li> Sorting and Related Algorithms\n",
    "    <li> Numeric Algorithms\n",
    "    </ul>\n",
    "    <li> We will deal with nonmodifying, modifying and sorting algorithms.\n",
    "    <li> See Josuttis for more information on algorithms.\n",
    "</div>"
   ]
  },
  {
   "cell_type": "markdown",
   "id": "a42b9372",
   "metadata": {},
   "source": [
    "<div style=\"font-family: arial; padding: 30px; padding-top: 0; padding-bottom: 0;\">\n",
    "    \n",
    "<h2 id=\"Classes To Produce ADTs\" style=\"color: #d42c06;\">\n",
    "Nonmodifying Sequence Algorithms\n",
    "</h2>\n",
    "<ul style=\"margin-right:50px\">\n",
    "    <li> Nonmodifying algorithms that do not modify the container they operate upon.\n",
    "    <li> The declaration of the generic function find algorithm:\n",
    "\n",
    "```cpp\n",
    "\n",
    "template<class InputIterator, class T> InputIterator find (InputIterator first, InputIterator last, const T& value);\n",
    "\n",
    "```\n",
    "<li> The declaration tells us <code>find</code> works with any container that provides an iterator at least as strong as an input iterator.\n",
    "<li> Type <code>T</code> objects must be equality comparable.\n",
    "</div>"
   ]
  },
  {
   "cell_type": "markdown",
   "id": "12cde547",
   "metadata": {},
   "source": [
    "<div style=\"font-family: arial; padding: 30px; padding-top: 0; padding-bottom: 0;\">\n",
    "    \n",
    "<h2 id=\"Classes To Produce ADTs\" style=\"color: #d42c06;\">\n",
    "Iter find(Iter first, Iter last, const T& value);\n",
    "</h2>\n",
    "<ul style=\"margin-right:50px\">\n",
    "    <li> The generic algorithm <code>find( )</code> locates an element within a sequence. It takes three arguments.\n",
    "    <li> The first two specify a range: <code>[start, end)</code>, the third specifies a target <code>value</code> for the search.\n",
    "    <li> If requested value is found, <code>find( )</code> returns an iterator that points to the first element that is identical to the sought-after <code>value</code>.\n",
    "    <li> If the requested value is not found, <code>find( )</code> returns an iterator pointing one element past the final element in the sequence (that is, it returns the same value as <code>end( )</code> does).\n",
    "</div>"
   ]
  },
  {
   "cell_type": "markdown",
   "id": "c92a5523",
   "metadata": {},
   "source": [
    "<div style=\"font-family: arial; padding: 30px; padding-top: 0; padding-bottom: 0;\">\n",
    "    \n",
    "<h2 id=\"Classes To Produce ADTs\" style=\"color: #d42c06;\">\n",
    "More nonmodifying Algorithms\n",
    "</h2>\n",
    "<ul style=\"margin-right:50px\">\n",
    "    <li> <code>count</code> Counts occurrences of a value in a sequence\n",
    "    <li> <code>equal</code> Asks are elements in two ranges equal?\n",
    "    <li> <code>search</code> Looks for the first occurrence of a match sequence within another sequence\n",
    "    <li> <code>binary_search</code> Searches for a value in a container sorted using less. If the container was sorted using another predicate, this predicate must be supplied to binary_search. This is an efficient search for sorted sequences with random access iterators.\n",
    "</div>"
   ]
  },
  {
   "cell_type": "markdown",
   "id": "4ecfc9b7",
   "metadata": {},
   "source": [
    "<div style=\"font-family: arial; padding: 30px; padding-top: 0; padding-bottom: 0;\">\n",
    "    \n",
    "<h2 id=\"Classes To Produce ADTs\" style=\"color: #d42c06;\">\n",
    "Container Modifying Algorithms\n",
    "</h2>\n",
    "<ul style=\"margin-right:50px\">\n",
    "    <li> Container modifying algorithms change the content of the elements or their order.\n",
    "    <li> <code>copy</code> Copies from a source range to a destination range. This can be used to shift elements in a container to the left provided that the first element in the source range is not contained in the destination range.\n",
    "    <li> <code>remove</code> Removes all elements from a range equal to the given value\n",
    "    <li> <code>random_shuffle</code> shuffles the elements of a sequence. Argument 1 is an iterator pointing to the first of the sequence. Argument 2 points one position past the last element of the sequence.\n",
    "</div>"
   ]
  },
  {
   "cell_type": "markdown",
   "id": "ccd1b57f",
   "metadata": {},
   "source": [
    "<div style=\"font-family: arial; padding: 30px; padding-top: 0; padding-bottom: 0;\">\n",
    "    \n",
    "<h2 id=\"Classes To Produce ADTs\" style=\"color: #d42c06;\">\n",
    "Sorting Algorithms\n",
    "</h2>\n",
    "<ul style=\"margin-right:50px\">\n",
    "    <li> Algorithm analysis tells us that the runtime of the most efficient sort algorithms that depend on swapping elements is <code>O(N log(N))</code>. N is the number of elements being sorted.\n",
    "    <li> All the STL sorting algorithms are required to be <code>O(N log(N))</code>, so these algorithms (up to a multiplicative constant) as fast as possible.\n",
    "    <li> <code>sort</code> Sorts elements in a range in nondescending order, or in an order determined by a user-specified binary predicate.\n",
    "    <li> <code>merge</code> Merges two sorted source ranges into a single destination range.\n",
    "</div>"
   ]
  },
  {
   "cell_type": "markdown",
   "id": "c39ef17f",
   "metadata": {},
   "source": [
    "<div style=\"font-family: arial; padding: 30px; padding-top: 0; padding-bottom: 0;\">\n",
    "    \n",
    "<h2 id=\"Classes To Produce ADTs\" style=\"color: #d42c06;\">\n",
    "C++ Is Evolving\n",
    "</h2>\n",
    "<ul style=\"margin-right:50px\">\n",
    "    <li> The International Standards Organization ratifies proposed changes to the language\n",
    "    <ul>\n",
    "        <li>C++11, C++14, C++17 are some of the specifications, with the number indicating the year of reaching the draft standard stage\n",
    "    </ul>\n",
    "    <li> Examples of some additions\n",
    "    <ul>\n",
    "        <li>std::array\n",
    "        <li>Threads\n",
    "        <li>Regular Expressions\n",
    "        <li>Smart Pointers\n",
    "    </ul>\n",
    "</div>"
   ]
  },
  {
   "cell_type": "markdown",
   "id": "68a1e22b",
   "metadata": {},
   "source": [
    "<div style=\"font-family: arial; padding: 30px; padding-top: 0; padding-bottom: 0;\">\n",
    "    \n",
    "<h2 id=\"Classes To Produce ADTs\" style=\"color: #d42c06;\">\n",
    "The standard array container\n",
    "</h2>\n",
    "<ul style=\"margin-right:50px\">\n",
    "    <li> <code>std::array</code> allows you to use a vector-like notation for random access into a fixed-size sequence of elements\n",
    "    <li> Provides safe array access with the performance and minimal storage of a regular array\n",
    "    <li> It is a template-based class\n",
    "\n",
    "```cpp\n",
    "    #include <array>\n",
    "    using std::array;\n",
    "```\n",
    "</div>"
   ]
  },
  {
   "cell_type": "markdown",
   "id": "46bf0d00",
   "metadata": {},
   "source": [
    "<div style=\"font-family: arial; padding: 30px; padding-top: 0; padding-bottom: 0;\">\n",
    "    \n",
    "<h2 id=\"Classes To Produce ADTs\" style=\"color: #d42c06;\">\n",
    "std::array Example\n",
    "</h2>\n",
    "<ul style=\"margin-right:50px\">\n",
    "    <li> The following creates an array of 4 ints:\n",
    "\n",
    "```cpp\n",
    "    array<int, 4> a = {1, 2, 3, 4};\n",
    "```\n",
    "<li> Use a.size() to get the number of elements and use [] to access elements:\n",
    "\n",
    "```cpp\n",
    "    // Output each element in the array\n",
    "    for (int i = 0; i < a.size(); i++)\n",
    "        cout << a[i] << endl;\n",
    "```\n",
    "<li> Given:\n",
    "\n",
    "```cpp\n",
    "    array<int, 4> a = {1, 2, 3};\n",
    "```\n",
    "<li>Index 3 initialized to zero:\n",
    "\n",
    "```cpp\n",
    "    cout << a[2] << endl; // 3\n",
    "    cout << a[3] << endl; // 0\n",
    "```\n",
    "\n",
    "<li> No harmful effects accessing outside the boundaries of the array:\n",
    "\n",
    "```cpp\n",
    "    a[100] = 10; // Ignored, no memory write\n",
    "```\n",
    "</div>"
   ]
  },
  {
   "cell_type": "markdown",
   "id": "04a52070",
   "metadata": {},
   "source": [
    "<div style=\"font-family: arial; padding: 30px; padding-top: 0; padding-bottom: 0;\">\n",
    "    \n",
    "<h2 id=\"Classes To Produce ADTs\" style=\"color: #d42c06;\">\n",
    "Regular Expressions\n",
    "</h2>\n",
    "<ul style=\"margin-right:50px\">\n",
    "    <li> For our purposes, a regular expression provides a way to match patterns of text\n",
    "    <ul>\n",
    "        <li>Formally, a regular expression describes a language from the class of regular languages\n",
    "        <li>Some compilers still missing regex support\n",
    "    </ul>\n",
    "    <li> This is a large topic, only a brief introduction is\n",
    "given here!\n",
    "\n",
    "```cpp\n",
    "    #include <regex>\n",
    "    using std::regex;\n",
    "```\n",
    "\n",
    "<img src=\"src/images/Comparison_of_Running_Times.jpg\" style=\"max-width:70%\"></img>\n",
    "\n",
    "</div>"
   ]
  },
  {
   "cell_type": "markdown",
   "id": "a15d80b9",
   "metadata": {},
   "source": [
    "<div style=\"font-family: arial; padding: 30px; padding-top: 0; padding-bottom: 0;\">\n",
    "    \n",
    "<h2 id=\"Classes To Produce ADTs\" style=\"color: #d42c06;\">\n",
    "Regular Expression Examples\n",
    "</h2>\n",
    "<ul style=\"margin-right:50px\">\n",
    "\n",
    "<img src=\"src/images/Regular_Expressions_Examples.jpg\" style=\"max-width:70%\"></img>\n",
    "\n",
    "</div>"
   ]
  },
  {
   "cell_type": "markdown",
   "id": "55dca7d6",
   "metadata": {},
   "source": [
    "<div style=\"font-family: arial; padding: 30px; padding-top: 0; padding-bottom: 0;\">\n",
    "    \n",
    "<h2 id=\"Classes To Produce ADTs\" style=\"color: #d42c06;\">\n",
    "Some Regular Expression Character Classes\n",
    "</h2>\n",
    "<img src=\"src/images/Regular_Expression_Character_Classes.jpg\" style=\"max-width:70%\"></img>\n",
    "<ul style=\"margin-right:50px\">\n",
    "    <li> Note that these regular expression character classes must contain the <code>\\</code> character, so we either need to escape it with <code>\\\\</code> or use <code>R“(literal text)“</code> instead\n",
    "\n",
    "</div>"
   ]
  },
  {
   "cell_type": "markdown",
   "id": "76f09375",
   "metadata": {},
   "source": [
    "<div style=\"font-family: arial; padding: 30px; padding-top: 0; padding-bottom: 0;\">\n",
    "    \n",
    "<h2 id=\"Classes To Produce ADTs\" style=\"color: #d42c06;\">\n",
    "Example – Matching a Phone Number\n",
    "</h2>"
   ]
  },
  {
   "cell_type": "markdown",
   "id": "1b838e9f",
   "metadata": {
    "vscode": {
     "languageId": "cpp"
    }
   },
   "source": [
    "```cpp\n",
    "// A phone number in the format xxx-xxx-xxxx\n",
    "string phonePattern = R\"(\\d{3}-\\d{3}-\\d{4})\";\n",
    "// A pattern with two words separated by whitespace\n",
    "string twoWordPattern = R\"(\\w+\\s\\w+)\";\n",
    "regex regPhone(phonePattern);\n",
    "regex regTwoWord(twoWordPattern);\n",
    "string s;\n",
    "cout << \"Enter a string to test the phone pattern.\" << endl;\n",
    "getline(cin, s);\n",
    "if (regex_match(s, regPhone))\n",
    "    cout << s << \" matches \" << phonePattern << endl;\n",
    "else\n",
    "    cout << s << \" doesn't match \" << phonePattern << endl;\n",
    "\n",
    "cout << endl;\n",
    "cout << \"Enter a string to test the two word pattern.\" << endl;\n",
    "getline(cin, s);\n",
    "\n",
    "if (regex_match(s, regTwoWord))\n",
    "    cout << s << \" matches \" << twoWordPattern << endl;\n",
    "else\n",
    "    cout << s << \" doesn't match \" << twoWordPattern << endl;\n",
    "```"
   ]
  },
  {
   "cell_type": "markdown",
   "id": "5ab8f213",
   "metadata": {},
   "source": [
    "<div style=\"font-family: arial; padding: 30px; padding-top: 0; padding-bottom: 0;\">\n",
    "    \n",
    "<h2 id=\"Classes To Produce ADTs\" style=\"color: #d42c06;\">\n",
    "Threads\n",
    "</h2>\n",
    "<ul style=\"margin-right:50px\">\n",
    "    <li> A thread is a separate computational process that runs concurrently\n",
    "    <ul>\n",
    "        <li> You can think of a thread as a program that can run at the same time (in parallel) as other threads\n",
    "        <li> Useful for performance reasons and to prevent your program from blocking while waiting for input\n",
    "    </ul>\n",
    "\n",
    "```cpp\n",
    "#include <thread>\n",
    "using std::thread;\n",
    "```\n",
    "</div>"
   ]
  },
  {
   "cell_type": "markdown",
   "id": "e877ed4b",
   "metadata": {},
   "source": [
    "<div style=\"font-family: arial; padding: 30px; padding-top: 0; padding-bottom: 0;\">\n",
    "    \n",
    "<h2 id=\"Classes To Produce ADTs\" style=\"color: #d42c06;\">\n",
    "Sample Program\n",
    "</h2>\n",
    "<ul style=\"margin-right:50px\">\n",
    "    <li> This program runs <code>func()</code> in two threads and main runs in a third thread\n",
    "\n",
    "```cpp\n",
    "void func(int a)\n",
    "{\n",
    "    cout << \"Hello World: \" << a << endl;\n",
    "}\n",
    "\n",
    "int main()\n",
    "{\n",
    "    thread t1(func, 10);  // Runs func(10) in a thread\n",
    "    thread t2(func, 20);  // Runs func(20) in a thread\n",
    "    t1.join();  // Waits for thread 1 to finish\n",
    "    t2.join();  // Waits for thread 2 to finish\n",
    "}\n",
    "\n",
    "```\n",
    "</div>"
   ]
  },
  {
   "cell_type": "markdown",
   "id": "566e6622",
   "metadata": {},
   "source": [
    "<div style=\"font-family: arial; padding: 30px; padding-top: 0; padding-bottom: 0;\">\n",
    "    \n",
    "<h2 id=\"Classes To Produce ADTs\" style=\"color: #d42c06;\">\n",
    "Mutex\n",
    "</h2>\n",
    "<ul style=\"margin-right:50px\">\n",
    "    <li> You can use a mutex to give a thread exclusive\n",
    "access to run a block of code. Other threads will wait\n",
    "for the mutex to be unlocked before entering\n",
    "\n",
    "```cpp\n",
    "#include <mutex>\n",
    "...\n",
    "using std::mutex;\n",
    "...\n",
    "mutex globalLock;\n",
    "\n",
    "void func(int a)\n",
    "{\n",
    "    globalLock.lock();\n",
    "    cout << \"Hello World: \" << a << endl;\n",
    "    globalLock.unlock();\n",
    "\n",
    "}\n",
    "\n",
    "int main()\n",
    "{\n",
    "    thread t1(func, 10);\n",
    "    thread t2(func, 20);\n",
    "    t1.join();\n",
    "    t2.join();\n",
    "}  \n",
    "\n",
    "```\n",
    "<li> It is also possible to run a class in a thread\n",
    "<li> See textbook for example \n",
    "</div>"
   ]
  },
  {
   "cell_type": "markdown",
   "id": "2cf54982",
   "metadata": {},
   "source": [
    "<div style=\"font-family: arial; padding: 30px; padding-top: 0; padding-bottom: 0;\">\n",
    "    \n",
    "<h2 id=\"Classes To Produce ADTs\" style=\"color: #d42c06;\">\n",
    "Smart Pointers\n",
    "</h2>\n",
    "<ul style=\"margin-right:50px\">\n",
    "    <li> A template class that automatically frees up memory allocated to dynamic variables when they go out of scope\n",
    "    <li> Uses a technique called reference counting that counts how many pointers reference an allocated node\n",
    "    <ul>\n",
    "        <li> <code>p = new Node();</code>\n",
    "        <li> <code>q = p;</code>\n",
    "\n",
    "<img src=\"src/images/Smart_Pointers.jpg\" style=\"max-width:70%\"></img>\n",
    "\n",
    "\n",
    "</div>"
   ]
  },
  {
   "cell_type": "markdown",
   "id": "fc2629e3",
   "metadata": {},
   "source": [
    "<div style=\"font-family: arial; padding: 30px; padding-top: 0; padding-bottom: 0;\">\n",
    "    \n",
    "<h2 id=\"Classes To Produce ADTs\" style=\"color: #d42c06;\">\n",
    "Reference Counting\n",
    "</h2>\n",
    "<ul style=\"margin-right:50px\">\n",
    "<li> <code>p = nullptr;</code>\n",
    "<li> <code>q = nullptr;</code>\n",
    "\n",
    "<img src=\"src/images/Reference_Counting.jpg\" style=\"max-width:70%\"></img>\n",
    "\n",
    "<li> Fails if there is a circular reference <br>\n",
    "<img src=\"src/images/Reference_Counting_2.jpg\" style=\"max-width:70%\"></img>\n",
    "<li> If p is reassigned the memory should be deleted but the reference count is stuck at 1 and won’t be deleted because the count needs to reach zero\n",
    "\n",
    "</div>"
   ]
  },
  {
   "cell_type": "markdown",
   "id": "9409a6fc",
   "metadata": {},
   "source": [
    "<div style=\"font-family: arial; padding: 30px; padding-top: 0; padding-bottom: 0;\">\n",
    "    \n",
    "<h2 id=\"Classes To Produce ADTs\" style=\"color: #d42c06;\">\n",
    "Smart Pointers\n",
    "</h2>\n",
    "<ul style=\"margin-right:50px\">\n",
    "    <li> Old code without smart pointers\n",
    "\n",
    "```cpp\n",
    "    Node *p = new Node();\n",
    "    P->callFunction();\n",
    "    delete p;    // delete when done with the pointer\n",
    "\n",
    "```\n",
    "<li> Converted to smart pointers\n",
    "\n",
    "```cpp\n",
    "    #include <memory>\n",
    "    using std::shared_ptr;\n",
    "    ...\n",
    "    shared_ptr<Node> p(new Node());  // Template class\n",
    "    p->callFunction();   // Use like a regular pointer\n",
    "    // delete p;    No longer needed, will be deleted automatically\n",
    "                    // when reference count reaches 0\n",
    "```\n",
    "</div>"
   ]
  },
  {
   "cell_type": "markdown",
   "id": "edef6512",
   "metadata": {},
   "source": [
    "<div style=\"font-family: arial; padding: 30px; padding-top: 0; padding-bottom: 0;\">\n",
    "    \n",
    "<h2 id=\"Classes To Produce ADTs\" style=\"color: #d42c06;\">\n",
    "Chapter Summary 1\n",
    "</h2>\n",
    "<ul style=\"margin-right:50px\">\n",
    "    <li> An iterator is a generalization of pointer. Iterators allow cycling through containers without compromising the container structure.\n",
    "    <li> Most iterators have operations <code>++</code> and dereferencing <code>*</code> defined.\n",
    "    <li> Main kinds of iterators are:\n",
    "    <ul>\n",
    "        <li> Forward, where <code>++</code> works but <code>--</code> does not\n",
    "        <li> Bidirectional where <code>++</code> and <code>--</code> work\n",
    "        <li> Random access where <code>++ --</code> indexing and iterator arithmetic all work.\n",
    "    </ul>\n",
    "</div>"
   ]
  },
  {
   "cell_type": "markdown",
   "id": "ff5edc8a",
   "metadata": {},
   "source": [
    "<div style=\"font-family: arial; padding: 30px; padding-top: 0; padding-bottom: 0;\">\n",
    "    \n",
    "<h2 id=\"Classes To Produce ADTs\" style=\"color: #d42c06;\">\n",
    "Chapter Summary 2\n",
    "</h2>\n",
    "<ul style=\"margin-right:50px\">\n",
    "    <li> Kinds of container classes are\n",
    "    <ul>\n",
    "        <li> Sequence containers: vector, deque, list\n",
    "        <li> Adapters: stack, queue, priority queue\n",
    "        <ul>\n",
    "            <li> Deque is the default underlying container\n",
    "            <li> User can select an underlying container\n",
    "            <li> Stack discipline is last-in-first-out\n",
    "            <li> Queue discipline is first-in-first-out\n",
    "            <li> Priority queue keeps largest key on top.\n",
    "        </ul>\n",
    "    </ul>\n",
    "</div>"
   ]
  },
  {
   "cell_type": "markdown",
   "id": "6dcb4807",
   "metadata": {},
   "source": [
    "<div style=\"font-family: arial; padding: 30px; padding-top: 0; padding-bottom: 0;\">\n",
    "    \n",
    "<h2 id=\"Classes To Produce ADTs\" style=\"color: #d42c06;\">\n",
    "Chapter Summary 3\n",
    "</h2>\n",
    "<ul style=\"margin-right:50px\">\n",
    "    <li> Associative containers: <code>set</code>, <code>map</code>, <code>multiset</code>, <code>multimap</code>\n",
    "    <ul>\n",
    "        <li> Associative containers store elements in sorted order\n",
    "        <li> <code>Map</code> is a set of <key, value> pairs, allowing retrieval on key.\n",
    "        <li> <code>Multiset</code> and <code>multiset</code> allow single key for multiple entries\n",
    "    </ul>\n",
    "</div>"
   ]
  },
  {
   "cell_type": "markdown",
   "id": "8a4de8bd",
   "metadata": {},
   "source": [
    "<div style=\"font-family: arial; padding: 30px; padding-top: 0; padding-bottom: 0;\">\n",
    "    \n",
    "<h2 id=\"Classes To Produce ADTs\" style=\"color: #d42c06;\">\n",
    "Chapter Summary 4\n",
    "</h2>\n",
    "<ul style=\"margin-right:50px\">\n",
    "    <li> Containers with iterators also provide member functions <code>begin( )</code> and <code>end( )</code> that return iterator types useful to traverse the container:\n",
    "\n",
    "```cpp\n",
    "    for (p = c.begin( ); p != c.end( ); p++) process(*p ); // *p is the current item\n",
    "```\n",
    "\n",
    "<li> Dereferencing a constant iterator <code>*const_p</code> provides read only access.\n",
    "<li> Dereferencing a mutable iterator produces a read-write access: <code>*mutable_p</code>\n",
    "</div>"
   ]
  },
  {
   "cell_type": "markdown",
   "id": "3508c358",
   "metadata": {},
   "source": [
    "<div style=\"font-family: arial; padding: 30px; padding-top: 0; padding-bottom: 0;\">\n",
    "    \n",
    "<h2 id=\"Classes To Produce ADTs\" style=\"color: #d42c06;\">\n",
    "Chapter Summary 5\n",
    "</h2>\n",
    "<ul style=\"margin-right:50px\">\n",
    "    <li> The sequence container <code>list</code> provides mutable bidirectional iterators.\n",
    "    <li> The sequence containers <code>vector</code> and <code>deque</code> provides mutable random access iterators.\n",
    "    <li> The STL provides template functions (sometimes called generic algorithms or template functions) that provide very guarantees on maximum running time.\n",
    "</div>"
   ]
  },
  {
   "cell_type": "markdown",
   "id": "9f1f2378",
   "metadata": {},
   "source": [
    "<div style=\"font-family: arial; padding: 30px; padding-top: 0; padding-bottom: 0;\">\n",
    "    \n",
    "<h2 id=\"Classes To Produce ADTs\" style=\"color: #d42c06;\">\n",
    "Chapter Summary 6\n",
    "</h2>\n",
    "<ul style=\"margin-right:50px\">\n",
    "    <li> C++ is changing. Some recent features include:\n",
    "    <ul>\n",
    "        <li> <code>std::array</code>, provides safe array access\n",
    "        <li> Regular expressions, pattern matching capabilities\n",
    "        <li> Thread library, allows code to run concurrently\n",
    "        <li> Smart pointers, uses reference counting to relieve the burden from the programmer to perform memory management, as long as there are no circular references\n",
    "    </ul>\n",
    "</div>"
   ]
  },
  {
   "cell_type": "markdown",
   "id": "9f829cf0",
   "metadata": {},
   "source": [
    "<div style=\"font-family: arial; padding: 30px; padding-top: 0; padding-bottom: 0;\">\n",
    "    \n",
    "<h2 id=\"Classes To Produce ADTs\" style=\"color: #d42c06;\">\n",
    "DISPLAY 18.1 Iterators Used with a Vector\n",
    "</h2>"
   ]
  },
  {
   "cell_type": "code",
   "execution_count": 18,
   "id": "fe77f74b",
   "metadata": {
    "vscode": {
     "languageId": "cpp"
    }
   },
   "outputs": [
    {
     "name": "stdout",
     "output_type": "stream",
     "text": [
      "Here is what is in the container:\n",
      "1 2 3 4 \n",
      "Setting entries to 0:\n",
      "Container now contains:\n",
      "0 0 0 0 \n"
     ]
    }
   ],
   "source": [
    "//Program to demonstrate STL iterators.\n",
    "#include <iostream>\n",
    "#include <vector>\n",
    "{\n",
    "    using std::cout;\n",
    "    using std::endl;\n",
    "    using std::vector;\n",
    "\n",
    "    vector<int> container;\n",
    "    for (int i = 1; i <= 4; i++)\n",
    "        container.push_back(i);\n",
    "\n",
    "    cout << \"Here is what is in the container:\\n\";\n",
    "    vector<int>::iterator p;\n",
    "    for (p = container.begin(); p != container.end(); p++)\n",
    "        cout << *p << \" \";\n",
    "    cout << endl;\n",
    "\n",
    "    cout << \"Setting entries to 0:\\n\";\n",
    "    for (p = container.begin(); p != container.end(); p++)\n",
    "        *p = 0;\n",
    "\n",
    "    cout << \"Container now contains:\\n\";\n",
    "    for (p = container.begin(); p != container.end(); p++)\n",
    "        cout << *p << \" \";\n",
    "    cout << endl;\n",
    "}"
   ]
  },
  {
   "cell_type": "markdown",
   "id": "56a4bbfc",
   "metadata": {},
   "source": [
    "<div style=\"font-family: arial; padding: 30px; padding-top: 0; padding-bottom: 0;\">\n",
    "    \n",
    "<h2 id=\"Classes To Produce ADTs\" style=\"color: #d42c06;\">\n",
    "DISPLAY 18.2 Bidirectional and Random Access Iterator Use\n",
    "</h2>\n"
   ]
  },
  {
   "cell_type": "code",
   "execution_count": 20,
   "id": "2ad11072",
   "metadata": {
    "vscode": {
     "languageId": "cpp"
    }
   },
   "outputs": [
    {
     "name": "stdout",
     "output_type": "stream",
     "text": [
      "container[0] == A\n",
      "container[1] == B\n",
      "container[2] == C\n",
      "container[3] == D\n",
      "The third entry is C\n",
      "The third entry is C\n",
      "The third entry is C\n",
      "Back to container[0].\n",
      "which has value A\n",
      "Two steps forward and one step back:\n",
      "B\n",
      "C\n",
      "B\n"
     ]
    }
   ],
   "source": [
    "//Program to demonstrate bidirectional and random access iterators.\n",
    "#include <iostream>\n",
    "#include <vector>\n",
    "\n",
    "{\n",
    "    using std::cout;\n",
    "    using std::endl;\n",
    "    using std::vector;\n",
    "\n",
    "    vector<char> container;\n",
    "    container.push_back('A');\n",
    "    container.push_back('B');\n",
    "    container.push_back('C');\n",
    "    container.push_back('D');\n",
    "    for (int i = 0; i < 4; i++)\n",
    "        cout << \"container[\" << i << \"] == \" << container[i] << endl;\n",
    "\n",
    "    vector<char>::iterator p = container.begin();\n",
    "    cout << \"The third entry is \" << container[2] << endl;\n",
    "    cout << \"The third entry is \" << p[2] << endl;\n",
    "    cout << \"The third entry is \" << *(p + 2) << endl;\n",
    "    cout << \"Back to container[0].\\n\";\n",
    "    p = container.begin();\n",
    "    cout << \"which has value \" << *p << endl;\n",
    "    cout << \"Two steps forward and one step back:\\n\";\n",
    "    p++;\n",
    "    cout << *p << endl;\n",
    "    p++;\n",
    "    cout << *p << endl;\n",
    "    p--;\n",
    "    cout << *p << endl;\n",
    "}\n"
   ]
  },
  {
   "cell_type": "markdown",
   "id": "e716ac2c",
   "metadata": {},
   "source": [
    "<div style=\"font-family: arial; padding: 30px; padding-top: 0; padding-bottom: 0;\">\n",
    "    \n",
    "<h2 id=\"Classes To Produce ADTs\" style=\"color: #d42c06;\">\n",
    "DISPLAY 18.3 Reverse Iterator\n",
    "</h2>\n"
   ]
  },
  {
   "cell_type": "code",
   "execution_count": 21,
   "id": "5ccea6e0",
   "metadata": {
    "vscode": {
     "languageId": "cpp"
    }
   },
   "outputs": [
    {
     "name": "stdout",
     "output_type": "stream",
     "text": [
      "Forward:\n",
      "A B C \n",
      "Reverse:\n",
      "C B A \n"
     ]
    }
   ],
   "source": [
    "//Program to demonstrate a reverse iterator.\n",
    "#include <iostream>\n",
    "#include <vector>\n",
    "\n",
    "\n",
    "{\n",
    "    using std::cout;\n",
    "    using std::endl;\n",
    "    using std::vector;\n",
    "\n",
    "    vector<char> container;\n",
    "    container.push_back('A');\n",
    "    container.push_back('B');\n",
    "    container.push_back('C');\n",
    "    cout << \"Forward:\\n\";\n",
    "    vector<char>::iterator p;\n",
    "    for (p = container.begin(); p != container.end(); p++)\n",
    "        cout << *p << \" \";\n",
    "    cout << endl;\n",
    "\n",
    "    cout << \"Reverse:\\n\";\n",
    "    vector<char>::reverse_iterator rp;\n",
    "    for (rp = container.rbegin(); rp != container.rend(); rp++)\n",
    "        cout << *rp << \" \";\n",
    "    cout << endl;\n",
    "}"
   ]
  },
  {
   "cell_type": "markdown",
   "id": "a5a64611",
   "metadata": {},
   "source": [
    "<div style=\"font-family: arial; padding: 30px; padding-top: 0; padding-bottom: 0;\">\n",
    "    \n",
    "<h2 id=\"Classes To Produce ADTs\" style=\"color: #d42c06;\">\n",
    "DISPLAY 18.4 Two Kinds of Lists\n",
    "</h2>\n",
    "<img src=\"src/images/Display_18_4.jpg\" style=\"max-width:70%\"></img>"
   ]
  },
  {
   "cell_type": "markdown",
   "id": "2db698c3",
   "metadata": {},
   "source": [
    "<div style=\"font-family: arial; padding: 30px; padding-top: 0; padding-bottom: 0;\">\n",
    "    \n",
    "<h2 id=\"Classes To Produce ADTs\" style=\"color: #d42c06;\">\n",
    "DISPLAY 18.5 Using the list Template Class\n",
    "</h2>"
   ]
  },
  {
   "cell_type": "code",
   "execution_count": 24,
   "id": "d0ae4c96",
   "metadata": {
    "vscode": {
     "languageId": "cpp"
    }
   },
   "outputs": [
    {
     "name": "stdout",
     "output_type": "stream",
     "text": [
      "List contains:\n",
      "1 2 3 \n",
      "Setting all entries to 0:\n",
      "List now contains:\n",
      "0 0 0 \n"
     ]
    }
   ],
   "source": [
    "//Program to demonstrate the STL template class list.\n",
    "#include <iostream>\n",
    "#include <list>\n",
    "\n",
    "{\n",
    "    using std::cout;\n",
    "    using std::endl;\n",
    "    using std::list;\n",
    "\n",
    "    list<int> listObject;\n",
    "    for (int i = 1; i <= 3; i++)\n",
    "        listObject.push_back(i);\n",
    "\n",
    "    cout << \"List contains:\\n\";\n",
    "    list<int>::iterator iter;\n",
    "    for (iter = listObject.begin(); iter != listObject.end(); iter++)\n",
    "        cout << *iter << \" \";\n",
    "    cout << endl;\n",
    "\n",
    "    cout << \"Setting all entries to 0:\\n\";\n",
    "    for (iter = listObject.begin(); iter != listObject.end(); iter++) \n",
    "        *iter = 0;\n",
    "\n",
    "    cout << \"List now contains:\\n\";\n",
    "    for (iter = listObject.begin(); iter != listObject.end(); iter++)\n",
    "        cout << *iter << \" \";\n",
    "\n",
    "    cout << endl;\n",
    "}\n",
    "    "
   ]
  },
  {
   "cell_type": "markdown",
   "id": "2113d4c1",
   "metadata": {},
   "source": [
    "<div style=\"font-family: arial; padding: 30px; padding-top: 0; padding-bottom: 0;\">\n",
    "    \n",
    "<h2 id=\"Classes To Produce ADTs\" style=\"color: #d42c06;\">\n",
    "DISPLAY 18.6 STL Basic Sequential Containers\n",
    "</h2>\n",
    "<img src=\"src/images/Display_18_6.jpg\" style=\"max-width:70%\"></img>"
   ]
  },
  {
   "cell_type": "markdown",
   "id": "4e06d835",
   "metadata": {},
   "source": [
    "<div style=\"font-family: arial; padding: 30px; padding-top: 0; padding-bottom: 0;\">\n",
    "    \n",
    "<h2 id=\"Classes To Produce ADTs\" style=\"color: #d42c06;\">\n",
    "DISPLAY 18.10 Program Using the Stack Template Class\n",
    "</h2>\n"
   ]
  },
  {
   "cell_type": "code",
   "execution_count": 1,
   "id": "fdbf7ea5",
   "metadata": {
    "vscode": {
     "languageId": "cpp"
    }
   },
   "outputs": [
    {
     "name": "stdout",
     "output_type": "stream",
     "text": [
      "Enter a line of text:\n",
      "Written backward that is:\n",
      "sds\n"
     ]
    }
   ],
   "source": [
    "//Program to demonstrate the use of the stack template class from the STL.\n",
    "#include <iostream>\n",
    "#include <stack>\n",
    "\n",
    "{\n",
    "    using std::cin;\n",
    "    using std::cout;\n",
    "    using std::endl;\n",
    "    using std::stack;\n",
    "\n",
    "    stack<char> s;\n",
    "    cout << \"Enter a line of text:\\n\";\n",
    "    char next;\n",
    "    cin.get(next);\n",
    "    while (next != '\\n')\n",
    "    {\n",
    "        s.push(next);\n",
    "        cin.get(next);\n",
    "    } \n",
    "    \n",
    "    cout << \"Written backward that is:\\n\";\n",
    "    while ( !s.empty() )\n",
    "    {\n",
    "        cout << s.top();\n",
    "        s.pop();\n",
    "    }\n",
    "    cout << endl;\n",
    "}\n"
   ]
  },
  {
   "cell_type": "markdown",
   "id": "07fc3213",
   "metadata": {},
   "source": [
    "<div style=\"font-family: arial; padding: 30px; padding-top: 0; padding-bottom: 0;\">\n",
    "    \n",
    "<h2 id=\"Classes To Produce ADTs\" style=\"color: #d42c06;\">\n",
    "DISPLAY 18.12 Program Using the set Template Class\n",
    "</h2>\n"
   ]
  },
  {
   "cell_type": "code",
   "execution_count": 2,
   "id": "30d6fb6e",
   "metadata": {
    "vscode": {
     "languageId": "cpp"
    }
   },
   "outputs": [
    {
     "name": "stdout",
     "output_type": "stream",
     "text": [
      "The set contains:\n",
      "A B C D \n",
      "Removing C.\n",
      "A B D \n"
     ]
    }
   ],
   "source": [
    "//Program to demonstrate use of the set template class.\n",
    "#include <iostream>\n",
    "#include <set>\n",
    "\n",
    "{\n",
    "\n",
    "    using std::cout;\n",
    "    using std::endl;\n",
    "    using std::set;\n",
    "\n",
    "    set<char> s;\n",
    "\n",
    "    s.insert('A');\n",
    "    s.insert('D');\n",
    "    s.insert('D');\n",
    "    s.insert('C');\n",
    "    s.insert('C');\n",
    "    s.insert('B');\n",
    "\n",
    "    cout << \"The set contains:\\n\";\n",
    "    set<char>::const_iterator p;\n",
    "    for (p = s.begin(); p != s.end(); p++)\n",
    "        cout << *p << \" \";\n",
    "    cout << endl;\n",
    "\n",
    "    cout << \"Removing C.\\n\";\n",
    "    s.erase('C');\n",
    "    for (p = s.begin(); p != s.end(); p++)\n",
    "        cout << *p << \" \";\n",
    "    cout << endl;\n",
    "\n",
    "}"
   ]
  },
  {
   "cell_type": "markdown",
   "id": "1bea847f",
   "metadata": {},
   "source": [
    "<div style=\"font-family: arial; padding: 30px; padding-top: 0; padding-bottom: 0;\">\n",
    "    \n",
    "<h2 id=\"Classes To Produce ADTs\" style=\"color: #d42c06;\">\n",
    "DISPLAY 18.14 Program Using the map Template Class\n",
    "</h2>\n"
   ]
  },
  {
   "cell_type": "code",
   "execution_count": 3,
   "id": "b08e4a36",
   "metadata": {
    "vscode": {
     "languageId": "cpp"
    }
   },
   "outputs": [
    {
     "name": "stdout",
     "output_type": "stream",
     "text": [
      "Entry for Mercury - Hot planet\n",
      "\n",
      "Mercury is in the map.\n",
      "Ceres is not in the map.\n",
      "\n",
      "Iterating through all planets: \n",
      "Earth - Home\n",
      "Jupiter - Largest planet in our solar system\n",
      "Mars - The Red Planet\n",
      "Mercury - Hot planet\n",
      "Neptune - 1500 mile-per-hour winds\n",
      "Pluto - Dwarf planet\n",
      "Saturn - Has rings\n",
      "Uranus - Tilts on its side\n",
      "Venus - Atmosphere of sulfuric acid\n"
     ]
    }
   ],
   "source": [
    "//Program to demonstrate use of the map template class.\n",
    "#include <iostream>\n",
    "#include <map>\n",
    "#include <string>\n",
    "\n",
    "{\n",
    "    using std::cout;\n",
    "    using std::endl;\n",
    "    using std::map;\n",
    "    using std::string;\n",
    "\n",
    "    map<string, string> planets;\n",
    "    planets[\"Mercury\"] = \"Hot planet\";\n",
    "    planets[\"Venus\"] = \"Atmosphere of sulfuric acid\";\n",
    "    planets[\"Earth\"] = \"Home\";\n",
    "    planets[\"Mars\"] = \"The Red Planet\";\n",
    "    planets[\"Jupiter\"] = \"Largest planet in our solar system\";\n",
    "    planets[\"Saturn\"] = \"Has rings\";\n",
    "    planets[\"Uranus\"] = \"Tilts on its side\";\n",
    "    planets[\"Neptune\"] = \"1500 mile-per-hour winds\";\n",
    "    planets[\"Pluto\"] = \"Dwarf planet\";\n",
    "    cout << \"Entry for Mercury - \" << planets[\"Mercury\"] << endl << endl;\n",
    "    if (planets.find(\"Mercury\") != planets.end())\n",
    "        cout << \"Mercury is in the map.\" << endl;\n",
    "\n",
    "    if (planets.find(\"Ceres\") == planets.end())\n",
    "        cout << \"Ceres is not in the map.\" << endl << endl;\n",
    "\n",
    "    cout << \"Iterating through all planets: \" << endl;\n",
    "    map<string, string>::const_iterator iter;\n",
    "    for (iter = planets.begin(); iter != planets.end(); iter++)\n",
    "    {\n",
    "        cout << iter->first << \" - \" << iter->second << endl; \n",
    "    }\n",
    "}"
   ]
  },
  {
   "cell_type": "markdown",
   "id": "cfa75ab1",
   "metadata": {},
   "source": [
    "<div style=\"font-family: arial; padding: 30px; padding-top: 0; padding-bottom: 0;\">\n",
    "    \n",
    "<h2 id=\"Classes To Produce ADTs\" style=\"color: #d42c06;\">\n",
    "DISPLAY 18.16 Comparison of Running Times\n",
    "</h2>\n",
    "<img src=\"src/images/Display_18_16.jpg\" style=\"max-width:70%\"></img>"
   ]
  },
  {
   "cell_type": "markdown",
   "id": "15d17420",
   "metadata": {},
   "source": [
    "<div style=\"font-family: arial; padding: 30px; padding-top: 0; padding-bottom: 0;\">\n",
    "    \n",
    "<h2 style=\"color: #d42c06;\">Reference(s)</h2>\n",
    "\n",
    "<ul>\n",
    "    <li>Walter J. Savitch. Problem Solving with C++, Tenth Edition. 2018.</li>\n",
    "</ul>\n",
    "\n",
    "<hr style=\"margin-top: 25px; border-color: #fff;\">\n",
    "\n",
    "</div>"
   ]
  }
 ],
 "metadata": {
  "kernelspec": {
   "display_name": "C++17",
   "language": "C++17",
   "name": "xcpp17"
  },
  "language_info": {
   "codemirror_mode": "text/x-c++src",
   "file_extension": ".cpp",
   "mimetype": "text/x-c++src",
   "name": "c++",
   "version": "-std=c++17"
  }
 },
 "nbformat": 4,
 "nbformat_minor": 5
}

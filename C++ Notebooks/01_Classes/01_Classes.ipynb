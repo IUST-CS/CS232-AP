{
 "cells": [
  {
   "cell_type": "markdown",
   "id": "b5dcc163",
   "metadata": {},
   "source": [
    "<div style=\"font-family: arial; padding: 30px; padding-bottom: 0;\">\n",
    "\n",
    "<h4 style=\"text-align: center;\">In the Name of God</h4>\n",
    "\n",
    "<h2 style=\"text-align: center; color: #103bc9;\">CS232 - Advanced Programming</h2>\n",
    "\n",
    "<h3 style=\"text-align: center; color: #d42c06;\">Iran University of Science and Technology</h3>\n",
    "    \n",
    "<h3 style=\"text-align: center; color: #d42c06;\">School of Mathematics and Computer Science</h3>\n",
    "\n",
    "<h4 style=\"padding-top: 7px; text-align: center;\">Winter-Spring 2024</h4>\n",
    "\n",
    "<hr style=\"margin-top: 25px; border-color: #fff;\">\n",
    "\n",
    "<h1 style=\"text-align: center; color: #9c0000;\">Chapter 10: Defining Classes</h1>\n",
    "\n",
    "<h3 style=\"padding-top: 7px; text-align: center;\">Mahdi Aghaei</h3>\n",
    "\n",
    "<hr style=\"margin-top: 25px; border-color: #fff;\">\n",
    "\n",
    "</div>"
   ]
  },
  {
   "cell_type": "markdown",
   "id": "9a6c6cb7",
   "metadata": {},
   "source": [
    "<div style=\"font-family: arial; padding: 30px; padding-bottom: 0;\">\n",
    "\n",
    "<hr style=\"margin-top: 25px; border-color: #fff;\">\n",
    "\n",
    "<h2 style=\"text-align: center; color: #186e00;\">Section 2: Classes</h2>\n",
    "\n",
    "<hr style=\"margin-top: 25px; border-color: #fff;\">\n",
    "\n",
    "</div>"
   ]
  },
  {
   "cell_type": "markdown",
   "id": "94f3c08e",
   "metadata": {},
   "source": [
    "<div style=\"font-family: arial; padding: 30px; padding-top: 0; padding-bottom: 0;\">\n",
    "    \n",
    "<h2 id=\"Program Example The BankAccount ADT\" style=\"color: #d42c06;\">Classes</h2>\n",
    "<li>A class is a data type whose variables are objects\n",
    "<ul style=\"margin-right:50px\">\n",
    "  <li>The definition of a class includes\n",
    "      <ul style=\"margin-right:50px\">\n",
    "      <li>Description of the kinds of values of the member variables\n",
    "      <li>Description of the member functions\n",
    "      </ul>\n",
    "  <li>A class description is somewhat like a structure definition plus the member variables\n",
    "</ul>\n",
    "</div>"
   ]
  },
  {
   "cell_type": "code",
   "execution_count": null,
   "id": "e6a9b7a3-6143-48dc-bb73-8416053a7cbb",
   "metadata": {},
   "outputs": [],
   "source": []
  },
  {
   "cell_type": "markdown",
   "id": "312d15ef",
   "metadata": {},
   "source": [
    "<div style=\"font-family: arial; padding: 30px; padding-top: 0; padding-bottom: 0;\">\n",
    "    \n",
    "<h2 id=\"Program Example The BankAccount ADT\" style=\"color: #d42c06;\">A Class Example</h2>\n",
    "<li>To create a new type named DayOfYear as a class definition\n",
    "<ul style=\"margin-right:50px\">\n",
    "  <li>Decideon the values to represent\n",
    "  <li>This example’s values are dates such as July 4 using an integer for the number of the month\n",
    "      <ul style=\"margin-right:50px\">\n",
    "      <li>Member variable month is an int (Jan= 1,Feb =2,etc.)\n",
    "      <li>Member variable day is an int\n",
    "      </ul>\n",
    "  <li>Decide on the member functions needed\n",
    "  <li>We use just one member function named output\n",
    "</ul>\n",
    "</div>"
   ]
  },
  {
   "cell_type": "markdown",
   "id": "b4199073",
   "metadata": {},
   "source": [
    "<div style=\"font-family: arial; padding: 30px; padding-top: 0; padding-bottom: 0;\">\n",
    "    \n",
    "<h2 id=\"Program Example The BankAccount ADT\" style=\"color: #d42c06;\">Class DayOfYear Definition</h2>\n",
    "</div>"
   ]
  },
  {
   "cell_type": "markdown",
   "id": "44c7f217",
   "metadata": {},
   "source": [
    "```cpp\n",
    "class DayOfYear\n",
    "{\n",
    "    public:\n",
    "        void output();//MemberFunctionDeclaration\n",
    "        int month;\n",
    "        int day;\n",
    "};\n",
    "```"
   ]
  },
  {
   "cell_type": "markdown",
   "id": "599be77d",
   "metadata": {},
   "source": [
    "<div style=\"font-family: arial; padding: 30px; padding-top: 0; padding-bottom: 0;\">\n",
    "    \n",
    "<h2 id=\"Program Example The BankAccount ADT\" style=\"color: #d42c06;\">Defining a Member Function</h2>\n",
    "<li>Member functions are declared in the class declaration\n",
    "<li>Member function definitions identify the class in which the function is a member\n",
    "</div>"
   ]
  },
  {
   "cell_type": "markdown",
   "id": "84bc0cde",
   "metadata": {},
   "source": [
    "<div style=\"font-family: arial; padding: 30px; padding-top: 0; padding-bottom: 0;\">\n",
    "    \n",
    "<h2 id=\"Program Example The BankAccount ADT\" style=\"color: #d42c06;\">Member Function Definition</h2>\n",
    "<li>Member function definition syntax:<br>Returned_Type \n",
    "\n",
    "</div>"
   ]
  },
  {
   "cell_type": "markdown",
   "id": "91d47b14",
   "metadata": {},
   "source": [
    "```cpp\n",
    "Class_Name::Function_Name(Parameter_List)\n",
    "{\n",
    "    Function Body Statements\n",
    "}\n",
    "```"
   ]
  },
  {
   "cell_type": "markdown",
   "id": "4ca9e138",
   "metadata": {},
   "source": [
    "<div style=\"font-family: arial; padding: 30px; padding-top: 0; padding-bottom: 0;\">\n",
    "\n",
    "<li>Example:  \n",
    "\n",
    "</div>"
   ]
  },
  {
   "cell_type": "markdown",
   "id": "b3b4ebd8",
   "metadata": {},
   "source": [
    "```cpp\n",
    "void DayOfYear::output()\n",
    "{\n",
    "    cout<<\"month=\"<<month\n",
    "        <<\",day=\"<<day\n",
    "        <<endl;\n",
    "}\n",
    "```"
   ]
  },
  {
   "cell_type": "markdown",
   "id": "ac8b9d1d",
   "metadata": {},
   "source": [
    "<div style=\"font-family: arial; padding: 30px; padding-top: 0; padding-bottom: 0;\">\n",
    "    \n",
    "<h2 id=\"Program Example The BankAccount ADT\" style=\"color: #d42c06;\">The ‘::’ Operator</h2>\n",
    "<li>‘::’ is the scope resolution operator\n",
    "<ul style=\"margin-right:50px\">\n",
    "  <li>Tells the class a member function is a member of\n",
    "  <li>voidDayOfYear::output() indicates that function output is a member of the DayOfYear class \n",
    "  <li>The class name that precedes ‘::’ is a type qualifier\n",
    "</ul>\n",
    "</div>"
   ]
  },
  {
   "cell_type": "markdown",
   "id": "351c5b1f",
   "metadata": {},
   "source": [
    "<div style=\"font-family: arial; padding: 30px; padding-top: 0; padding-bottom: 0;\">\n",
    "    \n",
    "<h2 id=\"Program Example The BankAccount ADT\" style=\"color: #d42c06;\">‘::’and‘.’</h2>\n",
    "<li>‘::’ is the scope resolution operator\n",
    "\n",
    "\n",
    "</div>"
   ]
  },
  {
   "cell_type": "markdown",
   "id": "ee949e5e",
   "metadata": {},
   "source": [
    "```cpp\n",
    "void DayOfYear::output()\n",
    "{\n",
    "    //functionbody\n",
    "}\n",
    "```"
   ]
  },
  {
   "cell_type": "markdown",
   "id": "ced6c18f",
   "metadata": {},
   "source": [
    "<div style=\"font-family: arial; padding: 30px; padding-top: 0; padding-bottom: 0;\">\n",
    "    \n",
    "<li>‘.’ used with variables to identify a member\n",
    "\n",
    "</div>"
   ]
  },
  {
   "cell_type": "markdown",
   "id": "f90e72f6",
   "metadata": {},
   "source": [
    "```cpp\n",
    "DayOfYear birthday;\n",
    "birthday.output();\n",
    "```"
   ]
  },
  {
   "cell_type": "markdown",
   "id": "4903350f",
   "metadata": {},
   "source": [
    "<div style=\"font-family: arial; padding: 30px; padding-top: 0; padding-bottom: 0;\">\n",
    "    \n",
    "<h2 id=\"Program Example The BankAccount ADT\" style=\"color: #d42c06;\">Calling Member Functions</h2>\n",
    "<li>Calling the DayOfYear member function output is done in this way:\n",
    "</div>"
   ]
  },
  {
   "cell_type": "markdown",
   "id": "9238d6b4",
   "metadata": {},
   "source": [
    "```cpp\n",
    "DayOfYeartoday,birthday;\n",
    "today.output( );\n",
    "birthday.output();\n",
    "```"
   ]
  },
  {
   "cell_type": "markdown",
   "id": "3e9161bb",
   "metadata": {},
   "source": [
    "<div style=\"font-family: arial; padding: 30px; padding-top: 0; padding-bottom: 0;\">\n",
    "<ul style=\"margin-right:50px\">\n",
    "  <li>Note that today and birthday have their own versions of the month and day variables for use by the output function\n",
    "</ul>\n",
    "</div>"
   ]
  },
  {
   "cell_type": "markdown",
   "id": "f6ff4760",
   "metadata": {},
   "source": [
    "<div style=\"font-family: arial; padding: 30px; padding-top: 0; padding-bottom: 0;\">\n",
    "    \n",
    "<h2 id=\"Program Example The BankAccount ADT\" style=\"color: #d42c06;\">Display 10.3 : Class with a Member Function</h2>\n",
    "</div>"
   ]
  },
  {
   "cell_type": "code",
   "execution_count": null,
   "id": "d0a6f6a4",
   "metadata": {
    "vscode": {
     "languageId": "cpp"
    }
   },
   "outputs": [],
   "source": [
    "#include <iostream>\n",
    "using namespace std;"
   ]
  },
  {
   "cell_type": "code",
   "execution_count": null,
   "id": "fb9b3448",
   "metadata": {
    "vscode": {
     "languageId": "cpp"
    }
   },
   "outputs": [],
   "source": [
    "{\n",
    "class DayOfYear\n",
    "{\n",
    "public:\n",
    "    void output()\n",
    "    {\n",
    "    cout << \"month = \" << month << \", day = \" << day << endl;\n",
    "    }\n",
    "    int month;\n",
    "    int day;\n",
    "};\n",
    "\n",
    "    DayOfYear today, birthday;\n",
    "    cout << \"Enter today's date:\\n\";\n",
    "    cout << \"Enter month as a number: \";\n",
    "    cin >> today.month;\n",
    "    cout << \"Enter the day of the month: \";\n",
    "    cin >> today.day;\n",
    "    cout << \"Enter your birthday : \\n\";\n",
    "    cout << \"Enter month as number: \";\n",
    "    cin >> birthday.month;\n",
    "    cout << \"Enter the day of the month: \";\n",
    "    cin >> birthday.day;\n",
    "    cout << \"Today's date is \";\n",
    "    today.output();\n",
    "    cout << \"Your birthday is \";\n",
    "    birthday.output();\n",
    "    if (birthday.month == today.month && birthday.day == today.day)\n",
    "    {\n",
    "        cout << \"Happy Birthday! \\n\";\n",
    "    }\n",
    "    else\n",
    "    {\n",
    "        cout << \"Happy Unbirthday! \\n\";\n",
    "    }\n",
    "}"
   ]
  },
  {
   "cell_type": "markdown",
   "id": "9d8dedff",
   "metadata": {},
   "source": [
    "<div style=\"font-family: arial; padding: 30px; padding-top: 0; padding-bottom: 0;\">\n",
    "    \n",
    "<h2 id=\"Program Example The BankAccount ADT\" style=\"color: #d42c06;\">Encapsulation</h2>\n",
    "<li>Encapsulation is\n",
    "<ul style=\"margin-right:50px\">\n",
    "  <li>Combining a number of items, such as variables and functions, into a single package such as an object of a class\n",
    "</ul>\n",
    "</div>"
   ]
  },
  {
   "cell_type": "markdown",
   "id": "bbe705ba",
   "metadata": {},
   "source": [
    "<div style=\"font-family: arial; padding: 30px; padding-top: 0; padding-bottom: 0;\">\n",
    "    \n",
    "<h2 id=\"Program Example The BankAccount ADT\" style=\"color: #d42c06;\">Problems With DayOfYear</h2>\n",
    "<li>Changing how the month is stored in the class DayOfYear requires changes to the program\n",
    "<li>If we decide to store the month as three characters(JAN,FEB,etc.)instead of an int\n",
    "<ul style=\"margin-right:50px\">\n",
    "  <li>cin>>today.month will no longer work because we now have three character variables to read\n",
    "  <li>if(today.month == birthday.month) will no longer workto compare months\n",
    "  <li>The member function “output” no longer works\n",
    "</ul>\n",
    "</div>"
   ]
  },
  {
   "cell_type": "markdown",
   "id": "6d19a812",
   "metadata": {},
   "source": [
    "<div style=\"font-family: arial; padding: 30px; padding-top: 0; padding-bottom: 0;\">\n",
    "    \n",
    "<h2 id=\"Program Example The BankAccount ADT\" style=\"color: #d42c06;\">Problems With DayOfYear</h2>\n",
    "<li>Changing the implementation of DayOfYear requires changes to the program that uses DayOfYear\n",
    "<li>An ideal class definition of DayOfYear could be changed without requiring changes to the program that uses DayOfYear\n",
    "</div>"
   ]
  },
  {
   "cell_type": "markdown",
   "id": "f0572686",
   "metadata": {},
   "source": [
    "<div style=\"font-family: arial; padding: 30px; padding-top: 0; padding-bottom: 0;\">\n",
    "    \n",
    "<h2 id=\"Program Example The BankAccount ADT\" style=\"color: #d42c06;\">Fixing DayOfYear</h2>\n",
    "<li>To fix DayOfYear\n",
    "<ul style=\"margin-right:50px\">\n",
    "  <li>We need to add member functions to use when changing or accessing the member variables\n",
    "  <ul style=\"margin-right:50px\">\n",
    "  <li>If the program never directly references the member variables,changing how the variables are stored will not require changing the program\n",
    "  </ul>\n",
    "  <li>We need to be sure that the program does not ever directly reference the member variables\n",
    "</ul>\n",
    "</div>"
   ]
  },
  {
   "cell_type": "markdown",
   "id": "1881f950",
   "metadata": {},
   "source": [
    "<div style=\"font-family: arial; padding: 30px; padding-top: 0; padding-bottom: 0;\">\n",
    "    \n",
    "<h2 id=\"Program Example The BankAccount ADT\" style=\"color: #d42c06;\">Public Or Private?</h2>\n",
    "<li>C++ helps us restrict the program from directly referencing member variables\n",
    "<ul style=\"margin-right:50px\">\n",
    "  <li>private members of a class can only be referenced within the definitions of member functions\n",
    "  <ul style=\"margin-right:50px\">\n",
    "  <li>If the program tries to access a private member,the compiler gives an error message\n",
    "  </ul>\n",
    "  <li>Private members can be variables or functions\n",
    "</ul>\n",
    "</div>"
   ]
  },
  {
   "cell_type": "markdown",
   "id": "ddb13dd1",
   "metadata": {},
   "source": [
    "<div style=\"font-family: arial; padding: 30px; padding-top: 0; padding-bottom: 0;\">\n",
    "    \n",
    "<h2 id=\"Program Example The BankAccount ADT\" style=\"color: #d42c06;\">Private Variables</h2>\n",
    "<li>Private variables cannot be accessed directly by the program\n",
    "<ul style=\"margin-right:50px\">\n",
    "  <li>Changing their values requires the use of public member functions of the class\n",
    "  <li>To set the private month and day variables in a new DayOfYear class use a member function such as :\n",
    "</ul>\n",
    "</div>"
   ]
  },
  {
   "cell_type": "markdown",
   "id": "d8f55546",
   "metadata": {},
   "source": [
    "```cpp\n",
    "void DayOfYear::set(intnew_month,intnew_day)\n",
    "{\n",
    "    month=new_month; \n",
    "    day =new_day;\n",
    "}\n",
    "```"
   ]
  },
  {
   "cell_type": "markdown",
   "id": "38b6aaee",
   "metadata": {},
   "source": [
    "<div style=\"font-family: arial; padding: 30px; padding-top: 0; padding-bottom: 0;\">\n",
    "    \n",
    "<h2 id=\"Program Example The BankAccount ADT\" style=\"color: #d42c06;\">Public or Private Members</h2>\n",
    "<li>The keyword private identifies the members of a class that can be accessed only by member functions of the class\n",
    "<ul style=\"margin-right:50px\">\n",
    "  <li>Members that follow the keyword private are private members of the class\n",
    "</ul>\n",
    "<li>The keyword public identifies the members of a class that can be accessed from outside the class\n",
    "<ul style=\"margin-right:50px\">\n",
    "  <li>Members that follow the keyword public are public members of the class\n",
    "</ul>\n",
    "</div>"
   ]
  },
  {
   "cell_type": "markdown",
   "id": "f92c9255",
   "metadata": {},
   "source": [
    "<div style=\"font-family: arial; padding: 30px; padding-top: 0; padding-bottom: 0;\">\n",
    "    \n",
    "<h2 id=\"Program Example The BankAccount ADT\" style=\"color: #d42c06;\">A New DayOfYear</h2>\n",
    "<li>The new DayOfYear class demonstrated in Display 10.4…\n",
    "<ul style=\"margin-right:50px\">\n",
    "  <li>Uses all private member variables\n",
    "  <li>Uses member functions to do all manipulation of the private member variables\n",
    "  <ul style=\"margin-right:50px\">\n",
    "  <li>Member variables and member function definitions can be\n",
    "changed without changes to the program that uses DayOfYear\n",
    "</ul>\n",
    "</ul>\n",
    "\n",
    "</div>"
   ]
  },
  {
   "cell_type": "markdown",
   "id": "040dacde",
   "metadata": {},
   "source": [
    "<div style=\"font-family: arial; padding: 30px; padding-top: 0; padding-bottom: 0;\">\n",
    "    \n",
    "<h2 id=\"Program Example The BankAccount ADT\" style=\"color: #d42c06;\">Disaplay 10.4 : Class with Private Members </h2>\n",
    "\n",
    "</div>"
   ]
  },
  {
   "cell_type": "code",
   "execution_count": null,
   "id": "b839df3f",
   "metadata": {},
   "outputs": [],
   "source": [
    "#include <iostream>\n",
    "using namespace std;"
   ]
  },
  {
   "cell_type": "code",
   "execution_count": null,
   "id": "54c3d8ad",
   "metadata": {
    "vscode": {
     "languageId": "cpp"
    }
   },
   "outputs": [
    {
     "name": "stdout",
     "output_type": "stream",
     "text": [
      "Enter today's date:\n",
      "Enter the month as a number: Enter the day of the month: Today's date is month = 2, day = 2\n",
      "J. S. Bach's birthday is month = 3, day = 21\n",
      "Happy Unbirthday Johann Sebastian!\n"
     ]
    }
   ],
   "source": [
    "{\n",
    "// Program to demonstrate the class DayOfYear.\n",
    "class DayOfYear\n",
    "{\n",
    "public:\n",
    "    void input()\n",
    "    {\n",
    "        cout << \"Enter the month as a number: \";\n",
    "        cin >> month;\n",
    "        cout << \"Enter the day of the month: \";\n",
    "        cin >> day;\n",
    "        checkDate();\n",
    "    }\n",
    "    void output()\n",
    "    {\n",
    "        cout << \"month = \" << month << \", day = \" << day << endl;\n",
    "    }\n",
    "    void set(int newMonth, int newDay)\n",
    "    {\n",
    "        month = newMonth;\n",
    "        day = newDay;\n",
    "        checkDate();\n",
    "    }\n",
    "    // Precondition: newMonth and newDay form a possible date.\n",
    "    // Postcondition: The date is reset according to the arguments.\n",
    "    int getMonth()\n",
    "    {\n",
    "        return month;\n",
    "    }\n",
    "    // Returns the month, 1 for January, 2 for February, etc.\n",
    "    int getDay()\n",
    "    {\n",
    "        return day;\n",
    "    }\n",
    "    // Returns the day of the month.\n",
    "private:\n",
    "    void checkDate()\n",
    "    {\n",
    "        if ((month < 1) || (month > 12) || (day < 1) || (day > 31))\n",
    "        {\n",
    "            cout << \"Illegal date. Aborting program.\\n\";\n",
    "            exit(1);\n",
    "        }\n",
    "    }\n",
    "    int month;\n",
    "    int day;\n",
    "};\n",
    "\n",
    "    DayOfYear today, bachBirthday;\n",
    "    cout << \"Enter today's date:\\n\";\n",
    "    today.input();\n",
    "    cout << \"Today's date is \";\n",
    "    today.output();\n",
    "    bachBirthday.set(3, 21);\n",
    "    cout << \"J. S. Bach's birthday is \";\n",
    "    bachBirthday.output();\n",
    "    if (today.getMonth() == bachBirthday.getMonth() &&\n",
    "        today.getDay() == bachBirthday.getDay())\n",
    "        cout << \"Happy Birthday Johann Sebastian!\\n\";\n",
    "    else\n",
    "        cout << \"Happy Unbirthday Johann Sebastian!\\n\";\n",
    "}"
   ]
  },
  {
   "cell_type": "markdown",
   "id": "c33cd8e0",
   "metadata": {},
   "source": [
    "<div style=\"font-family: arial; padding: 30px; padding-top: 0; padding-bottom: 0;\">\n",
    "    \n",
    "<h2 id=\"Program Example The BankAccount ADT\" style=\"color: #d42c06;\">Using Private Variables</h2>\n",
    "<li>It is normal to make all member variables private\n",
    "<li>Private variables require member functions to perform all changing and retrieving of values\n",
    "<ul style=\"margin-right:50px\">\n",
    "  <li>Accessor functions allow you to obtain the values of member variables\n",
    "  <ul style=\"margin-right:50px\">\n",
    "  <li>Example:getDay in class DayOfYear\n",
    "</ul>\n",
    "  <li>Mutator functions allow you to change the values of member variables\n",
    "  <ul style=\"margin-right:50px\">\n",
    "  <li>Example:set in class DayOfYear\n",
    "  <ul style=\"margin-right:50px\">\n",
    "</ul>\n",
    "\n",
    "</div>"
   ]
  },
  {
   "cell_type": "markdown",
   "id": "70a30aec",
   "metadata": {},
   "source": [
    "<div style=\"font-family: arial; padding: 30px; padding-top: 0; padding-bottom: 0;\">\n",
    "    \n",
    "<h2 id=\"Program Example The BankAccount ADT\" style=\"color: #d42c06;\">General Class Definitions</h2>\n",
    "<li>The syntax for a class definition is <br>\n",
    "<ul style=\"margin-right:50px\">\n",
    " \n",
    "</ul>\n",
    "\n",
    "</div>"
   ]
  },
  {
   "cell_type": "markdown",
   "id": "361b6dfb",
   "metadata": {},
   "source": [
    "```cpp\n",
    "class Class_Name\n",
    "{\n",
    "public:\n",
    "    Member_Specification_1\n",
    "    Member_Specification_2\n",
    "    … \n",
    "    Member_Specification_3\n",
    "private:\n",
    "    Member_Specification_n+1\n",
    "    Member_Specification_n+2\n",
    "    …\n",
    "};"
   ]
  },
  {
   "cell_type": "markdown",
   "id": "ce7d103c",
   "metadata": {},
   "source": [
    "<div style=\"font-family: arial; padding: 30px; padding-top: 0; padding-bottom: 0;\">\n",
    "    \n",
    "<h2 id=\"Program Example The BankAccount ADT\" style=\"color: #d42c06;\">Declaring an Object</h2>\n",
    "<li>Once a class is defined, an object of the class is declared just as variables of anyother type \n",
    "<ul style=\"margin-right:50px\">\n",
    "  <li>Example:To create two objects of type Bicycle:\n",
    "</ul>\n",
    "\n",
    "</div>"
   ]
  },
  {
   "cell_type": "markdown",
   "id": "b4f7899e",
   "metadata": {},
   "source": [
    "```cpp\n",
    "class Bicycle\n",
    "{\n",
    "    //class definition lines\n",
    "};\n",
    "Bicycle myBike,yourBike;\n",
    "```"
   ]
  },
  {
   "cell_type": "markdown",
   "id": "17d86a66",
   "metadata": {},
   "source": [
    "<div style=\"font-family: arial; padding: 30px; padding-top: 0; padding-bottom: 0;\">\n",
    "    \n",
    "<h2 id=\"Program Example The BankAccount ADT\" style=\"color: #d42c06;\">The Assignment Operator</h2>\n",
    "<li>Objects and structures can be assigned values with the assignment operator(=)\n",
    "<ul style=\"margin-right:50px\">\n",
    "  <li>Example: \n",
    "</ul>\n",
    "\n",
    "</div>"
   ]
  },
  {
   "cell_type": "markdown",
   "id": "ba48cc4f",
   "metadata": {},
   "source": [
    "```cpp\n",
    "DayOfYear dueDate,tomorrow;\n",
    "tomorrow.set(11,19);\n",
    "dueDate=tomorrow;\n",
    "```"
   ]
  },
  {
   "cell_type": "markdown",
   "id": "94ed2255",
   "metadata": {},
   "source": [
    "<div style=\"font-family: arial; padding: 30px; padding-top: 0; padding-bottom: 0;\">\n",
    "    \n",
    "<h2 id=\"Program Example The BankAccount ADT\" style=\"color: #d42c06;\">Program Example: BankAccount Class</h2>\n",
    "<li>This bank account class allows\n",
    "<ul style=\"margin-right:50px\">\n",
    "  <li>Withdrawal of money at any time\n",
    "  <li>All operations normally expected of a bank account(implemented with member functions)\n",
    "  <li>Storing an account balance\n",
    "  <li>Storing the account’s interest rate\n",
    "</ul>\n",
    "\n",
    "</div>"
   ]
  },
  {
   "cell_type": "markdown",
   "id": "54376f4c",
   "metadata": {},
   "source": [
    "<div style=\"font-family: arial; padding: 30px; padding-top: 0; padding-bottom: 0;\">\n",
    "    \n",
    "<h2 id=\"Program Example The BankAccount ADT\" style=\"color: #d42c06;\">Display 10.5 : The BankAccount Class</h2>\n",
    "\n",
    "</div>"
   ]
  },
  {
   "cell_type": "code",
   "execution_count": null,
   "id": "3fd931d7",
   "metadata": {},
   "outputs": [],
   "source": [
    "#include <iostream>\n",
    "using namespace std;"
   ]
  },
  {
   "cell_type": "code",
   "execution_count": null,
   "id": "6bc4475b",
   "metadata": {
    "vscode": {
     "languageId": "cpp"
    }
   },
   "outputs": [
    {
     "name": "stdout",
     "output_type": "stream",
     "text": [
      "Start of Test:\n",
      "account1 initial statement:\n",
      "Account balance $123.99\n",
      "Interest rate 3.00%\n",
      "account1 with new setup:\n",
      "Account balance $100.00\n",
      "Interest rate 5.00%\n",
      "account1 after update:\n",
      "Account balance $105.00\n",
      "Interest rate 5.00%\n",
      "account2:\n",
      "Account balance $105.00\n",
      "Interest rate 5.00%\n"
     ]
    }
   ],
   "source": [
    "{\n",
    "// Class for a bank account:\n",
    "class BankAccount\n",
    "{\n",
    "public:\n",
    "    void set(int dollars, int cents, double rate)\n",
    "    {\n",
    "        if ((dollars < 0) || (cents < 0) || (rate < 0))\n",
    "        {\n",
    "            cout << \"Illegal values for money or interest rate.\\n\";\n",
    "            return;\n",
    "        }\n",
    "        balance = dollars + 0.01 * cents;\n",
    "        interestRate = rate;\n",
    "    }\n",
    "    // Postcondition: The account balance has been set to $dollars.cents;\n",
    "    // The interest rate has been set to rate percent.\n",
    "    void set(int dollars, double rate)\n",
    "    {\n",
    "        if ((dollars < 0) || (rate < 0))\n",
    "        {\n",
    "            cout << \"Illegal values for money or interest rate.\\n\";\n",
    "            return;\n",
    "        }\n",
    "        balance = dollars;\n",
    "        interestRate = rate;\n",
    "    }\n",
    "    // Postcondition: The account balance has been set to $dollars.00.\n",
    "    // The interest rate has been set to rate percent.\n",
    "    void update()\n",
    "    {\n",
    "        balance = balance + fraction(interestRate) * balance;\n",
    "    }\n",
    "\n",
    "    // Postcondition: One year of simple interest has been\n",
    "    // added to the account balance.\n",
    "    double getBalance()\n",
    "    {\n",
    "        return balance;\n",
    "    }\n",
    "    // Returns the current account balance.\n",
    "    double getRate()\n",
    "    {\n",
    "        return interestRate;\n",
    "    }\n",
    "    // Returns the current account interest rate as a percentage.\n",
    "    void output(ostream &outs)\n",
    "    {\n",
    "        outs.setf(ios::fixed);\n",
    "        outs.setf(ios::showpoint);\n",
    "        outs.precision(2);\n",
    "        outs << \"Account balance $\" << balance << endl;\n",
    "        outs << \"Interest rate \" << interestRate << \"%\" << endl;\n",
    "    }\n",
    "    // Precondition: If outs is a file output stream, then\n",
    "    // outs has already been connected to a file.\n",
    "    // Postcondition: Account balance and interest rate have\n",
    "    // been written to the stream outs.\n",
    "private:\n",
    "    double balance;\n",
    "    double interestRate;\n",
    "\n",
    "    double fraction(double percent)\n",
    "    {\n",
    "        return (percent / 100.0);\n",
    "    }\n",
    "    // Converts a percentage to a fraction. For example, fraction(50.3)\n",
    "    // returns 0.503.\n",
    "};\n",
    "    BankAccount account1, account2;\n",
    "    cout << \"Start of Test:\\n\";\n",
    "    account1.set(123, 99, 3.0);\n",
    "    cout << \"account1 initial statement:\\n\";\n",
    "    account1.output(cout);\n",
    "    account1.set(100, 5.0);\n",
    "    cout << \"account1 with new setup:\\n\";\n",
    "    account1.output(cout);\n",
    "    account1.update();\n",
    "    cout << \"account1 after update:\\n\";\n",
    "    account1.output(cout);\n",
    "    account2 = account1;\n",
    "    cout << \"account2:\\n\";\n",
    "    account2.output(cout);\n",
    "\n",
    "}"
   ]
  },
  {
   "cell_type": "markdown",
   "id": "94e99b5d",
   "metadata": {},
   "source": [
    "<div style=\"font-family: arial; padding: 30px; padding-top: 0; padding-bottom: 0;\">\n",
    "    \n",
    "<h2 id=\"Program Example The BankAccount ADT\" style=\"color: #d42c06;\">Calling Public Members</h2>\n",
    "<li>Recall that if calling a member function from the main function of a program, you must include thethe object name: \n",
    "\n",
    "\n",
    "</div>"
   ]
  },
  {
   "cell_type": "markdown",
   "id": "9a24ac1a",
   "metadata": {},
   "source": [
    "```cpp\n",
    "account1.update();\n",
    "```"
   ]
  },
  {
   "cell_type": "markdown",
   "id": "ba2be4ad",
   "metadata": {},
   "source": [
    "<div style=\"font-family: arial; padding: 30px; padding-top: 0; padding-bottom: 0;\">\n",
    "    \n",
    "<h2 id=\"Program Example The BankAccount ADT\" style=\"color: #d42c06;\">Calling Private Members</h2>\n",
    "<li>Whenamember function calls a private member function, an object name is notused\n",
    "<ul style=\"margin-right:50px\">\n",
    "  <li>fraction (double percent); <br>\n",
    "is a private member of the BankAccount class\n",
    "  <li>fraction is called by member function update \n",
    "</ul>\n",
    "\n",
    "</div>"
   ]
  },
  {
   "cell_type": "markdown",
   "id": "5b411a80",
   "metadata": {},
   "source": [
    "```cpp\n",
    "void BankAccount::update()\n",
    "{\n",
    "    balance =balance+fraction(interestRate)*balance\n",
    "}\n",
    "```"
   ]
  },
  {
   "cell_type": "markdown",
   "id": "7c63b366",
   "metadata": {},
   "source": [
    "<div style=\"font-family: arial; padding: 30px; padding-top: 0; padding-bottom: 0;\">\n",
    "    \n",
    "<h2 id=\"Program Example The BankAccount ADT\" style=\"color: #d42c06;\">Constructors</h2>\n",
    "<li>A constructor can be used to initialize member variables when an object is declared\n",
    "<ul style=\"margin-right:50px\">\n",
    "  <li>A constructor is a member function that is usually public\n",
    "  <li>A constructor is automatically called when an object of the class is declared\n",
    "  <li>A constructor’s name must be the name of the class\n",
    "  <li>A constructor can not return a value\n",
    "  <ul style=\"margin-right:50px\">\n",
    "  <li>No return type, not even void, is used in declaring or defining a constructor\n",
    "</ul>\n",
    "</ul>\n",
    "\n",
    "</div>"
   ]
  },
  {
   "cell_type": "markdown",
   "id": "2cced083",
   "metadata": {},
   "source": [
    "<div style=\"font-family: arial; padding: 30px; padding-top: 0; padding-bottom: 0;\">\n",
    "    \n",
    "<h2 id=\"Program Example The BankAccount ADT\" style=\"color: #d42c06;\">Constructor Declaration</h2>\n",
    "<li>A constructor for the BankAccount class could be declared as:\n",
    "\n",
    "</div>"
   ]
  },
  {
   "cell_type": "markdown",
   "id": "906a239b",
   "metadata": {},
   "source": [
    "```cpp\n",
    "class BankAccount\n",
    "{\n",
    "public:\n",
    "    BankAccount(intdollars,intcents,doublerate);\n",
    "    //initializesthebalanceto$dollars.cents\n",
    "    //initializestheinterest ratetoratepercent\n",
    "\n",
    "    //TherestoftheBankAccountdefinition\n",
    "};\n",
    "```"
   ]
  },
  {
   "cell_type": "markdown",
   "id": "72f0c21b",
   "metadata": {},
   "source": [
    "<div style=\"font-family: arial; padding: 30px; padding-top: 0; padding-bottom: 0;\">\n",
    "    \n",
    "<h2 id=\"Program Example The BankAccount ADT\" style=\"color: #d42c06;\">Constructor Definition</h2>\n",
    "<li>The constructor for the BankAccount class could be defined as\n",
    "\n",
    "</div>"
   ]
  },
  {
   "cell_type": "markdown",
   "id": "fd10f61d",
   "metadata": {},
   "source": [
    "```cpp\n",
    "BankAccount::BankAccount(intdollars,intcents, doublerate)\n",
    "{\n",
    "    if((dollars<0) ||(cents<0) || (rate <0 ))\n",
    "    {\n",
    "        cout<<\"Illegalvaluesfor moneyorrate\\n\"; exit(1);\n",
    "    }\n",
    "    balance= dollars+ 0.01 *cents; interestRate= rate;\n",
    "}\n",
    "```"
   ]
  },
  {
   "cell_type": "markdown",
   "id": "26df8aac",
   "metadata": {},
   "source": [
    "<ul style=\"margin-right:50px\">\n",
    "  <li>Note : that the class name and function name are the same\n",
    "</ul>"
   ]
  },
  {
   "cell_type": "markdown",
   "id": "7443a953",
   "metadata": {},
   "source": [
    "<div style=\"font-family: arial; padding: 30px; padding-top: 0; padding-bottom: 0;\">\n",
    "    \n",
    "<h2 id=\"Program Example The BankAccount ADT\" style=\"color: #d42c06;\">Calling A Constructor(1)</h2>\n",
    "<li>A constructor is not called like a normal member function\n",
    "\n",
    "</div>"
   ]
  },
  {
   "cell_type": "markdown",
   "id": "e0021d4f",
   "metadata": {},
   "source": [
    "<div style=\"font-family: arial; padding: 30px; padding-top: 0; padding-bottom: 0;\">\n",
    "    \n",
    "<h2 id=\"Program Example The BankAccount ADT\" style=\"color: #d42c06;\">Calling A Constructor(2)</h2>\n",
    "<li>A constructor is called in the object declaration\n",
    "\n",
    "</div>"
   ]
  },
  {
   "cell_type": "markdown",
   "id": "8e384123",
   "metadata": {},
   "source": [
    "```cpp\n",
    "BankAccount account1(10,50,2.0);\n",
    "```"
   ]
  },
  {
   "cell_type": "markdown",
   "id": "5c467852",
   "metadata": {},
   "source": [
    "<div style=\"font-family: arial; padding: 30px; padding-top: 0; padding-bottom: 0;\">\n",
    "    \n",
    "<ul style=\"margin-right:50px\">\n",
    "  <li>Creates a BankAccount object and calls the constructor to initialize the member variables\n",
    "</ul>\n",
    "\n",
    "</div>"
   ]
  },
  {
   "cell_type": "markdown",
   "id": "99434651",
   "metadata": {},
   "source": [
    "<div style=\"font-family: arial; padding: 30px; padding-top: 0; padding-bottom: 0;\">\n",
    "    \n",
    "<h2 id=\"Program Example The BankAccount ADT\" style=\"color: #d42c06;\">Overloading Constructors</h2>\n",
    "<li>Constructors can be overloaded by defining constructorswithdifferent parameter lists\n",
    "<ul style=\"margin-right:50px\">\n",
    "  <li>Other possible constructors for the BankAccount classmight be\n",
    "</ul>\n",
    "\n",
    "</div>"
   ]
  },
  {
   "cell_type": "markdown",
   "id": "2b2d265a",
   "metadata": {},
   "source": [
    "```cpp\n",
    "BankAccount (double balance,double interestRate); \n",
    "BankAccount(double balance);\n",
    "BankAccount (double interestRate); \n",
    "BankAccount();\n",
    "```"
   ]
  },
  {
   "cell_type": "markdown",
   "id": "dceb1309",
   "metadata": {},
   "source": [
    "<div style=\"font-family: arial; padding: 30px; padding-top: 0; padding-bottom: 0;\">\n",
    "    \n",
    "<h2 id=\"Program Example The BankAccount ADT\" style=\"color: #d42c06;\">The Default Constructor</h2>\n",
    "<li>A default constructor uses no parameters\n",
    "<li>A default constructor for the BankAccount class could be declared in this way\n",
    "\n",
    "\n",
    "</div>"
   ]
  },
  {
   "cell_type": "markdown",
   "id": "c8db74d1",
   "metadata": {},
   "source": [
    "```cpp\n",
    "class BankAccount\n",
    "{\n",
    "public:\n",
    "    BankAccount();\n",
    "    // initializesbalanceto$0.00\n",
    "    //initializesrateto0.0%\n",
    "    //Therestoftheclassdefinition\n",
    "};\n",
    "```"
   ]
  },
  {
   "cell_type": "markdown",
   "id": "596255a9",
   "metadata": {},
   "source": [
    "<div style=\"font-family: arial; padding: 30px; padding-top: 0; padding-bottom: 0;\">\n",
    "    \n",
    "<h2 id=\"Program Example The BankAccount ADT\" style=\"color: #d42c06;\">Default Constructor Definition</h2>\n",
    "<li>The default constructor for the BankAccount class could be defined as\n",
    "</div>"
   ]
  },
  {
   "cell_type": "markdown",
   "id": "c68c2b39",
   "metadata": {},
   "source": [
    "```cpp\n",
    "BankAccount::BankAccount()\n",
    "{\n",
    "    balance=0;\n",
    "    rate=0.0;\n",
    "}\n",
    "```"
   ]
  },
  {
   "cell_type": "markdown",
   "id": "fdb7bf1f",
   "metadata": {},
   "source": [
    "<div style=\"font-family: arial; padding: 30px; padding-top: 0; padding-bottom: 0;\">\n",
    "    \n",
    "<li>It is a good idea to always include a default constructor even if you do not want to initialize variables\n",
    "</div>"
   ]
  },
  {
   "cell_type": "markdown",
   "id": "475a9ee2",
   "metadata": {},
   "source": [
    "<div style=\"font-family: arial; padding: 30px; padding-top: 0; padding-bottom: 0;\">\n",
    "    \n",
    "<h2 id=\"Program Example The BankAccount ADT\" style=\"color: #d42c06;\">Calling the Default Constructor</h2>\n",
    "<li>The default constructor is called during declarationofan object\n",
    "<ul style=\"margin-right:50px\">\n",
    "  <li>An argument list is not used\n",
    "</ul>\n",
    "\n",
    "</div>"
   ]
  },
  {
   "cell_type": "markdown",
   "id": "dc391218",
   "metadata": {},
   "source": [
    "```cpp\n",
    "\n",
    "BankAccount account1;\n",
    "//uses the default BankAccount constructor\n",
    "\n",
    "BankAccount account1();\n",
    "//Is not legal\n",
    "```"
   ]
  },
  {
   "cell_type": "markdown",
   "id": "18e1751e",
   "metadata": {},
   "source": [
    "<div style=\"font-family: arial; padding: 30px; padding-top: 0; padding-bottom: 0;\">\n",
    "    \n",
    "<h2 id=\"Program Example The BankAccount ADT\" style=\"color: #d42c06;\">Display 10.6 : Class with Constructors</h2>\n",
    "\n",
    "\n",
    "</div>"
   ]
  },
  {
   "cell_type": "code",
   "execution_count": null,
   "id": "eab02d28",
   "metadata": {
    "vscode": {
     "languageId": "cpp"
    }
   },
   "outputs": [],
   "source": [
    "#include <iostream>\n",
    "using namespace std;"
   ]
  },
  {
   "cell_type": "code",
   "execution_count": null,
   "id": "5f78664f",
   "metadata": {
    "vscode": {
     "languageId": "cpp"
    }
   },
   "outputs": [
    {
     "name": "stdout",
     "output_type": "stream",
     "text": [
      "account1 initialized as follows:\n",
      "Account balance $100.00\n",
      "Interest rate 2.30%\n",
      "account2 initialized as follows:\n",
      "Account balance $0.00\n",
      "Interest rate 0.00%\n",
      "account1 reset to the following:\n",
      "Account balance $999.99\n",
      "Interest rate 5.50%\n"
     ]
    }
   ],
   "source": [
    "{\n",
    "// Class for a bank account:\n",
    "class BankAccount\n",
    "{\n",
    "public:\n",
    "    BankAccount(int dollars, int cents, double rate)\n",
    "    {\n",
    "        if ((dollars < 0) || (cents < 0) || (rate < 0))\n",
    "        {\n",
    "            cout << \"Illegal values for money or interest rate.\\n\";\n",
    "            return;\n",
    "        }\n",
    "        balance = dollars + 0.01 * cents;\n",
    "        interestRate = rate;\n",
    "    }\n",
    "    // Initializes the account balance to $dollars.cents and\n",
    "    // initializes the interest rate to rate percent.\n",
    "    BankAccount(int dollars, double rate)\n",
    "    {\n",
    "        if ((dollars < 0) || (rate < 0))\n",
    "        {\n",
    "            cout << \"Illegal values for money or interest rate.\\n\";\n",
    "            return;\n",
    "        }\n",
    "        balance = dollars;\n",
    "        interestRate = rate;\n",
    "    }\n",
    "    // Initializes the account balance to $dollars.00 and\n",
    "    // initializes the interest rate to rate percent.\n",
    "    BankAccount() : balance(0), interestRate(0.0)\n",
    "    {\n",
    "        // Body intentionally empty\n",
    "    }\n",
    "    // Initializes the account balance to $0.00\n",
    "    // and the interest rate to 0.0%.\n",
    "    void set(int dollars, int cents, double rate);\n",
    "    // Postcondition: The account balance has been set to $dollars.cents;\n",
    "    // The interest rate has been set to rate percent.\n",
    "    void set(int dollars, double rate);\n",
    "    // Postcondition: The account balance has been set to $dollars.00.\n",
    "    // The interest rate has been set to rate percent.\n",
    "    void update();\n",
    "    // Postcondition: One year of simple interest has been added\n",
    "    // to the account balance.\n",
    "    double getBalance();\n",
    "    // Returns the current account balance.\n",
    "    double getRate();\n",
    "    // Returns the current account interest rate as a percentage.\n",
    "    void output(ostream &outs)\n",
    "    {\n",
    "        outs.setf(ios::fixed);\n",
    "        outs.setf(ios::showpoint);\n",
    "        outs.precision(2);\n",
    "        outs << \"Account balance $\" << balance << endl;\n",
    "        outs << \"Interest rate \" << interestRate << \"%\" << endl;\n",
    "    }\n",
    "    // Precondition: If outs is a file output stream, then\n",
    "    // outs has already been connected to a file.\n",
    "    // Postcondition: Account balance and interest rate\n",
    "    // have been written to the stream outs.\n",
    "private:\n",
    "    double balance;\n",
    "    double interestRate;\n",
    "    double fraction(double percent);\n",
    "    // Converts a percentage to a fraction. For example, fraction(50.3)\n",
    "    // returns 0.503.\n",
    "};\n",
    "\n",
    "    BankAccount account1(100, 2.3), account2;\n",
    "    cout << \"account1 initialized as follows:\\n\";\n",
    "    account1.output(cout);\n",
    "    cout << \"account2 initialized as follows:\\n\";\n",
    "    account2.output(cout);\n",
    "    account1 = BankAccount(999, 99, 5.5);\n",
    "    cout << \"account1 reset to the following:\\n\";\n",
    "    account1.output(cout);\n",
    "\n",
    "}"
   ]
  },
  {
   "cell_type": "markdown",
   "id": "d874d228",
   "metadata": {},
   "source": [
    "<div style=\"font-family: arial; padding: 30px; padding-top: 0; padding-bottom: 0;\">\n",
    "    \n",
    "<h2 id=\"Program Example The BankAccount ADT\" style=\"color: #d42c06;\">Initialization Sections</h2>\n",
    "<li>An initialization section in a function definition provides an alternative way to initialize member variables\n",
    "<ul style=\"margin-right:50px\">\n",
    "  <li>An argument list is not used\n",
    "</ul>\n",
    "\n",
    "</div>"
   ]
  },
  {
   "cell_type": "markdown",
   "id": "a9f0831a",
   "metadata": {},
   "source": [
    "```cpp\n",
    "BankAccount::BankAccount():balance(0),interestRate(0.0);\n",
    "{\n",
    "    //Nocodeneededinthisexample\n",
    "}\n",
    "```"
   ]
  },
  {
   "cell_type": "markdown",
   "id": "9ad7e7b6",
   "metadata": {},
   "source": [
    "<div style=\"font-family: arial; padding: 30px; padding-top: 0; padding-bottom: 0;\">\n",
    "    \n",
    "<ul style=\"margin-right:50px\">\n",
    "  <li>The values in parenthesis are the initial values for the member variables listed\n",
    "</ul>\n",
    "\n",
    "</div>"
   ]
  },
  {
   "cell_type": "markdown",
   "id": "46b08029",
   "metadata": {},
   "source": [
    "<div style=\"font-family: arial; padding: 30px; padding-top: 0; padding-bottom: 0;\">\n",
    "    \n",
    "<h2 id=\"Program Example The BankAccount ADT\" style=\"color: #d42c06;\">Parameters and Initialization</h2>\n",
    "<li>Member functions with parameters can use initialization sections\n",
    "</div>"
   ]
  },
  {
   "cell_type": "markdown",
   "id": "edcdb906",
   "metadata": {},
   "source": [
    "```cpp\n",
    "BankAccount::BankAccount(intdollars,intcents, doublerate):balance(dollars+0.01 * cents), interestRate(rate)\n",
    "{\n",
    "    if((dollars<0)||(cents< 0)||(rate<0))\n",
    "    {\n",
    "        cout<<\"Illegalvaluesformoneyorrate\\n\"; \n",
    "        exit(1);\n",
    "    }\n",
    "}\n",
    "```"
   ]
  },
  {
   "cell_type": "markdown",
   "id": "30904410",
   "metadata": {},
   "source": [
    "<div style=\"font-family: arial; padding: 30px; padding-top: 0; padding-bottom: 0;\">\n",
    "    \n",
    "<ul style=\"margin-right:50px\">\n",
    "  <li>Notice that the parameters can be arguments in the initialization\n",
    "</ul>\n",
    "\n",
    "</div>"
   ]
  },
  {
   "cell_type": "markdown",
   "id": "88148172",
   "metadata": {},
   "source": [
    "<div style=\"font-family: arial; padding: 30px; padding-top: 0; padding-bottom: 0;\">\n",
    "    \n",
    "<h2 id=\"Program Example The BankAccount ADT\" style=\"color: #d42c06;\">Member Initializers</h2>\n",
    "<li>C++ supports a feature called member initialization\n",
    "<li>Example :\n",
    "\n",
    "</div>"
   ]
  },
  {
   "cell_type": "markdown",
   "id": "bff482ac",
   "metadata": {},
   "source": [
    "```cpp\n",
    "class Coordinate\n",
    "{\n",
    "    private:\n",
    "        intx=1; \n",
    "        inty=2;\n",
    "        ...\n",
    "};\n",
    "```"
   ]
  },
  {
   "cell_type": "markdown",
   "id": "7b8a9d60",
   "metadata": {},
   "source": [
    "<div style=\"font-family: arial; padding: 30px; padding-top: 0; padding-bottom: 0;\">\n",
    "    \n",
    "<li>Creating a Coordinate object will initialize its x variable to 1 and y to 2 (assuming a constructor isn’t called that sets the values to something else)\n",
    "\n",
    "</div>"
   ]
  },
  {
   "cell_type": "markdown",
   "id": "b91a8ee1",
   "metadata": {},
   "source": [
    "<div style=\"font-family: arial; padding: 30px; padding-top: 0; padding-bottom: 0;\">\n",
    "    \n",
    "<h2 id=\"Program Example The BankAccount ADT\" style=\"color: #d42c06;\">Constructor Delegation</h2>\n",
    "<li>C++ also supports constructor delegation. This lets you have a constructor invoke another constructor in the initialization section.\n",
    "<li>For example, make the default constructor call a second constructor that sets X to 99 and Y to 99:\n",
    "\n",
    "</div>"
   ]
  },
  {
   "cell_type": "markdown",
   "id": "9b8e77b7",
   "metadata": {},
   "source": [
    "```cpp\n",
    "Coordinate::Coordinate(): Coordinate(99,99)\n",
    "{}\n",
    "```"
   ]
  },
  {
   "cell_type": "markdown",
   "id": "117fa422",
   "metadata": {},
   "source": [
    "<div style=\"font-family: arial; padding: 30px; padding-top: 0; padding-bottom: 0;\">\n",
    "    \n",
    "<h2 id=\"Program Example The BankAccount ADT\" style=\"color: #d42c06;\">Section 10.2 Conclusion</h2>\n",
    "<li>Can you\n",
    "<ul style=\"margin-right:50px\">\n",
    "  <li>Describe the difference between a class and a structure?\n",
    "  <li>Explain why member variables are usually private?\n",
    "  <li>Describe the purpose of a constructor?\n",
    "  <li>Use an initialization section in a function definition?\n",
    "</ul>\n",
    "\n",
    "</div>"
   ]
  }
 ],
 "metadata": {
  "kernelspec": {
   "display_name": "C++17",
   "language": "C++17",
   "name": "xcpp17"
  },
  "language_info": {
   "codemirror_mode": "text/x-c++src",
   "file_extension": ".cpp",
   "mimetype": "text/x-c++src",
   "name": "c++",
   "version": "17"
  }
 },
 "nbformat": 4,
 "nbformat_minor": 5
}

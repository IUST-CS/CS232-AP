{
 "cells": [
  {
   "cell_type": "markdown",
   "metadata": {},
   "source": [
    "<div style=\"font-family: arial; padding: 30px; padding-bottom: 0;\">\n",
    "\n",
    "<h4 style=\"text-align: center;\">In the Name of God</h4>\n",
    "\n",
    "<h2 style=\"text-align: center; color: #103bc9;\">CS232 - Advanced Programming</h2>\n",
    "\n",
    "<h3 style=\"text-align: center; color: #d42c06;\">Iran University of Science and Technology</h3>\n",
    "\n",
    "<h3 style=\"text-align: center; color: #d42c06;\">School of Mathematics and Computer Science</h3>\n",
    "\n",
    "<h4 style=\"padding-top: 7px; text-align: center;\">Winter-Spring 2024</h4>\n",
    "\n",
    "<hr style=\"margin-top: 25px; border-color: #fff;\">\n",
    "\n",
    "<h1 style=\"text-align: center; color: #9c0000;\">Chapter 15: Inheritance</h1>\n",
    "\n",
    "<h3 style=\"padding-top: 7px; text-align: center;\">Fateme Radfar<br> Eliya Kaheni</h3>\n",
    "\n",
    "<hr style=\"margin-top: 25px; border-color: #fff;\">\n",
    "\n",
    "</div>"
   ]
  },
  {
   "cell_type": "markdown",
   "metadata": {},
   "source": [
    "<div style=\"font-family: arial; padding: 30px; padding-top: 0; padding-bottom: 0;\">\n",
    "    \n",
    "<h2 id=\"introduction\" style=\"color: #d42c06;\">Overview</h2>\n",
    "\n",
    "</div>"
   ]
  },
  {
   "cell_type": "markdown",
   "metadata": {},
   "source": [
    "<div style=\"font-size: 1.1em; font-family: arial; padding: 30px; padding-top: 0; padding-bottom: 0;\"\n",
    "\n",
    "<hr style=\"margin-top: 25px; border-color: #fff;\">\n",
    "<ol>\n",
    "    <li>Inheritance Basics</li>\n",
    "    <li>Inheritance Details</li>\n",
    "    <li>Polymorphism</li>\n",
    "</ol>\n",
    "\n",
    "</div>"
   ]
  },
  {
   "cell_type": "markdown",
   "metadata": {},
   "source": [
    "<div style=\"font-family: arial; padding: 30px; padding-bottom: 0;\">\n",
    "\n",
    "<hr style=\"margin-top: 25px; border-color: #fff;\">\n",
    "\n",
    "<h2 style=\"text-align: center; color: #186e00;\">Section 1: Inheritance</h2>\n",
    "\n",
    "<hr style=\"margin-top: 25px; border-color: #fff;\">\n",
    "\n",
    "</div>"
   ]
  },
  {
   "cell_type": "markdown",
   "metadata": {},
   "source": [
    "<div style=\"font-family: arial; padding: 30px; padding-top: 0; padding-bottom: 0;\">\n",
    "    \n",
    "<h2 id=\"introduction\" style=\"color: #d42c06;\">Inheritance Basics</h2>\n",
    "\n",
    "</div>"
   ]
  },
  {
   "cell_type": "markdown",
   "metadata": {},
   "source": [
    "<div style=\"font-size: 1.1em; font-family: arial; padding: 30px; padding-top: 0; padding-bottom: 0;\">\n",
    "<ul>\n",
    "    <li>Inheritance is the process by which a new class, called a derived class, is created from another class, called <strong>the base class.</strong></li>\n",
    "    <ul>\n",
    "        <li>A derived class automatically has all the member variables and functions of the base class.</li>\n",
    "        <li>A derived class can have additional member variables and/or member functions.</li>\n",
    "        <li>The derived class is a child of the base or parent class.</li>\n",
    "    </ul>\n",
    "</ul>\n",
    "</div>"
   ]
  },
  {
   "cell_type": "markdown",
   "metadata": {},
   "source": [
    "<div style=\"font-family: arial; padding: 30px; padding-top: 0; padding-bottom: 0;\">\n",
    "    \n",
    "<h2  style=\"color: #d42c06;\">Example Inheritance Hierarchy for Home Automation Devices</h2>\n",
    "\n",
    "</div>"
   ]
  },
  {
   "cell_type": "markdown",
   "metadata": {},
   "source": [
    "<div style='text-align: center; font-family: Arial, sans-serif;'>\n",
    "    <div style='border: 1px solid black; display: inline-block; margin: 10px; padding: 10px;'>\n",
    "        <h2>Device</h2>\n",
    "        <p>string model</p>\n",
    "        <p>string serialNumber</p>\n",
    "        <p>string status()</p>\n",
    "    </div>\n",
    "    <div>\n",
    "        <div style='font-size: 24px; font-weight: bold; margin-top: 20px;'>DoorDevice --> Device</div>\n",
    "        <div style='border: 1px solid black; display: inline-block; margin: 10px; padding: 10px;'>\n",
    "            <h2>DoorDevice</h2>\n",
    "            <p>string status()</p>\n",
    "            <p>void openClose()</p>\n",
    "        </div>\n",
    "        <div style='font-size: 24px; font-weight: bold; margin-top: 20px;'>ThermostatDevice --> Device</div>\n",
    "        <div style='border: 1px solid black; display: inline-block; margin: 10px; padding: 10px;'>\n",
    "            <h2>ThermostatDevice</h2>\n",
    "            <p>string status()</p>\n",
    "            <p>void setTemp(int t)</p>\n",
    "        </div>\n",
    "    </div>\n",
    "</div>\n",
    "<div style='text-align: left; margin-top: 20px; font-size: 14px;'>\n",
    "    <p>An object of type <strong>DoorDevice</strong> or <strong>ThermostatDevice</strong> includes functions and variables defined in Device, such as model and serialNumber.</p>\n",
    "    <p>The status() function can be overridden. If a DoorDevice object is treated like a Device object, then calling status() will invoke DoorDevice's status() function, not Device's status() function. This is necessary when the Device class doesn't know what to return as a status and only the derived classes can return the information.</p>\n",
    "</div>\n"
   ]
  },
  {
   "cell_type": "markdown",
   "metadata": {},
   "source": [
    "<div style=\"font-family: arial; padding: 30px; padding-top: 0; padding-bottom: 0;\">\n",
    "    \n",
    "<h2  style=\"color: #d42c06;\">Employee Classes</h2>\n",
    "\n",
    "</div>"
   ]
  },
  {
   "cell_type": "markdown",
   "metadata": {},
   "source": [
    "<div style=\"font-size: 1.1em; font-family: arial; padding: 30px; padding-top: 0; padding-bottom: 0;\">\n",
    "<ul>\n",
    "    <li>To design a record-keeping program with records for salaried and hourly employees...</li>\n",
    "    <ul>\n",
    "        <li>Salaried and hourly employees belong to a class of people who share the property \"employee\".</li>\n",
    "        <li>A subset of employees are those with a fixed wage.</li>\n",
    "        <li>Another subset of employees earn hourly wages.</li>\n",
    "    </ul>\n",
    "    <li>All employees have a name and SSN.</li>\n",
    "    <ul>\n",
    "        <li>Functions to manipulate name and SSN are the same for hourly and salaried employees.</li>\n",
    "    </ul>\n",
    "    \n",
    "</ul>\n",
    "</div>"
   ]
  },
  {
   "cell_type": "markdown",
   "metadata": {},
   "source": [
    "<div style=\"font-family: arial; padding: 30px; padding-top: 0; padding-bottom: 0;\">\n",
    "    \n",
    "<h2  style=\"color: #d42c06;\">A Base Class</h2>\n",
    "\n",
    "</div>"
   ]
  },
  {
   "cell_type": "markdown",
   "metadata": {},
   "source": [
    "<div style=\"font-size: 1.1em; font-family: arial; padding: 30px; padding-top: 0; padding-bottom: 0;\">\n",
    "<ul>\n",
    "    <li>We will define a class called Employee for all employees.</li>\n",
    "    <li>The Employee class will be used to define classes for hourly and salaried employees.</li>\n",
    "</ul>\n",
    "</div>"
   ]
  },
  {
   "cell_type": "markdown",
   "metadata": {},
   "source": [
    "<div style=\"font-family: arial; padding: 30px; padding-top: 0; padding-bottom: 0;\">\n",
    "    \n",
    "<h2  style=\"color: #d42c06;\">Interface for the Base Class Employee</h2>\n",
    "\n",
    "</div>"
   ]
  },
  {
   "cell_type": "markdown",
   "metadata": {},
   "source": [
    "```cpp\n",
    "namespace employeessavitch {\n",
    "\n",
    "class Employee {\n",
    "public:\n",
    "    // Constructors\n",
    "    Employee();\n",
    "    Employee(string theName, string theSSN);\n",
    "\n",
    "    // Accessor methods\n",
    "    string getName() const;\n",
    "    string getSSN() const;\n",
    "    double getNetPay() const;\n",
    "\n",
    "    // Mutator methods\n",
    "    void setName(string newName);\n",
    "    void setSSN(string newSSN);\n",
    "    void setNetPay(double newNetPay);\n",
    "\n",
    "    // Other member functions\n",
    "    virtual void printCheck() const = 0; // Made pure virtual to indicate this is an abstract class\n",
    "\n",
    "private:\n",
    "    string name;\n",
    "    string ssn;\n",
    "    double netPay;\n",
    "};\n",
    "\n",
    "}\n",
    "```"
   ]
  },
  {
   "cell_type": "markdown",
   "metadata": {},
   "source": [
    "<div style=\"font-family: arial; padding: 30px; padding-top: 0; padding-bottom: 0;\">\n",
    "    \n",
    "<h2  style=\"color: #d42c06;\">Interface for the Base Class Employee</h2>\n",
    "\n",
    "</div>"
   ]
  },
  {
   "cell_type": "markdown",
   "metadata": {},
   "source": [
    "```cpp\n",
    "namespace employeessavitch {\n",
    "\n",
    "Employee::Employee() : name(\"No name yet\"), ssn(\"No number yet\"), netPay(0) {\n",
    "    // Deliberately empty\n",
    "}\n",
    "\n",
    "Employee::Employee(string theName, string theNumber) : name(theName), ssn(theNumber), netPay(0) {\n",
    "    // Deliberately empty\n",
    "}\n",
    "\n",
    "string Employee::getName() const {\n",
    "    return name;\n",
    "}\n",
    "\n",
    "string Employee::getSSN() const {\n",
    "    return ssn;\n",
    "}\n",
    "\n",
    "double Employee::getNetPay() const {\n",
    "    return netPay;\n",
    "}\n",
    "\n",
    "void Employee::setName(string newName) {\n",
    "    name = newName;\n",
    "}\n",
    "\n",
    "void Employee::setSSN(string newSSN) {\n",
    "    ssn = newSSN;\n",
    "}\n",
    "\n",
    "void Employee::setNetPay(double newNetPay) {\n",
    "    netPay = newNetPay;\n",
    "}\n",
    "\n",
    "void Employee::printCheck() const {\n",
    "    cout << \"\\nERROR: printCheck FUNCTION CALLED FOR AN \\n\"\n",
    "         << \"UNDIFFERENTIATED EMPLOYEE. Aborting the program.\\n\"\n",
    "         << \"Check with the author of the program about this bug.\\n\";\n",
    "    exit(1);\n",
    "}\n",
    "\n",
    "} // namespace employeessavitch\n",
    "```"
   ]
  },
  {
   "cell_type": "markdown",
   "metadata": {},
   "source": [
    "<div style=\"font-size: 1.1em; font-family: arial; padding: 30px;\">\n",
    "<div style=\"border: 2px solid #1f49a3; border-radius: 10px; padding: 30px; padding-top: 15px;\">\n",
    "<h3 style=\"color: #1f49a3; font-weight: bold;\">Note</h3>\n",
    "<span style=\"color: #1f49a3;\">Note that all the example codes are placed in the <code>src</code> folder </span>\n",
    "</div>\n",
    "</div>"
   ]
  },
  {
   "cell_type": "markdown",
   "metadata": {},
   "source": [
    "<div style=\"font-family: arial; padding: 30px; padding-top: 0; padding-bottom: 0;\">\n",
    "    \n",
    "<h2  style=\"color: #d42c06;\">Function printCheck</h2>\n",
    "\n",
    "</div>"
   ]
  },
  {
   "cell_type": "markdown",
   "metadata": {},
   "source": [
    "<div style=\"font-size: 1.1em; font-family: arial; padding: 30px; padding-top: 0; padding-bottom: 0;\">\n",
    "<ul>\n",
    "    <li>Function printCheck will have different definitions to print different checks for each type of employee.</li>\n",
    "    <ul>\n",
    "        <li>An Employee object lacks sufficient information to print a check.</li>\n",
    "        <li>Each derived class will have sufficient information to print a check.</li>\n",
    "    </ul>\n",
    "</ul>\n",
    "</div>"
   ]
  },
  {
   "cell_type": "markdown",
   "metadata": {},
   "source": [
    "<div style=\"font-family: arial; padding: 30px; padding-top: 0; padding-bottom: 0;\">\n",
    "    \n",
    "<h2  style=\"color: #d42c06;\">Class HourlyEmployee</h2>\n",
    "\n",
    "</div>"
   ]
  },
  {
   "cell_type": "markdown",
   "metadata": {},
   "source": [
    "<div style=\"font-size: 1.1em; font-family: arial; padding: 30px; padding-top: 0; padding-bottom: 0;\">\n",
    "<ul>\n",
    "    <li> HourlyEmployee is derived from Class Employee.</li>\n",
    "    <ul>\n",
    "        <li>HourlyEmployee inherits all member functions and member variables of Employee.</li>\n",
    "        <li>The class definition begins class HourlyEmployee : public Employee.</li>\n",
    "        <ul>\n",
    "            <li>:public Employee shows that HourlyEmployee is derived from class Employee.</li>\n",
    "        </ul>\n",
    "        <li>HourlyEmployee declares additional member variables wageRate and hours</li>\n",
    "    </ul>\n",
    "</ul>\n",
    "</div>"
   ]
  },
  {
   "cell_type": "markdown",
   "metadata": {},
   "source": [
    "<div style=\"font-family: arial; padding: 30px; padding-top: 0; padding-bottom: 0;\">\n",
    "    \n",
    "<h2  style=\"color: #d42c06;\">Interface for the Derived Class HourlyEmployee</h2>\n",
    "\n",
    "</div>"
   ]
  },
  {
   "cell_type": "markdown",
   "metadata": {},
   "source": [
    "```cpp\n",
    "namespace employeessavitch {\n",
    "\n",
    "class HourlyEmployee : public Employee {\n",
    "public:\n",
    "    // Constructors\n",
    "    HourlyEmployee();\n",
    "    HourlyEmployee(string theName, string theSSN, double theWageRate, double theHours);\n",
    "\n",
    "    // Mutator methods\n",
    "    void setRate(double newWageRate);\n",
    "    void setHours(double hoursWorked);\n",
    "\n",
    "    // Accessor methods\n",
    "    double getRate() const;\n",
    "    double getHours() const;\n",
    "\n",
    "    // Other member functions\n",
    "    void printCheck(); // Overrides the Employee class virtual function\n",
    "\n",
    "private:\n",
    "    double wageRate;\n",
    "    double hours;\n",
    "};\n",
    "\n",
    "} // namespace employeessavitch\n",
    "```"
   ]
  },
  {
   "cell_type": "markdown",
   "metadata": {},
   "source": [
    "<div style=\"font-family: arial; padding: 30px; padding-top: 0; padding-bottom: 0;\">\n",
    "    \n",
    "<h2  style=\"color: #d42c06;\">Inherited Members</h2>\n",
    "\n",
    "</div>"
   ]
  },
  {
   "cell_type": "markdown",
   "metadata": {},
   "source": [
    "<div style=\"font-size: 1.1em; font-family: arial; padding: 30px; padding-top: 0; padding-bottom: 0;\">\n",
    "<ul>\n",
    "    <li>A derived class inherits all the members of the parent class</li>\n",
    "    <ul>\n",
    "        <li>The derived class does not re-declare or re- define members inherited from the parent, except....</li>\n",
    "        <li>The derived class re-declares and re-defines member functions of the parent class that will have a different definition in the derived class.</li>\n",
    "        <li>The derived class can add member variables and functions.</li>\n",
    "    </ul>\n",
    "    \n",
    "</ul>\n",
    "</div>"
   ]
  },
  {
   "cell_type": "markdown",
   "metadata": {},
   "source": [
    "<div style=\"font-family: arial; padding: 30px; padding-top: 0; padding-bottom: 0;\">\n",
    "    \n",
    "<h2  style=\"color: #d42c06;\">Implementing a Derived Class</h2>\n",
    "\n",
    "</div>"
   ]
  },
  {
   "cell_type": "markdown",
   "metadata": {},
   "source": [
    "<div style=\"font-size: 1.1em; font-family: arial; padding: 30px; padding-top: 0; padding-bottom: 0;\">\n",
    "<ul>\n",
    "    <li>Any member functions added in the derived class are defined in the implementation file for the derived class.</li>\n",
    "    <ul>\n",
    "        <li>Definitions are not given for inherited functions that are not to be changed.</li>\n",
    "    </ul>\n",
    "\n",
    "</ul>\n",
    "</div>"
   ]
  },
  {
   "cell_type": "markdown",
   "metadata": {},
   "source": [
    "<div style=\"font-family: arial; padding: 30px; padding-top: 0; padding-bottom: 0;\">\n",
    "    \n",
    "<h2  style=\"color: #d42c06;\">Implementation for the Derived Class HourlyEmployee</h2>\n",
    "\n",
    "</div>"
   ]
  },
  {
   "cell_type": "markdown",
   "metadata": {},
   "source": [
    "```cpp\n",
    "namespace employeessavitch {\n",
    "\n",
    "HourlyEmployee::HourlyEmployee() : Employee(), wageRate(0), hours(0) {\n",
    "    // Deliberately empty\n",
    "}\n",
    "\n",
    "HourlyEmployee::HourlyEmployee(string theName, string theNumber, double theWageRate, double theHours)\n",
    ": Employee(theName, theNumber), wageRate(theWageRate), hours(theHours) {\n",
    "    // Deliberately empty\n",
    "}\n",
    "\n",
    "void HourlyEmployee::setRate(double newWageRate) {\n",
    "    wageRate = newWageRate;\n",
    "}\n",
    "\n",
    "double HourlyEmployee::getRate() const {\n",
    "    return wageRate;\n",
    "}\n",
    "\n",
    "void HourlyEmployee::setHours(double hoursWorked) {\n",
    "    hours = hoursWorked;\n",
    "}\n",
    "\n",
    "double HourlyEmployee::getHours() const {\n",
    "    return hours;\n",
    "}\n",
    "\n",
    "void HourlyEmployee::printCheck() {\n",
    "    setNetPay(hours * wageRate);\n",
    "    cout << \"\\n_____________________________________________\\n\";\n",
    "    cout << \"Pay to the order of \" << getName() << endl;\n",
    "    cout << \"The sum of \" << getNetPay() << \" Dollars\\n\";\n",
    "    cout << \"_____________________________________________\\n\";\n",
    "    cout << \"Check Stub: NOT NEGOTIABLE\\n\";\n",
    "    cout << \"Employee Number: \" << getSSN() << endl;\n",
    "    cout << \"Hourly Employee. \\nHours worked: \" << hours\n",
    "         << \" Rate: \" << wageRate << \" Pay: \" << getNetPay() << endl;\n",
    "    cout << \"_____________________________________________\\n\";\n",
    "}\n",
    "\n",
    "} // namespace employeessavitch\n",
    "```\n"
   ]
  },
  {
   "cell_type": "markdown",
   "metadata": {},
   "source": [
    "<div style=\"font-family: arial; padding: 30px; padding-top: 0; padding-bottom: 0;\">\n",
    "    \n",
    "<h2  style=\"color: #d42c06;\">Class SalariedEmployee</h2>\n",
    "\n",
    "</div>"
   ]
  },
  {
   "cell_type": "markdown",
   "metadata": {},
   "source": [
    "<div style=\"font-size: 1.1em; font-family: arial; padding: 30px; padding-top: 0; padding-bottom: 0;\">\n",
    "<ul>\n",
    "    <li>The class SalariedEmployee is also derived from Employee.</li>\n",
    "    <ul>\n",
    "        <li>Function printCheck is redefined to have a meaning specific to salaried employees.</li>\n",
    "        <li>SalariedEmployee adds a member variable salary.</li>\n",
    "    </ul>\n",
    "    \n",
    "</ul>\n",
    "</div>"
   ]
  },
  {
   "cell_type": "markdown",
   "metadata": {},
   "source": [
    "<div style=\"font-family: arial; padding: 30px; padding-top: 0; padding-bottom: 0;\">\n",
    "    \n",
    "<h2  style=\"color: #d42c06;\">Interface for the Derived Class SalariedEmployee</h2>\n",
    "\n",
    "</div>"
   ]
  },
  {
   "cell_type": "markdown",
   "metadata": {},
   "source": [
    "```cpp\n",
    "namespace employeessavitch {\n",
    "\n",
    "class SalariedEmployee : public Employee {\n",
    "public:\n",
    "    // Constructors\n",
    "    SalariedEmployee();\n",
    "    SalariedEmployee(string theName, string theSSN, double theWeeklySalary);\n",
    "\n",
    "    // Accessor method\n",
    "    double getSalary() const;\n",
    "\n",
    "    // Mutator method\n",
    "    void setSalary(double newSalary);\n",
    "\n",
    "    // Other member functions\n",
    "    void printCheck();\n",
    "\n",
    "private:\n",
    "    double salary; // Weekly salary\n",
    "};\n",
    "\n",
    "} // namespace employeessavitch\n",
    "```"
   ]
  },
  {
   "cell_type": "markdown",
   "metadata": {},
   "source": [
    "<div style=\"font-family: arial; padding: 30px; padding-top: 0; padding-bottom: 0;\">\n",
    "    \n",
    "<h2  style=\"color: #d42c06;\">Implementation for the Derived Class SalariedEmployee</h2>\n",
    "\n",
    "</div>"
   ]
  },
  {
   "cell_type": "markdown",
   "metadata": {},
   "source": [
    "```cpp\n",
    "namespace employeessavitch {\n",
    "\n",
    "SalariedEmployee::SalariedEmployee() : Employee(), salary(0) {\n",
    "    // Deliberately empty\n",
    "}\n",
    "\n",
    "SalariedEmployee::SalariedEmployee(string theName, string theNumber, double theWeeklySalary)\n",
    ": Employee(theName, theNumber), salary(theWeeklySalary) {\n",
    "    // Deliberately empty\n",
    "}\n",
    "\n",
    "double SalariedEmployee::getSalary() const {\n",
    "    return salary;\n",
    "}\n",
    "\n",
    "void SalariedEmployee::setSalary(double newSalary) {\n",
    "    salary = newSalary;\n",
    "}\n",
    "\n",
    "void SalariedEmployee::printCheck() {\n",
    "    setNetPay(salary);\n",
    "    cout << \"\\n______________________________________\\n\";\n",
    "    cout << \"Pay to the order of \" << getName() << endl;\n",
    "    cout << \"The sum of \" << getNetPay() << \" Dollars\\n\";\n",
    "    cout << \"______________________________________\\n\";\n",
    "    cout << \"Check Stub NOT NEGOTIABLE \\n\";\n",
    "    cout << \"Employee Number: \" << getSSN() << endl;\n",
    "    cout << \"Salaried Employee. Regular Pay: \" << salary << endl;\n",
    "    cout << \"________________________________________\\n\";\n",
    "}\n",
    "\n",
    "} // namespace employeessavitch\n",
    "```"
   ]
  },
  {
   "cell_type": "markdown",
   "metadata": {},
   "source": [
    "<div style=\"font-family: arial; padding: 30px; padding-top: 0; padding-bottom: 0;\">\n",
    "    \n",
    "<h2  style=\"color: #d42c06;\">Parent and Child Classes</h2>\n",
    "\n",
    "</div>"
   ]
  },
  {
   "cell_type": "markdown",
   "metadata": {},
   "source": [
    "<div style=\"font-size: 1.1em; font-family: arial; padding: 30px; padding-top: 0; padding-bottom: 0;\">\n",
    "<ul>\n",
    "    <li>Recall that a child class automatically has all the members of the parent class</li>\n",
    "    <li>The parent class is an ancestor of the child class</li>\n",
    "    <li>The child class is a descendent of the parent\n",
    "class</li>\n",
    "    <li>The parent class (Employee) contains all the code common to the child classes.</li>\n",
    "    <ul>\n",
    "        <li> You do not have to re-write the code for each child.</li>\n",
    "    </ul>\n",
    "    \n",
    "</ul>\n",
    "</div>"
   ]
  },
  {
   "cell_type": "markdown",
   "metadata": {},
   "source": [
    "<div style=\"font-family: arial; padding: 30px; padding-top: 0; padding-bottom: 0;\">\n",
    "    \n",
    "<h2  style=\"color: #d42c06;\">Derived Class Types</h2>\n",
    "\n",
    "</div>"
   ]
  },
  {
   "cell_type": "markdown",
   "metadata": {},
   "source": [
    "<div style=\"font-size: 1.1em; font-family: arial; padding: 30px; padding-top: 0; padding-bottom: 0;\">\n",
    "<ul>\n",
    "    <li>An hourly employee is an employee.</li>\n",
    "    <ul>\n",
    "        <li>In C++, an object of type HourlyEmployee can be used where an object of type Employee can be used.</li>\n",
    "        <li>An object of a class type can be used wherever any of its ancestors can be used.\n",
    "</li>\n",
    "        <li>An ancestor cannot be used wherever one of its descendents can be used.</li>\n",
    "    </ul>\n",
    "    </ul>\n",
    "    \n",
    "</ul>\n",
    "</div>"
   ]
  },
  {
   "cell_type": "markdown",
   "metadata": {},
   "source": [
    "<div style=\"font-family: arial; padding: 30px; padding-top: 0; padding-bottom: 0;\">\n",
    "    \n",
    "<h2  style=\"color: #d42c06;\">Derived Class Constructors</h2>\n",
    "\n",
    "</div>"
   ]
  },
  {
   "cell_type": "markdown",
   "metadata": {},
   "source": [
    "<div style=\"font-size: 1.1em; font-family: arial; padding: 30px; padding-top: 0; padding-bottom: 0;\">\n",
    "<ul>\n",
    "    <li>A base class constructor is not inherited in a derived class.</li>\n",
    "    <ul>\n",
    "        <li>The base class constructor can be invoked by the constructor of the derived class.</li>\n",
    "        <li>An object of a class type can be used wherever any of its ancestors can be used.\n",
    "</li>\n",
    "        <li>The constructor of a derived class begins by invoking the constructor of the base class in the initialization section:\n",
    "<code>HourlyEmployee::HourlyEmployee :\n",
    "    Employee( ), wageRate( 0),\n",
    "{ //no code needed }\n",
    "</code></li>\n",
    "    </ul>\n",
    "    </ul>\n",
    "    \n",
    "</ul>\n",
    "</div>"
   ]
  },
  {
   "cell_type": "markdown",
   "metadata": {},
   "source": [
    "<div style=\"font-family: arial; padding: 30px; padding-top: 0; padding-bottom: 0;\">\n",
    "    \n",
    "<h2  style=\"color: #d42c06;\">Default Initialization</h2>\n",
    "\n",
    "</div>"
   ]
  },
  {
   "cell_type": "markdown",
   "metadata": {},
   "source": [
    "<div style=\"font-size: 1.1em; font-family: arial; padding: 30px; padding-top: 0; padding-bottom: 0;\">\n",
    "<ul>\n",
    "    <li>If a derived class constructor does not invoke a base class constructor explicity, the base class default constructor will be used.</li>\n",
    "    <li>If class B is derived from class A and class C is derived from class B.</li>\n",
    "    <ul>\n",
    "        <li>When a object of class C is created:</li>\n",
    "        <ul>\n",
    "            <li>The base class A's constructor is the first invoked.</li>\n",
    "            <li>Class B's constructor is invoked next.</li>\n",
    "            <li>C's constructor completes execution.</li>\n",
    "        </ul>\n",
    "    </ul>\n",
    "</ul>\n",
    "</div>"
   ]
  },
  {
   "cell_type": "markdown",
   "metadata": {},
   "source": [
    "<div style=\"font-family: arial; padding: 30px; padding-top: 0; padding-bottom: 0;\">\n",
    "    \n",
    "<h2  style=\"color: #d42c06;\">Private is Private</h2>\n",
    "\n",
    "</div>"
   ]
  },
  {
   "cell_type": "markdown",
   "metadata": {},
   "source": [
    "<div style=\"font-size: 1.1em; font-family: arial; padding: 30px; padding-top: 0; padding-bottom: 0;\">\n",
    "<ul>\n",
    "    <li>A member variable (or function) that is private in the parent class is not accessible to the child class</li>\n",
    "    <ul>\n",
    "        <li>The parent class member functions must be used to access the private members of the parent.</li>\n",
    "        <li>This code would be illegal:\n",
    "        <code>\n",
    "void HourlyEmployee::printCheck( ){\n",
    "netPay = hours * wageRate;}</code></li>\n",
    "        <ul>\n",
    "            <li> netPay is a private member of Employee!</li>\n",
    "        </ul>\n",
    "        \n",
    "</ul>\n",
    "</div>"
   ]
  },
  {
   "cell_type": "markdown",
   "metadata": {},
   "source": [
    "<div style=\"font-family: arial; padding: 30px; padding-top: 0; padding-bottom: 0;\">\n",
    "    \n",
    "<h2  style=\"color: #d42c06;\">The protected Qualifier</h2>\n",
    "\n",
    "</div>"
   ]
  },
  {
   "cell_type": "markdown",
   "metadata": {},
   "source": [
    "<div style=\"font-size: 1.1em; font-family: arial; padding: 30px; padding-top: 0; padding-bottom: 0;\">\n",
    "<ul>\n",
    "    <li> protected members of a class appear to be private outside the class, but are accessible by derived classes</li>\n",
    "<ul>\n",
    "    <li>If member variables name, netPay, and ssn are listed as protected (not private) in the Employee class, this code, illegal on the previous slide, becomes legal:\n",
    "<code>\n",
    "HourlyEmployee::printCheck( ) {\n",
    "netPay = hours * wageRate;}</code></li>\n",
    "</ul>\n",
    "</ul>\n",
    "</div>"
   ]
  },
  {
   "cell_type": "markdown",
   "metadata": {},
   "source": [
    "<div style=\"font-family: arial; padding: 30px; padding-top: 0; padding-bottom: 0;\">\n",
    "    \n",
    "<h2  style=\"color: #d42c06;\">Programming Style</h2>\n",
    "\n",
    "</div>"
   ]
  },
  {
   "cell_type": "markdown",
   "metadata": {},
   "source": [
    "<div style=\"font-size: 1.1em; font-family: arial; padding: 30px; padding-top: 0; padding-bottom: 0;\">\n",
    "<ul>\n",
    "    <li>Using protected members of a class is a convenience to facilitate writing the code of derived classes.</li>\n",
    "    <li>Protected members are not necessary.</li>\n",
    "    <ul>\n",
    "        <li>Derived classes can use the public methods of their ancestor classes to access private members</li>\n",
    "    </ul>\n",
    "    <li>Many programming authorities consider it bad style to use protected member variables.</li>\n",
    "    \n",
    "</ul>\n",
    "</div>"
   ]
  },
  {
   "cell_type": "markdown",
   "metadata": {},
   "source": [
    "<div style=\"font-family: arial; padding: 30px; padding-top: 0; padding-bottom: 0;\">\n",
    "    \n",
    "<h2  style=\"color: #d42c06;\">Redefinition of Member Functions</h2>\n",
    "\n",
    "</div>"
   ]
  },
  {
   "cell_type": "markdown",
   "metadata": {},
   "source": [
    "<div style=\"font-size: 1.1em; font-family: arial; padding: 30px; padding-top: 0; padding-bottom: 0;\">\n",
    "<ul>\n",
    "    <li>When defining a derived class, only list the\n",
    "the inherited functions that you wish to change for the derived class.</li>\n",
    "    <ul>\n",
    "        <li>The function is declared in the class definition.</li>\n",
    "        <li>HourlyEmployee and SalariedEmployee each\n",
    "have their own definitions of printCheck.</li>\n",
    "</ul>\n",
    "</ul>\n",
    "</div>"
   ]
  },
  {
   "cell_type": "markdown",
   "metadata": {},
   "source": [
    "<div style=\"font-family: arial; padding: 30px; padding-top: 0; padding-bottom: 0;\">\n",
    "    \n",
    "<h2  style=\"color: #d42c06;\">Using Derived Classes</h2>\n",
    "\n",
    "</div>"
   ]
  },
  {
   "cell_type": "markdown",
   "metadata": {},
   "source": [
    "```cpp\n",
    "// Base class Employee\n",
    "class Employee {\n",
    "protected:\n",
    "    string name;\n",
    "    string ssn;\n",
    "    double netPay;\n",
    "public:\n",
    "    Employee() : name(\"No name\"), ssn(\"No number\"), netPay(0) {}\n",
    "    Employee(string theName, string theSSN) : name(theName), ssn(theSSN), netPay(0) {}\n",
    "    void setName(string newName) { name = newName; }\n",
    "    void setSSN(string newSSN) { ssn = newSSN; }\n",
    "    void setNetPay(double newNetPay) { netPay = newNetPay; }\n",
    "    string getName() const { return name; }\n",
    "    string getSSN() const { return ssn; }\n",
    "    double getNetPay() const { return netPay; }\n",
    "    virtual void printCheck() const = 0; // Pure virtual function\n",
    "};\n",
    "```"
   ]
  },
  {
   "cell_type": "markdown",
   "metadata": {},
   "source": [
    "```cpp\n",
    "// Derived class HourlyEmployee\n",
    "class HourlyEmployee : public Employee {\n",
    "private:\n",
    "    double wageRate;\n",
    "    double hours;\n",
    "public:\n",
    "    HourlyEmployee() : Employee(), wageRate(0), hours(0) {}\n",
    "    HourlyEmployee(string theName, string theSSN, double theWageRate, double theHours)\n",
    "        : Employee(theName, theSSN), wageRate(theWageRate), hours(theHours) {}\n",
    "    void setRate(double newWageRate) { wageRate = newWageRate; }\n",
    "    void setHours(double hoursWorked) { hours = hoursWorked; }\n",
    "    double getRate() const { return wageRate; }\n",
    "    double getHours() const { return hours; }\n",
    "    void printCheck() const override { // Corrected to include const\n",
    "        cout << \"\\n______________________________________\\n\";\n",
    "        cout << \"Pay to the order of \" << getName() << endl;\n",
    "        cout << \"The sum of \" << hours * wageRate << \" Dollars\\n\"; // Modified to show calculation directly\n",
    "        cout << \"______________________________________\\n\";\n",
    "        cout << \"Check Stub NOT NEGOTIABLE \\n\";\n",
    "        cout << \"Employee Number: \" << getSSN() << endl;\n",
    "        cout << \"Hourly Employee. \\nHours worked: \" << hours\n",
    "             << \" Rate: \" << wageRate << \" Pay: \" << hours * wageRate << endl; // Direct calculation\n",
    "        cout << \"________________________________________\\n\";\n",
    "    }\n",
    "};\n",
    "```"
   ]
  },
  {
   "cell_type": "markdown",
   "metadata": {},
   "source": [
    "```cpp\n",
    "// Derived class SalariedEmployee\n",
    "class SalariedEmployee : public Employee {\n",
    "private:\n",
    "    double salary; // weekly salary\n",
    "public:\n",
    "    SalariedEmployee() : Employee(), salary(0) {}\n",
    "    SalariedEmployee(string theName, string theSSN, double theWeeklySalary)\n",
    "        : Employee(theName, theSSN), salary(theWeeklySalary) {}\n",
    "    void setSalary(double newSalary) { salary = newSalary; }\n",
    "    double getSalary() const { return salary; }\n",
    "    void printCheck() const override { // Corrected to include const\n",
    "        cout << \"\\n______________________________________\\n\";\n",
    "        cout << \"Pay to the order of \" << getName() << endl;\n",
    "        cout << \"The sum of \" << salary << \" Dollars\\n\";\n",
    "        cout << \"______________________________________\\n\";\n",
    "        cout << \"Check Stub NOT NEGOTIABLE \\n\";\n",
    "        cout << \"Employee Number: \" << getSSN() << endl;\n",
    "        cout << \"Salaried Employee. Regular Pay: \" << salary << endl;\n",
    "        cout << \"________________________________________\\n\";\n",
    "    }\n",
    "};\n",
    "```"
   ]
  },
  {
   "cell_type": "markdown",
   "metadata": {},
   "source": [
    "```cpp\n",
    "int main() {\n",
    "    HourlyEmployee joe(\"Mighty Joe\", \"123-45-6789\", 20.50, 40);\n",
    "    cout << \"Check for \" << joe.getName() << \" for \" << joe.getHours() << \" hours.\" << endl;\n",
    "    joe.printCheck();\n",
    "    cout << endl;\n",
    "\n",
    "    SalariedEmployee boss(\"Mr. Big Shot\", \"987-65-4321\", 10500.50);\n",
    "    cout << \"Check for \" << boss.getName() << endl;\n",
    "    boss.printCheck();\n",
    "}\n",
    "```"
   ]
  },
  {
   "cell_type": "markdown",
   "metadata": {},
   "source": [
    "<div style=\"font-family: arial; padding: 30px; padding-top: 0; padding-bottom: 0;\">\n",
    "    \n",
    "<h2  style=\"color: #d42c06;\">Redefining or Overloading</h2>\n",
    "\n",
    "</div>"
   ]
  },
  {
   "cell_type": "markdown",
   "metadata": {},
   "source": [
    "<div style=\"font-size: 1.1em; font-family: arial; padding: 30px; padding-top: 0; padding-bottom: 0;\">\n",
    "<ul>\n",
    "    <li>A function redefined in a derived class has the same number and type of parameters.</li>\n",
    "    <ul>\n",
    "        <li>The derived class has only one function with the same name as the base class.</li>\n",
    "</ul>\n",
    "    <li>An overloaded function has a different number and/or type of parameters than the base class.</li>\n",
    "    <ul>\n",
    "        <li>The derived class has two functions with the same name as the base class.</li>\n",
    "            <ul>\n",
    "        <li> One is defined in the base class, one in the derived class.</li>\n",
    "    </ul>\n",
    "    </ul>\n",
    "\n",
    "    \n",
    "</ul>\n",
    "</div>"
   ]
  },
  {
   "cell_type": "markdown",
   "metadata": {},
   "source": [
    "<div style=\"font-family: arial; padding: 30px; padding-top: 0; padding-bottom: 0;\">\n",
    "    \n",
    "<h2  style=\"color: #d42c06;\">Function Signatures</h2>\n",
    "\n",
    "</div>"
   ]
  },
  {
   "cell_type": "markdown",
   "metadata": {},
   "source": [
    "<div style=\"font-size: 1.1em; font-family: arial; padding: 30px; padding-top: 0; padding-bottom: 0;\">\n",
    "<ul>\n",
    "    <li>A function signature is the function's name with the sequence of types in the parameter list, not including any const or '&'.</li>\n",
    "    <ul>\n",
    "        <li>An overloaded function has multiple signatures.</li>\n",
    "</ul>\n",
    "    <li>Some compilers allow overloading based on including const or not including const.</li>\n",
    "    \n",
    "</ul>\n",
    "</div>"
   ]
  },
  {
   "cell_type": "markdown",
   "metadata": {},
   "source": [
    "<div style=\"font-family: arial; padding: 30px; padding-top: 0; padding-bottom: 0;\">\n",
    "    \n",
    "<h2  style=\"color: #d42c06;\">Access to a Redefined Base Function</h2>\n",
    "\n",
    "</div>"
   ]
  },
  {
   "cell_type": "markdown",
   "metadata": {},
   "source": [
    "<div style=\"font-size: 1.1em; font-family: arial; padding: 30px; padding-top: 0; padding-bottom: 0;\">\n",
    "<ul>\n",
    "    <li>When a base class function is redefined in a derived class, the base class function can still be used.</li>\n",
    "    <ul>\n",
    "        <li>To specify that you want to use the base class version of the redefined function:\n",
    "        <code>\n",
    "HourlyEmployee sallyH;\n",
    "sallyH.Employee::printCheck( );</code></li>\n",
    "</ul>\n",
    "</ul>\n",
    "</div>"
   ]
  },
  {
   "cell_type": "markdown",
   "metadata": {},
   "source": [
    "<div style=\"font-family: arial; padding: 30px; padding-top: 0; padding-bottom: 0;\">\n",
    "    \n",
    "<h2  style=\"color: #d42c06;\">Section 15.1 Conclusion</h2>\n",
    "\n",
    "</div>"
   ]
  },
  {
   "cell_type": "markdown",
   "metadata": {},
   "source": [
    "<div style=\"font-size: 1.1em; font-family: arial; padding: 30px; padding-top: 0; padding-bottom: 0;\">\n",
    "<ul>\n",
    "    <li>Can you?</li>\n",
    "    <ul>\n",
    "        <li> Explain why the declaration for getName is not\n",
    "part of the definition of SalariedEmployee?</li>\n",
    "    <li>Give a definition for a class TitledEmployee derived from class SalariedEmployee with one additional string called title? Add two member functions getTitle and setTitle. It should redefine setName.</li>\n",
    "</ul>\n",
    "</ul>\n",
    "</div>"
   ]
  },
  {
   "cell_type": "markdown",
   "metadata": {},
   "source": [
    "<div style=\"font-family: arial; padding: 30px; padding-bottom: 0;\">\n",
    "\n",
    "<hr style=\"margin-top: 25px; border-color: #fff;\">\n",
    "\n",
    "<h2 style=\"text-align: center; color: #186e00;\">Inheritance Details</h2>\n",
    "\n",
    "<hr style=\"margin-top: 25px; border-color: #fff;\">\n",
    "\n",
    "</div>"
   ]
  },
  {
   "cell_type": "markdown",
   "metadata": {},
   "source": [
    "<div style=\"font-family: arial; padding: 30px; padding-top: 0; padding-bottom: 0;\">\n",
    "    \n",
    "<h2  style=\"color: #d42c06;\">Inheritance Details</h2>\n",
    "\n",
    "</div>"
   ]
  },
  {
   "cell_type": "markdown",
   "metadata": {},
   "source": [
    "<div style=\"font-size: 1.1em; font-family: arial; padding: 30px; padding-top: 0; padding-bottom: 0;\">\n",
    "<ul>\n",
    "    <li>Some special functions are, for all practical purposes, not inherited by a derived class.</li>\n",
    "    <ul>\n",
    "        <li>Some of the special functions that are not effectively inherited by a derived class include:</li>\n",
    "        <ul>\n",
    "            <li>Destructors</li>\n",
    "            <li>Copy constructors</li>\n",
    "            <li>The assignment operator</li>\n",
    "        </ul>\n",
    "</ul>\n",
    "</ul>\n",
    "</div>"
   ]
  },
  {
   "cell_type": "markdown",
   "metadata": {},
   "source": [
    "<div style=\"font-family: arial; padding: 30px; padding-top: 0; padding-bottom: 0;\">\n",
    "    \n",
    "<h2 id=\"Copy Constructors and Derived Classes\" style=\"color: #d42c06;\">Copy Constructors and <br>Derived Classes</h2>\n",
    "\n",
    "<ul>\n",
    "    <li> If a copy constructor is not defined in a derived\n",
    "class, C++ will generate a default copy\n",
    "constructor\n",
    "    <ul>\n",
    "        <li> This copy constructor copies only the contents\n",
    "of member variables and will not work with\n",
    "pointers and dynamic variables\n",
    "        <li> The base class copy constructor will not be\n",
    "used\n",
    "    </ul>\n",
    "</ul>\n",
    "\n",
    "</div>\n"
   ]
  },
  {
   "cell_type": "markdown",
   "metadata": {},
   "source": [
    "<div style=\"font-family: arial; padding: 30px; padding-top: 0; padding-bottom: 0;\">\n",
    "    \n",
    "<h2 id=\"Operator = and Derived Classes\" style=\"color: #d42c06;\">Operator = and <br>Derived Classes</h2>\n",
    "<ul>\n",
    "    <li> If a base class has a defined assignment\n",
    "operator = and the derived class does not:\n",
    "    <ul>\n",
    "        <li> C++ will use a default operator that will have\n",
    "nothing to do with the base class assignment\n",
    "operator\n",
    "    </ul>\n",
    "</ul>\n",
    "</div>"
   ]
  },
  {
   "cell_type": "markdown",
   "metadata": {},
   "source": [
    "<div style=\"font-family: arial; padding: 30px; padding-top: 0; padding-bottom: 0;\">\n",
    "    \n",
    "<h2 id=\"Destructors and Derived Classes\" style=\"color: #d42c06;\">Destructors and <br> Derived Classes</h2>\n",
    "<ul>\n",
    "    <li> A destructor is not inherited by a derived class\n",
    "    <li> The derived class should define its own\n",
    "destructor\n",
    "</ul>\n",
    "</div>"
   ]
  },
  {
   "cell_type": "markdown",
   "metadata": {},
   "source": [
    "<div style=\"font-family: arial; padding: 30px; padding-top: 0; padding-bottom: 0;\">\n",
    "    \n",
    "<h2 id=\"The Assignment Operator\" style=\"color: #d42c06;\">The Assignment Operator</h2>\n",
    "<ul>\n",
    "    <li> In implementing an overloaded assignment\n",
    "operator in a derived class:\n",
    "    <ul>\n",
    "        <li> It is normal to use the assignment operator\n",
    "from the base class in the definition of the\n",
    "derived class's assignment operator\n",
    "        <li> Recall that the assignment operator is written\n",
    "as a member function of a class\n",
    "    </ul>\n",
    "</ul>\n",
    "</div>"
   ]
  },
  {
   "cell_type": "markdown",
   "metadata": {},
   "source": [
    "<div style=\"font-family: arial; padding: 30px; padding-top: 0; padding-bottom: 0;\">\n",
    "    \n",
    "<h2 id=\"The Assignment Operator\" style=\"color: #d42c06;\">The Assignment Operator</h2>\n",
    "<ul>\n",
    "    <li> This code segment shows how to begin the\n",
    "implementation of the = operator for a derived\n",
    "class:\n",
    "</ul>\n",
    "</div>"
   ]
  },
  {
   "cell_type": "markdown",
   "metadata": {},
   "source": [
    "<code>\n",
    "\n",
    "        Derived& Derived::operator= (const Derived& rhs)\n",
    "        {\n",
    "                Base::operator=(rhs)\n",
    "</code>"
   ]
  },
  {
   "cell_type": "markdown",
   "metadata": {},
   "source": [
    "<div style=\"font-family: arial; padding: 30px; padding-top: 0; padding-bottom: 0;\">\n",
    "    \n",
    "<ul>\n",
    "    <ul>\n",
    "        <li> This line handles the assignment of the inherited\n",
    "member variables by calling the base class\n",
    "assignment operator\n",
    "        <li> The remaining code would assign the member\n",
    "variables introduced in the derived class\n",
    "    </ul>\n",
    "</ul>\n",
    "</div>"
   ]
  },
  {
   "cell_type": "markdown",
   "metadata": {},
   "source": [
    "<div style=\"font-family: arial; padding: 30px; padding-top: 0; padding-bottom: 0;\">\n",
    "    \n",
    "<h2 id=\"The Copy Constructor\" style=\"color: #d42c06;\">The Copy Constructor</h2>\n",
    "<ul>\n",
    "    <li> Implementation of the derived class copy\n",
    "constructor is much like that of the assignment\n",
    "operator:\n",
    "</ul>\n",
    "</div>"
   ]
  },
  {
   "cell_type": "markdown",
   "metadata": {},
   "source": [
    "```cpp\n",
    "\n",
    "        Derived::Derived(const Derived& object)\n",
    "                        :Base(object), <other initializing>\n",
    "        {...}\n",
    "```"
   ]
  },
  {
   "cell_type": "markdown",
   "metadata": {},
   "source": [
    "<div style=\"font-family: arial; padding: 30px; padding-top: 0; padding-bottom: 0;\">\n",
    "    \n",
    "<ul>\n",
    "    <ul>\n",
    "        <li> Invoking the base class copy constructor sets up the\n",
    "inherited member variables\n",
    "        <ul>\n",
    "            <li> Since object is of type Derived it is also of type Base\n",
    "        </ul>\n",
    "    <ul>\n",
    "</ul>\n",
    "</div>"
   ]
  },
  {
   "cell_type": "markdown",
   "metadata": {},
   "source": [
    "<div style=\"font-family: arial; padding: 30px; padding-top: 0; padding-bottom: 0;\">\n",
    "<h2 id=\"Destructors in Derived Classes\" style=\"color: #d42c06;\">Destructors in Derived Classes</h2>\n",
    "<ul>\n",
    "    <li> If the base class has a working destructor,\n",
    "defining the destructor for the defined class is\n",
    "relatively easy\n",
    "    <ul>\n",
    "        <li> When the destructor for a derived class is\n",
    "called, the destructor for the base class is\n",
    "automatically called\n",
    "        <li> The derived class destructor need only use\n",
    "delete on dynamic variables added in the\n",
    "derived class, and data they may point to\n",
    "    </ul>\n",
    "</ul>\n",
    "</div>"
   ]
  },
  {
   "cell_type": "markdown",
   "metadata": {},
   "source": [
    "<div style=\"font-family: arial; padding: 30px; padding-top: 0; padding-bottom: 0;\">\n",
    "<h2 id=\"Destruction Sequence\" style=\"color: #d42c06;\">Destruction Sequence</h2>\n",
    "<ul>\n",
    "    <li> If class B is derived from class A and class C\n",
    "is derived from class B...\n",
    "    <ul>\n",
    "        <li> When the destructor of an object of class C\n",
    "goes out of scope\n",
    "        <ul>\n",
    "            <li> The destructor of class C is called\n",
    "            <li> Then the destructor of class B\n",
    "            <li> Then the destructor of class A\n",
    "        </ul>\n",
    "        <li> Notice that destructors are called in the\n",
    "reverse order of constructor calls\n",
    "    </ul>\n",
    "</ul>\n",
    "</div>"
   ]
  },
  {
   "cell_type": "markdown",
   "metadata": {},
   "source": [
    "<div style=\"font-family: arial; padding: 30px; padding-top: 0; padding-bottom: 0;\">\n",
    "<h2 id=\"Section 15.2 Conclusion\" style=\"color: #d42c06;\">Section 15.2 Conclusion</h2>\n",
    "<ul>\n",
    "    <li> Can you\n",
    "    <ul>\n",
    "        <li> List some special functions that are not\n",
    "inherited by a derived class?\n",
    "        <li> Write code to invoke the base class copy\n",
    "constructor in defining the derived class's copy\n",
    "constructor?\n",
    "    </ul>\n",
    "</ul>\n",
    "</div>"
   ]
  },
  {
   "cell_type": "markdown",
   "metadata": {},
   "source": [
    "<div style=\"font-family: arial; padding: 30px; padding-bottom: 0;\">\n",
    "\n",
    "<hr style=\"margin-top: 25px; border-color: #fff;\">\n",
    "\n",
    "<h2 style=\"text-align: center; color: #186e00;\">Section 3: Polymorphism</h2>\n",
    "\n",
    "<hr style=\"margin-top: 25px; border-color: #fff;\">\n",
    "\n",
    "</div>"
   ]
  },
  {
   "cell_type": "markdown",
   "metadata": {},
   "source": [
    "<div style=\"font-family: arial; padding: 30px; padding-top: 0; padding-bottom: 0;\">\n",
    "<h2 id=\"Polymorphism\" style=\"color: #d42c06;\">Polymorphism</h2>\n",
    "<ul>\n",
    "    <li> Polymorphism refers to the ability to associate\n",
    "multiple meanings with one function name\n",
    "using a mechanism called late binding\n",
    "    <li> Polymorphism is a key component of the\n",
    "philosophy of object oriented programming\n",
    "</ul>\n",
    "</div>"
   ]
  },
  {
   "cell_type": "markdown",
   "metadata": {},
   "source": [
    "<div style=\"font-family: arial; padding: 30px; padding-top: 0; padding-bottom: 0;\">\n",
    "<h2 id=\"A Late Binding Example\" style=\"color: #d42c06;\">A Late Binding Example</h2>\n",
    "<ul>\n",
    "    <li> Imagine a graphics program with several types\n",
    "of figures\n",
    "    <ul>\n",
    "        <li> Each figure may be an object of a different\n",
    "class, such as a circle, oval, rectangle, etc.\n",
    "        <li> Each is a descendant of a class Figure\n",
    "        <li> Each has a function draw( ) implemented with\n",
    "code specific to each shape\n",
    "        <li> Class Figure has functions common to all\n",
    "figures\n",
    "    </ul>\n",
    "</ul>\n",
    "</div>"
   ]
  },
  {
   "cell_type": "markdown",
   "metadata": {},
   "source": [
    "<div style=\"font-family: arial; padding: 30px; padding-top: 0; padding-bottom: 0;\">\n",
    "<h2 id=\"A Problem\" style=\"color: #d42c06;\">A Problem</h2>\n",
    "<ul>\n",
    "    <li> Suppose that class Figure has a function center\n",
    "    <ul>\n",
    "        <li> Function center moves a figure to the center of\n",
    "the screen by erasing the figure and redrawing\n",
    "it in the center of the screen\n",
    "        <li> Function center is inherited by each of the\n",
    "derived classes\n",
    "        <ul>\n",
    "            <li> Function center uses each derived object's draw\n",
    "function to draw the figure\n",
    "            <li> The Figure class does not know about its derived\n",
    "classes, so it cannot know how to draw each figure\n",
    "        </ul>\n",
    "    </ul>\n",
    "</ul>\n",
    "</div>"
   ]
  },
  {
   "cell_type": "markdown",
   "metadata": {},
   "source": [
    "<div style=\"font-family: arial; padding: 30px; padding-top: 0; padding-bottom: 0;\">\n",
    "<h2 id=\"Virtual Functions\" style=\"color: #d42c06;\">Virtual Functions</h2>\n",
    "<ul>\n",
    "    <li> Because the Figure class includes a method to\n",
    "draw figures, but the Figure class cannot know\n",
    "how to draw the figures, virtual functions are\n",
    "used\n",
    "    <li> Making a function virtual tells the compiler that\n",
    "you don't know how the function is implemented\n",
    "and to wait until the function is used in a\n",
    "program, then get the implementation from the\n",
    "object.\n",
    "    <ul>\n",
    "    <li> This is called late binding\n",
    "    </ul>\n",
    "</ul>\n",
    "</div>"
   ]
  },
  {
   "cell_type": "markdown",
   "metadata": {},
   "source": [
    "<div style=\"font-family: arial; padding: 30px; padding-top: 0; padding-bottom: 0;\">\n",
    "<h2 id=\"Virtual Functions in C++\" style=\"color: #d42c06;\">Virtual Functions in C++</h2>\n",
    "<ul>\n",
    "    <li> As another example, let's design a record-\n",
    "keeping program for an auto parts store\n",
    "    <ul>\n",
    "        <li> We want a versatile program, but we do not\n",
    "know all the possible types of sales we might\n",
    "have to account for\n",
    "        <ul>\n",
    "            <li> Later we may add mail-order and discount sales\n",
    "            <li> Functions to compute bills will have to be added\n",
    "later when we know what type of sales to add\n",
    "            <li> To accommodate the future possibilities, we will\n",
    "make the bill function a virtual function\n",
    "        </ul>\n",
    "    </ul>\n",
    "</ul>\n",
    "</div>"
   ]
  },
  {
   "cell_type": "markdown",
   "metadata": {},
   "source": [
    "<div style=\"font-family: arial; padding: 30px; padding-top: 0; padding-bottom: 0;\">\n",
    "<h2 id=\"The Sale Class\" style=\"color: #d42c06;\">The Sale Class</h2>\n",
    "<ul>\n",
    "    <li> All sales will be derived from the base class\n",
    "Sale\n",
    "    <li> The bill function of the Sale class is virtual\n",
    "    <li> The member function savings and operator <\n",
    "each use bill\n",
    "    <li> The Sale class interface and implementation\n",
    "are shown in:\n",
    "</ul>\n",
    "</div>"
   ]
  },
  {
   "cell_type": "markdown",
   "metadata": {},
   "source": [
    "```cpp\n",
    "//This is the header file sale.h.\n",
    "//This is the interface for the class Sale.\n",
    "//Sale is a class for simple sales.\n",
    "#ifndef SALE_H\n",
    "#define SALE_H\n",
    "#include <iostream>\n",
    "using namespace std;\n",
    "\n",
    "namespace salesavitch\n",
    "{\n",
    "    class Sale\n",
    "    {\n",
    "    public:\n",
    "        Sale();\n",
    "        Sale (double thePrice);\n",
    "        virtual double bill() const;\n",
    "        double savings (const Sale& other) const;\n",
    "        //Returns the savings if you buy other instead of the calling object. \n",
    "    protected:\n",
    "        double price;\n",
    "    };\n",
    "    \n",
    "    bool operator <(const Sale& first, const Sale& second);\n",
    "    //Compares two sales to see which is larger.\n",
    "}//salesavitch\n",
    "\n",
    "#endif // SALE_H\n",
    "```"
   ]
  },
  {
   "cell_type": "markdown",
   "metadata": {},
   "source": [
    "```cpp\n",
    "//This is the implementation file: sale.cpp\n",
    "//This is the implementation for the class Sale.\n",
    "//The interface for the class Sale is in\n",
    "// the header file sale.h.\n",
    "#include \"sale.h\"\n",
    "\n",
    "namespace salesavitch\n",
    "{\n",
    "    Sale::Sale() : price(0)\n",
    "    {}\n",
    "\n",
    "    Sale::Sale(double thePrice) : price(thePrice)\n",
    "    {}\n",
    "\n",
    "        double Sale::bill() const\n",
    "        {\n",
    "            return price;\n",
    "        }\n",
    "\n",
    "        double Sale::savings(const Sale& other) const\n",
    "        {\n",
    "            return (bill() - other.bill() );\n",
    "        }\n",
    "\n",
    "        bool operator <(const Sale& first, const Sale& second)\n",
    "        {\n",
    "            return (first.bill() < second.bill());\n",
    "        }\n",
    "        \n",
    "}//salesavitch\n",
    "```"
   ]
  },
  {
   "cell_type": "markdown",
   "metadata": {},
   "source": [
    "<div style=\"font-family: arial; padding: 30px; padding-top: 0; padding-bottom: 0;\">\n",
    "<h2 id=\"Virtual Function bill\" style=\"color: #d42c06;\">Virtual Function bill</h2>\n",
    "<ul>\n",
    "    <li> Because function bill is virtual in class Sale,\n",
    "function savings and operator <, defined only in\n",
    "the base class, can in turn use a version of bill\n",
    "found in a derived class\n",
    "    <ul>\n",
    "        <li> When a DiscountSale object calls its savings\n",
    "function, defined only in the base class,\n",
    "function savings calls function bill\n",
    "        <li> Because bill is a virtual function in class Sale,\n",
    "C++ uses the version of bill defined in the\n",
    "object that called savings\n",
    "    </ul>\n",
    "</ul>\n",
    "</div>"
   ]
  },
  {
   "cell_type": "markdown",
   "metadata": {},
   "source": [
    "<div style=\"font-family: arial; padding: 30px; padding-top: 0; padding-bottom: 0;\">\n",
    "<h2 id=\"DiscountSale::bill\" style=\"color: #d42c06;\">DiscountSale::bill</h2>\n",
    "<ul>\n",
    "    <li> Class DiscountSale has its own version of\n",
    "virtual function bill\n",
    "    <ul>\n",
    "        <li> Even though class Sale is already compiled,\n",
    "Sale::savings( ) and Sale::operator< can still use function\n",
    "bill from the DiscountSale class\n",
    "        <li> The keyword virtual tells C++ to wait until bill is\n",
    "used in a program to get the implementation of bill from\n",
    "the calling object\n",
    "        <li> DiscountSale is defined and used in:\n",
    "    </ul>\n",
    "</ul>\n",
    "</div>"
   ]
  },
  {
   "cell_type": "markdown",
   "metadata": {},
   "source": [
    "```cpp\n",
    "//This is the interdace for the class DiscountSale.\n",
    "#ifndef DISCOUNTSALE_H\n",
    "#define DISCOUNTSALE_H        //This is the file 'discountsale.h'\n",
    "#include <iostream>\n",
    "#include \"sale.h\"\n",
    "using namespace std;\n",
    "using namespace salesavitch;\n",
    "\n",
    "namespace slaesavitch\n",
    "{\n",
    "    class DiscountSale : public Sale\n",
    "    {\n",
    "    public:\n",
    "        DiscountSale();\n",
    "        DiscountSale(double thePrice, double theDiscount);\n",
    "        //Discount is expressed as a percent of the price.\n",
    "        virtual double bill() const;\n",
    "    protected:\n",
    "        double discount;\n",
    "    };\n",
    "}//salesavitch\n",
    "#endif //DISCOUNTSALE_H\n",
    "```"
   ]
  },
  {
   "cell_type": "markdown",
   "metadata": {},
   "source": [
    "```cpp\n",
    "//Demonstrates the performance of the virtual function bill.\n",
    "#include <iostream>\n",
    "using namespace std;\n",
    "using namespace salesavitch;\n",
    "int main()\n",
    "{\n",
    "    Sale simple (10.00); //One item at $10.00.\n",
    "    DiscountSale discount(11.00, 10); //One item at $11.00 with a 10% discount.\n",
    "\n",
    "    cout.setf(ios::fixed);\n",
    "    cout.setf(ios::showpoint);\n",
    "    cout.precision (2);\n",
    "\n",
    "if (discount < simple)\n",
    "{\n",
    "    cout << \"Discounted item is cheaper.\\n\";\n",
    "    cout << \"Savings is $\" << simple.savings(discount) << endl;\n",
    "}\n",
    "else\n",
    "    cout << \"Discounted item is not cheaper.\\n\";\n",
    "return 0;\n",
    "}\n",
    "```"
   ]
  },
  {
   "cell_type": "markdown",
   "metadata": {},
   "source": [
    "<div style=\"font-family: arial; padding: 30px; padding-top: 0; padding-bottom: 0;\">\n",
    "<h2 id=\"Virtual Details\" style=\"color: #d42c06;\">Virtual Details</h2>\n",
    "<ul>\n",
    "    <li> To define a function differently in a derived class\n",
    "and to make it virtual\n",
    "    <ul>\n",
    "        <li> Add keyword virtual to the function declaration\n",
    "in the base class\n",
    "        <li> virtual is not needed for the function\n",
    "declaration in the derived class, but is often\n",
    "included\n",
    "        <li> virtual is not added to the function definition\n",
    "        <li> Virtual functions require considerable overhead\n",
    "so excessive use reduces program efficiency\n",
    "    </ul>\n",
    "</ul>\n",
    "</div>"
   ]
  },
  {
   "cell_type": "markdown",
   "metadata": {},
   "source": [
    "<div style=\"font-family: arial; padding: 30px; padding-top: 0; padding-bottom: 0;\">\n",
    "<h2 id=\"Overriding\" style=\"color: #d42c06;\">Overriding</h2>\n",
    "<ul>\n",
    "    <li> Virtual functions whose definitions are changed\n",
    "in a derived class are said to be overridden\n",
    "    <li> Non-virtual functions whose definitions are\n",
    "changed in a derived class are redefined\n",
    "</ul>\n",
    "</div>"
   ]
  },
  {
   "cell_type": "markdown",
   "metadata": {},
   "source": [
    "<div style=\"font-family: arial; padding: 30px; padding-top: 0; padding-bottom: 0;\">\n",
    "<h2 id=\"Type Checking\" style=\"color: #d42c06;\">Type Checking</h2>\n",
    "<ul>\n",
    "    <li> C++ carefully checks for type mismatches in\n",
    "the use of values and variables\n",
    "    <li> This is referred to as strong type checking\n",
    "    <ul>\n",
    "        <li> Generally the type of a value assigned to a\n",
    "variable must match the type of the variable\n",
    "        <ul>\n",
    "            <li> Recall that some automatic type casting occurs\n",
    "        </ul>\n",
    "    </ul>\n",
    "    <li> Strong type checking interferes with the\n",
    "concepts of inheritance\n",
    "</ul>\n",
    "</div>"
   ]
  },
  {
   "cell_type": "markdown",
   "metadata": {},
   "source": [
    "<div style=\"font-family: arial; padding: 30px; padding-top: 0; padding-bottom: 0;\">\n",
    "<h2 id=\"Type Checking and Inheritance\" style=\"color: #d42c06;\">Type Checking and Inheritance</h2>\n",
    "<ul>\n",
    "    <li> Consider\n",
    "</ul>\n",
    "</div>"
   ]
  },
  {
   "cell_type": "markdown",
   "metadata": {},
   "source": [
    "```cpp\n",
    "\n",
    "class Pet\n",
    "{\n",
    "public:\n",
    "    virtual void print();\n",
    "    string name;\n",
    "}\n",
    "```\n",
    "\n",
    "<div style=\"font-family: arial; padding: 30px; padding-top: 0; padding-bottom: 0;\">\n",
    "    <p> and </p>\n",
    "</div>\n",
    "\n",
    "```cpp\n",
    "class Dog :public Pet\n",
    "{\n",
    "public:\n",
    "    virtual void print();\n",
    "    string breed;\n",
    "\n",
    "}\n",
    "\n",
    "```"
   ]
  },
  {
   "cell_type": "markdown",
   "metadata": {},
   "source": [
    "<div style=\"font-family: arial; padding: 30px; padding-top: 0; padding-bottom: 0;\">\n",
    "<h2 id=\"A Sliced Dog is a Pet\" style=\"color: #d42c06;\">A Sliced Dog is a Pet</h2>\n",
    "<ul>\n",
    "    <li> C++ allows the following assignments:\n",
    "            <br> vdog.name = \"Tiny\";\n",
    "            <br> vdog.breed = \"Great Dane\";\n",
    "            <br> vpet = vdog;\n",
    "    <li> However, vpet will loose the breed member of\n",
    "vdog since an object of class Pet has no breed\n",
    "member\n",
    "    <ul>\n",
    "        <li> This code would be illegal:\n",
    "            <br> cout << vpet.breed;\n",
    "    </ul>\n",
    "    <li> This is the slicing problem\n",
    "</ul>\n",
    "</div>"
   ]
  },
  {
   "cell_type": "markdown",
   "metadata": {},
   "source": [
    "<div style=\"font-family: arial; padding: 30px; padding-top: 0; padding-bottom: 0;\">\n",
    "<h2 id=\"The Slicing Problem\" style=\"color: #d42c06;\">The Slicing Problem</h2>\n",
    "<ul>\n",
    "    <li>It is legal to assign a derived class object into a \n",
    "base class variable\n",
    "    <ul>\n",
    "        <li> This slices off data in the derived class that is \n",
    "not also part of the base class\n",
    "        <li> Member functions and member variables are \n",
    "lost\n",
    "    </ul>\n",
    "</ul>\n",
    "</div>"
   ]
  },
  {
   "cell_type": "markdown",
   "metadata": {},
   "source": [
    "<div style=\"font-family: arial; padding: 30px; padding-top: 0; padding-bottom: 0;\">\n",
    "<h2 id=\"Extended Type Compatibility\" style=\"color: #d42c06;\">Extended Type Compatibility</h2>\n",
    "<ul>\n",
    "    <li>It is possible in C++ to avoid the slicing \n",
    "problem\n",
    "    <ul>\n",
    "        <li> Using pointers to dynamic variables we can \n",
    "assign objects of a derived class to variables of \n",
    "a base class without loosing members of the \n",
    "derived class object\n",
    "    </ul>\n",
    "</ul>\n",
    "</div>"
   ]
  },
  {
   "cell_type": "markdown",
   "metadata": {},
   "source": [
    "<div style=\"font-family: arial; padding: 30px; padding-top: 0; padding-bottom: 0;\">\n",
    "<h2 id=\"Dynamic Variables and Derived Classes\" style=\"color: #d42c06;\">Dynamic Variables <br> and Derived Classes</h2>\n",
    "<ul>\n",
    "    <li> Example:\n",
    "</ul>\n",
    "</div>"
   ]
  },
  {
   "cell_type": "markdown",
   "metadata": {},
   "source": [
    "```cpp\n",
    "Pet *ppet; \n",
    "Dog *pdog;\n",
    "pdog = new Dog; \n",
    "pdog->name = \"Tiny\"; \n",
    "pdog->breed = \"Great\n",
    "                Dane\";\n",
    "ppet = pdog;\n",
    "```"
   ]
  },
  {
   "cell_type": "markdown",
   "metadata": {},
   "source": [
    "---------------------------"
   ]
  },
  {
   "cell_type": "markdown",
   "metadata": {},
   "source": [
    "```cpp\n",
    "\n",
    "void Dog::print( )\n",
    "{\n",
    "    cout << \"name: \"\n",
    "        << name << endl; \n",
    "    cout << \"breed: \"\n",
    "        << breed << endl;\n",
    "}\n",
    "\n",
    "```"
   ]
  },
  {
   "cell_type": "markdown",
   "metadata": {},
   "source": [
    "<div style=\"font-family: arial; padding: 30px; padding-top: 0; padding-bottom: 0;\">\n",
    "<ul>\n",
    "    <li> ppet->print( ); is legal and produces: name: Tiny \n",
    "breed: Great Dane\n",
    "</ul>\n",
    "</div>"
   ]
  },
  {
   "cell_type": "markdown",
   "metadata": {},
   "source": [
    "```cpp\n",
    "//Program to illustrate use of a virtual function\n",
    "//to defeat the slicing problem.\n",
    "\n",
    "#include <string>\n",
    "#include <iostream>\n",
    "using namespace std;\n",
    "\n",
    "class Pet\n",
    "{\n",
    "public:\n",
    "    virtual void print();\n",
    "    string name;\n",
    "};\n",
    "\n",
    "class Dog: public Pet\n",
    "{\n",
    "public:\n",
    "    virtual void print();//keyword virtual not needed, but put\n",
    "                         //here for clarity. (It is also good style!)\n",
    "    string breed;\n",
    "};\n",
    "\n",
    "int main()\n",
    "{\n",
    "    Dog vdog;\n",
    "    Pet vpet;\n",
    "    \n",
    "    vdog.name = \"Tiny\";\n",
    "    vdog.breed = \"Great Dane\";\n",
    "    vpet vdog;\n",
    "    \n",
    "    //vpet.breed; is illegal since class Pet has no member named breed\n",
    "    \n",
    "    Dog pdog;\n",
    "    pdog = new Dog;\n",
    "    pdog->name = \"Tiny\";\n",
    "    pdog->breed = \"Great Dane\";\n",
    "    \n",
    "    Pet *ppet;\n",
    "    ppet = pdog;\n",
    "    ppet->print(); // These two print the same output:\n",
    "    pdog->print(); // name: Tiny breed: Great Dane\n",
    "    \n",
    "    //The following, which accesses member variables directly\n",
    "    //rather than via virtual functions, would produce an error:\n",
    "    //cout << \"name: \" << ppet->name << \" breed: \"\n",
    "    //     << ppet->breed << endl;\n",
    "    //generates an error message: 'class Pet' has no member\n",
    "    //named 'breed' .\n",
    "    //See Pitfall section \"Not Using Virtual Member Functions\"\n",
    "    // for more discussion on this.\n",
    "    \n",
    "    return 0;\n",
    "}\n",
    "\n",
    "void Dog::print()\n",
    "{\n",
    "    cout << \"name: \" << name << endl;\n",
    "    cout << \"breed: \" << breed << endl;\n",
    "}\n",
    "\n",
    "\n",
    "void Pet:: print()\n",
    "{\n",
    "    cout << \"name: \" << endl; //Note no breed mentioned\n",
    "}\n",
    "```"
   ]
  },
  {
   "cell_type": "markdown",
   "metadata": {},
   "source": [
    "<div style=\"font-family: arial; padding: 30px; padding-top: 0; padding-bottom: 0;\">\n",
    "<h2 id=\"Use Virtual Functions\" style=\"color: #d42c06;\">Use Virtual Functions</h2>\n",
    "<ul>\n",
    "    <li> The previous example:\n",
    "</ul>\n",
    "</div>"
   ]
  },
  {
   "cell_type": "markdown",
   "metadata": {},
   "source": [
    "```cpp\n",
    "\n",
    "            ppet->print( );\n",
    "\n",
    "```"
   ]
  },
  {
   "cell_type": "markdown",
   "metadata": {},
   "source": [
    "<div style=\"font-family: arial; padding: 30px; padding-top: 0; padding-bottom: 0;\">\n",
    "<ul>\n",
    "        <p>worked because print was declared as a virtual</p> \n",
    "        <p>function</p>\n",
    "</ul>\n",
    "</div>"
   ]
  },
  {
   "cell_type": "markdown",
   "metadata": {},
   "source": [
    "<div style=\"font-family: arial; padding: 30px; padding-top: 0; padding-bottom: 0;\">\n",
    "<ul>\n",
    "    <li> This code would still produce an error:\n",
    "</ul>\n",
    "</div>"
   ]
  },
  {
   "cell_type": "markdown",
   "metadata": {},
   "source": [
    "```cpp\n",
    "\n",
    "            cout << \"name: \" << ppet->name\n",
    "                    << \"breed: \" << ppet->breed;\n",
    "\n",
    "\n",
    "```"
   ]
  },
  {
   "cell_type": "markdown",
   "metadata": {},
   "source": [
    "<div style=\"font-family: arial; padding: 30px; padding-top: 0; padding-bottom: 0;\">\n",
    "<h2 id=\"Why?\" style=\"color: #d42c06;\">Why?</h2>\n",
    "<ul>\n",
    "    <li> ppet->breed is still illegal because ppet is a \n",
    "pointer to a Pet object that has no breed member\n",
    "    <li> Function print( ) was declared virtual by class \n",
    "Pet\n",
    "    <ul>\n",
    "        <li>  When the computer sees ppet->print( ), it \n",
    "checks the virtual table for classes Pet and \n",
    "Dog and finds that ppet points to an object of \n",
    "type Dog\n",
    "        <ul>\n",
    "            <li> Because ppet points to a Dog object, code for \n",
    "        </ul>\n",
    "    </ul>\n",
    "</ul>\n",
    "</div>"
   ]
  },
  {
   "cell_type": "markdown",
   "metadata": {},
   "source": [
    "```cpp\n",
    "\n",
    "                Dog::print()\n",
    "\n",
    "```"
   ]
  },
  {
   "cell_type": "markdown",
   "metadata": {},
   "source": [
    "<div style=\"font-family: arial; padding: 30px; padding-top: 0; padding-bottom: 0;\">\n",
    "<ul>\n",
    "    <ul>\n",
    "        <ul>\n",
    "            <p>is used</p>\n",
    "        </ul>\n",
    "    </ul>\n",
    "</ul>\n",
    "</div>"
   ]
  },
  {
   "cell_type": "markdown",
   "metadata": {},
   "source": [
    "<div style=\"font-family: arial; padding: 30px; padding-top: 0; padding-bottom: 0;\">\n",
    "<h2 id=\"Remember Two Rules\" style=\"color: #d42c06;\">Remember Two Rules</h2>\n",
    "<ul>\n",
    "    <li> To help make sense of object oriented \n",
    "programming with dynamic variables, \n",
    "remember these rules\n",
    "    <ul>\n",
    "        <li> If the domain type of the pointer p_ancestor is a base class for the for the domain type of pointer p_descendant,\n",
    "        <br>the following assignment of pointers is allowed \n",
    "    </ul>\n",
    "</ul>\n",
    "</div>"
   ]
  },
  {
   "cell_type": "markdown",
   "metadata": {},
   "source": [
    "```cpp\n",
    "            p_ancestor = p_descendant;\n",
    "```"
   ]
  },
  {
   "cell_type": "markdown",
   "metadata": {},
   "source": [
    "<div style=\"font-family: arial; padding: 30px; padding-top: 0; padding-bottom: 0;\">\n",
    "<ul>\n",
    "    <ul>\n",
    "        <p> and no data members will be lost </p>\n",
    "        <li> Although all the fields of the p_descendant are there, \n",
    "virtual functions are required to access them\n",
    "    </ul>\n",
    "</ul>\n",
    "</div>"
   ]
  },
  {
   "cell_type": "markdown",
   "metadata": {},
   "source": [
    "<div style=\"font-family: arial; padding: 30px; padding-top: 0; padding-bottom: 0;\">\n",
    "<h2 id=\"Virtual Compilation\" style=\"color: #d42c06;\">Virtual Compilation</h2>\n",
    "<ul>\n",
    "    <li> When using virtual functions, you will have to \n",
    "define each virtual function before compiling\n",
    "    <ul>\n",
    "        <li> Declaration is no longer sufficient\n",
    "        <li>  Even if you do not call the virtual function you may see error   message:\n",
    "            <br>\"undefined reference to Class_Name virtual \n",
    "                table\"\n",
    "    </ul>\n",
    "</ul>\n",
    "</div>"
   ]
  },
  {
   "cell_type": "markdown",
   "metadata": {},
   "source": [
    "<div style=\"font-family: arial; padding: 30px; padding-top: 0; padding-bottom: 0;\">\n",
    "<h2 id=\"Virtual Destructors\" style=\"color: #d42c06;\">Virtual Destructors</h2>\n",
    "<ul>\n",
    "    <li> Destructors should be made virtual\n",
    "    <ul>\n",
    "        <li> Consider\n",
    "    </ul>\n",
    "</ul>\n",
    "</div>"
   ]
  },
  {
   "cell_type": "markdown",
   "metadata": {},
   "source": [
    "```cpp\n",
    "            Base *pBase = new Derived;\n",
    "            ...\n",
    "            delete pBase;\n",
    "```"
   ]
  },
  {
   "cell_type": "markdown",
   "metadata": {},
   "source": [
    "<div style=\"font-family: arial; padding: 30px; padding-top: 0; padding-bottom: 0;\">\n",
    "<ul>\n",
    "    <ul>\n",
    "        <li> If the destructor in Base is virtual, the \n",
    "destructor for Derived is invoked as pBase \n",
    "points to a Derived object, returning Derived \n",
    "members to the freestore\n",
    "        <ul>\n",
    "            <li> The Derived destructor in turn calls the Base \n",
    "destructor\n",
    "        </ul>\n",
    "    </ul>\n",
    "</ul>\n",
    "</div>"
   ]
  },
  {
   "cell_type": "markdown",
   "metadata": {},
   "source": [
    "<div style=\"font-family: arial; padding: 30px; padding-top: 0; padding-bottom: 0;\">\n",
    "<h2 id=\"Non-Virtual Destructors\" style=\"color: #d42c06;\">Non-Virtual Destructors</h2>\n",
    "<ul>\n",
    "    <li> If the Base destructor is not virtual, only the Base \n",
    "destructor is invoked\n",
    "    <li> This leaves Derived members, not part of Base, \n",
    "in memory\n",
    "</ul>\n",
    "</div>"
   ]
  },
  {
   "cell_type": "markdown",
   "metadata": {},
   "source": [
    "<div style=\"font-family: arial; padding: 30px; padding-top: 0; padding-bottom: 0;\">\n",
    "<h2 id=\"Section 15.3 Conclusion\" style=\"color: #d42c06;\">Section 15.3 Conclusion</h2>\n",
    "<ul>\n",
    "    <li> Can you\n",
    "    <ul>\n",
    "        <li> Explain why you cannot assign a base class \n",
    "object to a derived class object?\n",
    "        <li> Describe the problem with assigning a derived \n",
    "class object to a base class object?\n",
    "    </ul>\n",
    "</ul>\n",
    "</div>"
   ]
  },
  {
   "cell_type": "markdown",
   "metadata": {},
   "source": [
    "<div style=\"font-family: arial; padding: 30px; padding-top: 0; padding-bottom: 0;\">\n",
    "    \n",
    "<h2 style=\"color: #d42c06;\">References</h2>\n",
    "\n",
    "<ul>\n",
    "    <li>Walter J. Savitch. Problem Solving with C++, Tenth Edition. 2018.</li>\n",
    "</ul>\n",
    "\n",
    "<hr style=\"margin-top: 25px; border-color: #fff;\">\n",
    "\n",
    "</div>"
   ]
  }
 ],
 "metadata": {
  "kernelspec": {
   "display_name": "C++17",
   "language": "C++17",
   "name": "xcpp17"
  },
  "language_info": {
   "codemirror_mode": "text/x-c++src",
   "file_extension": ".cpp",
   "mimetype": "text/x-c++src",
   "name": "c++",
   "version": "-std=c++17"
  }
 },
 "nbformat": 4,
 "nbformat_minor": 4
}

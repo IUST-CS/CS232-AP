{
 "cells": [
  {
   "cell_type": "markdown",
   "id": "6a47252d",
   "metadata": {},
   "source": [
    "<div style=\"font-family: arial; direction: rtl; padding: 30px; padding-bottom: 0;\">\n",
    "\n",
    "<h4 style=\"text-align: center;\">به نام خدا</h4>\n",
    "\n",
    "<h2 style=\"text-align: center; color: #103bc9;\">برنامه‌سازی پیشرفته</h2>\n",
    "\n",
    "<h3 style=\"text-align: center; color: #d42c06;\">دانشگاه علم و صنعت ایران</h3>\n",
    "    \n",
    "<h3 style=\"text-align: center; color: #d42c06;\">دانشکده ریاضی و علوم کامپیوتر</h3>\n",
    "\n",
    "<h4 style=\"padding-top: 7px; text-align: center;\">نیمسال دوم سال تحصیلی ۱۴۰۲-۱۴۰۳</h4>\n",
    "\n",
    "<hr style=\"margin-top: 25px; border-color: #fff;\">\n",
    "\n",
    "<h1 style=\"text-align: center; color: #9c0000;\">فصل ۱: کلاس‌ها</h1>\n",
    "\n",
    "<h3 style=\"text-align: center; padding-top: 7px;\">کاظم فرقانی</h3>\n",
    "\n",
    "<hr style=\"margin-top: 25px; border-color: #fff;\">\n",
    "\n",
    "</div>"
   ]
  },
  {
   "cell_type": "markdown",
   "id": "57cd8f30",
   "metadata": {},
   "source": [
    "<div style=\"font-family: arial; padding: 30px; padding-bottom: 0;\">\n",
    "\n",
    "<hr style=\"margin-top: 25px; border-color: #fff;\">\n",
    "\n",
    "<h2 style=\"text-align: center; color: #186e00;\">بخش ۱: مقدمات</h2>\n",
    "\n",
    "<hr style=\"margin-top: 25px; border-color: #fff;\">\n",
    "\n",
    "</div>"
   ]
  },
  {
   "cell_type": "markdown",
   "id": "8dfec688",
   "metadata": {},
   "source": [
    "<div style=\"font-family: arial; direction: rtl; padding: 30px; padding-top: 0; padding-bottom: 0;\">\n",
    "    \n",
    "<h2 style=\"color: #d42c06;\">فهرست مطالب</h2>\n",
    "\n",
    "<ul>\n",
    "    <li><a href=\"#introduction\">مقدمات</a></li>\n",
    "    <li><a href=\"#conclusion\">جمع‌بندی</a></li>\n",
    "</ul>\n",
    "\n",
    "<hr style=\"margin-top: 25px; border-color: #fff;\">\n",
    "\n",
    "</div>"
   ]
  },
  {
   "cell_type": "markdown",
   "id": "8c55662f",
   "metadata": {},
   "source": [
    "<div style=\"font-family: arial; direction: rtl; padding: 30px; padding-top: 0; padding-bottom: 0;\">\n",
    "    \n",
    "<h2 id=\"introduction\" style=\"color: #d42c06;\">مقدمات</h2>\n",
    "\n",
    "</div>"
   ]
  },
  {
   "cell_type": "markdown",
   "id": "568c5030",
   "metadata": {},
   "source": [
    "<div style=\"direction: rtl; font-size: 1.1em; font-family: arial; padding: 30px; padding-top: 0; padding-bottom: 0;\">\n",
    "<span>این یک نمونه است.</span>\n",
    "<hr style=\"margin-top: 25px; border-color: #fff;\">\n",
    "</div>"
   ]
  },
  {
   "cell_type": "markdown",
   "id": "8958ae83",
   "metadata": {},
   "source": [
    "<div style=\"font-size: 1.1em; font-family: arial; direction: rtl; padding: 30px;\">\n",
    "<div style=\"border: 2px solid #1f49a3; border-radius: 10px; padding: 30px; padding-top: 15px;\">\n",
    "<h3 style=\"color: #1f49a3; font-weight: bold;\">نکته</h3>\n",
    "<span style=\"color: #1f49a3;\">این یک نمونه است.</span>\n",
    "</div>\n",
    "</div>"
   ]
  },
  {
   "cell_type": "code",
   "execution_count": null,
   "id": "9c2a6421",
   "metadata": {},
   "outputs": [],
   "source": []
  },
  {
   "cell_type": "markdown",
   "id": "34e351e5",
   "metadata": {},
   "source": [
    "<div style=\"padding: 30px; padding-top: 0; padding-bottom: 0;\">\n",
    "\n",
    "<hr style=\"border-color: #fff;\">\n",
    "\n",
    "</div>"
   ]
  },
  {
   "cell_type": "markdown",
   "id": "6febe9d2",
   "metadata": {},
   "source": [
    "<div style=\"font-family: arial; direction: rtl; padding: 30px; padding-top: 0; padding-bottom: 0;\">\n",
    "    \n",
    "<h2 id=\"conclusion\" style=\"color: #d42c06;\">جمع‌بندی</h2>\n",
    "\n",
    "</div>"
   ]
  },
  {
   "cell_type": "code",
   "execution_count": null,
   "id": "333bca89",
   "metadata": {},
   "outputs": [],
   "source": []
  },
  {
   "cell_type": "markdown",
   "id": "5598a470",
   "metadata": {},
   "source": [
    "<div style=\"padding: 30px; padding-top: 0; padding-bottom: 0;\">\n",
    "\n",
    "<hr style=\"border-color: #fff;\">\n",
    "\n",
    "</div>"
   ]
  },
  {
   "cell_type": "markdown",
   "id": "d98af0b5",
   "metadata": {},
   "source": [
    "<div style=\"font-family: arial; direction: rtl; padding: 30px; padding-top: 0; padding-bottom: 0;\">\n",
    "    \n",
    "<h2 style=\"color: #d42c06;\">منابع و مراجع</h2>\n",
    "\n",
    "<ul style=\"direction: ltr;\">\n",
    "    <li>Walter J. Savitch. Problem Solving with C++, Tenth Edition. 2018.</li>\n",
    "</ul>\n",
    "\n",
    "<hr style=\"margin-top: 25px; border-color: #fff;\">\n",
    "\n",
    "</div>"
   ]
  }
 ],
 "metadata": {
  "kernelspec": {
   "display_name": "C++17",
   "language": "C++17",
   "name": "xcpp17"
  },
  "language_info": {
   "codemirror_mode": "text/x-c++src",
   "file_extension": ".cpp",
   "mimetype": "text/x-c++src",
   "name": "c++",
   "version": "17"
  }
 },
 "nbformat": 4,
 "nbformat_minor": 5
}

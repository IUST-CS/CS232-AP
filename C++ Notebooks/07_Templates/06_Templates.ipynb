{
 "cells": [
  {
   "cell_type": "markdown",
   "metadata": {},
   "source": [
    "<div style=\"font-family: arial; padding: 30px; padding-bottom: 0;\">\n",
    "\n",
    "<h4 style=\"text-align: center;\">In the Name of God</h4>\n",
    "\n",
    "<h2 style=\"text-align: center; color: #103bc9;\">CS232 - Advanced Programming</h2>\n",
    "\n",
    "<h3 style=\"text-align: center; color: #d42c06;\">Iran University of Science and Technology</h3>\n",
    "    \n",
    "<h3 style=\"text-align: center; color: #d42c06;\">School of Mathematics and Computer Science</h3>\n",
    "\n",
    "<h4 style=\"padding-top: 7px; text-align: center;\">Winter-Spring 2024</h4>\n",
    "\n",
    "<hr style=\"margin-top: 25px; border-color: #fff;\">\n",
    "\n",
    "<h1 style=\"text-align: center; color: #9c0000;\">Chapter 17: Templates</h1>\n",
    "\n",
    "<h3 style=\"padding-top: 7px; text-align: center;\">Alireza Khadem Daghigh</h3>\n",
    "\n",
    "<hr style=\"margin-top: 25px; border-color: #fff;\">\n",
    "\n",
    "</div>"
   ]
  },
  {
   "cell_type": "markdown",
   "metadata": {},
   "source": [
    "<div style=\"font-family: arial; padding: 30px; padding-bottom: 0;\">\n",
    "\n",
    "<hr style=\"margin-top: 25px; border-color: #fff;\">\n",
    "\n",
    "<h2 style=\"text-align: center; color: #186e00;\">Section 2: Templates for Data Abstraction</h2>\n",
    "\n",
    "<hr style=\"margin-top: 25px; border-color: #fff;\">\n",
    "\n",
    "</div>"
   ]
  },
  {
   "cell_type": "markdown",
   "metadata": {},
   "source": [
    "<div style=\"font-family: arial; padding: 30px; padding-top: 0; padding-bottom: 0;\">\n",
    "    \n",
    "<h2 id=\"Program Example The BankAccount ADT\" style=\"color: #d42c06;\">Templates for Data Abstraction</h2>\n",
    "<li> Class definitions can also be made more general \n",
    "with templates\n",
    "<ul style=\"margin-right:50px\">\n",
    "  <li> The syntax for class templates is basically the same as for function templates\n",
    "      <ul style=\"margin-right:50px\">\n",
    "      <li> <code>template<`class T></code> comes before the template definition\n",
    "      <li> Type parameter T is used in the class definition just like any other type\n",
    "      <li> Type parameter T can represent any type\n",
    "      </ul>\n",
    "</ul>\n",
    "</div>"
   ]
  },
  {
   "cell_type": "markdown",
   "metadata": {},
   "source": [
    "<div style=\"font-family: arial; padding: 30px; padding-top: 0; padding-bottom: 0;\">\n",
    "    \n",
    "<h2 id=\"Program Example The BankAccount ADT\" style=\"color: #d42c06;\">A Class Template</h2>\n",
    "<li> An object of this class contains a pair of values of type T\n",
    "</div>"
   ]
  },
  {
   "cell_type": "markdown",
   "metadata": {},
   "source": [
    "```CPP\n",
    "\n",
    "template <class T>\n",
    "class Pair\n",
    "{\n",
    "public:\n",
    "    Pair();\n",
    "    Pair(T firstValue, T secondValue);\n",
    "    void setElement(int position, T value);\n",
    "    // Precondition: position is 1 or 2\n",
    "    // Postcondition: position indicated is set to value\n",
    "    T getElement(int position) const;\n",
    "    // Precondition: position is 1 or 2\n",
    "    // Returns value in position indicated\n",
    "private:\n",
    "    T first;\n",
    "    T second;\n",
    "};\n",
    "\n",
    "```"
   ]
  },
  {
   "cell_type": "markdown",
   "metadata": {},
   "source": [
    "<div style=\"font-family: arial; padding: 30px; padding-top: 0; padding-bottom: 0;\">\n",
    "    \n",
    "<h2 id=\"Program Example The BankAccount ADT\" style=\"color: #d42c06;\">Declaring Template Class Objects</h2>\n",
    "<li> Once the class template is defined, objects may \n",
    "be declared\n",
    "<ul style=\"margin-right:50px\">\n",
    "  <li> Declarations must indicate what type is to be used for T\n",
    "  <li> Example: To declare an object so it can hold a pair of integers or characters: \n",
    "</ul>\n",
    "</div>"
   ]
  },
  {
   "cell_type": "markdown",
   "metadata": {},
   "source": [
    "```CPP\n",
    "Pair<int> score; // a pair of integers\n",
    "Pair<char> seats; // a pair of characters\n",
    "```"
   ]
  },
  {
   "cell_type": "markdown",
   "metadata": {},
   "source": [
    "<div style=\"font-family: arial; padding: 30px; padding-top: 0; padding-bottom: 0;\">\n",
    "    \n",
    "<h2 id=\"Program Example The BankAccount ADT\" style=\"color: #d42c06;\">Using the Objects</h2>\n",
    "<li> After declaration, objects based on a template \n",
    "class are used just like any other objects\n",
    "<ul style=\"margin-right:50px\">\n",
    "  <li> Continuing the previous example:\n",
    "</ul>\n",
    "</div>"
   ]
  },
  {
   "cell_type": "markdown",
   "metadata": {},
   "source": [
    "```CPP\n",
    "score.setElement(1,3); \n",
    "score.setElement(2,0); \n",
    "seats.setElement(1, 'A');\n",
    "```"
   ]
  },
  {
   "cell_type": "markdown",
   "metadata": {},
   "source": [
    "<div style=\"font-family: arial; padding: 30px; padding-top: 0; padding-bottom: 0;\">\n",
    "    \n",
    "<h2 id=\"Program Example The BankAccount ADT\" style=\"color: #d42c06;\">Defining the Member Functions</h2>\n",
    "<li> Member functions of a template class are defined \n",
    "the same way as member functions of ordinary \n",
    "classes\n",
    "<ul style=\"margin-right:50px\">\n",
    "  <li> The only difference is that the member function \n",
    "definitions are themselves templates\n",
    "</ul>\n",
    "</div>"
   ]
  },
  {
   "cell_type": "markdown",
   "metadata": {},
   "source": [
    "<div style=\"font-family: arial; padding: 30px; padding-top: 0; padding-bottom: 0;\">\n",
    "    \n",
    "<h2 id=\"Program Example The BankAccount ADT\" style=\"color: #d42c06;\">Defining a Pair Constructor</h2>\n",
    "<li> This is a definition of the constructor for class \n",
    "Pair that takes two arguments</li>\n",
    "</ul>\n",
    "</div>"
   ]
  },
  {
   "cell_type": "markdown",
   "metadata": {},
   "source": [
    "```CPP\n",
    "template <class T>\n",
    "Pair<T>::Pair(T firstValue, T secondValue)\n",
    "    : first(firstValue), second(secondValue)\n",
    "{\n",
    "    // No body needed due to initialization above\n",
    "}\n",
    "// The class name includes <T>\n",
    "```"
   ]
  },
  {
   "cell_type": "markdown",
   "metadata": {},
   "source": [
    "<div style=\"font-family: arial; padding: 30px; padding-top: 0; padding-bottom: 0;\">\n",
    "    \n",
    "<h2 id=\"Program Example The BankAccount ADT\" style=\"color: #d42c06;\">Defining setElement</h2>\n",
    "<li> Here is a definition for setElement in the \n",
    "template class Pair\n",
    "</div>"
   ]
  },
  {
   "cell_type": "markdown",
   "metadata": {},
   "source": [
    "```CPP\n",
    "void Pair<T>::setElement(int position, T value)\n",
    "{\n",
    "    if (position = = 1)\n",
    "        first = value;\n",
    "    else if (position = = 2)\n",
    "        second = value;\n",
    "    else\n",
    "    // …\n",
    "}\n",
    "```"
   ]
  },
  {
   "cell_type": "markdown",
   "metadata": {},
   "source": [
    "<div style=\"font-family: arial; padding: 30px; padding-top: 0; padding-bottom: 0;\">\n",
    "    \n",
    "<h2 id=\"Program Example The BankAccount ADT\" style=\"color: #d42c06;\">Template Class Names as Parameters</h2>\n",
    "<li> The name of a template class may be used as \n",
    "the type of a function parameter\n",
    "<ul style=\"margin-right:50px\">\n",
    "  <li> Example: \n",
    "</ul>\n",
    "</div>"
   ]
  },
  {
   "cell_type": "markdown",
   "metadata": {},
   "source": [
    "```CPP\n",
    "//To create a parameter of type\n",
    "Pair<int>:\n",
    "int addUp(const Pair<int>& thePair);\n",
    "//Returns the sum of two integers in thePair\n",
    "```"
   ]
  },
  {
   "cell_type": "markdown",
   "metadata": {},
   "source": [
    "<div style=\"font-family: arial; padding: 30px; padding-top: 0; padding-bottom: 0;\">\n",
    "    \n",
    "<h2 id=\"Program Example The BankAccount ADT\" style=\"color: #d42c06;\">Template Functions with Template Class Parameters</h2>\n",
    "<li> Function addUp from a previous example can \n",
    "be made more general as a template function:\n",
    "</div>"
   ]
  },
  {
   "cell_type": "markdown",
   "metadata": {},
   "source": [
    "```CPP\n",
    "template<class T>\n",
    "T addUp(const Pair<T>& thePair)\n",
    "//Precondition: operator + is defined for T\n",
    "//Returns sum of the two values in thePair\n",
    "```"
   ]
  },
  {
   "cell_type": "markdown",
   "metadata": {},
   "source": [
    "<div style=\"font-family: arial; padding: 30px; padding-top: 0; padding-bottom: 0;\">\n",
    "    \n",
    "<h2 id=\"Program Example The BankAccount ADT\" style=\"color: #d42c06;\">Program Example: An Array Class</h2>\n",
    "<li> The example in the following displays is a \n",
    "class template whose objects are lists\n",
    "<ul style=\"margin-right:50px\">\n",
    "  <li> The lists can be lists of any type \n",
    "</ul>\n",
    "</div>"
   ]
  },
  {
   "cell_type": "code",
   "execution_count": 2,
   "metadata": {
    "vscode": {
     "languageId": "cpp"
    }
   },
   "outputs": [],
   "source": [
    "// This is the header file genericlist.h. This is the interface for the\n",
    "// class GenericList. Objects of type GenericList can be a list of items\n",
    "// of any type for which the operators << and = are defined.\n",
    "// All the items on any one list must be of the same type. A list that\n",
    "// can hold up to max items all of type Type_Name is declared as follows:\n",
    "// GenericList<Type_Name> the_object(max);\n",
    "#ifndef GENERICLIST_H\n",
    "#define GENERICLIST_H\n",
    "#include <iostream>\n",
    "using namespace std;\n",
    "\n",
    "namespace listsavitch\n",
    "{\n",
    "    template <class ItemType>\n",
    "    class GenericList\n",
    "    {\n",
    "    public:\n",
    "        GenericList(int max);\n",
    "        // Initializes the object to an empty list that can hold up to\n",
    "        // max items of type ItemType.\n",
    "        ~GenericList();\n",
    "        // Returns all the dynamic memory used by the object to the freestore.\n",
    "\n",
    "        int length() const;\n",
    "        // Returns the number of items on the list.\n",
    "\n",
    "        void add(ItemType newItem);\n",
    "        // Precondition: The list is not full. //Postcondition: The newItem has been added to the list.\n",
    "\n",
    "        bool full() const;\n",
    "        // Returns true if the list is full.\n",
    "\n",
    "        void erase();\n",
    "        // Removes all items from the list so that the list is empty.\n",
    "\n",
    "        friend ostream &operator<<(ostream &outs,\n",
    "                                   const GenericList<ItemType> &theList)\n",
    "        {\n",
    "            for (int i = 0; i < theList.currentLength; i++)\n",
    "                outs << theList.item[i] << endl;\n",
    "            return outs;\n",
    "        }\n",
    "        // Overloads the << operator so it can be used to output the\n",
    "        // contents of the list. The items are output one per line.\n",
    "        // Precondition: If outs is a file output stream, then outs has\n",
    "        // already been connected to a file.\n",
    "        //\n",
    "        // Note the implementation of the overloaded << in the header\n",
    "        // file! This is commonly done with overloaded friend templates.\n",
    "        // Since << is a friend it is NOT a member of the class but\n",
    "        // rather in the namespace, this is the simplest implementation\n",
    "        // and may make more sense than putting it in genericlist.cpp.\n",
    "    private:\n",
    "        ItemType *item;    // pointer to the dynamic array that holds the list.\n",
    "        int maxLength;     // max number of items allowed on the list.\n",
    "        int currentLength; // number of items currently on the list.\n",
    "    };\n",
    "} // listsavitch\n",
    "#endif // GENERICLIST_H"
   ]
  },
  {
   "cell_type": "code",
   "execution_count": 3,
   "metadata": {
    "vscode": {
     "languageId": "cpp"
    }
   },
   "outputs": [],
   "source": [
    "// Program to demonstrate use of the class template GenericList.\n",
    "#include <iostream>\n",
    "#include \"genericlist.h\"\n",
    "#include \"genericlist.cpp\"\n",
    "using namespace std;\n",
    "using namespace listsavitch;\n",
    "int main()\n",
    "{\n",
    "    GenericList<int> firstList(2);\n",
    "    firstList.add(1);\n",
    "    firstList.add(2);\n",
    "    cout << \"firstList = \\n\"\n",
    "         << firstList;\n",
    "    GenericList<char> secondList(10);\n",
    "    secondList.add('A');\n",
    "    secondList.add('B');\n",
    "    secondList.add('C');\n",
    "    cout << \"secondList = \\n\"\n",
    "         << secondList;\n",
    "}"
   ]
  },
  {
   "cell_type": "code",
   "execution_count": null,
   "metadata": {
    "vscode": {
     "languageId": "cpp"
    }
   },
   "outputs": [],
   "source": [
    "// This is the implementation file: genericlist.cpp\n",
    "// This is the implementation of the class template named GenericList.\n",
    "// The interface for the class template GenericList is in the\n",
    "// header file genericlist.h.\n",
    "#ifndef GENERICLIST_CPP\n",
    "#define GENERICLIST_CPP\n",
    "#include <iostream>\n",
    "#include <cstdlib>\n",
    "#include \"genericlist.h\" //This is not needed when used as we are using this file,\n",
    "// but the #ifndef in genericlist.h makes it safe.\n",
    "using namespace std;\n",
    "\n",
    "namespace listsavitch\n",
    "{\n",
    "    // Uses cstdlib:\n",
    "    template <class ItemType>\n",
    "    GenericList<ItemType>::GenericList(int max) : maxLength(max),\n",
    "                                                  currentLength(0)\n",
    "    {\n",
    "        item = new ItemType[max];\n",
    "    }\n",
    "\n",
    "    template <class ItemType>\n",
    "    GenericList<ItemType>::~GenericList()\n",
    "    {\n",
    "        delete[] item;\n",
    "    }\n",
    "\n",
    "    template <class ItemType>\n",
    "    int GenericList<ItemType>::length() const\n",
    "    {\n",
    "        return (currentLength);\n",
    "    }\n",
    "\n",
    "    // Uses iostream and cstdlib:\n",
    "    template <class ItemType>\n",
    "    void GenericList<ItemType>::add(ItemType newItem)\n",
    "    {\n",
    "        if (full())\n",
    "        {\n",
    "            cout << \"Error: adding to a full list.\\n\";\n",
    "            exit(1);\n",
    "        }\n",
    "        else\n",
    "        {\n",
    "            item[currentLength] = newItem;\n",
    "            currentLength = currentLength + 1;\n",
    "        }\n",
    "    }\n",
    "\n",
    "    template <class ItemType>\n",
    "    bool GenericList<ItemType>::full() const\n",
    "    {\n",
    "        return (currentLength == maxLength);\n",
    "    }\n",
    "\n",
    "    template <class ItemType>\n",
    "    void GenericList<ItemType>::erase()\n",
    "    {\n",
    "        currentLength = 0;\n",
    "    }\n",
    "} // listsavitch\n",
    "#endif // GENERICLIST_CPP Notice that we have enclosed all the template\n",
    "       // definitions in #ifndef. . . #endif."
   ]
  },
  {
   "cell_type": "markdown",
   "metadata": {},
   "source": [
    "<div style=\"font-family: arial; padding: 30px; padding-top: 0; padding-bottom: 0;\">\n",
    "    \n",
    "<h2 id=\"Program Example The BankAccount ADT\" style=\"color: #d42c06;\">Implementation Notes</h2>\n",
    "<li> Note that in Display 17.4, the class definition for \n",
    "GenericList, we put the implementation of the \n",
    "overloaded << operator in the header file itself\n",
    "<ul style=\"margin-right:50px\">\n",
    "  <li> This is common for template classes with \n",
    "friend operators\n",
    "  <li> This is because << is a friend, not a member of \n",
    "the class; as a result, implementation is \n",
    "simpler this way\n",
    "</ul>\n",
    "</div>"
   ]
  },
  {
   "cell_type": "markdown",
   "metadata": {},
   "source": [
    "<div style=\"font-family: arial; padding: 30px; padding-top: 0; padding-bottom: 0;\">\n",
    "    \n",
    "<h2 id=\"Program Example The BankAccount ADT\" style=\"color: #d42c06;\">Separate implementation of overloaded friend operator</h2>\n",
    "<li> We can put the implementation of << into the \n",
    "implementation file but there is extra work\n",
    "<ul style=\"margin-right:50px\">\n",
    "  <li> Make forward declaration with the diamond in the .h file\n",
    "  <li> Implement << in the .cpp file\n",
    "</ul>\n",
    "</div>"
   ]
  },
  {
   "cell_type": "markdown",
   "metadata": {},
   "source": [
    "```CPP\n",
    "// This version moves the implementation of the overloaded <<\n",
    "// to the .cpp file, but requires adding some forward declarations.\n",
    "#ifndef GENERICLIST_H\n",
    "#define GENERICLIST_H\n",
    "#include <iostream>\n",
    "using namespace std;\n",
    "\n",
    "namespace listsavitch\n",
    "{\n",
    "    template <class ItemType>\n",
    "    class GenericList;\n",
    "    // We need a forward declaration of the GenericList template\n",
    "    // class for the friend header declaration that comes right after it.\n",
    "\n",
    "    template <class ItemType>\n",
    "    ostream &operator<<(ostream &outs, const GenericList<ItemType> &theList);\n",
    "    // Forward declaration of the friend << for the definition inside the\n",
    "    // GenericList class below. These must be defined here since << is not\n",
    "    // a member of the class.\n",
    "\n",
    "    template <class ItemType>\n",
    "    class GenericList\n",
    "    {\n",
    "        // The rest of this class is identical to Display 17.4 except the overloaded\n",
    "        // operator below has no implementation code and an additional<>\n",
    "        //     .\n",
    "\n",
    "        //     friend ostream &\n",
    "        //     operator<< <>(ostream &outs, const GenericList<ItemType> &theList);\n",
    "        // Overloads the << operator so it can be used to output the\n",
    "        // contents of the list.\n",
    "        // Note the <> needed after the operator (or function) name!\n",
    "        // The implementation is in genericlist.cpp (Display 17.8).\n",
    "    };\n",
    "} // listsavitch\n",
    "#endif // GENERICLIST_H\n",
    "```"
   ]
  },
  {
   "cell_type": "markdown",
   "metadata": {},
   "source": [
    "```CPP\n",
    "// This is the implementation file: genericlist.cpp\n",
    "// This is the implementation of the class template named GenericList.\n",
    "// The interface for the class template GenericList is in the\n",
    "// header file genericlist.h.\n",
    "#ifndef GENERICLIST_CPP\n",
    "#define GENERICLIST_CPP\n",
    "#include <iostream>\n",
    "#include <cstdlib>\n",
    "#include \"genericlist.h\" //Not needed when used as we are using this file,\n",
    "// but the #ifndef in genericlist.h makes it safe.\n",
    "using namespace std;\n",
    "\n",
    "namespace listsavitch\n",
    "{\n",
    " The rest of this file is identical to Display 17.6 except for the\n",
    " Implementation of <<.\n",
    " template<class ItemType>\n",
    " ostream& operator <<(ostream& outs, const GenericList<ItemType>& theList)\n",
    " {\n",
    "     for (int i = 0; i < theList.currentLength; i++)\n",
    "         outs << theList.item[i] << endl;\n",
    "     return outs;\n",
    " }\n",
    "} // listsavitch\n",
    "#endif // GENERICLIST_CPP Notice that we have enclosed all the template\n",
    "       // definitions in #ifndef . . . #endif.\n",
    "```"
   ]
  },
  {
   "cell_type": "markdown",
   "metadata": {},
   "source": [
    "<div style=\"font-family: arial; padding: 30px; padding-top: 0; padding-bottom: 0;\">\n",
    "    \n",
    "<h2 id=\"Program Example The BankAccount ADT\" style=\"color: #d42c06;\">typedef and Templates</h2>\n",
    "<li> You specialize a class template by giving a type \n",
    "argument to the class name such as Pair<.int>\n",
    "<ul style=\"margin-right:50px\">\n",
    "  <li>  The specialized name, Pair<int>, is used just \n",
    "like any class name\n",
    "</ul>\n",
    "<li> You can define a new class type name with the \n",
    "same meaning as the specialized name: \n",
    "typedef Class_Name<.Type_Arg> \n",
    "New_Type_Name;\n",
    "<br />\n",
    "For example:\n",
    "</div>"
   ]
  },
  {
   "cell_type": "markdown",
   "metadata": {},
   "source": [
    "```CPP\n",
    "typedef Pair<int> PairOfInt; \n",
    "PairOfInt pair1, pair2;\n",
    "```"
   ]
  },
  {
   "cell_type": "markdown",
   "metadata": {},
   "source": [
    "<div style=\"font-family: arial; padding: 30px; padding-top: 0; padding-bottom: 0;\">\n",
    "    \n",
    "<h2 id=\"Program Example The BankAccount ADT\" style=\"color: #d42c06;\">Section 17.2 Conclusion</h2>\n",
    "<li>Can you\n",
    "<ul style=\"margin-right:50px\">\n",
    "  <li> Give the definition for the member function \n",
    "getElement for the class template Pair?\n",
    "  <li> Give the definition for the constructor with zero \n",
    "arguments for the template class Pair?\n",
    "</ul>\n",
    "\n",
    "</div>"
   ]
  },
  {
   "cell_type": "markdown",
   "metadata": {},
   "source": [
    "<div style=\"font-family: arial; padding: 30px; padding-top: 0; padding-bottom: 0;\">\n",
    "    \n",
    "<h2 id=\"Program Example The BankAccount ADT\" style=\"color: #d42c06;\">Examples of template usage</h2>\n",
    "\n",
    "\n",
    "</div>"
   ]
  },
  {
   "cell_type": "code",
   "execution_count": null,
   "metadata": {
    "vscode": {
     "languageId": "cpp"
    }
   },
   "outputs": [],
   "source": [
    "// Display 17.1 Program to demonstrate a function template.\n",
    "#include <iostream>\n",
    "using namespace std;\n",
    "// Interchanges the values of variable1 and variable2.\n",
    "template <class T>\n",
    "void swapValues(T &variable1, T &variable2)\n",
    "{\n",
    "    T temp;\n",
    "\n",
    "    temp = variable1;\n",
    "    variable1 = variable2;\n",
    "    variable2 = temp;\n",
    "}\n",
    "int main()\n",
    "{\n",
    "    int integer1 = 1, integer2 = 2;\n",
    "    cout << \"Original integer values are \"\n",
    "         << integer1 << \" \" << integer2 << endl;\n",
    "    swapValues(integer1, integer2);\n",
    "    cout << \"Swapped integer values are \"\n",
    "         << integer1 << \" \" << integer2 << endl;\n",
    "    char symbol1 = 'A', symbol2 = 'B';\n",
    "    cout << \"Original character values are \"\n",
    "         << symbol1 << \" \" << symbol2 << endl;\n",
    "    swapValues(symbol1, symbol2);\n",
    "    cout << \"Swapped character values are \"\n",
    "         << symbol1 << \" \" << symbol2 << endl;\n",
    "    return 0;\n",
    "}"
   ]
  },
  {
   "cell_type": "code",
   "execution_count": null,
   "metadata": {
    "vscode": {
     "languageId": "cpp"
    }
   },
   "outputs": [],
   "source": [
    "// Display 17.2 This is file sortfunc.cpp\n",
    "template <class T>\n",
    "void swapValues(T &variable1, T &variable2)\n",
    "{\n",
    "    T temp;\n",
    "\n",
    "    temp = variable1;\n",
    "    variable1 = variable2;\n",
    "    variable2 = temp;\n",
    "}\n",
    "template <class BaseType>\n",
    "int indexOfSmallest(const BaseType a[], int startIndex, int numberUsed)\n",
    "{\n",
    "    BaseType min = a[startIndex];\n",
    "    int indexOfMin = startIndex;\n",
    "\n",
    "    for (int index = startIndex + 1; index < numberUsed; index++)\n",
    "        if (a[index] < min)\n",
    "        {\n",
    "            min = a[index];\n",
    "            indexOfMin = index;\n",
    "            // min is the smallest of a[startIndex] through a[index]\n",
    "        }\n",
    "\n",
    "    return indexOfMin;\n",
    "}\n",
    "\n",
    "template <class BaseType>\n",
    "void sort(BaseType a[], int numberUsed)\n",
    "{\n",
    "    int indexOfNextSmallest;\n",
    "    for (int index = 0; index < numberUsed - 1; index++)\n",
    "    { // Place the correct value in a[index]:\n",
    "        indexOfNextSmallest =\n",
    "            indexOfSmallest(a, index, numberUsed);\n",
    "        swapValues(a[index], a[indexOfNextSmallest]);\n",
    "        // a[0] <= a[1] <=…<= a[index] are the smallest of the original array\n",
    "        // elements. The rest of the elements are in the remaining positions.\n",
    "    }\n",
    "}"
   ]
  },
  {
   "cell_type": "code",
   "execution_count": 5,
   "metadata": {
    "vscode": {
     "languageId": "cpp"
    }
   },
   "outputs": [],
   "source": [
    "// Display 17.3 Demonstrates a generic sorting function.\n",
    "#include <iostream>\n",
    "using namespace std;\n",
    "\n",
    "// The file sortfunc.cpp defines the following function:\n",
    "// template<class BaseType>\n",
    "// void sort(BaseType a[], int numberUsed);\n",
    "// Precondition: numberUsed <= declared size of the array a.\n",
    "// The array elements a[0] through a[numberUsed − 1] have values.\n",
    "// Postcondition: The values of a[0] through a[numberUsed − 1] have\n",
    "// been rearranged so that a[0] <= a[1] <= . . . <= a[numberUsed − 1].\n",
    "\n",
    "#include \"sortfunc.cpp\"\n",
    "\n",
    "int main()\n",
    "{\n",
    "    int i;\n",
    "    int a[10] = {9, 8, 7, 6, 5, 1, 2, 3, 0, 4};\n",
    "    cout << \"Unsorted integers:\\n\";\n",
    "    for (i = 0; i < 10; i++)\n",
    "        cout << a[i] << \" \";\n",
    "    cout << endl;\n",
    "    sort(a, 10);\n",
    "    cout << \"In sorted order the integers are:\\n\";\n",
    "    for (i = 0; i < 10; i++)\n",
    "        cout << a[i] << \" \";\n",
    "    cout << endl;\n",
    "    double b[5] = {5.5, 4.4, 1.1, 3.3, 2.2};\n",
    "    cout << \"Unsorted doubles:\\n\";\n",
    "    for (i = 0; i < 5; i++)\n",
    "        cout << b[i] << \" \";\n",
    "    cout << endl;\n",
    "    sort(b, 5);\n",
    "    cout << \"In sorted order the doubles are:\\n\";\n",
    "    for (i = 0; i < 5; i++)\n",
    "        cout << b[i] << \" \";\n",
    "    cout << endl;\n",
    "    char c[7] = {'G', 'E', 'N', 'E', 'R', 'I', 'C'};\n",
    "    cout << \"Unsorted characters:\\n\";\n",
    "    for (i = 0; i < 7; i++)\n",
    "        cout << c[i] << \" \";\n",
    "    cout << endl;\n",
    "    sort(c, 7);\n",
    "    cout << \"In sorted order the characters are:\\n\";\n",
    "    for (i = 0; i < 7; i++)\n",
    "        cout << c[i] << \" \";\n",
    "    cout << endl;\n",
    "    return 0;\n",
    "}"
   ]
  },
  {
   "cell_type": "markdown",
   "metadata": {},
   "source": [
    "<div style=\"font-size: 1.1em; font-family: arial; padding: 30px;\">\n",
    "<div style=\"border: 2px solid #1f49a3; border-radius: 10px; padding: 30px; padding-top: 15px;\">\n",
    "<h3 style=\"color: #1f49a3; font-weight: bold;\">Note</h3>\n",
    "<span style=\"color: #1f49a3;\">Note that all the example codes are placed in the <code>src</code> folder </span>\n",
    "</div>\n",
    "</div>"
   ]
  },
  {
   "cell_type": "markdown",
   "metadata": {},
   "source": [
    "<div style=\"font-family: arial; padding: 30px; padding-top: 0; padding-bottom: 0;\">\n",
    "    \n",
    "<h2 style=\"color: #d42c06;\">References</h2>\n",
    "\n",
    "<ul>\n",
    "    <li>Walter J. Savitch. Problem Solving with C++, Tenth Edition. 2018.</li>\n",
    "</ul>\n",
    "\n",
    "<hr style=\"margin-top: 25px; border-color: #fff;\">\n",
    "\n",
    "</div>"
   ]
  }
 ],
 "metadata": {
  "kernelspec": {
   "display_name": "C++17",
   "language": "C++17",
   "name": "xcpp17"
  },
  "language_info": {
   "codemirror_mode": "text/x-c++src",
   "file_extension": ".cpp",
   "mimetype": "text/x-c++src",
   "name": "C++17",
   "version": "-std=c++17"
  }
 },
 "nbformat": 4,
 "nbformat_minor": 2
}

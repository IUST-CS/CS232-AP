{
 "cells": [
  {
   "cell_type": "markdown",
   "metadata": {},
   "source": [
    "<div style=\"font-size:40px; color: navy; font-weight:bold\" align='center'>\n",
    "    انواع داده انتزاعی ۱۰.۳ \n",
    "</div><br>\n",
    "***"
   ]
  },
  {
   "cell_type": "markdown",
   "metadata": {},
   "source": [
    "<div style=\"text-align:right; \" dir=\"rtl\">\n",
    "    <h3 style=\"color: red; font-weight:bold\"> &nbsp;&nbsp;&nbsp;&nbsp; داده انتزاعی (ADT)</h3>\n",
    "    <ul style=\"margin-right:50px;\">\n",
    "        <li> شامل یک مجموعه از مقادیر به همراه یک مجموعه از عملیات پایه معرفی شده بر روی این مقادیر است</li>\n",
    "        <li> داده ای که به جزئیات نحوه اجرای مقادیر و عملیات دسترسی نداشته باشند انتزاعی نامیده میشود. </li>\n",
    "    </ul>\n",
    "</div>\n"
   ]
  },
  {
   "cell_type": "markdown",
   "metadata": {},
   "source": [
    "<div style=\"text-align:right;\" dir=\"rtl\">\n",
    "    <h3 style=\"color: red; font-weight:bold\">&nbsp;&nbsp;&nbsp;&nbsp;کلاس‌ها برای تولید انواع داده انتزاعی</h3>\n",
    "    <p>\n",
    "        &nbsp;&nbsp;&nbsp;&nbsp;&nbsp;&nbsp; تعریف یک کلاس به گونه‌ای که یک نوع داده انتزاعی (ADT) باشد:\n",
    "        <ul style=\"margin-right:50px\">\n",
    "            <li>جدا کردن مشخصات اینکه چگونه نوع توسط برنامه نویس استفاده می‌شود از جزئیات نحوه پیاده‌سازی نوع</li>\n",
    "            <li>تمام متغیرهای عضو را به صورت خصوصی تعریف کنید *</li>\n",
    "            <li>عملیات‌های پایه‌ای که یک برنامه نویس نیاز دارد باید به عنوان توابع عضو عمومی تعریف شوند</li>\n",
    "            <li>به طور کامل مشخص کنید که چگونه از هر تابع عمومی استفاده میکنید</li>\n",
    "            <li>توابع کمکی باید به عنوان خصوصی تعریف شوند *</li>\n",
    "        </ul>\n",
    "    </p>\n",
    "</div>\n"
   ]
  },
  {
   "cell_type": "markdown",
   "metadata": {},
   "source": [
    "<div style=\"text-align:right;\" dir=\"rtl\">\n",
    "    <h3 style=\"color: red; font-weight:bold\">&nbsp;&nbsp;&nbsp;&nbsp;تابع کمکی</h3>\n",
    "    <p style=\"margin-right:50px\">\n",
    "        یک تابع کمکی تابعی است که بخشی از محاسبات یک تابع دیگر را انجام می‌دهد. توابع کمکی برای\n",
    "        بهبود خوانایی برنامه‌های شما با اختصاص نام‌های توصیفی به محاسبات استفاده می‌شوند.\n",
    "          همچنین مانند توابع عمومی به شما این امکان را می‌دهند که\n",
    "        محاسبات را مجدداً استفاده کنید.\n",
    "    </p>\n",
    "</div>"
   ]
  },
  {
   "cell_type": "markdown",
   "metadata": {},
   "source": [
    "<div style=\"text-align:right;\" dir=\"rtl\">\n",
    "    <h3 style=\"color: red; font-weight:bold\">&nbsp;&nbsp;&nbsp;&nbsp;رابط داده انتزاعی (ADT)</h3>\n",
    "    <p>\n",
    "        &nbsp;&nbsp;&nbsp;&nbsp;&nbsp;&nbsp; رابط داده انتزاعی نشان می‌دهد چگونه از آن در یک برنامه استفاده شود.\n",
    "    </p>\n",
    "    <p>&nbsp;&nbsp;&nbsp;&nbsp;&nbsp;&nbsp;&nbsp;\n",
    "        این رابط شامل موارد زیر است:\n",
    "        <ul style=\"margin-right:50px\">\n",
    "            <li>توابع عمومی عضو</li>\n",
    "            <li>توضیحاتی که نحوه استفاده از توابع را توضیح می‌دهند</li>\n",
    "            <li>رابط باید شامل تمام اطلاعات لازم برای استفاده از داده انتزاعی در یک برنامه باشد.</li>\n",
    "        </ul>\n",
    "    </p>\n",
    "</div>\n"
   ]
  },
  {
   "cell_type": "markdown",
   "metadata": {},
   "source": [
    "<div style=\"text-align:right;\" dir=\"rtl\">\n",
    "    <h3 style=\"color: red; font-weight:bold\">&nbsp;&nbsp;&nbsp;&nbsp;پیاده‌سازی داده انتزاعی (ADT)</h3>\n",
    "    <p>  &nbsp;&nbsp;&nbsp;&nbsp;&nbsp;&nbsp;\n",
    "        پیاده‌سازی داده انتزاعی نشان می‌دهد که رابط چگونه در سی پلاس پلاس پیاده‌سازی می‌شود.\n",
    "    </p>\n",
    "    <p> &nbsp;&nbsp;&nbsp;&nbsp;&nbsp;&nbsp;\n",
    "        این پیاده‌سازی شامل موارد زیر است:\n",
    "        <ul style=\"margin-right:50px\">\n",
    "            <li>اعضای خصوصی کلاس</li>\n",
    "            <li>تعاریف توابع عضو عمومی و خصوصی</li>\n",
    "            <li>پیاده‌سازی برای اجرای یک برنامه نیاز است</li>\n",
    "            <li>پیاده‌سازی برای نوشتن بخش اصلی یک برنامه یا هر تابع غیر عضو نیاز نیست</li>\n",
    "        </ul>\n",
    "    </p>\n",
    "</div>\n"
   ]
  },
  {
   "cell_type": "markdown",
   "metadata": {},
   "source": [
    "<div style=\"text-align:right;\" dir=\"rtl\">\n",
    "    <h3 style=\"color: red; font-weight:bold;\">&nbsp;&nbsp;&nbsp;&nbsp;&nbsp;فواید داده انتزاعی (ADT)</h3>\n",
    "    <p> &nbsp;&nbsp;&nbsp;&nbsp;&nbsp;&nbsp;\n",
    "        - تغییر پیاده‌سازی یک داده انتزاعی نیازمند تغییر برنامه‌ای است که از این نوع داده استفاده می‌کند\n",
    "    </p>\n",
    "    <p> &nbsp;&nbsp;&nbsp;&nbsp;&nbsp;&nbsp;\n",
    "        - استفاده از ‌داده های انتزاعی کار را بین برنامه‌نویسان مختلف آسان‌تر می‌کند:\n",
    "        <ul style=\"margin-right:50px\">\n",
    "            <li>یک یا چند نفر می‌توانند  داده انتزاعی را بنویسند</li>\n",
    "            <li>یک یا چند نفر می‌توانند کدی را که از داده انتزاعی استفاده می‌کند را  بنویسند</li>\n",
    "        </ul>\n",
    "    </p>\n",
    "    <p> &nbsp;&nbsp;&nbsp;&nbsp;&nbsp;&nbsp;\n",
    "        - نوشتن و استفاده از داده های انتزاعی  کار بزرگ برنامه‌نویسی را به کارهای کوچک‌تر تقسیم می‌کند\n",
    "    </p>\n",
    "</div>\n"
   ]
  },
  {
   "cell_type": "markdown",
   "metadata": {},
   "source": [
    "<div style=\"text-align:right;\" dir=\"rtl\">\n",
    "    <h3 style=\"color: red; font-weight:bold;\">&nbsp;&nbsp;&nbsp;&nbsp;&nbsp;نمونه برنامه: داده انتزاعی حساب بانکی</h3>\n",
    "</div>\n"
   ]
  },
  {
   "cell_type": "markdown",
   "metadata": {},
   "source": [
    "<div style=\"text-align:right;\" dir=\"rtl\">\n",
    "    <p> &nbsp;&nbsp;&nbsp;&nbsp;&nbsp;\n",
    "        در این نسخه از داده های انتزاعی حساب بانکی:\n",
    "        <ul style=\"margin-right: 40px;\">\n",
    "            <li>داده‌ها با سه متغیر ذخیره می‌شوند:</li>\n",
    "            <ul style=\" margin-right: 70px;\">\n",
    "                <li>بخش دلار از موجودی حساب</li>\n",
    "                <li>بخش سنت از موجودی حساب</li>\n",
    "                <li>نرخ سود</li>\n",
    "            </ul>\n",
    "            <li>این نسخه نرخ سود را به عنوان یک کسر ذخیره می‌کند</li>\n",
    "            <li >بخش عمومی تعریف کلاس بدون تغییر از نسخه نمایش ۱۰.۶ باقی می‌ماند.</li>\n",
    "        </ul>\n",
    "    </p>\n",
    "</div>\n"
   ]
  },
  {
   "cell_type": "code",
   "execution_count": null,
   "metadata": {
    "vscode": {
     "languageId": "cpp"
    }
   },
   "outputs": [],
   "source": [
    "#include <iostream>\n",
    "using namespace std;"
   ]
  },
  {
   "cell_type": "code",
   "execution_count": null,
   "metadata": {
    "vscode": {
     "languageId": "cpp"
    }
   },
   "outputs": [],
   "source": [
    "{\n",
    "class BankAccount\n",
    "{\n",
    "public:\n",
    "    BankAccount(int dollars, int cents, double rate){\n",
    "        if ((dollars < 0) || (cents < 0) || (rate < 0))\n",
    "        {\n",
    "            cout << \"Illegal values for money or interest rate.\\n\";\n",
    "            exit(1);\n",
    "        }\n",
    "        dollarsPart = dollars;\n",
    "        centsPart = cents;\n",
    "        interestRate = fraction(rate);\n",
    "    }\n",
    "    //Initializes the account balance to $dollars.cents and\n",
    "    //initializes the interest rate to rate percent.\n",
    "    BankAccount(int dollars, double rate){\n",
    "        if ((dollars < 0) || (rate < 0))\n",
    "        {\n",
    "            cout << \"Illegal values for money or interest rate.\\n\";\n",
    "            exit(1);\n",
    "        }\n",
    "        dollarsPart = dollars;\n",
    "        centsPart = 0;\n",
    "        interestRate = fraction(rate);\n",
    "    }\n",
    "    //Initializes the account balance to $dollars.00 and\n",
    "    //initializes the interest rate to rate percent.\n",
    "    BankAccount( ) : dollarsPart(0), centsPart(0), interestRate(0.0)\n",
    "    {\n",
    "        \n",
    "    }\n",
    "    //Initializes the account balance to $0.00 and the\n",
    "    //interest rate to 0.0%.\n",
    "    void set(int dollars, int cents, double rate){\n",
    "        if ((dollars < 0) || (cents < 0) || (rate < 0))\n",
    "        {\n",
    "            cout << \"Illegal values for money or interest rate.\\n\";\n",
    "            return;\n",
    "        }\n",
    "        dollarsPart = dollars;\n",
    "        centsPart = cents;\n",
    "        interestRate = fraction(rate);\n",
    "    }\n",
    "    //Postcondition: The account balance has been set to $dollars.cents;\n",
    "    //The interest rate has been set to rate percent.\n",
    "    void set(int dollars, double rate){\n",
    "    if ((dollars < 0) || (rate < 0))\n",
    "        {\n",
    "        cout << \"Illegal values for money or interest rate.\\n\";\n",
    "        return;\n",
    "        }\n",
    "    dollarsPart = dollars;\n",
    "    interestRate = fraction(rate);\n",
    "    }\n",
    "    //Postcondition: The account balance has been set to $dollars.00.\n",
    "    //The interest rate has been set to rate percent.\n",
    "    double getBalance( ){\n",
    "        return (dollarsPart + 0.01 * centsPart);\n",
    "    }\n",
    "    //Returns the current account balance.\n",
    "    double getRate( ){\n",
    "        return percent(interestRate);\n",
    "    }\n",
    "    //Returns the current account interest rate as a percentage.\n",
    "    void output(ostream& outs){\n",
    "        outs.setf(ios::fixed);\n",
    "        outs.setf(ios::showpoint);\n",
    "        outs.precision(2);\n",
    "        outs << \"Account balance $\" << getBalance( ) << endl;\n",
    "        outs << \"Interest rate \"<< getRate( ) << \"%\" << endl;\n",
    "    }\n",
    "    //Precondition: If outs is a file output stream, then\n",
    "    //outs has already been connected to a file.\n",
    "    //Postcondition: Account balance and interest rate\n",
    "    //have been written to the stream outs.\n",
    "private:\n",
    "    int dollarsPart;\n",
    "    int centsPart;\n",
    "    double interestRate;\n",
    "    //Expressed as a fraction, for example, 0.057 for 5.7%\n",
    "    double fraction(double percentValue){\n",
    "        return (percentValue/100.0);\n",
    "    }\n",
    "    //Converts a percentage to a fraction. For example, fraction(50.3)\n",
    "    //returns 0.503.\n",
    "    double percent(double fractionValue){\n",
    "        return (fractionValue * 100);\n",
    "    }\n",
    "    //Converts a fraction to a percentage. For example, percent(0.503)\n",
    "    //returns 50.3.\n",
    "};\n",
    "\n",
    "    BankAccount account1(100, 2.3), account2;\n",
    "    cout << \"account1 initialized as follows:\\n\";\n",
    "    account1.output(cout);\n",
    "    cout << \"account2 initialized as follows:\\n\";\n",
    "    account2.output(cout);\n",
    "    account1 = BankAccount(999, 99, 5.5);\n",
    "    cout << \"account1 reset to the following:\\n\";\n",
    "    account1.output(cout);\n",
    "}"
   ]
  }
 ],
 "metadata": {
  "kernelspec": {
   "display_name": "C++17",
   "language": "C++17",
   "name": "xcpp17"
  },
  "language_info": {
   "codemirror_mode": "text/x-c++src",
   "file_extension": ".cpp",
   "mimetype": "text/x-c++src",
   "name": "c++",
   "version": "-std=c++17"
  }
 },
 "nbformat": 4,
 "nbformat_minor": 2
}

{
 "cells": [
  {
   "cell_type": "markdown",
   "metadata": {},
   "source": [
    "<div style=\"font-size:30px; color: navy\" align='center'>\n",
    "    10.3 Abstract Data Types\n",
    "</div><br>\n",
    "\n",
    "***"
   ]
  },
  {
   "cell_type": "markdown",
   "metadata": {},
   "source": [
    "### Abstract Data Types\n",
    "- A data type consists of acollection of values together with a set of basic operations definedon the values<br>\n",
    "- A data type is an Abstract Data Type (ADT) if programmers using the type do not have access to the details of how the values and operations are implemented\n",
    "<br>"
   ]
  },
  {
   "cell_type": "markdown",
   "metadata": {},
   "source": [
    "### Classes To Produce ADTs\n",
    "To define a class so it is an ADT:\n",
    "- Separate the specific ation of how the type is used by a programmer from the details of how the type is implemented\n",
    "- Make all member variables private * \n",
    "- Basic operations a programmer needs should be public member functions\n",
    "- Fully specify how to use each public function\n",
    "- Helper functions should be private * "
   ]
  },
  {
   "cell_type": "markdown",
   "metadata": {},
   "source": [
    "### Helper Function\n",
    "A helper function is a function that performs part of the\n",
    "computation of another function. Helper functions are used to\n",
    "make your programs easier to read by giving descriptive\n",
    "names to computations. They also let you reuse computations,\n",
    "just as with functions in general."
   ]
  },
  {
   "cell_type": "markdown",
   "metadata": {},
   "source": [
    "### ADT Interface\n",
    "The ADT interface tells how to use the ADT in a program <br>\n",
    "\n",
    "The interface consists of:\n",
    "- The public member functions\n",
    "- The comments that explain how to use the functions\n",
    "- The interface should be all that is needed to know how to use the ADT in a program"
   ]
  },
  {
   "cell_type": "markdown",
   "metadata": {},
   "source": [
    "### ADT Implementation\n",
    "The ADT implementation tells how the interface is realized in C++\n",
    "\n",
    "The implementation consists of:\n",
    "\n",
    "- The private members of the class\n",
    "- The definitions of public and private member functions\n",
    "- The implementation is needed to run a program\n",
    "- The implementation is not needed to write the main part of a program or any non-member functions"
   ]
  },
  {
   "cell_type": "markdown",
   "metadata": {},
   "source": [
    "### ADT Benefits\n",
    "- Changing an ADT implementation does require\n",
    "changing a program that uses the ADT\n",
    "- ADT’s make it easier to divide work among\n",
    "different programmers:\n",
    "  -  One or more can write the ADT\n",
    "  -  One or more can write code that uses the ADT\n",
    "-  Writing and using ADTs breaks the larger programming task into smaller tasks"
   ]
  },
  {
   "cell_type": "markdown",
   "metadata": {},
   "source": [
    "### Program Example The BankAccount ADT"
   ]
  },
  {
   "cell_type": "markdown",
   "metadata": {},
   "source": [
    "In this version of the BankAccount ADT\n",
    "- Data is stored as three member variables\n",
    "  - The dollars part of the account balance\n",
    "  - The cents part of the account balance\n",
    "  - The interest rate\n",
    "- This version stores the interest rate as a fraction\n",
    "- The public portion of the class definition remains\n",
    "unchanged from the version of Display 10.6"
   ]
  },
  {
   "cell_type": "code",
   "execution_count": 1,
   "metadata": {},
   "outputs": [],
   "source": [
    "#include <iostream>\n",
    "using namespace std;"
   ]
  },
  {
   "cell_type": "code",
   "execution_count": 9,
   "metadata": {},
   "outputs": [
    {
     "name": "stdout",
     "output_type": "stream",
     "text": [
      "account1 initialized as follows:\n",
      "Account balance $100.00\n",
      "Interest rate 2.30%\n",
      "account2 initialized as follows:\n",
      "Account balance $0.00\n",
      "Interest rate 0.00%\n",
      "account1 reset to the following:\n",
      "Account balance $999.99\n",
      "Interest rate 5.50%\n"
     ]
    }
   ],
   "source": [
    "{\n",
    "class BankAccount\n",
    "{\n",
    "public:\n",
    "    BankAccount(int dollars, int cents, double rate){\n",
    "        if ((dollars < 0) || (cents < 0) || (rate < 0))\n",
    "        {\n",
    "            cout << \"Illegal values for money or interest rate.\\n\";\n",
    "            return;\n",
    "        }\n",
    "        balance = dollars + 0.01 * cents;\n",
    "        interestRate = rate;\n",
    "    }\n",
    "    // Initializes the account balance to $dollars.cents and\n",
    "    // initializes the interest rate to rate percent.\n",
    "    BankAccount(int dollars, double rate)\n",
    "    {\n",
    "        if ((dollars < 0) || (rate < 0))\n",
    "        {\n",
    "            cout << \"Illegal values for money or interest rate.\\n\";\n",
    "            return;\n",
    "        }\n",
    "        balance = dollars;\n",
    "        interestRate = rate;\n",
    "    }\n",
    "    // Initializes the account balance to $dollars.00 and\n",
    "    // initializes the interest rate to rate percent.\n",
    "    BankAccount( ) : balance(0), interestRate(0.0)\n",
    "    {\n",
    "        \n",
    "    }\n",
    "    // Initializes the account balance to $0.00\n",
    "    // and the interest rate to 0.0%.\n",
    "    void set(int dollars, int cents, double rate);\n",
    "    // Postcondition: The account balance has been set to $dollars.cents;\n",
    "    // The interest rate has been set to rate percent.\n",
    "    void set(int dollars, double rate);\n",
    "    // Postcondition: The account balance has been set to $dollars.00.\n",
    "    // The interest rate has been set to rate percent.\n",
    "    void update( );\n",
    "\n",
    "    // Postcondition: One year of simple interest has been added\n",
    "    // to the account balance.\n",
    "    double getBalance( );\n",
    "    // Returns the current account balance.\n",
    "    double getRate( );\n",
    "    // Returns the current account interest rate as a percentage.\n",
    "    void output(ostream& outs)\n",
    "    {\n",
    "        outs.setf(ios::fixed);\n",
    "        outs.setf(ios::showpoint);\n",
    "        outs.precision(2);\n",
    "        outs << \"Account balance $\" << balance << endl;\n",
    "        outs << \"Interest rate \" << interestRate << \"%\" << endl;\n",
    "    }\n",
    "    // Precondition: If outs is a file output stream, then\n",
    "    // outs has already been connected to a file.\n",
    "    // Postcondition: Account balance and interest rate\n",
    "    // have been written to the stream outs.\n",
    "private:\n",
    "    double balance;\n",
    "    double interestRate;\n",
    "    double fraction(double percent);\n",
    "    // Converts a percentage to a fraction. For example, fraction(50.3)\n",
    "    // returns 0.503.\n",
    "};\n",
    "\n",
    "    \n",
    "    BankAccount account1(100, 2.3), account2;\n",
    "    cout << \"account1 initialized as follows:\\n\";\n",
    "    account1.output(cout);\n",
    "    cout << \"account2 initialized as follows:\\n\";\n",
    "    account2.output(cout);\n",
    "    account1 = BankAccount(999, 99, 5.5);\n",
    "    cout << \"account1 reset to the following:\\n\";\n",
    "    account1.output(cout);\n",
    "}"
   ]
  },
  {
   "cell_type": "code",
   "execution_count": null,
   "metadata": {},
   "outputs": [],
   "source": []
  }
 ],
 "metadata": {
  "kernelspec": {
   "display_name": "C++17",
   "language": "C++17",
   "name": "xcpp17"
  },
  "language_info": {
   "codemirror_mode": "text/x-c++src",
   "file_extension": ".cpp",
   "mimetype": "text/x-c++src",
   "name": "c++",
   "version": "-std=c++17"
  }
 },
 "nbformat": 4,
 "nbformat_minor": 2
}

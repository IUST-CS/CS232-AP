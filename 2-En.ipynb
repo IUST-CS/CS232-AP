{
 "cells": [
  {
   "cell_type": "markdown",
   "metadata": {},
   "source": [
    "<div style=\"font-size:30px; color: navy\" align='center'>\n",
    "    10.3 Abstract Data Types\n",
    "</div><br>\n",
    "\n",
    "***"
   ]
  },
  {
   "cell_type": "markdown",
   "metadata": {},
   "source": [
    "### Abstract Data Types\n",
    "- A data type consists of acollection of values together with a set of basic operations definedon the values<br>\n",
    "- A data type is an Abstract Data Type (ADT) if programmers using the type do not have access to the details of how the values and operations are implemented\n",
    "<br>"
   ]
  },
  {
   "cell_type": "markdown",
   "metadata": {},
   "source": [
    "### Classes To Produce ADTs\n",
    "To define a class so it is an ADT:\n",
    "- Separate the specific ation of how the type is used by a programmer from the details of how the type is implemented\n",
    "- Make all member variables private * \n",
    "- Basic operations a programmer needs should be public member functions\n",
    "- Fully specify how to use each public function\n",
    "- Helper functions should be private * "
   ]
  },
  {
   "cell_type": "markdown",
   "metadata": {},
   "source": [
    "### Helper Function\n",
    "A helper function is a function that performs part of the\n",
    "computation of another function. Helper functions are used to\n",
    "make your programs easier to read by giving descriptive\n",
    "names to computations. They also let you reuse computations,\n",
    "just as with functions in general."
   ]
  },
  {
   "cell_type": "markdown",
   "metadata": {},
   "source": [
    "### ADT Interface\n",
    "The ADT interface tells how to use the ADT in a program <br>\n",
    "\n",
    "The interface consists of:\n",
    "- The public member functions\n",
    "- The comments that explain how to use the functions\n",
    "- The interface should be all that is needed to know how to use the ADT in a program"
   ]
  },
  {
   "cell_type": "markdown",
   "metadata": {},
   "source": [
    "### ADT Implementation\n",
    "The ADT implementation tells how the interface is realized in C++\n",
    "\n",
    "The implementation consists of:\n",
    "\n",
    "- The private members of the class\n",
    "- The definitions of public and private member functions\n",
    "- The implementation is needed to run a program\n",
    "- The implementation is not needed to write the main part of a program or any non-member functions"
   ]
  },
  {
   "cell_type": "markdown",
   "metadata": {},
   "source": [
    "### ADT Benefits\n",
    "- Changing an ADT implementation does require\n",
    "changing a program that uses the ADT\n",
    "- ADT’s make it easier to divide work among\n",
    "different programmers:\n",
    "  -  One or more can write the ADT\n",
    "  -  One or more can write code that uses the ADT\n",
    "-  Writing and using ADTs breaks the larger programming task into smaller tasks"
   ]
  },
  {
   "cell_type": "markdown",
   "metadata": {},
   "source": [
    "### Program Example The BankAccount ADT"
   ]
  },
  {
   "cell_type": "markdown",
   "metadata": {},
   "source": [
    "In this version of the BankAccount ADT\n",
    "- Data is stored as three member variables\n",
    "  - The dollars part of the account balance\n",
    "  - The cents part of the account balance\n",
    "  - The interest rate\n",
    "- This version stores the interest rate as a fraction\n",
    "- The public portion of the class definition remains\n",
    "unchanged from the version of Display 10.6"
   ]
  },
  {
   "cell_type": "code",
   "execution_count": 2,
   "metadata": {
    "vscode": {
     "languageId": "cpp"
    }
   },
   "outputs": [],
   "source": [
    "#include <iostream>\n",
    "#include <cmath>\n",
    "using namespace std;"
   ]
  },
  {
   "cell_type": "code",
   "execution_count": 5,
   "metadata": {
    "vscode": {
     "languageId": "cpp"
    }
   },
   "outputs": [
    {
     "name": "stdout",
     "output_type": "stream",
     "text": [
      "account1 initialized as follows:\n",
      "Account balance $100.00\n",
      "Interest rate 2.30%\n",
      "account2 initialized as follows:\n",
      "Account balance $0.00\n",
      "Interest rate 0.00%\n",
      "account1 reset to the following:\n",
      "Account balance $999.99\n",
      "Interest rate 5.50%\n"
     ]
    }
   ],
   "source": [
    "{\n",
    "class BankAccount\n",
    "{\n",
    "public:\n",
    "    BankAccount(int dollars, int cents, double rate){\n",
    "        if ((dollars < 0) || (cents < 0) || (rate < 0))\n",
    "        {\n",
    "            cout << \"Illegal values for money or interest rate.\\n\";\n",
    "            exit(1);\n",
    "        }\n",
    "        dollarsPart = dollars;\n",
    "        centsPart = cents;\n",
    "        interestRate = fraction(rate);\n",
    "    }\n",
    "    //Initializes the account balance to $dollars.cents and\n",
    "    //initializes the interest rate to rate percent.\n",
    "    BankAccount(int dollars, double rate){\n",
    "        if ((dollars < 0) || (rate < 0))\n",
    "        {\n",
    "            cout << \"Illegal values for money or interest rate.\\n\";\n",
    "            exit(1);\n",
    "        }\n",
    "        dollarsPart = dollars;\n",
    "        centsPart = 0;\n",
    "        interestRate = fraction(rate);\n",
    "    }\n",
    "    //Initializes the account balance to $dollars.and\n",
    "    //initializes the interest rate to rate percent.\n",
    "    BankAccount( ) : dollarsPart(0), centsPart(0), interestRate(0.0)\n",
    "    {\n",
    "        \n",
    "    }\n",
    "    //Initializes the account balance to $0.and the\n",
    "    //interest rate to 0.0%.\n",
    "    void set(int dollars, int cents, double rate){\n",
    "        if ((dollars < 0) || (cents < 0) || (rate < 0))\n",
    "        {\n",
    "            cout << \"Illegal values for money or interest rate.\\n\";\n",
    "            return;\n",
    "        }\n",
    "        dollarsPart = dollars;\n",
    "        centsPart = cents;\n",
    "        interestRate = fraction(rate);\n",
    "    }\n",
    "    //Postcondition: The account balance has been set to $dollars.cents;\n",
    "    //The interest rate has been set to rate percent.\n",
    "    void set(int dollars, double rate){\n",
    "    if ((dollars < 0) || (rate < 0))\n",
    "        {\n",
    "        cout << \"Illegal values for money or interest rate.\\n\";\n",
    "        return;\n",
    "        }\n",
    "    dollarsPart = dollars;\n",
    "    interestRate = fraction(rate);\n",
    "    }\n",
    "    //Postcondition: The account balance has been set to $dollars.00.\n",
    "    //The interest rate has been set to rate percent.\n",
    "    double getBalance( ){\n",
    "        return (dollarsPart + 0.* centsPart);\n",
    "    }\n",
    "    //Returns the current account balance.\n",
    "    double getRate( ){\n",
    "        return percent(interestRate);\n",
    "    }\n",
    "    //Returns the current account interest rate as a percentage.\n",
    "    void output(ostream& outs){\n",
    "        outs.setf(ios::fixed);\n",
    "        outs.setf(ios::showpoint);\n",
    "        outs.precision(2);\n",
    "        outs << \"Account balance $\" << getBalance( ) << endl;\n",
    "        outs << \"Interest rate \"<< getRate( ) << \"%\" << endl;\n",
    "    }\n",
    "    //Precondition: If outs is a file output stream, then\n",
    "    //outs has already been connected to a file.\n",
    "    //Postcondition: Account balance and interest rate\n",
    "    //have been written to the stream outs.\n",
    "private:\n",
    "    int dollarsPart;\n",
    "    int centsPart;\n",
    "    double interestRate;\n",
    "    //Expressed as a fraction, for example, 0.0for 5.7%\n",
    "    double fraction(double percentValue){\n",
    "        return (percentValue/100.0);\n",
    "    }\n",
    "    //Converts a percentage to a fraction. For example, fraction(50.3)\n",
    "    //returns 0.503.\n",
    "    double percent(double fractionValue){\n",
    "        return (fractionValue * 100);\n",
    "    }\n",
    "    //Converts a fraction to a percentage. For example, percent(0.503)\n",
    "    //returns 50.3.\n",
    "};\n",
    "\n",
    "    BankAccount account1(100, 2.3), account2;\n",
    "    cout << \"accountinitialized as follows:\\n\";\n",
    "    account1.output(cout);\n",
    "    cout << \"accountinitialized as follows:\\n\";\n",
    "    account2.output(cout);\n",
    "    account= BankAccount(999, 99, 5.5);\n",
    "    cout << \"accountreset to the following:\\n\";\n",
    "    account1.output(cout);\n",
    "}"
   ]
  },
  {
   "cell_type": "markdown",
   "metadata": {},
   "source": [
    "### Interface Preservation\n",
    "To preserve the interface of an ADT so that\n",
    "programs using it do not need to be changed\n",
    "- Public member declarations cannot be\n",
    "changed\n",
    "- Public member definitions can be changed\n",
    "- Private member functions can be added, deleted, or changed\n"
   ]
  },
  {
   "cell_type": "markdown",
   "metadata": {},
   "source": [
    "### Information Hiding\n",
    "Information hiding was refered to earlier as\n",
    "writing functions so they can be used like\n",
    "black boxes\n",
    "ADT’s implement information hiding because\n",
    "- The interface is all that is needed to use the ADT\n",
    "- Implementation details of the ADT are not needed\n",
    "to know how to use the ADT\n",
    "- Implementation details of the data values are not\n",
    "needed to know how to use the ADT"
   ]
  },
  {
   "cell_type": "markdown",
   "metadata": {},
   "source": [
    "### Section 10.Conclusion\n",
    "Can you\n",
    "- Describe an ADT?\n",
    "- Describe how to implement an ADT in C++?\n",
    "- Define the interface of an ADT?\n",
    "- Define the implementation of an ADT?"
   ]
  },
  {
   "cell_type": "markdown",
   "metadata": {},
   "source": [
    "<div style=\"font-size:30px; color: navy\" align='center'>\n",
    "    10.4 Introduction to Inheritance\n",
    "</div><br>\n",
    "\n",
    "***"
   ]
  },
  {
   "cell_type": "markdown",
   "metadata": {},
   "source": [
    "### Inheritance\n",
    "Inheritance refers to derived classes\n",
    "- Derived classes are obtained from another class\n",
    "by adding features\n",
    "- A derived class inherits the member functions and\n",
    "variables from its parent class without having to rewrite them\n",
    "- Example:\n",
    "  - In Chapter we saw that the class of input-file streams is\n",
    "derived from the\n",
    "class of all input streams by adding member\n",
    "functions such as open and close\n",
    "  - cin belongs to the class of all input streams, but not\n",
    "the class of input-file streams\n",
    "### Inheritance Example\n",
    "Natural hierarchy of bank accounts <br>\n",
    "Most general: A Bank Account stores a balance <br>\n",
    "A Checking Account “IS A” Bank Account that allows customers to write checks <br>\n",
    "A Savings Account “IS A” Bank Account without checks but higher interest <br> <br>\n",
    "\n",
    "![class](./src/1.png) <br>\n",
    "**Accounts are more specific as we go down the hierarchy** <br>\n",
    "**Each box can be a class**\n",
    "\n",
    "\n"
   ]
  },
  {
   "cell_type": "markdown",
   "metadata": {},
   "source": [
    "### Inheritance Relationships\n",
    "The more specific class is a derived or child\n",
    "class <br>\n",
    "The more general class is the base, super, or\n",
    "parent class <br>\n",
    "If class B is derived from class A :\n",
    "- Class B is a derived class of class A\n",
    "- Class B is a child of class A\n",
    "- Class A is the parent of class B\n",
    "- Class B inherits the member functions and\n",
    "variables of class A"
   ]
  },
  {
   "cell_type": "markdown",
   "metadata": {},
   "source": [
    "### Defining Derived Classes\n",
    "- Give the class name as normal, but add a colon and then\n",
    "the name of the base class <br>\n",
    "```cpp \n",
    "class SavingsAccount : public BankAccount\n",
    "{ \n",
    "… \n",
    "}\n",
    "```\n",
    "- Objects of type SavingsAccount can access member\n",
    "functions defined in SavingsAccount or BankAccount"
   ]
  },
  {
   "cell_type": "markdown",
   "metadata": {},
   "source": [
    "**C++ Jupyter Kernel Does not support Inheritance, so please try this in your own IDE**"
   ]
  },
  {
   "cell_type": "markdown",
   "metadata": {},
   "source": [
    "```cpp\n",
    "class SavingsAccount : public BankAccount\n",
    "{\n",
    "    public:\n",
    "    SavingsAccount(int dollars, int cents, double rate) BankAccount(dollars, cents, rate)\n",
    "    {\n",
    "    //deliberately empty\n",
    "    }\n",
    "    //Other constructors would go here\n",
    "    void deposit(int dollars, int cents)\n",
    "    {\n",
    "        double balance = getBalance();\n",
    "        balance += dollars;\n",
    "        balance += (static_cast<double>(cents) / 100);\n",
    "        int newDollars = static_cast<int>(balance);\n",
    "        int newCents = static_cast<int>((balance − newDollars) * 100);\n",
    "        set(newDollars, newCents, getRate());\n",
    "    }\n",
    "    //Adds $dollars.cents to the account balance\n",
    "    void withdraw(int dollars, int cents)\n",
    "    {\n",
    "        double balance = getBalance();\n",
    "        balance −= dollars;\n",
    "        balance −= (static_cast<double>(cents) / 100);\n",
    "        int newDollars = static_cast<int>(balance);\n",
    "        int newCents = static_cast<int>((balance − newDollars) * 100);\n",
    "        set(newDollars, newCents, getRate());\n",
    "    }\n",
    "    //Subtracts $dollars.cents from the account balance\n",
    "private:\n",
    "};\n",
    "\n",
    "int main()\n",
    "{\n",
    "    SavingsAccount account(100, 50, 5.5);\n",
    "    account.output(cout);\n",
    "    cout << endl;\n",
    "    cout << \"Depositing $10.25.\" << endl;\n",
    "    account.deposit(10,25);\n",
    "    account.output(cout);\n",
    "    cout << endl;\n",
    "    cout << \"Withdrawing $11.80.\" << endl;\n",
    "    account.withdraw(11,80);\n",
    "    account.output(cout);\n",
    "    cout << endl;\n",
    "}\n",
    "```"
   ]
  },
  {
   "cell_type": "markdown",
   "metadata": {},
   "source": [
    "### Section 10.4 Conclusion\n",
    "Can you\n",
    "- Define object?\n",
    "- Define class?\n",
    "- Describe the relationship between parent and child\n",
    "classes?\n",
    "- Describe the benefit of inheritance?"
   ]
  },
  {
   "cell_type": "markdown",
   "metadata": {},
   "source": [
    "# END OF CHAPTER 10"
   ]
  }
 ],
 "metadata": {
  "kernelspec": {
   "display_name": "C++17",
   "language": "C++17",
   "name": "xcpp17"
  },
  "language_info": {
   "codemirror_mode": "text/x-c++src",
   "file_extension": ".cpp",
   "mimetype": "text/x-c++src",
   "name": "c++",
   "version": "-std=c++17"
  }
 },
 "nbformat": 4,
 "nbformat_minor": 2
}

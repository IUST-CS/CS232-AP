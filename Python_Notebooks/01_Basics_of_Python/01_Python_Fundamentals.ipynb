{
  "cells": [
    {
      "cell_type": "markdown",
      "id": "24971931-144f-402e-9fc4-ede95a159218",
      "metadata": {
        "id": "24971931-144f-402e-9fc4-ede95a159218"
      },
      "source": [
        "<div style=\"font-family: arial; padding: 30px; padding-bottom: 0;\">\n",
        "\n",
        "<h4 style=\"text-align: center;\">In the Name of God</h4>\n",
        "\n",
        "<h2 style=\"text-align: center; color: #103bc9;\">CS232 - Advanced Programming</h2>\n",
        "\n",
        "<h3 style=\"text-align: center; color: #d42c06;\">Iran University of Science and Technology</h3>\n",
        "\n",
        "<h3 style=\"text-align: center; color: #d42c06;\">School of Mathematics and Computer Science</h3>\n",
        "\n",
        "<h4 style=\"padding-top: 7px; text-align: center;\">Winter-Spring 2024</h4>\n",
        "\n",
        "<hr style=\"margin-top: 25px; border-color: #fff;\">\n",
        "\n",
        "<h1 style=\"text-align: center; color: #9c0000;\">Chapter 1: Python Fundamentals</h1>\n",
        "\n",
        "<h3 style=\"padding-top: 7px; text-align: center;\">Fateme Raadfar, Mahdi Porheydari</h3>\n",
        "\n",
        "<hr style=\"margin-top: 25px; border-color: #fff;\">\n",
        "\n",
        "</div>"
      ]
    },
    {
      "cell_type": "markdown",
      "id": "648a3a2d",
      "metadata": {
        "jp-MarkdownHeadingCollapsed": true,
        "id": "648a3a2d"
      },
      "source": [
        "<div style=\"font-family: arial; padding: 30px; padding-top: 15px; padding-bottom: 0;\">\n",
        "\n",
        "<hr style=\"margin-top: 25px; border-color: #fff;\">\n",
        "\n",
        "<h2 style=\"text-align: center; color: #186e00;\">Section 1: Python Introduction</h2>\n",
        "\n",
        "<hr style=\"margin-top: 25px; border-color: #fff;\">\n",
        "\n",
        "</div>"
      ]
    },
    {
      "cell_type": "markdown",
      "id": "b2703d52-7195-48ea-8648-327e02dd0761",
      "metadata": {
        "id": "b2703d52-7195-48ea-8648-327e02dd0761"
      },
      "source": [
        "<div style=\"font-family: arial; padding: 30px; padding-top: 0; padding-bottom: 0;\">\n",
        "    \n",
        "<h2 id=\"Brief History\" style=\"color: #d42c06;\">Brief History</h2>\n",
        "\n",
        "Python, conceived in the late 1980s by Guido van Rossum, is a high-level, versatile programming language known for its readability and simplicity. The first official Python release, version 0.9.0, came in February 1991. The language's name, inspired by Monty Python's Flying Circus, reflects its whimsical nature. Python's development has been guided by a philosophy emphasizing code readability and ease of use, making it an excellent choice for both beginners and seasoned developers.\n",
        "</div>"
      ]
    },
    {
      "cell_type": "markdown",
      "id": "d010a5c6",
      "metadata": {
        "id": "d010a5c6"
      },
      "source": [
        "<div style=\"font-family: arial; padding: 30px; padding-top: 0; padding-bottom: 0;\">\n",
        "    \n",
        "<h2 id=\"Common Uses\" style=\"color: #d42c06;\">Common Uses</h2>\n",
        "\n",
        "Python has gained widespread popularity across various domains due to its flexibility and extensive libraries. Some common uses include:\n",
        "\n",
        "1. **Web Development**:\n",
        "    - Frameworks: Python is widely used for web development, with frameworks like Django and Flask providing powerful tools for building scalable and maintainable web applications.\n",
        "    - Backend Development: Python's ease of use makes it a popular choice for server-side development, handling the logic and data processing behind web applications.\n",
        "2. **Data Science and Machine Learning**:\n",
        "    - Libraries: Python has become the de facto language for data science and machine learning, thanks to libraries such as NumPy, Pandas, and TensorFlow. These tools empower developers and data scientists to analyze and model complex datasets efficiently.\n",
        "\n",
        "3. **Automation and Scripting**:\n",
        "    - Productivity: Python's simple syntax and extensive standard library make it an ideal language for automating tasks and writing scripts. It is widely used in system administration, network automation, and routine scripting.\n",
        "\n",
        "4. **Scientific Computing**:\n",
        "    - NumPy and SciPy: Python is a preferred choice in scientific research for its libraries like NumPy and SciPy, which provide support for mathematical and scientific computing tasks.\n",
        "5. **Game Development**:\n",
        "    - Pygame: Python is utilized in game development, particularly for creating simple games and prototypes. The Pygame library facilitates the development of 2D games with ease.\n",
        "\n",
        "6. **Network Programming**:\n",
        "    - Networking Protocols: Python's standard library supports various networking protocols, making it a valuable language for developing network applications and tools.\n",
        "\n",
        "7. **Desktop GUI Applications**:\n",
        "    - Tkinter and PyQt: Python is used for developing desktop applications with graphical user interfaces (GUIs) using frameworks like Tkinter and PyQt.\n",
        "</div>"
      ]
    },
    {
      "cell_type": "markdown",
      "id": "caef7364",
      "metadata": {
        "id": "caef7364"
      },
      "source": [
        "<div style=\"font-family: arial; padding: 30px; padding-top: 0; padding-bottom: 0;\">\n",
        "    \n",
        "<h2 id=\"Comparison with Some Other Programming Languages\" style=\"color: #d42c06;\">Comparison with Some Other Programming Languages</h2>\n",
        "\n",
        "Python stands out among programming languages for its readability and simplicity. Let's delve into a brief comparison with some other popular languages and highlight Python's performance characteristics:\n",
        "\n",
        "- **Java**:\n",
        "\n",
        "    - **Readability**: Python is often considered more concise and readable than Java, with less boilerplate code. Python's dynamic typing also contrasts with Java's static typing.\n",
        "    - **Performance**: Java tends to have better performance than Python, especially in situations where execution speed is crucial.\n",
        "        However, Python's ease of use often outweighs Java's performance advantages in certain scenarios.\n",
        "- **C++**:\n",
        "\n",
        "    - **Readability and Rapid Development**: While C++ provides more low-level control over hardware, Python's simplicity makes it preferable for rapid development and prototyping.\n",
        "    - **Performance**: C++ generally offers better performance than Python due to its lower-level nature. Python sacrifices some performance for readability and ease of use.\n",
        "- **JavaScript**:\n",
        "\n",
        "    - **Versatility**: Python and JavaScript are both versatile, but Python is often used on the server side (backend development), while JavaScript dominates in the browser (frontend development).\n",
        "    - **Performance**: Both languages have similar performance characteristics for their respective domains. Python's server-side performance is comparable to that of JavaScript, but Python may be preferred for its readability.\n",
        "- **Ruby**:\n",
        "\n",
        "    - **Philosophy**: Python and Ruby share similar philosophies, emphasizing readability and developer happiness. Python is often chosen for its larger community and widespread use in scientific computing and data science.\n",
        "    - **Performance**: Python generally has better performance than Ruby, primarily due to its more extensive standard library and better optimization. However, both prioritize developer-friendly features over raw performance.\n",
        "<br>\n",
        "\n",
        "### Additional Considerations: Python's Speed and Memory Consumption\n",
        "\n",
        "While Python excels in readability and ease of use, it may not always match the performance of languages like C++ or Java.\n",
        "\n",
        "It is an interpreted language, which means that the code is executed line by line, introducing some overhead.\n",
        "However, advancements like Just-In-Time (JIT) compilation in recent Python versions have improved execution speed.\n",
        "\n",
        "**Execution Speed:**\n",
        "\n",
        "Python is not as fast as compiled languages like C or C++, but its performance has improved with implementations like CPython, PyPy, and optimizations in newer language versions.\n",
        "For computationally intensive tasks, developers may choose to implement critical sections in languages like C and integrate them with Python for overall performance gains.\n",
        "\n",
        "**Memory Consumption:**\n",
        "\n",
        "Python's memory consumption can be higher compared to languages with more explicit memory management, as it utilizes automatic memory management (garbage collection).\n",
        "\n",
        "Developers need to be mindful of memory usage, especially in resource-constrained environments.\n",
        "Techniques like memory profiling and optimizing data structures can help mitigate excessive memory usage.\n",
        "\n",
        "</div>"
      ]
    },
    {
      "cell_type": "markdown",
      "id": "04f0231b",
      "metadata": {
        "id": "04f0231b"
      },
      "source": [
        "<div style=\"font-family: arial; padding: 30px; padding-top: 15px; padding-bottom: 0;\">\n",
        "\n",
        "<hr style=\"margin-top: 25px; border-color: #fff;\">\n",
        "\n",
        "<h2 style=\"text-align: center; color: #186e00;\">Section 2: Basics of Python Syntax</h2>\n",
        "\n",
        "<hr style=\"margin-top: 25px; border-color: #fff;\">\n",
        "\n",
        "</div>"
      ]
    },
    {
      "cell_type": "markdown",
      "id": "ca6e5632",
      "metadata": {
        "id": "ca6e5632"
      },
      "source": [
        "<div style=\"font-family: arial; padding: 30px; padding-top: 0; padding-bottom: 0;\">\n",
        "    \n",
        "<h2 id=\"Installation of Python Interpreter\" style=\"color: #d42c06;\">Installation of Python Interpreter</h2>\n",
        "Before diving into Python programming, it's essential to have Python installed on your system. Python can be easily installed on various operating systems. Follow the steps below based on your platform:\n",
        "\n",
        "### **For Windows**:\n",
        "\n",
        "1. Download Python:\n",
        "\n",
        "    - Visit the official Python website at [python.org](https://python.org).\n",
        "    - Navigate to the \"Downloads\" section and click on the latest version of Python for Windows.\n",
        "    - Choose the installer based on your system architecture (usually 64-bit) and download the executable installer.\n",
        "2. Run the Installer:\n",
        "\n",
        "    - Locate the downloaded installer file (e.g., python-3.x.x.exe) and double-click to run it.\n",
        "    - Ensure you check the box that says \"Add Python to PATH\" during installation. This makes it easier to run Python from the command line.\n",
        "3. Complete the Installation:\n",
        "\n",
        "    - Follow the on-screen instructions to complete the installation. Python will be installed in the default location on your system.\n",
        "4. Verify Installation:\n",
        "\n",
        "    - Open a command prompt or PowerShell window and type <code>python --version</code> or <code>python -V</code> to check if Pyt   hon has been installed successfully.\n",
        "    \n",
        "### **For macOS**:\n",
        "\n",
        "1. Installation using Homebrew (recommended):\n",
        "\n",
        "    - Open the Terminal.\n",
        "    - Install Homebrew by following the instructions on the [Homebrew website](https://brew.sh).\n",
        "    - Once Homebrew is installed, run the command ```brew install python ```.\n",
        "2. Verification:\n",
        "\n",
        "    - After installation, verify Python by typing <code>python3 --version</code> in the Terminal. You should see the installed Python version.\n",
        "\n",
        "### **For Linux**:\n",
        "\n",
        "1. Using Package Manager:\n",
        "\n",
        "    - Most Linux distributions come with Python pre-installed. However, you can use your package manager to install or update Python. For example, on Ubuntu, use ```sudo apt-get update``` followed by ```sudo apt-get install python3```.\n",
        "2. Alternative Method - Python Official Release:\n",
        "\n",
        "    - You can also download and install Python from the official website or use tools like pyenv. Follow the instructions on python.org for the official release.\n",
        "3. Verification:\n",
        "\n",
        "    - Open a terminal and type ```python3 --version``` to check if Python has been installed successfully.\n",
        "</div>"
      ]
    },
    {
      "cell_type": "markdown",
      "id": "07c2c4d7",
      "metadata": {
        "id": "07c2c4d7"
      },
      "source": [
        "<div style=\"padding: 30px; padding-top: 0; padding-bottom: 0;\">\n",
        "\n",
        "<hr style=\"border-color: #fff;\">\n",
        "\n",
        "</div>"
      ]
    },
    {
      "cell_type": "markdown",
      "id": "ef5788c2",
      "metadata": {
        "id": "ef5788c2"
      },
      "source": [
        "<div style=\"font-family: arial; padding: 30px; padding-top: 0; padding-bottom: 0;\">\n",
        "    \n",
        "<h2 id=\"Comments\" style=\"color: #d42c06;\">Comments</h2>\n",
        "Comments in Python are essential for improving code readability and providing explanations for different parts of your code. There are two types of comments: single-line comments and multiline comments.\n",
        "</div>"
      ]
    },
    {
      "cell_type": "markdown",
      "id": "92b5ad89",
      "metadata": {
        "id": "92b5ad89"
      },
      "source": [
        "Single-line comments start with the hash (#) symbol and continue to the end of the line. They are useful for adding brief explanations or annotations to specific lines of code."
      ]
    },
    {
      "cell_type": "code",
      "execution_count": null,
      "id": "5b32f7f0",
      "metadata": {
        "id": "5b32f7f0"
      },
      "outputs": [],
      "source": [
        "# This is a single-line comment\n",
        "print(\"Hello, World!\")  # Another comment after a line of code"
      ]
    },
    {
      "cell_type": "markdown",
      "id": "2ea4f279",
      "metadata": {
        "id": "2ea4f279"
      },
      "source": [
        "While Python does not have a specific syntax for multiline comments, you can use triple quotes (''' or \"\"\") to create multiline strings, effectively achieving the same purpose. Although these multiline strings are not actual comments, they serve as a way to include multiline explanations or comments."
      ]
    },
    {
      "cell_type": "code",
      "execution_count": null,
      "id": "d74c4434",
      "metadata": {
        "id": "d74c4434"
      },
      "outputs": [],
      "source": [
        "'''\n",
        "This is a multiline comment or explanation.\n",
        "It spans multiple lines without affecting the code.\n",
        "'''\n",
        "print(\"Python is powerful!\")\n",
        "\n",
        "\"\"\"\n",
        "Another way to create a multiline comment.\n",
        "This can be useful for more extended explanations.\n",
        "\"\"\"\n"
      ]
    },
    {
      "cell_type": "markdown",
      "id": "97aabab7",
      "metadata": {
        "id": "97aabab7"
      },
      "source": [
        "While multiline strings can serve as multiline comments, keep in mind that they are actually string literals, and their content may be included in the compiled code if not assigned to a variable or used in a meaningful way.\n",
        "\n",
        "In practice, developers often use single-line comments for brevity and clarity, reserving multiline strings for docstrings (documentation within functions and modules)."
      ]
    },
    {
      "cell_type": "markdown",
      "id": "7ca0f1a4",
      "metadata": {
        "id": "7ca0f1a4"
      },
      "source": [
        "<div style=\"padding: 30px; padding-top: 0; padding-bottom: 0;\">\n",
        "\n",
        "<hr style=\"border-color: #fff;\">\n",
        "\n",
        "</div>"
      ]
    },
    {
      "cell_type": "markdown",
      "id": "49f4a996",
      "metadata": {
        "id": "49f4a996"
      },
      "source": [
        "<div style=\"font-family: arial; padding: 30px; padding-top: 0; padding-bottom: 0;\">\n",
        "    \n",
        "<h2 id=\"Variables\" style=\"color: #d42c06;\">Variables (Built-in Data Types)</h2>\n",
        "\n",
        "</div>"
      ]
    },
    {
      "cell_type": "markdown",
      "id": "7707648c",
      "metadata": {
        "id": "7707648c"
      },
      "source": [
        "- **Text Type** - `str`:\n",
        "\n",
        "    The str (string) type represents text in Python. Strings are sequences of characters and can be enclosed in single (') or double (\") quotes.\n"
      ]
    },
    {
      "cell_type": "code",
      "execution_count": null,
      "id": "57757c2d",
      "metadata": {
        "id": "57757c2d"
      },
      "outputs": [],
      "source": [
        "my_string = 'Hello, Python!'\n",
        "another_string = \"Welcome to the world of strings.\""
      ]
    },
    {
      "cell_type": "markdown",
      "id": "50477b8d",
      "metadata": {
        "id": "50477b8d"
      },
      "source": [
        "- **Numeric Types** - `int`, `float`, and `complex`:\n",
        "\n",
        "    - `int`: Integer type represents whole numbers without decimals.\n",
        "    - `float`: Floating-point type represents numbers with decimals.\n",
        "    - `complex`: Complex numbers with a real and an imaginary part."
      ]
    },
    {
      "cell_type": "code",
      "execution_count": null,
      "id": "698432b7",
      "metadata": {
        "id": "698432b7"
      },
      "outputs": [],
      "source": [
        "my_integer = 42\n",
        "my_float = 3.14\n",
        "my_complex = 2 + 3j"
      ]
    },
    {
      "cell_type": "markdown",
      "id": "141eeae6",
      "metadata": {
        "id": "141eeae6"
      },
      "source": [
        "- Sequence Types - `list`, `tuple`, and `range`:\n",
        "\n",
        "    - `list`: Ordered, mutable collection of elements.\n",
        "    - `tuple`: Ordered, immutable collection of elements.\n",
        "    - `range`:  Represents a sequence of numbers. ranges arguments are closed for the first of range and closed for the end, range(1, 3) means [1,3)"
      ]
    },
    {
      "cell_type": "code",
      "execution_count": null,
      "id": "eb90add7",
      "metadata": {
        "id": "eb90add7"
      },
      "outputs": [],
      "source": [
        "my_list = [1, 2, 3, 4, 5]\n",
        "my_tuple = (10, 20, 30)\n",
        "my_range = range(1, 10, 2) # from 1 to 9 with steps of 2"
      ]
    },
    {
      "cell_type": "markdown",
      "id": "b265c6a8",
      "metadata": {
        "id": "b265c6a8"
      },
      "source": [
        "- **Mapping Type** - dict::\n",
        "\n",
        "    - The `dict` (dictionary) type represents an unordered collection of key-value pairs. Each key must be unique."
      ]
    },
    {
      "cell_type": "code",
      "execution_count": null,
      "id": "3056b4e9",
      "metadata": {
        "id": "3056b4e9"
      },
      "outputs": [],
      "source": [
        "my_dict = {'name': 'John', 'age': 25, 'city': 'New York'}"
      ]
    },
    {
      "cell_type": "markdown",
      "id": "a8abbb17",
      "metadata": {
        "id": "a8abbb17"
      },
      "source": [
        "- **Set Types** - `set` and `frozenset`:\n",
        "\n",
        "    - `set`: Unordered, mutable collection of unique elements.\n",
        "    - `frozenset`: Unordered, immutable collection of unique elements."
      ]
    },
    {
      "cell_type": "code",
      "execution_count": null,
      "id": "f949c8c7",
      "metadata": {
        "id": "f949c8c7"
      },
      "outputs": [],
      "source": [
        "my_set = {1, 2, 3, 4, 5}\n",
        "my_frozenset = frozenset([10, 20, 30])"
      ]
    },
    {
      "cell_type": "markdown",
      "id": "f8b5e076",
      "metadata": {
        "id": "f8b5e076"
      },
      "source": [
        "- **Boolean Type** - `bool`:\n",
        "\n",
        "    The bool type represents boolean values, either True or False.\n"
      ]
    },
    {
      "cell_type": "code",
      "execution_count": null,
      "id": "fb570f84",
      "metadata": {
        "id": "fb570f84"
      },
      "outputs": [],
      "source": [
        "is_python_fun = True # also considered as 1!\n",
        "is_learning_python = False # also considered as 0!"
      ]
    },
    {
      "cell_type": "markdown",
      "id": "5ca38268",
      "metadata": {
        "id": "5ca38268"
      },
      "source": [
        "- **Binary Types** - `bytes`, `bytearray`, and `memoryview`:\n",
        "\n",
        "    - `bytes`: Immutable sequence of bytes.\n",
        "    - `bytearray`: Mutable sequence of bytes.\n",
        "    - `memoryview`: Memory view object that exposes an array's buffer interface.\n"
      ]
    },
    {
      "cell_type": "code",
      "execution_count": null,
      "id": "0c882213",
      "metadata": {
        "id": "0c882213"
      },
      "outputs": [],
      "source": [
        "my_bytes = b'Hello'\n",
        "my_bytearray = bytearray([65, 66, 67])\n",
        "my_memoryview = memoryview(my_bytearray)"
      ]
    },
    {
      "cell_type": "markdown",
      "id": "2a6a5413",
      "metadata": {
        "id": "2a6a5413"
      },
      "source": [
        "- **None Type** - `None`:\n",
        "\n",
        "    The None type represents the absence of a value or a null value in Python."
      ]
    },
    {
      "cell_type": "code",
      "execution_count": null,
      "id": "f6b42d9b",
      "metadata": {
        "id": "f6b42d9b"
      },
      "outputs": [],
      "source": [
        "my_variable = None"
      ]
    },
    {
      "cell_type": "markdown",
      "id": "6a9beb20",
      "metadata": {
        "id": "6a9beb20"
      },
      "source": [
        "<div style=\"padding: 30px; padding-top: 0; padding-bottom: 0;\">\n",
        "\n",
        "<hr style=\"border-color: #fff;\">\n",
        "\n",
        "</div>"
      ]
    },
    {
      "cell_type": "markdown",
      "id": "e1338616",
      "metadata": {
        "id": "e1338616"
      },
      "source": [
        "<div style=\"font-family: arial; padding: 30px; padding-top: 0; padding-bottom: 0;\">\n",
        "    \n",
        "<h2 id=\"Type Conversion\" style=\"color: #d42c06;\">Type Conversion</h2>\n",
        "\n",
        "</div>"
      ]
    },
    {
      "cell_type": "markdown",
      "id": "5c518527",
      "metadata": {
        "id": "5c518527"
      },
      "source": [
        "### Checking Type of a Variable\n",
        "In Python, you can use the type() function to determine the type of a variable. This is especially useful when dealing with dynamic typing, where variables can change their type during runtime."
      ]
    },
    {
      "cell_type": "code",
      "execution_count": null,
      "id": "a61d49b3",
      "metadata": {
        "id": "a61d49b3"
      },
      "outputs": [],
      "source": [
        "# Example: Checking the type of variables\n",
        "my_variable = 42\n",
        "print(type(my_variable))  # Output: <class 'int'>\n",
        "\n",
        "my_text = \"Hello, Python!\"\n",
        "print(type(my_text))  # Output: <class 'str'>\n",
        "\n",
        "my_list = [1, 2, 3, 4, 5]\n",
        "print(type(my_list))  # Output: <class 'list'>"
      ]
    },
    {
      "cell_type": "markdown",
      "id": "aeb6f7c8",
      "metadata": {
        "id": "aeb6f7c8"
      },
      "source": [
        "Python allows you to convert variables from one type to another, a process known as type conversion or casting. This can be done using various built-in functions.\n",
        "### Implicit Type Conversion\n",
        "-   Python automatically converts one data type to another when an operation involves two different types."
      ]
    },
    {
      "cell_type": "code",
      "execution_count": null,
      "id": "4c45d7b6",
      "metadata": {
        "id": "4c45d7b6"
      },
      "outputs": [],
      "source": [
        "# Example: Implicit Type Conversion\n",
        "result = 10 + 3.5\n",
        "print(result)  # Output: 13.5 (int 10 is implicitly converted to float for the addition)"
      ]
    },
    {
      "cell_type": "markdown",
      "id": "0fde85ae",
      "metadata": {
        "id": "0fde85ae"
      },
      "source": [
        "### Explicit Type Conversion:\n",
        "- You can explicitly convert a variable from one type to another using the relevant built-in functions."
      ]
    },
    {
      "cell_type": "code",
      "execution_count": null,
      "id": "9266516d",
      "metadata": {
        "id": "9266516d"
      },
      "outputs": [],
      "source": [
        "# Example: Explicit Type Conversion\n",
        "my_float = 3.14\n",
        "converted_integer = int(my_float)\n",
        "print(converted_integer)  # Output: 3 (float 3.14 is explicitly converted to int)\n",
        "\n",
        "my_string_number = \"42\"\n",
        "converted_number = int(my_string_number)\n",
        "print(converted_number)  # Output: 42 (string '42' is explicitly converted to int)\n"
      ]
    },
    {
      "cell_type": "code",
      "execution_count": null,
      "id": "75884b01",
      "metadata": {
        "id": "75884b01"
      },
      "outputs": [],
      "source": [
        "# Converting to List and Tuple\n",
        "my_string = \"Python\"\n",
        "list_version = list(my_string)\n",
        "tuple_version = tuple(my_string)\n",
        "\n",
        "print(list_version)  # Output: ['P', 'y', 't', 'h', 'o', 'n']\n",
        "print(tuple_version)  # Output: ('P', 'y', 't', 'h', 'o', 'n')\n"
      ]
    },
    {
      "cell_type": "markdown",
      "id": "a1102b17",
      "metadata": {
        "id": "a1102b17"
      },
      "source": [
        "some conversions may result in errors if the types are incompatible. Always validate and handle conversions appropriately in your code."
      ]
    },
    {
      "cell_type": "code",
      "execution_count": null,
      "id": "c15cc315",
      "metadata": {
        "id": "c15cc315"
      },
      "outputs": [],
      "source": [
        "# Error Example: Attempting to convert a non-numeric string to int\n",
        "invalid_string = \"Hello\"\n",
        "invalid_number = int(invalid_string)\n",
        "\n",
        "# Error Example: Mixing incompatible types\n",
        "mixing_types_result = \"Python\" + 42  # TypeError: can only concatenate str (not \"int\") to str"
      ]
    },
    {
      "cell_type": "markdown",
      "id": "7fe81791",
      "metadata": {
        "id": "7fe81791"
      },
      "source": [
        "<div style=\"padding: 30px; padding-top: 0; padding-bottom: 0;\">\n",
        "\n",
        "<hr style=\"border-color: #fff;\">\n",
        "\n",
        "</div>"
      ]
    },
    {
      "cell_type": "markdown",
      "id": "a7cebba6",
      "metadata": {
        "id": "a7cebba6"
      },
      "source": [
        "<div style=\"font-family: arial; padding: 30px; padding-top: 0; padding-bottom: 0;\">\n",
        "    \n",
        "<h2 id=\"Input/Output(I/O)\" style=\"color: #d42c06;\">Input/Output(I/O)</h2>\n",
        "\n",
        "- **Input Function** - `input()`:\n",
        "    \n",
        "    The input() function allows you to interact with the user by taking input from the keyboard. It reads a line of text from the user and returns it as a string.\n",
        "</div>"
      ]
    },
    {
      "cell_type": "code",
      "execution_count": null,
      "id": "750f8dc6",
      "metadata": {
        "id": "750f8dc6"
      },
      "outputs": [],
      "source": [
        "# Example: Taking user input\n",
        "user_name = input(\"Enter your name: \")\n",
        "print(\"Hello \", user_name, sep=\"\")"
      ]
    },
    {
      "cell_type": "markdown",
      "id": "25afc75e",
      "metadata": {
        "id": "25afc75e"
      },
      "source": [
        "It's important to note that the input() function always returns a string, so if you need numeric input, you'll need to convert it using type conversion functions."
      ]
    },
    {
      "cell_type": "markdown",
      "id": "22cf6da5",
      "metadata": {
        "id": "22cf6da5"
      },
      "source": [
        "-  **Splitting Input** - `split()`:\n",
        "\n",
        "    The split() method is used to split a string into a list of substrings based on a specified delimiter. By default, the delimiter is a space."
      ]
    },
    {
      "cell_type": "code",
      "execution_count": null,
      "id": "c8f9089d",
      "metadata": {
        "id": "c8f9089d"
      },
      "outputs": [],
      "source": [
        "# Example: Splitting input into a list\n",
        "numbers_input = input(\"Enter numbers separated by space: \")\n",
        "numbers_list = numbers_input.split()\n",
        "\n",
        "print(\"List of numbers:\", numbers_list)"
      ]
    },
    {
      "cell_type": "markdown",
      "id": "61e1738b",
      "metadata": {
        "id": "61e1738b"
      },
      "source": [
        "You can also specify a custom delimiter by passing it as an argument to the split() method. For example:"
      ]
    },
    {
      "cell_type": "code",
      "execution_count": null,
      "id": "b7b98931",
      "metadata": {
        "id": "b7b98931"
      },
      "outputs": [],
      "source": [
        "# Example: Splitting input with a custom delimiter\n",
        "csv_input = input(\"Enter comma-separated values: \")\n",
        "csv_list = csv_input.split(',')\n",
        "\n",
        "print(\"List of values:\", csv_list)"
      ]
    },
    {
      "cell_type": "markdown",
      "id": "7cc15b35",
      "metadata": {
        "id": "7cc15b35"
      },
      "source": [
        "- **Print Function** - `print()`:\n",
        "\n",
        "    The print() function is used to display output on the screen. It can take multiple arguments and concatenate them for output."
      ]
    },
    {
      "cell_type": "code",
      "execution_count": null,
      "id": "98639acc",
      "metadata": {
        "id": "98639acc"
      },
      "outputs": [],
      "source": [
        "# Example: Using print to display output\n",
        "name = \"Alice\"\n",
        "age = 30\n",
        "print(\"Name:\", name, \"Age:\", age)\n"
      ]
    },
    {
      "cell_type": "markdown",
      "id": "af94fc96",
      "metadata": {
        "id": "af94fc96"
      },
      "source": [
        "You can use formatted strings (f-strings) to embed variables and expressions within a string:\n",
        "\n"
      ]
    },
    {
      "cell_type": "code",
      "execution_count": null,
      "id": "1d806e5d",
      "metadata": {
        "id": "1d806e5d"
      },
      "outputs": [],
      "source": [
        "# Example: Using f-strings with print\n",
        "print(f\"Person: {name}, Age: {age}\")"
      ]
    },
    {
      "cell_type": "markdown",
      "id": "879aa14d",
      "metadata": {
        "id": "879aa14d"
      },
      "source": [
        "The print() function also accepts optional parameters like sep (separator) and end (end character):"
      ]
    },
    {
      "cell_type": "code",
      "execution_count": null,
      "id": "e8fcd703",
      "metadata": {
        "id": "e8fcd703"
      },
      "outputs": [],
      "source": [
        "# Example: Using sep and end parameters with print\n",
        "print(\"Python\", \"Programming\", sep='-', end='!')\n",
        "# Output: Python-Programming!"
      ]
    },
    {
      "cell_type": "markdown",
      "id": "72e38af5-57c5-47c8-94c4-77b719591a53",
      "metadata": {
        "id": "72e38af5-57c5-47c8-94c4-77b719591a53"
      },
      "source": [
        "<div style=\"padding: 30px; padding-top: 0; padding-bottom: 0;\">\n",
        "\n",
        "<hr style=\"border-color: #fff;\">\n",
        "\n",
        "</div>"
      ]
    },
    {
      "cell_type": "markdown",
      "id": "49cd02c9",
      "metadata": {
        "id": "49cd02c9"
      },
      "source": [
        "<div style=\"font-family: arial; padding: 30px; padding-top: 0; padding-bottom: 0;\">\n",
        "    \n",
        "<h2 id=\"Srtings\" style=\"color: #d42c06;\">Strings</h2>\n",
        "\n",
        "In Python, a string is a sequence of characters enclosed in single (') or double (\") quotes. Strings are immutable, meaning their content cannot be changed once they are created.\n",
        "</div>"
      ]
    },
    {
      "cell_type": "code",
      "execution_count": null,
      "id": "afc8a340",
      "metadata": {
        "id": "afc8a340"
      },
      "outputs": [],
      "source": [
        "# Example: Creating strings\n",
        "single_quoted_string = 'Hello, Python!'\n",
        "double_quoted_string = \"Strings are versatile.\""
      ]
    },
    {
      "cell_type": "markdown",
      "id": "c64826e8",
      "metadata": {
        "id": "c64826e8"
      },
      "source": [
        "- **Slicing Strings**\n",
        "\n",
        "String slicing allows you to extract a portion of a string. The syntax is `string[start:stop:step]`, where start is the starting index, stop is the ending index (exclusive), and step is the step size.\n"
      ]
    },
    {
      "cell_type": "code",
      "execution_count": null,
      "id": "df6955e1",
      "metadata": {
        "id": "df6955e1"
      },
      "outputs": [],
      "source": [
        "# Example: Slicing strings\n",
        "my_string = \"Python Programming\"\n",
        "\n",
        "# Extracting a substring\n",
        "substring = my_string[7:18]\n",
        "print(substring)  # Output: \"Programming\"\n",
        "\n",
        "# Using step to get every second character\n",
        "every_second_char = my_string[::2]\n",
        "print(every_second_char)  # Output: \"Pto rgamn\"\n"
      ]
    },
    {
      "cell_type": "markdown",
      "id": "ba97f65f",
      "metadata": {
        "id": "ba97f65f"
      },
      "source": [
        "- **String Concatenation**\n",
        "\n",
        "String concatenation is the process of combining two or more strings into a single string."
      ]
    },
    {
      "cell_type": "code",
      "execution_count": null,
      "id": "11a7cb2d",
      "metadata": {
        "id": "11a7cb2d"
      },
      "outputs": [],
      "source": [
        "# Example: String concatenation\n",
        "first_name = \"John\"\n",
        "last_name = \"Doe\"\n",
        "full_name = first_name + \" \" + last_name\n",
        "print(full_name)  # Output: \"John Doe\"\n"
      ]
    },
    {
      "cell_type": "markdown",
      "id": "09545c9a",
      "metadata": {
        "id": "09545c9a"
      },
      "source": [
        "- **Formatting Strings**\n",
        "\n",
        "String formatting allows you to create dynamic strings by embedding variables and expressions. One common method is using f-strings."
      ]
    },
    {
      "cell_type": "code",
      "execution_count": null,
      "id": "eaa10007",
      "metadata": {
        "id": "eaa10007"
      },
      "outputs": [],
      "source": [
        "# Example: Using f-strings for string formatting\n",
        "name = \"Alice\"\n",
        "age = 30\n",
        "formatted_string = f\"Person: {name}, Age: {age}\"\n",
        "print(formatted_string)  # Output: \"Person: Alice, Age: 30\"\n"
      ]
    },
    {
      "cell_type": "markdown",
      "id": "e3bb0cbf",
      "metadata": {
        "id": "e3bb0cbf"
      },
      "source": [
        "- **Escape Characters**\n",
        "\n",
        "Escape characters are used to include special characters within strings. Common escape characters include \\n for a new line and \\t for a tab.\n",
        "\n"
      ]
    },
    {
      "cell_type": "code",
      "execution_count": null,
      "id": "a483be26",
      "metadata": {
        "id": "a483be26"
      },
      "outputs": [],
      "source": [
        "# Example: Using escape characters\n",
        "multiline_string = \"This is a multiline\\nstring with a line break.\"\n",
        "print(multiline_string)"
      ]
    },
    {
      "cell_type": "markdown",
      "id": "935a3762",
      "metadata": {
        "id": "935a3762"
      },
      "source": [
        "- **Basic String Methods**\n",
        "\n",
        "Python provides several built-in string methods for common operations:"
      ]
    },
    {
      "cell_type": "code",
      "execution_count": null,
      "id": "843bcb5f",
      "metadata": {
        "id": "843bcb5f"
      },
      "outputs": [],
      "source": [
        "# Example: Basic string methods\n",
        "my_string = \"Hello, Python!\"\n",
        "\n",
        "# Convert to lowercase\n",
        "lowercase_string = my_string.lower()\n",
        "\n",
        "# Convert to uppercase\n",
        "uppercase_string = my_string.upper()\n",
        "\n",
        "# Capitalize the first letter\n",
        "capitalized_string = my_string.capitalize()\n",
        "\n",
        "# Check if a string starts with a specific prefix\n",
        "starts_with_hello = my_string.startswith(\"Hello\")"
      ]
    },
    {
      "cell_type": "code",
      "execution_count": null,
      "id": "6cafb35f",
      "metadata": {
        "id": "6cafb35f"
      },
      "outputs": [],
      "source": [
        "# Example: Additional string methods\n",
        "my_string = \"Hello, Python!\"\n",
        "\n",
        "# Find the index of a substring\n",
        "index_of_python = my_string.find(\"Python\")\n",
        "print(index_of_python)  # Output: 7\n",
        "\n",
        "# Count occurrences of a substring\n",
        "count_of_l = my_string.count(\"l\")\n",
        "print(count_of_l)  # Output: 3\n",
        "\n",
        "# Check if the string ends with a specific suffix\n",
        "ends_with_exclamation = my_string.endswith(\"!\")\n",
        "print(ends_with_exclamation)  # Output: True\n",
        "\n",
        "# Center the string within a specified width with padding\n",
        "centered_string = my_string.center(30, \"*\")\n",
        "print(centered_string)\n",
        "# Output: \"****Hello, Python!*****\"\n",
        "\n",
        "# Replace occurrences of a substring with another string\n",
        "replaced_string = my_string.replace(\"Python\", \"World\")\n",
        "print(replaced_string)\n",
        "# Output: \"Hello, World!\"\n",
        "\n",
        "# Strip leading and trailing whitespaces\n",
        "whitespace_string = \"    Python Programming    \"\n",
        "stripped_string = whitespace_string.strip()\n",
        "print(stripped_string)\n",
        "# Output: \"Python Programming\"\n"
      ]
    },
    {
      "cell_type": "markdown",
      "id": "ec2da666",
      "metadata": {
        "id": "ec2da666"
      },
      "source": [
        "<div style=\"padding: 30px; padding-top: 0; padding-bottom: 0;\">\n",
        "\n",
        "<hr style=\"border-color: #fff;\">\n",
        "\n",
        "</div>"
      ]
    },
    {
      "cell_type": "markdown",
      "id": "3ee9156b",
      "metadata": {
        "id": "3ee9156b"
      },
      "source": [
        "<div style=\"font-family: arial; padding: 30px; padding-top: 0; padding-bottom: 0;\">\n",
        "    \n",
        "<h2 id=\"Operators\" style=\"color: #d42c06;\">Operators</h2>\n",
        "\n",
        "- **Arithmetic Operators**\n",
        "\n",
        "Arithmetic operators are used to perform mathematical operations.\n",
        "</div>"
      ]
    },
    {
      "cell_type": "code",
      "execution_count": null,
      "id": "583f01c7",
      "metadata": {
        "id": "583f01c7"
      },
      "outputs": [],
      "source": [
        "# Example: Arithmetic operators\n",
        "a = 10\n",
        "b = 3\n",
        "\n",
        "addition = a + b\n",
        "subtraction = a - b\n",
        "multiplication = a * b\n",
        "division = a / b\n",
        "remainder = a % b\n",
        "exponentiation = a ** b\n",
        "\n",
        "print(f\"Addition: {addition}\")\n",
        "print(f\"Subtraction: {subtraction}\")\n",
        "print(f\"Multiplication: {multiplication}\")\n",
        "print(f\"Division: {division}\")\n",
        "print(f\"Remainder: {remainder}\")\n",
        "print(f\"Exponentiation: {exponentiation}\")\n"
      ]
    },
    {
      "cell_type": "markdown",
      "id": "812f4a7c",
      "metadata": {
        "id": "812f4a7c"
      },
      "source": [
        "- **Assignment Operators**\n",
        "\n",
        "Assignment operators are used to assign values to variables.\n"
      ]
    },
    {
      "cell_type": "code",
      "execution_count": null,
      "id": "a52db7a1",
      "metadata": {
        "id": "a52db7a1"
      },
      "outputs": [],
      "source": [
        "# Example: Assignment operators\n",
        "x = 5\n",
        "\n",
        "# Shortened assignment\n",
        "x += 3  # Equivalent to x = x + 3\n",
        "\n",
        "# Other assignment operators include -=, *=, /=, %=, **=, etc.\n",
        "\n",
        "print(f\"Updated x: {x}\")\n"
      ]
    },
    {
      "cell_type": "markdown",
      "id": "0d4da9db",
      "metadata": {
        "id": "0d4da9db"
      },
      "source": [
        "- **Comparison Operators**\n",
        "\n",
        "Comparison operators are used to compare values and return Boolean results."
      ]
    },
    {
      "cell_type": "code",
      "execution_count": null,
      "id": "e9b872fa",
      "metadata": {
        "id": "e9b872fa"
      },
      "outputs": [],
      "source": [
        "# Example: Comparison operators\n",
        "a = 10\n",
        "b = 20\n",
        "\n",
        "greater_than = a > b\n",
        "less_than_or_equal = a <= b\n",
        "equal_to = a == b\n",
        "not_equal_to = a != b\n",
        "\n",
        "print(f\"Greater than: {greater_than}\")\n",
        "print(f\"Less than or equal: {less_than_or_equal}\")\n",
        "print(f\"Equal to: {equal_to}\")\n",
        "print(f\"Not equal to: {not_equal_to}\")\n"
      ]
    },
    {
      "cell_type": "markdown",
      "id": "800208d6",
      "metadata": {
        "id": "800208d6"
      },
      "source": [
        "- **Identity Operators**\n",
        "\n",
        "Identity operators are used to compare the memory location of two objects."
      ]
    },
    {
      "cell_type": "code",
      "execution_count": null,
      "id": "c712ed53",
      "metadata": {
        "id": "c712ed53"
      },
      "outputs": [],
      "source": [
        "# Example: Identity operators\n",
        "x = [1, 2, 3]\n",
        "y = [1, 2, 3]\n",
        "z = x\n",
        "\n",
        "print(f\"x is y: {x is y}\")  # Output: False\n",
        "print(f\"x is z: {x is z}\")  # Output: True\n",
        "print(f\"x is not y: {x is not y}\")  # Output: True"
      ]
    },
    {
      "cell_type": "markdown",
      "id": "63c92267",
      "metadata": {
        "id": "63c92267"
      },
      "source": [
        "- **Membership Operators**\n",
        "\n",
        "Membership operators are used to test whether a value or variable is found in a sequence."
      ]
    },
    {
      "cell_type": "code",
      "execution_count": null,
      "id": "da95010d",
      "metadata": {
        "id": "da95010d"
      },
      "outputs": [],
      "source": [
        "# Example: Membership operators\n",
        "my_list = [1, 2, 3, 4, 5]\n",
        "\n",
        "print(f\"2 in my_list: {2 in my_list}\")  # Output: True\n",
        "print(f\"6 not in my_list: {6 not in my_list}\")  # Output: True"
      ]
    },
    {
      "cell_type": "markdown",
      "id": "2ed055f7",
      "metadata": {
        "id": "2ed055f7"
      },
      "source": [
        "- **Bitwise Operators**\n",
        "\n",
        "Bitwise operators perform operations on individual bits of binary numbers."
      ]
    },
    {
      "cell_type": "code",
      "execution_count": null,
      "id": "83debe1e",
      "metadata": {
        "id": "83debe1e"
      },
      "outputs": [],
      "source": [
        "# Example: Bitwise operators\n",
        "a = 5  # Binary: 0101\n",
        "b = 3  # Binary: 0011\n",
        "\n",
        "bitwise_and = a & b  # Binary: 0001 (1 in decimal)\n",
        "bitwise_or = a | b   # Binary: 0111 (7 in decimal)\n",
        "bitwise_xor = a ^ b  # Binary: 0110 (6 in decimal)\n",
        "bitwise_not_a = ~a   # Binary: 1010 (in 2's complement form)\n",
        "\n",
        "print(f\"Bitwise AND: {bitwise_and}\")\n",
        "print(f\"Bitwise OR: {bitwise_or}\")\n",
        "print(f\"Bitwise XOR: {bitwise_xor}\")\n",
        "print(f\"Bitwise NOT a: {bitwise_not_a}\")"
      ]
    },
    {
      "cell_type": "code",
      "execution_count": null,
      "id": "7f2676a5",
      "metadata": {
        "id": "7f2676a5"
      },
      "outputs": [],
      "source": [
        "# Bitwise Multiplication (Left Shift)\n",
        "bitwise_multiply = a << 1  # Binary: 1010 (10 in decimal)\n",
        "print(f\"Bitwise Multiplication: {bitwise_multiply}\")\n",
        "\n",
        "# Bitwise Halving (Right Shift)\n",
        "bitwise_halve = a >> 1  # Binary: 0010 (2 in decimal)\n",
        "print(f\"Bitwise Halving: {bitwise_halve}\")"
      ]
    },
    {
      "cell_type": "markdown",
      "id": "8b8553d4",
      "metadata": {
        "id": "8b8553d4"
      },
      "source": [
        "<div style=\"padding: 30px; padding-top: 0; padding-bottom: 0;\">\n",
        "\n",
        "<hr style=\"border-color: #fff;\">\n",
        "\n",
        "</div>"
      ]
    },
    {
      "cell_type": "markdown",
      "source": [
        "<div style=\"font-family: arial; padding: 30px; padding-top: 0; padding-bottom: 0;\">\n",
        "    \n",
        "<h2 id=\"ds\" style=\"color: #d42c06;\">Diving into some data structures</h2>\n",
        "<ul>\n",
        "<li><h3 id=\"ds\" style=\"color: #d42c06;\">list</h3></li>\n",
        "<ul>\n",
        "</div>"
      ],
      "metadata": {
        "id": "NgAqt16CUcSP"
      },
      "id": "NgAqt16CUcSP"
    },
    {
      "cell_type": "markdown",
      "source": [
        "\n",
        "<div style=\"font-family: arial; padding: 30px; padding-top: 0; padding-bottom: 0;\">\n",
        "what is a list?\n",
        "<ul>\n",
        "<li>List is an <strong>ordered</strong> sequence of items.</li>\n",
        "<li> it is flexible and changable.\n",
        "<li>All the items in a list do not need to be of the same type.</li>\n",
        "</ul>\n",
        "</div>"
      ],
      "metadata": {
        "id": "_SgzlleyKcof"
      },
      "id": "_SgzlleyKcof"
    },
    {
      "cell_type": "markdown",
      "source": [
        "<div style=\"font-family: arial; padding: 30px; padding-top: 0; padding-bottom: 0;\">\n",
        "    \n",
        "<h2 id=\"Operators\" style=\"color: #d42c06;\">Declaring a list</h2>\n",
        "Declaring a list is pretty straight forward. Items separated by commas are enclosed within brackets<code> [ ]</code>.\n",
        "</div>\n"
      ],
      "metadata": {
        "id": "a-qpetyTLi7k"
      },
      "id": "a-qpetyTLi7k"
    },
    {
      "cell_type": "code",
      "source": [
        "x = [6, 99,'banana', 'Apple']\n",
        "print(x, \"is of type\", type(x))"
      ],
      "metadata": {
        "id": "pZN7187-LnWY"
      },
      "id": "pZN7187-LnWY",
      "execution_count": null,
      "outputs": []
    },
    {
      "cell_type": "markdown",
      "source": [
        "<div style=\"font-family: arial; padding: 30px; padding-top: 0; padding-bottom: 0;\">\n",
        "    \n",
        "<h2 id=\"Operators\" style=\"color: #d42c06;\">List methods</h2>\n"
      ],
      "metadata": {
        "id": "3kOiPo9wMUUp"
      },
      "id": "3kOiPo9wMUUp"
    },
    {
      "cell_type": "markdown",
      "source": [
        "- **append()**\n",
        "<div style=\"font-family: arial; padding: 30px; padding-top: 0; padding-bottom: 0;\">\n",
        "append method adds elements at the end of the list.\n",
        "</div>"
      ],
      "metadata": {
        "id": "bCye7Ly6Me-M"
      },
      "id": "bCye7Ly6Me-M"
    },
    {
      "cell_type": "code",
      "source": [
        "list=[2,5,6,7]\n",
        "list.append(8)\n",
        "print(list)\n"
      ],
      "metadata": {
        "id": "FFYu96FmNMdY",
        "outputId": "52fcd187-b7d0-4c78-c729-be3111b4059e",
        "colab": {
          "base_uri": "https://localhost:8080/"
        }
      },
      "id": "FFYu96FmNMdY",
      "execution_count": null,
      "outputs": [
        {
          "output_type": "stream",
          "name": "stdout",
          "text": [
            "[2, 5, 6, 7, 8]\n"
          ]
        }
      ]
    },
    {
      "cell_type": "markdown",
      "source": [
        "- **pop()**\n",
        "<div style=\"font-family: arial; padding: 30px; padding-top: 0; padding-bottom: 0;\">\n",
        "pop method removes and returns the last value from the List or the given index value.\n",
        "<ul>\n",
        "<li>so giving index to pop method is optional.</li>\n",
        "</ul>\n",
        "</div>"
      ],
      "metadata": {
        "id": "ijzOPRDqNT8B"
      },
      "id": "ijzOPRDqNT8B"
    },
    {
      "cell_type": "code",
      "source": [
        "fruits1 = [\"apple\", \"mango\", \"plum\",'orange']\n",
        "fruits1.pop()\n",
        "print(fruits1)\n",
        "\n",
        "#with index\n",
        "fruits2 = [\"apple\", \"mango\", \"plum\",'orange']\n",
        "fruits2.pop(2)\n",
        "print(fruits2)\n"
      ],
      "metadata": {
        "id": "fYJ9WlDgNzjR",
        "outputId": "c995eabd-355d-458d-f69b-311b8dcfced5",
        "colab": {
          "base_uri": "https://localhost:8080/"
        }
      },
      "id": "fYJ9WlDgNzjR",
      "execution_count": null,
      "outputs": [
        {
          "output_type": "stream",
          "name": "stdout",
          "text": [
            "['apple', 'mango', 'plum']\n",
            "['apple', 'mango', 'orange']\n"
          ]
        }
      ]
    },
    {
      "cell_type": "markdown",
      "source": [
        "- **remove()**\n",
        "<div style=\"font-family: arial; padding: 30px; padding-top: 0; padding-bottom: 0;\">\n",
        "remove method removes a given element from the list.\n",
        "\n",
        "</div>"
      ],
      "metadata": {
        "id": "mkBwTh0dOWlW"
      },
      "id": "mkBwTh0dOWlW"
    },
    {
      "cell_type": "code",
      "source": [
        "countries = ['Canada','Iran','USA','Turkey']\n",
        "countries.remove('USA')\n",
        "print(countries)"
      ],
      "metadata": {
        "id": "tOj09yFyOmw5",
        "outputId": "aa760d10-0865-4faf-97eb-b464e29a445b",
        "colab": {
          "base_uri": "https://localhost:8080/"
        }
      },
      "id": "tOj09yFyOmw5",
      "execution_count": null,
      "outputs": [
        {
          "output_type": "stream",
          "name": "stdout",
          "text": [
            "['Canada', 'Iran', 'Turkey']\n"
          ]
        }
      ]
    },
    {
      "cell_type": "markdown",
      "source": [
        "- **sort()**\n",
        "<div style=\"font-family: arial; padding: 30px; padding-top: 0; padding-bottom: 0;\">\n",
        "sort() method sorts the elements of a list.\n",
        " It sorts in ascending order by default but you can use some functions to change the sorting format. e.g: reverse and key.\n",
        "</div>"
      ],
      "metadata": {
        "id": "NQ25kGM_PG7K"
      },
      "id": "NQ25kGM_PG7K"
    },
    {
      "cell_type": "code",
      "source": [
        "random_numbers = [2,5,6,1,8,3]\n",
        "random_numbers.sort()\n",
        "print(random_numbers)"
      ],
      "metadata": {
        "id": "aMv0AoKTPglI",
        "outputId": "4f0eda4e-68be-490f-f726-9cbddc4ccbf6",
        "colab": {
          "base_uri": "https://localhost:8080/"
        }
      },
      "id": "aMv0AoKTPglI",
      "execution_count": null,
      "outputs": [
        {
          "output_type": "stream",
          "name": "stdout",
          "text": [
            "[1, 2, 3, 5, 6, 8]\n"
          ]
        }
      ]
    },
    {
      "cell_type": "markdown",
      "source": [
        "- **key function**\n",
        "<div style=\"font-family: arial; padding: 30px; padding-top: 0; padding-bottom: 0;\">\n",
        "it lets you sort in a custom manner using its parameters.\n",
        "</div>\n"
      ],
      "metadata": {
        "id": "4bGDw54APwuo"
      },
      "id": "4bGDw54APwuo"
    },
    {
      "cell_type": "code",
      "source": [
        "#using key function\n",
        "words = ['banana', 'pie', 'Washington', 'book']\n",
        "words.sort(key=len) #it sorts words list based on the words length.\n",
        "print(words)"
      ],
      "metadata": {
        "id": "SbrYH892PrLX",
        "outputId": "585292c0-9ca1-4e79-d353-35afa4b0e4ee",
        "colab": {
          "base_uri": "https://localhost:8080/"
        }
      },
      "id": "SbrYH892PrLX",
      "execution_count": null,
      "outputs": [
        {
          "output_type": "stream",
          "name": "stdout",
          "text": [
            "['pie', 'book', 'banana', 'Washington']\n"
          ]
        }
      ]
    },
    {
      "cell_type": "markdown",
      "source": [
        "- **reverse in sort**"
      ],
      "metadata": {
        "id": "zU4IZumxQTOA"
      },
      "id": "zU4IZumxQTOA"
    },
    {
      "cell_type": "code",
      "source": [
        "numbers = [1, 3, 5, 7, 2]\n",
        "numbers.sort(reverse=True)\n",
        "print(numbers)\n"
      ],
      "metadata": {
        "id": "rncnL721QY0A",
        "outputId": "fb10a3ab-b8fd-4b84-f211-2b301526a7cf",
        "colab": {
          "base_uri": "https://localhost:8080/"
        }
      },
      "id": "rncnL721QY0A",
      "execution_count": null,
      "outputs": [
        {
          "output_type": "stream",
          "name": "stdout",
          "text": [
            "[7, 5, 3, 2, 1]\n"
          ]
        }
      ]
    },
    {
      "cell_type": "markdown",
      "source": [
        "- **clear()**\n",
        "<div style=\"font-family: arial; padding: 30px; padding-top: 0; padding-bottom: 0;\">\n",
        "clear methos removes all items and makes the list empty/null.\n",
        "\n",
        "</div>"
      ],
      "metadata": {
        "id": "NEN7rTm9QlT1"
      },
      "id": "NEN7rTm9QlT1"
    },
    {
      "cell_type": "code",
      "source": [
        "numbers = [1, 2, 4, 5, 8, 3]\n",
        "numbers.clear()\n",
        "print(numbers)\n"
      ],
      "metadata": {
        "id": "sqqANV9yQxPv",
        "outputId": "e3594e33-2cb0-43ca-e569-bed417bbbb29",
        "colab": {
          "base_uri": "https://localhost:8080/"
        }
      },
      "id": "sqqANV9yQxPv",
      "execution_count": null,
      "outputs": [
        {
          "output_type": "stream",
          "name": "stdout",
          "text": [
            "[]\n"
          ]
        }
      ]
    },
    {
      "cell_type": "markdown",
      "source": [
        "<div style=\"font-family: arial; padding: 30px; padding-top: 0; padding-bottom: 0;\">\n",
        "    \n",
        "<h2 id=\"Operators\" style=\"color: #d42c06;\">List concatenation</h2>\n",
        "<div style=\"font-family: arial; padding: 30px; padding-top: 0; padding-bottom: 0;\">\n",
        "There are several ways to merge two lists. Here we see:\n",
        "</div>\n"
      ],
      "metadata": {
        "id": "RrV-qXQWRK79"
      },
      "id": "RrV-qXQWRK79"
    },
    {
      "cell_type": "markdown",
      "source": [
        "- **Using (+) operator**"
      ],
      "metadata": {
        "id": "6G2_JN9aSLq5"
      },
      "id": "6G2_JN9aSLq5"
    },
    {
      "cell_type": "code",
      "source": [
        "list1 = [1, 2, 3]\n",
        "list2 = [4, 5, 6]\n",
        "combined_list = list1 + list2\n",
        "print(combined_list)"
      ],
      "metadata": {
        "id": "dm_HPeFuL-kU",
        "outputId": "59e6a36e-fd92-42f3-a60b-775bc70fa23d",
        "colab": {
          "base_uri": "https://localhost:8080/"
        }
      },
      "id": "dm_HPeFuL-kU",
      "execution_count": null,
      "outputs": [
        {
          "output_type": "stream",
          "name": "stdout",
          "text": [
            "[1, 2, 3, 4, 5, 6]\n"
          ]
        }
      ]
    },
    {
      "cell_type": "markdown",
      "source": [
        "- **Using the extend() Method**"
      ],
      "metadata": {
        "id": "OD-vgu6JS63C"
      },
      "id": "OD-vgu6JS63C"
    },
    {
      "cell_type": "code",
      "source": [
        "list1 = [1, 2, 3]\n",
        "list2 = [4, 5, 6]\n",
        "list1.extend(list2)\n",
        "print(list1)"
      ],
      "metadata": {
        "id": "fxPCg5GHTE02",
        "outputId": "9bc71191-73d0-4d19-824f-71079db72cfd",
        "colab": {
          "base_uri": "https://localhost:8080/"
        }
      },
      "id": "fxPCg5GHTE02",
      "execution_count": null,
      "outputs": [
        {
          "output_type": "stream",
          "name": "stdout",
          "text": [
            "[1, 2, 3, 4, 5, 6]\n"
          ]
        }
      ]
    },
    {
      "cell_type": "markdown",
      "source": [
        "- **Using List Comprehension**"
      ],
      "metadata": {
        "id": "eOlhwY4GTQn2"
      },
      "id": "eOlhwY4GTQn2"
    },
    {
      "cell_type": "code",
      "source": [
        "list1 = [1, 2, 3]\n",
        "list2 = [4, 5, 6]\n",
        "combined_list = [item for sublist in [list1, list2] for item in sublist]\n",
        "print(combined_list)\n"
      ],
      "metadata": {
        "id": "r2zL9ZSLTS8M",
        "outputId": "63f3bdd1-5767-4e27-b69b-1d157a7da953",
        "colab": {
          "base_uri": "https://localhost:8080/"
        }
      },
      "id": "r2zL9ZSLTS8M",
      "execution_count": null,
      "outputs": [
        {
          "output_type": "stream",
          "name": "stdout",
          "text": [
            "[1, 2, 3, 4, 5, 6]\n"
          ]
        }
      ]
    },
    {
      "cell_type": "markdown",
      "source": [
        "<div style=\"font-family: arial; padding: 30px; padding-top: 0; padding-bottom: 0;\">\n",
        "    \n",
        "<ul>\n",
        "<li><h3 id=\"ds\" style=\"color: #d42c06;\">Set</h3></li>\n",
        "<ul>\n",
        "</div>"
      ],
      "metadata": {
        "id": "A1ITR9dQVHd-"
      },
      "id": "A1ITR9dQVHd-"
    },
    {
      "cell_type": "markdown",
      "source": [
        "\n",
        "<div style=\"font-family: arial; padding: 30px; padding-top: 0; padding-bottom: 0;\">\n",
        "what is a set?\n",
        "<ul>\n",
        "<li>Set is an <strong>unordered collection</strong> of unique items.</li>\n",
        "<li>Set is defined by values separated by \",\" inside braces<code>{ }</code>.\n",
        "<li>Sets are unchangeable and unordered.</li>\n",
        "</ul>\n",
        "</div>"
      ],
      "metadata": {
        "id": "A8d9U_RiVUX9"
      },
      "id": "A8d9U_RiVUX9"
    },
    {
      "cell_type": "code",
      "source": [
        "numbers = {7,1,3,6,9}\n",
        "print(type(numbers))"
      ],
      "metadata": {
        "colab": {
          "base_uri": "https://localhost:8080/"
        },
        "id": "LHu3N_NiWUlp",
        "outputId": "85309764-3bc1-4ec4-9fcf-b0df79c396ce"
      },
      "id": "LHu3N_NiWUlp",
      "execution_count": null,
      "outputs": [
        {
          "output_type": "stream",
          "name": "stdout",
          "text": [
            "<class 'set'>\n"
          ]
        }
      ]
    },
    {
      "cell_type": "markdown",
      "source": [
        "<div style=\"font-family: arial; padding: 30px; padding-top: 0; padding-bottom: 0;\">\n",
        "\n",
        "<ul>\n",
        "<li>sets are collections of unique elements.</li>\n",
        "<li>you can perform set operations like union, intersection, and difference to combine or compare sets in meaningful ways.</li>\n",
        "</ul>\n",
        "</div>"
      ],
      "metadata": {
        "id": "t3LtWil1XBhd"
      },
      "id": "t3LtWil1XBhd"
    },
    {
      "cell_type": "code",
      "source": [
        "#union\n",
        "\n",
        "set1 = {1, 2, 3}\n",
        "set2 = {3, 4, 5}\n",
        "union_set = set1.union(set2)\n",
        "print(union_set)"
      ],
      "metadata": {
        "colab": {
          "base_uri": "https://localhost:8080/"
        },
        "id": "7lFJSdrUX57X",
        "outputId": "3c85f82a-e692-42f4-eb4a-34183bd1eb08"
      },
      "id": "7lFJSdrUX57X",
      "execution_count": null,
      "outputs": [
        {
          "output_type": "stream",
          "name": "stdout",
          "text": [
            "{1, 2, 3, 4, 5}\n"
          ]
        }
      ]
    },
    {
      "cell_type": "code",
      "source": [
        "#intersection\n",
        "\n",
        "set1 = {1, 2, 3}\n",
        "set2 = {3, 4, 5}\n",
        "intersection_set = set1.intersection(set2)\n",
        "print(intersection_set)"
      ],
      "metadata": {
        "colab": {
          "base_uri": "https://localhost:8080/"
        },
        "id": "hpr7QxlHYHJW",
        "outputId": "8b9143e5-f385-4d96-e98c-e0037656591d"
      },
      "id": "hpr7QxlHYHJW",
      "execution_count": null,
      "outputs": [
        {
          "output_type": "stream",
          "name": "stdout",
          "text": [
            "{3}\n"
          ]
        }
      ]
    },
    {
      "cell_type": "code",
      "source": [
        "#difference\n",
        "\n",
        "set1 = {1, 2, 3}\n",
        "set2 = {3, 4, 5}\n",
        "difference_set = set1.difference(set2)\n",
        "print(difference_set)"
      ],
      "metadata": {
        "id": "KIgw9-SjYVE-"
      },
      "id": "KIgw9-SjYVE-",
      "execution_count": null,
      "outputs": []
    },
    {
      "cell_type": "markdown",
      "source": [
        "<div style=\"font-family: arial; padding: 30px; padding-top: 0; padding-bottom: 0;\">\n",
        "    \n",
        "<h2 id=\"Operators\" style=\"color: #d42c06;\">Set methods</h2>"
      ],
      "metadata": {
        "id": "Bb5tzr0qYwJ2"
      },
      "id": "Bb5tzr0qYwJ2"
    },
    {
      "cell_type": "markdown",
      "source": [
        "- **add()**\n",
        "<div style=\"font-family: arial; padding: 30px; padding-top: 0; padding-bottom: 0;\">\n",
        "Adds an element to a set. If the element is already in the set, the set doesn't change.\n",
        "\n",
        "</div>"
      ],
      "metadata": {
        "id": "1uLX4IsSYzeC"
      },
      "id": "1uLX4IsSYzeC"
    },
    {
      "cell_type": "code",
      "source": [
        "my_set = {1, 2, 3}\n",
        "my_set.add(4)\n",
        "print(my_set)\n"
      ],
      "metadata": {
        "colab": {
          "base_uri": "https://localhost:8080/"
        },
        "id": "mrAhZvhOY5zH",
        "outputId": "fc486228-56a6-43ea-c389-edd18cc2e398"
      },
      "id": "mrAhZvhOY5zH",
      "execution_count": null,
      "outputs": [
        {
          "output_type": "stream",
          "name": "stdout",
          "text": [
            "{1, 2, 3, 4}\n"
          ]
        }
      ]
    },
    {
      "cell_type": "markdown",
      "source": [
        "- **remove()**\n",
        "<div style=\"font-family: arial; padding: 30px; padding-top: 0; padding-bottom: 0;\">\n",
        "Removes an element from the set. Raises a KeyError if the element is not present.\n",
        "</div>"
      ],
      "metadata": {
        "id": "WnGFSkUiZGa8"
      },
      "id": "WnGFSkUiZGa8"
    },
    {
      "cell_type": "code",
      "source": [
        "names= {'ali', 'reza', 'saeed', 'fateme'}\n",
        "names.remove('saeed')\n",
        "print(names)\n"
      ],
      "metadata": {
        "colab": {
          "base_uri": "https://localhost:8080/"
        },
        "id": "3uRMRIBTZQpO",
        "outputId": "0ab0f5ab-3578-4f9a-ae6a-fd120cd02282"
      },
      "id": "3uRMRIBTZQpO",
      "execution_count": null,
      "outputs": [
        {
          "output_type": "stream",
          "name": "stdout",
          "text": [
            "{'reza', 'fateme', 'ali'}\n"
          ]
        }
      ]
    },
    {
      "cell_type": "markdown",
      "source": [
        "- **pop()**\n",
        "<div style=\"font-family: arial; padding: 30px; padding-top: 0; padding-bottom: 0;\">\n",
        "Removes and returns an arbitrary set element. Raises a KeyError if the set is empty.\n",
        "</div>"
      ],
      "metadata": {
        "id": "MJCETc-AZoBZ"
      },
      "id": "MJCETc-AZoBZ"
    },
    {
      "cell_type": "code",
      "source": [
        "my_set = {1, 2, 4, 3}\n",
        "print(my_set.pop())\n",
        "print(my_set)\n"
      ],
      "metadata": {
        "colab": {
          "base_uri": "https://localhost:8080/"
        },
        "id": "r8jmkWViZywp",
        "outputId": "e4419216-06f8-4898-c6ae-7319ca1c1bbe"
      },
      "id": "r8jmkWViZywp",
      "execution_count": null,
      "outputs": [
        {
          "output_type": "stream",
          "name": "stdout",
          "text": [
            "1\n",
            "{2, 3, 4}\n"
          ]
        }
      ]
    },
    {
      "cell_type": "markdown",
      "source": [
        "- **update()**\n",
        "<div style=\"font-family: arial; padding: 30px; padding-top: 0; padding-bottom: 0;\">\n",
        "Adds elements from other_set to the set.\n",
        "</div>"
      ],
      "metadata": {
        "id": "t4iCrZJOaUwF"
      },
      "id": "t4iCrZJOaUwF"
    },
    {
      "cell_type": "code",
      "source": [
        "set1 = {1, 2, 3}\n",
        "set2 = {3, 4, 5}\n",
        "set1.update(set2)\n",
        "print(set1)"
      ],
      "metadata": {
        "colab": {
          "base_uri": "https://localhost:8080/"
        },
        "id": "r_WPWqlyaZwu",
        "outputId": "7b270bba-0297-4fef-eff0-e5add957cc1d"
      },
      "id": "r_WPWqlyaZwu",
      "execution_count": null,
      "outputs": [
        {
          "output_type": "stream",
          "name": "stdout",
          "text": [
            "{1, 2, 3, 4, 5}\n"
          ]
        }
      ]
    },
    {
      "cell_type": "markdown",
      "source": [
        "- **discard()**\n",
        "<div style=\"font-family: arial; padding: 30px; padding-top: 0; padding-bottom: 0;\">\n",
        "Removes an element from the set if it is a member. If the element is not a member, do nothing.\n",
        "</div>"
      ],
      "metadata": {
        "id": "1-wuCMPaaekD"
      },
      "id": "1-wuCMPaaekD"
    },
    {
      "cell_type": "code",
      "source": [
        "my_set = {1, 2, 3}\n",
        "my_set.discard(3)\n",
        "print(my_set)\n",
        "my_set.discard(3)  #doesnt raise any error as you see!\n"
      ],
      "metadata": {
        "colab": {
          "base_uri": "https://localhost:8080/"
        },
        "id": "KyuhE60XalMb",
        "outputId": "6a818f25-12f9-4a8e-c183-41c16aa6b550"
      },
      "id": "KyuhE60XalMb",
      "execution_count": null,
      "outputs": [
        {
          "output_type": "stream",
          "name": "stdout",
          "text": [
            "{1, 2}\n"
          ]
        }
      ]
    },
    {
      "cell_type": "markdown",
      "source": [
        "<div style=\"font-family: arial; padding: 30px; padding-top: 0; padding-bottom: 0;\">\n",
        "    \n",
        "<ul>\n",
        "<li><h3 id=\"ds\" style=\"color: #d42c06;\">Tuple</h3></li>\n",
        "<ul>\n",
        "</div>"
      ],
      "metadata": {
        "id": "xP_2GoAQa8I7"
      },
      "id": "xP_2GoAQa8I7"
    },
    {
      "cell_type": "markdown",
      "source": [
        "<div style=\"font-family: arial; padding: 30px; padding-top: 0; padding-bottom: 0;\">\n",
        "what is a tuple?\n",
        "<ul>\n",
        "<li>Tuple is an ordered sequence of items same as a list..</li>\n",
        "<li>they are immutable, which means they are unchangable.that is why they are faster!\n",
        "<li>once you create a tuple, you can not modify it.</li>\n",
        "<li>Tuple is defined within parentheses <code>()</code> where items are separated by commas.</li>\n",
        "</ul>\n",
        "</div>"
      ],
      "metadata": {
        "id": "Xif9kSsFKO0V"
      },
      "id": "Xif9kSsFKO0V"
    },
    {
      "cell_type": "code",
      "execution_count": null,
      "id": "b778dbc4-e3ee-4b1d-baf7-067e7773af9a",
      "metadata": {
        "id": "b778dbc4-e3ee-4b1d-baf7-067e7773af9a",
        "colab": {
          "base_uri": "https://localhost:8080/"
        },
        "outputId": "d62f7081-4edb-4ef8-a3ab-5d4ef51b45e6"
      },
      "outputs": [
        {
          "output_type": "stream",
          "name": "stdout",
          "text": [
            "<class 'tuple'>\n"
          ]
        }
      ],
      "source": [
        "tuple1 = (9, 'apple', 3 + 6j)\n",
        "print(type(tuple1))"
      ]
    },
    {
      "cell_type": "markdown",
      "source": [
        "<div style=\"font-family: arial; padding: 30px; padding-top: 0; padding-bottom: 0;\">\n",
        "    \n",
        "<h2 id=\"Operators\" style=\"color: #d42c06;\">Immutable vs mutable</h2>"
      ],
      "metadata": {
        "id": "RN1whYZ7cLC7"
      },
      "id": "RN1whYZ7cLC7"
    },
    {
      "cell_type": "markdown",
      "source": [
        "<div style=\"font-family: arial; padding: 30px; padding-top: 0; padding-bottom: 0;\">\n",
        "mutable => lists\n",
        "<ul>\n",
        "<li>Lists in Python are mutable, meaning their contents can be changed after they are created.</li>\n",
        "</ul>\n",
        "</div>"
      ],
      "metadata": {
        "id": "Jqh-rFY6d8v2"
      },
      "id": "Jqh-rFY6d8v2"
    },
    {
      "cell_type": "code",
      "source": [
        "my_list = [1, 2, 3]\n",
        "my_list[1] = 20\n",
        "print(my_list)"
      ],
      "metadata": {
        "colab": {
          "base_uri": "https://localhost:8080/"
        },
        "id": "pjCjwl-IeNb6",
        "outputId": "bded64bd-3daa-4999-ef14-6555880672b0"
      },
      "id": "pjCjwl-IeNb6",
      "execution_count": null,
      "outputs": [
        {
          "output_type": "stream",
          "name": "stdout",
          "text": [
            "[1, 20, 3]\n"
          ]
        }
      ]
    },
    {
      "cell_type": "markdown",
      "source": [
        "<div style=\"font-family: arial; padding: 30px; padding-top: 0; padding-bottom: 0;\">\n",
        "immutable => tuples\n",
        "<ul>\n",
        "<li>Tuples are immutable, meaning their contents cannot be changed after they are created.</li>\n",
        "<li> Attempting to alter the content of a tuple results in a TypeError.</li>\n",
        "</ul>\n",
        "</div>"
      ],
      "metadata": {
        "id": "SAAFGqeSen2A"
      },
      "id": "SAAFGqeSen2A"
    },
    {
      "cell_type": "code",
      "source": [
        "my_tuple = (1, 2, 3)\n",
        "# The following line would raise an error:\n",
        "my_tuple[1] = 20"
      ],
      "metadata": {
        "colab": {
          "base_uri": "https://localhost:8080/",
          "height": 192
        },
        "id": "UXvVMrvte5WU",
        "outputId": "47fa6ab7-23fd-42f4-8f36-8a829486510d"
      },
      "id": "UXvVMrvte5WU",
      "execution_count": null,
      "outputs": [
        {
          "output_type": "error",
          "ename": "TypeError",
          "evalue": "'tuple' object does not support item assignment",
          "traceback": [
            "\u001b[0;31m---------------------------------------------------------------------------\u001b[0m",
            "\u001b[0;31mTypeError\u001b[0m                                 Traceback (most recent call last)",
            "\u001b[0;32m<ipython-input-12-901e16d98270>\u001b[0m in \u001b[0;36m<cell line: 3>\u001b[0;34m()\u001b[0m\n\u001b[1;32m      1\u001b[0m \u001b[0mmy_tuple\u001b[0m \u001b[0;34m=\u001b[0m \u001b[0;34m(\u001b[0m\u001b[0;36m1\u001b[0m\u001b[0;34m,\u001b[0m \u001b[0;36m2\u001b[0m\u001b[0;34m,\u001b[0m \u001b[0;36m3\u001b[0m\u001b[0;34m)\u001b[0m\u001b[0;34m\u001b[0m\u001b[0;34m\u001b[0m\u001b[0m\n\u001b[1;32m      2\u001b[0m \u001b[0;31m# The following line would raise an error:\u001b[0m\u001b[0;34m\u001b[0m\u001b[0;34m\u001b[0m\u001b[0m\n\u001b[0;32m----> 3\u001b[0;31m \u001b[0mmy_tuple\u001b[0m\u001b[0;34m[\u001b[0m\u001b[0;36m1\u001b[0m\u001b[0;34m]\u001b[0m \u001b[0;34m=\u001b[0m \u001b[0;36m20\u001b[0m\u001b[0;34m\u001b[0m\u001b[0;34m\u001b[0m\u001b[0m\n\u001b[0m",
            "\u001b[0;31mTypeError\u001b[0m: 'tuple' object does not support item assignment"
          ]
        }
      ]
    },
    {
      "cell_type": "markdown",
      "source": [
        "<div style=\"font-family: arial; padding: 30px; padding-top: 0; padding-bottom: 0;\">\n",
        "    \n",
        "<h2 id=\"Operators\" style=\"color: #d42c06;\">Unpacking Tuples</h2>"
      ],
      "metadata": {
        "id": "X8gVnHhygmo8"
      },
      "id": "X8gVnHhygmo8"
    },
    {
      "cell_type": "markdown",
      "source": [
        "<div style=\"font-family: arial; padding: 30px; padding-top: 0; padding-bottom: 0;\">\n",
        "<ul>\n",
        "<li>Tuple unpacking is a convenient feature in Python that allows you to assign each item in a tuple to a separate variable in a single statement.</li>\n",
        "<li>This process simplifies working with tuples and iterables by enabling direct access to their elements without the need for indexing.</li>\n",
        "\n",
        "</ul>\n",
        "</div>"
      ],
      "metadata": {
        "id": "iMTrQ47sfN1u"
      },
      "id": "iMTrQ47sfN1u"
    },
    {
      "cell_type": "markdown",
      "source": [
        "- **basic unpacking**\n",
        "<div style=\"font-family: arial; padding: 30px; padding-top: 0; padding-bottom: 0;\">\n",
        "As you see, 'a', 'b', and 'c' are assigned the values of the elements in my_tuple in order.\n",
        "</div>"
      ],
      "metadata": {
        "id": "cc2_jpmehVcv"
      },
      "id": "cc2_jpmehVcv"
    },
    {
      "cell_type": "code",
      "source": [
        "my_tuple = (1, 2, 3)\n",
        "a, b, c = my_tuple\n",
        "print(a)\n",
        "print(b)\n",
        "print(c)"
      ],
      "metadata": {
        "colab": {
          "base_uri": "https://localhost:8080/"
        },
        "id": "iBak_7K4hak8",
        "outputId": "8bedb5a0-725e-401d-c8d1-6c5c05bcc30c"
      },
      "id": "iBak_7K4hak8",
      "execution_count": null,
      "outputs": [
        {
          "output_type": "stream",
          "name": "stdout",
          "text": [
            "1\n",
            "2\n",
            "3\n"
          ]
        }
      ]
    },
    {
      "cell_type": "markdown",
      "source": [
        "- **Unpacking with an Asterisk (*)**\n",
        "<div style=\"font-family: arial; padding: 30px; padding-top: 0; padding-bottom: 0;\">\n",
        "Sometimes, you might not know the exact length of a tuple or you're only interested in a part of it. you can use this:\n",
        "</div>"
      ],
      "metadata": {
        "id": "0yQMZJ54h65a"
      },
      "id": "0yQMZJ54h65a"
    },
    {
      "cell_type": "code",
      "source": [
        "countries = ('russia', 'USA','australia', 'india', 'iran')\n",
        "middle_east, america, *rest = countries\n",
        "print(middle_east)    # Output: russia\n",
        "print(america)    # Output: USA\n",
        "print(rest)   #output:list of others"
      ],
      "metadata": {
        "colab": {
          "base_uri": "https://localhost:8080/"
        },
        "id": "RSZL0Kari6nf",
        "outputId": "ceac150c-8e90-48bd-b1a0-1096d8105fd3"
      },
      "id": "RSZL0Kari6nf",
      "execution_count": null,
      "outputs": [
        {
          "output_type": "stream",
          "name": "stdout",
          "text": [
            "russia\n",
            "USA\n",
            "['australia', 'india', 'iran']\n"
          ]
        }
      ]
    },
    {
      "cell_type": "markdown",
      "source": [
        "- **Unpacking in Function Calls**\n",
        "<div style=\"font-family: arial; padding: 30px; padding-top: 0; padding-bottom: 0;\">\n",
        "This method passes the elements of numbers (exp below) as separate arguments to my_func.\n",
        "</div>"
      ],
      "metadata": {
        "id": "Z7xjpaqxjSq5"
      },
      "id": "Z7xjpaqxjSq5"
    },
    {
      "cell_type": "code",
      "source": [
        "def my_func(x, y, z):\n",
        "    print(x, y, z)\n",
        "\n",
        "numbers = (1, 2, 3)\n",
        "my_func(*numbers)"
      ],
      "metadata": {
        "colab": {
          "base_uri": "https://localhost:8080/"
        },
        "id": "m0hFTTJHjV6D",
        "outputId": "2a51d074-128a-4780-ff08-99b73ba81520"
      },
      "id": "m0hFTTJHjV6D",
      "execution_count": null,
      "outputs": [
        {
          "output_type": "stream",
          "name": "stdout",
          "text": [
            "1 2 3\n"
          ]
        }
      ]
    },
    {
      "cell_type": "markdown",
      "source": [
        "<div style=\"font-family: arial; padding: 30px; padding-top: 0; padding-bottom: 0;\">\n",
        "    \n",
        "<h2 id=\"Operators\" style=\"color: #d42c06;\">Joining Tuples</h2>"
      ],
      "metadata": {
        "id": "VzEWOPCyjh_w"
      },
      "id": "VzEWOPCyjh_w"
    },
    {
      "cell_type": "markdown",
      "source": [
        "<div style=\"font-family: arial; padding: 30px; padding-top: 0; padding-bottom: 0;\">\n",
        "<ul>\n",
        "<li>Since tuples are immutable, joining tuples does not modify the original tuples; instead, it creates a new tuple containing elements from the tuples being joined. </li>\n",
        "</ul>\n",
        "</div>"
      ],
      "metadata": {
        "id": "M0sqf1JHkmR1"
      },
      "id": "M0sqf1JHkmR1"
    },
    {
      "cell_type": "markdown",
      "source": [
        "- **Using the tuple() Constructor with Iterables**\n",
        "<div style=\"font-family: arial; padding: 30px; padding-top: 0; padding-bottom: 0;\">\n",
        "If you have some tuples or lists, you can use the tuple() constructor with a generator expression or a loop to iterate through elements.\n",
        "</div>"
      ],
      "metadata": {
        "id": "FkA_z2iFkx8T"
      },
      "id": "FkA_z2iFkx8T"
    },
    {
      "cell_type": "code",
      "source": [
        "list1 = [1, 2, 3]\n",
        "tuple1 = ('a', 'b', 'c')\n",
        "joined_tuple = tuple(item for iterable in (list1, tuple1) for item in iterable)\n",
        "print(joined_tuple)"
      ],
      "metadata": {
        "colab": {
          "base_uri": "https://localhost:8080/"
        },
        "id": "4DH6aj-MlJuz",
        "outputId": "867dfb3e-7067-4daa-b079-9b7f1c5ecba1"
      },
      "id": "4DH6aj-MlJuz",
      "execution_count": null,
      "outputs": [
        {
          "output_type": "stream",
          "name": "stdout",
          "text": [
            "(1, 2, 3, 'a', 'b', 'c')\n"
          ]
        }
      ]
    },
    {
      "cell_type": "markdown",
      "source": [
        "- **Using the + Operator**"
      ],
      "metadata": {
        "id": "Kvfg3bzileMd"
      },
      "id": "Kvfg3bzileMd"
    },
    {
      "cell_type": "code",
      "source": [
        "tuple1 = (1, 2, 3)\n",
        "tuple2 = (4, 5, 6)\n",
        "joined_tuple = tuple1 + tuple2\n",
        "print(joined_tuple)"
      ],
      "metadata": {
        "colab": {
          "base_uri": "https://localhost:8080/"
        },
        "id": "Umg8AFGklpBB",
        "outputId": "d5dded52-43a1-418a-805d-eef96596c4a6"
      },
      "id": "Umg8AFGklpBB",
      "execution_count": null,
      "outputs": [
        {
          "output_type": "stream",
          "name": "stdout",
          "text": [
            "(1, 2, 3, 4, 5, 6)\n"
          ]
        }
      ]
    },
    {
      "cell_type": "markdown",
      "source": [
        "<div style=\"font-family: arial; padding: 30px; padding-top: 0; padding-bottom: 0;\">\n",
        "    \n",
        "<h2 id=\"Operators\" style=\"color: #d42c06;\">Tuple Methods</h2>"
      ],
      "metadata": {
        "id": "_-agcGQflxsu"
      },
      "id": "_-agcGQflxsu"
    },
    {
      "cell_type": "markdown",
      "source": [
        "<div style=\"font-family: arial; padding: 30px; padding-top: 0; padding-bottom: 0;\">\n",
        "<ul>\n",
        "<li>Tuples in Python are simple but powerful data structures. </li>\n",
        "<li>As we mentioned earlier, they are immutable.</li>\n",
        "<li>This immutability gives them certain advantages, such as being hashable and usable as keys in dictionaries (we will talk about it later).</li>\n",
        "</ul>\n",
        "</div>"
      ],
      "metadata": {
        "id": "mMAoKYdBmCt-"
      },
      "id": "mMAoKYdBmCt-"
    },
    {
      "cell_type": "markdown",
      "source": [
        "- **index()**\n",
        "<div style=\"font-family: arial; padding: 30px; padding-top: 0; padding-bottom: 0;\">\n",
        "Returns the first index of a specified value in the tuple.\n",
        "</div>"
      ],
      "metadata": {
        "id": "K8GIhzqnmfvz"
      },
      "id": "K8GIhzqnmfvz"
    },
    {
      "cell_type": "code",
      "source": [
        "bird_log = ('Sparrow', 'Robin', 'Phoenix', 'Canary', 'Phoenix')\n",
        "first_phoenix_sighting = bird_log.index('Phoenix')\n",
        "print(f\"The first 'Phoenix' was spotted at position: {first_phoenix_sighting}\")"
      ],
      "metadata": {
        "id": "3_pfux27m6IM"
      },
      "id": "3_pfux27m6IM",
      "execution_count": null,
      "outputs": []
    },
    {
      "cell_type": "markdown",
      "source": [
        "<div style=\"font-family: arial; padding: 30px; padding-top: 0; padding-bottom: 0;\">\n",
        "exp discription: Imagine you're a birdwatcher keeping a log of birds during your expedition. Each bird spotted is recorded in order of sighting. You're particularly interested in the first sighting of a rare bird named \"Phoenix\".\n",
        "</div>"
      ],
      "metadata": {
        "id": "cfzzEwcDm8IB"
      },
      "id": "cfzzEwcDm8IB"
    },
    {
      "cell_type": "markdown",
      "source": [
        "- **count()**\n",
        "<div style=\"font-family: arial; padding: 30px; padding-top: 0; padding-bottom: 0;\">\n",
        "Returns the number of times a specified value appears in the tuple.<br>\n",
        "exp: Imagine you're an astronomer counting the number of times specific types of stars appear in your observations.\n",
        "</div>"
      ],
      "metadata": {
        "id": "rVooDCU8nVaJ"
      },
      "id": "rVooDCU8nVaJ"
    },
    {
      "cell_type": "code",
      "source": [
        "observations = ('A', 'B', 'A', 'C', 'B', 'A', 'D', 'A')\n",
        "type_a_count = observations.count('A')\n",
        "print(f\"Type 'A' stars observed: {type_a_count}\")"
      ],
      "metadata": {
        "colab": {
          "base_uri": "https://localhost:8080/"
        },
        "id": "FceGXE77nsPU",
        "outputId": "a86de960-681b-4328-b541-e5fc3f90a814"
      },
      "id": "FceGXE77nsPU",
      "execution_count": null,
      "outputs": [
        {
          "output_type": "stream",
          "name": "stdout",
          "text": [
            "Type 'A' stars observed: 4\n"
          ]
        }
      ]
    },
    {
      "cell_type": "markdown",
      "source": [
        "- **max() and min()**\n",
        "<div style=\"font-family: arial; padding: 30px; padding-top: 0; padding-bottom: 0;\">\n",
        "Return the largest and smallest elements in a tuple, respectively.\n",
        "</div>"
      ],
      "metadata": {
        "id": "3xFYaqx5oVpl"
      },
      "id": "3xFYaqx5oVpl"
    },
    {
      "cell_type": "code",
      "source": [
        "numbers = (1, 2, 3, 4, 5)\n",
        "print(max(numbers))\n",
        "print(min(numbers))"
      ],
      "metadata": {
        "colab": {
          "base_uri": "https://localhost:8080/"
        },
        "id": "iLR3zfyLohc1",
        "outputId": "17d5d72a-a42c-46af-8501-c49faea70b7d"
      },
      "id": "iLR3zfyLohc1",
      "execution_count": null,
      "outputs": [
        {
          "output_type": "stream",
          "name": "stdout",
          "text": [
            "5\n",
            "1\n"
          ]
        }
      ]
    },
    {
      "cell_type": "markdown",
      "source": [
        "<div style=\"font-family: arial; padding: 30px; padding-top: 0; padding-bottom: 0;\">\n",
        "    \n",
        "<ul>\n",
        "<li><h3 id=\"ds\" style=\"color: #d42c06;\">Dictionaries</h3></li>\n",
        "<ul>\n",
        "</div>"
      ],
      "metadata": {
        "id": "vQ15BuyJo_9n"
      },
      "id": "vQ15BuyJo_9n"
    },
    {
      "cell_type": "markdown",
      "source": [
        "<div style=\"font-family: arial; padding: 30px; padding-top: 0; padding-bottom: 0;\">\n",
        "what is a dictionary?\n",
        "<ul>\n",
        "<li>Dictionary is an unordered collection of data values.</li>\n",
        "<li>Unlike other Data Types that hold only a single value as an element, a Dictionary holds a key:value pair.</li>\n",
        "<li>They are mutable, meaning they can be modified after their creation.</li>\n",
        "<li>They are written with curly braces <code>{}</code>.</li>\n",
        "<li> Here is a simple exp:\n",
        "</ul>\n",
        "</div>"
      ],
      "metadata": {
        "id": "SrAGG9AcpKmM"
      },
      "id": "SrAGG9AcpKmM"
    },
    {
      "cell_type": "code",
      "source": [
        "my_dict = {\"name\": \"Alice\", \"age\": 25, \"city\": \"New York\", \"job\": \"Software engineer\"}\n",
        "print(my_dict)"
      ],
      "metadata": {
        "colab": {
          "base_uri": "https://localhost:8080/"
        },
        "id": "vJWkkTgLqNS-",
        "outputId": "ffbbdf57-336b-48a2-c007-ceb8e7efff64"
      },
      "id": "vJWkkTgLqNS-",
      "execution_count": null,
      "outputs": [
        {
          "output_type": "stream",
          "name": "stdout",
          "text": [
            "{'name': 'Alice', 'age': 20, 'city': 'New York', 'job': 'Software engineer'}\n"
          ]
        }
      ]
    },
    {
      "cell_type": "markdown",
      "source": [
        "<div style=\"font-family: arial; padding: 30px; padding-top: 0; padding-bottom: 0;\">\n",
        "    \n",
        "<h2 id=\"Operators\" style=\"color: #d42c06;\">Accessing Values</h2>"
      ],
      "metadata": {
        "id": "mSC1Ykzeqfmj"
      },
      "id": "mSC1Ykzeqfmj"
    },
    {
      "cell_type": "markdown",
      "source": [
        "<div style=\"font-family: arial; padding: 30px; padding-top: 0; padding-bottom: 0;\">\n",
        "<ul>\n",
        "<li>dictionary values are accessed by placing the key in square brackets [] next to the dictionary name or using the get() method. </li>\n",
        "<li>If a value does not exist, it will raise KeyError.</li>\n",
        "</ul>\n",
        "</div>"
      ],
      "metadata": {
        "id": "hlp-Q4CIqiym"
      },
      "id": "hlp-Q4CIqiym"
    },
    {
      "cell_type": "code",
      "source": [
        "print(my_dict[\"name\"])  #my_dict is identified earlier\n",
        "print(my_dict.get(\"age\"))\n"
      ],
      "metadata": {
        "colab": {
          "base_uri": "https://localhost:8080/"
        },
        "id": "cvu0i4V_rA4x",
        "outputId": "8fb8c03c-6e22-4744-f936-02b2256b39b7"
      },
      "id": "cvu0i4V_rA4x",
      "execution_count": null,
      "outputs": [
        {
          "output_type": "stream",
          "name": "stdout",
          "text": [
            "Alice\n",
            "20\n"
          ]
        }
      ]
    },
    {
      "cell_type": "markdown",
      "source": [
        "<div style=\"font-family: arial; padding: 30px; padding-top: 0; padding-bottom: 0;\">\n",
        "    \n",
        "<h2 id=\"Operators\" style=\"color: #d42c06;\">Nested Dictionaries</h2>"
      ],
      "metadata": {
        "id": "Qo4RLgQOrYcu"
      },
      "id": "Qo4RLgQOrYcu"
    },
    {
      "cell_type": "markdown",
      "source": [
        "<div style=\"font-family: arial; padding: 30px; padding-top: 0; padding-bottom: 0;\">\n",
        "<ul>\n",
        "<li>A dictionary can contain dictionaries, this is called nested dictionaries.</li>\n",
        "</ul>\n",
        "</div>"
      ],
      "metadata": {
        "id": "kAwMZrRjrcMi"
      },
      "id": "kAwMZrRjrcMi"
    },
    {
      "cell_type": "code",
      "source": [
        "nested_dict = {\n",
        "    \"employee1\": {\"name\": \"John\", \"age\": 28, \"department\": \"Sales\"},\n",
        "    \"employee2\": {\"name\": \"Marie\", \"age\": 34, \"department\": \"HR\"}\n",
        "}\n",
        "\n",
        "print(nested_dict[\"employee1\"][\"name\"])\n"
      ],
      "metadata": {
        "colab": {
          "base_uri": "https://localhost:8080/"
        },
        "id": "Qc5NSkERrpZq",
        "outputId": "44aadaa8-44d6-4828-8fdb-905e71cee6b1"
      },
      "id": "Qc5NSkERrpZq",
      "execution_count": null,
      "outputs": [
        {
          "output_type": "stream",
          "name": "stdout",
          "text": [
            "John\n"
          ]
        }
      ]
    },
    {
      "cell_type": "markdown",
      "source": [
        "<div style=\"font-family: arial; padding: 30px; padding-top: 0; padding-bottom: 0;\">\n",
        "    \n",
        "<h2 id=\"Operators\" style=\"color: #d42c06;\">Dictionary Methods</h2>"
      ],
      "metadata": {
        "id": "Xnp0i8lBrxZg"
      },
      "id": "Xnp0i8lBrxZg"
    },
    {
      "cell_type": "markdown",
      "source": [
        "- **keys()**\n",
        "<div style=\"font-family: arial; padding: 30px; padding-top: 0; padding-bottom: 0;\">\n",
        "Returns a view object containing the dictionary's keys.\n",
        "</div>"
      ],
      "metadata": {
        "id": "G3V5KJArsDN7"
      },
      "id": "G3V5KJArsDN7"
    },
    {
      "cell_type": "code",
      "source": [
        "print(my_dict.keys())"
      ],
      "metadata": {
        "colab": {
          "base_uri": "https://localhost:8080/"
        },
        "id": "Kygb9sL6sM8O",
        "outputId": "867027ea-6c00-4f7d-b861-930aab3dbede"
      },
      "id": "Kygb9sL6sM8O",
      "execution_count": null,
      "outputs": [
        {
          "output_type": "stream",
          "name": "stdout",
          "text": [
            "dict_keys(['name', 'age', 'city', 'job'])\n"
          ]
        }
      ]
    },
    {
      "cell_type": "markdown",
      "source": [
        "- **values()**\n",
        "<div style=\"font-family: arial; padding: 30px; padding-top: 0; padding-bottom: 0;\">\n",
        "Returns a view object containing the dictionary's values.\n",
        "</div>"
      ],
      "metadata": {
        "id": "HxtK9OE-sX9r"
      },
      "id": "HxtK9OE-sX9r"
    },
    {
      "cell_type": "code",
      "source": [
        "print(my_dict.values())"
      ],
      "metadata": {
        "colab": {
          "base_uri": "https://localhost:8080/"
        },
        "id": "h-6IrQrqseZx",
        "outputId": "316a354d-4017-4f6b-c4f8-4e287f00ba64"
      },
      "id": "h-6IrQrqseZx",
      "execution_count": null,
      "outputs": [
        {
          "output_type": "stream",
          "name": "stdout",
          "text": [
            "dict_values(['Alice', 20, 'New York', 'Software engineer'])\n"
          ]
        }
      ]
    },
    {
      "cell_type": "markdown",
      "source": [
        "- **items()**\n",
        "<div style=\"font-family: arial; padding: 30px; padding-top: 0; padding-bottom: 0;\">\n",
        "Returns a view of the dictionary's key-value pairs (tuples).\n",
        "</div>"
      ],
      "metadata": {
        "id": "IQbD4XxlsmA7"
      },
      "id": "IQbD4XxlsmA7"
    },
    {
      "cell_type": "code",
      "source": [
        "print(my_dict.items())\n"
      ],
      "metadata": {
        "colab": {
          "base_uri": "https://localhost:8080/"
        },
        "id": "RcNjRFjQsrYJ",
        "outputId": "ae0ca9b6-d9a2-4232-998e-31f281b174ff"
      },
      "id": "RcNjRFjQsrYJ",
      "execution_count": null,
      "outputs": [
        {
          "output_type": "stream",
          "name": "stdout",
          "text": [
            "dict_items([('name', 'Alice'), ('age', 20), ('city', 'New York'), ('job', 'Software engineer')])\n"
          ]
        }
      ]
    },
    {
      "cell_type": "markdown",
      "source": [
        "- **pop()**\n",
        "<div style=\"font-family: arial; padding: 30px; padding-top: 0; padding-bottom: 0;\">\n",
        "Removes a key from the dictionary, returning its value.\n",
        "</div>"
      ],
      "metadata": {
        "id": "m9nJTv2Ss1lv"
      },
      "id": "m9nJTv2Ss1lv"
    },
    {
      "cell_type": "code",
      "source": [
        "job = my_dict.pop(\"job\")\n",
        "print(job)\n",
        "print(my_dict)"
      ],
      "metadata": {
        "colab": {
          "base_uri": "https://localhost:8080/"
        },
        "id": "PLbNKRp7s7QQ",
        "outputId": "67c323b8-038e-494b-f2bd-c4d234629eee"
      },
      "id": "PLbNKRp7s7QQ",
      "execution_count": 28,
      "outputs": [
        {
          "output_type": "stream",
          "name": "stdout",
          "text": [
            "Software engineer\n",
            "{'name': 'Alice', 'city': 'New York', 'email': 'alice@gmail.com'}\n"
          ]
        }
      ]
    },
    {
      "cell_type": "markdown",
      "source": [
        "- **update()**\n",
        "<div style=\"font-family: arial; padding: 30px; padding-top: 0; padding-bottom: 0;\">\n",
        "Updates the dictionary with elements from another dictionary. </div>"
      ],
      "metadata": {
        "id": "jbTEEsBhtPtl"
      },
      "id": "jbTEEsBhtPtl"
    },
    {
      "cell_type": "code",
      "source": [
        "my_dict.update({\"email\": \"alice@gmail.com\"})\n",
        "print(my_dict)"
      ],
      "metadata": {
        "colab": {
          "base_uri": "https://localhost:8080/"
        },
        "id": "f54fdGDhtd5P",
        "outputId": "6d5fb4c4-e095-4439-a7f3-897c3d0eada9"
      },
      "id": "f54fdGDhtd5P",
      "execution_count": null,
      "outputs": [
        {
          "output_type": "stream",
          "name": "stdout",
          "text": [
            "{'name': 'Alice', 'city': 'New York', 'job': 'Software engineer', 'email': 'alice@gmail.com'}\n"
          ]
        }
      ]
    },
    {
      "cell_type": "markdown",
      "source": [
        "<div style=\"font-family: arial; padding: 30px; padding-top: 0; padding-bottom: 0;\">\n",
        "    \n",
        "<h2 id=\"conclusion\" style=\"color: #d42c06;\">Conclusion</h2>\n",
        "\n",
        "</div>"
      ],
      "metadata": {
        "id": "PlOz0PnLcGSD"
      },
      "id": "PlOz0PnLcGSD"
    },
    {
      "cell_type": "code",
      "source": [],
      "metadata": {
        "id": "jlXH4vlZi6BH"
      },
      "id": "jlXH4vlZi6BH",
      "execution_count": null,
      "outputs": []
    },
    {
      "cell_type": "markdown",
      "id": "16a0474b-c50d-4087-a7f2-5a232fe6f720",
      "metadata": {
        "id": "16a0474b-c50d-4087-a7f2-5a232fe6f720"
      },
      "source": [
        "<div style=\"padding: 30px; padding-top: 0; padding-bottom: 0;\">\n",
        "\n",
        "<hr style=\"border-color: #fff;\">\n",
        "\n",
        "</div>"
      ]
    },
    {
      "cell_type": "markdown",
      "id": "e0dea3fb-d681-473d-9d33-8a3c504b3fd9",
      "metadata": {
        "id": "e0dea3fb-d681-473d-9d33-8a3c504b3fd9"
      },
      "source": [
        "<div style=\"font-family: arial; padding: 30px; padding-top: 0; padding-bottom: 0;\">\n",
        "    \n",
        "<h2 style=\"color: #d42c06;\">References</h2>\n",
        "\n",
        "<ul>\n",
        "    <li>Voron, François. Building Data Science Applications with FastAPI: Develop, manage, and deploy efficient machine learning applications with Python. Packt Publishing Ltd, 2023\n",
        "        .</li>\n",
        "</ul>\n",
        "\n",
        "<hr style=\"margin-top: 25px; border-color: #fff;\">\n",
        "\n",
        "</div>"
      ]
    }
  ],
  "metadata": {
    "kernelspec": {
      "display_name": "Python 3 (ipykernel)",
      "language": "python",
      "name": "python3"
    },
    "language_info": {
      "codemirror_mode": {
        "name": "ipython",
        "version": 3
      },
      "file_extension": ".py",
      "mimetype": "text/x-python",
      "name": "python",
      "nbconvert_exporter": "python",
      "pygments_lexer": "ipython3",
      "version": "3.12.1"
    },
    "colab": {
      "provenance": []
    }
  },
  "nbformat": 4,
  "nbformat_minor": 5
}
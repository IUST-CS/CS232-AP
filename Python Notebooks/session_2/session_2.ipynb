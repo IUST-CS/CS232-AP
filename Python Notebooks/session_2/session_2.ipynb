{
 "cells": [
  {
   "cell_type": "markdown",
   "metadata": {},
   "source": [
    "<div style=\"font-family: arial; padding: 30px; padding-bottom: 0;\">\n",
    "\n",
    "<h4 style=\"text-align: center;\">In the Name of God</h4>\n",
    "\n",
    "<h2 style=\"text-align: center; color: #103bc9;\">CS232 - Advanced Programming</h2>\n",
    "\n",
    "<h3 style=\"text-align: center; color: #d42c06;\">Iran University of Science and Technology</h3>\n",
    "\n",
    "<h3 style=\"text-align: center; color: #d42c06;\">School of Mathematics and Computer Science</h3>\n",
    "\n",
    "<h4 style=\"padding-top: 7px; text-align: center;\">Winter-Spring 2024</h4>\n",
    "\n",
    "<hr style=\"margin-top: 25px; border-color: #fff;\">\n",
    "\n",
    "<h1 style=\"text-align: center; color: #9c0000;\">Chapter 2: Python Fundamentals</h1>\n",
    "\n",
    "<h3 style=\"padding-top: 7px; text-align: center;\">Sahar Pourghasemi, Mehrnoosh Mofidi\n",
    "</h3>\n",
    "\n",
    "<hr style=\"margin-top: 25px; border-color: #fff;\">\n",
    "\n",
    "</div>"
   ]
  },
  {
   "cell_type": "markdown",
   "metadata": {},
   "source": [
    "<div style=\"font-family: arial; padding: 30px; padding-top: 15px; padding-bottom: 0;\">\n",
    "\n",
    "<hr style=\"margin-top: 25px; border-color: #fff;\">\n",
    "\n",
    "<h2 style=\"text-align: center; color: #186e00;\">Section 5: Main Programming Paradigms\n",
    "\n",
    "</h2>\n",
    "\n",
    "<hr style=\"margin-top: 25px; border-color: #fff;\">\n",
    "\n",
    "</div>\n"
   ]
  },
  {
   "cell_type": "markdown",
   "metadata": {},
   "source": [
    "<div style=\"font-family: arial; padding: 30px; padding-top: 0; padding-bottom: 0;\">\n",
    "    \n",
    "<h2 id=\"introduction\" style=\"color: #d42c06;\">Procedural Programming \n",
    "</h2>\n",
    "\n",
    "</div>"
   ]
  },
  {
   "cell_type": "markdown",
   "metadata": {},
   "source": [
    "<div style=\"font-size: 1.1em; font-family: arial; padding: 30px; padding-top: 0; padding-bottom: 0;\">\n",
    "<p>Procedural programming is a programming paradigm that focuses on defining procedures or routines to perform computational tasks. It emphasizes the use of procedures, which are sets of instructions or operations that perform specific tasks. In procedural programming, the program is divided into smaller, manageable procedures that are executed sequentially. These procedures may have inputs (parameters) and outputs (return values), and they can call each other to achieve the desired functionality. Key features of procedural programming include the use of functions, variables, loops, and conditional statements to control the flow of execution.</p>\n",
    "</div>"
   ]
  },
  {
   "cell_type": "markdown",
   "metadata": {},
   "source": [
    "<div style=\"font-family: arial; padding: 30px; padding-top: 0; padding-bottom: 0;\">\n",
    "    \n",
    "<h2 id=\"introduction\" style=\"color: #d42c06;\">Functional Programming \n",
    "</h2>\n",
    "\n",
    "</div>"
   ]
  },
  {
   "cell_type": "markdown",
   "metadata": {},
   "source": [
    "<div style=\"font-size: 1.1em; font-family: arial; padding: 30px; padding-top: 0; padding-bottom: 0;\">\n",
    "<p>Functional programming is a programming paradigm that treats computation as the evaluation of mathematical functions and avoids changing state and mutable data. It emphasizes the use of pure functions, which have no side effects and produce the same output for the same input. In functional programming, functions are first-class citizens, meaning they can be assigned to variables, passed as arguments to other functions, and returned from functions. Immutability, higher-order functions, recursion, and lazy evaluation are common concepts in functional programming. Functional programming languages, such as Haskell, Lisp, and Erlang, provide built-in support for functional programming constructs.</p>\n",
    "</div>"
   ]
  },
  {
   "cell_type": "markdown",
   "metadata": {},
   "source": [
    "<div style=\"font-family: arial; padding: 30px; padding-top: 0; padding-bottom: 0;\">\n",
    "    \n",
    "<h2 id=\"introduction\" style=\"color: #d42c06;\">Object-Oriented Programming (OOP) \n",
    "</h2>\n",
    "\n",
    "</div>"
   ]
  },
  {
   "cell_type": "markdown",
   "metadata": {},
   "source": [
    "<div style=\"font-size: 1.1em; font-family: arial; padding: 30px; padding-top: 0; padding-bottom: 0;\">\n",
    "<p>Object-Oriented Programming (OOP) is a programming paradigm based on the concept of \"objects,\" which are instances of classes that encapsulate data and behavior. It emphasizes the organization of code into reusable and modular components called classes, which define the structure and behavior of objects. OOP focuses on four main principles: encapsulation, inheritance, polymorphism, and abstraction. Encapsulation involves bundling data and methods that operate on the data into a single unit (class). Inheritance allows classes to inherit properties and behavior from other classes, enabling code reuse and hierarchical classification. Polymorphism enables objects to be treated as instances of their parent class or any of its subclasses, allowing for flexible and generic programming. Abstraction involves hiding the implementation details of a class and exposing only the necessary interfaces to interact with it.\n",
    "\n",
    "These programming paradigms have different approaches to organizing and structuring code, and each has its strengths and weaknesses. The choice of programming paradigm depends on the nature of the problem being solved, the requirements of the project, and the preferences of the developers. In practice, many modern programming languages support multiple paradigms, allowing developers to choose the most suitable approach for a given task.</p>\n",
    "</div>"
   ]
  },
  {
   "cell_type": "markdown",
   "metadata": {},
   "source": [
    "<div style=\"font-family: arial; padding: 30px; padding-top: 15px; padding-bottom: 0;\">\n",
    "\n",
    "<hr style=\"margin-top: 25px; border-color: #fff;\">\n",
    "\n",
    "<h2 style=\"text-align: center; color: #186e00;\">Section 6: Functional Programming in Python\n",
    "\n",
    "</h2>\n",
    "\n",
    "<hr style=\"margin-top: 25px; border-color: #fff;\">\n",
    "\n",
    "</div>\n"
   ]
  },
  {
   "cell_type": "markdown",
   "metadata": {},
   "source": [
    "<div style=\"font-family: arial; padding: 30px; padding-top: 0; padding-bottom: 0;\">\n",
    "    \n",
    "<h2 id=\"introduction\" style=\"color: #d42c06;\">Introduction to Functions \n",
    "</h2>\n",
    "\n",
    "</div>"
   ]
  },
  {
   "cell_type": "markdown",
   "metadata": {},
   "source": [
    "<div style=\"font-size: 1.1em; font-family: arial; padding: 30px; padding-top: 0; padding-bottom: 0;\">\n",
    "<span>In Python, a function is a block of reusable code that performs a specific task. Functions provide modularity, making it easier to break down complex tasks into smaller, more manageable parts. Here are the subtopics we'll cover:</span>\n",
    "\n",
    "</div>"
   ]
  },
  {
   "cell_type": "markdown",
   "metadata": {},
   "source": [
    "<div style=\"font-size: 1.1em; font-family: arial; padding: 30px; padding-top: 0; padding-bottom: 0;\">\n",
    "\n",
    "<h4>Built-in Functions</h4>\n",
    "\n",
    "\n",
    "<span>Python comes with a wide range of built-in functions that are readily available for use. These functions serve various purposes and can be used directly without the need for explicit definition..</span>\n",
    "\n",
    "<span>Example:</span>\n",
    "\n",
    "</div>"
   ]
  },
  {
   "cell_type": "code",
   "execution_count": null,
   "metadata": {},
   "outputs": [
    {
     "name": "stdout",
     "output_type": "stream",
     "text": [
      "Hello, World!\n"
     ]
    },
    {
     "data": {
      "text/plain": [
       "30"
      ]
     },
     "metadata": {},
     "output_type": "display_data"
    }
   ],
   "source": [
    "# Built-in functions\n",
    "print(\"Hello, World!\")  # Output: Hello, World!\n",
    "len([1, 2, 3, 4, 5])    # Output: 5\n",
    "max(10, 20, 30)         # Output: 30\n"
   ]
  },
  {
   "cell_type": "markdown",
   "metadata": {},
   "source": [
    "<div style=\"font-size: 1.1em; font-family: arial; padding: 30px; padding-top: 0; padding-bottom: 0;\">\n",
    "\n",
    "<h4>Defining a Function</h4>\n",
    "\n",
    "\n",
    "<span>To define a function in Python, you use the def keyword followed by the function name and parentheses containing any parameters the function accepts. The function body is then indented below the definition.</span>\n",
    "\n",
    "<span>Example:</span>\n",
    "\n",
    "</div>"
   ]
  },
  {
   "cell_type": "code",
   "execution_count": null,
   "metadata": {},
   "outputs": [],
   "source": [
    "# Defining a function\n",
    "def greet():\n",
    "    print(\"Hello, welcome to Python programming!\")\n"
   ]
  },
  {
   "cell_type": "markdown",
   "metadata": {},
   "source": [
    "<div style=\"font-size: 1.1em; font-family: arial; padding: 30px; padding-top: 0; padding-bottom: 0;\">\n",
    "\n",
    "<h4>Calling a Function</h4>\n",
    "\n",
    "\n",
    "<span>To execute the code within a function, you call the function by using its name followed by parentheses. If the function accepts arguments, you pass them within the parentheses.</span>\n",
    "\n",
    "<span>Example:</span>\n",
    "\n",
    "</div>"
   ]
  },
  {
   "cell_type": "code",
   "execution_count": null,
   "metadata": {},
   "outputs": [
    {
     "name": "stdout",
     "output_type": "stream",
     "text": [
      "Hello, welcome to Python programming!\n"
     ]
    }
   ],
   "source": [
    "# Calling a function\n",
    "greet()  # Output: Hello, welcome to Python programming!\n"
   ]
  },
  {
   "cell_type": "markdown",
   "metadata": {},
   "source": [
    "<div style=\"font-size: 1.1em; font-family: arial; padding: 30px; padding-top: 0; padding-bottom: 0;\">\n",
    "\n",
    "<h4>Function Docstring</h4>\n",
    "\n",
    "\n",
    "<span>A function docstring is a string literal placed immediately after the function header. It serves as documentation for the function, describing its purpose, usage, parameters, and return values.</span>\n",
    "\n",
    "<span>Example:</span>\n",
    "\n",
    "</div>"
   ]
  },
  {
   "cell_type": "code",
   "execution_count": null,
   "metadata": {},
   "outputs": [],
   "source": [
    "# Function with docstring\n",
    "def greet(name):\n",
    "    \"\"\"\n",
    "    Greets the user by their name.\n",
    "    \n",
    "    Parameters:\n",
    "    name (str): The name of the user.\n",
    "    \n",
    "    Returns:\n",
    "    str: A greeting message.\n",
    "    \"\"\"\n",
    "    return f\"Hello, {name}!\"\n"
   ]
  },
  {
   "cell_type": "markdown",
   "metadata": {},
   "source": [
    "<div style=\"font-size: 1.1em; font-family: arial; padding: 30px; padding-top: 0; padding-bottom: 0;\">\n",
    "\n",
    "<h4>Dynamic Typing</h4>\n",
    "\n",
    "\n",
    "<span>Python is dynamically typed, meaning that you don't need to declare the data type of a variable when you define it. Python automatically determines the type of the variable based on the value assigned to it..</span>\n",
    "\n",
    "<span>Example:</span>\n",
    "\n",
    "</div>"
   ]
  },
  {
   "cell_type": "code",
   "execution_count": null,
   "metadata": {},
   "outputs": [],
   "source": [
    "# Dynamic typing\n",
    "x = 10  # x is an integer\n",
    "x = \"Hello\"  # Now x is a string\n"
   ]
  },
  {
   "cell_type": "markdown",
   "metadata": {},
   "source": [
    "<div style=\"font-size: 1.1em; font-family: arial; padding: 30px; padding-top: 0; padding-bottom: 0;\">\n",
    "\n",
    "<h4>Return Values</h4>\n",
    "\n",
    "\n",
    "<span>A function can return a value using the ' return ' statement. The returned value can then be assigned to a variable or used in other expressions.</span>\n",
    "\n",
    "<span>Example:</span>\n",
    "\n",
    "</div>"
   ]
  },
  {
   "cell_type": "code",
   "execution_count": null,
   "metadata": {},
   "outputs": [
    {
     "name": "stdout",
     "output_type": "stream",
     "text": [
      "8\n"
     ]
    }
   ],
   "source": [
    "# Function with return value\n",
    "def add(a, b):\n",
    "    return a + b\n",
    "\n",
    "result = add(5, 3)\n",
    "print(result)  # Output: 8\n"
   ]
  },
  {
   "cell_type": "markdown",
   "metadata": {},
   "source": [
    "<div style=\"font-size: 1.1em; font-family: arial; padding: 30px; padding-top: 0; padding-bottom: 0;\">\n",
    "\n",
    "<h4>Yield Keyword</h4>\n",
    "\n",
    "\n",
    "<span>The ' yield ' keyword is used in generator functions to produce a sequence of values lazily, one at a time. It suspends the function's execution and saves its state, allowing it to resume from the same point later.</span>\n",
    "\n",
    "<span>Example:</span>\n",
    "\n",
    "</div>"
   ]
  },
  {
   "cell_type": "code",
   "execution_count": null,
   "metadata": {},
   "outputs": [
    {
     "name": "stdout",
     "output_type": "stream",
     "text": [
      "1\n",
      "2\n",
      "3\n"
     ]
    }
   ],
   "source": [
    "# Generator function using yield\n",
    "def generate_numbers():\n",
    "    yield 1\n",
    "    yield 2\n",
    "    yield 3\n",
    "\n",
    "# Using the generator\n",
    "gen = generate_numbers()\n",
    "print(next(gen))  # Output: 1\n",
    "print(next(gen))  # Output: 2\n",
    "print(next(gen))  # Output: 3\n"
   ]
  },
  {
   "cell_type": "markdown",
   "metadata": {},
   "source": [
    "<div style=\"font-family: arial; padding: 30px; padding-top: 0; padding-bottom: 0;\">\n",
    "    \n",
    "<h2 id=\"introduction\" style=\"color: #d42c06;\">Function Parameters\n",
    "</h2>\n",
    "\n",
    "</div>"
   ]
  },
  {
   "cell_type": "markdown",
   "metadata": {},
   "source": [
    "<div style=\"font-size: 1.1em; font-family: arial; padding: 30px; padding-top: 0; padding-bottom: 0;\">\n",
    "\n",
    "<h4>Positional Arguments\n",
    "</h4>\n",
    "\n",
    "\n",
    "<span>Positional arguments are passed to a function based on their position in the function call. The order and number of arguments must match the function definition.</span>\n",
    "\n",
    "<span>Example:</span>\n",
    "\n",
    "</div>"
   ]
  },
  {
   "cell_type": "code",
   "execution_count": null,
   "metadata": {},
   "outputs": [
    {
     "name": "stdout",
     "output_type": "stream",
     "text": [
      "Hello, Alice! You are 25 years old.\n"
     ]
    }
   ],
   "source": [
    "# Function with positional arguments\n",
    "def greet(name, age):\n",
    "    return f\"Hello, {name}! You are {age} years old.\"\n",
    "\n",
    "# Calling the function with positional arguments\n",
    "print(greet(\"Alice\", 25))  # Output: Hello, Alice! You are 25 years old.\n"
   ]
  },
  {
   "cell_type": "markdown",
   "metadata": {},
   "source": [
    "<div style=\"font-size: 1.1em; font-family: arial; padding: 30px; padding-top: 0; padding-bottom: 0;\">\n",
    "\n",
    "<h4>Type Annotation\n",
    "</h4>\n",
    "\n",
    "\n",
    "<span>Type annotations in Python allow you to specify the expected types of function parameters and return values. While they are optional, they provide clarity and help catch type-related errors during development.</span>\n",
    "\n",
    "<span>Example:</span>\n",
    "\n",
    "</div>"
   ]
  },
  {
   "cell_type": "code",
   "execution_count": null,
   "metadata": {},
   "outputs": [],
   "source": [
    "# Function with type annotation\n",
    "def add(a: int, b: int) -> int:\n",
    "    return a + b\n",
    "\n",
    "# Calling the function with type annotation\n",
    "result = add(5, 3)  # Output: 8\n"
   ]
  },
  {
   "cell_type": "markdown",
   "metadata": {},
   "source": [
    "<div style=\"font-size: 1.1em; font-family: arial; padding: 30px; padding-top: 0; padding-bottom: 0;\">\n",
    "\n",
    "<h4>Unpacking Iterables\n",
    "</h4>\n",
    "\n",
    "\n",
    "<span>You can pass an iterable object (like a list or tuple) to a function and unpack its elements as individual arguments using the ' * ' operator.</span>\n",
    "\n",
    "<span>Example:</span>\n",
    "\n",
    "</div>"
   ]
  },
  {
   "cell_type": "code",
   "execution_count": null,
   "metadata": {},
   "outputs": [
    {
     "name": "stdout",
     "output_type": "stream",
     "text": [
      "Hello, Alice! You are 25 years old.\n"
     ]
    }
   ],
   "source": [
    "# Function with unpacking of iterable\n",
    "def greet(name, age):\n",
    "    return f\"Hello, {name}! You are {age} years old.\"\n",
    "\n",
    "# Unpacking a list and passing its elements as arguments\n",
    "info = [\"Alice\", 25]\n",
    "print(greet(*info))  # Output: Hello, Alice! You are 25 years old.\n"
   ]
  },
  {
   "cell_type": "markdown",
   "metadata": {},
   "source": [
    "<div style=\"font-size: 1.1em; font-family: arial; padding: 30px; padding-top: 0; padding-bottom: 0;\">\n",
    "\n",
    "<h4>Extended Unpacking\n",
    "</h4>\n",
    "\n",
    "\n",
    "<span>Extended unpacking allows you to assign multiple values to multiple variables simultaneously. It's useful when working with sequences of known length.</span>\n",
    "\n",
    "<span>Example:</span>\n",
    "\n",
    "</div>"
   ]
  },
  {
   "cell_type": "code",
   "execution_count": null,
   "metadata": {},
   "outputs": [
    {
     "name": "stdout",
     "output_type": "stream",
     "text": [
      "1\n",
      "[2, 3, 4, 5]\n"
     ]
    }
   ],
   "source": [
    "# Extended unpacking\n",
    "first, *rest = [1, 2, 3, 4, 5]\n",
    "print(first)  # Output: 1\n",
    "print(rest)   # Output: [2, 3, 4, 5]\n"
   ]
  },
  {
   "cell_type": "markdown",
   "metadata": {},
   "source": [
    "<div style=\"font-size: 1.1em; font-family: arial; padding: 30px; padding-top: 0; padding-bottom: 0;\">\n",
    "\n",
    "<h4>*args and **kwargs\n",
    "</h4>\n",
    "\n",
    "\n",
    "<span>The ' *args ' and ' **kwargs ' parameters allow functions to accept an arbitrary number of positional and keyword arguments, respectively.</span>\n",
    "\n",
    "<span>Example:</span>\n",
    "\n",
    "</div>"
   ]
  },
  {
   "cell_type": "code",
   "execution_count": null,
   "metadata": {},
   "outputs": [
    {
     "name": "stdout",
     "output_type": "stream",
     "text": [
      "Positional arguments: (1, 2, 3)\n",
      "Keyword arguments: {'name': 'Alice', 'age': 25}\n"
     ]
    }
   ],
   "source": [
    "# Function with *args and **kwargs\n",
    "def print_args(*args, **kwargs):\n",
    "    print(\"Positional arguments:\", args)\n",
    "    print(\"Keyword arguments:\", kwargs)\n",
    "\n",
    "# Calling the function with arbitrary arguments\n",
    "print_args(1, 2, 3, name=\"Alice\", age=25)\n"
   ]
  },
  {
   "cell_type": "markdown",
   "metadata": {},
   "source": [
    "<div style=\"font-size: 1.1em; font-family: arial; padding: 30px; padding-top: 0; padding-bottom: 0;\">\n",
    "\n",
    "<h4>Parameter Default Values\n",
    "</h4>\n",
    "\n",
    "\n",
    "<span>You can specify default values for function parameters. If a parameter is not provided in the function call, the default value is used.</span>\n",
    "\n",
    "<span>Example:</span>\n",
    "\n",
    "</div>"
   ]
  },
  {
   "cell_type": "code",
   "execution_count": null,
   "metadata": {},
   "outputs": [
    {
     "name": "stdout",
     "output_type": "stream",
     "text": [
      "Hello, Guest!\n",
      "Hello, Bob!\n"
     ]
    }
   ],
   "source": [
    "# Function with default parameter values\n",
    "def greet(name=\"Guest\"):\n",
    "    return f\"Hello, {name}!\"\n",
    "\n",
    "# Calling the function with and without providing a value\n",
    "print(greet())      # Output: Hello, Guest!\n",
    "print(greet(\"Bob\")) # Output: Hello, Bob!\n"
   ]
  },
  {
   "cell_type": "markdown",
   "metadata": {},
   "source": [
    "<div style=\"font-family: arial; padding: 30px; padding-top: 0; padding-bottom: 0;\">\n",
    "    \n",
    "<h2 id=\"introduction\" style=\"color: #d42c06;\">First-class Functions  \n",
    "</h2>\n",
    "\n",
    "</div>"
   ]
  },
  {
   "cell_type": "markdown",
   "metadata": {},
   "source": [
    "<div style=\"font-size: 1.1em; font-family: arial; padding: 30px; padding-top: 0; padding-bottom: 0;\">\n",
    "\n",
    "<h4>Lambda Expressions\n",
    "\n",
    "</h4>\n",
    "\n",
    "\n",
    "<span>Lambda expressions, also known as anonymous functions, are small, inline functions defined using the lambda keyword. They are commonly used for short, one-off operations..</span>\n",
    "</div>"
   ]
  },
  {
   "cell_type": "markdown",
   "metadata": {},
   "source": [
    "<div style=\"font-size: 1.1em; font-family: arial; padding: 30px; padding-top: 0; padding-bottom: 0;\">\n",
    "\n",
    "<li>Assigning to a Variable\n",
    "</li>\n",
    "\n",
    "\n",
    "<span>You can assign a lambda function to a variable for later use.\n",
    "\n",
    "</span>\n",
    "\n",
    "<span>Example:</span>\n",
    "\n",
    "</div>"
   ]
  },
  {
   "cell_type": "code",
   "execution_count": null,
   "metadata": {},
   "outputs": [
    {
     "name": "stdout",
     "output_type": "stream",
     "text": [
      "8\n"
     ]
    }
   ],
   "source": [
    "# Assigning a lambda function to a variable\n",
    "add = lambda x, y: x + y\n",
    "print(add(3, 5))  # Output: 8\n"
   ]
  },
  {
   "cell_type": "markdown",
   "metadata": {},
   "source": [
    "<div style=\"font-size: 1.1em; font-family: arial; padding: 30px; padding-top: 0; padding-bottom: 0;\">\n",
    "\n",
    "<li>Passing as an Argument\n",
    "</li>\n",
    "\n",
    "\n",
    "<span>Lambda functions can be passed as arguments to other functions.\n",
    "\n",
    "</span>\n",
    "\n",
    "<span>Example:</span>\n",
    "\n",
    "</div>"
   ]
  },
  {
   "cell_type": "code",
   "execution_count": null,
   "metadata": {},
   "outputs": [
    {
     "name": "stdout",
     "output_type": "stream",
     "text": [
      "15\n"
     ]
    }
   ],
   "source": [
    "# Function that accepts a lambda as an argument\n",
    "def apply_operation(x, y, operation):\n",
    "    return operation(x, y)\n",
    "\n",
    "# Using a lambda function as an argument\n",
    "result = apply_operation(3, 5, lambda a, b: a * b)\n",
    "print(result)  # Output: 15\n"
   ]
  },
  {
   "cell_type": "markdown",
   "metadata": {},
   "source": [
    "<div style=\"font-size: 1.1em; font-family: arial; padding: 30px; padding-top: 0; padding-bottom: 0;\">\n",
    "\n",
    "<li>Lambdas and Sorting\n",
    "</li>\n",
    "\n",
    "\n",
    "<span>Lambda functions are commonly used in sorting operations, where a key function can be specified.\n",
    "\n",
    "</span>\n",
    "\n",
    "<span>Example:</span>\n",
    "\n",
    "</div>"
   ]
  },
  {
   "cell_type": "code",
   "execution_count": null,
   "metadata": {},
   "outputs": [
    {
     "name": "stdout",
     "output_type": "stream",
     "text": [
      "[(3, 'a'), (2, 'c'), (1, 'z')]\n"
     ]
    }
   ],
   "source": [
    "# Sorting a list of tuples based on the second element using a lambda function\n",
    "data = [(1, 'z'), (3, 'a'), (2, 'c')]\n",
    "sorted_data = sorted(data, key=lambda x: x[1])\n",
    "print(sorted_data)  # Output: [(3, 'a'), (2, 'c'), (1, 'z')]\n"
   ]
  },
  {
   "cell_type": "markdown",
   "metadata": {},
   "source": [
    "<div style=\"font-size: 1.1em; font-family: arial; padding: 30px; padding-top: 0; padding-bottom: 0;\">\n",
    "\n",
    "<h4>Callables\n",
    "\n",
    "</h4>\n",
    "\n",
    "\n",
    "<span>In Python, a callable is anything that can be called like a function. This includes regular functions, methods, and callable objects like lambdas.</span>\n",
    "</div>"
   ]
  },
  {
   "cell_type": "markdown",
   "metadata": {},
   "source": [
    "<div style=\"font-size: 1.1em; font-family: arial; padding: 30px; padding-top: 0; padding-bottom: 0;\">\n",
    "\n",
    "<li>Regular Functions: These are the typical functions defined using the ' def ' keyword.\n",
    "</li>\n",
    "\n",
    "</div>"
   ]
  },
  {
   "cell_type": "code",
   "execution_count": null,
   "metadata": {},
   "outputs": [],
   "source": [
    "def greet(name):\n",
    "    return f\"Hello, {name}!\"\n",
    "    \n",
    "result = greet(\"Alice\")  # Calling the function\n"
   ]
  },
  {
   "cell_type": "markdown",
   "metadata": {},
   "source": [
    "<div style=\"font-size: 1.1em; font-family: arial; padding: 30px; padding-top: 0; padding-bottom: 0;\">\n",
    "\n",
    "<li>Methods: Methods are functions defined inside a class and can be called on instances of that class.\n",
    "</li>\n",
    "\n",
    "</div>"
   ]
  },
  {
   "cell_type": "code",
   "execution_count": null,
   "metadata": {},
   "outputs": [],
   "source": [
    "class MyClass:\n",
    "    def greet(self, name):\n",
    "        return f\"Hello, {name}!\"\n",
    "\n",
    "obj = MyClass()\n",
    "result = obj.greet(\"Bob\")  # Calling the method\n"
   ]
  },
  {
   "cell_type": "markdown",
   "metadata": {},
   "source": [
    "<div style=\"font-size: 1.1em; font-family: arial; padding: 30px; padding-top: 0; padding-bottom: 0;\">\n",
    "\n",
    "<li>Callable Objects: These are objects that have the ' _ _ call _ _ () ' method defined, allowing them to be called like functions.\n",
    "</li>\n",
    "\n",
    "</div>"
   ]
  },
  {
   "cell_type": "code",
   "execution_count": null,
   "metadata": {},
   "outputs": [],
   "source": [
    "class MyCallable:\n",
    "    def __call__(self, name):\n",
    "        return f\"Hello, {name}!\"\n",
    "\n",
    "obj = MyCallable()\n",
    "result = obj(\"Charlie\")  # Calling the callable object\n"
   ]
  },
  {
   "cell_type": "markdown",
   "metadata": {},
   "source": [
    "<div style=\"font-size: 1.1em; font-family: arial; padding: 30px; padding-top: 0; padding-bottom: 0;\">\n",
    "\n",
    "<li>Lambda Functions: Lambda functions are anonymous functions defined using the ' lambda ' keyword.\n",
    "</li>\n",
    "\n",
    "</div>"
   ]
  },
  {
   "cell_type": "code",
   "execution_count": null,
   "metadata": {},
   "outputs": [],
   "source": [
    "square = lambda x: x ** 2\n",
    "result = square(5)  # Calling the lambda function\n"
   ]
  },
  {
   "cell_type": "markdown",
   "metadata": {},
   "source": [
    "<div style=\"font-size: 1.1em; font-family: arial; padding: 30px; padding-top: 0; padding-bottom: 0;\">\n",
    "\n",
    "<li>Built-in Functions: Python provides many built-in functions that are callable.\n",
    "</li>\n",
    "\n",
    "</div>"
   ]
  },
  {
   "cell_type": "code",
   "execution_count": null,
   "metadata": {},
   "outputs": [],
   "source": [
    "result = len(\"Python\")  # Calling the built-in function len()\n"
   ]
  },
  {
   "cell_type": "markdown",
   "metadata": {},
   "source": [
    "<div style=\"font-size: 1.1em; font-family: arial; padding: 30px; padding-top: 0; padding-bottom: 0;\">\n",
    "\n",
    "<h4> Higher-Order Functions</h4>\n",
    "\n",
    "\n",
    "<span>Higher-order functions are functions that can accept other functions as arguments or return functions as results. Examples include ' map() ', ' filter() ', and ' zip() '.</span>\n",
    "\n",
    "<ul>\n",
    "    <li>' map() ': Applies a function to all the items in an input list.</li>\n",
    "    <br>\n",
    "    <li>' filter() ': Filters out elements from a sequence based on a condition.</li>\n",
    "    <br>\n",
    "    <li>' zip() ': Aggregates elements from two or more iterables into tuples</li>\n",
    "</ul>\n",
    "\n",
    "<span>Example:</span>\n",
    "</div>"
   ]
  },
  {
   "cell_type": "code",
   "execution_count": null,
   "metadata": {},
   "outputs": [
    {
     "name": "stdout",
     "output_type": "stream",
     "text": [
      "[1, 4, 9, 16, 25]\n",
      "[2, 4]\n",
      "[(1, 1), (2, 4), (3, 9), (4, 16), (5, 25)]\n"
     ]
    }
   ],
   "source": [
    "# Using map(), filter(), and zip()\n",
    "numbers = [1, 2, 3, 4, 5]\n",
    "squared = list(map(lambda x: x**2, numbers))\n",
    "evens = list(filter(lambda x: x % 2 == 0, numbers))\n",
    "pairs = list(zip(numbers, squared))\n",
    "\n",
    "print(squared)  # Output: [1, 4, 9, 16, 25]\n",
    "print(evens)    # Output: [2, 4]\n",
    "print(pairs)    # Output: [(1, 1), (2, 4), (3, 9), (4, 16), (5, 25)]\n"
   ]
  },
  {
   "cell_type": "markdown",
   "metadata": {},
   "source": [
    "<div style=\"font-family: arial; padding: 30px; padding-top: 0; padding-bottom: 0;\">\n",
    "    \n",
    "<h2 id=\"introduction\" style=\"color: #d42c06;\">Scopes  \n",
    "</h2>\n",
    "\n",
    "</div>"
   ]
  },
  {
   "cell_type": "markdown",
   "metadata": {},
   "source": [
    "<div style=\"font-size: 1.1em; font-family: arial; padding: 30px; padding-top: 0; padding-bottom: 0;\">\n",
    "\n",
    "<h4>Global Scope:\n",
    "\n",
    "</h4>\n",
    "\n",
    "\n",
    "<span> Variables defined outside of any function or class have global scope. They can be accessed from anywhere in the code.</span>\n",
    "</div>"
   ]
  },
  {
   "cell_type": "code",
   "execution_count": null,
   "metadata": {},
   "outputs": [
    {
     "name": "stdout",
     "output_type": "stream",
     "text": [
      "10\n"
     ]
    }
   ],
   "source": [
    "global_var = 10\n",
    "\n",
    "def my_function():\n",
    "    print(global_var)  # Accessing global variable\n",
    "\n",
    "my_function()  # Output: 10\n"
   ]
  },
  {
   "cell_type": "markdown",
   "metadata": {},
   "source": [
    "<div style=\"font-size: 1.1em; font-family: arial; padding: 30px; padding-top: 0; padding-bottom: 0;\">\n",
    "\n",
    "<li>global Keyword: Inside a function, you can use the global keyword to declare a variable as global, allowing you to modify the global variable from within the function.\n",
    "</li>\n",
    "\n",
    "</div>"
   ]
  },
  {
   "cell_type": "code",
   "execution_count": null,
   "metadata": {},
   "outputs": [
    {
     "name": "stdout",
     "output_type": "stream",
     "text": [
      "20\n"
     ]
    }
   ],
   "source": [
    "global_var = 10\n",
    "\n",
    "def my_function():\n",
    "    global global_var\n",
    "    global_var = 20\n",
    "\n",
    "my_function()\n",
    "print(global_var)  # Output: 20\n"
   ]
  },
  {
   "cell_type": "markdown",
   "metadata": {},
   "source": [
    "<div style=\"font-size: 1.1em; font-family: arial; padding: 30px; padding-top: 0; padding-bottom: 0;\">\n",
    "\n",
    "<h4>Local Scope:\n",
    "\n",
    "</h4>\n",
    "\n",
    "\n",
    "<span> Variables defined within a function have local scope. They are accessible only within that function.</span>\n",
    "</div>"
   ]
  },
  {
   "cell_type": "code",
   "execution_count": null,
   "metadata": {},
   "outputs": [
    {
     "name": "stdout",
     "output_type": "stream",
     "text": [
      "5\n"
     ]
    }
   ],
   "source": [
    "def my_function():\n",
    "    local_var = 5\n",
    "    print(local_var)  # Accessing local variable\n",
    "\n",
    "my_function()  # Output: 5\n"
   ]
  },
  {
   "cell_type": "markdown",
   "metadata": {},
   "source": [
    "<div style=\"font-size: 1.1em; font-family: arial; padding: 30px; padding-top: 0; padding-bottom: 0;\">\n",
    "\n",
    "<li>Nonlocal Scope: In nested functions, the nonlocal keyword allows you to access and modify variables in the outer (enclosing) function's scope.\n",
    "</li>\n",
    "\n",
    "</div>"
   ]
  },
  {
   "cell_type": "code",
   "execution_count": null,
   "metadata": {},
   "outputs": [
    {
     "name": "stdout",
     "output_type": "stream",
     "text": [
      "20\n"
     ]
    }
   ],
   "source": [
    "def outer_function():\n",
    "    outer_var = 10\n",
    "\n",
    "    def inner_function():\n",
    "        nonlocal outer_var\n",
    "        outer_var = 20\n",
    "\n",
    "    inner_function()\n",
    "    print(outer_var)  # Output: 20\n",
    "\n",
    "outer_function()\n"
   ]
  },
  {
   "cell_type": "markdown",
   "metadata": {},
   "source": [
    "<div style=\"font-family: arial; padding: 30px; padding-top: 0; padding-bottom: 0;\">\n",
    "    \n",
    "<h2 id=\"introduction\" style=\"color: #d42c06;\">Decorators  \n",
    "</h2>\n",
    "\n",
    "</div>"
   ]
  },
  {
   "cell_type": "markdown",
   "metadata": {},
   "source": [
    "<div style=\"font-size: 1.1em; font-family: arial; padding: 30px; padding-top: 0; padding-bottom: 0;\">\n",
    "<span> Decorators are a powerful feature in Python that allow you to modify or extend the behavior of functions or methods without changing their source code. Decorators are functions themselves that wrap around other functions or methods to provide additional functionality.</span>\n",
    "</div>"
   ]
  },
  {
   "cell_type": "markdown",
   "metadata": {},
   "source": [
    "<div style=\"font-size: 1.1em; font-family: arial; padding: 30px; padding-top: 0; padding-bottom: 0;\">\n",
    "\n",
    "<h4> Introduction to Decorators:</h4>\n",
    "<ul>\n",
    "    <li>Definition: Decorators are functions that take another function as input and return a new function.</li>\n",
    "    <br>\n",
    "    <li>Syntax: Decorators are typically denoted by the ' @decorator_name ' syntax followed by the function definition.</li>\n",
    "</ul>\n",
    "</div>"
   ]
  },
  {
   "cell_type": "markdown",
   "metadata": {},
   "source": [
    "<div style=\"font-size: 1.1em; font-family: arial; padding: 30px; padding-top: 0; padding-bottom: 0;\">\n",
    "\n",
    "<h4>Applications of Decorators:\n",
    "\n",
    "</h4>\n",
    "\n",
    "\n",
    "<li> Logging: Decorators can be used to log function calls, arguments, and return values for debugging purposes.</li>\n",
    "</div>"
   ]
  },
  {
   "cell_type": "code",
   "execution_count": null,
   "metadata": {},
   "outputs": [
    {
     "name": "stdout",
     "output_type": "stream",
     "text": [
      "Calling add with args: (5, 3), kwargs: {}\n",
      "add returned: 8\n"
     ]
    },
    {
     "data": {
      "text/plain": [
       "8"
      ]
     },
     "metadata": {},
     "output_type": "display_data"
    }
   ],
   "source": [
    "def log(func):\n",
    "    def wrapper(*args, **kwargs):\n",
    "        print(f\"Calling {func.__name__} with args: {args}, kwargs: {kwargs}\")\n",
    "        result = func(*args, **kwargs)\n",
    "        print(f\"{func.__name__} returned: {result}\")\n",
    "        return result\n",
    "    return wrapper\n",
    "\n",
    "@log\n",
    "def add(a, b):\n",
    "    return a + b\n",
    "\n",
    "add(5, 3)\n"
   ]
  },
  {
   "cell_type": "markdown",
   "metadata": {},
   "source": [
    "<div style=\"font-size: 1.1em; font-family: arial; padding: 30px; padding-top: 0; padding-bottom: 0;\">\n",
    "<li> Authentication and Authorization: Decorators can be used to enforce access control by checking user authentication and authorization before executing a function.</li>\n",
    "</div>"
   ]
  },
  {
   "cell_type": "code",
   "execution_count": null,
   "metadata": {},
   "outputs": [],
   "source": [
    "def authenticate(func):\n",
    "    def wrapper(user):\n",
    "        if user.is_authenticated:\n",
    "            return func(user)\n",
    "        else:\n",
    "            raise PermissionError(\"User is not authenticated\")\n",
    "    return wrapper\n",
    "\n",
    "@authenticate\n",
    "def get_sensitive_data(user):\n",
    "    return \"Sensitive data\"\n",
    "\n"
   ]
  },
  {
   "cell_type": "markdown",
   "metadata": {},
   "source": [
    "<div style=\"font-size: 1.1em; font-family: arial; padding: 30px; padding-top: 0; padding-bottom: 0;\">\n",
    "<li> Caching: Decorators can cache function results to improve performance by storing previously computed values and returning them for identical inputs.</li>\n",
    "</div>"
   ]
  },
  {
   "cell_type": "code",
   "execution_count": null,
   "metadata": {},
   "outputs": [],
   "source": [
    "def cache(func):\n",
    "    cached_results = {}\n",
    "    def wrapper(*args):\n",
    "        if args not in cached_results:\n",
    "            cached_results[args] = func(*args)\n",
    "        return cached_results[args]\n",
    "    return wrapper\n",
    "\n",
    "@cache\n",
    "def factorial(n):\n",
    "    if n == 0:\n",
    "        return 1\n",
    "    else:\n",
    "        return n * factorial(n - 1)\n"
   ]
  },
  {
   "cell_type": "markdown",
   "metadata": {},
   "source": [
    "<div style=\"font-size: 1.1em; font-family: arial; padding: 30px; padding-top: 0; padding-bottom: 0;\">\n",
    "<li>Timing: Decorators can be used to measure the execution time of functions.</li>\n",
    "</div>"
   ]
  },
  {
   "cell_type": "code",
   "execution_count": null,
   "metadata": {},
   "outputs": [],
   "source": [
    "import time\n",
    "\n",
    "def timer(func):\n",
    "    def wrapper(*args, **kwargs):\n",
    "        start_time = time.time()\n",
    "        result = func(*args, **kwargs)\n",
    "        end_time = time.time()\n",
    "        print(f\"{func.__name__} executed in {end_time - start_time} seconds\")\n",
    "        return result\n",
    "    return wrapper\n",
    "\n",
    "@timer\n",
    "def slow_function():\n",
    "    time.sleep(2)\n",
    "    return \"Done\"\n",
    "\n"
   ]
  },
  {
   "cell_type": "markdown",
   "metadata": {},
   "source": [
    "<div style=\"font-size: 1.1em; font-family: arial; padding: 30px; padding-top: 0; padding-bottom: 0;\">\n",
    "<p>Decorators provide a clean and concise way to add functionality to existing functions or methods, making code more modular, readable, and maintainable. They are widely used in Python for various purposes such as logging, caching, authentication, and more.</p>\n",
    "</div>"
   ]
  },
  {
   "cell_type": "markdown",
   "metadata": {},
   "source": [
    "<div style=\"font-family: arial; padding: 30px; padding-top: 15px; padding-bottom: 0;\">\n",
    "\n",
    "<hr style=\"margin-top: 25px; border-color: #fff;\">\n",
    "\n",
    "<h2 style=\"text-align: center; color: #186e00;\">Section 7: Object-Oriented Programming (OOP)\n",
    "\n",
    "</h2>\n",
    "\n",
    "<hr style=\"margin-top: 25px; border-color: #fff;\">\n",
    "\n",
    "</div>\n"
   ]
  },
  {
   "cell_type": "markdown",
   "metadata": {},
   "source": [
    "<div style=\"font-family: arial; padding: 30px; padding-top: 0; padding-bottom: 0;\">\n",
    "    \n",
    "<h2 id=\"introduction\" style=\"color: #d42c06;\">Classes\n",
    "</h2>\n",
    "\n",
    "</div>"
   ]
  },
  {
   "cell_type": "markdown",
   "metadata": {},
   "source": [
    "<div style=\"font-size: 1.1em; font-family: arial; padding: 30px; padding-top: 0; padding-bottom: 0;\">\n",
    "\n",
    "<h4>Defining a class</h4>\n",
    "\n",
    "\n",
    "<span>In Python, defining a class is straightforward. You use the class keyword followed by the name of your class, and then begin a new block where you can define methods just like regular functions.</span>\n",
    "\n",
    "<span>Let's review an example:</span>\n",
    "\n",
    "</div>"
   ]
  },
  {
   "cell_type": "code",
   "execution_count": null,
   "metadata": {},
   "outputs": [
    {
     "name": "stdout",
     "output_type": "stream",
     "text": [
      "Hello, John\n"
     ]
    }
   ],
   "source": [
    "class Greetings:\n",
    "    def greet(self, name):\n",
    "        return f\"Hello, {name}\"\n",
    "\n",
    "c = Greetings()\n",
    "print(c.greet(\"John\"))  # Output: \"Hello, John\"\n"
   ]
  },
  {
   "cell_type": "markdown",
   "metadata": {},
   "source": [
    "<div style=\"font-size: 1.1em; font-family: arial; padding: 30px;\">\n",
    "<div style=\"border: 2px solid #1f49a3; border-radius: 10px; padding: 30px; padding-top: 15px;\">\n",
    "<h3 style=\"color: #1f49a3; font-weight: bold;\">Class and method naming</h3>\n",
    "<span style=\"color: #1f49a3;\">By convention, classes should be named using camel case: MyWonderfulClass but not\n",
    "my_wonderful_class. Methods should use snake case, like regular functions.</span>\n",
    "</div>\n",
    "</div>"
   ]
  },
  {
   "cell_type": "markdown",
   "metadata": {},
   "source": [
    "<div style=\"font-size: 1.1em; font-family: arial; padding: 30px; padding-top: 0; padding-bottom: 0;\">\n",
    "\n",
    "<h4> Self Parameter</h4>\n",
    "\n",
    "\n",
    "<span>The first argument of each method in Python classes must be self, which refers to the current object instance (similar to this in other languages).</span>\n",
    "\n",
    "</div>"
   ]
  },
  {
   "cell_type": "markdown",
   "metadata": {},
   "source": [
    "<div style=\"font-size: 1.1em; font-family: arial; padding: 30px; padding-top: 0; padding-bottom: 0;\">\n",
    "\n",
    "<h4>  Creating an Object</h4>\n",
    "\n",
    "\n",
    "<span>To instantiate a class, simply call the class as you would for a function and assign it to a variable. You can then access the methods using dot notation.</span>\n",
    "\n",
    "</div>"
   ]
  },
  {
   "cell_type": "markdown",
   "metadata": {},
   "source": [
    "<div style=\"font-size: 1.1em; font-family: arial; padding: 30px; padding-top: 0; padding-bottom: 0;\">\n",
    "\n",
    "<h4>Modifying Object Properties</h4>\n",
    "\n",
    "\n",
    "<span>We can modify object properties by accessing them using dot notation and assigning new values.</span>\n",
    "\n",
    "</div>"
   ]
  },
  {
   "cell_type": "code",
   "execution_count": null,
   "metadata": {},
   "outputs": [],
   "source": [
    "class Person:\n",
    "    def __init__(self, name):\n",
    "        self.name = name\n",
    "\n",
    "# Creating an object\n",
    "person = Person(\"Alice\")\n",
    "\n",
    "# Modifying object properties\n",
    "person.name = \"Bob\"\n"
   ]
  },
  {
   "cell_type": "markdown",
   "metadata": {},
   "source": [
    "<div style=\"font-size: 1.1em; font-family: arial; padding: 30px; padding-top: 0; padding-bottom: 0;\">\n",
    "\n",
    "<h4>Deleting Object, Deleting Object Properties</h4>\n",
    "\n",
    "\n",
    "<span>To delete an entire object, we can use the ' del ' keyword followed by the object name.\n",
    "\n",
    "</span>\n",
    "\n",
    "</div>"
   ]
  },
  {
   "cell_type": "code",
   "execution_count": null,
   "metadata": {},
   "outputs": [],
   "source": [
    "# Deleting object\n",
    "del person\n"
   ]
  },
  {
   "cell_type": "markdown",
   "metadata": {},
   "source": [
    "<div style=\"font-size: 1.1em; font-family: arial; padding: 30px; padding-top: 0; padding-bottom: 0;\">\n",
    "\n",
    "<span>The ' del ' keyword is used to delete both object properties and entire objects. When an object is deleted, it is removed from memory and can no longer be accessed.</span>\n",
    "\n",
    "</div>"
   ]
  },
  {
   "cell_type": "code",
   "execution_count": null,
   "metadata": {},
   "outputs": [
    {
     "name": "stdout",
     "output_type": "stream",
     "text": [
      "Before deletion:\n",
      "Name: Alice\n",
      "Age: 30\n",
      "\n",
      "After deletion:\n",
      "Name: Alice\n"
     ]
    }
   ],
   "source": [
    "class Person:\n",
    "    def __init__(self, name, age):\n",
    "        self.name = name\n",
    "        self.age = age\n",
    "\n",
    "# Creating an object\n",
    "person = Person(\"Alice\", 30)\n",
    "\n",
    "# Deleting object property\n",
    "print(\"Before deletion:\")\n",
    "print(\"Name:\", person.name)\n",
    "print(\"Age:\", person.age)\n",
    "\n",
    "del person.age  # Deleting object property\n",
    "\n",
    "print(\"\\nAfter deletion:\")\n",
    "print(\"Name:\", person.name)\n",
    "\n",
    "# Attempting to access the deleted property will raise an AttributeError\n",
    "# print(\"Age:\", person.age)  # This line will raise an AttributeError\n"
   ]
  },
  {
   "cell_type": "markdown",
   "metadata": {},
   "source": [
    "<div style=\"font-size: 1.1em; font-family: arial; padding: 30px; padding-top: 0; padding-bottom: 0;\">\n",
    "\n",
    "<h4> Dunder Methods</h4>\n",
    "\n",
    "\n",
    "<span>Dunder methods, or magic methods, are special methods in Python surrounded by double underscores (e.g., '_ _ init _ _', '_ _ str _ _'). They are used to perform various operations like initialization, representation, and more.</span>\n",
    "<br>\n",
    "<br>\n",
    "<span>Let's consider an example:</span>\n",
    "\n",
    "</div>"
   ]
  },
  {
   "cell_type": "code",
   "execution_count": null,
   "metadata": {},
   "outputs": [
    {
     "name": "stdout",
     "output_type": "stream",
     "text": [
      "Alan\n",
      "Hello, Alan\n",
      "Hello, John\n"
     ]
    }
   ],
   "source": [
    "class Greetings:\n",
    "    def __init__(self, default_name):\n",
    "        self.default_name = default_name\n",
    "        \n",
    "    def greet(self, name=None):\n",
    "        return f\"Hello, {name if name else self.default_name}\"\n",
    "\n",
    "c = Greetings(\"Alan\")\n",
    "print(c.default_name)  # Output: \"Alan\"\n",
    "print(c.greet())        # Output: \"Hello, Alan\"\n",
    "print(c.greet(\"John\"))  # Output: \"Hello, John\"\n"
   ]
  },
  {
   "cell_type": "markdown",
   "metadata": {},
   "source": [
    "<div style=\"font-size: 1.1em; font-family: arial; padding: 30px; padding-top: 0; padding-bottom: 0;\">\n",
    "\n",
    "<span>In this example, __init__ allows us to set a default name property, which will be used by the greet method if no name is provided in the argument.</span>\n",
    "\n",
    "</div>"
   ]
  },
  {
   "cell_type": "markdown",
   "metadata": {},
   "source": [
    "<div style=\"font-size: 1.1em; font-family: arial; padding: 30px;\">\n",
    "<div style=\"border: 2px solid #1f49a3; border-radius: 10px; padding: 30px; padding-top: 15px;\">\n",
    "<h3 style=\"color: #1f49a3; font-weight: bold;\">Private Methods and Properties</h3>\n",
    "<span style=\"color: #1f49a3;\">In Python, there is no strict concept of private methods or properties. However, by convention, you can prefix your private methods and properties with an underscore _ to suggest that they should be considered private.</span>\n",
    "</div>\n",
    "</div>"
   ]
  },
  {
   "cell_type": "markdown",
   "metadata": {},
   "source": [
    "<div style=\"font-family: arial; padding: 30px; padding-top: 0; padding-bottom: 0;\">\n",
    "    \n",
    "<h2 id=\"introduction\" style=\"color: #d42c06;\">Inheritance\n",
    "</h2>\n",
    "\n",
    "</div>"
   ]
  },
  {
   "cell_type": "markdown",
   "metadata": {},
   "source": [
    "<div style=\"font-size: 1.1em; font-family: arial; padding: 30px; padding-top: 0; padding-bottom: 0;\">\n",
    "\n",
    "\n",
    "<span>Inheritance is a powerful feature in Python's object-oriented programming paradigm that allows a new class to inherit attributes and methods from an existing class. This promotes code reuse and facilitates building complex systems by extending and specializing existing functionality.</span>\n",
    "\n",
    "</div>"
   ]
  },
  {
   "cell_type": "markdown",
   "metadata": {},
   "source": [
    "<div style=\"font-size: 1.1em; font-family: arial; padding: 30px; padding-top: 0; padding-bottom: 0;\">\n",
    "\n",
    "<h4>Creating a Parent Class</h4>\n",
    "\n",
    "\n",
    "<span>To create a parent class, define a class with the attributes and methods that you want to share with its child classes:</span>\n",
    "</div>"
   ]
  },
  {
   "cell_type": "code",
   "execution_count": null,
   "metadata": {},
   "outputs": [],
   "source": [
    "class Parent:\n",
    "    def __init__(self, name):\n",
    "        self.name = name\n",
    "\n",
    "    def greet(self):\n",
    "        return f\"Hello, my name is {self.name}\"\n"
   ]
  },
  {
   "cell_type": "markdown",
   "metadata": {},
   "source": [
    "<div style=\"font-size: 1.1em; font-family: arial; padding: 30px; padding-top: 0; padding-bottom: 0;\">\n",
    "\n",
    "<span>In this example, ' Parent ' is a simple class with an ' _ _ init _ _ ' constructor method and a ' greet ' method.\n",
    "\n",
    "</span>\n",
    "\n",
    "</div>"
   ]
  },
  {
   "cell_type": "markdown",
   "metadata": {},
   "source": [
    "<div style=\"font-size: 1.1em; font-family: arial; padding: 30px; padding-top: 0; padding-bottom: 0;\">\n",
    "\n",
    "<h4>Creating a Child Class</h4>\n",
    "\n",
    "\n",
    "<span>To create a child class that inherits from a parent class, specify the parent class in parentheses after the child class name:</span>\n",
    "\n",
    "</div>"
   ]
  },
  {
   "cell_type": "code",
   "execution_count": null,
   "metadata": {},
   "outputs": [],
   "source": [
    "class Child(Parent):\n",
    "    def __init__(self, name, age):\n",
    "        super().__init__(name)\n",
    "        self.age = age\n",
    "\n",
    "    def greet(self):\n",
    "        return f\"{super().greet()} and I am {self.age} years old\"\n"
   ]
  },
  {
   "cell_type": "markdown",
   "metadata": {},
   "source": [
    "<div style=\"font-size: 1.1em; font-family: arial; padding: 30px; padding-top: 0; padding-bottom: 0;\">\n",
    "\n",
    "<span>The ' Child ' class inherits from the ' Parent ' class. It can override methods from the parent class and introduce new attributes and methods.\n",
    "\n",
    "</span>\n",
    "\n",
    "</div>"
   ]
  },
  {
   "cell_type": "markdown",
   "metadata": {},
   "source": [
    "<div style=\"font-size: 1.1em; font-family: arial; padding: 30px; padding-top: 0; padding-bottom: 0;\">\n",
    "\n",
    "<h4>Using the super() Function</h4>\n",
    "\n",
    "\n",
    "<span>The ' super() ' function allows a subclass to call methods of its superclass. This is particularly useful when you want to extend or override methods from the parent class while still retaining their functionality.</span>\n",
    "\n",
    "</div>"
   ]
  },
  {
   "cell_type": "code",
   "execution_count": null,
   "metadata": {},
   "outputs": [],
   "source": [
    "class Child(Parent):\n",
    "    def __init__(self, name, age):\n",
    "        super().__init__(name)\n",
    "        self.age = age\n"
   ]
  },
  {
   "cell_type": "markdown",
   "metadata": {},
   "source": [
    "<div style=\"font-size: 1.1em; font-family: arial; padding: 30px; padding-top: 0; padding-bottom: 0;\">\n",
    "\n",
    "<span>In this example, ' super()._ _ init _ _(name) ' calls the constructor of the parent class ' Parent '.\n",
    "\n",
    "</span>\n",
    "\n",
    "</div>"
   ]
  },
  {
   "cell_type": "markdown",
   "metadata": {},
   "source": [
    "<div style=\"font-size: 1.1em; font-family: arial; padding: 30px; padding-top: 0; padding-bottom: 0;\">\n",
    "\n",
    "<h4>Adding Methods and Properties</h4>\n",
    "\n",
    "\n",
    "<span>Child classes can extend the functionality of parent classes by adding new methods and properties:</span>\n",
    "\n",
    "</div>"
   ]
  },
  {
   "cell_type": "code",
   "execution_count": null,
   "metadata": {},
   "outputs": [],
   "source": [
    "class Child(Parent):\n",
    "    def __init__(self, name, age):\n",
    "        super().__init__(name)\n",
    "        self.age = age\n",
    "\n",
    "    def celebrate_birthday(self):\n",
    "        self.age += 1\n"
   ]
  },
  {
   "cell_type": "markdown",
   "metadata": {},
   "source": [
    "<div style=\"font-size: 1.1em; font-family: arial; padding: 30px; padding-top: 0; padding-bottom: 0;\">\n",
    "\n",
    "<span>Here, the ' Child ' class introduces a new method ' celebrate_birthday() ' that increments the age attribute.</span>\n",
    "\n",
    "</div>"
   ]
  },
  {
   "cell_type": "markdown",
   "metadata": {},
   "source": [
    "<div style=\"font-family: arial; padding: 30px; padding-top: 0; padding-bottom: 0;\">\n",
    "    \n",
    "<h2 id=\"introduction\" style=\"color: #d42c06;\">Iterators\n",
    "</h2>\n",
    "\n",
    "</div>"
   ]
  },
  {
   "cell_type": "markdown",
   "metadata": {},
   "source": [
    "<div style=\"font-size: 1.1em; font-family: arial; padding: 30px; padding-top: 0; padding-bottom: 0;\">\n",
    "\n",
    "\n",
    "<span>In Python, an iterator is an object that represents a stream of data. It allows you to iterate over elements in a sequence, one at a time, without needing to know the underlying implementation. Iterators are fundamental to Python's iteration protocol and are used extensively in loops and comprehensions.</span>\n",
    "\n",
    "\n",
    "\n",
    "</div>"
   ]
  },
  {
   "cell_type": "markdown",
   "metadata": {},
   "source": [
    "<div style=\"font-size: 1.1em; font-family: arial; padding: 30px; padding-top: 0; padding-bottom: 0;\">\n",
    "\n",
    "<h4>Creating an Iterator</h4>\n",
    "\n",
    "\n",
    "<span>To create an iterator in Python, you need to implement two special methods: ' _ _ iter _ _ () ' and ' _ _ next _ _ () '. The ' _ _ iter _ _ () ' method returns the iterator object itself, while the ' _ _ next _ _ () ' method returns the next element in the sequence. When there are no more elements to return, ' _ _ next _ _ () ' raises a ' StopIteration ' exception.</span>\n",
    "\n",
    "</div>"
   ]
  },
  {
   "cell_type": "code",
   "execution_count": null,
   "metadata": {},
   "outputs": [
    {
     "name": "stdout",
     "output_type": "stream",
     "text": [
      "1\n",
      "2\n",
      "3\n",
      "4\n",
      "5\n"
     ]
    }
   ],
   "source": [
    "class MyIterator:\n",
    "    def __init__(self, data):\n",
    "        self.data = data\n",
    "        self.index = 0\n",
    "    \n",
    "    def __iter__(self):\n",
    "        return self\n",
    "    \n",
    "    def __next__(self):\n",
    "        if self.index < len(self.data):\n",
    "            value = self.data[self.index]\n",
    "            self.index += 1\n",
    "            return value\n",
    "        else:\n",
    "            raise StopIteration()\n",
    "\n",
    "# Example usage:\n",
    "my_iter = MyIterator([1, 2, 3, 4, 5])\n",
    "for item in my_iter:\n",
    "    print(item)\n"
   ]
  },
  {
   "cell_type": "markdown",
   "metadata": {},
   "source": [
    "<div style=\"font-size: 1.1em; font-family: arial; padding: 30px; padding-top: 0; padding-bottom: 0;\">\n",
    "\n",
    "<span>In this example, ' MyIterator ' is a custom iterator class that iterates over a list of data. The ' _ _ iter _ _ () ' method returns the iterator object itself, and the ' _ _ next _ _ () ' method returns each element from the list until it reaches the end.</span>\n",
    "\n",
    "</div>"
   ]
  },
  {
   "cell_type": "markdown",
   "metadata": {},
   "source": [
    "<div style=\"font-size: 1.1em; font-family: arial; padding: 30px; padding-top: 0; padding-bottom: 0;\">\n",
    "\n",
    "<h4>StopIteration Exception</h4>\n",
    "\n",
    "\n",
    "<span>The StopIteration exception is raised by the ' _ _ next _ _ () ' method when there are no more elements to return. This signals the end of the iteration and is used by Python's iteration protocol to terminate the loop or comprehension.</span>\n",
    "\n",
    "</div>"
   ]
  },
  {
   "cell_type": "code",
   "execution_count": null,
   "metadata": {},
   "outputs": [
    {
     "name": "stdout",
     "output_type": "stream",
     "text": [
      "1\n",
      "2\n",
      "3\n"
     ]
    },
    {
     "ename": "StopIteration",
     "evalue": "",
     "output_type": "error",
     "traceback": [
      "\u001b[1;31m---------------------------------------------------------------------------\u001b[0m\n",
      "\u001b[1;31mStopIteration\u001b[0m                             Traceback (most recent call last)\n",
      "Cell \u001b[1;32mIn[12], line 5\u001b[0m\n",
      "\u001b[0;32m      3\u001b[0m \u001b[38;5;28mprint\u001b[39m(\u001b[38;5;28mnext\u001b[39m(iterator))  \u001b[38;5;66;03m# Output: 2\u001b[39;00m\n",
      "\u001b[0;32m      4\u001b[0m \u001b[38;5;28mprint\u001b[39m(\u001b[38;5;28mnext\u001b[39m(iterator))  \u001b[38;5;66;03m# Output: 3\u001b[39;00m\n",
      "\u001b[1;32m----> 5\u001b[0m \u001b[38;5;28mprint\u001b[39m(\u001b[38;5;28mnext\u001b[39m(iterator))\n",
      "\n",
      "\u001b[1;31mStopIteration\u001b[0m: "
     ]
    }
   ],
   "source": [
    "iterator = iter([1, 2, 3])\n",
    "print(next(iterator))  # Output: 1\n",
    "print(next(iterator))  # Output: 2\n",
    "print(next(iterator))  # Output: 3\n",
    "print(next(iterator))  # Raises StopIteration exception\n"
   ]
  },
  {
   "cell_type": "markdown",
   "metadata": {},
   "source": [
    "<div style=\"font-size: 1.1em; font-family: arial; padding: 30px; padding-top: 0; padding-bottom: 0;\">\n",
    "\n",
    "<span>Here, the ' next() ' function is used to retrieve the next element from the iterator. When there are no more elements, it raises a ' StopIteration ' exception.\n",
    "\n",
    "</span>\n",
    "<span>Understanding iterators and how to create them is essential for working with iterable objects in Python, such as lists, tuples, dictionaries, and custom data structures.</span>\n",
    "\n",
    "</div>"
   ]
  },
  {
   "cell_type": "markdown",
   "metadata": {},
   "source": [
    "<div style=\"font-family: arial; padding: 30px; padding-top: 0; padding-bottom: 0;\">\n",
    "    \n",
    "<h2 id=\"introduction\" style=\"color: #d42c06;\">Polymorphism\n",
    "</h2>\n",
    "\n",
    "</div>"
   ]
  },
  {
   "cell_type": "markdown",
   "metadata": {},
   "source": [
    "<div style=\"font-size: 1.1em; font-family: arial; padding: 30px; padding-top: 0; padding-bottom: 0;\">\n",
    "\n",
    "\n",
    "<span>Polymorphism in object-oriented programming refers to the ability of different classes to be treated as instances of the same class through a common interface. This allows for more flexible and modular code, as it enables different classes to implement the same methods in different ways. One common way to achieve polymorphism is through method overriding, where a subclass provides a specific implementation of a method that is already defined in its superclass.</span>\n",
    "\n",
    "<span>Let's explore how method overriding works in Python:</span>\n",
    "\n",
    "</div>"
   ]
  },
  {
   "cell_type": "code",
   "execution_count": null,
   "metadata": {},
   "outputs": [
    {
     "name": "stdout",
     "output_type": "stream",
     "text": [
      "Animal speaks\n",
      "Dog barks\n",
      "Cat meows\n"
     ]
    }
   ],
   "source": [
    "class Animal:\n",
    "    def speak(self):\n",
    "        return \"Animal speaks\"\n",
    "\n",
    "class Dog(Animal):\n",
    "    def speak(self):\n",
    "        return \"Dog barks\"\n",
    "\n",
    "class Cat(Animal):\n",
    "    def speak(self):\n",
    "        return \"Cat meows\"\n",
    "\n",
    "# Creating instances of each class\n",
    "animal = Animal()\n",
    "dog = Dog()\n",
    "cat = Cat()\n",
    "\n",
    "# Calling the speak method on each instance\n",
    "print(animal.speak())  # Output: Animal speaks\n",
    "print(dog.speak())     # Output: Dog barks\n",
    "print(cat.speak())     # Output: Cat meows\n"
   ]
  },
  {
   "cell_type": "markdown",
   "metadata": {},
   "source": [
    "<div style=\"font-size: 1.1em; font-family: arial; padding: 30px; padding-top: 0; padding-bottom: 0;\">\n",
    "\n",
    "<span>In this example, we have a base class ' Animal ' with a method ' speak() '. We then create two subclasses  ' Dog ' and ' Cat ', each of which overrides the ' speak() ' method with its own implementation. When we call the ' speak() ' method on instances of each class, Python resolves the method call dynamically based on the actual type of the object, resulting in polymorphic behavior.</span>\n",
    "\n",
    "<span>This ability to override methods in subclasses allows for more specialized behavior while still maintaining a common interface defined by the superclass. It's a powerful concept in object-oriented programming that promotes code reuse and flexibility.</span>\n",
    "\n",
    "</div>"
   ]
  },
  {
   "cell_type": "markdown",
   "metadata": {},
   "source": [
    "<div style=\"font-family: arial; padding: 30px; padding-top: 15px; padding-bottom: 0;\">\n",
    "\n",
    "<hr style=\"margin-top: 25px; border-color: #fff;\">\n",
    "\n",
    "<h2 style=\"text-align: center; color: #186e00;\">Section 8: Exception Handling\n",
    "\n",
    "</h2>\n",
    "\n",
    "<hr style=\"margin-top: 25px; border-color: #fff;\">\n",
    "\n",
    "</div>\n"
   ]
  },
  {
   "cell_type": "markdown",
   "metadata": {},
   "source": [
    "<div style=\"font-size: 1.1em; font-family: arial; padding: 30px; padding-top: 0; padding-bottom: 0;\">\n",
    "\n",
    "<p>Exception handling in Python allows you to gracefully handle errors and unexpected situations that may occur during program execution. The primary mechanism for exception handling in Python is the ' try ' and ' except ' blocks.</p>\n",
    "\n",
    "</div>"
   ]
  },
  {
   "cell_type": "markdown",
   "metadata": {},
   "source": [
    "<div style=\"font-family: arial; padding: 30px; padding-top: 0; padding-bottom: 0;\">\n",
    "    \n",
    "<h2 id=\"introduction\" style=\"color: #d42c06;\">Try / Except Blocks\n",
    "</h2>\n",
    "\n",
    "</div>"
   ]
  },
  {
   "cell_type": "markdown",
   "metadata": {},
   "source": [
    "<div style=\"font-size: 1.1em; font-family: arial; padding: 30px; padding-top: 0; padding-bottom: 0;\">\n",
    "\n",
    "<p>The try and except blocks are used together to catch exceptions that occur within a block of code. Here's the basic syntax:</p>\n",
    "\n",
    "</div>"
   ]
  },
  {
   "cell_type": "code",
   "execution_count": null,
   "metadata": {},
   "outputs": [
    {
     "name": "stdout",
     "output_type": "stream",
     "text": [
      "Division by zero error occurred!\n"
     ]
    }
   ],
   "source": [
    "try:\n",
    "    # Code block where exceptions may occur\n",
    "    # This is the code that you want to monitor for errors\n",
    "    # If an exception occurs here, it will be caught by the except block\n",
    "    result = 10 / 0  # Example of code that may raise an exception\n",
    "except ZeroDivisionError:\n",
    "    # Code block to handle the specific exception (e.g., division by zero)\n",
    "    # This block executes if a ZeroDivisionError exception is raised in the try block\n",
    "    print(\"Division by zero error occurred!\")\n"
   ]
  },
  {
   "cell_type": "markdown",
   "metadata": {},
   "source": [
    "<div style=\"font-size: 1.1em; font-family: arial; padding: 30px; padding-top: 0; padding-bottom: 0;\">\n",
    "\n",
    "<p>In the ' try ' block, you place the code that may raise an exception. If an exception occurs within this block, Python will jump to the ' except ' block to handle the exception..</p>\n",
    "\n",
    "<span>Here's a simple example:</span>\n",
    "\n",
    "</div>"
   ]
  },
  {
   "cell_type": "code",
   "execution_count": null,
   "metadata": {},
   "outputs": [
    {
     "name": "stdout",
     "output_type": "stream",
     "text": [
      "Error: Division by zero!\n"
     ]
    }
   ],
   "source": [
    "try:\n",
    "    x = 10 / 0  # Division by zero will raise a ZeroDivisionError\n",
    "except ZeroDivisionError:\n",
    "    print(\"Error: Division by zero!\")\n"
   ]
  },
  {
   "cell_type": "markdown",
   "metadata": {},
   "source": [
    "<div style=\"font-size: 1.1em; font-family: arial; padding: 30px; padding-top: 0; padding-bottom: 0;\">\n",
    "\n",
    "<p>In this example, if a ' ZeroDivisionError ' occurs during the execution of the code inside the ' try ' block (due to attempting to divide by zero), Python will catch the exception and execute the code inside the ' except ' block.</p>\n",
    "\n",
    "</div>"
   ]
  },
  {
   "cell_type": "markdown",
   "metadata": {},
   "source": [
    "<div style=\"font-size: 1.1em; font-family: arial; padding: 30px; padding-top: 0; padding-bottom: 0;\">\n",
    "\n",
    "<h4>Handling Multiple Exceptions</h4>\n",
    "\n",
    "\n",
    "<span>You can use multiple ' except ' blocks to handle different types of exceptions separately:</span>\n",
    "\n",
    "</div>"
   ]
  },
  {
   "cell_type": "code",
   "execution_count": null,
   "metadata": {},
   "outputs": [
    {
     "name": "stdout",
     "output_type": "stream",
     "text": [
      "Division by zero error occurred!\n"
     ]
    }
   ],
   "source": [
    "try:\n",
    "    result = 10 / 0  # This line may raise a ZeroDivisionError\n",
    "except ZeroDivisionError:\n",
    "    print(\"Division by zero error occurred!\")\n",
    "except TypeError:\n",
    "    print(\"Type error occurred!\")\n",
    "except Exception as e:\n",
    "    print(f\"An unexpected error occurred: {e}\")\n"
   ]
  },
  {
   "cell_type": "markdown",
   "metadata": {},
   "source": [
    "<div style=\"font-size: 1.1em; font-family: arial; padding: 30px; padding-top: 0; padding-bottom: 0;\">\n",
    "\n",
    "<p>This allows you to provide specific error handling for different types of exceptions that may occur within the try block.</p>\n",
    "\n",
    "</div>"
   ]
  },
  {
   "cell_type": "markdown",
   "metadata": {},
   "source": [
    "<div style=\"font-size: 1.1em; font-family: arial; padding: 30px; padding-top: 0; padding-bottom: 0;\">\n",
    "\n",
    "<h4>Finally Block</h4>\n",
    "\n",
    "\n",
    "<span>You can also include a ' finally ' block after the ' except ' block. Code inside the ' finally ' block will always execute, whether or not an exception occurred. This block is typically used for cleanup actions that should be performed regardless of whether an exception was raised.</span>\n",
    "\n",
    "</div>"
   ]
  },
  {
   "cell_type": "code",
   "execution_count": null,
   "metadata": {},
   "outputs": [
    {
     "name": "stdout",
     "output_type": "stream",
     "text": [
      "File not found!\n"
     ]
    }
   ],
   "source": [
    "# Open a file and perform some operations\n",
    "try:\n",
    "    file = open(\"example.txt\", \"r\")\n",
    "    content = file.read()\n",
    "    print(content)\n",
    "except FileNotFoundError:\n",
    "    print(\"File not found!\")\n",
    "finally:\n",
    "    # Close the file whether an exception occurred or not\n",
    "    if 'file' in locals():\n",
    "        file.close()\n"
   ]
  },
  {
   "cell_type": "markdown",
   "metadata": {},
   "source": [
    "<div style=\"padding: 30px; padding-top: 0; padding-bottom: 0;\">\n",
    "\n",
    "<hr style=\"border-color: #fff;\">\n",
    "\n",
    "</div>"
   ]
  },
  {
   "cell_type": "markdown",
   "metadata": {},
   "source": [
    "<div style=\"font-family: arial; padding: 30px; padding-top: 0; padding-bottom: 0;\">\n",
    "    \n",
    "<h2 id=\"conclusion\" style=\"color: #d42c06;\">Conclusion</h2>\n",
    "\n",
    "</div>"
   ]
  },
  {
   "cell_type": "markdown",
   "metadata": {},
   "source": [
    "<div style=\"font-size: 1.1em; font-family: arial; padding: 30px; padding-top: 0; padding-bottom: 0;\">\n",
    "<p>In Session 2, we delved into the main programming paradigms and explored them through the lens of Python. We started by examining the three primary programming paradigms: Procedural Programming, Functional Programming, and Object-Oriented Programming (OOP). Following this, we delved into Functional Programming in Python, covering various aspects such as function definitions, parameters, first-class functions, lambda expressions, scopes, and decorators. Subsequently, we explored Object-Oriented Programming (OOP) in Python, learning about classes, inheritance, iterators, polymorphism, and exception handling. By understanding these fundamental concepts and their implementation in Python, we gained a solid foundation for building robust and efficient software applications.</p>\n",
    "\n",
    "</div>"
   ]
  },
  {
   "cell_type": "markdown",
   "metadata": {},
   "source": [
    "<div style=\"padding: 30px; padding-top: 0; padding-bottom: 0;\">\n",
    "\n",
    "<hr style=\"border-color: #fff;\">\n",
    "\n",
    "</div>"
   ]
  },
  {
   "cell_type": "markdown",
   "metadata": {},
   "source": [
    "<div style=\"font-family: arial; padding: 30px; padding-top: 0; padding-bottom: 0;\">\n",
    "    \n",
    "<h2 style=\"color: #d42c06;\">References</h2>\n",
    "\n",
    "<ul>\n",
    "    <li>Voron, François. Building Data Science Applications with FastAPI: Develop, manage, and deploy efficient machine learning applications with Python. Packt Publishing Ltd, 2023\n",
    "        .</li>\n",
    "</ul>\n",
    "\n",
    "<hr style=\"margin-top: 25px; border-color: #fff;\">\n",
    "\n",
    "</div>"
   ]
  }
 ],
 "metadata": {
  "language_info": {
   "name": "python"
  }
 },
 "nbformat": 4,
 "nbformat_minor": 2
}

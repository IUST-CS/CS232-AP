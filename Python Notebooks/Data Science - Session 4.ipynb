{
 "cells": [
  {
   "cell_type": "markdown",
   "id": "24971931-144f-402e-9fc4-ede95a159218",
   "metadata": {},
   "source": [
    "<div style=\"font-family: arial; padding: 30px; padding-bottom: 0;\">\n",
    "\n",
    "<h4 style=\"text-align: center;\">In the Name of God</h4>\n",
    "\n",
    "<h2 style=\"text-align: center; color: #103bc9;\">CS232 - Advanced Programming</h2>\n",
    "\n",
    "<h3 style=\"text-align: center; color: #d42c06;\">Iran University of Science and Technology</h3>\n",
    "\n",
    "<h3 style=\"text-align: center; color: #d42c06;\">School of Mathematics and Computer Science</h3>\n",
    "\n",
    "<h4 style=\"padding-top: 7px; text-align: center;\">Winter-Spring 2024</h4>\n",
    "\n",
    "<hr style=\"margin-top: 25px; border-color: #fff;\">\n",
    "\n",
    "<h1 style=\"text-align: center; color: #9c0000;\">Chapter 2: Data Science</h1>\n",
    "\n",
    "<h3 style=\"padding-top: 7px; text-align: center;\">Mehrnoosh Mofidi, Sahar Pourghasemi, <br> Eliya Kaheni & Sina Golshahi Karim</h3>\n",
    "\n",
    "<hr style=\"margin-top: 25px; border-color: #fff;\">\n",
    "\n",
    "</div>"
   ]
  },
  {
   "cell_type": "markdown",
   "metadata": {},
   "source": [
    "<div style=\"font-family: arial; padding: 30px; padding-top: 15px; padding-bottom: 0;\">\n",
    "\n",
    "<hr style=\"margin-top: 25px; border-color: #fff;\">\n",
    "\n",
    "<h2 style=\"text-align: center; color: #186e00;\">Introduction to Data Science in Python</h2>\n",
    "\n",
    "<hr style=\"margin-top: 25px; border-color: #fff;\">\n",
    "\n",
    "</div>"
   ]
  },
  {
   "cell_type": "markdown",
   "metadata": {},
   "source": [
    "<div style=\"font-size: 1.1em; font-family: arial; padding: 30px; padding-top: 0; padding-bottom: 0; width: 1100px;\">\n",
    "\n",
    "<h2 id=\"What is machine learning?\" style=\"color: #d42c06;\">What is machine learning?</h2>\n",
    "\n",
    "<ul>\n",
    "    <li> Machine learning is a subset of artificial intelligence that focuses on developing algorithms and models that can learn from and make predictions or decisions based on data.\n",
    "    <li> It involves the use of statistical techniques to enable computers to improve their performance on a specific task without being explicitly programmed. <br>\n",
    "    <li> Machine learning can be categorized into supervised learning, unsupervised learning, and reinforcement learning, each serving different purposes in data analysis. <br>\n",
    "    <li> Common machine learning algorithms include linear regression, decision trees, support vector machines, and neural networks. <br>\n",
    "    <li> Python is a popular programming language for implementing machine learning algorithms due to its simplicity, flexibility, and rich ecosystem of libraries such as scikit-learn, TensorFlow, and Keras.\n",
    "</ul>\n",
    "\n",
    "\n",
    "</div>"
   ]
  },
  {
   "cell_type": "markdown",
   "metadata": {},
   "source": [
    "<div style=\"font-size: 1.1em; font-family: arial; padding: 30px; padding-top: 0; padding-bottom: 0; width: 1100px;\">\n",
    "\n",
    "<h2 id=\"Supervised learning vs Unsupervised learning\" style=\"color: #d42c06;\">Supervised learning vs Unsupervised learning</h2>\n",
    "\n",
    "<ul>\n",
    "    <li> <b>Supervised Learning:</b> In supervised learning, the algorithm is trained on a labeled dataset where the input data is paired with the corresponding output labels. The goal is to learn a mapping function from inputs to outputs.\n",
    "    <ul>\n",
    "        <li> Examples of supervised learning tasks include classification (predicting a category) and regression (predicting a continuous value).\n",
    "        <li> Common algorithms used in supervised learning include linear regression, logistic regression, support vector machines, decision trees, and neural networks.\n",
    "    </ul>\n",
    "    <li> <b>Unsupervised Learning:</b> In unsupervised learning, the algorithm is trained on an unlabeled dataset where the input data does not have corresponding output labels. The goal is to find patterns or structures in the data.\n",
    "    <ul>\n",
    "        <li> Examples of unsupervised learning tasks include clustering (grouping similar data points) and dimensionality reduction (reducing the number of features).\n",
    "        <li> Common algorithms used in unsupervised learning include k-means clustering, hierarchical clustering, principal component analysis (PCA), and t-distributed stochastic neighbor embedding (t-SNE).\n",
    "    </ul>\n",
    "</ul>\n",
    "</div>"
   ]
  },
  {
   "cell_type": "markdown",
   "metadata": {},
   "source": [
    "<img src=\"images/supervidesVSunsupervised.png\">"
   ]
  },
  {
   "cell_type": "markdown",
   "metadata": {},
   "source": [
    "\n",
    "<hr style=\"margin-top: 25px; border-color: #fff;\">\n"
   ]
  },
  {
   "cell_type": "markdown",
   "metadata": {},
   "source": [
    "<div style=\"font-size: 1.1em; font-family: arial; padding: 30px; padding-top: 0; padding-bottom: 0; width: 1100px;\">\n",
    "\n",
    "<h2 id=\"Features\" style=\"color: #d42c06;\">Features</h2>\n",
    "\n",
    "<ul>\n",
    "    <li> Features are the individual measurable properties or characteristics of the data that are used as inputs for the machine learning model. They represent different aspects of the data that help in making predictions or classifications.\n",
    "    <li> Features can be numerical (age, temperature, etc) or categorical (gender, color, etc). They can also be engineered or transformed to create new features that may improve the model's performance.\n",
    "    <li> Feature selection is the process of choosing the most relevant features for the model, while feature extraction involves transforming the original features into a new set of features.\n",
    "    <li> Feature engineering is a crucial step in machine learning as it directly impacts the model's ability to learn and make accurate predictions.\n",
    "    <li> Examples of features in a dataset could include customer demographics, product attributes, sensor readings, or text data.\n",
    "</ul>\n",
    "\n",
    "\n",
    "</div>"
   ]
  },
  {
   "cell_type": "markdown",
   "metadata": {},
   "source": [
    "<div style=\"font-size: 1.1em; font-family: arial; padding: 30px; padding-top: 0; padding-bottom: 0; width: 1100px;\">\n",
    "\n",
    "<h2 id=\"Labels\" style=\"color: #d42c06;\">Labels</h2>\n",
    "\n",
    "<ul>\n",
    "    <li> Labels are the target variable or output that the machine learning model aims to predict or classify. They represent the ground truth or correct answer that the model is trained to learn from the input features.\n",
    "    <li> In supervised learning, the dataset consists of both input features and corresponding labels. The model learns to map the input features to the correct labels during training.\n",
    "    <li> Labels can be categorical (e.g., class labels like \"spam\" or \"not spam\") or numerical (e.g., regression targets like house prices).\n",
    "    <li> The quality and accuracy of the labels in the dataset are crucial for training a reliable machine learning model. Noisy or incorrect labels can significantly impact the model's performance.\n",
    "    <li> Label encoding may be required to convert categorical labels into numerical form for certain machine learning algorithms that only work with numerical data.\n",
    "    <li> Examples of labels in a dataset could include disease diagnosis, sentiment analysis (positive/negative), or stock price prediction.\n",
    "</ul>\n",
    "\n",
    "\n",
    "</div>\n"
   ]
  },
  {
   "cell_type": "markdown",
   "metadata": {},
   "source": [
    "<div style=\"font-size: 1.1em; font-family: arial; padding: 30px; padding-top: 0; padding-bottom: 0; width: 1100px;\">\n",
    "\n",
    "<h2 id=\"Training\" style=\"color: #d42c06;\">Training</h2>\n",
    "\n",
    "<ul>\n",
    "    <li> During the training phase of a machine learning model, the algorithm uses the input features and corresponding labels to learn the patterns and relationships in the data.\n",
    "    <li> The model adjusts its internal parameters through an optimization process to minimize the difference between the predicted output and the actual labels.\n",
    "    <li> The goal of training is to enable the model to generalize well to unseen data by learning from the labeled examples in the training set.\n",
    "    <li> Different algorithms use various techniques such as gradient descent, backpropagation, or support vector machines to optimize the model's parameters based on the labeled data.\n",
    "</ul>\n",
    "\n",
    "\n",
    "</div>\n"
   ]
  },
  {
   "cell_type": "markdown",
   "metadata": {},
   "source": [
    "<div style=\"font-size: 1.1em; font-family: arial; padding: 30px; padding-top: 0; padding-bottom: 0; width: 1100px;\">\n",
    "\n",
    "<h2 id=\"Testing\" style=\"color: #d42c06;\">Testing</h2>\n",
    "\n",
    "<ul>\n",
    "    <li> After training the model on labeled data, it is essential to evaluate its performance on a separate dataset known as the test set.\n",
    "    <li> The test set contains input features but with held-out labels that the model has not seen during training.\n",
    "    <li> By comparing the model's predictions on the test set to the actual labels, we can assess its generalization ability and measure its performance metrics such as accuracy, precision, recall, or F1 score.\n",
    "    <li> Testing with labels helps us understand how well the model can make predictions on new, unseen data and provides insights into its reliability and effectiveness in real-world applications.\n",
    "</ul>\n",
    "\n",
    "\n",
    "</div>\n"
   ]
  },
  {
   "cell_type": "markdown",
   "metadata": {},
   "source": [
    "<div style=\"font-size: 1.1em; font-family: arial; padding: 30px; width: 1000px;\">\n",
    "<div style=\"border: 2px solid #1f49a3; border-radius: 10px; padding: 30px; padding-top: 15px;\">\n",
    "<h3 style=\"color: #1f49a3; font-weight: bold;\">Note</h3>\n",
    "    <span style=\"color: #1f49a3;\">Be careful that if your model has a good score on the training dataset and a bad score on the testing dataset, your model is actually overfitting.\n",
    "    It means that it has memorized the training set and its labels, rather than learning to generalize to new, unseen data.</span>\n",
    "</div>\n",
    "</div>"
   ]
  },
  {
   "cell_type": "markdown",
   "metadata": {},
   "source": [
    "<div style=\"font-size: 1.1em; font-family: arial; padding: 30px; padding-top: 0; padding-bottom: 0; width: 1100px;\">\n",
    "\n",
    "<h2 id=\"Model Evaluation Metrics\" style=\"color: #d42c06;\">Model Evaluation Metrics</h2>\n",
    "\n",
    "<p> When evaluating the performance of a machine learning model, there are several metrics that can be used depending on the type of problem you are trying to solve. Some common evaluation metrics include: </p>\n",
    "\n",
    "<ul>\n",
    "    <li> <b>Accuracy:</b> The proportion of correctly classified instances out of the total instances. It is a good metric for balanced datasets.\n",
    "    <li> <b>Precision:</b> The proportion of true positive predictions out of all positive predictions. It is useful when the cost of false positives is high.\n",
    "    <li> <b>Recall (Sensitivity):</b> The proportion of true positive predictions out of all actual positive instances. It is useful when the cost of false negatives is high.\n",
    "    <li> <b>F1 Score:</b> The harmonic mean of precision and recall. It provides a balance between precision and recall.\n",
    "    <li> <b>Area Under the Receiver Operating Characteristic curve (AUC-ROC):</b> A metric used for binary classification problems that measures the trade-off between true positive rate and false positive rate.\n",
    "    <li> <b>Mean Squared Error (MSE):</b> A metric used for regression problems that measures the average squared difference between predicted and actual values.\n",
    "\n",
    "</ul>\n",
    "\n",
    " <p> It is important to select the appropriate evaluation metric based on the specific characteristics of your dataset and the goals of your project. </p>\n",
    "\n",
    "</div>\n"
   ]
  },
  {
   "cell_type": "markdown",
   "metadata": {},
   "source": [
    "<hr style=\"margin-top: 25px; border-color: #fff;\">"
   ]
  },
  {
   "cell_type": "markdown",
   "metadata": {},
   "source": [
    "<div style=\"font-size: 1.1em; font-family: arial; padding: 30px; padding-top: 0; padding-bottom: 0; width: 1100px;\">\n",
    "\n",
    "<p>Model validation is a crucial step in the machine learning pipeline that involves assessing the performance and generalizability of a trained model.</p>\n",
    "<p>It helps ensure that the model is not overfitting or underfitting the data and can make accurate predictions on unseen data.</p>\n",
    "\n",
    "</div>"
   ]
  },
  {
   "cell_type": "markdown",
   "metadata": {},
   "source": [
    "<div style=\"font-size: 1.1em; font-family: arial; padding: 30px; padding-top: 0; padding-bottom: 0; width: 1100px;\">\n",
    "<h2 id=\"Overview and Importance\" style=\"color: #d42c06;\">Overview and Importance</h2>\n",
    "\n",
    "<ul>\n",
    "    <li> Ensures the model's performance is reliable and robust across different datasets.\n",
    "    <li> Helps identify and address issues such as overfitting, underfitting, bias, and variance.\n",
    "    <li> Allows for the selection of the best-performing model for deployment in real-world applications.\n",
    "    <li> Provides insights into the model's strengths and weaknesses, guiding further improvements and optimizations. \n",
    "</ul>\n",
    "\n",
    "</div>"
   ]
  },
  {
   "cell_type": "markdown",
   "metadata": {},
   "source": [
    "<div style=\"font-family: arial; padding: 30px; padding-top: 15px; padding-bottom: 0;\">\n",
    "\n",
    "<hr style=\"margin-top: 25px; border-color: #fff;\">\n",
    "\n",
    "<h2 style=\"text-align: center; color: #186e00;\">Pandas</h2>\n",
    "\n",
    "<hr style=\"margin-top: 25px; border-color: #fff;\">\n",
    "\n",
    "</div>"
   ]
  },
  {
   "cell_type": "markdown",
   "metadata": {},
   "source": [
    "<div style=\"font-size: 1.1em: arial; padding: 30px; padding-top: 0; padding-bottom: 0;\">\n",
    "    \n",
    "<h2 id=\"introduction\" style=\"color: #d42c06;\">Pandas: Data Analysis\n",
    "</h2>\n",
    "\n",
    "</div>"
   ]
  },
  {
   "cell_type": "markdown",
   "metadata": {},
   "source": [
    "<div style=\"font-size: 1.1em; font-family: arial; padding: 30px; padding-top: 0; padding-bottom: 0;\">\n",
    "\n",
    "<h4>pandas introduction</h4>\n",
    "\n",
    "\n",
    "<span>Pandas is a Python library used for working with data sets.\n",
    "\n",
    "It has functions for analyzing, cleaning, exploring, and manipulating data.\n",
    "\n",
    "Pandas allows us to analyze big data and make conclusions based on statistical theories.\n",
    "\n",
    "Pandas can clean messy data sets, and make them readable and relevant.\n",
    "\n",
    "Relevant data is very important in data science.</span>\n",
    "\n",
    "\n",
    "</div>"
   ]
  },
  {
   "cell_type": "markdown",
   "metadata": {},
   "source": [
    "<div style=\"font-size: 1.1em; font-family: arial; padding: 30px; padding-top: 0; padding-bottom: 0;\">\n",
    "\n",
    "<h4>Series, Data Frames and CSVs</h4>\n",
    "\n",
    "\n",
    "<span>series: A Series is a one-dimensional labeled array that can hold any data type. It is similar to a column in a spreadsheet or a database table.</span>\n",
    "\n",
    "\n",
    "</div>"
   ]
  },
  {
   "cell_type": "code",
   "execution_count": 23,
   "metadata": {},
   "outputs": [
    {
     "name": "stdout",
     "output_type": "stream",
     "text": [
      "0    10\n",
      "1    20\n",
      "2    30\n",
      "3    40\n",
      "4    50\n",
      "dtype: int64\n"
     ]
    }
   ],
   "source": [
    "import pandas as pd\n",
    "data = [10, 20, 30, 40, 50]\n",
    "series = pd.Series(data)\n",
    "print(series)"
   ]
  },
  {
   "cell_type": "markdown",
   "metadata": {},
   "source": [
    "<div style=\"font-size: 1.1em; font-family: arial; padding: 30px; padding-top: 0; padding-bottom: 0;\">\n",
    "\n",
    "<h4>Accessing Elements in a Series</h4>\n",
    "\n",
    "\n",
    "<span>You can access individual elements in a Series using indexing or slicing:</span>\n",
    "\n",
    "\n",
    "</div>"
   ]
  },
  {
   "cell_type": "code",
   "execution_count": 24,
   "metadata": {},
   "outputs": [
    {
     "name": "stdout",
     "output_type": "stream",
     "text": [
      "10\n",
      "1    20\n",
      "2    30\n",
      "3    40\n",
      "dtype: int64\n"
     ]
    }
   ],
   "source": [
    "print(series[0]) \n",
    "print(series[1:4])"
   ]
  },
  {
   "cell_type": "markdown",
   "metadata": {},
   "source": [
    "<div style=\"font-size: 1.1em; font-family: arial; padding: 30px; padding-top: 0; padding-bottom: 0;\">\n",
    "\n",
    "<h4>Operations on Series</h4>\n",
    "\n",
    "\n",
    "<span>Pandas provides various operations that can be applied to a Series, such as mathematical operations and statistical \n",
    "\n",
    "functions:</span>\n",
    "\n",
    "\n",
    "</div>"
   ]
  },
  {
   "cell_type": "code",
   "execution_count": 25,
   "metadata": {},
   "outputs": [
    {
     "name": "stdout",
     "output_type": "stream",
     "text": [
      "0    15\n",
      "1    25\n",
      "2    35\n",
      "3    45\n",
      "4    55\n",
      "dtype: int64\n",
      "0     20\n",
      "1     40\n",
      "2     60\n",
      "3     80\n",
      "4    100\n",
      "dtype: int64\n",
      "30.0\n",
      "50\n",
      "15.811388300841896\n"
     ]
    }
   ],
   "source": [
    "print(series + 5)      \n",
    "print(series * 2)         \n",
    "print(series.mean())      \n",
    "print(series.max())      \n",
    "print(series.std())"
   ]
  },
  {
   "cell_type": "markdown",
   "metadata": {},
   "source": [
    "Pandas provides several methods to explore and analyze a DataFrame:"
   ]
  },
  {
   "cell_type": "markdown",
   "metadata": {},
   "source": [
    "<div style=\"font-size: 1.1em; font-family: arial; padding: 30px; padding-top: 0; padding-bottom: 0;\">\n",
    "\n",
    "<h4>dataframes</h4>\n",
    "\n",
    "\n",
    "<span>A DataFrame is a two-dimensional labeled data structure with columns of potentially different data types. It is similar to a spreadsheet or a SQL table. Let's create a DataFrame in Pandas:</span>\n",
    "\n",
    "\n",
    "</div>"
   ]
  },
  {
   "cell_type": "code",
   "execution_count": 26,
   "metadata": {},
   "outputs": [
    {
     "name": "stdout",
     "output_type": "stream",
     "text": [
      "    Name  Age      City\n",
      "0   John   25    London\n",
      "1   Emma   28  New York\n",
      "2  Peter   32     Paris\n"
     ]
    }
   ],
   "source": [
    "data = {'Name': ['John', 'Emma', 'Peter'],\n",
    "        'Age': [25, 28, 32],\n",
    "        'City': ['London', 'New York', 'Paris']}\n",
    "df = pd.DataFrame(data)\n",
    "print(df)"
   ]
  },
  {
   "cell_type": "markdown",
   "metadata": {},
   "source": [
    "<div style=\"font-size: 1.1em; font-family: arial; padding: 30px; padding-top: 0; padding-bottom: 0;\">\n",
    "\n",
    "<h4>Exploring a DataFrame</h4>\n",
    "\n",
    "\n",
    "<span>It provides a comprehensive set of functions and data structures that allow you to quickly explore your data and gain initial insights from it</span>\n",
    "\n",
    "\n",
    "</div>"
   ]
  },
  {
   "cell_type": "code",
   "execution_count": 27,
   "metadata": {},
   "outputs": [
    {
     "name": "stdout",
     "output_type": "stream",
     "text": [
      "    Name  Age      City\n",
      "0   John   25    London\n",
      "1   Emma   28  New York\n",
      "2  Peter   32     Paris\n",
      "<class 'pandas.core.frame.DataFrame'>\n",
      "RangeIndex: 3 entries, 0 to 2\n",
      "Data columns (total 3 columns):\n",
      " #   Column  Non-Null Count  Dtype \n",
      "---  ------  --------------  ----- \n",
      " 0   Name    3 non-null      object\n",
      " 1   Age     3 non-null      int64 \n",
      " 2   City    3 non-null      object\n",
      "dtypes: int64(1), object(2)\n",
      "memory usage: 204.0+ bytes\n",
      "None\n",
      "             Age\n",
      "count   3.000000\n",
      "mean   28.333333\n",
      "std     3.511885\n",
      "min    25.000000\n",
      "25%    26.500000\n",
      "50%    28.000000\n",
      "75%    30.000000\n",
      "max    32.000000\n"
     ]
    }
   ],
   "source": [
    "print(df.head())\n",
    "print(df.info())\n",
    "print(df.describe())"
   ]
  },
  {
   "cell_type": "markdown",
   "metadata": {},
   "source": [
    "<div style=\"font-size: 1.1em; font-family: arial; padding: 30px; padding-top: 0; padding-bottom: 0;\">\n",
    "\n",
    "<h4>Accessing Data in a DataFrame</h4>\n",
    "\n",
    "\n",
    "<span>You can access data in a DataFrame using various methods, such as indexing, slicing, and column selection:</span>\n",
    "\n",
    "\n",
    "</div>"
   ]
  },
  {
   "cell_type": "code",
   "execution_count": 28,
   "metadata": {},
   "outputs": [
    {
     "name": "stdout",
     "output_type": "stream",
     "text": [
      "0     John\n",
      "1     Emma\n",
      "2    Peter\n",
      "Name: Name, dtype: object\n",
      "Name      John\n",
      "Age         25\n",
      "City    London\n",
      "Name: 0, dtype: object\n",
      "    Name  Age      City\n",
      "1   Emma   28  New York\n",
      "2  Peter   32     Paris\n"
     ]
    }
   ],
   "source": [
    "print(df['Name'])  \n",
    "print(df.iloc[0])  \n",
    "print(df[1:3])"
   ]
  },
  {
   "cell_type": "markdown",
   "metadata": {},
   "source": [
    "<div style=\"font-size: 1.1em; font-family: arial; padding: 30px; padding-top: 0; padding-bottom: 0;\">\n",
    "\n",
    "<h4>Modifying Data in a DataFrame</h4>\n",
    "\n",
    "\n",
    "<span>You can modify data in a DataFrame by assigning new values or applying functions:</span>\n",
    "\n",
    "\n",
    "</div>"
   ]
  },
  {
   "cell_type": "code",
   "execution_count": 29,
   "metadata": {},
   "outputs": [
    {
     "name": "stdout",
     "output_type": "stream",
     "text": [
      "    Name  Age      City\n",
      "0   John   26    London\n",
      "1   Emma   29  New York\n",
      "2  Peter   33     Paris\n",
      "    Name  Age      City\n",
      "0   John   52    London\n",
      "1   Emma   58  New York\n",
      "2  Peter   66     Paris\n"
     ]
    }
   ],
   "source": [
    "df['Age'] = df['Age'] + 1\n",
    "print(df)\n",
    "df['Age'] = df['Age'].apply(lambda x: x * 2)\n",
    "print(df)"
   ]
  },
  {
   "cell_type": "markdown",
   "metadata": {},
   "source": [
    "Reading a CSV File:\n",
    "\n",
    "CSV (Comma-Separated Values) files are a common way to store tabular data. Pandas provides a function to read CSV files:"
   ]
  },
  {
   "cell_type": "code",
   "execution_count": 30,
   "metadata": {},
   "outputs": [
    {
     "name": "stdout",
     "output_type": "stream",
     "text": [
      "    Name  Age        City\n",
      "0   Adel   21  Los Angles\n",
      "1   Emma   24    New York\n",
      "2  Peter   99        Rome\n"
     ]
    }
   ],
   "source": [
    "df = pd.read_csv('datas/data.csv')\n",
    "print(df.head())"
   ]
  },
  {
   "cell_type": "markdown",
   "metadata": {},
   "source": [
    "Writing to a CSV File\n",
    "\n",
    "You can also write a DataFrame to a CSV file using the to_csv() function:"
   ]
  },
  {
   "cell_type": "code",
   "execution_count": 31,
   "metadata": {},
   "outputs": [],
   "source": [
    "df.to_csv('datas/new_data.csv', index=False)"
   ]
  },
  {
   "cell_type": "markdown",
   "metadata": {},
   "source": [
    "<div style=\"font-size: 1.1em; font-family: arial; padding: 30px; padding-top: 0; padding-bottom: 0;\">\n",
    "\n",
    "<h4>Data from URLs</h4>\n",
    "\n",
    "\n",
    "<span>Loading CSV Data from a URL\n",
    "Pandas allows you to load data directly from a URL. Let's load a CSV file from a URL:</span>\n",
    "\n",
    "\n",
    "</div>"
   ]
  },
  {
   "cell_type": "code",
   "execution_count": 32,
   "metadata": {},
   "outputs": [
    {
     "name": "stdout",
     "output_type": "stream",
     "text": [
      "         DATE  CPIAUCSL\n",
      "0  1990-01-01     127.5\n",
      "1  1990-02-01     128.0\n",
      "2  1990-03-01     128.6\n",
      "3  1990-04-01     128.9\n",
      "4  1990-05-01     129.1\n"
     ]
    }
   ],
   "source": [
    "url = 'https://fred.stlouisfed.org/graph/fredgraph.csv?cosd=1990-01-01&coed=2040-01-01&id=CPIAUCSL' \n",
    "\n",
    "df = pd.read_csv(url)\n",
    "print(df.head())"
   ]
  },
  {
   "cell_type": "markdown",
   "metadata": {},
   "source": [
    "<div style=\"font-size: 1.1em; font-family: arial; padding: 30px; padding-top: 0; padding-bottom: 0;\">\n",
    "\n",
    "<h4>Loading JSON Data from a URL</h4>\n",
    "\n",
    "\n",
    "<span>Pandas also supports loading data in JSON format from a URL:</span>\n",
    "\n",
    "\n",
    "</div>"
   ]
  },
  {
   "cell_type": "code",
   "execution_count": 33,
   "metadata": {},
   "outputs": [
    {
     "ename": "HTTPError",
     "evalue": "HTTP Error 404: Not Found",
     "output_type": "error",
     "traceback": [
      "\u001b[1;31m---------------------------------------------------------------------------\u001b[0m",
      "\u001b[1;31mHTTPError\u001b[0m                                 Traceback (most recent call last)",
      "Cell \u001b[1;32mIn[33], line 2\u001b[0m\n\u001b[0;32m      1\u001b[0m url \u001b[38;5;241m=\u001b[39m \u001b[38;5;124m'\u001b[39m\u001b[38;5;124mhttp://example.com/data.json\u001b[39m\u001b[38;5;124m'\u001b[39m\n\u001b[1;32m----> 2\u001b[0m df \u001b[38;5;241m=\u001b[39m \u001b[43mpd\u001b[49m\u001b[38;5;241;43m.\u001b[39;49m\u001b[43mread_json\u001b[49m\u001b[43m(\u001b[49m\u001b[43murl\u001b[49m\u001b[43m)\u001b[49m\n\u001b[0;32m      3\u001b[0m \u001b[38;5;28mprint\u001b[39m(df\u001b[38;5;241m.\u001b[39mhead())\n",
      "File \u001b[1;32mc:\\Users\\hossein\\AppData\\Local\\Programs\\Python\\Python312\\Lib\\site-packages\\pandas\\io\\json\\_json.py:791\u001b[0m, in \u001b[0;36mread_json\u001b[1;34m(path_or_buf, orient, typ, dtype, convert_axes, convert_dates, keep_default_dates, precise_float, date_unit, encoding, encoding_errors, lines, chunksize, compression, nrows, storage_options, dtype_backend, engine)\u001b[0m\n\u001b[0;32m    788\u001b[0m \u001b[38;5;28;01mif\u001b[39;00m convert_axes \u001b[38;5;129;01mis\u001b[39;00m \u001b[38;5;28;01mNone\u001b[39;00m \u001b[38;5;129;01mand\u001b[39;00m orient \u001b[38;5;241m!=\u001b[39m \u001b[38;5;124m\"\u001b[39m\u001b[38;5;124mtable\u001b[39m\u001b[38;5;124m\"\u001b[39m:\n\u001b[0;32m    789\u001b[0m     convert_axes \u001b[38;5;241m=\u001b[39m \u001b[38;5;28;01mTrue\u001b[39;00m\n\u001b[1;32m--> 791\u001b[0m json_reader \u001b[38;5;241m=\u001b[39m \u001b[43mJsonReader\u001b[49m\u001b[43m(\u001b[49m\n\u001b[0;32m    792\u001b[0m \u001b[43m    \u001b[49m\u001b[43mpath_or_buf\u001b[49m\u001b[43m,\u001b[49m\n\u001b[0;32m    793\u001b[0m \u001b[43m    \u001b[49m\u001b[43morient\u001b[49m\u001b[38;5;241;43m=\u001b[39;49m\u001b[43morient\u001b[49m\u001b[43m,\u001b[49m\n\u001b[0;32m    794\u001b[0m \u001b[43m    \u001b[49m\u001b[43mtyp\u001b[49m\u001b[38;5;241;43m=\u001b[39;49m\u001b[43mtyp\u001b[49m\u001b[43m,\u001b[49m\n\u001b[0;32m    795\u001b[0m \u001b[43m    \u001b[49m\u001b[43mdtype\u001b[49m\u001b[38;5;241;43m=\u001b[39;49m\u001b[43mdtype\u001b[49m\u001b[43m,\u001b[49m\n\u001b[0;32m    796\u001b[0m \u001b[43m    \u001b[49m\u001b[43mconvert_axes\u001b[49m\u001b[38;5;241;43m=\u001b[39;49m\u001b[43mconvert_axes\u001b[49m\u001b[43m,\u001b[49m\n\u001b[0;32m    797\u001b[0m \u001b[43m    \u001b[49m\u001b[43mconvert_dates\u001b[49m\u001b[38;5;241;43m=\u001b[39;49m\u001b[43mconvert_dates\u001b[49m\u001b[43m,\u001b[49m\n\u001b[0;32m    798\u001b[0m \u001b[43m    \u001b[49m\u001b[43mkeep_default_dates\u001b[49m\u001b[38;5;241;43m=\u001b[39;49m\u001b[43mkeep_default_dates\u001b[49m\u001b[43m,\u001b[49m\n\u001b[0;32m    799\u001b[0m \u001b[43m    \u001b[49m\u001b[43mprecise_float\u001b[49m\u001b[38;5;241;43m=\u001b[39;49m\u001b[43mprecise_float\u001b[49m\u001b[43m,\u001b[49m\n\u001b[0;32m    800\u001b[0m \u001b[43m    \u001b[49m\u001b[43mdate_unit\u001b[49m\u001b[38;5;241;43m=\u001b[39;49m\u001b[43mdate_unit\u001b[49m\u001b[43m,\u001b[49m\n\u001b[0;32m    801\u001b[0m \u001b[43m    \u001b[49m\u001b[43mencoding\u001b[49m\u001b[38;5;241;43m=\u001b[39;49m\u001b[43mencoding\u001b[49m\u001b[43m,\u001b[49m\n\u001b[0;32m    802\u001b[0m \u001b[43m    \u001b[49m\u001b[43mlines\u001b[49m\u001b[38;5;241;43m=\u001b[39;49m\u001b[43mlines\u001b[49m\u001b[43m,\u001b[49m\n\u001b[0;32m    803\u001b[0m \u001b[43m    \u001b[49m\u001b[43mchunksize\u001b[49m\u001b[38;5;241;43m=\u001b[39;49m\u001b[43mchunksize\u001b[49m\u001b[43m,\u001b[49m\n\u001b[0;32m    804\u001b[0m \u001b[43m    \u001b[49m\u001b[43mcompression\u001b[49m\u001b[38;5;241;43m=\u001b[39;49m\u001b[43mcompression\u001b[49m\u001b[43m,\u001b[49m\n\u001b[0;32m    805\u001b[0m \u001b[43m    \u001b[49m\u001b[43mnrows\u001b[49m\u001b[38;5;241;43m=\u001b[39;49m\u001b[43mnrows\u001b[49m\u001b[43m,\u001b[49m\n\u001b[0;32m    806\u001b[0m \u001b[43m    \u001b[49m\u001b[43mstorage_options\u001b[49m\u001b[38;5;241;43m=\u001b[39;49m\u001b[43mstorage_options\u001b[49m\u001b[43m,\u001b[49m\n\u001b[0;32m    807\u001b[0m \u001b[43m    \u001b[49m\u001b[43mencoding_errors\u001b[49m\u001b[38;5;241;43m=\u001b[39;49m\u001b[43mencoding_errors\u001b[49m\u001b[43m,\u001b[49m\n\u001b[0;32m    808\u001b[0m \u001b[43m    \u001b[49m\u001b[43mdtype_backend\u001b[49m\u001b[38;5;241;43m=\u001b[39;49m\u001b[43mdtype_backend\u001b[49m\u001b[43m,\u001b[49m\n\u001b[0;32m    809\u001b[0m \u001b[43m    \u001b[49m\u001b[43mengine\u001b[49m\u001b[38;5;241;43m=\u001b[39;49m\u001b[43mengine\u001b[49m\u001b[43m,\u001b[49m\n\u001b[0;32m    810\u001b[0m \u001b[43m\u001b[49m\u001b[43m)\u001b[49m\n\u001b[0;32m    812\u001b[0m \u001b[38;5;28;01mif\u001b[39;00m chunksize:\n\u001b[0;32m    813\u001b[0m     \u001b[38;5;28;01mreturn\u001b[39;00m json_reader\n",
      "File \u001b[1;32mc:\\Users\\hossein\\AppData\\Local\\Programs\\Python\\Python312\\Lib\\site-packages\\pandas\\io\\json\\_json.py:904\u001b[0m, in \u001b[0;36mJsonReader.__init__\u001b[1;34m(self, filepath_or_buffer, orient, typ, dtype, convert_axes, convert_dates, keep_default_dates, precise_float, date_unit, encoding, lines, chunksize, compression, nrows, storage_options, encoding_errors, dtype_backend, engine)\u001b[0m\n\u001b[0;32m    902\u001b[0m     \u001b[38;5;28mself\u001b[39m\u001b[38;5;241m.\u001b[39mdata \u001b[38;5;241m=\u001b[39m filepath_or_buffer\n\u001b[0;32m    903\u001b[0m \u001b[38;5;28;01melif\u001b[39;00m \u001b[38;5;28mself\u001b[39m\u001b[38;5;241m.\u001b[39mengine \u001b[38;5;241m==\u001b[39m \u001b[38;5;124m\"\u001b[39m\u001b[38;5;124mujson\u001b[39m\u001b[38;5;124m\"\u001b[39m:\n\u001b[1;32m--> 904\u001b[0m     data \u001b[38;5;241m=\u001b[39m \u001b[38;5;28;43mself\u001b[39;49m\u001b[38;5;241;43m.\u001b[39;49m\u001b[43m_get_data_from_filepath\u001b[49m\u001b[43m(\u001b[49m\u001b[43mfilepath_or_buffer\u001b[49m\u001b[43m)\u001b[49m\n\u001b[0;32m    905\u001b[0m     \u001b[38;5;28mself\u001b[39m\u001b[38;5;241m.\u001b[39mdata \u001b[38;5;241m=\u001b[39m \u001b[38;5;28mself\u001b[39m\u001b[38;5;241m.\u001b[39m_preprocess_data(data)\n",
      "File \u001b[1;32mc:\\Users\\hossein\\AppData\\Local\\Programs\\Python\\Python312\\Lib\\site-packages\\pandas\\io\\json\\_json.py:944\u001b[0m, in \u001b[0;36mJsonReader._get_data_from_filepath\u001b[1;34m(self, filepath_or_buffer)\u001b[0m\n\u001b[0;32m    937\u001b[0m filepath_or_buffer \u001b[38;5;241m=\u001b[39m stringify_path(filepath_or_buffer)\n\u001b[0;32m    938\u001b[0m \u001b[38;5;28;01mif\u001b[39;00m (\n\u001b[0;32m    939\u001b[0m     \u001b[38;5;129;01mnot\u001b[39;00m \u001b[38;5;28misinstance\u001b[39m(filepath_or_buffer, \u001b[38;5;28mstr\u001b[39m)\n\u001b[0;32m    940\u001b[0m     \u001b[38;5;129;01mor\u001b[39;00m is_url(filepath_or_buffer)\n\u001b[0;32m    941\u001b[0m     \u001b[38;5;129;01mor\u001b[39;00m is_fsspec_url(filepath_or_buffer)\n\u001b[0;32m    942\u001b[0m     \u001b[38;5;129;01mor\u001b[39;00m file_exists(filepath_or_buffer)\n\u001b[0;32m    943\u001b[0m ):\n\u001b[1;32m--> 944\u001b[0m     \u001b[38;5;28mself\u001b[39m\u001b[38;5;241m.\u001b[39mhandles \u001b[38;5;241m=\u001b[39m \u001b[43mget_handle\u001b[49m\u001b[43m(\u001b[49m\n\u001b[0;32m    945\u001b[0m \u001b[43m        \u001b[49m\u001b[43mfilepath_or_buffer\u001b[49m\u001b[43m,\u001b[49m\n\u001b[0;32m    946\u001b[0m \u001b[43m        \u001b[49m\u001b[38;5;124;43m\"\u001b[39;49m\u001b[38;5;124;43mr\u001b[39;49m\u001b[38;5;124;43m\"\u001b[39;49m\u001b[43m,\u001b[49m\n\u001b[0;32m    947\u001b[0m \u001b[43m        \u001b[49m\u001b[43mencoding\u001b[49m\u001b[38;5;241;43m=\u001b[39;49m\u001b[38;5;28;43mself\u001b[39;49m\u001b[38;5;241;43m.\u001b[39;49m\u001b[43mencoding\u001b[49m\u001b[43m,\u001b[49m\n\u001b[0;32m    948\u001b[0m \u001b[43m        \u001b[49m\u001b[43mcompression\u001b[49m\u001b[38;5;241;43m=\u001b[39;49m\u001b[38;5;28;43mself\u001b[39;49m\u001b[38;5;241;43m.\u001b[39;49m\u001b[43mcompression\u001b[49m\u001b[43m,\u001b[49m\n\u001b[0;32m    949\u001b[0m \u001b[43m        \u001b[49m\u001b[43mstorage_options\u001b[49m\u001b[38;5;241;43m=\u001b[39;49m\u001b[38;5;28;43mself\u001b[39;49m\u001b[38;5;241;43m.\u001b[39;49m\u001b[43mstorage_options\u001b[49m\u001b[43m,\u001b[49m\n\u001b[0;32m    950\u001b[0m \u001b[43m        \u001b[49m\u001b[43merrors\u001b[49m\u001b[38;5;241;43m=\u001b[39;49m\u001b[38;5;28;43mself\u001b[39;49m\u001b[38;5;241;43m.\u001b[39;49m\u001b[43mencoding_errors\u001b[49m\u001b[43m,\u001b[49m\n\u001b[0;32m    951\u001b[0m \u001b[43m    \u001b[49m\u001b[43m)\u001b[49m\n\u001b[0;32m    952\u001b[0m     filepath_or_buffer \u001b[38;5;241m=\u001b[39m \u001b[38;5;28mself\u001b[39m\u001b[38;5;241m.\u001b[39mhandles\u001b[38;5;241m.\u001b[39mhandle\n\u001b[0;32m    953\u001b[0m \u001b[38;5;28;01melif\u001b[39;00m (\n\u001b[0;32m    954\u001b[0m     \u001b[38;5;28misinstance\u001b[39m(filepath_or_buffer, \u001b[38;5;28mstr\u001b[39m)\n\u001b[0;32m    955\u001b[0m     \u001b[38;5;129;01mand\u001b[39;00m filepath_or_buffer\u001b[38;5;241m.\u001b[39mlower()\u001b[38;5;241m.\u001b[39mendswith(\n\u001b[1;32m   (...)\u001b[0m\n\u001b[0;32m    958\u001b[0m     \u001b[38;5;129;01mand\u001b[39;00m \u001b[38;5;129;01mnot\u001b[39;00m file_exists(filepath_or_buffer)\n\u001b[0;32m    959\u001b[0m ):\n",
      "File \u001b[1;32mc:\\Users\\hossein\\AppData\\Local\\Programs\\Python\\Python312\\Lib\\site-packages\\pandas\\io\\common.py:728\u001b[0m, in \u001b[0;36mget_handle\u001b[1;34m(path_or_buf, mode, encoding, compression, memory_map, is_text, errors, storage_options)\u001b[0m\n\u001b[0;32m    725\u001b[0m     codecs\u001b[38;5;241m.\u001b[39mlookup_error(errors)\n\u001b[0;32m    727\u001b[0m \u001b[38;5;66;03m# open URLs\u001b[39;00m\n\u001b[1;32m--> 728\u001b[0m ioargs \u001b[38;5;241m=\u001b[39m \u001b[43m_get_filepath_or_buffer\u001b[49m\u001b[43m(\u001b[49m\n\u001b[0;32m    729\u001b[0m \u001b[43m    \u001b[49m\u001b[43mpath_or_buf\u001b[49m\u001b[43m,\u001b[49m\n\u001b[0;32m    730\u001b[0m \u001b[43m    \u001b[49m\u001b[43mencoding\u001b[49m\u001b[38;5;241;43m=\u001b[39;49m\u001b[43mencoding\u001b[49m\u001b[43m,\u001b[49m\n\u001b[0;32m    731\u001b[0m \u001b[43m    \u001b[49m\u001b[43mcompression\u001b[49m\u001b[38;5;241;43m=\u001b[39;49m\u001b[43mcompression\u001b[49m\u001b[43m,\u001b[49m\n\u001b[0;32m    732\u001b[0m \u001b[43m    \u001b[49m\u001b[43mmode\u001b[49m\u001b[38;5;241;43m=\u001b[39;49m\u001b[43mmode\u001b[49m\u001b[43m,\u001b[49m\n\u001b[0;32m    733\u001b[0m \u001b[43m    \u001b[49m\u001b[43mstorage_options\u001b[49m\u001b[38;5;241;43m=\u001b[39;49m\u001b[43mstorage_options\u001b[49m\u001b[43m,\u001b[49m\n\u001b[0;32m    734\u001b[0m \u001b[43m\u001b[49m\u001b[43m)\u001b[49m\n\u001b[0;32m    736\u001b[0m handle \u001b[38;5;241m=\u001b[39m ioargs\u001b[38;5;241m.\u001b[39mfilepath_or_buffer\n\u001b[0;32m    737\u001b[0m handles: \u001b[38;5;28mlist\u001b[39m[BaseBuffer]\n",
      "File \u001b[1;32mc:\\Users\\hossein\\AppData\\Local\\Programs\\Python\\Python312\\Lib\\site-packages\\pandas\\io\\common.py:384\u001b[0m, in \u001b[0;36m_get_filepath_or_buffer\u001b[1;34m(filepath_or_buffer, encoding, compression, mode, storage_options)\u001b[0m\n\u001b[0;32m    382\u001b[0m \u001b[38;5;66;03m# assuming storage_options is to be interpreted as headers\u001b[39;00m\n\u001b[0;32m    383\u001b[0m req_info \u001b[38;5;241m=\u001b[39m urllib\u001b[38;5;241m.\u001b[39mrequest\u001b[38;5;241m.\u001b[39mRequest(filepath_or_buffer, headers\u001b[38;5;241m=\u001b[39mstorage_options)\n\u001b[1;32m--> 384\u001b[0m \u001b[38;5;28;01mwith\u001b[39;00m \u001b[43murlopen\u001b[49m\u001b[43m(\u001b[49m\u001b[43mreq_info\u001b[49m\u001b[43m)\u001b[49m \u001b[38;5;28;01mas\u001b[39;00m req:\n\u001b[0;32m    385\u001b[0m     content_encoding \u001b[38;5;241m=\u001b[39m req\u001b[38;5;241m.\u001b[39mheaders\u001b[38;5;241m.\u001b[39mget(\u001b[38;5;124m\"\u001b[39m\u001b[38;5;124mContent-Encoding\u001b[39m\u001b[38;5;124m\"\u001b[39m, \u001b[38;5;28;01mNone\u001b[39;00m)\n\u001b[0;32m    386\u001b[0m     \u001b[38;5;28;01mif\u001b[39;00m content_encoding \u001b[38;5;241m==\u001b[39m \u001b[38;5;124m\"\u001b[39m\u001b[38;5;124mgzip\u001b[39m\u001b[38;5;124m\"\u001b[39m:\n\u001b[0;32m    387\u001b[0m         \u001b[38;5;66;03m# Override compression based on Content-Encoding header\u001b[39;00m\n",
      "File \u001b[1;32mc:\\Users\\hossein\\AppData\\Local\\Programs\\Python\\Python312\\Lib\\site-packages\\pandas\\io\\common.py:289\u001b[0m, in \u001b[0;36murlopen\u001b[1;34m(*args, **kwargs)\u001b[0m\n\u001b[0;32m    283\u001b[0m \u001b[38;5;250m\u001b[39m\u001b[38;5;124;03m\"\"\"\u001b[39;00m\n\u001b[0;32m    284\u001b[0m \u001b[38;5;124;03mLazy-import wrapper for stdlib urlopen, as that imports a big chunk of\u001b[39;00m\n\u001b[0;32m    285\u001b[0m \u001b[38;5;124;03mthe stdlib.\u001b[39;00m\n\u001b[0;32m    286\u001b[0m \u001b[38;5;124;03m\"\"\"\u001b[39;00m\n\u001b[0;32m    287\u001b[0m \u001b[38;5;28;01mimport\u001b[39;00m \u001b[38;5;21;01murllib\u001b[39;00m\u001b[38;5;21;01m.\u001b[39;00m\u001b[38;5;21;01mrequest\u001b[39;00m\n\u001b[1;32m--> 289\u001b[0m \u001b[38;5;28;01mreturn\u001b[39;00m \u001b[43murllib\u001b[49m\u001b[38;5;241;43m.\u001b[39;49m\u001b[43mrequest\u001b[49m\u001b[38;5;241;43m.\u001b[39;49m\u001b[43murlopen\u001b[49m\u001b[43m(\u001b[49m\u001b[38;5;241;43m*\u001b[39;49m\u001b[43margs\u001b[49m\u001b[43m,\u001b[49m\u001b[43m \u001b[49m\u001b[38;5;241;43m*\u001b[39;49m\u001b[38;5;241;43m*\u001b[39;49m\u001b[43mkwargs\u001b[49m\u001b[43m)\u001b[49m\n",
      "File \u001b[1;32mc:\\Users\\hossein\\AppData\\Local\\Programs\\Python\\Python312\\Lib\\urllib\\request.py:215\u001b[0m, in \u001b[0;36murlopen\u001b[1;34m(url, data, timeout, cafile, capath, cadefault, context)\u001b[0m\n\u001b[0;32m    213\u001b[0m \u001b[38;5;28;01melse\u001b[39;00m:\n\u001b[0;32m    214\u001b[0m     opener \u001b[38;5;241m=\u001b[39m _opener\n\u001b[1;32m--> 215\u001b[0m \u001b[38;5;28;01mreturn\u001b[39;00m \u001b[43mopener\u001b[49m\u001b[38;5;241;43m.\u001b[39;49m\u001b[43mopen\u001b[49m\u001b[43m(\u001b[49m\u001b[43murl\u001b[49m\u001b[43m,\u001b[49m\u001b[43m \u001b[49m\u001b[43mdata\u001b[49m\u001b[43m,\u001b[49m\u001b[43m \u001b[49m\u001b[43mtimeout\u001b[49m\u001b[43m)\u001b[49m\n",
      "File \u001b[1;32mc:\\Users\\hossein\\AppData\\Local\\Programs\\Python\\Python312\\Lib\\urllib\\request.py:521\u001b[0m, in \u001b[0;36mOpenerDirector.open\u001b[1;34m(self, fullurl, data, timeout)\u001b[0m\n\u001b[0;32m    519\u001b[0m \u001b[38;5;28;01mfor\u001b[39;00m processor \u001b[38;5;129;01min\u001b[39;00m \u001b[38;5;28mself\u001b[39m\u001b[38;5;241m.\u001b[39mprocess_response\u001b[38;5;241m.\u001b[39mget(protocol, []):\n\u001b[0;32m    520\u001b[0m     meth \u001b[38;5;241m=\u001b[39m \u001b[38;5;28mgetattr\u001b[39m(processor, meth_name)\n\u001b[1;32m--> 521\u001b[0m     response \u001b[38;5;241m=\u001b[39m \u001b[43mmeth\u001b[49m\u001b[43m(\u001b[49m\u001b[43mreq\u001b[49m\u001b[43m,\u001b[49m\u001b[43m \u001b[49m\u001b[43mresponse\u001b[49m\u001b[43m)\u001b[49m\n\u001b[0;32m    523\u001b[0m \u001b[38;5;28;01mreturn\u001b[39;00m response\n",
      "File \u001b[1;32mc:\\Users\\hossein\\AppData\\Local\\Programs\\Python\\Python312\\Lib\\urllib\\request.py:630\u001b[0m, in \u001b[0;36mHTTPErrorProcessor.http_response\u001b[1;34m(self, request, response)\u001b[0m\n\u001b[0;32m    627\u001b[0m \u001b[38;5;66;03m# According to RFC 2616, \"2xx\" code indicates that the client's\u001b[39;00m\n\u001b[0;32m    628\u001b[0m \u001b[38;5;66;03m# request was successfully received, understood, and accepted.\u001b[39;00m\n\u001b[0;32m    629\u001b[0m \u001b[38;5;28;01mif\u001b[39;00m \u001b[38;5;129;01mnot\u001b[39;00m (\u001b[38;5;241m200\u001b[39m \u001b[38;5;241m<\u001b[39m\u001b[38;5;241m=\u001b[39m code \u001b[38;5;241m<\u001b[39m \u001b[38;5;241m300\u001b[39m):\n\u001b[1;32m--> 630\u001b[0m     response \u001b[38;5;241m=\u001b[39m \u001b[38;5;28;43mself\u001b[39;49m\u001b[38;5;241;43m.\u001b[39;49m\u001b[43mparent\u001b[49m\u001b[38;5;241;43m.\u001b[39;49m\u001b[43merror\u001b[49m\u001b[43m(\u001b[49m\n\u001b[0;32m    631\u001b[0m \u001b[43m        \u001b[49m\u001b[38;5;124;43m'\u001b[39;49m\u001b[38;5;124;43mhttp\u001b[39;49m\u001b[38;5;124;43m'\u001b[39;49m\u001b[43m,\u001b[49m\u001b[43m \u001b[49m\u001b[43mrequest\u001b[49m\u001b[43m,\u001b[49m\u001b[43m \u001b[49m\u001b[43mresponse\u001b[49m\u001b[43m,\u001b[49m\u001b[43m \u001b[49m\u001b[43mcode\u001b[49m\u001b[43m,\u001b[49m\u001b[43m \u001b[49m\u001b[43mmsg\u001b[49m\u001b[43m,\u001b[49m\u001b[43m \u001b[49m\u001b[43mhdrs\u001b[49m\u001b[43m)\u001b[49m\n\u001b[0;32m    633\u001b[0m \u001b[38;5;28;01mreturn\u001b[39;00m response\n",
      "File \u001b[1;32mc:\\Users\\hossein\\AppData\\Local\\Programs\\Python\\Python312\\Lib\\urllib\\request.py:559\u001b[0m, in \u001b[0;36mOpenerDirector.error\u001b[1;34m(self, proto, *args)\u001b[0m\n\u001b[0;32m    557\u001b[0m \u001b[38;5;28;01mif\u001b[39;00m http_err:\n\u001b[0;32m    558\u001b[0m     args \u001b[38;5;241m=\u001b[39m (\u001b[38;5;28mdict\u001b[39m, \u001b[38;5;124m'\u001b[39m\u001b[38;5;124mdefault\u001b[39m\u001b[38;5;124m'\u001b[39m, \u001b[38;5;124m'\u001b[39m\u001b[38;5;124mhttp_error_default\u001b[39m\u001b[38;5;124m'\u001b[39m) \u001b[38;5;241m+\u001b[39m orig_args\n\u001b[1;32m--> 559\u001b[0m     \u001b[38;5;28;01mreturn\u001b[39;00m \u001b[38;5;28;43mself\u001b[39;49m\u001b[38;5;241;43m.\u001b[39;49m\u001b[43m_call_chain\u001b[49m\u001b[43m(\u001b[49m\u001b[38;5;241;43m*\u001b[39;49m\u001b[43margs\u001b[49m\u001b[43m)\u001b[49m\n",
      "File \u001b[1;32mc:\\Users\\hossein\\AppData\\Local\\Programs\\Python\\Python312\\Lib\\urllib\\request.py:492\u001b[0m, in \u001b[0;36mOpenerDirector._call_chain\u001b[1;34m(self, chain, kind, meth_name, *args)\u001b[0m\n\u001b[0;32m    490\u001b[0m \u001b[38;5;28;01mfor\u001b[39;00m handler \u001b[38;5;129;01min\u001b[39;00m handlers:\n\u001b[0;32m    491\u001b[0m     func \u001b[38;5;241m=\u001b[39m \u001b[38;5;28mgetattr\u001b[39m(handler, meth_name)\n\u001b[1;32m--> 492\u001b[0m     result \u001b[38;5;241m=\u001b[39m \u001b[43mfunc\u001b[49m\u001b[43m(\u001b[49m\u001b[38;5;241;43m*\u001b[39;49m\u001b[43margs\u001b[49m\u001b[43m)\u001b[49m\n\u001b[0;32m    493\u001b[0m     \u001b[38;5;28;01mif\u001b[39;00m result \u001b[38;5;129;01mis\u001b[39;00m \u001b[38;5;129;01mnot\u001b[39;00m \u001b[38;5;28;01mNone\u001b[39;00m:\n\u001b[0;32m    494\u001b[0m         \u001b[38;5;28;01mreturn\u001b[39;00m result\n",
      "File \u001b[1;32mc:\\Users\\hossein\\AppData\\Local\\Programs\\Python\\Python312\\Lib\\urllib\\request.py:639\u001b[0m, in \u001b[0;36mHTTPDefaultErrorHandler.http_error_default\u001b[1;34m(self, req, fp, code, msg, hdrs)\u001b[0m\n\u001b[0;32m    638\u001b[0m \u001b[38;5;28;01mdef\u001b[39;00m \u001b[38;5;21mhttp_error_default\u001b[39m(\u001b[38;5;28mself\u001b[39m, req, fp, code, msg, hdrs):\n\u001b[1;32m--> 639\u001b[0m     \u001b[38;5;28;01mraise\u001b[39;00m HTTPError(req\u001b[38;5;241m.\u001b[39mfull_url, code, msg, hdrs, fp)\n",
      "\u001b[1;31mHTTPError\u001b[0m: HTTP Error 404: Not Found"
     ]
    }
   ],
   "source": [
    "url = 'http://example.com/data.json'\n",
    "df = pd.read_json(url)\n",
    "print(df.head())"
   ]
  },
  {
   "cell_type": "markdown",
   "metadata": {},
   "source": [
    "<div style=\"font-size: 1.1em; font-family: arial; padding: 30px; padding-top: 0; padding-bottom: 0;\">\n",
    "\n",
    "<h4>Describing Data with Pandas</h4>\n",
    "\n",
    "\n",
    "<span>Describing Data with Pandas\n",
    "Descriptive statistics provide a summary of the dataset's central tendencies, spread, and distribution. Pandas offers several built-in functions to compute descriptive statistics:</span>\n",
    "\n",
    "\n",
    "</div>"
   ]
  },
  {
   "cell_type": "code",
   "execution_count": null,
   "metadata": {},
   "outputs": [
    {
     "name": "stdout",
     "output_type": "stream",
     "text": [
      "<class 'pandas.core.frame.DataFrame'>\n",
      "RangeIndex: 5 entries, 0 to 4\n",
      "Data columns (total 4 columns):\n",
      " #   Column  Non-Null Count  Dtype \n",
      "---  ------  --------------  ----- \n",
      " 0   Name    5 non-null      object\n",
      " 1   Age     5 non-null      int64 \n",
      " 2   City    5 non-null      object\n",
      " 3   Salary  5 non-null      int64 \n",
      "dtypes: int64(2), object(2)\n",
      "memory usage: 292.0+ bytes\n",
      "           Salary\n",
      "City             \n",
      "London    50000.0\n",
      "New York  70000.0\n",
      "Paris     60000.0\n",
      "Sydney    80000.0\n",
      "Tokyo     55000.0\n",
      "           Age  Salary\n",
      "City                  \n",
      "London    25.0   50000\n",
      "New York  28.0   70000\n",
      "Paris     32.0   60000\n",
      "Sydney    27.0   80000\n",
      "Tokyo     31.0   55000\n"
     ]
    }
   ],
   "source": [
    "data = {'Name': ['John', 'Emma', 'Peter', 'Emily', 'David'],\n",
    "        'Age': [25, 28, 32, 27, 31],\n",
    "        'City': ['London', 'New York', 'Paris', 'Sydney', 'Tokyo'],\n",
    "        'Salary': [50000, 70000, 60000, 80000, 55000]}\n",
    "df = pd.DataFrame(data)\n",
    "df.head()\n",
    "df.info()\n",
    "df.describe()\n",
    "df[df['Age'] > 30]\n"
   ]
  },
  {
   "cell_type": "markdown",
   "metadata": {},
   "source": [
    "<div style=\"font-size: 1.1em; font-family: arial; padding: 30px; padding-top: 0; padding-bottom: 0;\">\n",
    "\n",
    "<h4>Data Aggregation</h4>\n",
    "\n",
    "\n",
    "<span>Data aggregation involves grouping and summarizing data based on certain criteria. Pandas provides powerful tools for data aggregation, such as groupby() and pivot_table(). Let's see an example:</span>\n",
    "\n",
    "\n",
    "</div>"
   ]
  },
  {
   "cell_type": "code",
   "execution_count": null,
   "metadata": {},
   "outputs": [
    {
     "name": "stdout",
     "output_type": "stream",
     "text": [
      "           Salary\n",
      "City             \n",
      "London    50000.0\n",
      "New York  70000.0\n",
      "Paris     60000.0\n",
      "Sydney    80000.0\n",
      "Tokyo     55000.0\n",
      "           Age  Salary\n",
      "City                  \n",
      "London    25.0   50000\n",
      "New York  28.0   70000\n",
      "Paris     32.0   60000\n",
      "Sydney    27.0   80000\n",
      "Tokyo     31.0   55000\n"
     ]
    }
   ],
   "source": [
    "pivot_table = df.pivot_table(values='Salary', index='City', aggfunc='mean')\n",
    "print(pivot_table)\n",
    "grouped_df = df.groupby('City').agg({'Age': 'mean', 'Salary': 'max'})\n",
    "print(grouped_df)\n",
    "\n"
   ]
  },
  {
   "cell_type": "markdown",
   "metadata": {},
   "source": [
    "<div style=\"font-size: 1.1em; font-family: arial; padding: 30px; padding-top: 0; padding-bottom: 0;\">\n",
    "\n",
    "<h4>Handling Missing Values</h4>\n",
    "\n",
    "\n",
    "<span>Missing values are a common occurrence in datasets. Pandas provides methods to handle missing values, such as dropna() and fillna(). Let's see how to handle missing values:</span>\n",
    "\n",
    "\n",
    "</div>"
   ]
  },
  {
   "cell_type": "code",
   "execution_count": null,
   "metadata": {},
   "outputs": [],
   "source": [
    "df.dropna()\n"
   ]
  },
  {
   "cell_type": "markdown",
   "metadata": {},
   "source": [
    "<div style=\"font-size: 1.1em; font-family: arial; padding: 30px; padding-top: 0; padding-bottom: 0;\">\n",
    "\n",
    "<h4>Selecting and Viewing Data with Pandas</h4>\n",
    "\n",
    "\n",
    "<span>select columns from the DataFrame. To select a single column, you can use square brackets and provide the column name as a string. To select multiple columns, you can pass a list of column names within square brackets.</span>\n",
    "\n",
    "\n",
    "</div>"
   ]
  },
  {
   "cell_type": "code",
   "execution_count": null,
   "metadata": {},
   "outputs": [
    {
     "name": "stdout",
     "output_type": "stream",
     "text": [
      "0     John\n",
      "1     Emma\n",
      "2    Peter\n",
      "3    Emily\n",
      "4    David\n",
      "Name: Name, dtype: object\n",
      "    Name  Salary\n",
      "0   John   50000\n",
      "1   Emma   70000\n",
      "2  Peter   60000\n",
      "3  Emily   80000\n",
      "4  David   55000\n"
     ]
    }
   ],
   "source": [
    "name_column = df['Name']\n",
    "print(name_column)\n",
    "\n",
    "name_salary_columns = df[['Name', 'Salary']]\n",
    "print(name_salary_columns)"
   ]
  },
  {
   "cell_type": "markdown",
   "metadata": {},
   "source": [
    " select subsets of data from the DataFrame. You can use the loc indexer to select specific rows and columns by providing index labels and column names. Additionally, you can combine conditional filtering and column selection to retrieve specific rows and columns."
   ]
  },
  {
   "cell_type": "code",
   "execution_count": null,
   "metadata": {},
   "outputs": [
    {
     "name": "stdout",
     "output_type": "stream",
     "text": [
      "    Name  Age\n",
      "1   Emma   28\n",
      "2  Peter   32\n",
      "3  Emily   27\n",
      "    Name      City\n",
      "1   Emma  New York\n",
      "3  Emily    Sydney\n"
     ]
    }
   ],
   "source": [
    "subset_1 = df.loc[1:3, ['Name', 'Age']]\n",
    "print(subset_1)\n",
    "\n",
    "subset_2 = df[df['Salary'] > 60000][['Name', 'City']]\n",
    "print(subset_2)"
   ]
  },
  {
   "cell_type": "markdown",
   "metadata": {},
   "source": [
    "sort the data in the DataFrame. You can use the sort_values() function to sort the DataFrame by one or more columns. By default, the sorting is done in ascending order, but you can specify the sorting order using the ascending parameter."
   ]
  },
  {
   "cell_type": "code",
   "execution_count": null,
   "metadata": {},
   "outputs": [],
   "source": [
    "sorted_df_1 = df.sort_values('Age')\n",
    "print(sorted_df_1)\n",
    "\n",
    "sorted_df_2 = df.sort_values(['City', 'Salary'], ascending=[True, False])\n",
    "print(sorted_df_2)"
   ]
  },
  {
   "cell_type": "markdown",
   "metadata": {},
   "source": [
    "<div style=\"font-size: 1.1em; font-family: arial; padding: 30px; padding-top: 0; padding-bottom: 0;\">\n",
    "\n",
    "<h4>manipulating data</h4>\n",
    "\n",
    "\n",
    "<span>Pandas data manipulation is the process of cleaning, transforming, and aggregating data using the Pandas library. Pandas provides a variety of functions for performing these tasks, making it a powerful and versatile tool for data analysis.</span>\n",
    "\n",
    "\n",
    "</div>"
   ]
  },
  {
   "cell_type": "markdown",
   "metadata": {},
   "source": [
    "that it can be renaming a value:"
   ]
  },
  {
   "cell_type": "code",
   "execution_count": null,
   "metadata": {},
   "outputs": [],
   "source": [
    "df.rename(columns={'City': 'Location'}, inplace=True)\n",
    "print(df)"
   ]
  },
  {
   "cell_type": "markdown",
   "metadata": {},
   "source": [
    "or adding a new column:"
   ]
  },
  {
   "cell_type": "code",
   "execution_count": null,
   "metadata": {},
   "outputs": [],
   "source": [
    "df['Age Category'] = pd.cut(df['Age'], bins=[0, 30, 40], labels=['Young', 'Middle-aged'])\n",
    "print(df)"
   ]
  },
  {
   "cell_type": "markdown",
   "metadata": {},
   "source": [
    "or even updating and removing:"
   ]
  },
  {
   "cell_type": "code",
   "execution_count": null,
   "metadata": {},
   "outputs": [],
   "source": [
    "df.loc[df['Location'] == 'New York', 'Salary'] *= 1.1\n",
    "print(df)\n",
    "df.drop('Age Category', axis=1, inplace=True)\n",
    "print(df)"
   ]
  },
  {
   "cell_type": "markdown",
   "id": "648a3a2d",
   "metadata": {
    "jp-MarkdownHeadingCollapsed": true
   },
   "source": [
    "<div style=\"font-family: arial; padding: 30px; padding-top: 15px; padding-bottom: 0;\">\n",
    "\n",
    "<hr style=\"margin-top: 25px; border-color: #fff;\">\n",
    "\n",
    "<h2 style=\"text-align: center; color: #186e00;\">NumPy</h2>\n",
    "\n",
    "<hr style=\"margin-top: 25px; border-color: #fff;\">\n",
    "\n",
    "</div>"
   ]
  },
  {
   "cell_type": "markdown",
   "id": "b2703d52-7195-48ea-8648-327e02dd0761",
   "metadata": {},
   "source": [
    "<div style=\"font-family: arial; padding: 30px; padding-top: 0; padding-bottom: 0;\">\n",
    "    \n",
    "<h2 id=\"introduction\" style=\"color: #d42c06;\">NumPy Introduction</h2>\n",
    "\n",
    "</div>"
   ]
  },
  {
   "cell_type": "markdown",
   "id": "014d15e3-9ccd-43a0-8254-b2835ba1a624",
   "metadata": {
    "vscode": {
     "languageId": "c++17"
    }
   },
   "source": [
    "Nowadays in the world of Data Science. whether you're on a machine learning project or doing a simple modeling for a problem there is a very less probability not encountering this library named \"NumPy\".<br>\n",
    "\n",
    "Numpy is the fundamental package for numeric computing with Python. It provides powerful ways to create, store, and/or manipulate data, which makes it able to seamlessly and speedily integrate with a wide variety of databases. \n",
    "\n",
    "In this part of notebook we take our focus on explaining Numpy library and its tools "
   ]
  },
  {
   "cell_type": "markdown",
   "id": "16f561de-3f19-48d5-a9fd-ce47228b7e3b",
   "metadata": {},
   "source": [
    "<div style=\"font-size: 1.1em; font-family: arial; padding: 30px; padding-top: 0; padding-bottom: 0;\">\n",
    "\n",
    "<span>Importing Numpy.</span>\n",
    "\n",
    "\n",
    "</div>"
   ]
  },
  {
   "cell_type": "code",
   "execution_count": null,
   "id": "c362a946-cdbb-4667-845f-a4c1ae5c85fb",
   "metadata": {},
   "outputs": [],
   "source": [
    "import numpy as np\n",
    "# We can import libraries names as something else so we can call them easier \n",
    "# like here that we imported numpy as np"
   ]
  },
  {
   "cell_type": "markdown",
   "id": "6c4b10fa-fceb-495a-9341-aa83a07fb0af",
   "metadata": {},
   "source": [
    "<div style=\"padding: 30px; padding-top: 0; padding-bottom: 0;\">\n",
    "\n",
    "<hr style=\"border-color: #fff;\">\n",
    "\n",
    "</div>"
   ]
  },
  {
   "cell_type": "markdown",
   "id": "bb103277-4745-4d72-bd54-32d161c0ce59",
   "metadata": {},
   "source": [
    "<div style=\"font-family: arial; padding: 30px; padding-top: 0; padding-bottom: 0;\">\n",
    "    \n",
    "<h2 id=\"section\" style=\"color: #d42c06;\">NumPy DataTypes and Attributes</h2>\n",
    "\n",
    "</div>"
   ]
  },
  {
   "cell_type": "markdown",
   "id": "f5003174-904c-4ec9-85cb-f044b77b3784",
   "metadata": {},
   "source": [
    "<div style=\"font-size: 1.1em; font-family: arial; padding: 30px; padding-top: 0; padding-bottom: 0;\">\n",
    "\n",
    "<span>Data Types.</span>\n",
    "\n",
    "\n",
    "</div>"
   ]
  },
  {
   "cell_type": "markdown",
   "id": "8aa9c904-a772-42d0-9732-2826e96996b2",
   "metadata": {
    "vscode": {
     "languageId": "c++17"
    }
   },
   "source": [
    "Numpy has a variety of datatypes that we will explain some of them "
   ]
  },
  {
   "cell_type": "markdown",
   "id": "f433e6cd-8b12-47e2-a155-84a6fe752152",
   "metadata": {},
   "source": [
    "* float : can represent numbers with floating points\n",
    "* integer : represents integer numbers\n",
    "* bool_ : Boolean(True or False) stores as a byte\n",
    "* utype :  an 8-bit unsigned integral data type, with values ranging from 0 to 255, inclusive.<br>\n",
    "  and etc...<br>\n",
    "  .<br>\n",
    "  .<br>\n",
    "  for more information you can visit https://numpy.org/doc/stable/user/basics.types.html"
   ]
  },
  {
   "cell_type": "markdown",
   "id": "8f40fcb1-a419-495f-af47-b516bd4dc4f5",
   "metadata": {},
   "source": [
    "<div style=\"padding: 30px; padding-top: 0; padding-bottom: 0;\">\n",
    "\n",
    "<hr style=\"border-color: #fff;\">\n",
    "\n",
    "</div>"
   ]
  },
  {
   "cell_type": "markdown",
   "id": "f7e49226-3ff6-4c31-808e-a90d94f0ecc5",
   "metadata": {},
   "source": [
    "<div style=\"font-family: arial; padding: 30px; padding-top: 0; padding-bottom: 0;\">\n",
    "    \n",
    "<h2 id=\"section\" style=\"color: #d42c06;\">Creating Numpy Arrays</h2>\n",
    "\n",
    "</div>"
   ]
  },
  {
   "cell_type": "markdown",
   "id": "2d53071c-1bb3-45d7-968f-e8622d5ee3b3",
   "metadata": {},
   "source": [
    "<div style=\"font-size: 1.1em; font-family: arial; padding: 30px; padding-top: 0; padding-bottom: 0;\">\n",
    "\n",
    "<span>Arrays and Attributes of it.</span>\n",
    "\n",
    "\n",
    "</div>"
   ]
  },
  {
   "cell_type": "markdown",
   "id": "4cc4b48f-b4d2-49de-a337-6d000636f70e",
   "metadata": {},
   "source": [
    "An array is a central data structure of the NumPy library. An array is a grid of values and it contains information about the raw data, how to locate an element, and how to interpret an element.<br>\n",
    "\n",
    "In NumPy, attributes are properties of NumPy arrays that provide information about the array's shape, size, data type,dimension, and so on."
   ]
  },
  {
   "cell_type": "code",
   "execution_count": null,
   "id": "c33df9cd-d5a5-437d-8f70-433e8dc47064",
   "metadata": {},
   "outputs": [
    {
     "data": {
      "text/plain": [
       "array([1, 2, 3, 4, 5])"
      ]
     },
     "execution_count": 95,
     "metadata": {},
     "output_type": "execute_result"
    }
   ],
   "source": [
    "# making an array:\n",
    "np.array([1 ,2 ,3 ,4 ,5])"
   ]
  },
  {
   "cell_type": "code",
   "execution_count": null,
   "id": "21b6fd0a-c233-4c1f-b3a6-c90ff259d46e",
   "metadata": {},
   "outputs": [
    {
     "data": {
      "text/plain": [
       "array([1.2, 2.4, 5.6, 4.3])"
      ]
     },
     "execution_count": 96,
     "metadata": {},
     "output_type": "execute_result"
    }
   ],
   "source": [
    "np.array([1.2,2.4,5.6,4.3])"
   ]
  },
  {
   "cell_type": "code",
   "execution_count": null,
   "id": "8ba1a51c-9b7a-4ea2-a62b-d529183b940a",
   "metadata": {},
   "outputs": [
    {
     "data": {
      "text/plain": [
       "dtype('float64')"
      ]
     },
     "execution_count": 97,
     "metadata": {},
     "output_type": "execute_result"
    }
   ],
   "source": [
    "our_array = np.array([[1.6,4.2,6.7],[2.3,3.4,2.1],[9.3,1.2,3.5]])\n",
    "#knowing the datatype of an array\n",
    "our_array.dtype"
   ]
  },
  {
   "cell_type": "markdown",
   "id": "83e68c7a-2fa5-4d3a-a6af-58ab2e8979af",
   "metadata": {},
   "source": [
    "<div style=\"font-size: 1.1em; font-family: arial; padding: 30px;\">\n",
    "<div style=\"border: 2px solid #1f49a3; border-radius: 10px; padding: 30px; padding-top: 15px;\">\n",
    "<h3 style=\"color: #1f49a3; font-weight: bold;\">Note</h3>\n",
    "<span style=\"color: #1f49a3;\">Maybe you're questioning what is this float64's meaning is.it refers to the number of bits that the operating system is\n",
    "reserving to represent the number, which determines the size (or precision) of the numbers that can be\n",
    "represented.</span>\n",
    "</div>\n",
    "</div>"
   ]
  },
  {
   "cell_type": "code",
   "execution_count": null,
   "id": "05bba8d8-af50-4573-915d-6802e9c07aea",
   "metadata": {},
   "outputs": [
    {
     "name": "stdout",
     "output_type": "stream",
     "text": [
      "1\n"
     ]
    }
   ],
   "source": [
    "a = np.array([1,2,3,4])\n",
    "# We can print the number of dimensions of a list using the ndim attribute\n",
    "print(a.ndim)"
   ]
  },
  {
   "cell_type": "code",
   "execution_count": null,
   "id": "e305ab59-3dce-44d9-bcf7-4ccf702c20eb",
   "metadata": {},
   "outputs": [
    {
     "data": {
      "text/plain": [
       "(2, 3)"
      ]
     },
     "execution_count": 99,
     "metadata": {},
     "output_type": "execute_result"
    }
   ],
   "source": [
    "# If we pass in a list of lists in numpy array, we create a multi-dimensional array, for instance, a matrix\n",
    "b = np.array([[1,2,3],[4,5,6]])\n",
    "# We can print out the length of each dimension by calling the shape attribute, which returns a tuple\n",
    "b.shape"
   ]
  },
  {
   "cell_type": "code",
   "execution_count": null,
   "id": "900e24ec-fca6-4d92-9f73-8f7513d1fcf5",
   "metadata": {},
   "outputs": [
    {
     "name": "stdout",
     "output_type": "stream",
     "text": [
      "float64\n",
      "[2.2 5.  1.1]\n"
     ]
    }
   ],
   "source": [
    "# Besides integers, floats are also accepted in numpy arrays\n",
    "c = np.array([2.2, 5, 1.1])\n",
    "print(c.dtype.name)\n",
    "print(c)"
   ]
  },
  {
   "cell_type": "markdown",
   "id": "539e1eda-9fef-494d-86ab-a23834b8ad0a",
   "metadata": {},
   "source": [
    "<div style=\"font-size: 1.1em; font-family: arial; padding: 30px;\">\n",
    "<div style=\"border: 2px solid #1f49a3; border-radius: 10px; padding: 30px; padding-top: 15px;\">\n",
    "<h3 style=\"color: #1f49a3; font-weight: bold;\">Note</h3>\n",
    "<span style=\"color: #1f49a3;\">Note that numpy automatically converts integers, like 5, up to floats, since there is no loss of prescision.\n",
    "Numpy will try and give you the best data type format possible to keep your data types homogeneous, which\n",
    "means all the same, in the array.</span>\n",
    "</div>\n",
    "</div>"
   ]
  },
  {
   "cell_type": "markdown",
   "id": "c9a0fabd-7393-4eca-8e72-afad95aeda1c",
   "metadata": {},
   "source": [
    "Sometimes we know the shape of an array that we want to create, but not what we want to be in it. numpy<br>\n",
    "offers several functions to create arrays with initial placeholders, such as zero's or one's.<br>\n",
    "Lets create two arrays, both the same shape but with different filler values<br>"
   ]
  },
  {
   "cell_type": "code",
   "execution_count": null,
   "id": "337d1a07-8359-47a3-8724-883c06099cc0",
   "metadata": {},
   "outputs": [
    {
     "name": "stdout",
     "output_type": "stream",
     "text": [
      "[[0. 0. 0.]\n",
      " [0. 0. 0.]]\n",
      "\n",
      "[[1. 1. 1.]\n",
      " [1. 1. 1.]]\n"
     ]
    }
   ],
   "source": [
    "d = np.zeros((2,3))\n",
    "print(d)\n",
    "print()\n",
    "e = np.ones((2,3))\n",
    "print(e)"
   ]
  },
  {
   "cell_type": "code",
   "execution_count": null,
   "id": "bf0a059d-0538-4eea-bfa7-390fda8b51fa",
   "metadata": {},
   "outputs": [
    {
     "data": {
      "text/plain": [
       "array([[0.79172504, 0.52889492, 0.56804456],\n",
       "       [0.92559664, 0.07103606, 0.0871293 ]])"
      ]
     },
     "execution_count": 102,
     "metadata": {},
     "output_type": "execute_result"
    }
   ],
   "source": [
    "# We can also generate an array with random numbers\n",
    "np.random.rand(2,3)"
   ]
  },
  {
   "cell_type": "markdown",
   "id": "f912f1c8-42a6-4284-b6df-b52f2cf60bd2",
   "metadata": {},
   "source": [
    "We can also create a sequence of numbers in an array with the arrange() function. The fist argument is the\n",
    "starting bound and the second argument is the ending bound, and the third argument is the difference between\n",
    "each consecutive numbers\n",
    "\n",
    "Let's create an array of every even number from ten (inclusive) to fifty (exclusive)"
   ]
  },
  {
   "cell_type": "code",
   "execution_count": null,
   "id": "97aab6f3-56c6-4998-8cc4-bcf820b02d8d",
   "metadata": {},
   "outputs": [
    {
     "data": {
      "text/plain": [
       "array([10, 12, 14, 16, 18, 20, 22, 24, 26, 28, 30, 32, 34, 36, 38, 40, 42,\n",
       "       44, 46, 48])"
      ]
     },
     "execution_count": 103,
     "metadata": {},
     "output_type": "execute_result"
    }
   ],
   "source": [
    "f = np.arange(10, 50, 2)\n",
    "f"
   ]
  },
  {
   "cell_type": "markdown",
   "id": "9acb7310-95dc-4da2-9d74-a910b438518b",
   "metadata": {},
   "source": [
    "if we want to generate a sequence of floats, we can use the linspace() function. In this function the third\n",
    "argument isn't the difference between two numbers, but the total number of items you want to generate"
   ]
  },
  {
   "cell_type": "code",
   "execution_count": null,
   "id": "5db65495-a092-4603-8991-d9e09f81424c",
   "metadata": {},
   "outputs": [
    {
     "data": {
      "text/plain": [
       "array([0.        , 0.14285714, 0.28571429, 0.42857143, 0.57142857,\n",
       "       0.71428571, 0.85714286, 1.        , 1.14285714, 1.28571429,\n",
       "       1.42857143, 1.57142857, 1.71428571, 1.85714286, 2.        ])"
      ]
     },
     "execution_count": 104,
     "metadata": {},
     "output_type": "execute_result"
    }
   ],
   "source": [
    "np.linspace( 0, 2, 15 ) # 15 numbers from 0 (inclusive) to 2 (inclusive)"
   ]
  },
  {
   "cell_type": "markdown",
   "id": "0f7d4d8c-6153-4fd4-b833-3659ca846910",
   "metadata": {},
   "source": [
    "<div style=\"padding: 30px; padding-top: 0; padding-bottom: 0;\">\n",
    "\n",
    "<hr style=\"border-color: #fff;\">\n",
    "\n",
    "</div>"
   ]
  },
  {
   "cell_type": "markdown",
   "id": "e5b2560b-4992-483d-a4d4-7b5ee407b585",
   "metadata": {},
   "source": [
    "<div style=\"font-family: arial; padding: 30px; padding-top: 0; padding-bottom: 0;\">\n",
    "    \n",
    "<h2 id=\"section\" style=\"color: #d42c06;\">Numpy Random Seed</h2>\n",
    "\n",
    "</div>"
   ]
  },
  {
   "cell_type": "markdown",
   "id": "ed7aab79-d010-4a22-b1bc-94c6f1d905fc",
   "metadata": {},
   "source": [
    "Maybe throughout the courses you have enrolled and completed them or they're undergoing.in the part of exercises you have seen the line of code \"np.random.seed\" , this line of code will ensure you that your random numbers are predetermined and and won't\n",
    "change throughout your diffrent experiments.like in model training.for some reason we need a matrix with random variables. In this situation if we just use np.random.rand(), everytime we would get diffrent predictions ,for avoiding it we use random seeds"
   ]
  },
  {
   "cell_type": "code",
   "execution_count": null,
   "id": "e9ba23c9-98b2-4647-ae4d-15d8e65424e3",
   "metadata": {},
   "outputs": [
    {
     "name": "stdout",
     "output_type": "stream",
     "text": [
      "First array:\n",
      "[0.5488135  0.71518937 0.60276338 0.54488318 0.4236548  0.64589411\n",
      " 0.43758721 0.891773   0.96366276 0.38344152]\n",
      "Second Array:\n"
     ]
    },
    {
     "data": {
      "text/plain": [
       "array([0.5488135 , 0.71518937, 0.60276338, 0.54488318, 0.4236548 ,\n",
       "       0.64589411, 0.43758721, 0.891773  , 0.96366276, 0.38344152])"
      ]
     },
     "execution_count": 105,
     "metadata": {},
     "output_type": "execute_result"
    }
   ],
   "source": [
    "np.random.seed(0)\n",
    "print(\"First array:\")\n",
    "print(np.random.rand(10))\n",
    "print(\"Second Array:\")\n",
    "np.random.seed(0)\n",
    "np.random.rand(10)"
   ]
  },
  {
   "cell_type": "code",
   "execution_count": null,
   "id": "125deed6-4e91-4ecd-9be0-f107e7b3184a",
   "metadata": {},
   "outputs": [
    {
     "name": "stdout",
     "output_type": "stream",
     "text": [
      "First array:\n",
      "[0.79172504 0.52889492 0.56804456 0.92559664 0.07103606 0.0871293\n",
      " 0.0202184  0.83261985 0.77815675 0.87001215]\n",
      "Second Array:\n"
     ]
    },
    {
     "data": {
      "text/plain": [
       "array([0.97861834, 0.79915856, 0.46147936, 0.78052918, 0.11827443,\n",
       "       0.63992102, 0.14335329, 0.94466892, 0.52184832, 0.41466194])"
      ]
     },
     "execution_count": 106,
     "metadata": {},
     "output_type": "execute_result"
    }
   ],
   "source": [
    "#now without random seed\n",
    "print(\"First array:\")\n",
    "print(np.random.rand(10))\n",
    "print(\"Second Array:\")\n",
    "np.random.rand(10)"
   ]
  },
  {
   "cell_type": "markdown",
   "id": "4ddad67a-7235-4fa0-8184-c1bca74bd294",
   "metadata": {},
   "source": [
    "<div style=\"padding: 30px; padding-top: 0; padding-bottom: 0;\">\n",
    "\n",
    "<hr style=\"border-color: #fff;\">\n",
    "\n",
    "</div>"
   ]
  },
  {
   "cell_type": "markdown",
   "id": "be59eb34-7d9b-4e67-8f1a-64d9fbeb2faf",
   "metadata": {},
   "source": [
    "<div style=\"font-family: arial; padding: 30px; padding-top: 0; padding-bottom: 0;\">\n",
    "    \n",
    "<h2 id=\"section\" style=\"color: #d42c06;\">Manipulating Arrays</h2>\n",
    "\n",
    "</div>"
   ]
  },
  {
   "cell_type": "markdown",
   "id": "b9e76044-547c-49ac-bb5f-0fcc6f1a2283",
   "metadata": {},
   "source": [
    "* Indexing, Slicing and Iterating"
   ]
  },
  {
   "cell_type": "markdown",
   "id": "83c8d644-1f0f-477b-ab42-7ccae10c7920",
   "metadata": {},
   "source": [
    "Indexing, slicing and iterating are extremely important for data manipulation and analysis because these techinques allow us to select data based on conditions, and copy or update data."
   ]
  },
  {
   "cell_type": "code",
   "execution_count": null,
   "id": "a9a15227-9986-42eb-a904-9ca87a933181",
   "metadata": {},
   "outputs": [
    {
     "data": {
      "text/plain": [
       "5"
      ]
     },
     "execution_count": 107,
     "metadata": {},
     "output_type": "execute_result"
    }
   ],
   "source": [
    "# First we are going to look at integer indexing. A one-dimensional array, works in similar ways as a list -\n",
    "# To get an element in a one-dimensional array, we simply use the offset index.\n",
    "a = np.array([1,3,5,7])\n",
    "a[2]"
   ]
  },
  {
   "cell_type": "code",
   "execution_count": null,
   "id": "84be28de-1b6a-4cb3-88fb-cc64227063e3",
   "metadata": {},
   "outputs": [
    {
     "data": {
      "text/plain": [
       "array([[1, 2],\n",
       "       [3, 4],\n",
       "       [5, 6]])"
      ]
     },
     "execution_count": 108,
     "metadata": {},
     "output_type": "execute_result"
    }
   ],
   "source": [
    "# For multidimensional array, we need to use integer array indexing, let's create a new multidimensional array\n",
    "a = np.array([[1,2], [3, 4], [5, 6]])\n",
    "a"
   ]
  },
  {
   "cell_type": "code",
   "execution_count": null,
   "id": "cf0857a3-fdbd-4600-942f-45af764ea141",
   "metadata": {},
   "outputs": [
    {
     "data": {
      "text/plain": [
       "array([1, 4, 6])"
      ]
     },
     "execution_count": 109,
     "metadata": {},
     "output_type": "execute_result"
    }
   ],
   "source": [
    "# if we want to get multiple elements \n",
    "# for example, 1, 4, and 6 and put them into a one-dimensional array\n",
    "# we can enter the indices directly into an array function\n",
    "np.array([a[0, 0], a[1, 1], a[2, 1]])"
   ]
  },
  {
   "cell_type": "code",
   "execution_count": null,
   "id": "c47685b1-8999-4cec-a858-197b20e6d060",
   "metadata": {},
   "outputs": [
    {
     "name": "stdout",
     "output_type": "stream",
     "text": [
      "[1 4 6]\n"
     ]
    }
   ],
   "source": [
    "# we can also do that by using another form of array indexing, which essentiall \"zips\" the first list and the\n",
    "# second list up\n",
    "print(a[[0, 1, 2], [0, 1, 1]])"
   ]
  },
  {
   "cell_type": "markdown",
   "id": "706239cc-38e8-45f1-860e-8c446843ea6c",
   "metadata": {},
   "source": [
    "Boolean indexing allows us to select arbitrary elements based on conditions."
   ]
  },
  {
   "cell_type": "code",
   "execution_count": null,
   "id": "87990dfd-9ddc-4525-aee2-200afc00e825",
   "metadata": {},
   "outputs": [
    {
     "name": "stdout",
     "output_type": "stream",
     "text": [
      "[[False False]\n",
      " [False False]\n",
      " [False  True]]\n"
     ]
    }
   ],
   "source": [
    "print(a >5)\n",
    "# This returns a boolean array showing that if the value at the corresponding index is greater than 5"
   ]
  },
  {
   "cell_type": "code",
   "execution_count": null,
   "id": "55b82a71-1387-4eaf-8141-fb8f727a0d14",
   "metadata": {},
   "outputs": [
    {
     "name": "stdout",
     "output_type": "stream",
     "text": [
      "[6]\n"
     ]
    }
   ],
   "source": [
    "# We can then place this array of booleans like a mask over the original array to return a one-dimensional \n",
    "# array relating to the true values.\n",
    "print(a[a>5])"
   ]
  },
  {
   "cell_type": "markdown",
   "id": "dab68ca5-74f9-4f93-9168-9e66791e8bbc",
   "metadata": {},
   "source": [
    "Slicing is a way to create a sub-array based on the original array. For one-dimensional arrays, slicing \n",
    "works in similar ways to a list. To slice, we use the : sign."
   ]
  },
  {
   "cell_type": "code",
   "execution_count": null,
   "id": "1ea1a8f4-8752-4acd-86f4-d4bb4700632b",
   "metadata": {},
   "outputs": [
    {
     "name": "stdout",
     "output_type": "stream",
     "text": [
      "[0 1 2]\n"
     ]
    }
   ],
   "source": [
    "#For instance, if we put :3 in the indexing brackets, we get elements \n",
    "#from index 0 to index 3 (excluding index 3)\n",
    "a = np.array([0,1,2,3,4,5])\n",
    "print(a[:3])"
   ]
  },
  {
   "cell_type": "code",
   "execution_count": null,
   "id": "472ed865-0570-4780-a74f-c070546c8f68",
   "metadata": {},
   "outputs": [
    {
     "name": "stdout",
     "output_type": "stream",
     "text": [
      "[2 3]\n"
     ]
    }
   ],
   "source": [
    "# By putting 2:4 in the bracket, we get elements from index 2 to index 4 (excluding index 4)\n",
    "print(a[2:4])"
   ]
  },
  {
   "cell_type": "code",
   "execution_count": null,
   "id": "d5fb56e7-dd61-4a1a-b9e5-8bff98fc4c10",
   "metadata": {},
   "outputs": [
    {
     "data": {
      "text/plain": [
       "array([[ 1,  2,  3,  4],\n",
       "       [ 5,  6,  7,  8],\n",
       "       [ 9, 10, 11, 12]])"
      ]
     },
     "execution_count": 115,
     "metadata": {},
     "output_type": "execute_result"
    }
   ],
   "source": [
    "# For multi-dimensional arrays, it works similarly, lets see an example\n",
    "a = np.array([[1,2,3,4], [5,6,7,8], [9,10,11,12]])\n",
    "a"
   ]
  },
  {
   "cell_type": "code",
   "execution_count": null,
   "id": "5b94d6c8-9ff5-4a2f-b464-45711ac95554",
   "metadata": {},
   "outputs": [
    {
     "data": {
      "text/plain": [
       "array([[1, 2, 3, 4],\n",
       "       [5, 6, 7, 8]])"
      ]
     },
     "execution_count": 116,
     "metadata": {},
     "output_type": "execute_result"
    }
   ],
   "source": [
    "# First, if we put one argument in the array, for example a[:2] then we would get all the elements from the \n",
    "# first (0th) and second row (1th)\n",
    "a[:2]"
   ]
  },
  {
   "cell_type": "code",
   "execution_count": null,
   "id": "11c6243d-1a3b-47a4-b03a-2260db63643c",
   "metadata": {},
   "outputs": [
    {
     "data": {
      "text/plain": [
       "array([[2, 3],\n",
       "       [6, 7]])"
      ]
     },
     "execution_count": 117,
     "metadata": {},
     "output_type": "execute_result"
    }
   ],
   "source": [
    "# If we add another argument to the array, for example a[:2, 1:3], we get the first two rows but then the\n",
    "# second and third column values only\n",
    "a[:2, 1:3]\n",
    "# So, in multidimensional arrays, the first argument is for selecting rows, and the second argument is for \n",
    "# selecting columns"
   ]
  },
  {
   "cell_type": "markdown",
   "id": "772e80b4-ec80-447c-909b-1206c0a5d661",
   "metadata": {},
   "source": [
    "<div style=\"font-size: 1.1em; font-family: arial; padding: 30px;\">\n",
    "<div style=\"border: 2px solid #1f49a3; border-radius: 10px; padding: 30px; padding-top: 15px;\">\n",
    "<h3 style=\"color: #1f49a3; font-weight: bold;\">Note</h3>\n",
    "<span style=\"color: #1f49a3;\">It is important to realize that a slice of an array is a view into the same data. This is called passing by\n",
    "reference. So modifying the sub array will consequently modify the original array.<br>we have given you an example below.</span>\n",
    "</div>\n",
    "</div>"
   ]
  },
  {
   "cell_type": "code",
   "execution_count": null,
   "id": "09d4fccb-6830-4bfc-9d29-b73d6912903b",
   "metadata": {},
   "outputs": [
    {
     "name": "stdout",
     "output_type": "stream",
     "text": [
      "sub array index [0,0] value before change: 2\n",
      "sub array index [0,0] value after change: 50\n",
      "original array index [0,1] value after change: 50\n"
     ]
    }
   ],
   "source": [
    "# Here I'll change the element at position [0, 0], which is 2, to 50, then we can see that the value in the\n",
    "# original array is changed to 50 as well\n",
    "\n",
    "sub_array = a[:2, 1:3]\n",
    "print(\"sub array index [0,0] value before change:\", sub_array[0,0])\n",
    "sub_array[0,0] = 50\n",
    "print(\"sub array index [0,0] value after change:\", sub_array[0,0])\n",
    "print(\"original array index [0,1] value after change:\", a[0,1])"
   ]
  },
  {
   "cell_type": "markdown",
   "id": "c2c28078-b0c0-4de4-9e89-d2570eaf1684",
   "metadata": {},
   "source": [
    "<div style=\"padding: 30px; padding-top: 0; padding-bottom: 0;\">\n",
    "\n",
    "<hr style=\"border-color: #fff;\">\n",
    "\n",
    "</div>"
   ]
  },
  {
   "cell_type": "markdown",
   "id": "62105f13-5405-4a49-85c3-a33725f0dd36",
   "metadata": {},
   "source": [
    "* Array Operations"
   ]
  },
  {
   "cell_type": "markdown",
   "id": "3d7aa2ff-e2e0-455e-a3f2-42583c2732d3",
   "metadata": {},
   "source": [
    "We can do many things on arrays, such as mathematical manipulation (addition, subtraction, square,log,\n",
    "exponents) as well as use boolean arrays, which are binary values. We can also do matrix manipulation such\n",
    "as product, transpose, inverse, and so forth."
   ]
  },
  {
   "cell_type": "markdown",
   "id": "9f192e56-a06b-43d1-8e23-adced5c02b34",
   "metadata": {},
   "source": [
    "Arithmetic operators on array apply elementwise."
   ]
  },
  {
   "cell_type": "code",
   "execution_count": null,
   "id": "9ca54b12-8ee6-40dd-8b61-c1c4812fb125",
   "metadata": {},
   "outputs": [
    {
     "name": "stdout",
     "output_type": "stream",
     "text": [
      "[ 9 18 27 36]\n",
      "[ 10  40  90 160]\n",
      "[2.30258509 3.68887945 4.49980967 5.07517382]\n",
      "[2.20264658e+04 2.35385267e+17 1.22040329e+39 3.06984964e+69]\n"
     ]
    }
   ],
   "source": [
    "# Let's create a couple of arrays\n",
    "a = np.array([10,20,30,40])\n",
    "b = np.array([1, 2, 3,4])\n",
    "\n",
    "# Now let's look at a minus b\n",
    "c = a-b\n",
    "print(c)\n",
    "\n",
    "# And let's look at a times b\n",
    "d = a*b\n",
    "print(d)\n",
    "#now let's do some other operations on it\n",
    "print(np.log(d))\n",
    "#or another operation we can do\n",
    "print(np.exp(d))\n",
    "#you can find many of these operations by searching the internet"
   ]
  },
  {
   "cell_type": "markdown",
   "id": "66838517-eeb5-4146-a7e9-a0222240cf32",
   "metadata": {},
   "source": [
    "With arithmetic manipulation, we can convert current data to the way we want it to be. Here's an example. With numpy We \n",
    "could easily convert a number of farenheit values, say the weather forecase, to ceclius"
   ]
  },
  {
   "cell_type": "code",
   "execution_count": null,
   "id": "051243d0-8e0d-4256-a992-bc0bc1e174ad",
   "metadata": {},
   "outputs": [
    {
     "data": {
      "text/plain": [
       "array([-17.22222222, -22.77777778, -20.        , -25.55555556,\n",
       "       -17.22222222])"
      ]
     },
     "execution_count": 120,
     "metadata": {},
     "output_type": "execute_result"
    }
   ],
   "source": [
    "# Let's create an array of winter farenheit values\n",
    "farenheit = np.array([0,-10,-5,-15,0])\n",
    "\n",
    "# And the formula for conversion is ((°F − 32) × 5/9 = °C)\n",
    "celcius = (farenheit - 31) * (5/9)\n",
    "celcius"
   ]
  },
  {
   "cell_type": "markdown",
   "id": "bc1547db-ba10-42e3-92be-5296d700c64c",
   "metadata": {},
   "source": [
    "Another useful and important manipulation is the boolean array. We can apply an operator on an array, and a\n",
    "boolean array will be returned for any element in the original, with True being emitted if it meets the condition and False oetherwise."
   ]
  },
  {
   "cell_type": "code",
   "execution_count": null,
   "id": "1d2b2f03-0b4e-422a-984c-3c7d61e2934a",
   "metadata": {},
   "outputs": [
    {
     "data": {
      "text/plain": [
       "array([ True, False, False, False,  True])"
      ]
     },
     "execution_count": 121,
     "metadata": {},
     "output_type": "execute_result"
    }
   ],
   "source": [
    "# For instance, if we want to get a boolean array to check celcius degrees that are greater than -20 degrees\n",
    "celcius > -20"
   ]
  },
  {
   "cell_type": "code",
   "execution_count": null,
   "id": "a98b7cd1-e1bb-40ff-b1e5-dde1fb3a0d5f",
   "metadata": {},
   "outputs": [
    {
     "data": {
      "text/plain": [
       "array([False, False,  True, False, False])"
      ]
     },
     "execution_count": 122,
     "metadata": {},
     "output_type": "execute_result"
    }
   ],
   "source": [
    "# Here's another example, we could use the modulus operator to check numbers in an \n",
    "#array to see if they are even. Recall that modulus does division but throws \n",
    "#away everything but the remainder (decimal) portion)\n",
    "celcius%2 == 0"
   ]
  },
  {
   "cell_type": "code",
   "execution_count": null,
   "id": "98222726-f6f7-4fe2-ad0c-45222151e904",
   "metadata": {},
   "outputs": [
    {
     "name": "stdout",
     "output_type": "stream",
     "text": [
      "-102.77777777777777\n",
      "-17.22222222222222\n",
      "-25.555555555555557\n",
      "-20.555555555555554\n"
     ]
    }
   ],
   "source": [
    "# Numpy arrays have many interesting aggregation functions on them, such as  sum(), max(), min(), and mean()\n",
    "print(celcius.sum())\n",
    "print(celcius.max())\n",
    "print(celcius.min())\n",
    "print(celcius.mean())"
   ]
  },
  {
   "cell_type": "code",
   "execution_count": null,
   "id": "d92beb17-5367-46bb-986d-497aaba91e06",
   "metadata": {},
   "outputs": [
    {
     "name": "stdout",
     "output_type": "stream",
     "text": [
      "3\n",
      "0\n"
     ]
    }
   ],
   "source": [
    "print(celcius.argmin()) #find index of minimum value \n",
    "print(celcius.argmax()) #find index of maximum value"
   ]
  },
  {
   "cell_type": "markdown",
   "id": "b3aaa05f-a2e7-4bb2-8aab-d5816cff13f1",
   "metadata": {},
   "source": [
    "<div style=\"padding: 30px; padding-top: 0; padding-bottom: 0;\">\n",
    "\n",
    "<hr style=\"border-color: #fff;\">\n",
    "\n",
    "</div>"
   ]
  },
  {
   "cell_type": "markdown",
   "id": "14195f83-58de-4ad2-aba3-724737822ded",
   "metadata": {},
   "source": [
    "<div style=\"font-family: arial; padding: 30px; padding-top: 0; padding-bottom: 0;\">\n",
    "    \n",
    "<h2 id=\"section\" style=\"color: #d42c06;\">Standard Deviation and Variance</h2>\n",
    "\n",
    "</div>"
   ]
  },
  {
   "cell_type": "markdown",
   "id": "903945ce-60ef-4c17-8ea2-769fd75693fb",
   "metadata": {},
   "source": [
    "You can use [Standard deviation](https://www.mathsisfun.com/data/standard-deviation.html) and [variance](https://www.mathsisfun.com/data/standard-deviation.html) in NumPy too. you know these terms from high school so we won't discuss about them very much."
   ]
  },
  {
   "cell_type": "markdown",
   "id": "0547a298-4670-493b-b4be-7826c9528a21",
   "metadata": {},
   "source": [
    "Variance formula:\n",
    "$$\n",
    "s^2 = \\frac{\\sum_{i=1}^{n} (x_i - \\overline{x})^2}{n - 1}\n",
    "$$\n",
    "Standard Deviation formula:\n",
    "$$\n",
    "\\sigma = \\sqrt{s^2}\n",
    "$$ion.ion."
   ]
  },
  {
   "cell_type": "markdown",
   "id": "871fe7bf-1b16-4096-b16f-d2381389f8b7",
   "metadata": {},
   "source": [
    "* s^2: Represents the sample variance (estimated variance of the population).\n",
    "* n: The total number of data points in the sample.\n",
    "* x_i: The value of the i-th data point.\n",
    "* $\\overline{x}$ (read as \"x bar\"): The sample mean, which is the average of all the data points. The summation symbol (Σ) iterates from i = 1 to n, summing the squared deviations of each data point from the mean.\n",
    "* (n - 1): This is used for an unbiased estimate of the population variance. Dividing by n would underestimate the variance slightly, so we use n-1 for a more accurate representation."
   ]
  },
  {
   "cell_type": "code",
   "execution_count": null,
   "id": "2316a0d4-3ce0-4637-8aa1-de61a3d21e83",
   "metadata": {},
   "outputs": [
    {
     "name": "stdout",
     "output_type": "stream",
     "text": [
      "4296133.472222221 , 8.0\n",
      "2072.711623024829 , 2.8284271247461903\n"
     ]
    }
   ],
   "source": [
    "#an example of a high variance array and a low one\n",
    "high_var_array = np.array([1, 100, 200, 300, 4000, 5000])\n",
    "low_var_array = np.array([2, 4, 6, 8, 10])\n",
    "\n",
    "print(np.var(high_var_array), \",\" ,np.var(low_var_array))\n",
    "print(np.std(high_var_array), \",\" ,np.std(low_var_array))"
   ]
  },
  {
   "cell_type": "markdown",
   "id": "61bca216-755c-4b17-bfd4-fd56dee37a8d",
   "metadata": {},
   "source": [
    "<div style=\"padding: 30px; padding-top: 0; padding-bottom: 0;\">\n",
    "\n",
    "<hr style=\"border-color: #fff;\">\n",
    "\n",
    "</div>"
   ]
  },
  {
   "cell_type": "markdown",
   "id": "97fe310a-4e91-4b79-a709-a6ebc2a2fab6",
   "metadata": {},
   "source": [
    "<div style=\"font-family: arial; padding: 30px; padding-top: 0; padding-bottom: 0;\">\n",
    "    \n",
    "<h2 id=\"section\" style=\"color: #d42c06;\">Reshape and Transpose</h2>\n",
    "\n",
    "</div>"
   ]
  },
  {
   "cell_type": "markdown",
   "id": "ed6bd111-a7d9-4248-a9e5-7c1a271ffe8d",
   "metadata": {},
   "source": [
    "Sometimes there is a need for reshaping our matrices(mathematical operations, visualizing the matrix and etc.... we can do this using np.reshape() . an example has been given below:"
   ]
  },
  {
   "cell_type": "code",
   "execution_count": null,
   "id": "1b9d370b-b049-4e10-9245-11e998412bef",
   "metadata": {},
   "outputs": [
    {
     "name": "stdout",
     "output_type": "stream",
     "text": [
      "main matrix:\n",
      "[[ 1  2  3  4]\n",
      " [ 5  6  7  8]\n",
      " [ 9 10 11 12]\n",
      " [13 14 15 16]\n",
      " [17 18 19 20]] \n",
      "\n",
      "first reshape of matrix(2 ,10) : \n",
      "[[ 1  2  3  4  5  6  7  8  9 10]\n",
      " [11 12 13 14 15 16 17 18 19 20]] \n",
      "\n",
      "second reshape(4 ,5) : \n",
      "[[ 1  2  3  4  5]\n",
      " [ 6  7  8  9 10]\n",
      " [11 12 13 14 15]\n",
      " [16 17 18 19 20]]\n"
     ]
    }
   ],
   "source": [
    "#this is our main matrix\n",
    "matrix_3 = np.array([[1,2,3,4],\n",
    "                    [5,6,7,8],\n",
    "                    [9,10,11,12],\n",
    "                    [13,14,15,16],\n",
    "                    [17,18,19,20]])\n",
    "print(\"main matrix:\")\n",
    "print(matrix_3,\"\\n\")\n",
    "print(\"first reshape of matrix(2 ,10) : \")\n",
    "print(matrix_3.reshape(2,10),\"\\n\")\n",
    "print(\"second reshape(4 ,5) : \")\n",
    "print(matrix_3.reshape(4,5))\n",
    "#you can reshape your matrices using np.reshape too."
   ]
  },
  {
   "cell_type": "markdown",
   "id": "e9d99563-01a2-4260-ab7f-b7620635c6f8",
   "metadata": {},
   "source": [
    "A transpose is the reverser of the axes meaning if our matrix has a shape of (i,j) it will convert it to (j,i) ,it is used in many cases"
   ]
  },
  {
   "cell_type": "code",
   "execution_count": null,
   "id": "6652b110-9675-418f-ac39-355aacbad1d3",
   "metadata": {},
   "outputs": [
    {
     "data": {
      "text/plain": [
       "array([[ 1,  5,  9, 13, 17],\n",
       "       [ 2,  6, 10, 14, 18],\n",
       "       [ 3,  7, 11, 15, 19],\n",
       "       [ 4,  8, 12, 16, 20]])"
      ]
     },
     "execution_count": 127,
     "metadata": {},
     "output_type": "execute_result"
    }
   ],
   "source": [
    "matrix_3.T\n",
    "#you can use matrix.transpose() too."
   ]
  },
  {
   "cell_type": "markdown",
   "id": "f3e49ed3-d8ba-4127-8b15-e98753e332d9",
   "metadata": {},
   "source": [
    "Besides elementwise manipulation, it is important to know that numpy supports matrix manipulation. Let's\n",
    "look at matrix product. if we want to do elementwise product, we use the \"*\" sign"
   ]
  },
  {
   "cell_type": "code",
   "execution_count": null,
   "id": "cae2ff9b-6a10-468b-ba86-ac87d202959c",
   "metadata": {},
   "outputs": [
    {
     "name": "stdout",
     "output_type": "stream",
     "text": [
      "[[2 0]\n",
      " [0 4]]\n",
      "[[5 4]\n",
      " [3 4]]\n"
     ]
    }
   ],
   "source": [
    "A = np.array([[1,1],[0,1]])\n",
    "B = np.array([[2,0],[3,4]])\n",
    "print(A*B)\n",
    "# if we want to do matrix product, we use the \"@\" sign or use the dot function\n",
    "print(A@B)\n",
    "#or np.dot(A,B)"
   ]
  },
  {
   "cell_type": "markdown",
   "id": "cae9191d-50ec-40b9-90bf-c8e96ea0293a",
   "metadata": {},
   "source": [
    "<div style=\"font-size: 1.1em; font-family: arial; padding: 30px;\">\n",
    "<div style=\"border: 2px solid #1f49a3; border-radius: 10px; padding: 30px; padding-top: 15px;\">\n",
    "<h3 style=\"color: #1f49a3; font-weight: bold;\">Note</h3>\n",
    "<span style=\"color: #1f49a3;\">It's important to know that\n",
    "numpy is the underpinning of scientific computing libraries in python, and that it is capable of doing both\n",
    "element-wise operations (the asterix) as well as matrix-level operations (the @ sign).\n",
    "<br>A few more linear algebra concepts are worth layering in here. You might recall that the product of two\n",
    "matrices is only plausible when the inner dimensions of the two matrices are the same. The dimensions refer\n",
    "to the number of elements both horizontally and vertically in the rendered matricies you've seen here.</span>\n",
    "</div>\n",
    "</div>"
   ]
  },
  {
   "cell_type": "markdown",
   "id": "394b5ccc-c48a-42db-b629-d23d38c4e8a3",
   "metadata": {},
   "source": [
    "<div style=\"padding: 30px; padding-top: 0; padding-bottom: 0;\">\n",
    "\n",
    "<hr style=\"border-color: #fff;\">\n",
    "\n",
    "</div>"
   ]
  },
  {
   "cell_type": "markdown",
   "id": "d1a46b44-d7fc-4f82-bbdf-5edf4a495214",
   "metadata": {},
   "source": [
    "<div style=\"font-family: arial; padding: 30px; padding-top: 0; padding-bottom: 0;\">\n",
    "    \n",
    "<h2 id=\"section\" style=\"color: #d42c06;\">Excercise: Nut Butter Store Sales</h2>\n",
    "\n",
    "</div>"
   ]
  },
  {
   "cell_type": "code",
   "execution_count": null,
   "id": "ac83835f-0c6d-4f9e-b854-b5227f9f5c04",
   "metadata": {},
   "outputs": [
    {
     "data": {
      "text/plain": [
       "array([[12, 15,  0],\n",
       "       [ 3,  3,  7],\n",
       "       [ 9, 19, 18],\n",
       "       [ 4,  6, 12],\n",
       "       [ 1,  6,  7]])"
      ]
     },
     "execution_count": 15,
     "metadata": {},
     "output_type": "execute_result"
    }
   ],
   "source": [
    "#let's make ourselves some data these will be the amount of goods we've sold \n",
    "np.random.seed(0)\n",
    "sales_amounts = np.random.randint(20, size=(5, 3))\n",
    "sales_amounts"
   ]
  },
  {
   "cell_type": "code",
   "execution_count": null,
   "id": "650d7f6a-67ed-43e5-a324-44b16afd77a1",
   "metadata": {},
   "outputs": [],
   "source": [
    "#you've learned how to use pandas by now so let's get some help from it\n",
    "import pandas as pd"
   ]
  },
  {
   "cell_type": "code",
   "execution_count": null,
   "id": "54e7fd24-f802-4788-b992-e7c970c6db2c",
   "metadata": {},
   "outputs": [
    {
     "data": {
      "text/html": [
       "<div>\n",
       "<style scoped>\n",
       "    .dataframe tbody tr th:only-of-type {\n",
       "        vertical-align: middle;\n",
       "    }\n",
       "\n",
       "    .dataframe tbody tr th {\n",
       "        vertical-align: top;\n",
       "    }\n",
       "\n",
       "    .dataframe thead th {\n",
       "        text-align: right;\n",
       "    }\n",
       "</style>\n",
       "<table border=\"1\" class=\"dataframe\">\n",
       "  <thead>\n",
       "    <tr style=\"text-align: right;\">\n",
       "      <th></th>\n",
       "      <th>Almond butter</th>\n",
       "      <th>Peanut butter</th>\n",
       "      <th>Cashew butter</th>\n",
       "    </tr>\n",
       "  </thead>\n",
       "  <tbody>\n",
       "    <tr>\n",
       "      <th>Mon</th>\n",
       "      <td>12</td>\n",
       "      <td>15</td>\n",
       "      <td>0</td>\n",
       "    </tr>\n",
       "    <tr>\n",
       "      <th>Tues</th>\n",
       "      <td>3</td>\n",
       "      <td>3</td>\n",
       "      <td>7</td>\n",
       "    </tr>\n",
       "    <tr>\n",
       "      <th>Wed</th>\n",
       "      <td>9</td>\n",
       "      <td>19</td>\n",
       "      <td>18</td>\n",
       "    </tr>\n",
       "    <tr>\n",
       "      <th>Thurs</th>\n",
       "      <td>4</td>\n",
       "      <td>6</td>\n",
       "      <td>12</td>\n",
       "    </tr>\n",
       "    <tr>\n",
       "      <th>Fri</th>\n",
       "      <td>1</td>\n",
       "      <td>6</td>\n",
       "      <td>7</td>\n",
       "    </tr>\n",
       "  </tbody>\n",
       "</table>\n",
       "</div>"
      ],
      "text/plain": [
       "       Almond butter  Peanut butter  Cashew butter\n",
       "Mon               12             15              0\n",
       "Tues               3              3              7\n",
       "Wed                9             19             18\n",
       "Thurs              4              6             12\n",
       "Fri                1              6              7"
      ]
     },
     "execution_count": 17,
     "metadata": {},
     "output_type": "execute_result"
    }
   ],
   "source": [
    "weekly_sales = pd.DataFrame(sales_amounts,\n",
    "                            index=[\"Mon\", \"Tues\", \"Wed\", \"Thurs\", \"Fri\"],\n",
    "                            columns=[\"Almond butter\", \"Peanut butter\", \"Cashew butter\"])\n",
    "weekly_sales"
   ]
  },
  {
   "cell_type": "code",
   "execution_count": null,
   "id": "30cc775d-aff1-406c-adc3-ec5252d745a2",
   "metadata": {},
   "outputs": [
    {
     "data": {
      "text/plain": [
       "array([10,  8, 12])"
      ]
     },
     "execution_count": 18,
     "metadata": {},
     "output_type": "execute_result"
    }
   ],
   "source": [
    "prices = np.array([10, 8, 12])\n",
    "prices"
   ]
  },
  {
   "cell_type": "code",
   "execution_count": null,
   "id": "381a7178-81e3-4e9b-8b8f-2d6fbdbbe71f",
   "metadata": {},
   "outputs": [
    {
     "name": "stdout",
     "output_type": "stream",
     "text": [
      "shape of dataframe:  (1, 3)\n"
     ]
    },
    {
     "data": {
      "text/html": [
       "<div>\n",
       "<style scoped>\n",
       "    .dataframe tbody tr th:only-of-type {\n",
       "        vertical-align: middle;\n",
       "    }\n",
       "\n",
       "    .dataframe tbody tr th {\n",
       "        vertical-align: top;\n",
       "    }\n",
       "\n",
       "    .dataframe thead th {\n",
       "        text-align: right;\n",
       "    }\n",
       "</style>\n",
       "<table border=\"1\" class=\"dataframe\">\n",
       "  <thead>\n",
       "    <tr style=\"text-align: right;\">\n",
       "      <th></th>\n",
       "      <th>Almond butter</th>\n",
       "      <th>Peanut butter</th>\n",
       "      <th>Cashew butter</th>\n",
       "    </tr>\n",
       "  </thead>\n",
       "  <tbody>\n",
       "    <tr>\n",
       "      <th>Price</th>\n",
       "      <td>10</td>\n",
       "      <td>8</td>\n",
       "      <td>12</td>\n",
       "    </tr>\n",
       "  </tbody>\n",
       "</table>\n",
       "</div>"
      ],
      "text/plain": [
       "       Almond butter  Peanut butter  Cashew butter\n",
       "Price             10              8             12"
      ]
     },
     "execution_count": 19,
     "metadata": {},
     "output_type": "execute_result"
    }
   ],
   "source": [
    "#we will assign a price for every butter\n",
    "butter_prices = pd.DataFrame(prices.reshape(1, 3),\n",
    "                             index=[\"Price\"],\n",
    "                             columns=[\"Almond butter\", \"Peanut butter\", \"Cashew butter\"])\n",
    "print(\"shape of dataframe: \",butter_prices.shape)\n",
    "butter_prices"
   ]
  },
  {
   "cell_type": "code",
   "execution_count": null,
   "id": "cdfeba56-08bd-42e4-84a9-9476572f12a2",
   "metadata": {},
   "outputs": [
    {
     "data": {
      "text/plain": [
       "(5, 3)"
      ]
     },
     "execution_count": 20,
     "metadata": {},
     "output_type": "execute_result"
    }
   ],
   "source": [
    "weekly_sales.shape"
   ]
  },
  {
   "cell_type": "code",
   "execution_count": null,
   "id": "6388f81c-a7c2-41f2-a5f6-004a3e8d4e5b",
   "metadata": {},
   "outputs": [
    {
     "data": {
      "text/plain": [
       "array([240, 138, 458, 232, 142])"
      ]
     },
     "execution_count": 22,
     "metadata": {},
     "output_type": "execute_result"
    }
   ],
   "source": [
    "# Find the total amount of sales for a whole day\n",
    "total_sales = prices.dot(sales_amounts.T)\n",
    "total_sales\n",
    "#as you'll see we will get a value error because of shapes not being aligned"
   ]
  },
  {
   "cell_type": "code",
   "execution_count": null,
   "id": "87b950f2-7986-4773-930b-dc4ed4bb4892",
   "metadata": {},
   "outputs": [
    {
     "data": {
      "text/plain": [
       "(3, 5)"
      ]
     },
     "execution_count": 165,
     "metadata": {},
     "output_type": "execute_result"
    }
   ],
   "source": [
    "#a solution to this is to transpose the sales amounts matrix\n",
    "sales_amounts.T.shape"
   ]
  },
  {
   "cell_type": "code",
   "execution_count": null,
   "id": "f5aa6f2e-493a-4926-ad65-f739cc412ab7",
   "metadata": {},
   "outputs": [
    {
     "data": {
      "text/plain": [
       "array([240, 138, 458, 232, 142])"
      ]
     },
     "execution_count": 167,
     "metadata": {},
     "output_type": "execute_result"
    }
   ],
   "source": [
    "#now that if we transpose the sales_amount everything will work out fine.\n",
    "total_sales = prices.dot(sales_amounts.T)\n",
    "total_sales"
   ]
  },
  {
   "cell_type": "code",
   "execution_count": null,
   "id": "eb7ca8f5-910e-47a0-9dd8-4a8402b32833",
   "metadata": {},
   "outputs": [
    {
     "data": {
      "text/html": [
       "<div>\n",
       "<style scoped>\n",
       "    .dataframe tbody tr th:only-of-type {\n",
       "        vertical-align: middle;\n",
       "    }\n",
       "\n",
       "    .dataframe tbody tr th {\n",
       "        vertical-align: top;\n",
       "    }\n",
       "\n",
       "    .dataframe thead th {\n",
       "        text-align: right;\n",
       "    }\n",
       "</style>\n",
       "<table border=\"1\" class=\"dataframe\">\n",
       "  <thead>\n",
       "    <tr style=\"text-align: right;\">\n",
       "      <th></th>\n",
       "      <th>Mon</th>\n",
       "      <th>Tues</th>\n",
       "      <th>Wed</th>\n",
       "      <th>Thurs</th>\n",
       "      <th>Fri</th>\n",
       "    </tr>\n",
       "  </thead>\n",
       "  <tbody>\n",
       "    <tr>\n",
       "      <th>Price</th>\n",
       "      <td>240</td>\n",
       "      <td>138</td>\n",
       "      <td>458</td>\n",
       "      <td>232</td>\n",
       "      <td>142</td>\n",
       "    </tr>\n",
       "  </tbody>\n",
       "</table>\n",
       "</div>"
      ],
      "text/plain": [
       "       Mon  Tues  Wed  Thurs  Fri\n",
       "Price  240   138  458    232  142"
      ]
     },
     "execution_count": 168,
     "metadata": {},
     "output_type": "execute_result"
    }
   ],
   "source": [
    "daily_sales = butter_prices.dot(weekly_sales.T)\n",
    "daily_sales"
   ]
  },
  {
   "cell_type": "code",
   "execution_count": null,
   "id": "707fb50c-2af6-4720-96fd-00616d67a505",
   "metadata": {},
   "outputs": [
    {
     "data": {
      "text/html": [
       "<div>\n",
       "<style scoped>\n",
       "    .dataframe tbody tr th:only-of-type {\n",
       "        vertical-align: middle;\n",
       "    }\n",
       "\n",
       "    .dataframe tbody tr th {\n",
       "        vertical-align: top;\n",
       "    }\n",
       "\n",
       "    .dataframe thead th {\n",
       "        text-align: right;\n",
       "    }\n",
       "</style>\n",
       "<table border=\"1\" class=\"dataframe\">\n",
       "  <thead>\n",
       "    <tr style=\"text-align: right;\">\n",
       "      <th></th>\n",
       "      <th>Almond butter</th>\n",
       "      <th>Peanut butter</th>\n",
       "      <th>Cashew butter</th>\n",
       "      <th>Total</th>\n",
       "    </tr>\n",
       "  </thead>\n",
       "  <tbody>\n",
       "    <tr>\n",
       "      <th>Mon</th>\n",
       "      <td>12</td>\n",
       "      <td>15</td>\n",
       "      <td>0</td>\n",
       "      <td>240</td>\n",
       "    </tr>\n",
       "    <tr>\n",
       "      <th>Tues</th>\n",
       "      <td>3</td>\n",
       "      <td>3</td>\n",
       "      <td>7</td>\n",
       "      <td>138</td>\n",
       "    </tr>\n",
       "    <tr>\n",
       "      <th>Wed</th>\n",
       "      <td>9</td>\n",
       "      <td>19</td>\n",
       "      <td>18</td>\n",
       "      <td>458</td>\n",
       "    </tr>\n",
       "    <tr>\n",
       "      <th>Thurs</th>\n",
       "      <td>4</td>\n",
       "      <td>6</td>\n",
       "      <td>12</td>\n",
       "      <td>232</td>\n",
       "    </tr>\n",
       "    <tr>\n",
       "      <th>Fri</th>\n",
       "      <td>1</td>\n",
       "      <td>6</td>\n",
       "      <td>7</td>\n",
       "      <td>142</td>\n",
       "    </tr>\n",
       "  </tbody>\n",
       "</table>\n",
       "</div>"
      ],
      "text/plain": [
       "       Almond butter  Peanut butter  Cashew butter  Total\n",
       "Mon               12             15              0    240\n",
       "Tues               3              3              7    138\n",
       "Wed                9             19             18    458\n",
       "Thurs              4              6             12    232\n",
       "Fri                1              6              7    142"
      ]
     },
     "execution_count": 169,
     "metadata": {},
     "output_type": "execute_result"
    }
   ],
   "source": [
    "#now that we have the total sales we will add it to our main dataframe\n",
    "#remember that we need to transpose here too.\n",
    "weekly_sales[\"Total\"] = daily_sales.T\n",
    "weekly_sales"
   ]
  },
  {
   "cell_type": "markdown",
   "id": "4319a894-f382-4333-aacc-921ffcd352c2",
   "metadata": {},
   "source": [
    "<div style=\"padding: 30px; padding-top: 0; padding-bottom: 0;\">\n",
    "\n",
    "<hr style=\"border-color: #fff;\">\n",
    "\n",
    "</div>"
   ]
  },
  {
   "cell_type": "markdown",
   "id": "9b55527d-e674-4581-95aa-32f177fb0106",
   "metadata": {},
   "source": [
    "<div style=\"font-family: arial; padding: 30px; padding-top: 0; padding-bottom: 0;\">\n",
    "    \n",
    "<h2 id=\"section\" style=\"color: #d42c06;\">Sorting Arrays</h2>\n",
    "\n",
    "</div>"
   ]
  },
  {
   "cell_type": "markdown",
   "id": "b48e4e8a-52b6-41f4-b28f-02ddc536daf4",
   "metadata": {},
   "source": [
    "Sorting is a need of today ,tommorow and future. So let's just learn how to sort arrays"
   ]
  },
  {
   "cell_type": "code",
   "execution_count": null,
   "id": "db531b14-75f5-4e18-81e8-2f92cce837ba",
   "metadata": {},
   "outputs": [
    {
     "name": "stdout",
     "output_type": "stream",
     "text": [
      "this is our main array:\n",
      "[[1.6 4.2 6.7]\n",
      " [2.3 3.4 2.1]\n",
      " [9.3 1.2 3.5]] \n",
      "\n",
      "this is our arrays sorted by columns: \n",
      "[[1.6 1.2 2.1]\n",
      " [2.3 3.4 3.5]\n",
      " [9.3 4.2 6.7]] \n",
      "\n",
      "this is our arrays sorted by rows: \n",
      "[[1.6 4.2 6.7]\n",
      " [2.1 2.3 3.4]\n",
      " [1.2 3.5 9.3]]\n"
     ]
    }
   ],
   "source": [
    "np.random.seed(0)\n",
    "our_array_2 = np.random.randint(10,size=(5,3))\n",
    "print(\"this is our main array:\")\n",
    "print(our_array,\"\\n\")\n",
    "#we can sort our arrays by column or by rows\n",
    "print(\"this is our arrays sorted by columns: \")\n",
    "print(np.sort(our_array,axis=0),\"\\n\")\n",
    "print(\"this is our arrays sorted by rows: \")\n",
    "print(np.sort(our_array,axis=1))"
   ]
  },
  {
   "cell_type": "code",
   "execution_count": null,
   "id": "82f0d8f7-f43d-416a-affd-a9da2a028c96",
   "metadata": {},
   "outputs": [
    {
     "data": {
      "text/plain": [
       "array([[1, 2, 0],\n",
       "       [0, 1, 2],\n",
       "       [2, 0, 1],\n",
       "       [0, 2, 1],\n",
       "       [2, 0, 1]], dtype=int64)"
      ]
     },
     "execution_count": 141,
     "metadata": {},
     "output_type": "execute_result"
    }
   ],
   "source": [
    "#we can get indices to sort an array on a given axis\n",
    "np.argsort(our_array_2)\n",
    "#here is on the horizontal axis"
   ]
  },
  {
   "cell_type": "markdown",
   "id": "04035fc1-4ac1-4bfa-90c5-c00f5095dd61",
   "metadata": {},
   "source": [
    "<div style=\"font-family: arial; padding: 30px; padding-top: 0; padding-bottom: 0;\">\n",
    "    \n",
    "<h2 style=\"color: #d42c06;\">References</h2>\n",
    "\n",
    "* Introduction to Data Science with Python course, University of Michigan\n",
    "* [Zero to mastery-ml](https://github.com/mrdbourke/zero-to-mastery-ml/blob/master/section-2-data-science-and-ml-tools/introduction-to-numpy.ipynb) A Quick Introduction to Numerical Data Manipulation with Python and NumPy.</li>"
   ]
  },
  {
   "cell_type": "markdown",
   "id": "648a3a2d",
   "metadata": {
    "jp-MarkdownHeadingCollapsed": true
   },
   "source": [
    "<div style=\"font-family: arial; padding: 30px; padding-top: 15px; padding-bottom: 0;\">\n",
    "\n",
    "<hr style=\"margin-top: 25px; border-color: #fff;\">\n",
    "\n",
    "<h2 style=\"text-align: center; color: #186e00;\">Data Visualization and Plotting</h2>\n",
    "\n",
    "<hr style=\"margin-top: 25px; border-color: #fff;\">\n",
    "\n",
    "</div>"
   ]
  },
  {
   "cell_type": "markdown",
   "id": "e9fce79e-610b-4158-a0ec-e384bb3be676",
   "metadata": {},
   "source": [
    "<div style=\"font-size: 1.1em; font-family: arial; padding: 30px; padding-top: 0; padding-bottom: 0; width: 1100px;\">\n",
    "\n",
    "<h2 id=\"Why is data visualization imoprtant?\" style=\"color: #d42c06;\">Why is data visualization imoprtant?</h2>\n",
    "\n",
    "<ul>\n",
    "    <li> Data visualization is the graphical representation of data to uncover patterns, trends, and insights that may not be apparent from raw data.\n",
    "    <li> In machine learning, data visualization plays a crucial role in understanding the data, feature selection, model evaluation, and communicating results effectively.\n",
    "    <li> It enables feature selection and engineering by visualizing relationships between features and target variables.\n",
    "    <li> Effective data visualization can lead to better understanding, interpretation, and utilization of machine learning models.\n",
    "</ul>\n",
    "\n",
    "\n",
    "</div>"
   ]
  },
  {
   "cell_type": "markdown",
   "id": "a9be4b20",
   "metadata": {},
   "source": [
    "<div style=\"font-size: 1.1em; font-family: arial; padding: 30px; padding-top: 0; padding-bottom: 0; width: 1100px;\">\n",
    "\n",
    "<h2 id=\"Plotting with Matplotlib\" style=\"color: #d42c06;\">Plotting with Matplotlib</h2>\n",
    "\n",
    "</div>"
   ]
  },
  {
   "cell_type": "markdown",
   "id": "718b596b",
   "metadata": {},
   "source": [
    "<div style=\"font-size: 1.1em; font-family: arial; padding: 30px; padding-top: 0; padding-bottom: 0; width: 1100px;\">\n",
    "    <p>By writing as in importing a library we can easily use `plt` instead of `matplotlib`.</p>\n",
    "</div>"
   ]
  },
  {
   "cell_type": "code",
   "execution_count": null,
   "id": "c33c3426",
   "metadata": {},
   "outputs": [],
   "source": [
    "import matplotlib.pyplot as plt"
   ]
  },
  {
   "cell_type": "markdown",
   "id": "4b5fa0b8",
   "metadata": {},
   "source": [
    "<div style=\"font-size: 1.1em; font-family: arial; padding: 30px; padding-top: 0; padding-bottom: 0; width: 1100px;\">\n",
    "\n",
    "<h4 id=\"Plot\" style=\"color: #d42c06;\">Plot</h2>\n",
    "\n",
    "</div>"
   ]
  },
  {
   "cell_type": "markdown",
   "id": "c56a043f",
   "metadata": {},
   "source": [
    "<div style=\"font-size: 1.1em; font-family: arial; padding: 30px; padding-top: 0; padding-bottom: 0; width: 1100px;\">\n",
    "    <p>By using plot function, you can plot a character in a specific direction.</p>\n",
    "</div>"
   ]
  },
  {
   "cell_type": "code",
   "execution_count": null,
   "id": "b2f18278",
   "metadata": {},
   "outputs": [
    {
     "data": {
      "text/plain": [
       "[<matplotlib.lines.Line2D at 0x255b452de50>]"
      ]
     },
     "execution_count": 2,
     "metadata": {},
     "output_type": "execute_result"
    },
    {
     "data": {
      "image/png": "[encoded data removed]",
      "text/plain": [
       "<Figure size 640x480 with 1 Axes>"
      ]
     },
     "metadata": {},
     "output_type": "display_data"
    }
   ],
   "source": [
    "plt.plot(3, 5, '*')         # x-direction, y-direction, character"
   ]
  },
  {
   "cell_type": "markdown",
   "id": "e8b76ea8",
   "metadata": {},
   "source": [
    "<div style=\"font-size: 1.1em; font-family: arial; padding: 30px; padding-top: 0; padding-bottom: 0; width: 1100px;\">\n",
    "\n",
    "<h4 id=\"Scatter\" style=\"color: #d42c06;\">Scatter</h2>\n",
    "\n",
    "</div>"
   ]
  },
  {
   "cell_type": "markdown",
   "id": "0c8e2fd3",
   "metadata": {},
   "source": [
    "<div style=\"font-size: 1.1em; font-family: arial; padding: 30px; padding-top: 0; padding-bottom: 0; width: 1100px;\">\n",
    "    <p>By using scatter function, you can plot a list of points.</p>\n",
    "</div>"
   ]
  },
  {
   "cell_type": "code",
   "execution_count": null,
   "id": "089a0115",
   "metadata": {},
   "outputs": [
    {
     "data": {
      "text/plain": [
       "<matplotlib.collections.PathCollection at 0x255b456bb90>"
      ]
     },
     "execution_count": 3,
     "metadata": {},
     "output_type": "execute_result"
    },
    {
     "data": {
      "image/png": "[encoded data removed]",
      "text/plain": [
       "<Figure size 640x480 with 1 Axes>"
      ]
     },
     "metadata": {},
     "output_type": "display_data"
    }
   ],
   "source": [
    "# setting the y-directions\n",
    "y = [1,2,4,8,16,32]\n",
    "\n",
    "# setting the x-directions\n",
    "x = [0,1,2,3,4,5]\n",
    "\n",
    "plt.scatter(x,y)"
   ]
  },
  {
   "cell_type": "markdown",
   "id": "78b77ba3",
   "metadata": {},
   "source": [
    "<div style=\"font-size: 1.1em; font-family: arial; padding: 30px; padding-top: 0; padding-bottom: 0; width: 1100px;\">\n",
    "\n",
    "<h4 id=\"Plot (line)\" style=\"color: #d42c06;\">Plot (line)</h2>\n",
    "\n",
    "</div>"
   ]
  },
  {
   "cell_type": "markdown",
   "id": "3747d67d",
   "metadata": {},
   "source": [
    "<div style=\"font-size: 1.1em; font-family: arial; padding: 30px; padding-top: 0; padding-bottom: 0; width: 1100px;\">\n",
    "    <p>By passing arrays to plot function, you can plot a line-chart.</p>\n",
    "</div>"
   ]
  },
  {
   "cell_type": "code",
   "execution_count": null,
   "id": "ca0cc424",
   "metadata": {},
   "outputs": [
    {
     "data": {
      "text/plain": [
       "[<matplotlib.lines.Line2D at 0x255b463b8c0>]"
      ]
     },
     "execution_count": 4,
     "metadata": {},
     "output_type": "execute_result"
    },
    {
     "data": {
      "image/png": "[encoded data removed]",
      "text/plain": [
       "<Figure size 640x480 with 1 Axes>"
      ]
     },
     "metadata": {},
     "output_type": "display_data"
    }
   ],
   "source": [
    "# setting the y-directions\n",
    "y = [1,9,3,6,7,4,3,12,5,7,9]\n",
    "\n",
    "# setting the x-directions\n",
    "x = [0,1,2,3,4,5,6,7,8,9,10]\n",
    "\n",
    "plt.plot(x,y)"
   ]
  },
  {
   "cell_type": "markdown",
   "id": "7c83137a",
   "metadata": {},
   "source": [
    "<div style=\"font-size: 1.1em; font-family: arial; padding: 30px; padding-top: 0; padding-bottom: 0; width: 1100px;\">\n",
    "\n",
    "<h4 id=\"Bar\" style=\"color: #d42c06;\">Bar</h2>\n",
    "\n",
    "</div>"
   ]
  },
  {
   "cell_type": "markdown",
   "id": "c735c690",
   "metadata": {},
   "source": [
    "<div style=\"font-size: 1.1em; font-family: arial; padding: 30px; padding-top: 0; padding-bottom: 0; width: 1100px;\">\n",
    "    <p>By bar function, you can draw a bar-chart.</p>\n",
    "</div>"
   ]
  },
  {
   "cell_type": "code",
   "execution_count": null,
   "id": "e3bc77eb",
   "metadata": {},
   "outputs": [
    {
     "data": {
      "text/plain": [
       "<BarContainer object of 11 artists>"
      ]
     },
     "execution_count": 5,
     "metadata": {},
     "output_type": "execute_result"
    },
    {
     "data": {
      "image/png": "[encoded data removed]",
      "text/plain": [
       "<Figure size 640x480 with 1 Axes>"
      ]
     },
     "metadata": {},
     "output_type": "display_data"
    }
   ],
   "source": [
    "# setting the y-directions\n",
    "y = [19,9,13,26,57,4,73,2,35,7,9]\n",
    "\n",
    "# setting the x-directions\n",
    "x = [0,1,2,3,4,5,6,7,8,9,10]\n",
    "\n",
    "plt.bar(x,y)"
   ]
  },
  {
   "cell_type": "markdown",
   "id": "a295fc26",
   "metadata": {},
   "source": [
    "<div style=\"font-size: 1.1em; font-family: arial; padding: 30px; padding-top: 0; padding-bottom: 0; width: 1100px;\">\n",
    "\n",
    "<h4 id=\"Pie\" style=\"color: #d42c06;\">Pie</h2>\n",
    "\n",
    "</div>"
   ]
  },
  {
   "cell_type": "markdown",
   "id": "274872fd",
   "metadata": {},
   "source": [
    "<div style=\"font-size: 1.1em; font-family: arial; padding: 30px; padding-top: 0; padding-bottom: 0; width: 1100px;\">\n",
    "    <p>By bar pie function, you can draw a pie-chart.</p>\n",
    "</div>"
   ]
  },
  {
   "cell_type": "code",
   "execution_count": null,
   "id": "29611ebf",
   "metadata": {},
   "outputs": [
    {
     "data": {
      "text/plain": [
       "([<matplotlib.patches.Wedge at 0x255b474e300>,\n",
       "  <matplotlib.patches.Wedge at 0x255b470caa0>,\n",
       "  <matplotlib.patches.Wedge at 0x255b474e510>,\n",
       "  <matplotlib.patches.Wedge at 0x255b474e930>,\n",
       "  <matplotlib.patches.Wedge at 0x255b474ecf0>],\n",
       " [Text(1.061461407402323, 0.28861684045717056, 'Apple'),\n",
       "  Text(0.7336290871628095, 0.8196269654352906, 'Banana'),\n",
       "  Text(0.07295525714437982, 1.0975780293241102, 'Coconut'),\n",
       "  Text(-0.9722560205773232, -0.5145077554820218, 'Mango'),\n",
       "  Text(0.994062884405301, -0.47099785758303975, 'Watermelon')])"
      ]
     },
     "execution_count": 6,
     "metadata": {},
     "output_type": "execute_result"
    },
    {
     "data": {
      "image/png": "[encoded data removed]",
      "text/plain": [
       "<Figure size 640x480 with 1 Axes>"
      ]
     },
     "metadata": {},
     "output_type": "display_data"
    }
   ],
   "source": [
    "# Fruits names\n",
    "y = ['Apple', 'Banana', 'Coconut', 'Mango', 'Watermelon']\n",
    "\n",
    "# Fruits quantity\n",
    "x = [6,7,8,40,10]\n",
    "\n",
    "plt.pie(x,labels=y)"
   ]
  },
  {
   "cell_type": "markdown",
   "id": "72e38af5-57c5-47c8-94c4-77b719591a53",
   "metadata": {},
   "source": [
    "<div style=\"padding: 30px; padding-top: 0; padding-bottom: 0;\">\n",
    "\n",
    "<hr style=\"border-color: #fff;\">\n",
    "\n",
    "</div>"
   ]
  },
  {
   "cell_type": "markdown",
   "id": "4bf48a97",
   "metadata": {},
   "source": [
    "<div style=\"font-size: 1.1em; font-family: arial; padding: 30px; padding-top: 0; padding-bottom: 0; width: 1100px;\">\n",
    "\n",
    "<h2 id=\"Customizing Plots\" style=\"color: #d42c06;\">Customizing Plots</h2>\n",
    "\n",
    "</div>"
   ]
  },
  {
   "cell_type": "markdown",
   "id": "a2ae2f59",
   "metadata": {},
   "source": [
    "<div style=\"font-size: 1.1em; font-family: arial; padding: 30px; padding-top: 0; padding-bottom: 0; width: 1100px;\">\n",
    "    <p>You can add data to your plot by calling the desired ax object, which is the axis element that you previously defined with:\n",
    "</p>\n",
    "</div>"
   ]
  },
  {
   "cell_type": "markdown",
   "id": "7e7582b7",
   "metadata": {},
   "source": [
    "```python\n",
    "        fig, ax = plt.subplots()\n",
    "```\n"
   ]
  },
  {
   "cell_type": "markdown",
   "id": "ed67d6c5",
   "metadata": {},
   "source": [
    "<div style=\"font-size: 1.1em; font-family: arial; padding: 30px; padding-top: 0; padding-bottom: 0; width: 1100px;\">\n",
    "    <p>You can call the .plot method of the ax object and specify the arguments for the x axis (horizontal axis) and the y axis (vertical axis) of the plot as follows:</p>\n",
    "</div>"
   ]
  },
  {
   "cell_type": "markdown",
   "id": "91337eb8",
   "metadata": {},
   "source": [
    "```python\n",
    "        ax.plot(x_axis, y_axis)\n",
    "```"
   ]
  },
  {
   "cell_type": "markdown",
   "id": "e6794129",
   "metadata": {},
   "source": [
    "<div style=\"font-size: 1.1em; font-family: arial; padding: 30px; padding-top: 0; padding-bottom: 0; width: 1100px;\">\n",
    "    <p>See the following example for setting title and axis labels on ax:</p>\n",
    "</div>\n"
   ]
  },
  {
   "cell_type": "code",
   "execution_count": null,
   "id": "7ecb9cae",
   "metadata": {},
   "outputs": [
    {
     "data": {
      "text/plain": [
       "[<matplotlib.lines.Line2D at 0x255b457b200>]"
      ]
     },
     "execution_count": 7,
     "metadata": {},
     "output_type": "execute_result"
    },
    {
     "data": {
      "image/png": "[encoded data removed]",
      "text/plain": [
       "<Figure size 1000x600 with 1 Axes>"
      ]
     },
     "metadata": {},
     "output_type": "display_data"
    }
   ],
   "source": [
    "# Monthly average precipitation\n",
    "boulder_monthly_precip = [0.70, 0.75, 1.85, 2.93, 3.05, 2.02, \n",
    "                          1.93, 1.62, 1.84, 1.31, 1.39, 0.84]\n",
    "\n",
    "# Month names for plotting\n",
    "months = [\"Jan\", \"Feb\", \"Mar\", \"Apr\", \"May\", \"June\", \"July\", \n",
    "          \"Aug\", \"Sept\", \"Oct\", \"Nov\", \"Dec\"]\n",
    "\n",
    "# Define plot space\n",
    "fig, ax = plt.subplots(figsize=(10, 6))\n",
    "\n",
    "# Setting the title and axis labels\n",
    "ax.set(title = 'Average Monthly Precipitation in Boulder, CO',\n",
    "       xlabel = 'Month',\n",
    "       ylabel = 'Precipitation (inches)')\n",
    "\n",
    "# Define x and y axes\n",
    "ax.plot(months, \n",
    "        boulder_monthly_precip)"
   ]
  },
  {
   "cell_type": "markdown",
   "id": "bfe32d42",
   "metadata": {},
   "source": [
    "<div style=\"font-size: 1.1em; font-family: arial; padding: 30px; padding-top: 0; padding-bottom: 0; width: 1100px;\">\n",
    "    <p>And see the following example for setting color and marker on ax:</p>\n",
    "</div>\n"
   ]
  },
  {
   "cell_type": "code",
   "execution_count": null,
   "id": "9ab69276",
   "metadata": {},
   "outputs": [
    {
     "data": {
      "text/plain": [
       "[<matplotlib.lines.Line2D at 0x255b44e9a30>]"
      ]
     },
     "execution_count": 8,
     "metadata": {},
     "output_type": "execute_result"
    },
    {
     "data": {
      "image/png": "[encoded data removed]",
      "text/plain": [
       "<Figure size 1000x600 with 1 Axes>"
      ]
     },
     "metadata": {},
     "output_type": "display_data"
    }
   ],
   "source": [
    "# Monthly average precipitation\n",
    "boulder_monthly_precip = [0.70, 0.75, 1.85, 2.93, 3.05, 2.02, \n",
    "                          1.93, 1.62, 1.84, 1.31, 1.39, 0.84]\n",
    "\n",
    "# Month names for plotting\n",
    "months = [\"Jan\", \"Feb\", \"Mar\", \"Apr\", \"May\", \"June\", \"July\", \n",
    "          \"Aug\", \"Sept\", \"Oct\", \"Nov\", \"Dec\"]\n",
    "\n",
    "# Define plot space\n",
    "fig, ax = plt.subplots(figsize=(10, 6))\n",
    "\n",
    "# Setting the title and axis labels\n",
    "ax.set(title = 'Average Monthly Precipitation in Boulder, CO',\n",
    "       xlabel = 'Month',\n",
    "       ylabel = 'Precipitation (inches)')\n",
    "\n",
    "# Define x and y axes\n",
    "ax.plot(months, \n",
    "        boulder_monthly_precip,\n",
    "        marker = 'o',\n",
    "        color = 'cyan')"
   ]
  },
  {
   "cell_type": "markdown",
   "id": "30b60e75",
   "metadata": {},
   "source": [
    "<div style=\"font-size: 1.1em; font-family: arial; padding: 30px; padding-top: 0; padding-bottom: 0; width: 1100px;\">\n",
    "<p>\n",
    "When using scatter plots, you can also assign each point a color based upon its data value using the c and cmap arguments.\n",
    "\n",
    "The <code>c</code> argument allows you to specify the sequence of values that will be color-mapped (e.g. boulder_monthly_precip), while <code>cmap</code> allows you to specify the color map to use for the sequence.\n",
    "\n",
    "The example below uses the <b>YlGnBu</b> colormap, in which lower values are filled in with yellow to green shades, while higher values are filled in with increasingly darker shades of blue.\n",
    "</p>\n",
    "</div>"
   ]
  },
  {
   "cell_type": "code",
   "execution_count": null,
   "id": "26743c38",
   "metadata": {},
   "outputs": [
    {
     "data": {
      "image/png": "[encoded data removed]",
      "text/plain": [
       "<Figure size 1000x600 with 1 Axes>"
      ]
     },
     "metadata": {},
     "output_type": "display_data"
    }
   ],
   "source": [
    "# Define plot space\n",
    "fig, ax = plt.subplots(figsize=(10, 6))\n",
    "\n",
    "# Define x and y axes\n",
    "ax.scatter(months, \n",
    "        boulder_monthly_precip,\n",
    "        c = boulder_monthly_precip,\n",
    "        cmap = 'YlGnBu')\n",
    "\n",
    "# Set plot title and axes labels\n",
    "ax.set(title = \"Average Monthly Precipitation\\nBoulder, CO\",\n",
    "       xlabel = \"Month\",\n",
    "       ylabel = \"Precipitation\\n(inches)\")\n",
    "\n",
    "plt.show()"
   ]
  },
  {
   "cell_type": "markdown",
   "id": "db41fc63",
   "metadata": {},
   "source": [
    "<div style=\"font-size: 1.1em; font-family: arial; padding: 30px; padding-top: 0; padding-bottom: 0; width: 1100px;\">\n",
    "<p>Recall that matplotlib’s object oriented approach makes it easy to include more than one plot in a figure by creating additional <code>axis</code> objects:\n",
    "</p>\n",
    "</div>"
   ]
  },
  {
   "cell_type": "markdown",
   "id": "a881ef48",
   "metadata": {},
   "source": [
    "```python\n",
    "        fig, (ax1, ax2) = plt.subplots(num_rows, num_columns)\n",
    "```"
   ]
  },
  {
   "cell_type": "markdown",
   "id": "c1cb338a",
   "metadata": {},
   "source": [
    "<div style=\"font-size: 1.1em; font-family: arial; padding: 30px; padding-top: 0; padding-bottom: 0; width: 1100px;\">\n",
    "<p> Once you have your <code>fig</code> and two <code>axis</code> objects defined, you can add data to each <code>axis</code> and define the plot with unique characteristics.\n",
    "\n",
    "In the example below, <code>ax1.bar</code> creates a customized bar plot in the first plot, and <code>ax2.scatter</code> creates a customized scatter in the second plot.\n",
    "</p>\n",
    "</div>"
   ]
  },
  {
   "cell_type": "code",
   "execution_count": null,
   "id": "c59d0f19",
   "metadata": {},
   "outputs": [
    {
     "data": {
      "image/png": "[encoded data removed]",
      "text/plain": [
       "<Figure size 1200x1200 with 2 Axes>"
      ]
     },
     "metadata": {},
     "output_type": "display_data"
    }
   ],
   "source": [
    "# Define plot space\n",
    "fig, (ax1, ax2) = plt.subplots(2, 1, figsize=(12, 12))\n",
    "\n",
    "# Define x and y axes\n",
    "ax1.bar(months, \n",
    "       boulder_monthly_precip,\n",
    "       color = 'cyan', \n",
    "       edgecolor = 'darkblue')\n",
    "\n",
    "# Set plot title and axes labels\n",
    "ax1.set(title = \"Bar Plot of Average Monthly Precipitation\",\n",
    "       xlabel = \"Month\",\n",
    "       ylabel = \"Precipitation\\n(inches)\")\n",
    "\n",
    "# Define x and y axes\n",
    "ax2.scatter(months, \n",
    "        boulder_monthly_precip,\n",
    "        c = boulder_monthly_precip,\n",
    "        cmap = 'YlGnBu')\n",
    "\n",
    "# Set plot title and axes labels\n",
    "ax2.set(title = \"Scatter Plot of Average Monthly Precipitation\",\n",
    "       xlabel = \"Month\",\n",
    "       ylabel = \"Precipitation\\n(inches)\")\n",
    "\n",
    "plt.show()"
   ]
  },
  {
   "cell_type": "markdown",
   "id": "2ac25cba",
   "metadata": {},
   "source": [
    "<div style=\"font-size: 1.1em; font-family: arial; padding: 30px; padding-top: 0; padding-bottom: 0; width: 1100px;\">\n",
    "<p>You can easily save a figure to an image file such as .png using:</p>\n",
    "</div>\n"
   ]
  },
  {
   "cell_type": "markdown",
   "id": "197d0c55",
   "metadata": {},
   "source": [
    "```python\n",
    "        plt.savefig(\"path/name-of-file.png\")\n",
    "```"
   ]
  },
  {
   "cell_type": "markdown",
   "id": "1bd0846a",
   "metadata": {},
   "source": [
    "<div style=\"font-size: 1.1em; font-family: arial; padding: 30px; padding-top: 0; padding-bottom: 0; width: 1100px;\">\n",
    "<p>which will save the latest figure rendered.</p>\n",
    "</div>"
   ]
  },
  {
   "cell_type": "markdown",
   "id": "74975c2f",
   "metadata": {},
   "source": [
    "<div style=\"padding: 30px; padding-top: 0; padding-bottom: 0;\">\n",
    "\n",
    "<hr style=\"border-color: #fff;\">\n",
    "\n",
    "</div>"
   ]
  },
  {
   "cell_type": "markdown",
   "id": "687a33ec",
   "metadata": {},
   "source": [
    "<div style=\"font-size: 1.1em; font-family: arial; padding: 30px; padding-top: 0; padding-bottom: 0; width: 1100px;\">\n",
    "\n",
    "<h2 id=\"Plotting with Seaborn\" style=\"color: #d42c06;\">Plotting with Seaborn</h2>\n",
    "\n",
    "</div>"
   ]
  },
  {
   "cell_type": "markdown",
   "id": "cf0743c1",
   "metadata": {},
   "source": [
    "<div style=\"font-size: 1.1em; font-family: arial; padding: 30px; padding-top: 0; padding-bottom: 0; width: 1100px;\">\n",
    "<p>Seaborn, a Python visualization library based on matplotlib.</p>\n",
    "\n",
    "<p>Seaborn is really just a wraparound matplotlib. It adds styles to make default data visualizations much more visually appealing and makes creation of specific types of complicated plots much simpler.</p>\n",
    "</div>\n"
   ]
  },
  {
   "cell_type": "code",
   "execution_count": null,
   "id": "2e84bd34",
   "metadata": {},
   "outputs": [],
   "source": [
    "import seaborn as sns"
   ]
  },
  {
   "cell_type": "code",
   "execution_count": null,
   "id": "98527ea6",
   "metadata": {},
   "outputs": [
    {
     "data": {
      "text/plain": [
       "<Axes: >"
      ]
     },
     "execution_count": 12,
     "metadata": {},
     "output_type": "execute_result"
    },
    {
     "data": {
      "image/png": "[encoded data removed]",
      "text/plain": [
       "<Figure size 640x480 with 1 Axes>"
      ]
     },
     "metadata": {},
     "output_type": "display_data"
    }
   ],
   "source": [
    "# The list you want to plot\n",
    "datas = [3,124,23,6,5,7,89,8,5,12,43,8,2,34,5,6,7]\n",
    "\n",
    "# Drawing a line-plot\n",
    "sns.lineplot(datas)\n"
   ]
  },
  {
   "cell_type": "markdown",
   "id": "c80c5c07",
   "metadata": {},
   "source": [
    "<div style=\"font-size: 1.1em; font-family: arial; padding: 30px; padding-top: 0; padding-bottom: 0; width: 1100px;\">\n",
    "<p>You can also draw <b>box-plot</b>, <b>heatmap</b> in seaborn: </p>\n",
    "</div>\n"
   ]
  },
  {
   "cell_type": "code",
   "execution_count": null,
   "id": "2d969395",
   "metadata": {},
   "outputs": [
    {
     "data": {
      "text/plain": [
       "<Axes: >"
      ]
     },
     "execution_count": 13,
     "metadata": {},
     "output_type": "execute_result"
    },
    {
     "data": {
      "image/png": "[encoded data removed]",
      "text/plain": [
       "<Figure size 640x480 with 2 Axes>"
      ]
     },
     "metadata": {},
     "output_type": "display_data"
    }
   ],
   "source": [
    "import numpy as np\n",
    "\n",
    "# Generate random data\n",
    "data = np.random.randint(0, 100, (5, 5))\n",
    "\n",
    "# Create a heatmap\n",
    "sns.heatmap(data)\n"
   ]
  },
  {
   "cell_type": "code",
   "execution_count": null,
   "id": "5e937d78",
   "metadata": {},
   "outputs": [
    {
     "data": {
      "text/plain": [
       "<Axes: >"
      ]
     },
     "execution_count": 14,
     "metadata": {},
     "output_type": "execute_result"
    },
    {
     "data": {
      "image/png": "[encoded data removed]",
      "text/plain": [
       "<Figure size 640x480 with 1 Axes>"
      ]
     },
     "metadata": {},
     "output_type": "display_data"
    }
   ],
   "source": [
    "# Generate random data\n",
    "data = {\n",
    "    'Group A': np.random.normal(50, 10, 100),\n",
    "    'Group B': np.random.normal(45, 8, 100),\n",
    "    'Group C': np.random.normal(55, 12, 100)\n",
    "}\n",
    "\n",
    "# Create a boxplot\n",
    "sns.boxplot(data)"
   ]
  },
  {
   "cell_type": "markdown",
   "id": "1d1b91af",
   "metadata": {},
   "source": [
    "<div style=\"padding: 30px; padding-top: 0; padding-bottom: 0;\">\n",
    "\n",
    "<hr style=\"border-color: #fff;\">\n",
    "\n",
    "</div>"
   ]
  },
  {
   "cell_type": "markdown",
   "id": "40d0876c",
   "metadata": {},
   "source": [
    "<div style=\"font-size: 1.1em; font-family: arial; padding: 30px; padding-top: 0; padding-bottom: 0; width: 1100px;\">\n",
    "\n",
    "<h2 id=\"Additional Plotting Libraries\" style=\"color: #d42c06;\">Additional Plotting Libraries</h2>\n",
    "\n",
    "</div>"
   ]
  },
  {
   "cell_type": "markdown",
   "id": "7c8d9bea",
   "metadata": {},
   "source": [
    "# **Matplotlib**\n",
    "## gitub stars: 19k\n",
    "\n",
    "[<img src=\"https://matplotlib.org/stable/_images/sphx_glr_logos2_003.png\" width=\"250\"/>](matplotlib.png)\n",
    "\n",
    "Positives:\n",
    "- ✔️ Most solid plotting library in python.\n",
    "- ✔️ Customization to do almost anything.\n",
    "- ✔️ Widely used and other packages build off of it.\n",
    "\n",
    "Negatives:\n",
    "- ❌ Hard learn at first.\n",
    "- ❌ Complex plots can be code heavy.\n",
    "- ❌ Not best for interactive plots."
   ]
  },
  {
   "cell_type": "code",
   "execution_count": null,
   "id": "799215c2",
   "metadata": {},
   "outputs": [
    {
     "data": {
      "text/plain": [
       "<matplotlib.legend.Legend at 0x255b7d8ffb0>"
      ]
     },
     "execution_count": 15,
     "metadata": {},
     "output_type": "execute_result"
    },
    {
     "data": {
      "image/png": "[encoded data removed]",
      "text/plain": [
       "<Figure size 1200x500 with 1 Axes>"
      ]
     },
     "metadata": {},
     "output_type": "display_data"
    }
   ],
   "source": [
    "data1, data2, data3, data4 = np.random.randn(4, 100)  # make 4 random data sets\n",
    "fig, ax = plt.subplots(figsize=(12, 5))\n",
    "ax.plot(data1, \"o\", label=\"data1\")\n",
    "ax.plot(data2, \"d\", label=\"data2\")\n",
    "ax.plot(data3, \"v\", label=\"data3\")\n",
    "ax.plot(data4, \"s\", label=\"data4\")\n",
    "ax.legend()"
   ]
  },
  {
   "cell_type": "markdown",
   "id": "d863f632",
   "metadata": {},
   "source": [
    "# **Seaborn**\n",
    "## github stars: 11.8k\n",
    "[<img src=\"https://seaborn.pydata.org/_images/logo-wide-lightbg.svg\" width=\"250\"/>](image.png)\n",
    "\n",
    "Positives:\n",
    "- ✔️ Standard plots out of the box\n",
    "- ✔️ Perfect for statisical anaylsis.\n",
    "- ✔️ Fast to use for standard plots\n",
    "\n",
    "Negatives:\n",
    "- ❌ Built on top of matplotlib\n",
    "- ❌ Less ability to customize"
   ]
  },
  {
   "cell_type": "code",
   "execution_count": null,
   "id": "b62c597a",
   "metadata": {},
   "outputs": [
    {
     "data": {
      "text/plain": [
       "<seaborn.axisgrid.JointGrid at 0x255b94d0da0>"
      ]
     },
     "execution_count": 16,
     "metadata": {},
     "output_type": "execute_result"
    },
    {
     "data": {
      "image/png": "[encoded data removed]",
      "text/plain": [
       "<Figure size 1000x1000 with 3 Axes>"
      ]
     },
     "metadata": {},
     "output_type": "display_data"
    }
   ],
   "source": [
    "penguins = sns.load_dataset(\"penguins\")\n",
    "sns.jointplot(\n",
    "    data=penguins, x=\"flipper_length_mm\", y=\"bill_length_mm\", hue=\"species\", height=10\n",
    ")"
   ]
  },
  {
   "cell_type": "markdown",
   "id": "0c6b7f96",
   "metadata": {},
   "source": [
    "# **Pandas**\n",
    "## github stars: 41.6k\n",
    "\n",
    "\n",
    "[<img src=\"https://upload.wikimedia.org/wikipedia/commons/thumb/e/ed/Pandas_logo.svg/2560px-Pandas_logo.svg.png\" width=\"250\"/>](image.png)\n",
    "\n",
    "Pandas is a plotting library? Yes! It uses matplotlib backed.\n",
    "\n",
    "Positives:\n",
    "- ✔️ Plot directly from a dataframe. No other imports.\n",
    "- ✔️ Suprisingly has a lot of plotting options.\n",
    "- ✔️ Great starting point for matplotlib plots\n",
    "\n",
    "Negatives:\n",
    "- ❌ Not interactive\n",
    "- ❌ Plain and simple"
   ]
  },
  {
   "cell_type": "code",
   "execution_count": null,
   "id": "3158408e",
   "metadata": {},
   "outputs": [
    {
     "data": {
      "text/plain": [
       "<Axes: >"
      ]
     },
     "execution_count": 17,
     "metadata": {},
     "output_type": "execute_result"
    },
    {
     "data": {
      "image/png": "[encoded data removed]",
      "text/plain": [
       "<Figure size 800x600 with 1 Axes>"
      ]
     },
     "metadata": {},
     "output_type": "display_data"
    }
   ],
   "source": [
    "import pandas as pd\n",
    "import numpy as np\n",
    "np.random.seed(42)\n",
    "data = {\n",
    "    'Group A': np.random.normal(50, 10, 100),\n",
    "    'Group B': np.random.normal(45, 8, 100),\n",
    "    'Group C': np.random.normal(55, 12, 100)\n",
    "}\n",
    "\n",
    "# Create a DataFrame from the random data\n",
    "df = pd.DataFrame(data)\n",
    "\n",
    "# Create a box plot using Pandas\n",
    "plt.figure(figsize=(8, 6))\n",
    "df.boxplot()"
   ]
  },
  {
   "cell_type": "markdown",
   "id": "b2ffd266",
   "metadata": {},
   "source": [
    "# **Bokeh**\n",
    "## github stars: 18.7k\n",
    "[<img src=\"https://static.bokeh.org/branding/logos/bokeh-logo@2x.jpg\" width=\"250\"/>](image.png)\n",
    "\n",
    "Positives:\n",
    "- ✔️ Interactive plots made easy.\n",
    "- ✔️ Lots of customization options.\n",
    "- ✔️ Like matplotlib but interactive\n",
    "\n",
    "Negatives:\n",
    "- ❌ like matplotlib but interactive\n",
    "- ❌ Code heavy"
   ]
  },
  {
   "cell_type": "code",
   "execution_count": null,
   "id": "594dc754",
   "metadata": {},
   "outputs": [
    {
     "data": {
      "text/html": [
       "    <style>\n",
       "        .bk-notebook-logo {\n",
       "            display: block;\n",
       "            width: 20px;\n",
       "            height: 20px;\n",
       "            background-image: url(data:image/png;base64,iVBORw0KGgoAAAANSUhEUgAAABQAAAAUCAYAAACNiR0NAAAABHNCSVQICAgIfAhkiAAAAAlwSFlzAAALEgAACxIB0t1+/AAAABx0RVh0U29mdHdhcmUAQWRvYmUgRmlyZXdvcmtzIENTNui8sowAAAOkSURBVDiNjZRtaJVlGMd/1/08zzln5zjP1LWcU9N0NkN8m2CYjpgQYQXqSs0I84OLIC0hkEKoPtiH3gmKoiJDU7QpLgoLjLIQCpEsNJ1vqUOdO7ppbuec5+V+rj4ctwzd8IIbbi6u+8f1539dt3A78eXC7QizUF7gyV1fD1Yqg4JWz84yffhm0qkFqBogB9rM8tZdtwVsPUhWhGcFJngGeWrPzHm5oaMmkfEg1usvLFyc8jLRqDOMru7AyC8saQr7GG7f5fvDeH7Ej8CM66nIF+8yngt6HWaKh7k49Soy9nXurCi1o3qUbS3zWfrYeQDTB/Qj6kX6Ybhw4B+bOYoLKCC9H3Nu/leUTZ1JdRWkkn2ldcCamzrcf47KKXdAJllSlxAOkRgyHsGC/zRday5Qld9DyoM4/q/rUoy/CXh3jzOu3bHUVZeU+DEn8FInkPBFlu3+nW3Nw0mk6vCDiWg8CeJaxEwuHS3+z5RgY+YBR6V1Z1nxSOfoaPa4LASWxxdNp+VWTk7+4vzaou8v8PN+xo+KY2xsw6une2frhw05CTYOmQvsEhjhWjn0bmXPjpE1+kplmmkP3suftwTubK9Vq22qKmrBhpY4jvd5afdRA3wGjFAgcnTK2s4hY0/GPNIb0nErGMCRxWOOX64Z8RAC4oCXdklmEvcL8o0BfkNK4lUg9HTl+oPlQxdNo3Mg4Nv175e/1LDGzZen30MEjRUtmXSfiTVu1kK8W4txyV6BMKlbgk3lMwYCiusNy9fVfvvwMxv8Ynl6vxoByANLTWplvuj/nF9m2+PDtt1eiHPBr1oIfhCChQMBw6Aw0UulqTKZdfVvfG7VcfIqLG9bcldL/+pdWTLxLUy8Qq38heUIjh4XlzZxzQm19lLFlr8vdQ97rjZVOLf8nclzckbcD4wxXMidpX30sFd37Fv/GtwwhzhxGVAprjbg0gCAEeIgwCZyTV2Z1REEW8O4py0wsjeloKoMr6iCY6dP92H6Vw/oTyICIthibxjm/DfN9lVz8IqtqKYLUXfoKVMVQVVJOElGjrnnUt9T9wbgp8AyYKaGlqingHZU/uG2NTZSVqwHQTWkx9hxjkpWDaCg6Ckj5qebgBVbT3V3NNXMSiWSDdGV3hrtzla7J+duwPOToIg42ChPQOQjspnSlp1V+Gjdged7+8UN5CRAV7a5EdFNwCjEaBR27b3W890TE7g24NAP/mMDXRWrGoFPQI9ls/MWO2dWFAar/xcOIImbbpA3zgAAAABJRU5ErkJggg==);\n",
       "        }\n",
       "    </style>\n",
       "    <div>\n",
       "        <a href=\"https://bokeh.org\" target=\"_blank\" class=\"bk-notebook-logo\"></a>\n",
       "        <span id=\"e080401e-106f-4a80-b764-e6f6c090636c\">Loading BokehJS ...</span>\n",
       "    </div>\n"
      ]
     },
     "metadata": {},
     "output_type": "display_data"
    },
    {
     "data": {
      "application/javascript": "'use strict';\n(function(root) {\n  function now() {\n    return new Date();\n  }\n\n  const force = true;\n\n  if (typeof root._bokeh_onload_callbacks === \"undefined\" || force === true) {\n    root._bokeh_onload_callbacks = [];\n    root._bokeh_is_loading = undefined;\n  }\n\nconst JS_MIME_TYPE = 'application/javascript';\n  const HTML_MIME_TYPE = 'text/html';\n  const EXEC_MIME_TYPE = 'application/vnd.bokehjs_exec.v0+json';\n  const CLASS_NAME = 'output_bokeh rendered_html';\n\n  /**\n   * Render data to the DOM node\n   */\n  function render(props, node) {\n    const script = document.createElement(\"script\");\n    node.appendChild(script);\n  }\n\n  /**\n   * Handle when an output is cleared or removed\n   */\n  function handleClearOutput(event, handle) {\n    function drop(id) {\n      const view = Bokeh.index.get_by_id(id)\n      if (view != null) {\n        view.model.document.clear()\n        Bokeh.index.delete(view)\n      }\n    }\n\n    const cell = handle.cell;\n\n    const id = cell.output_area._bokeh_element_id;\n    const server_id = cell.output_area._bokeh_server_id;\n\n    // Clean up Bokeh references\n    if (id != null) {\n      drop(id)\n    }\n\n    if (server_id !== undefined) {\n      // Clean up Bokeh references\n      const cmd_clean = \"from bokeh.io.state import curstate; print(curstate().uuid_to_server['\" + server_id + \"'].get_sessions()[0].document.roots[0]._id)\";\n      cell.notebook.kernel.execute(cmd_clean, {\n        iopub: {\n          output: function(msg) {\n            const id = msg.content.text.trim()\n            drop(id)\n          }\n        }\n      });\n      // Destroy server and session\n      const cmd_destroy = \"import bokeh.io.notebook as ion; ion.destroy_server('\" + server_id + \"')\";\n      cell.notebook.kernel.execute(cmd_destroy);\n    }\n  }\n\n  /**\n   * Handle when a new output is added\n   */\n  function handleAddOutput(event, handle) {\n    const output_area = handle.output_area;\n    const output = handle.output;\n\n    // limit handleAddOutput to display_data with EXEC_MIME_TYPE content only\n    if ((output.output_type != \"display_data\") || (!Object.prototype.hasOwnProperty.call(output.data, EXEC_MIME_TYPE))) {\n      return\n    }\n\n    const toinsert = output_area.element.find(\".\" + CLASS_NAME.split(' ')[0]);\n\n    if (output.metadata[EXEC_MIME_TYPE][\"id\"] !== undefined) {\n      toinsert[toinsert.length - 1].firstChild.textContent = output.data[JS_MIME_TYPE];\n      // store reference to embed id on output_area\n      output_area._bokeh_element_id = output.metadata[EXEC_MIME_TYPE][\"id\"];\n    }\n    if (output.metadata[EXEC_MIME_TYPE][\"server_id\"] !== undefined) {\n      const bk_div = document.createElement(\"div\");\n      bk_div.innerHTML = output.data[HTML_MIME_TYPE];\n      const script_attrs = bk_div.children[0].attributes;\n      for (let i = 0; i < script_attrs.length; i++) {\n        toinsert[toinsert.length - 1].firstChild.setAttribute(script_attrs[i].name, script_attrs[i].value);\n        toinsert[toinsert.length - 1].firstChild.textContent = bk_div.children[0].textContent\n      }\n      // store reference to server id on output_area\n      output_area._bokeh_server_id = output.metadata[EXEC_MIME_TYPE][\"server_id\"];\n    }\n  }\n\n  function register_renderer(events, OutputArea) {\n\n    function append_mime(data, metadata, element) {\n      // create a DOM node to render to\n      const toinsert = this.create_output_subarea(\n        metadata,\n        CLASS_NAME,\n        EXEC_MIME_TYPE\n      );\n      this.keyboard_manager.register_events(toinsert);\n      // Render to node\n      const props = {data: data, metadata: metadata[EXEC_MIME_TYPE]};\n      render(props, toinsert[toinsert.length - 1]);\n      element.append(toinsert);\n      return toinsert\n    }\n\n    /* Handle when an output is cleared or removed */\n    events.on('clear_output.CodeCell', handleClearOutput);\n    events.on('delete.Cell', handleClearOutput);\n\n    /* Handle when a new output is added */\n    events.on('output_added.OutputArea', handleAddOutput);\n\n    /**\n     * Register the mime type and append_mime function with output_area\n     */\n    OutputArea.prototype.register_mime_type(EXEC_MIME_TYPE, append_mime, {\n      /* Is output safe? */\n      safe: true,\n      /* Index of renderer in `output_area.display_order` */\n      index: 0\n    });\n  }\n\n  // register the mime type if in Jupyter Notebook environment and previously unregistered\n  if (root.Jupyter !== undefined) {\n    const events = require('base/js/events');\n    const OutputArea = require('notebook/js/outputarea').OutputArea;\n\n    if (OutputArea.prototype.mime_types().indexOf(EXEC_MIME_TYPE) == -1) {\n      register_renderer(events, OutputArea);\n    }\n  }\n  if (typeof (root._bokeh_timeout) === \"undefined\" || force === true) {\n    root._bokeh_timeout = Date.now() + 5000;\n    root._bokeh_failed_load = false;\n  }\n\n  const NB_LOAD_WARNING = {'data': {'text/html':\n     \"<div style='background-color: #fdd'>\\n\"+\n     \"<p>\\n\"+\n     \"BokehJS does not appear to have successfully loaded. If loading BokehJS from CDN, this \\n\"+\n     \"may be due to a slow or bad network connection. Possible fixes:\\n\"+\n     \"</p>\\n\"+\n     \"<ul>\\n\"+\n     \"<li>re-rerun `output_notebook()` to attempt to load from CDN again, or</li>\\n\"+\n     \"<li>use INLINE resources instead, as so:</li>\\n\"+\n     \"</ul>\\n\"+\n     \"<code>\\n\"+\n     \"from bokeh.resources import INLINE\\n\"+\n     \"output_notebook(resources=INLINE)\\n\"+\n     \"</code>\\n\"+\n     \"</div>\"}};\n\n  function display_loaded(error = null) {\n    const el = document.getElementById(\"e080401e-106f-4a80-b764-e6f6c090636c\");\n    if (el != null) {\n      const html = (() => {\n        if (typeof root.Bokeh === \"undefined\") {\n          if (error == null) {\n            return \"BokehJS is loading ...\";\n          } else {\n            return \"BokehJS failed to load.\";\n          }\n        } else {\n          const prefix = `BokehJS ${root.Bokeh.version}`;\n          if (error == null) {\n            return `${prefix} successfully loaded.`;\n          } else {\n            return `${prefix} <b>encountered errors</b> while loading and may not function as expected.`;\n          }\n        }\n      })();\n      el.innerHTML = html;\n\n      if (error != null) {\n        const wrapper = document.createElement(\"div\");\n        wrapper.style.overflow = \"auto\";\n        wrapper.style.height = \"5em\";\n        wrapper.style.resize = \"vertical\";\n        const content = document.createElement(\"div\");\n        content.style.fontFamily = \"monospace\";\n        content.style.whiteSpace = \"pre-wrap\";\n        content.style.backgroundColor = \"rgb(255, 221, 221)\";\n        content.textContent = error.stack ?? error.toString();\n        wrapper.append(content);\n        el.append(wrapper);\n      }\n    } else if (Date.now() < root._bokeh_timeout) {\n      setTimeout(() => display_loaded(error), 100);\n    }\n  }\n\n  function run_callbacks() {\n    try {\n      root._bokeh_onload_callbacks.forEach(function(callback) {\n        if (callback != null)\n          callback();\n      });\n    } finally {\n      delete root._bokeh_onload_callbacks\n    }\n    console.debug(\"Bokeh: all callbacks have finished\");\n  }\n\n  function load_libs(css_urls, js_urls, callback) {\n    if (css_urls == null) css_urls = [];\n    if (js_urls == null) js_urls = [];\n\n    root._bokeh_onload_callbacks.push(callback);\n    if (root._bokeh_is_loading > 0) {\n      console.debug(\"Bokeh: BokehJS is being loaded, scheduling callback at\", now());\n      return null;\n    }\n    if (js_urls == null || js_urls.length === 0) {\n      run_callbacks();\n      return null;\n    }\n    console.debug(\"Bokeh: BokehJS not loaded, scheduling load and callback at\", now());\n    root._bokeh_is_loading = css_urls.length + js_urls.length;\n\n    function on_load() {\n      root._bokeh_is_loading--;\n      if (root._bokeh_is_loading === 0) {\n        console.debug(\"Bokeh: all BokehJS libraries/stylesheets loaded\");\n        run_callbacks()\n      }\n    }\n\n    function on_error(url) {\n      console.error(\"failed to load \" + url);\n    }\n\n    for (let i = 0; i < css_urls.length; i++) {\n      const url = css_urls[i];\n      const element = document.createElement(\"link\");\n      element.onload = on_load;\n      element.onerror = on_error.bind(null, url);\n      element.rel = \"stylesheet\";\n      element.type = \"text/css\";\n      element.href = url;\n      console.debug(\"Bokeh: injecting link tag for BokehJS stylesheet: \", url);\n      document.body.appendChild(element);\n    }\n\n    for (let i = 0; i < js_urls.length; i++) {\n      const url = js_urls[i];\n      const element = document.createElement('script');\n      element.onload = on_load;\n      element.onerror = on_error.bind(null, url);\n      element.async = false;\n      element.src = url;\n      console.debug(\"Bokeh: injecting script tag for BokehJS library: \", url);\n      document.head.appendChild(element);\n    }\n  };\n\n  function inject_raw_css(css) {\n    const element = document.createElement(\"style\");\n    element.appendChild(document.createTextNode(css));\n    document.body.appendChild(element);\n  }\n\n  const js_urls = [\"https://cdn.bokeh.org/bokeh/release/bokeh-3.4.0.min.js\", \"https://cdn.bokeh.org/bokeh/release/bokeh-gl-3.4.0.min.js\", \"https://cdn.bokeh.org/bokeh/release/bokeh-widgets-3.4.0.min.js\", \"https://cdn.bokeh.org/bokeh/release/bokeh-tables-3.4.0.min.js\", \"https://cdn.bokeh.org/bokeh/release/bokeh-mathjax-3.4.0.min.js\"];\n  const css_urls = [];\n\n  const inline_js = [    function(Bokeh) {\n      Bokeh.set_log_level(\"info\");\n    },\nfunction(Bokeh) {\n    }\n  ];\n\n  function run_inline_js() {\n    if (root.Bokeh !== undefined || force === true) {\n      try {\n            for (let i = 0; i < inline_js.length; i++) {\n      inline_js[i].call(root, root.Bokeh);\n    }\n\n      } catch (error) {display_loaded(error);throw error;\n      }if (force === true) {\n        display_loaded();\n      }} else if (Date.now() < root._bokeh_timeout) {\n      setTimeout(run_inline_js, 100);\n    } else if (!root._bokeh_failed_load) {\n      console.log(\"Bokeh: BokehJS failed to load within specified timeout.\");\n      root._bokeh_failed_load = true;\n    } else if (force !== true) {\n      const cell = $(document.getElementById(\"e080401e-106f-4a80-b764-e6f6c090636c\")).parents('.cell').data().cell;\n      cell.output_area.append_execute_result(NB_LOAD_WARNING)\n    }\n  }\n\n  if (root._bokeh_is_loading === 0) {\n    console.debug(\"Bokeh: BokehJS loaded, going straight to plotting\");\n    run_inline_js();\n  } else {\n    load_libs(css_urls, js_urls, function() {\n      console.debug(\"Bokeh: BokehJS plotting callback run at\", now());\n      run_inline_js();\n    });\n  }\n}(window));",
      "application/vnd.bokehjs_load.v0+json": ""
     },
     "metadata": {},
     "output_type": "display_data"
    },
    {
     "name": "stderr",
     "output_type": "stream",
     "text": [
      "C:\\Users\\hossein\\AppData\\Local\\Temp\\ipykernel_9340\\183336914.py:14: BokehDeprecationWarning:\n",
      "\n",
      "'circle() method with size value' was deprecated in Bokeh 3.4.0 and will be removed, use 'scatter(size=...) instead' instead.\n",
      "\n"
     ]
    },
    {
     "data": {
      "text/html": [
       "\n",
       "  <div id=\"b8280c4e-040c-417f-8d43-71943ed0445b\" data-root-id=\"p1052\" style=\"display: contents;\"></div>\n"
      ]
     },
     "metadata": {},
     "output_type": "display_data"
    },
    {
     "data": {
      "application/javascript": "(function(root) {\n  function embed_document(root) {\n  const docs_json = {\"43dd6b20-0784-4eb8-afe6-bea1e956513a\":{\"version\":\"3.4.0\",\"title\":\"Bokeh Application\",\"roots\":[{\"type\":\"object\",\"name\":\"Column\",\"id\":\"p1052\",\"attributes\":{\"children\":[{\"type\":\"object\",\"name\":\"Row\",\"id\":\"p1049\",\"attributes\":{\"children\":[{\"type\":\"object\",\"name\":\"Div\",\"id\":\"p1043\",\"attributes\":{\"width\":200,\"height\":30,\"text\":\"\\n          <p>Select the circle's size using this control element:</p>\\n          \"}},{\"type\":\"object\",\"name\":\"Spinner\",\"id\":\"p1044\",\"attributes\":{\"js_property_callbacks\":{\"type\":\"map\",\"entries\":[[\"change:value\",[{\"type\":\"object\",\"name\":\"CustomJS\",\"id\":\"p1045\",\"attributes\":{\"args\":{\"type\":\"map\",\"entries\":[[\"other\",{\"type\":\"object\",\"name\":\"Scatter\",\"id\":\"p1037\",\"attributes\":{\"x\":{\"type\":\"field\",\"field\":\"x\"},\"y\":{\"type\":\"field\",\"field\":\"y\"},\"size\":{\"type\":\"value\",\"value\":30},\"line_color\":{\"type\":\"value\",\"value\":\"#1f77b4\"},\"fill_color\":{\"type\":\"value\",\"value\":\"#21a7df\"}}}]]},\"code\":\"other.size = this.value\"}}]]]},\"width\":200,\"title\":\"Circle size\",\"value\":30,\"low\":0,\"high\":60,\"step\":5}}]}},{\"type\":\"object\",\"name\":\"Row\",\"id\":\"p1050\",\"attributes\":{\"children\":[{\"type\":\"object\",\"name\":\"RangeSlider\",\"id\":\"p1046\",\"attributes\":{\"js_property_callbacks\":{\"type\":\"map\",\"entries\":[[\"change:value\",[{\"type\":\"object\",\"name\":\"CustomJS\",\"id\":\"p1047\",\"attributes\":{\"args\":{\"type\":\"map\",\"entries\":[[\"other\",{\"type\":\"object\",\"name\":\"Range1d\",\"id\":\"p1010\",\"attributes\":{\"start\":1,\"end\":9}}]]},\"code\":\"other.start = this.value[0]\"}},{\"type\":\"object\",\"name\":\"CustomJS\",\"id\":\"p1048\",\"attributes\":{\"args\":{\"type\":\"map\",\"entries\":[[\"other\",{\"id\":\"p1010\"}]]},\"code\":\"other.end = this.value[1]\"}}]]]},\"title\":\"Adjust x-axis range\",\"value\":[1,9],\"start\":0,\"end\":10}}]}},{\"type\":\"object\",\"name\":\"Row\",\"id\":\"p1051\",\"attributes\":{\"children\":[{\"type\":\"object\",\"name\":\"Figure\",\"id\":\"p1001\",\"attributes\":{\"width\":500,\"height\":250,\"x_range\":{\"id\":\"p1010\"},\"y_range\":{\"type\":\"object\",\"name\":\"DataRange1d\",\"id\":\"p1003\"},\"x_scale\":{\"type\":\"object\",\"name\":\"LinearScale\",\"id\":\"p1011\"},\"y_scale\":{\"type\":\"object\",\"name\":\"LinearScale\",\"id\":\"p1012\"},\"title\":{\"type\":\"object\",\"name\":\"Title\",\"id\":\"p1008\"},\"renderers\":[{\"type\":\"object\",\"name\":\"GlyphRenderer\",\"id\":\"p1040\",\"attributes\":{\"data_source\":{\"type\":\"object\",\"name\":\"ColumnDataSource\",\"id\":\"p1034\",\"attributes\":{\"selected\":{\"type\":\"object\",\"name\":\"Selection\",\"id\":\"p1035\",\"attributes\":{\"indices\":[],\"line_indices\":[]}},\"selection_policy\":{\"type\":\"object\",\"name\":\"UnionRenderers\",\"id\":\"p1036\"},\"data\":{\"type\":\"map\",\"entries\":[[\"x\",[1,2,3,4,5,6,7,8,9,10]],[\"y\",[4,5,5,7,2,6,4,9,1,3]]]}}},\"view\":{\"type\":\"object\",\"name\":\"CDSView\",\"id\":\"p1041\",\"attributes\":{\"filter\":{\"type\":\"object\",\"name\":\"AllIndices\",\"id\":\"p1042\"}}},\"glyph\":{\"id\":\"p1037\"},\"nonselection_glyph\":{\"type\":\"object\",\"name\":\"Scatter\",\"id\":\"p1038\",\"attributes\":{\"x\":{\"type\":\"field\",\"field\":\"x\"},\"y\":{\"type\":\"field\",\"field\":\"y\"},\"size\":{\"type\":\"value\",\"value\":30},\"line_color\":{\"type\":\"value\",\"value\":\"#1f77b4\"},\"line_alpha\":{\"type\":\"value\",\"value\":0.1},\"fill_color\":{\"type\":\"value\",\"value\":\"#21a7df\"},\"fill_alpha\":{\"type\":\"value\",\"value\":0.1},\"hatch_alpha\":{\"type\":\"value\",\"value\":0.1}}},\"muted_glyph\":{\"type\":\"object\",\"name\":\"Scatter\",\"id\":\"p1039\",\"attributes\":{\"x\":{\"type\":\"field\",\"field\":\"x\"},\"y\":{\"type\":\"field\",\"field\":\"y\"},\"size\":{\"type\":\"value\",\"value\":30},\"line_color\":{\"type\":\"value\",\"value\":\"#1f77b4\"},\"line_alpha\":{\"type\":\"value\",\"value\":0.2},\"fill_color\":{\"type\":\"value\",\"value\":\"#21a7df\"},\"fill_alpha\":{\"type\":\"value\",\"value\":0.2},\"hatch_alpha\":{\"type\":\"value\",\"value\":0.2}}}}}],\"toolbar\":{\"type\":\"object\",\"name\":\"Toolbar\",\"id\":\"p1009\",\"attributes\":{\"tools\":[{\"type\":\"object\",\"name\":\"PanTool\",\"id\":\"p1023\"},{\"type\":\"object\",\"name\":\"WheelZoomTool\",\"id\":\"p1024\",\"attributes\":{\"renderers\":\"auto\"}},{\"type\":\"object\",\"name\":\"BoxZoomTool\",\"id\":\"p1025\",\"attributes\":{\"overlay\":{\"type\":\"object\",\"name\":\"BoxAnnotation\",\"id\":\"p1026\",\"attributes\":{\"syncable\":false,\"level\":\"overlay\",\"visible\":false,\"left\":{\"type\":\"number\",\"value\":\"nan\"},\"right\":{\"type\":\"number\",\"value\":\"nan\"},\"top\":{\"type\":\"number\",\"value\":\"nan\"},\"bottom\":{\"type\":\"number\",\"value\":\"nan\"},\"left_units\":\"canvas\",\"right_units\":\"canvas\",\"top_units\":\"canvas\",\"bottom_units\":\"canvas\",\"line_color\":\"black\",\"line_alpha\":1.0,\"line_width\":2,\"line_dash\":[4,4],\"fill_color\":\"lightgrey\",\"fill_alpha\":0.5}}}},{\"type\":\"object\",\"name\":\"SaveTool\",\"id\":\"p1031\"},{\"type\":\"object\",\"name\":\"ResetTool\",\"id\":\"p1032\"},{\"type\":\"object\",\"name\":\"HelpTool\",\"id\":\"p1033\"}]}},\"left\":[{\"type\":\"object\",\"name\":\"LinearAxis\",\"id\":\"p1018\",\"attributes\":{\"ticker\":{\"type\":\"object\",\"name\":\"BasicTicker\",\"id\":\"p1019\",\"attributes\":{\"mantissas\":[1,2,5]}},\"formatter\":{\"type\":\"object\",\"name\":\"BasicTickFormatter\",\"id\":\"p1020\"},\"major_label_policy\":{\"type\":\"object\",\"name\":\"AllLabels\",\"id\":\"p1021\"}}}],\"below\":[{\"type\":\"object\",\"name\":\"LinearAxis\",\"id\":\"p1013\",\"attributes\":{\"ticker\":{\"type\":\"object\",\"name\":\"BasicTicker\",\"id\":\"p1014\",\"attributes\":{\"mantissas\":[1,2,5]}},\"formatter\":{\"type\":\"object\",\"name\":\"BasicTickFormatter\",\"id\":\"p1015\"},\"major_label_policy\":{\"type\":\"object\",\"name\":\"AllLabels\",\"id\":\"p1016\"}}}],\"center\":[{\"type\":\"object\",\"name\":\"Grid\",\"id\":\"p1017\",\"attributes\":{\"axis\":{\"id\":\"p1013\"}}},{\"type\":\"object\",\"name\":\"Grid\",\"id\":\"p1022\",\"attributes\":{\"dimension\":1,\"axis\":{\"id\":\"p1018\"}}}]}}]}}]}}]}};\n  const render_items = [{\"docid\":\"43dd6b20-0784-4eb8-afe6-bea1e956513a\",\"roots\":{\"p1052\":\"b8280c4e-040c-417f-8d43-71943ed0445b\"},\"root_ids\":[\"p1052\"]}];\n  void root.Bokeh.embed.embed_items_notebook(docs_json, render_items);\n  }\n  if (root.Bokeh !== undefined) {\n    embed_document(root);\n  } else {\n    let attempts = 0;\n    const timer = setInterval(function(root) {\n      if (root.Bokeh !== undefined) {\n        clearInterval(timer);\n        embed_document(root);\n      } else {\n        attempts++;\n        if (attempts > 100) {\n          clearInterval(timer);\n          console.log(\"Bokeh: ERROR: Unable to run BokehJS code because BokehJS library is missing\");\n        }\n      }\n    }, 10, root)\n  }\n})(window);",
      "application/vnd.bokehjs_exec.v0+json": ""
     },
     "metadata": {
      "application/vnd.bokehjs_exec.v0+json": {
       "id": "p1052"
      }
     },
     "output_type": "display_data"
    }
   ],
   "source": [
    "from bokeh.io import output_notebook, push_notebook, show\n",
    "from bokeh.layouts import layout\n",
    "from bokeh.models import Div, RangeSlider, Spinner\n",
    "from bokeh.plotting import figure, show\n",
    "\n",
    "output_notebook()\n",
    "\n",
    "# prepare some data\n",
    "x = [1, 2, 3, 4, 5, 6, 7, 8, 9, 10]\n",
    "y = [4, 5, 5, 7, 2, 6, 4, 9, 1, 3]\n",
    "\n",
    "# create plot with circle glyphs\n",
    "p = figure(x_range=(1, 9), width=500, height=250)\n",
    "points = p.circle(x=x, y=y, size=30, fill_color=\"#21a7df\")\n",
    "\n",
    "# set up textarea (div)\n",
    "div = Div(\n",
    "    text=\"\"\"\n",
    "          <p>Select the circle's size using this control element:</p>\n",
    "          \"\"\",\n",
    "    width=200,\n",
    "    height=30,\n",
    ")\n",
    "\n",
    "# set up spinner\n",
    "spinner = Spinner(\n",
    "    title=\"Circle size\",\n",
    "    low=0,\n",
    "    high=60,\n",
    "    step=5,\n",
    "    value=points.glyph.size,\n",
    "    width=200,\n",
    ")\n",
    "spinner.js_link(\"value\", points.glyph, \"size\")\n",
    "\n",
    "# set up RangeSlider\n",
    "range_slider = RangeSlider(\n",
    "    title=\"Adjust x-axis range\",\n",
    "    start=0,\n",
    "    end=10,\n",
    "    step=1,\n",
    "    value=(p.x_range.start, p.x_range.end),\n",
    ")\n",
    "range_slider.js_link(\"value\", p.x_range, \"start\", attr_selector=0)\n",
    "range_slider.js_link(\"value\", p.x_range, \"end\", attr_selector=1)\n",
    "\n",
    "# create layout\n",
    "layout = layout(\n",
    "    [\n",
    "        [div, spinner],\n",
    "        [range_slider],\n",
    "        [p],\n",
    "    ]\n",
    ")\n",
    "\n",
    "# show result\n",
    "show(layout)"
   ]
  },
  {
   "cell_type": "markdown",
   "id": "ef97eee5",
   "metadata": {},
   "source": [
    "# **Plotly Express**\n",
    "## github stars: 15k\n",
    "\n",
    "\n",
    "<img src=\"https://avatars.githubusercontent.com/u/5997976?s=200&v=4\" width=\"150\"/>\n",
    "\n",
    "Positives:\n",
    "- ✔️ Quickly make interactive plots\n",
    "- ✔️ Like seaborn but interactive\n",
    "- ✔️ Maps are 🔥🔥🔥\n",
    "\n",
    "Negatives:\n",
    "- ❌ Hard to customize\n",
    "- ❌ Some default plots (bar) look gross"
   ]
  },
  {
   "cell_type": "code",
   "execution_count": null,
   "id": "5e9a0ccc",
   "metadata": {},
   "outputs": [
    {
     "name": "stderr",
     "output_type": "stream",
     "text": [
      "c:\\Users\\hossein\\AppData\\Local\\Programs\\Python\\Python312\\Lib\\site-packages\\plotly\\express\\_core.py:2065: FutureWarning: When grouping with a length-1 list-like, you will need to pass a length-1 tuple to get_group in a future version of pandas. Pass `(name,)` instead of `name` to silence this warning.\n",
      "  sf: grouped.get_group(s if len(s) > 1 else s[0])\n"
     ]
    },
    {
     "data": {
      "application/vnd.plotly.v1+json": {
       "config": {
        "plotlyServerURL": "https://plot.ly"
       },
       "data": [
        {
         "hovertemplate": "<b>%{hovertext}</b><br><br>continent=Asia<br>gdpPercap=%{x}<br>lifeExp=%{y}<br>pop=%{marker.size}<extra></extra>",
         "hovertext": [
          "Afghanistan",
          "Bahrain",
          "Bangladesh",
          "Cambodia",
          "China",
          "Hong Kong, China",
          "India",
          "Indonesia",
          "Iran",
          "Iraq",
          "Israel",
          "Japan",
          "Jordan",
          "Korea, Dem. Rep.",
          "Korea, Rep.",
          "Kuwait",
          "Lebanon",
          "Malaysia",
          "Mongolia",
          "Myanmar",
          "Nepal",
          "Oman",
          "Pakistan",
          "Philippines",
          "Saudi Arabia",
          "Singapore",
          "Sri Lanka",
          "Syria",
          "Taiwan",
          "Thailand",
          "Vietnam",
          "West Bank and Gaza",
          "Yemen, Rep."
         ],
         "legendgroup": "Asia",
         "marker": {
          "color": "#636efa",
          "size": [
           31889923,
           708573,
           150448339,
           14131858,
           1318683096,
           6980412,
           1110396331,
           223547000,
           69453570,
           27499638,
           6426679,
           127467972,
           6053193,
           23301725,
           49044790,
           2505559,
           3921278,
           24821286,
           2874127,
           47761980,
           28901790,
           3204897,
           169270617,
           91077287,
           27601038,
           4553009,
           20378239,
           19314747,
           23174294,
           65068149,
           85262356,
           4018332,
           22211743
          ],
          "sizemode": "area",
          "sizeref": 366300.86,
          "symbol": "circle"
         },
         "mode": "markers",
         "name": "Asia",
         "orientation": "v",
         "showlegend": true,
         "type": "scatter",
         "x": [
          974.5803384,
          29796.04834,
          1391.253792,
          1713.778686,
          4959.114854,
          39724.97867,
          2452.210407,
          3540.651564,
          11605.71449,
          4471.061906,
          25523.2771,
          31656.06806,
          4519.461171,
          1593.06548,
          23348.139730000006,
          47306.98978,
          10461.05868,
          12451.6558,
          3095.7722710000007,
          944,
          1091.359778,
          22316.19287,
          2605.94758,
          3190.481016,
          21654.83194,
          47143.17964,
          3970.095407,
          4184.548089,
          28718.27684,
          7458.396326999998,
          2441.576404,
          3025.349798,
          2280.769906
         ],
         "xaxis": "x",
         "y": [
          43.828,
          75.635,
          64.062,
          59.723,
          72.961,
          82.208,
          64.69800000000001,
          70.65,
          70.964,
          59.545,
          80.745,
          82.603,
          72.535,
          67.297,
          78.623,
          77.58800000000002,
          71.993,
          74.241,
          66.803,
          62.069,
          63.785,
          75.64,
          65.483,
          71.688,
          72.777,
          79.972,
          72.396,
          74.143,
          78.4,
          70.616,
          74.249,
          73.422,
          62.698
         ],
         "yaxis": "y"
        },
        {
         "hovertemplate": "<b>%{hovertext}</b><br><br>continent=Europe<br>gdpPercap=%{x}<br>lifeExp=%{y}<br>pop=%{marker.size}<extra></extra>",
         "hovertext": [
          "Albania",
          "Austria",
          "Belgium",
          "Bosnia and Herzegovina",
          "Bulgaria",
          "Croatia",
          "Czech Republic",
          "Denmark",
          "Finland",
          "France",
          "Germany",
          "Greece",
          "Hungary",
          "Iceland",
          "Ireland",
          "Italy",
          "Montenegro",
          "Netherlands",
          "Norway",
          "Poland",
          "Portugal",
          "Romania",
          "Serbia",
          "Slovak Republic",
          "Slovenia",
          "Spain",
          "Sweden",
          "Switzerland",
          "Turkey",
          "United Kingdom"
         ],
         "legendgroup": "Europe",
         "marker": {
          "color": "#EF553B",
          "size": [
           3600523,
           8199783,
           10392226,
           4552198,
           7322858,
           4493312,
           10228744,
           5468120,
           5238460,
           61083916,
           82400996,
           10706290,
           9956108,
           301931,
           4109086,
           58147733,
           684736,
           16570613,
           4627926,
           38518241,
           10642836,
           22276056,
           10150265,
           5447502,
           2009245,
           40448191,
           9031088,
           7554661,
           71158647,
           60776238
          ],
          "sizemode": "area",
          "sizeref": 366300.86,
          "symbol": "circle"
         },
         "mode": "markers",
         "name": "Europe",
         "orientation": "v",
         "showlegend": true,
         "type": "scatter",
         "x": [
          5937.029525999998,
          36126.4927,
          33692.60508,
          7446.298803,
          10680.79282,
          14619.222719999998,
          22833.30851,
          35278.41874,
          33207.0844,
          30470.0167,
          32170.37442,
          27538.41188,
          18008.94444,
          36180.78919,
          40675.99635,
          28569.7197,
          9253.896111,
          36797.93332,
          49357.19017,
          15389.924680000002,
          20509.64777,
          10808.47561,
          9786.534714,
          18678.31435,
          25768.25759,
          28821.0637,
          33859.74835,
          37506.41907,
          8458.276384,
          33203.26128
         ],
         "xaxis": "x",
         "y": [
          76.423,
          79.829,
          79.441,
          74.852,
          73.005,
          75.748,
          76.486,
          78.332,
          79.313,
          80.657,
          79.406,
          79.483,
          73.33800000000002,
          81.757,
          78.885,
          80.546,
          74.543,
          79.762,
          80.196,
          75.563,
          78.098,
          72.476,
          74.002,
          74.663,
          77.926,
          80.941,
          80.884,
          81.70100000000002,
          71.777,
          79.425
         ],
         "yaxis": "y"
        },
        {
         "hovertemplate": "<b>%{hovertext}</b><br><br>continent=Africa<br>gdpPercap=%{x}<br>lifeExp=%{y}<br>pop=%{marker.size}<extra></extra>",
         "hovertext": [
          "Algeria",
          "Angola",
          "Benin",
          "Botswana",
          "Burkina Faso",
          "Burundi",
          "Cameroon",
          "Central African Republic",
          "Chad",
          "Comoros",
          "Congo, Dem. Rep.",
          "Congo, Rep.",
          "Cote d'Ivoire",
          "Djibouti",
          "Egypt",
          "Equatorial Guinea",
          "Eritrea",
          "Ethiopia",
          "Gabon",
          "Gambia",
          "Ghana",
          "Guinea",
          "Guinea-Bissau",
          "Kenya",
          "Lesotho",
          "Liberia",
          "Libya",
          "Madagascar",
          "Malawi",
          "Mali",
          "Mauritania",
          "Mauritius",
          "Morocco",
          "Mozambique",
          "Namibia",
          "Niger",
          "Nigeria",
          "Reunion",
          "Rwanda",
          "Sao Tome and Principe",
          "Senegal",
          "Sierra Leone",
          "Somalia",
          "South Africa",
          "Sudan",
          "Swaziland",
          "Tanzania",
          "Togo",
          "Tunisia",
          "Uganda",
          "Zambia",
          "Zimbabwe"
         ],
         "legendgroup": "Africa",
         "marker": {
          "color": "#00cc96",
          "size": [
           33333216,
           12420476,
           8078314,
           1639131,
           14326203,
           8390505,
           17696293,
           4369038,
           10238807,
           710960,
           64606759,
           3800610,
           18013409,
           496374,
           80264543,
           551201,
           4906585,
           76511887,
           1454867,
           1688359,
           22873338,
           9947814,
           1472041,
           35610177,
           2012649,
           3193942,
           6036914,
           19167654,
           13327079,
           12031795,
           3270065,
           1250882,
           33757175,
           19951656,
           2055080,
           12894865,
           135031164,
           798094,
           8860588,
           199579,
           12267493,
           6144562,
           9118773,
           43997828,
           42292929,
           1133066,
           38139640,
           5701579,
           10276158,
           29170398,
           11746035,
           12311143
          ],
          "sizemode": "area",
          "sizeref": 366300.86,
          "symbol": "circle"
         },
         "mode": "markers",
         "name": "Africa",
         "orientation": "v",
         "showlegend": true,
         "type": "scatter",
         "x": [
          6223.367465,
          4797.231267,
          1441.284873,
          12569.85177,
          1217.032994,
          430.0706916,
          2042.09524,
          706.016537,
          1704.063724,
          986.1478792,
          277.5518587,
          3632.557798,
          1544.750112,
          2082.4815670000007,
          5581.180998,
          12154.08975,
          641.3695236000002,
          690.8055759,
          13206.48452,
          752.7497265,
          1327.60891,
          942.6542111,
          579.2317429999998,
          1463.249282,
          1569.331442,
          414.5073415,
          12057.49928,
          1044.770126,
          759.3499101,
          1042.581557,
          1803.151496,
          10956.99112,
          3820.17523,
          823.6856205,
          4811.060429,
          619.6768923999998,
          2013.977305,
          7670.122558,
          863.0884639000002,
          1598.435089,
          1712.472136,
          862.5407561000002,
          926.1410683,
          9269.657808,
          2602.394995,
          4513.480643,
          1107.482182,
          882.9699437999999,
          7092.923025,
          1056.380121,
          1271.211593,
          469.70929810000007
         ],
         "xaxis": "x",
         "y": [
          72.301,
          42.731,
          56.728,
          50.728,
          52.295,
          49.58,
          50.43,
          44.74100000000001,
          50.651,
          65.152,
          46.462,
          55.322,
          48.328,
          54.791,
          71.33800000000002,
          51.57899999999999,
          58.04,
          52.947,
          56.735,
          59.448,
          60.022,
          56.007,
          46.38800000000001,
          54.11,
          42.592,
          45.678,
          73.952,
          59.44300000000001,
          48.303,
          54.467,
          64.164,
          72.801,
          71.164,
          42.082,
          52.90600000000001,
          56.867,
          46.859,
          76.442,
          46.242,
          65.528,
          63.062,
          42.56800000000001,
          48.159,
          49.339,
          58.556,
          39.613,
          52.517,
          58.42,
          73.923,
          51.542,
          42.38399999999999,
          43.487
         ],
         "yaxis": "y"
        },
        {
         "hovertemplate": "<b>%{hovertext}</b><br><br>continent=Americas<br>gdpPercap=%{x}<br>lifeExp=%{y}<br>pop=%{marker.size}<extra></extra>",
         "hovertext": [
          "Argentina",
          "Bolivia",
          "Brazil",
          "Canada",
          "Chile",
          "Colombia",
          "Costa Rica",
          "Cuba",
          "Dominican Republic",
          "Ecuador",
          "El Salvador",
          "Guatemala",
          "Haiti",
          "Honduras",
          "Jamaica",
          "Mexico",
          "Nicaragua",
          "Panama",
          "Paraguay",
          "Peru",
          "Puerto Rico",
          "Trinidad and Tobago",
          "United States",
          "Uruguay",
          "Venezuela"
         ],
         "legendgroup": "Americas",
         "marker": {
          "color": "#ab63fa",
          "size": [
           40301927,
           9119152,
           190010647,
           33390141,
           16284741,
           44227550,
           4133884,
           11416987,
           9319622,
           13755680,
           6939688,
           12572928,
           8502814,
           7483763,
           2780132,
           108700891,
           5675356,
           3242173,
           6667147,
           28674757,
           3942491,
           1056608,
           301139947,
           3447496,
           26084662
          ],
          "sizemode": "area",
          "sizeref": 366300.86,
          "symbol": "circle"
         },
         "mode": "markers",
         "name": "Americas",
         "orientation": "v",
         "showlegend": true,
         "type": "scatter",
         "x": [
          12779.37964,
          3822.137084,
          9065.800825,
          36319.23501,
          13171.63885,
          7006.580419,
          9645.06142,
          8948.102923,
          6025.3747520000015,
          6873.262326000001,
          5728.353514,
          5186.050003,
          1201.637154,
          3548.3308460000007,
          7320.8802620000015,
          11977.57496,
          2749.320965,
          9809.185636,
          4172.838464,
          7408.905561,
          19328.70901,
          18008.50924,
          42951.65309,
          10611.46299,
          11415.80569
         ],
         "xaxis": "x",
         "y": [
          75.32,
          65.554,
          72.39,
          80.653,
          78.553,
          72.889,
          78.782,
          78.273,
          72.235,
          74.994,
          71.878,
          70.259,
          60.916,
          70.19800000000001,
          72.567,
          76.195,
          72.899,
          75.53699999999998,
          71.752,
          71.421,
          78.74600000000002,
          69.819,
          78.242,
          76.384,
          73.747
         ],
         "yaxis": "y"
        },
        {
         "hovertemplate": "<b>%{hovertext}</b><br><br>continent=Oceania<br>gdpPercap=%{x}<br>lifeExp=%{y}<br>pop=%{marker.size}<extra></extra>",
         "hovertext": [
          "Australia",
          "New Zealand"
         ],
         "legendgroup": "Oceania",
         "marker": {
          "color": "#FFA15A",
          "size": [
           20434176,
           4115771
          ],
          "sizemode": "area",
          "sizeref": 366300.86,
          "symbol": "circle"
         },
         "mode": "markers",
         "name": "Oceania",
         "orientation": "v",
         "showlegend": true,
         "type": "scatter",
         "x": [
          34435.367439999995,
          25185.00911
         ],
         "xaxis": "x",
         "y": [
          81.235,
          80.204
         ],
         "yaxis": "y"
        }
       ],
       "layout": {
        "legend": {
         "itemsizing": "constant",
         "title": {
          "text": "continent"
         },
         "tracegroupgap": 0
        },
        "margin": {
         "t": 60
        },
        "template": {
         "data": {
          "bar": [
           {
            "error_x": {
             "color": "#2a3f5f"
            },
            "error_y": {
             "color": "#2a3f5f"
            },
            "marker": {
             "line": {
              "color": "#E5ECF6",
              "width": 0.5
             },
             "pattern": {
              "fillmode": "overlay",
              "size": 10,
              "solidity": 0.2
             }
            },
            "type": "bar"
           }
          ],
          "barpolar": [
           {
            "marker": {
             "line": {
              "color": "#E5ECF6",
              "width": 0.5
             },
             "pattern": {
              "fillmode": "overlay",
              "size": 10,
              "solidity": 0.2
             }
            },
            "type": "barpolar"
           }
          ],
          "carpet": [
           {
            "aaxis": {
             "endlinecolor": "#2a3f5f",
             "gridcolor": "white",
             "linecolor": "white",
             "minorgridcolor": "white",
             "startlinecolor": "#2a3f5f"
            },
            "baxis": {
             "endlinecolor": "#2a3f5f",
             "gridcolor": "white",
             "linecolor": "white",
             "minorgridcolor": "white",
             "startlinecolor": "#2a3f5f"
            },
            "type": "carpet"
           }
          ],
          "choropleth": [
           {
            "colorbar": {
             "outlinewidth": 0,
             "ticks": ""
            },
            "type": "choropleth"
           }
          ],
          "contour": [
           {
            "colorbar": {
             "outlinewidth": 0,
             "ticks": ""
            },
            "colorscale": [
             [
              0,
              "#0d0887"
             ],
             [
              0.1111111111111111,
              "#46039f"
             ],
             [
              0.2222222222222222,
              "#7201a8"
             ],
             [
              0.3333333333333333,
              "#9c179e"
             ],
             [
              0.4444444444444444,
              "#bd3786"
             ],
             [
              0.5555555555555556,
              "#d8576b"
             ],
             [
              0.6666666666666666,
              "#ed7953"
             ],
             [
              0.7777777777777778,
              "#fb9f3a"
             ],
             [
              0.8888888888888888,
              "#fdca26"
             ],
             [
              1,
              "#f0f921"
             ]
            ],
            "type": "contour"
           }
          ],
          "contourcarpet": [
           {
            "colorbar": {
             "outlinewidth": 0,
             "ticks": ""
            },
            "type": "contourcarpet"
           }
          ],
          "heatmap": [
           {
            "colorbar": {
             "outlinewidth": 0,
             "ticks": ""
            },
            "colorscale": [
             [
              0,
              "#0d0887"
             ],
             [
              0.1111111111111111,
              "#46039f"
             ],
             [
              0.2222222222222222,
              "#7201a8"
             ],
             [
              0.3333333333333333,
              "#9c179e"
             ],
             [
              0.4444444444444444,
              "#bd3786"
             ],
             [
              0.5555555555555556,
              "#d8576b"
             ],
             [
              0.6666666666666666,
              "#ed7953"
             ],
             [
              0.7777777777777778,
              "#fb9f3a"
             ],
             [
              0.8888888888888888,
              "#fdca26"
             ],
             [
              1,
              "#f0f921"
             ]
            ],
            "type": "heatmap"
           }
          ],
          "heatmapgl": [
           {
            "colorbar": {
             "outlinewidth": 0,
             "ticks": ""
            },
            "colorscale": [
             [
              0,
              "#0d0887"
             ],
             [
              0.1111111111111111,
              "#46039f"
             ],
             [
              0.2222222222222222,
              "#7201a8"
             ],
             [
              0.3333333333333333,
              "#9c179e"
             ],
             [
              0.4444444444444444,
              "#bd3786"
             ],
             [
              0.5555555555555556,
              "#d8576b"
             ],
             [
              0.6666666666666666,
              "#ed7953"
             ],
             [
              0.7777777777777778,
              "#fb9f3a"
             ],
             [
              0.8888888888888888,
              "#fdca26"
             ],
             [
              1,
              "#f0f921"
             ]
            ],
            "type": "heatmapgl"
           }
          ],
          "histogram": [
           {
            "marker": {
             "pattern": {
              "fillmode": "overlay",
              "size": 10,
              "solidity": 0.2
             }
            },
            "type": "histogram"
           }
          ],
          "histogram2d": [
           {
            "colorbar": {
             "outlinewidth": 0,
             "ticks": ""
            },
            "colorscale": [
             [
              0,
              "#0d0887"
             ],
             [
              0.1111111111111111,
              "#46039f"
             ],
             [
              0.2222222222222222,
              "#7201a8"
             ],
             [
              0.3333333333333333,
              "#9c179e"
             ],
             [
              0.4444444444444444,
              "#bd3786"
             ],
             [
              0.5555555555555556,
              "#d8576b"
             ],
             [
              0.6666666666666666,
              "#ed7953"
             ],
             [
              0.7777777777777778,
              "#fb9f3a"
             ],
             [
              0.8888888888888888,
              "#fdca26"
             ],
             [
              1,
              "#f0f921"
             ]
            ],
            "type": "histogram2d"
           }
          ],
          "histogram2dcontour": [
           {
            "colorbar": {
             "outlinewidth": 0,
             "ticks": ""
            },
            "colorscale": [
             [
              0,
              "#0d0887"
             ],
             [
              0.1111111111111111,
              "#46039f"
             ],
             [
              0.2222222222222222,
              "#7201a8"
             ],
             [
              0.3333333333333333,
              "#9c179e"
             ],
             [
              0.4444444444444444,
              "#bd3786"
             ],
             [
              0.5555555555555556,
              "#d8576b"
             ],
             [
              0.6666666666666666,
              "#ed7953"
             ],
             [
              0.7777777777777778,
              "#fb9f3a"
             ],
             [
              0.8888888888888888,
              "#fdca26"
             ],
             [
              1,
              "#f0f921"
             ]
            ],
            "type": "histogram2dcontour"
           }
          ],
          "mesh3d": [
           {
            "colorbar": {
             "outlinewidth": 0,
             "ticks": ""
            },
            "type": "mesh3d"
           }
          ],
          "parcoords": [
           {
            "line": {
             "colorbar": {
              "outlinewidth": 0,
              "ticks": ""
             }
            },
            "type": "parcoords"
           }
          ],
          "pie": [
           {
            "automargin": true,
            "type": "pie"
           }
          ],
          "scatter": [
           {
            "fillpattern": {
             "fillmode": "overlay",
             "size": 10,
             "solidity": 0.2
            },
            "type": "scatter"
           }
          ],
          "scatter3d": [
           {
            "line": {
             "colorbar": {
              "outlinewidth": 0,
              "ticks": ""
             }
            },
            "marker": {
             "colorbar": {
              "outlinewidth": 0,
              "ticks": ""
             }
            },
            "type": "scatter3d"
           }
          ],
          "scattercarpet": [
           {
            "marker": {
             "colorbar": {
              "outlinewidth": 0,
              "ticks": ""
             }
            },
            "type": "scattercarpet"
           }
          ],
          "scattergeo": [
           {
            "marker": {
             "colorbar": {
              "outlinewidth": 0,
              "ticks": ""
             }
            },
            "type": "scattergeo"
           }
          ],
          "scattergl": [
           {
            "marker": {
             "colorbar": {
              "outlinewidth": 0,
              "ticks": ""
             }
            },
            "type": "scattergl"
           }
          ],
          "scattermapbox": [
           {
            "marker": {
             "colorbar": {
              "outlinewidth": 0,
              "ticks": ""
             }
            },
            "type": "scattermapbox"
           }
          ],
          "scatterpolar": [
           {
            "marker": {
             "colorbar": {
              "outlinewidth": 0,
              "ticks": ""
             }
            },
            "type": "scatterpolar"
           }
          ],
          "scatterpolargl": [
           {
            "marker": {
             "colorbar": {
              "outlinewidth": 0,
              "ticks": ""
             }
            },
            "type": "scatterpolargl"
           }
          ],
          "scatterternary": [
           {
            "marker": {
             "colorbar": {
              "outlinewidth": 0,
              "ticks": ""
             }
            },
            "type": "scatterternary"
           }
          ],
          "surface": [
           {
            "colorbar": {
             "outlinewidth": 0,
             "ticks": ""
            },
            "colorscale": [
             [
              0,
              "#0d0887"
             ],
             [
              0.1111111111111111,
              "#46039f"
             ],
             [
              0.2222222222222222,
              "#7201a8"
             ],
             [
              0.3333333333333333,
              "#9c179e"
             ],
             [
              0.4444444444444444,
              "#bd3786"
             ],
             [
              0.5555555555555556,
              "#d8576b"
             ],
             [
              0.6666666666666666,
              "#ed7953"
             ],
             [
              0.7777777777777778,
              "#fb9f3a"
             ],
             [
              0.8888888888888888,
              "#fdca26"
             ],
             [
              1,
              "#f0f921"
             ]
            ],
            "type": "surface"
           }
          ],
          "table": [
           {
            "cells": {
             "fill": {
              "color": "#EBF0F8"
             },
             "line": {
              "color": "white"
             }
            },
            "header": {
             "fill": {
              "color": "#C8D4E3"
             },
             "line": {
              "color": "white"
             }
            },
            "type": "table"
           }
          ]
         },
         "layout": {
          "annotationdefaults": {
           "arrowcolor": "#2a3f5f",
           "arrowhead": 0,
           "arrowwidth": 1
          },
          "autotypenumbers": "strict",
          "coloraxis": {
           "colorbar": {
            "outlinewidth": 0,
            "ticks": ""
           }
          },
          "colorscale": {
           "diverging": [
            [
             0,
             "#8e0152"
            ],
            [
             0.1,
             "#c51b7d"
            ],
            [
             0.2,
             "#de77ae"
            ],
            [
             0.3,
             "#f1b6da"
            ],
            [
             0.4,
             "#fde0ef"
            ],
            [
             0.5,
             "#f7f7f7"
            ],
            [
             0.6,
             "#e6f5d0"
            ],
            [
             0.7,
             "#b8e186"
            ],
            [
             0.8,
             "#7fbc41"
            ],
            [
             0.9,
             "#4d9221"
            ],
            [
             1,
             "#276419"
            ]
           ],
           "sequential": [
            [
             0,
             "#0d0887"
            ],
            [
             0.1111111111111111,
             "#46039f"
            ],
            [
             0.2222222222222222,
             "#7201a8"
            ],
            [
             0.3333333333333333,
             "#9c179e"
            ],
            [
             0.4444444444444444,
             "#bd3786"
            ],
            [
             0.5555555555555556,
             "#d8576b"
            ],
            [
             0.6666666666666666,
             "#ed7953"
            ],
            [
             0.7777777777777778,
             "#fb9f3a"
            ],
            [
             0.8888888888888888,
             "#fdca26"
            ],
            [
             1,
             "#f0f921"
            ]
           ],
           "sequentialminus": [
            [
             0,
             "#0d0887"
            ],
            [
             0.1111111111111111,
             "#46039f"
            ],
            [
             0.2222222222222222,
             "#7201a8"
            ],
            [
             0.3333333333333333,
             "#9c179e"
            ],
            [
             0.4444444444444444,
             "#bd3786"
            ],
            [
             0.5555555555555556,
             "#d8576b"
            ],
            [
             0.6666666666666666,
             "#ed7953"
            ],
            [
             0.7777777777777778,
             "#fb9f3a"
            ],
            [
             0.8888888888888888,
             "#fdca26"
            ],
            [
             1,
             "#f0f921"
            ]
           ]
          },
          "colorway": [
           "#636efa",
           "#EF553B",
           "#00cc96",
           "#ab63fa",
           "#FFA15A",
           "#19d3f3",
           "#FF6692",
           "#B6E880",
           "#FF97FF",
           "#FECB52"
          ],
          "font": {
           "color": "#2a3f5f"
          },
          "geo": {
           "bgcolor": "white",
           "lakecolor": "white",
           "landcolor": "#E5ECF6",
           "showlakes": true,
           "showland": true,
           "subunitcolor": "white"
          },
          "hoverlabel": {
           "align": "left"
          },
          "hovermode": "closest",
          "mapbox": {
           "style": "light"
          },
          "paper_bgcolor": "white",
          "plot_bgcolor": "#E5ECF6",
          "polar": {
           "angularaxis": {
            "gridcolor": "white",
            "linecolor": "white",
            "ticks": ""
           },
           "bgcolor": "#E5ECF6",
           "radialaxis": {
            "gridcolor": "white",
            "linecolor": "white",
            "ticks": ""
           }
          },
          "scene": {
           "xaxis": {
            "backgroundcolor": "#E5ECF6",
            "gridcolor": "white",
            "gridwidth": 2,
            "linecolor": "white",
            "showbackground": true,
            "ticks": "",
            "zerolinecolor": "white"
           },
           "yaxis": {
            "backgroundcolor": "#E5ECF6",
            "gridcolor": "white",
            "gridwidth": 2,
            "linecolor": "white",
            "showbackground": true,
            "ticks": "",
            "zerolinecolor": "white"
           },
           "zaxis": {
            "backgroundcolor": "#E5ECF6",
            "gridcolor": "white",
            "gridwidth": 2,
            "linecolor": "white",
            "showbackground": true,
            "ticks": "",
            "zerolinecolor": "white"
           }
          },
          "shapedefaults": {
           "line": {
            "color": "#2a3f5f"
           }
          },
          "ternary": {
           "aaxis": {
            "gridcolor": "white",
            "linecolor": "white",
            "ticks": ""
           },
           "baxis": {
            "gridcolor": "white",
            "linecolor": "white",
            "ticks": ""
           },
           "bgcolor": "#E5ECF6",
           "caxis": {
            "gridcolor": "white",
            "linecolor": "white",
            "ticks": ""
           }
          },
          "title": {
           "x": 0.05
          },
          "xaxis": {
           "automargin": true,
           "gridcolor": "white",
           "linecolor": "white",
           "ticks": "",
           "title": {
            "standoff": 15
           },
           "zerolinecolor": "white",
           "zerolinewidth": 2
          },
          "yaxis": {
           "automargin": true,
           "gridcolor": "white",
           "linecolor": "white",
           "ticks": "",
           "title": {
            "standoff": 15
           },
           "zerolinecolor": "white",
           "zerolinewidth": 2
          }
         }
        },
        "xaxis": {
         "anchor": "y",
         "domain": [
          0,
          1
         ],
         "title": {
          "text": "gdpPercap"
         },
         "type": "log"
        },
        "yaxis": {
         "anchor": "x",
         "domain": [
          0,
          1
         ],
         "title": {
          "text": "lifeExp"
         }
        }
       }
      }
     },
     "metadata": {},
     "output_type": "display_data"
    }
   ],
   "source": [
    "import plotly.express as px\n",
    "\n",
    "df = px.data.gapminder()\n",
    "fig = px.scatter(\n",
    "    df.query(\"year==2007\"),\n",
    "    x=\"gdpPercap\",\n",
    "    y=\"lifeExp\",\n",
    "    size=\"pop\",\n",
    "    color=\"continent\",\n",
    "    hover_name=\"country\",\n",
    "    log_x=True,\n",
    "    size_max=60,\n",
    ")\n",
    "fig.show()"
   ]
  },
  {
   "cell_type": "code",
   "execution_count": null,
   "id": "f7d69b0b",
   "metadata": {},
   "outputs": [
    {
     "data": {
      "application/vnd.plotly.v1+json": {
       "config": {
        "plotlyServerURL": "https://plot.ly"
       },
       "data": [
        {
         "hovertemplate": "car_hours=%{marker.size}<br>centroid_lat=%{lat}<br>centroid_lon=%{lon}<br>peak_hour=%{marker.color}<extra></extra>",
         "lat": [
          45.471548505146174,
          45.54386506674422,
          45.4876395818664,
          45.52286967122903,
          45.45397130964701,
          45.57312570194822,
          45.53005389171565,
          45.49919320522112,
          45.551300651627535,
          45.55380992033989,
          45.47448282698679,
          45.53249580289159,
          45.56545642757568,
          45.50298109284952,
          45.56711856838078,
          45.480026123563874,
          45.448903185047335,
          45.50303089895005,
          45.609667861846745,
          45.478348275451104,
          45.51951352944332,
          45.56903061932889,
          45.53626021131554,
          45.56857291481607,
          45.54614539811951,
          45.54488834188077,
          45.54515565293561,
          45.47817195218011,
          45.58212955989256,
          45.531215706332375,
          45.55267826328372,
          45.52915993898732,
          45.52404418524071,
          45.50851711032711,
          45.4880586878363,
          45.50689566111847,
          45.57894266654677,
          45.46892041666329,
          45.5386616499238,
          45.58530574012526,
          45.46252493114867,
          45.50814302347108,
          45.55224218643183,
          45.53306824136229,
          45.529617524254725,
          45.56172666348032,
          45.45886520703704,
          45.51827128926588,
          45.46330588193452,
          45.45722580199571,
          45.58042126024095,
          45.51220156451264,
          45.548176804195634,
          45.52792120774532,
          45.58971117459708,
          45.53066298367023,
          45.49780367877612,
          45.53978904565592,
          45.52977286764973,
          45.57635821927521,
          45.592896967066345,
          45.54282395560971,
          45.45146052808264,
          45.50017958704209,
          45.55959836008312,
          45.51405331206955,
          45.52098513669111,
          45.51969025678738,
          45.47196677288637,
          45.4940320553664,
          45.57383095629989,
          45.47270552917877,
          45.58204625444414,
          45.4810627259832,
          45.60751580853944,
          45.50429652950133,
          45.459862270272,
          45.550869209779385,
          45.52515960693799,
          45.50743686739271,
          45.54836167081622,
          45.53036120501041,
          45.49339463589723,
          45.49643413195211,
          45.561211827035706,
          45.55537527937125,
          45.52524090241434,
          45.542945623835706,
          45.465546068371886,
          45.51646059071524,
          45.53280566796844,
          45.47963265657448,
          45.45591463685107,
          45.54630844232351,
          45.49848094816177,
          45.528525372523454,
          45.56579154043406,
          45.53765718184978,
          45.47455332862991,
          45.5279051561684,
          45.494951534596034,
          45.465088224907866,
          45.59654571636812,
          45.491523525524194,
          45.51792291961748,
          45.46777843101408,
          45.51117458455963,
          45.54915899878871,
          45.535767560039695,
          45.49044848119951,
          45.538238804018775,
          45.5277041052173,
          45.534777091929946,
          45.48934750923581,
          45.45408718820735,
          45.472649739508654,
          45.55659444198,
          45.483089972430825,
          45.49619305656642,
          45.55742769063361,
          45.49971820106133,
          45.48523078626532,
          45.45863614550253,
          45.50110763484297,
          45.50643446059914,
          45.52764608144713,
          45.48910798882796,
          45.52543292800497,
          45.60326418430284,
          45.47822467091599,
          45.56923339719061,
          45.46715978062781,
          45.543842954244646,
          45.47954227936379,
          45.47510964560248,
          45.54858377217711,
          45.54415239549018,
          45.61087892678886,
          45.481028563111394,
          45.52753294236388,
          45.50713730344406,
          45.54445300313406,
          45.53978806387313,
          45.53344000001958,
          45.46746637549487,
          45.53453717264379,
          45.53658915333014,
          45.53429759356232,
          45.52410832338415,
          45.47265626277289,
          45.50559257327809,
          45.51901074555018,
          45.52540175130616,
          45.54048050327387,
          45.48335540200465,
          45.54220224528534,
          45.519876273318,
          45.55095552442233,
          45.51670639951611,
          45.53834507417609,
          45.54348593525155,
          45.49933518159919,
          45.57484789346844,
          45.47790745068288,
          45.54237585056225,
          45.46417997825538,
          45.48897149612501,
          45.570596118677166,
          45.549545481512375,
          45.56161463008111,
          45.48012052331579,
          45.546769706786165,
          45.47728503507936,
          45.582073874173176,
          45.53903174724877,
          45.510890621674776,
          45.51923221924688,
          45.55028382655888,
          45.554677131421606,
          45.509217063208105,
          45.54493929194947,
          45.55102553790574,
          45.46427660479596,
          45.53566818785226,
          45.5222319477743,
          45.53831624591015,
          45.47689750165655,
          45.55427699436827,
          45.54393996853523,
          45.54733066622103,
          45.53172990090744,
          45.52405372692176,
          45.52567648569128,
          45.45566288220533,
          45.514928037931,
          45.52875593668882,
          45.45893633874722,
          45.52339721689325,
          45.53380644488978,
          45.51698913885445,
          45.47417720458765,
          45.52430638232658,
          45.57221159337733,
          45.53143218128847,
          45.52029302323953,
          45.5428521988577,
          45.51177396205147,
          45.476699804159765,
          45.52527451544683,
          45.52904526725249,
          45.54589006890641,
          45.54129653265394,
          45.52641793678303,
          45.506014494884326,
          45.56249120965429,
          45.518606229301774,
          45.52203370353778,
          45.52409679671165,
          45.52247779646763,
          45.53961066076051,
          45.58895991968114,
          45.54559560319731,
          45.537473700456566,
          45.57342046906779,
          45.53557355419221,
          45.50192689559106,
          45.55114485440528,
          45.53782697365083,
          45.52940323053624,
          45.55301895367002,
          45.55058908283418,
          45.49619083697144,
          45.5389132118943,
          45.535798184139765,
          45.5313114537718,
          45.52036705536745,
          45.48313978581276,
          45.55297824741078,
          45.55430120710761,
          45.57092278674684,
          45.53361097030694,
          45.52227967073674,
          45.57044282123756,
          45.48626024282493,
          45.54717058947268,
          45.546481863801525,
          45.495523127814025,
          45.52119924708915,
          45.53256430507208
         ],
         "legendgroup": "",
         "lon": [
          -73.58868408217266,
          -73.56245583980697,
          -73.64276703077329,
          -73.5956772508181,
          -73.73894559925054,
          -73.53990236454271,
          -73.62803605045727,
          -73.56194373919256,
          -73.61171191446698,
          -73.57720679008477,
          -73.63054396371925,
          -73.57956985159979,
          -73.64201176723445,
          -73.62748995674825,
          -73.58439300639695,
          -73.58239204679343,
          -73.59297686556374,
          -73.5790295367978,
          -73.54023161013792,
          -73.57856784133362,
          -73.5793289407554,
          -73.52573081459546,
          -73.56209061086564,
          -73.56084340953332,
          -73.59114755541647,
          -73.63562160484223,
          -73.6172218179539,
          -73.56778840803071,
          -73.5214125066963,
          -73.60636943656155,
          -73.60186065688765,
          -73.61182738988052,
          -73.57255202228934,
          -73.56361361279802,
          -73.62175707085048,
          -73.63992985736493,
          -73.5722622021108,
          -73.61587858172172,
          -73.65684895574016,
          -73.556671023514,
          -73.591450603879,
          -73.61443790111136,
          -73.5567248443471,
          -73.58586652140238,
          -73.59016001500189,
          -73.61316030479036,
          -73.65393428057348,
          -73.53518132112849,
          -73.63201646596775,
          -73.6471457252509,
          -73.62450277147559,
          -73.62439363857663,
          -73.57230388575367,
          -73.61477370856916,
          -73.5124596370787,
          -73.61566624177722,
          -73.64552238789666,
          -73.5647843753964,
          -73.57271916651166,
          -73.55658769397526,
          -73.56283021327646,
          -73.53978288809766,
          -73.60077524293251,
          -73.57356239315693,
          -73.53735411019554,
          -73.6328226471968,
          -73.5859649617064,
          -73.56818790168714,
          -73.645100544613,
          -73.61062703452248,
          -73.60414320228709,
          -73.60760805947412,
          -73.5329739761722,
          -73.56087334817683,
          -73.51375636627016,
          -73.56520883274013,
          -73.58285531458276,
          -73.617846092248,
          -73.6047044738415,
          -73.57429268607511,
          -73.58539717879967,
          -73.62029730985503,
          -73.62504495384513,
          -73.55267239661161,
          -73.5902004112542,
          -73.56930840912791,
          -73.59981458158266,
          -73.62128455035952,
          -73.62067736676947,
          -73.55492741665876,
          -73.64048496482262,
          -73.62987341664497,
          -73.63946019785875,
          -73.60685622581383,
          -73.61967423595867,
          -73.60153035519421,
          -73.59801021780002,
          -73.58232714569509,
          -73.637521859517,
          -73.5845589383217,
          -73.55953118048146,
          -73.65258509641737,
          -73.52593434063824,
          -73.63722045431894,
          -73.58980729398637,
          -73.63595141045859,
          -73.57114931189177,
          -73.63292319176229,
          -73.59674218487977,
          -73.64754965162766,
          -73.60597173479003,
          -73.57565350409223,
          -73.5728803879145,
          -73.57095543068031,
          -73.5871111898369,
          -73.5826189686433,
          -73.53214371066534,
          -73.63467979451553,
          -73.58337891052282,
          -73.60077343846366,
          -73.6544874970073,
          -73.61782510513464,
          -73.64348260405826,
          -73.63443884623427,
          -73.55280978474548,
          -73.59350797166334,
          -73.6314622358004,
          -73.62642522019199,
          -73.53716899543986,
          -73.6131691288042,
          -73.56970219899235,
          -73.64277864672295,
          -73.58224236729227,
          -73.54759113967883,
          -73.56317906950511,
          -73.57887887297544,
          -73.59658041602985,
          -73.53187026901544,
          -73.62384266869233,
          -73.58132388945315,
          -73.63043341873463,
          -73.54776346337367,
          -73.54278601036688,
          -73.5547199999811,
          -73.59078190259488,
          -73.59256240577943,
          -73.62157941242943,
          -73.61041764596348,
          -73.58731842223665,
          -73.62370107695057,
          -73.62277637402323,
          -73.57542843260613,
          -73.61022133725439,
          -73.63688048862373,
          -73.58250497434213,
          -73.61142929406647,
          -73.5829101943345,
          -73.59145464281357,
          -73.57855556771429,
          -73.57053862449274,
          -73.57027313720633,
          -73.62608825396849,
          -73.5635392336782,
          -73.62640937405116,
          -73.55538289355314,
          -73.62592082119164,
          -73.62783793313959,
          -73.52828137402979,
          -73.56715045890071,
          -73.57406730167698,
          -73.57250207253963,
          -73.53904284095108,
          -73.58122340486779,
          -73.54826893987729,
          -73.60093377104955,
          -73.57633721593862,
          -73.57244658989525,
          -73.60783357287939,
          -73.54632265433347,
          -73.61862500763353,
          -73.62750959017946,
          -73.56330138226609,
          -73.64748824071867,
          -73.56861361257508,
          -73.60012669507964,
          -73.57466650421921,
          -73.58830635134413,
          -73.62166601126063,
          -73.57394431922157,
          -73.60149624886525,
          -73.5764851307457,
          -73.5653588020603,
          -73.59003684764208,
          -73.64576984962405,
          -73.5716441021712,
          -73.57904510571099,
          -73.59639171903568,
          -73.60671288562885,
          -73.58376257412169,
          -73.58364027226557,
          -73.59403776813,
          -73.58198744370928,
          -73.54796924219626,
          -73.56470160854694,
          -73.59161297526235,
          -73.60552201275355,
          -73.63749469512531,
          -73.61960578900425,
          -73.5938625905676,
          -73.56435515803537,
          -73.613329142374,
          -73.58761174867594,
          -73.59653658066382,
          -73.62601031881215,
          -73.58319715388312,
          -73.59475241426874,
          -73.57113021855815,
          -73.57841797764475,
          -73.57478446870938,
          -73.62661841692122,
          -73.53758992480975,
          -73.5672399814485,
          -73.57729937169172,
          -73.6327727768197,
          -73.57917172211978,
          -73.62989603799815,
          -73.53770269990456,
          -73.61519170037559,
          -73.58716197505838,
          -73.58388794985183,
          -73.57424335824136,
          -73.62436735080055,
          -73.5792013969,
          -73.58664104188827,
          -73.58372215024325,
          -73.59761235604635,
          -73.57653648384526,
          -73.59484359129024,
          -73.56162491267922,
          -73.57715490720366,
          -73.60106645724453,
          -73.5684337774366,
          -73.52518192920604,
          -73.63860168141315,
          -73.55625786283633,
          -73.5749389146122,
          -73.62772501663683,
          -73.581789228748,
          -73.5675347056023
         ],
         "marker": {
          "color": [
           2,
           23,
           20,
           23,
           19,
           1,
           18,
           14,
           2,
           1,
           2,
           3,
           21,
           11,
           1,
           5,
           6,
           15,
           0,
           14,
           2,
           23,
           3,
           20,
           3,
           2,
           5,
           3,
           9,
           5,
           10,
           11,
           3,
           13,
           20,
           13,
           9,
           4,
           11,
           17,
           1,
           16,
           10,
           19,
           5,
           10,
           16,
           20,
           2,
           20,
           8,
           3,
           2,
           12,
           1,
           21,
           20,
           7,
           3,
           19,
           7,
           0,
           19,
           11,
           23,
           0,
           1,
           21,
           20,
           5,
           0,
           11,
           20,
           9,
           0,
           13,
           4,
           3,
           3,
           13,
           4,
           11,
           20,
           13,
           19,
           2,
           13,
           4,
           23,
           15,
           9,
           4,
           3,
           8,
           11,
           11,
           5,
           2,
           1,
           2,
           16,
           18,
           0,
           18,
           4,
           4,
           12,
           7,
           4,
           2,
           3,
           2,
           2,
           12,
           4,
           1,
           5,
           10,
           15,
           21,
           20,
           0,
           23,
           12,
           14,
           13,
           4,
           20,
           19,
           2,
           20,
           6,
           9,
           12,
           4,
           2,
           3,
           20,
           6,
           3,
           4,
           5,
           6,
           5,
           21,
           5,
           18,
           5,
           2,
           20,
           12,
           1,
           4,
           21,
           16,
           7,
           3,
           5,
           16,
           1,
           2,
           2,
           9,
           4,
           5,
           5,
           5,
           0,
           2,
           2,
           14,
           3,
           10,
           21,
           2,
           15,
           21,
           3,
           4,
           5,
           3,
           2,
           4,
           3,
           3,
           3,
           2,
           17,
           2,
           5,
           1,
           22,
           0,
           19,
           11,
           2,
           1,
           21,
           1,
           22,
           4,
           10,
           20,
           2,
           2,
           3,
           20,
           12,
           11,
           2,
           3,
           3,
           12,
           8,
           3,
           20,
           3,
           15,
           20,
           3,
           20,
           1,
           5,
           0,
           2,
           5,
           3,
           5,
           18,
           8,
           1,
           13,
           2,
           2,
           3,
           0,
           23,
           5,
           2,
           10,
           11,
           21,
           7,
           18,
           3,
           2,
           8,
           17,
           5
          ],
          "coloraxis": "coloraxis",
          "size": [
           1772.7499999995052,
           986.3333333335024,
           354.74999999998914,
           560.166666666642,
           2836.666666667356,
           1022.7500000001857,
           835.7500000001006,
           1888.3333333327332,
           1030.75000000018,
           1841.1666666661097,
           1966.166666665996,
           1532.9999999997233,
           834.1666666667666,
           289.0000000000041,
           273.58333333334093,
           594.8333333333244,
           1020.9166666668516,
           1428.4999999998183,
           670.7500000000256,
           489.4999999999585,
           1426.3333333331536,
           422.49999999997374,
           1624.7499999996398,
           732.7500000000538,
           1969.6666666659928,
           1657.9999999996096,
           665.5833333333566,
           805.08333333342,
           217.75000000000728,
           1332.583333333239,
           630.5000000000073,
           559.9999999999752,
           456.1666666666328,
           1185.8333333333724,
           1112.6666666667722,
           1016.5833333335162,
           1367.249999999874,
           1767.9999999995096,
           2291.9999999996985,
           552.8333333333053,
           1397.9166666665128,
           997.7500000001744,
           926.1666666668084,
           323.166666666663,
           833.0833333334327,
           1394.416666666516,
           601.7499999999942,
           1724.4999999995491,
           1061.5833333334854,
           325.74999999999574,
           1271.5833333332944,
           1951.0833333326764,
           961.4166666668244,
           507.83333333328767,
           679.6666666666963,
           734.833333333388,
           1057.4166666668225,
           262.8333333333434,
           1302.7499999999327,
           345.8333333333245,
           1543.3333333330472,
           630.7500000000074,
           1164.5833333333917,
           1676.9999999995923,
           1282.5833333332844,
           1019.000000000184,
           1719.1666666662206,
           681.5000000000305,
           287.66666666667106,
           1559.333333333033,
           627.4166666666725,
           1863.7499999994225,
           867.2500000001149,
           2413.4999999999195,
           1322.3333333332482,
           3274.0000000014848,
           1558.9166666663664,
           1902.416666666054,
           1609.166666666321,
           2773.250000000574,
           1940.6666666660192,
           1597.4999999996646,
           162.500000000001,
           1929.0833333326964,
           847.0000000001057,
           1522.7499999997326,
           635.3333333333428,
           2057.166666665938,
           845.9166666667719,
           2022.9166666659444,
           1598.7499999996635,
           566.8333333333117,
           1714.1666666662252,
           680.50000000003,
           1043.2500000001687,
           673.3333333333601,
           1105.750000000112,
           1382.9999999998597,
           531.4999999999623,
           635.0000000000093,
           2376.833333333186,
           462.4166666666313,
           1315.6666666665876,
           504.4166666666218,
           741.2500000000576,
           867.3333333334483,
           875.5833333334521,
           2188.1666666661763,
           1172.8333333333842,
           332.4999999999942,
           1351.749999999888,
           966.25000000016,
           981.750000000167,
           1714.3333333328917,
           813.833333333424,
           863.7500000001133,
           1202.1666666666908,
           665.0833333333563,
           2433.83333333329,
           1189.0000000000362,
           2298.583333333044,
           1414.9166666664971,
           476.4999999999615,
           766.3333333334024,
           2338.249999999782,
           1170.500000000053,
           716.0000000000462,
           1228.083333333334,
           511.8333333332868,
           1357.3333333332164,
           1144.0833333334103,
           292.5000000000033,
           1069.0833333334783,
           1552.333333333039,
           1029.9166666668475,
           2752.83333333387,
           2077.1666666659744,
           1167.8333333333887,
           658.2500000000199,
           741.7500000000579,
           520.4166666666239,
           2127.4999999993997,
           1093.2500000001232,
           1590.4166666663375,
           696.4166666667039,
           1286.8333333332805,
           1489.1666666664298,
           1796.91666666615,
           1298.2499999999368,
           921.583333333473,
           605.5833333333293,
           1245.1666666666515,
           1261.9166666666365,
           1705.4999999995664,
           1363.999999999877,
           790.9166666667469,
           1067.7500000001464,
           1320.4999999999166,
           1317.416666666586,
           1404.3333333331736,
           648.6666666666822,
           309.7499999999994,
           484.9999999999595,
           439.3333333333032,
           814.1666666667575,
           1264.4166666666342,
           655.583333333352,
           342.66666666665856,
           626.5000000000055,
           1059.9166666668202,
           321.66666666666333,
           676.4166666666948,
           201.9166666666721,
           1223.916666666671,
           1687.4166666662495,
           1112.583333333439,
           466.7499999999637,
           785.0833333334109,
           1800.833333332813,
           1364.5833333332098,
           2299.7499999997126,
           1038.7500000001728,
           722.8333333333826,
           1706.999999999565,
           1231.7499999999973,
           967.833333333494,
           1386.5833333331898,
           192.41666666667103,
           291.3333333333369,
           1370.9166666665374,
           605.4999999999959,
           194.08333333333792,
           538.7499999999656,
           33.24999999999985,
           1792.749999999487,
           737.0833333333891,
           1153.7500000000682,
           886.0000000001235,
           955.6666666668218,
           1071.2500000001432,
           748.2500000000608,
           1487.8333333330977,
           835.7500000001006,
           889.0000000001248,
           1337.4166666665678,
           1137.3333333334165,
           966.25000000016,
           1034.0000000001771,
           1499.6666666664205,
           503.58333333328864,
           894.9166666667942,
           1749.4166666661931,
           1879.749999999408,
           635.1666666666761,
           777.0833333334073,
           1202.9166666666902,
           560.4999999999754,
           790.3333333334133,
           797.5833333334166,
           1156.5000000000657,
           1462.9166666664537,
           1168.0833333333885,
           456.24999999996606,
           1019.7500000001844,
           1167.166666666723,
           478.0833333332944,
           1599.7499999996626,
           1578.0833333330156,
           494.49999999995737,
           1705.1666666662334,
           947.6666666668182,
           114.49999999999784,
           759.4166666667326,
           1567.6666666663584,
           547.9999999999698,
           978.3333333334988,
           673.08333333336,
           1354.666666666552,
           1355.1666666665517,
           898.0000000001289,
           701.6666666667063,
           873.1666666667843,
           235.41666666667595,
           998.6666666668414,
           951.41666666682,
           795.4166666667489,
           425.749999999973,
           1044.8333333335006,
           694.9166666667032
          ],
          "sizemode": "area",
          "sizeref": 14.55111111111771
         },
         "mode": "markers",
         "name": "",
         "showlegend": false,
         "subplot": "mapbox",
         "type": "scattermapbox"
        }
       ],
       "layout": {
        "coloraxis": {
         "colorbar": {
          "title": {
           "text": "peak_hour"
          }
         },
         "colorscale": [
          [
           0,
           "#000000"
          ],
          [
           0.0625,
           "#001f4d"
          ],
          [
           0.125,
           "#003786"
          ],
          [
           0.1875,
           "#0e58a8"
          ],
          [
           0.25,
           "#217eb8"
          ],
          [
           0.3125,
           "#30a4ca"
          ],
          [
           0.375,
           "#54c8df"
          ],
          [
           0.4375,
           "#9be4ef"
          ],
          [
           0.5,
           "#e1e9d1"
          ],
          [
           0.5625,
           "#f3d573"
          ],
          [
           0.625,
           "#e7b000"
          ],
          [
           0.6875,
           "#da8200"
          ],
          [
           0.75,
           "#c65400"
          ],
          [
           0.8125,
           "#ac2301"
          ],
          [
           0.875,
           "#820000"
          ],
          [
           0.9375,
           "#4c0000"
          ],
          [
           1,
           "#000000"
          ]
         ]
        },
        "legend": {
         "itemsizing": "constant",
         "tracegroupgap": 0
        },
        "mapbox": {
         "center": {
          "lat": 45.523416683439955,
          "lon": -73.59183434290806
         },
         "domain": {
          "x": [
           0,
           1
          ],
          "y": [
           0,
           1
          ]
         },
         "style": "carto-positron",
         "zoom": 10
        },
        "margin": {
         "t": 60
        },
        "template": {
         "data": {
          "bar": [
           {
            "error_x": {
             "color": "#2a3f5f"
            },
            "error_y": {
             "color": "#2a3f5f"
            },
            "marker": {
             "line": {
              "color": "#E5ECF6",
              "width": 0.5
             },
             "pattern": {
              "fillmode": "overlay",
              "size": 10,
              "solidity": 0.2
             }
            },
            "type": "bar"
           }
          ],
          "barpolar": [
           {
            "marker": {
             "line": {
              "color": "#E5ECF6",
              "width": 0.5
             },
             "pattern": {
              "fillmode": "overlay",
              "size": 10,
              "solidity": 0.2
             }
            },
            "type": "barpolar"
           }
          ],
          "carpet": [
           {
            "aaxis": {
             "endlinecolor": "#2a3f5f",
             "gridcolor": "white",
             "linecolor": "white",
             "minorgridcolor": "white",
             "startlinecolor": "#2a3f5f"
            },
            "baxis": {
             "endlinecolor": "#2a3f5f",
             "gridcolor": "white",
             "linecolor": "white",
             "minorgridcolor": "white",
             "startlinecolor": "#2a3f5f"
            },
            "type": "carpet"
           }
          ],
          "choropleth": [
           {
            "colorbar": {
             "outlinewidth": 0,
             "ticks": ""
            },
            "type": "choropleth"
           }
          ],
          "contour": [
           {
            "colorbar": {
             "outlinewidth": 0,
             "ticks": ""
            },
            "colorscale": [
             [
              0,
              "#0d0887"
             ],
             [
              0.1111111111111111,
              "#46039f"
             ],
             [
              0.2222222222222222,
              "#7201a8"
             ],
             [
              0.3333333333333333,
              "#9c179e"
             ],
             [
              0.4444444444444444,
              "#bd3786"
             ],
             [
              0.5555555555555556,
              "#d8576b"
             ],
             [
              0.6666666666666666,
              "#ed7953"
             ],
             [
              0.7777777777777778,
              "#fb9f3a"
             ],
             [
              0.8888888888888888,
              "#fdca26"
             ],
             [
              1,
              "#f0f921"
             ]
            ],
            "type": "contour"
           }
          ],
          "contourcarpet": [
           {
            "colorbar": {
             "outlinewidth": 0,
             "ticks": ""
            },
            "type": "contourcarpet"
           }
          ],
          "heatmap": [
           {
            "colorbar": {
             "outlinewidth": 0,
             "ticks": ""
            },
            "colorscale": [
             [
              0,
              "#0d0887"
             ],
             [
              0.1111111111111111,
              "#46039f"
             ],
             [
              0.2222222222222222,
              "#7201a8"
             ],
             [
              0.3333333333333333,
              "#9c179e"
             ],
             [
              0.4444444444444444,
              "#bd3786"
             ],
             [
              0.5555555555555556,
              "#d8576b"
             ],
             [
              0.6666666666666666,
              "#ed7953"
             ],
             [
              0.7777777777777778,
              "#fb9f3a"
             ],
             [
              0.8888888888888888,
              "#fdca26"
             ],
             [
              1,
              "#f0f921"
             ]
            ],
            "type": "heatmap"
           }
          ],
          "heatmapgl": [
           {
            "colorbar": {
             "outlinewidth": 0,
             "ticks": ""
            },
            "colorscale": [
             [
              0,
              "#0d0887"
             ],
             [
              0.1111111111111111,
              "#46039f"
             ],
             [
              0.2222222222222222,
              "#7201a8"
             ],
             [
              0.3333333333333333,
              "#9c179e"
             ],
             [
              0.4444444444444444,
              "#bd3786"
             ],
             [
              0.5555555555555556,
              "#d8576b"
             ],
             [
              0.6666666666666666,
              "#ed7953"
             ],
             [
              0.7777777777777778,
              "#fb9f3a"
             ],
             [
              0.8888888888888888,
              "#fdca26"
             ],
             [
              1,
              "#f0f921"
             ]
            ],
            "type": "heatmapgl"
           }
          ],
          "histogram": [
           {
            "marker": {
             "pattern": {
              "fillmode": "overlay",
              "size": 10,
              "solidity": 0.2
             }
            },
            "type": "histogram"
           }
          ],
          "histogram2d": [
           {
            "colorbar": {
             "outlinewidth": 0,
             "ticks": ""
            },
            "colorscale": [
             [
              0,
              "#0d0887"
             ],
             [
              0.1111111111111111,
              "#46039f"
             ],
             [
              0.2222222222222222,
              "#7201a8"
             ],
             [
              0.3333333333333333,
              "#9c179e"
             ],
             [
              0.4444444444444444,
              "#bd3786"
             ],
             [
              0.5555555555555556,
              "#d8576b"
             ],
             [
              0.6666666666666666,
              "#ed7953"
             ],
             [
              0.7777777777777778,
              "#fb9f3a"
             ],
             [
              0.8888888888888888,
              "#fdca26"
             ],
             [
              1,
              "#f0f921"
             ]
            ],
            "type": "histogram2d"
           }
          ],
          "histogram2dcontour": [
           {
            "colorbar": {
             "outlinewidth": 0,
             "ticks": ""
            },
            "colorscale": [
             [
              0,
              "#0d0887"
             ],
             [
              0.1111111111111111,
              "#46039f"
             ],
             [
              0.2222222222222222,
              "#7201a8"
             ],
             [
              0.3333333333333333,
              "#9c179e"
             ],
             [
              0.4444444444444444,
              "#bd3786"
             ],
             [
              0.5555555555555556,
              "#d8576b"
             ],
             [
              0.6666666666666666,
              "#ed7953"
             ],
             [
              0.7777777777777778,
              "#fb9f3a"
             ],
             [
              0.8888888888888888,
              "#fdca26"
             ],
             [
              1,
              "#f0f921"
             ]
            ],
            "type": "histogram2dcontour"
           }
          ],
          "mesh3d": [
           {
            "colorbar": {
             "outlinewidth": 0,
             "ticks": ""
            },
            "type": "mesh3d"
           }
          ],
          "parcoords": [
           {
            "line": {
             "colorbar": {
              "outlinewidth": 0,
              "ticks": ""
             }
            },
            "type": "parcoords"
           }
          ],
          "pie": [
           {
            "automargin": true,
            "type": "pie"
           }
          ],
          "scatter": [
           {
            "fillpattern": {
             "fillmode": "overlay",
             "size": 10,
             "solidity": 0.2
            },
            "type": "scatter"
           }
          ],
          "scatter3d": [
           {
            "line": {
             "colorbar": {
              "outlinewidth": 0,
              "ticks": ""
             }
            },
            "marker": {
             "colorbar": {
              "outlinewidth": 0,
              "ticks": ""
             }
            },
            "type": "scatter3d"
           }
          ],
          "scattercarpet": [
           {
            "marker": {
             "colorbar": {
              "outlinewidth": 0,
              "ticks": ""
             }
            },
            "type": "scattercarpet"
           }
          ],
          "scattergeo": [
           {
            "marker": {
             "colorbar": {
              "outlinewidth": 0,
              "ticks": ""
             }
            },
            "type": "scattergeo"
           }
          ],
          "scattergl": [
           {
            "marker": {
             "colorbar": {
              "outlinewidth": 0,
              "ticks": ""
             }
            },
            "type": "scattergl"
           }
          ],
          "scattermapbox": [
           {
            "marker": {
             "colorbar": {
              "outlinewidth": 0,
              "ticks": ""
             }
            },
            "type": "scattermapbox"
           }
          ],
          "scatterpolar": [
           {
            "marker": {
             "colorbar": {
              "outlinewidth": 0,
              "ticks": ""
             }
            },
            "type": "scatterpolar"
           }
          ],
          "scatterpolargl": [
           {
            "marker": {
             "colorbar": {
              "outlinewidth": 0,
              "ticks": ""
             }
            },
            "type": "scatterpolargl"
           }
          ],
          "scatterternary": [
           {
            "marker": {
             "colorbar": {
              "outlinewidth": 0,
              "ticks": ""
             }
            },
            "type": "scatterternary"
           }
          ],
          "surface": [
           {
            "colorbar": {
             "outlinewidth": 0,
             "ticks": ""
            },
            "colorscale": [
             [
              0,
              "#0d0887"
             ],
             [
              0.1111111111111111,
              "#46039f"
             ],
             [
              0.2222222222222222,
              "#7201a8"
             ],
             [
              0.3333333333333333,
              "#9c179e"
             ],
             [
              0.4444444444444444,
              "#bd3786"
             ],
             [
              0.5555555555555556,
              "#d8576b"
             ],
             [
              0.6666666666666666,
              "#ed7953"
             ],
             [
              0.7777777777777778,
              "#fb9f3a"
             ],
             [
              0.8888888888888888,
              "#fdca26"
             ],
             [
              1,
              "#f0f921"
             ]
            ],
            "type": "surface"
           }
          ],
          "table": [
           {
            "cells": {
             "fill": {
              "color": "#EBF0F8"
             },
             "line": {
              "color": "white"
             }
            },
            "header": {
             "fill": {
              "color": "#C8D4E3"
             },
             "line": {
              "color": "white"
             }
            },
            "type": "table"
           }
          ]
         },
         "layout": {
          "annotationdefaults": {
           "arrowcolor": "#2a3f5f",
           "arrowhead": 0,
           "arrowwidth": 1
          },
          "autotypenumbers": "strict",
          "coloraxis": {
           "colorbar": {
            "outlinewidth": 0,
            "ticks": ""
           }
          },
          "colorscale": {
           "diverging": [
            [
             0,
             "#8e0152"
            ],
            [
             0.1,
             "#c51b7d"
            ],
            [
             0.2,
             "#de77ae"
            ],
            [
             0.3,
             "#f1b6da"
            ],
            [
             0.4,
             "#fde0ef"
            ],
            [
             0.5,
             "#f7f7f7"
            ],
            [
             0.6,
             "#e6f5d0"
            ],
            [
             0.7,
             "#b8e186"
            ],
            [
             0.8,
             "#7fbc41"
            ],
            [
             0.9,
             "#4d9221"
            ],
            [
             1,
             "#276419"
            ]
           ],
           "sequential": [
            [
             0,
             "#0d0887"
            ],
            [
             0.1111111111111111,
             "#46039f"
            ],
            [
             0.2222222222222222,
             "#7201a8"
            ],
            [
             0.3333333333333333,
             "#9c179e"
            ],
            [
             0.4444444444444444,
             "#bd3786"
            ],
            [
             0.5555555555555556,
             "#d8576b"
            ],
            [
             0.6666666666666666,
             "#ed7953"
            ],
            [
             0.7777777777777778,
             "#fb9f3a"
            ],
            [
             0.8888888888888888,
             "#fdca26"
            ],
            [
             1,
             "#f0f921"
            ]
           ],
           "sequentialminus": [
            [
             0,
             "#0d0887"
            ],
            [
             0.1111111111111111,
             "#46039f"
            ],
            [
             0.2222222222222222,
             "#7201a8"
            ],
            [
             0.3333333333333333,
             "#9c179e"
            ],
            [
             0.4444444444444444,
             "#bd3786"
            ],
            [
             0.5555555555555556,
             "#d8576b"
            ],
            [
             0.6666666666666666,
             "#ed7953"
            ],
            [
             0.7777777777777778,
             "#fb9f3a"
            ],
            [
             0.8888888888888888,
             "#fdca26"
            ],
            [
             1,
             "#f0f921"
            ]
           ]
          },
          "colorway": [
           "#636efa",
           "#EF553B",
           "#00cc96",
           "#ab63fa",
           "#FFA15A",
           "#19d3f3",
           "#FF6692",
           "#B6E880",
           "#FF97FF",
           "#FECB52"
          ],
          "font": {
           "color": "#2a3f5f"
          },
          "geo": {
           "bgcolor": "white",
           "lakecolor": "white",
           "landcolor": "#E5ECF6",
           "showlakes": true,
           "showland": true,
           "subunitcolor": "white"
          },
          "hoverlabel": {
           "align": "left"
          },
          "hovermode": "closest",
          "mapbox": {
           "style": "light"
          },
          "paper_bgcolor": "white",
          "plot_bgcolor": "#E5ECF6",
          "polar": {
           "angularaxis": {
            "gridcolor": "white",
            "linecolor": "white",
            "ticks": ""
           },
           "bgcolor": "#E5ECF6",
           "radialaxis": {
            "gridcolor": "white",
            "linecolor": "white",
            "ticks": ""
           }
          },
          "scene": {
           "xaxis": {
            "backgroundcolor": "#E5ECF6",
            "gridcolor": "white",
            "gridwidth": 2,
            "linecolor": "white",
            "showbackground": true,
            "ticks": "",
            "zerolinecolor": "white"
           },
           "yaxis": {
            "backgroundcolor": "#E5ECF6",
            "gridcolor": "white",
            "gridwidth": 2,
            "linecolor": "white",
            "showbackground": true,
            "ticks": "",
            "zerolinecolor": "white"
           },
           "zaxis": {
            "backgroundcolor": "#E5ECF6",
            "gridcolor": "white",
            "gridwidth": 2,
            "linecolor": "white",
            "showbackground": true,
            "ticks": "",
            "zerolinecolor": "white"
           }
          },
          "shapedefaults": {
           "line": {
            "color": "#2a3f5f"
           }
          },
          "ternary": {
           "aaxis": {
            "gridcolor": "white",
            "linecolor": "white",
            "ticks": ""
           },
           "baxis": {
            "gridcolor": "white",
            "linecolor": "white",
            "ticks": ""
           },
           "bgcolor": "#E5ECF6",
           "caxis": {
            "gridcolor": "white",
            "linecolor": "white",
            "ticks": ""
           }
          },
          "title": {
           "x": 0.05
          },
          "xaxis": {
           "automargin": true,
           "gridcolor": "white",
           "linecolor": "white",
           "ticks": "",
           "title": {
            "standoff": 15
           },
           "zerolinecolor": "white",
           "zerolinewidth": 2
          },
          "yaxis": {
           "automargin": true,
           "gridcolor": "white",
           "linecolor": "white",
           "ticks": "",
           "title": {
            "standoff": 15
           },
           "zerolinecolor": "white",
           "zerolinewidth": 2
          }
         }
        }
       }
      }
     },
     "metadata": {},
     "output_type": "display_data"
    }
   ],
   "source": [
    "df = px.data.carshare()\n",
    "fig = px.scatter_mapbox(\n",
    "    df,\n",
    "    lat=\"centroid_lat\",\n",
    "    lon=\"centroid_lon\",\n",
    "    color=\"peak_hour\",\n",
    "    size=\"car_hours\",\n",
    "    color_continuous_scale=px.colors.cyclical.IceFire,\n",
    "    size_max=15,\n",
    "    zoom=10,\n",
    "    mapbox_style=\"carto-positron\",\n",
    ")\n",
    "fig.show()"
   ]
  },
  {
   "cell_type": "markdown",
   "id": "c281c76c",
   "metadata": {},
   "source": [
    "<div style=\"padding: 30px; padding-top: 0; padding-bottom: 0;\">\n",
    "\n",
    "<hr style=\"border-color: #fff;\">\n",
    "\n",
    "</div>"
   ]
  },
  {
   "cell_type": "markdown",
   "id": "e74b78f1",
   "metadata": {},
   "source": [
    "<div style=\"font-family: arial; padding: 30px; padding-top: 0; padding-bottom: 0;\">\n",
    "    \n",
    "<h2 style=\"color: #d42c06;\">References</h2>\n",
    "\n",
    "* [آموزش یادگیری ماشین کاربردی، سهیل تهرانی](https://maktabkhooneh.org/course/%D8%A2%D9%85%D9%88%D8%B2%D8%B4-%DB%8C%D8%A7%D8%AF%DA%AF%DB%8C%D8%B1%DB%8C-%D9%85%D8%A7%D8%B4%DB%8C%D9%86-%DA%A9%D8%A7%D8%B1%D8%A8%D8%B1%D8%AF%DB%8C-mk2450/)\n",
    "* [Earth Data Science](https://www.earthdatascience.org/) </li>"
   ]
  }
 ],
 "metadata": {
  "kernelspec": {
   "display_name": "Python 3.11.7 64-bit",
   "language": "python",
   "name": "python3"
  },
  "language_info": {
   "codemirror_mode": {
    "name": "ipython",
    "version": 3
   },
   "file_extension": ".py",
   "mimetype": "text/x-python",
   "name": "python",
   "nbconvert_exporter": "python",
   "pygments_lexer": "ipython3",
   "version": "3.12.1"
  },
  "vscode": {
   "interpreter": {
    "hash": "b0fa6594d8f4cbf19f97940f81e996739fb7646882a419484c72d19e05852a7e"
   }
  }
 },
 "nbformat": 4,
 "nbformat_minor": 2
}

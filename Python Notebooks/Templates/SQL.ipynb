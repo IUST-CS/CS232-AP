{
 "cells": [
  {
   "cell_type": "markdown",
   "id": "24971931-144f-402e-9fc4-ede95a159218",
   "metadata": {},
   "source": [
    "<div style=\"font-family: arial; padding: 30px; padding-bottom: 0;\">\n",
    "\n",
    "<h4 style=\"text-align: center;\">In the Name of God</h4>\n",
    "\n",
    "<h2 style=\"text-align: center; color: #103bc9;\">CS232 - Advanced Programming</h2>\n",
    "\n",
    "<h3 style=\"text-align: center; color: #d42c06;\">Iran University of Science and Technology</h3>\n",
    "\n",
    "<h3 style=\"text-align: center; color: #d42c06;\">School of Mathematics and Computer Science</h3>\n",
    "\n",
    "<h4 style=\"padding-top: 7px; text-align: center;\">Winter-Spring 2024</h4>\n",
    "\n",
    "<hr style=\"margin-top: 25px; border-color: #fff;\">\n",
    "\n",
    "<h1 style=\"text-align: center; color: #9c0000;\">Database</h1>\n",
    "\n",
    "<h3 style=\"padding-top: 7px; text-align: center;\">Sina Abdolhosseini<br>\n",
    "Bardia Hashemi</h3>\n",
    "\n",
    "<hr style=\"margin-top: 25px; border-color: #fff;\">\n",
    "\n",
    "</div>"
   ]
  },
  {
   "cell_type": "markdown",
   "id": "03bf94c3",
   "metadata": {},
   "source": [
    "# What is Datebase ?"
   ]
  },
  {
   "cell_type": "markdown",
   "id": "f05a65e4",
   "metadata": {},
   "source": [
    "A database is an organized collection of data stored in a computer system and usually controlled by a database management system (DBMS). The data in common databases is modeled in tables, making querying and processing efficient. Structured query language (SQL) is commonly used for data querying and writing.\n",
    "\n",
    "The Database is an essential part of our life. We encounter several activities that involve our interaction with databases, for example in the bank, in the railway station, in school, in a grocery store, etc. These are the instances where we need to store a large amount of data in one place and fetch these data easily. "
   ]
  },
  {
   "cell_type": "markdown",
   "id": "e55ed9c6",
   "metadata": {},
   "source": [
    "# What is relational datsbase ?"
   ]
  },
  {
   "cell_type": "markdown",
   "id": "103ae39a",
   "metadata": {},
   "source": [
    "A relational database is a type of database that organizes data into rows and columns, which collectively form a table where the data points are related to each other."
   ]
  },
  {
   "cell_type": "markdown",
   "id": "64b1e200",
   "metadata": {},
   "source": [
    "# What is MySQL ?\n"
   ]
  },
  {
   "cell_type": "markdown",
   "id": "d93891b9",
   "metadata": {},
   "source": [
    "MySQL is a relational database management system (RDBMS) developed by Oracle that is based on structured query language (SQL)."
   ]
  },
  {
   "cell_type": "markdown",
   "id": "1f489d42",
   "metadata": {},
   "source": [
    "# Why we use MySQL ?"
   ]
  },
  {
   "cell_type": "markdown",
   "id": "2ef7bddd",
   "metadata": {},
   "source": [
    "1. MySQL is a widely used relational database management system (RDBMS).\n",
    "2. MySQL is free and open-source.\n",
    "3. MySQL is ideal for both small and large applications.\n",
    "4. MySQL is very fast, reliable, scalable, and easy to use\n",
    "5. MySQL is cross-platform\n",
    "6. MySQL is developed, distributed, and supported by Oracle Corporation\n"
   ]
  },
  {
   "cell_type": "markdown",
   "id": "0740a45d",
   "metadata": {},
   "source": [
    "# MySQL commands "
   ]
  },
  {
   "cell_type": "markdown",
   "id": "a4d6a354",
   "metadata": {},
   "source": [
    "### Create and Drop Database"
   ]
  },
  {
   "cell_type": "markdown",
   "id": "905d7910",
   "metadata": {},
   "source": [
    "+ #### CREATE DATABASE: \"To create a new SQL database\"\n",
    "        CREATE DATABASE databasename;\n",
    "\n",
    "+ #### DROP DATABASE: \"To drop an existing SQL database\"\n",
    "        DROP DATABASE databasename;"
   ]
  },
  {
   "cell_type": "markdown",
   "id": "489a7fc5",
   "metadata": {},
   "source": [
    "### Create and Drop Table"
   ]
  },
  {
   "cell_type": "markdown",
   "id": "58ac4613",
   "metadata": {},
   "source": [
    "+ #### Create table Syntax: \"To create a new table in a database\"\n",
    "        CREATE TABLE table_name (\n",
    "        column1 datatype,\n",
    "        column2 datatype,\n",
    "        column3 datatype,\n",
    "        ....\n",
    "        );"
   ]
  },
  {
   "cell_type": "markdown",
   "id": "61802385",
   "metadata": {},
   "source": [
    "+ #### Drop table Syntax: \"To drop an existing table in a database\"\n",
    "        DROP TABLE table_name;\n",
    "+ #### To delete the data inside a table, but not the table itself:\n",
    "        TRUNCATE TABLE table_name;"
   ]
  },
  {
   "cell_type": "markdown",
   "id": "10b2e4d5",
   "metadata": {},
   "source": [
    "### INSERT INTO TABLE"
   ]
  },
  {
   "cell_type": "markdown",
   "id": "32633993",
   "metadata": {},
   "source": [
    "+ #### The INSERT INTO statement is used to insert new records in a table.\n",
    "        INSERT INTO table_name (column1,column2,column3, ...)\n",
    "        VALUES (value1, value2, value3, ...);"
   ]
  },
  {
   "cell_type": "markdown",
   "id": "3f01360e",
   "metadata": {},
   "source": [
    "### SELECT "
   ]
  },
  {
   "cell_type": "markdown",
   "id": "99e10fcd",
   "metadata": {},
   "source": [
    "+ ####  When select data from any Column\n",
    "        SELECT column1, column2, ...FROM table_name;\n",
    "+ #### When select all the Columns\n",
    "        SELECT * FROM table_name;\n",
    "+ ####  To return only distinct (different) values\n",
    "        SELECT DISTINCT columnname FROM table_name"
   ]
  },
  {
   "cell_type": "markdown",
   "id": "b98e596b",
   "metadata": {},
   "source": [
    "### WHERE\n",
    "* used to filter records"
   ]
  },
  {
   "cell_type": "markdown",
   "id": "5ef24838",
   "metadata": {},
   "source": [
    "        SELECT column1, column2, ...\n",
    "        FROM table_name\n",
    "        WHERE condition;"
   ]
  },
  {
   "cell_type": "markdown",
   "id": "2114b8b4",
   "metadata": {},
   "source": [
    "+ #### Operators in Where\n",
    "    * '=' -> Equal\t\n",
    "    * '>' -> Greater than\t\n",
    "    * '<' -> Less than\t\n",
    "    * '>=' -> Greater than or equal\t\n",
    "    * '<=' -> Less than or equal\t\n",
    "    * '<>' -> Not equal. Note: In some versions of SQL this operator may be written as '!='"
   ]
  },
  {
   "cell_type": "markdown",
   "id": "3a59a8d1",
   "metadata": {},
   "source": [
    "+ #### Where with AND,OR, and NOT operators:\n",
    "     *  AND Syntax \n",
    "\n",
    "                SELECT column1, column2, ...\n",
    "                FROM table_name\n",
    "                WHERE condition1 AND condition2 AND condition3 ...;\n",
    "     *  OR Syntax: \n",
    "\n",
    "                SELECT column1, column2, ...\n",
    "                FROM table_name\n",
    "                WHERE condition1 OR condition2 Ocondition3 ...;\n",
    "     *  NOT Syntax: \n",
    "     \n",
    "                SELECT column1, column2, ...\n",
    "                FROM table_name\n",
    "                WHERE NOT condition;"
   ]
  },
  {
   "cell_type": "markdown",
   "id": "fc3e259d",
   "metadata": {},
   "source": [
    "### UPDATE\n",
    "* used to modify the existing records in a table"
   ]
  },
  {
   "cell_type": "markdown",
   "id": "0a8e2c89",
   "metadata": {},
   "source": [
    "+ #### Update record\n",
    "        UPDATE table_name\n",
    "        SET column1 = value1, column2 = value2, ...\n",
    "        WHERE condition;\n",
    "+ #### Update Multiple record\n",
    "        UPDATE table_name\n",
    "        SET columnname = condition\n",
    "        WHERE columnname = condition;\n"
   ]
  },
  {
   "cell_type": "markdown",
   "id": "39d5c4dc",
   "metadata": {},
   "source": [
    "# MySQL in python "
   ]
  },
  {
   "cell_type": "markdown",
   "id": "6262b0dc",
   "metadata": {},
   "source": [
    "In Python you need to install a Python MySQL connector to interact with a MySQL database. Many packages follow the DB-API standards, but the most popular among them is MySQL Connector/Python. You can get it with pip:"
   ]
  },
  {
   "cell_type": "code",
   "execution_count": null,
   "id": "1af3b8c0",
   "metadata": {},
   "outputs": [],
   "source": [
    "! pip install mysql-connector-python"
   ]
  },
  {
   "cell_type": "markdown",
   "id": "0010e522",
   "metadata": {},
   "source": [
    "# Connect To MySQL"
   ]
  },
  {
   "cell_type": "code",
   "execution_count": null,
   "id": "33172f56",
   "metadata": {},
   "outputs": [],
   "source": [
    "import mysql.connector as connector\n",
    "\n",
    "\n",
    "DBUsername = \"root\"\n",
    "DBPassword = \"CSAP\"\n",
    "DBName = \"CS\"\n",
    "\n",
    "db = connector.connect(\n",
    "    host = \"127.0.0.1\",\n",
    "    user = DBUsername,\n",
    "    password = DBPassword,\n",
    "    database = DBName\n",
    ")\n",
    "\n",
    "if db.is_connected():\n",
    "    print(\"Database Connected\")"
   ]
  },
  {
   "cell_type": "markdown",
   "id": "7d611e9f",
   "metadata": {},
   "source": [
    "# Establishing a connection"
   ]
  },
  {
   "cell_type": "code",
   "execution_count": null,
   "id": "9a7c1e1c",
   "metadata": {},
   "outputs": [],
   "source": [
    "connection = connector.connect(user=DBUsername,password=DBPassword)"
   ]
  },
  {
   "cell_type": "markdown",
   "id": "efa77d6e",
   "metadata": {},
   "source": [
    "# What is cursor?"
   ]
  },
  {
   "cell_type": "markdown",
   "id": "3ac25eb6",
   "metadata": {},
   "source": [
    "The MySQLCursor class instantiates objects that can execute operations such as SQL statements. Cursor objects interact with the MySQL server using a MySQLConnection object ."
   ]
  },
  {
   "cell_type": "code",
   "execution_count": null,
   "id": "27f37d7c",
   "metadata": {},
   "outputs": [],
   "source": [
    "cursor = connection.cursor()"
   ]
  },
  {
   "cell_type": "markdown",
   "id": "9cc1f26a",
   "metadata": {},
   "source": [
    "# How run a query?"
   ]
  },
  {
   "cell_type": "code",
   "execution_count": null,
   "id": "9ea8d171",
   "metadata": {},
   "outputs": [],
   "source": [
    "query = \"select students_name from CS402;\"\n",
    "\n",
    "# Execute SQL query\n",
    "cursor.execute(query)\n",
    "\n",
    "for name in cursor :\n",
    "    print(\"welcome to cs \" , name )\n",
    "\n",
    "cursor.close()\n",
    "connection.close()"
   ]
  },
  {
   "cell_type": "markdown",
   "id": "5ccec032",
   "metadata": {},
   "source": [
    "<div style=\"font-family: arial; padding: 30px; padding-top: 0; padding-bottom: 0;\">\n",
    "    \n",
    "<h2 style=\"color: #d42c06;\">References</h2>\n",
    "\n",
    "<ul>\n",
    "    <li>https://github.com/thecraigd/Python_SQL/blob/master/mysql.ipynb</li>\n",
    "    <li>https://dev.mysql.com/doc/</li>\n",
    "\n",
    "</ul>\n",
    "\n",
    "<hr style=\"margin-top: 25px; border-color: #fff;\">\n",
    "\n",
    "</div>"
   ]
  }
 ],
 "metadata": {
  "kernelspec": {
   "display_name": "Python 3 (ipykernel)",
   "language": "python",
   "name": "python3"
  },
  "language_info": {
   "codemirror_mode": {
    "name": "ipython",
    "version": 3
   },
   "file_extension": ".py",
   "mimetype": "text/x-python",
   "name": "python",
   "nbconvert_exporter": "python",
   "pygments_lexer": "ipython3",
   "version": "3.11.4"
  }
 },
 "nbformat": 4,
 "nbformat_minor": 5
}

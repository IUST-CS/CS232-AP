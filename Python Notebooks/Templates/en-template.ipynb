{
 "cells": [
  {
   "cell_type": "markdown",
   "id": "24971931-144f-402e-9fc4-ede95a159218",
   "metadata": {},
   "source": [
    "<div style=\"font-family: arial; padding: 30px; padding-bottom: 0;\">\n",
    "\n",
    "<h4 style=\"text-align: center;\">In the Name of God</h4>\n",
    "\n",
    "<h2 style=\"text-align: center; color: #103bc9;\">CS232 - Advanced Programming</h2>\n",
    "\n",
    "<h3 style=\"text-align: center; color: #d42c06;\">Iran University of Science and Technology</h3>\n",
    "\n",
    "<h3 style=\"text-align: center; color: #d42c06;\">School of Mathematics and Computer Science</h3>\n",
    "\n",
    "<h4 style=\"padding-top: 7px; text-align: center;\">Winter-Spring 2024</h4>\n",
    "\n",
    "<h3 style=\"padding-top: 7px; text-align: center;\">Sina Abdolhosseini <br> Bardia Hashemi</h3>\n",
    "\n",
    "<div style=\"font-family: arial; padding: 30px; padding-top: 15px; padding-bottom: 0;\">\n",
    "\n",
    "<hr style=\"margin-top: 25px; border-color: #fff;\">\n",
    "\n",
    "<h2 style=\"text-align: center; color: #186e00;\">Session 3</h2>\n",
    "\n",
    "<hr style=\"margin-top: 25px; border-color: #fff;\">\n",
    "\n",
    "</div>\n",
    "\n",
    "</div>"
   ]
  },
  {
   "cell_type": "markdown",
   "id": "b2703d52-7195-48ea-8648-327e02dd0761",
   "metadata": {},
   "source": [
    "<div style=\"font-family: arial; padding: 30px; padding-top: 0; padding-bottom: 0;\">\n",
    "    \n",
    "<h2 id=\"introduction\" style=\"color: #d42c06;\">Overview</h2>\n",
    "\n",
    "</div>"
   ]
  },
  {
   "cell_type": "markdown",
   "id": "2f3cfd88",
   "metadata": {},
   "source": [
    "<div style=\"font-size: 1.1em; font-family: arial; padding: 30px; padding-top: 0; padding-bottom: 0;\"\n",
    "\n",
    "<hr style=\"margin-top: 25px; border-color: #fff;\">\n",
    "<ol>\n",
    "    <li>Modules</li>\n",
    "    <li>Packages</li>\n",
    "    <li>Introducing Some Useful Packages</li>\n",
    "</ol>\n",
    "\n",
    "</div>"
   ]
  },
  {
   "cell_type": "markdown",
   "id": "fad74324",
   "metadata": {},
   "source": [
    "<div style=\"font-family: arial; padding: 30px; padding-bottom: 0;\">\n",
    "\n",
    "<hr style=\"margin-top: 25px; border-color: #fff;\">\n",
    "\n",
    "<h2 style=\"text-align: center; color: #186e00;\">Section 1: Modules</h2>\n",
    "\n",
    "<hr style=\"margin-top: 25px; border-color: #fff;\">\n",
    "\n",
    "</div>"
   ]
  },
  {
   "cell_type": "markdown",
   "id": "5a467692",
   "metadata": {},
   "source": [
    "## How Import Works"
   ]
  },
  {
   "cell_type": "markdown",
   "id": "2d86cd80",
   "metadata": {},
   "source": [
    "Because imports are at the heart of program structure in Python, this section goes into more formal detail on the import operation to make this process less abstract.\n",
    "\n",
    "In more details, this is particularly important as in Python, the import process is **not** just a textual insertions of one file into another. \n",
    "\n",
    "It really consists of a set of runtime operations that perform three distinct steps the first time a program imports a given file:\n",
    "\n",
    "1. *Find* the module file\n",
    "2. *Compile* it to byte code\n",
    "3. *Run* the module's code to build the objects it defines\n",
    "\n"
   ]
  },
  {
   "cell_type": "markdown",
   "id": "6c1f53c1",
   "metadata": {},
   "source": [
    "Most of the functionality in Python is provided by *modules*. The Python Standard Library is a large collection of modules that provides *cross-platform* implementations of common facilities such as access to the operating system, file I/O, string management, network communication, and much more."
   ]
  },
  {
   "cell_type": "markdown",
   "id": "ad8c1816",
   "metadata": {},
   "source": [
    "To use a module in a Python program it first has to be imported. A module can be imported using the `import` statement."
   ]
  },
  {
   "cell_type": "markdown",
   "metadata": {},
   "source": [
    "For example, to import the module `math`, which contains many standard mathematical functions, we can do:"
   ]
  },
  {
   "cell_type": "code",
   "execution_count": 2,
   "id": "3c45a478",
   "metadata": {},
   "outputs": [],
   "source": [
    "import math"
   ]
  },
  {
   "cell_type": "markdown",
   "id": "8b2f1f2b",
   "metadata": {},
   "source": [
    "This includes the whole module and makes it available for use later in the program. "
   ]
  },
  {
   "cell_type": "markdown",
   "id": "2d2fe802",
   "metadata": {},
   "source": [
    "For example, we can do:"
   ]
  },
  {
   "cell_type": "code",
   "execution_count": null,
   "id": "469cfcb5",
   "metadata": {},
   "outputs": [],
   "source": [
    "import math\n",
    "x = math.sin(2 * math.pi)\n",
    "print(x)"
   ]
  },
  {
   "cell_type": "markdown",
   "id": "29ee6569",
   "metadata": {},
   "source": [
    "Alternatively, we can chose to import all symbols (functions and variables) in a module to the current namespace (so that we don't need to use the prefix \"`math.`\" every time we use something from the `math` module:"
   ]
  },
  {
   "cell_type": "code",
   "execution_count": null,
   "id": "1c01a3d0",
   "metadata": {},
   "outputs": [],
   "source": [
    "from math import cos, pi\n",
    "\n",
    "x = cos(2 * pi)\n",
    "\n",
    "print(x)"
   ]
  },
  {
   "cell_type": "markdown",
   "id": "0dade857",
   "metadata": {},
   "source": [
    "This is called **selective Import**"
   ]
  },
  {
   "cell_type": "markdown",
   "id": "c0ca2c05",
   "metadata": {},
   "source": [
    "This pattern can be very convenient, but in large programs that include many modules it is often a good idea to keep the symbols from each module in their own namespaces, by using the `import math` pattern. This would elminate potentially confusing problems with name space collisions."
   ]
  },
  {
   "cell_type": "markdown",
   "id": "03ada9f4",
   "metadata": {},
   "source": [
    "Btw, in case of `namespace collisions` (or to avoid `namespace pollution`) we may use the `as` **keyword**"
   ]
  },
  {
   "cell_type": "code",
   "execution_count": 5,
   "id": "fa3d2ff1",
   "metadata": {},
   "outputs": [],
   "source": [
    "from math import cos as cosine"
   ]
  },
  {
   "cell_type": "code",
   "execution_count": null,
   "id": "c56e395a",
   "metadata": {},
   "outputs": [],
   "source": [
    "cosine(pi/2)"
   ]
  },
  {
   "cell_type": "markdown",
   "id": "cd57edec",
   "metadata": {},
   "source": [
    "Finally, if we want to import **everything** from a module, we may the `*` character:"
   ]
  },
  {
   "cell_type": "code",
   "execution_count": 7,
   "id": "80a27a14",
   "metadata": {},
   "outputs": [],
   "source": [
    "from math import *"
   ]
  },
  {
   "cell_type": "code",
   "execution_count": null,
   "id": "5a67bab7",
   "metadata": {},
   "outputs": [],
   "source": [
    "print(sin(pi))\n",
    "print(log(e))"
   ]
  },
  {
   "cell_type": "markdown",
   "id": "a2583f1b",
   "metadata": {},
   "source": [
    "## What Are Python Special Variable Names?"
   ]
  },
  {
   "cell_type": "markdown",
   "id": "92a42b25",
   "metadata": {},
   "source": [
    "To put it simply, Python Special Variable Names are a particular kind of identifier characterized by their surrounding double underscores, like \\_\\_main__. These are not mere decorative punctuation; they hold a special status in Python’s internal working.\n",
    "\n",
    "Often referred to as ``dunder`` variables (derived from \"double underscore\"), these Python specific special variables provide a way to customize and manipulate Python’s behavior in many ways. From object creation to defining the string representation of a class, these ``dunder`` variables are the torchbearers of customization in Python.\n",
    "\n",
    "As you voyage deeper into Python programming, the power of these special variables becomes evident. They help customize the functionality of class objects, pave the way for operator overloading, and even dictate a module’s interaction with Python’s runtime environment. Grasping this tool can significantly enhance your coding efficiency and potential."
   ]
  },
  {
   "cell_type": "markdown",
   "id": "aa9f2c41",
   "metadata": {},
   "source": [
    "## Interacting with Python Special Variable Names"
   ]
  },
  {
   "cell_type": "markdown",
   "id": "90161897",
   "metadata": {},
   "source": [
    "**1. The \\_\\_name\\_\\_ Variable**"
   ]
  },
  {
   "cell_type": "markdown",
   "id": "143bea32",
   "metadata": {},
   "source": [
    "The \\_\\_name__ variable lets you check whether your script is being run on its own or imported from another module. Here’s how it works:"
   ]
  },
  {
   "cell_type": "code",
   "execution_count": null,
   "id": "8b59e96b",
   "metadata": {},
   "outputs": [],
   "source": [
    "def CSAP():\n",
    "    print(\"Hello CS\")\n",
    "if __name__ == \"__main__\":\n",
    "    CSAP()"
   ]
  },
  {
   "cell_type": "markdown",
   "id": "36648006",
   "metadata": {},
   "source": [
    "If you run this module directly, the \\_\\_name\\_\\_ variable equals “\\_\\_main\\_\\_”, so the function hello_world() gets called. But if you import it from another module, \\_\\_name\\_\\_ equals “my_module”, so the hello_world function won’t get called unless you specifically call it."
   ]
  },
  {
   "cell_type": "markdown",
   "id": "def7880c",
   "metadata": {},
   "source": [
    "**2. \\_\\_init\\_\\_ and \\_\\_del\\_\\_ Variables**"
   ]
  },
  {
   "cell_type": "markdown",
   "id": "389477fa",
   "metadata": {},
   "source": [
    "The \\_\\_init\\_\\_ variable lets you run code when an object is created from a class, while \\_\\_del\\_\\_ allows you to execute code when an object is destroyed."
   ]
  },
  {
   "cell_type": "code",
   "execution_count": null,
   "id": "df075f46",
   "metadata": {},
   "outputs": [],
   "source": [
    "class MYCSAP:\n",
    "    def __init__(self):\n",
    "        print(\"Object created!\")\n",
    "    def __del__(self):\n",
    "        print(\"Object deleted!\")\n",
    "obj = MYCSAP()  # prints: Object created!\n",
    "del obj  # prints: Object deleted!"
   ]
  },
  {
   "cell_type": "markdown",
   "id": "7558f5e0",
   "metadata": {},
   "source": [
    "**3. \\_\\_str__ and \\_\\_repr__ Variables**"
   ]
  },
  {
   "cell_type": "markdown",
   "id": "7881fe59",
   "metadata": {},
   "source": [
    "The \\_\\_str\\_\\_ and \\_\\_repr\\_\\_ variables allow you to customize how objects are represented as strings. The \\_\\_str\\_\\_ method is used when we print an object, while \\_\\_repr\\_\\_ is used when we call repr() on an object."
   ]
  },
  {
   "cell_type": "code",
   "execution_count": null,
   "id": "9bf0834f",
   "metadata": {},
   "outputs": [],
   "source": [
    "class CS402:\n",
    "    def __str__(self):\n",
    "        return \"This is a CS402 instance!\"\n",
    "    def __repr__(self):\n",
    "        return \"CS402()\"\n",
    "obj = CS402()\n",
    "print(obj)  # This is a CS402 instance!\n",
    "print(repr(obj))  # CS402()"
   ]
  },
  {
   "cell_type": "markdown",
   "id": "290cc926",
   "metadata": {},
   "source": [
    "## Built-in Modules in Python"
   ]
  },
  {
   "cell_type": "markdown",
   "id": "6a011b7e",
   "metadata": {},
   "source": [
    "Python’s built-in modules are a set of libraries that come pre-installed with the Python installation. It will become a tedious task to install any required modules in between the process of development that’s why Python comes with some most used modules required. These modules provide a wide range of functionalities, from file operations and system-related tasks to mathematical computations and web services. The use of these modules simplifies the development process, as developers can leverage the built-in functions and classes for common tasks, providing code reusability, and efficiency. Some examples of built-in modules include “os”, “sys”, “math”, and “datetime”.<br>\n",
    "We can run the below command to get the all available modules in Python:"
   ]
  },
  {
   "cell_type": "markdown",
   "id": "0f1f20d5",
   "metadata": {},
   "source": [
    "\\>\\>\\> help('modules')"
   ]
  },
  {
   "attachments": {
    "image.png": {
     "image/png": "[encoded data removed]"
    }
   },
   "cell_type": "markdown",
   "id": "6df92d58",
   "metadata": {},
   "source": [
    "![image.png](attachment:image.png)"
   ]
  },
  {
   "cell_type": "markdown",
   "id": "9c3d5e87",
   "metadata": {},
   "source": [
    "<div style=\"font-family: arial; padding: 30px; padding-bottom: 0;\">\n",
    "\n",
    "<hr style=\"margin-top: 25px; border-color: #fff;\">\n",
    "\n",
    "<h2 style=\"text-align: center; color: #186e00;\">Section 2: Packges</h2>\n",
    "\n",
    "<hr style=\"margin-top: 25px; border-color: #fff;\">\n",
    "\n",
    "</div>"
   ]
  },
  {
   "cell_type": "markdown",
   "id": "87f7a8c2",
   "metadata": {},
   "source": [
    "Packages are a way of structuring Python’s module namespace by using “dotted module names”. For example, the module name A.B designates a submodule named B in a package named A. Just like the use of modules saves the authors of different modules from having to worry about each other’s global variable names, the use of dotted module names saves the authors of multi-module packages like NumPy or Pillow from having to worry about each other’s module names.\n",
    "\n",
    "Suppose you want to design a collection of modules (a “package”) for the uniform handling of sound files and sound data. There are many different sound file formats (usually recognized by their extension, for example: .wav, .aiff, .au), so you may need to create and maintain a growing collection of modules for the conversion between the various file formats. There are also many different operations you might want to perform on sound data (such as mixing, adding echo, applying an equalizer function, creating an artificial stereo effect), so in addition you will be writing a never-ending stream of modules to perform these operations. Here’s a possible structure for your package (expressed in terms of a hierarchical filesystem):"
   ]
  },
  {
   "cell_type": "markdown",
   "id": "5b1502d9",
   "metadata": {},
   "source": [
    "```\n",
    "sound/                          Top-level package\n",
    "      __init__.py               Initialize the sound package\n",
    "      formats/                  Subpackage for file format conversions\n",
    "              __init__.py\n",
    "              wavread.py\n",
    "              wavwrite.py\n",
    "              aiffread.py\n",
    "              aiffwrite.py\n",
    "              auread.py\n",
    "              auwrite.py\n",
    "              ...\n",
    "      effects/                  Subpackage for sound effects\n",
    "              __init__.py\n",
    "              echo.py\n",
    "              surround.py\n",
    "              reverse.py\n",
    "              ...\n",
    "      filters/                  Subpackage for filters\n",
    "              __init__.py\n",
    "              equalizer.py\n",
    "              vocoder.py\n",
    "              karaoke.py\n",
    "              ...\n",
    "```"
   ]
  },
  {
   "cell_type": "markdown",
   "id": "f337f5d1",
   "metadata": {},
   "source": [
    "The \\_\\_init\\_\\_.py files are required to make Python treat directories containing the file as packages (unless using a namespace package, a relatively advanced feature). This prevents directories with a common name, such as string, from unintentionally hiding valid modules that occur later on the module search path. In the simplest case, \\_\\_init\\_\\_.py can just be an empty file"
   ]
  },
  {
   "cell_type": "markdown",
   "id": "e4559ca6",
   "metadata": {},
   "source": [
    "# Virtual environment\n",
    "When working with Python projects, best practice is to have a separate virtual environment for each of them. <br>\n",
    "Each virtual environment has its own Python binary. When you install some Python package into your virtual environment, it'll be installed only into that specific environment. This means that you can have different versions of a single Python package in different virtual environments in the same machine. Virtual environments are also useful if you need to use different Python versions in your projects."
   ]
  },
  {
   "cell_type": "markdown",
   "id": "fef75cd5",
   "metadata": {},
   "source": [
    "## venv"
   ]
  },
  {
   "cell_type": "markdown",
   "id": "d2d4fb58",
   "metadata": {},
   "source": [
    "#### Creating new virtual environment\n",
    "You can create all your virtual environments into a single directory (for example, `.virtualenvs` directory inside your home folder). This makes them easier to find."
   ]
  },
  {
   "cell_type": "markdown",
   "id": "59dcde6b",
   "metadata": {},
   "source": [
    "`python3 -m venv /path/to/new/environment`\n",
    "\n",
    "or\n",
    "\n",
    "`path/to/your/python -m venv /path/to/new/environment`"
   ]
  },
  {
   "cell_type": "markdown",
   "id": "1a1bc992",
   "metadata": {},
   "source": [
    "#### Activating the virtual environment"
   ]
  },
  {
   "cell_type": "markdown",
   "id": "9fdc2526",
   "metadata": {},
   "source": [
    "Windows: `path_to_virtual_env\\Scripts\\activate.bat`<br/>\n",
    "Linux and MacOS: `source path_to_virtual_env/bin/activate`"
   ]
  },
  {
   "cell_type": "markdown",
   "id": "ed573341",
   "metadata": {},
   "source": [
    "#### Dectivating the virtual environment"
   ]
  },
  {
   "cell_type": "markdown",
   "id": "0dd3a2ec",
   "metadata": {},
   "source": [
    "Windows: `path_to_virtual_env\\Scripts\\deactivate.bat`<br/>\n",
    "Linux and MacOS: `source path_to_virtual_env/bin/deactivate`"
   ]
  },
  {
   "cell_type": "markdown",
   "id": "b2f7344e",
   "metadata": {},
   "source": [
    "## What is PIP?"
   ]
  },
  {
   "cell_type": "markdown",
   "id": "374062d5",
   "metadata": {},
   "source": [
    "PIP is a package manager for Python packages, or modules if you like."
   ]
  },
  {
   "cell_type": "markdown",
   "id": "a481886d",
   "metadata": {},
   "source": [
    "+ **Installing packages :**"
   ]
  },
  {
   "cell_type": "markdown",
   "id": "7b2568b2",
   "metadata": {},
   "source": [
    "`pip install package_name`"
   ]
  },
  {
   "cell_type": "code",
   "execution_count": null,
   "id": "05be5a23",
   "metadata": {},
   "outputs": [],
   "source": [
    "! pip install django"
   ]
  },
  {
   "cell_type": "markdown",
   "id": "38b9159e",
   "metadata": {},
   "source": [
    "+ **Uninstalling packages :**"
   ]
  },
  {
   "cell_type": "markdown",
   "id": "cfc934f2",
   "metadata": {},
   "source": [
    "`pip uninstall package_name`"
   ]
  },
  {
   "cell_type": "code",
   "execution_count": null,
   "id": "8e99e4e1",
   "metadata": {},
   "outputs": [],
   "source": [
    "! pip uninstall django"
   ]
  },
  {
   "cell_type": "markdown",
   "id": "97b60b71",
   "metadata": {},
   "source": [
    "+ **Listing packages**"
   ]
  },
  {
   "cell_type": "markdown",
   "id": "4aa5ec85",
   "metadata": {},
   "source": [
    "`pip list`"
   ]
  },
  {
   "cell_type": "code",
   "execution_count": null,
   "id": "1988b358",
   "metadata": {},
   "outputs": [],
   "source": [
    "! pip list"
   ]
  },
  {
   "cell_type": "markdown",
   "id": "f2182808",
   "metadata": {},
   "source": [
    "<div style=\"font-family: arial; padding: 30px; padding-bottom: 0;\">\n",
    "\n",
    "<hr style=\"margin-top: 25px; border-color: #fff;\">\n",
    "\n",
    "<h2 style=\"text-align: center; color: #186e00;\">Introducing Some Useful Packages</h2>\n",
    "\n",
    "<hr style=\"margin-top: 25px; border-color: #fff;\">\n",
    "\n",
    "</div>"
   ]
  },
  {
   "cell_type": "markdown",
   "id": "80a96b4f",
   "metadata": {},
   "source": [
    "# Regex"
   ]
  },
  {
   "cell_type": "markdown",
   "id": "571febb5",
   "metadata": {},
   "source": [
    "The `re` module in Python provides support for working with regular expressions (regex). <br>\n",
    "It allows you to search, manipulate, and extract data from text using pattern matching. <br>"
   ]
  },
  {
   "cell_type": "markdown",
   "id": "205adb3c",
   "metadata": {},
   "source": [
    "#### Matching Patterns using search():\n",
    "\n"
   ]
  },
  {
   "cell_type": "code",
   "execution_count": null,
   "id": "69cf1e5b",
   "metadata": {},
   "outputs": [],
   "source": [
    "import re\n",
    "\n",
    "text = \"Hello, I have 2 apples and 3 oranges.\"\n",
    "pattern = r\"\\d+\"\n",
    "\n",
    "match = re.search(pattern, text)\n",
    "if match:\n",
    "    print(\"Match found:\", match.group())\n",
    "else:\n",
    "    print(\"No match found.\")\n"
   ]
  },
  {
   "cell_type": "markdown",
   "id": "73f9625e",
   "metadata": {},
   "source": [
    "#### Extracting Data using findall():\n",
    "\n"
   ]
  },
  {
   "cell_type": "code",
   "execution_count": null,
   "id": "323370e7",
   "metadata": {},
   "outputs": [],
   "source": [
    "\n",
    "text = \"John's email address is john@example.com, and Jane's email address is jane@example.com.\"\n",
    "pattern = r\"\\b\\w+@\\w+\\.\\w+\\b\"\n",
    "\n",
    "matches = re.findall(pattern, text)\n",
    "print(\"Email addresses found:\", matches)\n"
   ]
  },
  {
   "cell_type": "markdown",
   "id": "af661b20",
   "metadata": {},
   "source": [
    "#### Replacing Text using sub():"
   ]
  },
  {
   "cell_type": "code",
   "execution_count": null,
   "id": "a0e5b445",
   "metadata": {},
   "outputs": [],
   "source": [
    "\n",
    "text = \"Hello, my name is John. Hello, John!\"\n",
    "pattern = r\"John\"\n",
    "replacement = \"Jane\"\n",
    "\n",
    "new_text = re.sub(pattern, replacement, text)\n",
    "print(\"New text:\", new_text)\n"
   ]
  },
  {
   "cell_type": "markdown",
   "id": "5dd95645",
   "metadata": {},
   "source": [
    "#### Splitting Text using split()\n",
    "\n"
   ]
  },
  {
   "cell_type": "code",
   "execution_count": null,
   "id": "34007213",
   "metadata": {},
   "outputs": [],
   "source": [
    "text = \"Hello, there! How are you?\"\n",
    "\n",
    "# Split the text at punctuation marks\n",
    "words = re.split(r\"[^\\w']+|_\", text)\n",
    "\n",
    "print(\"Words:\")\n",
    "for word in words:\n",
    "    print(word)\n"
   ]
  },
  {
   "cell_type": "markdown",
   "id": "e370cafc",
   "metadata": {},
   "source": [
    "#### Example 5: Extracting Groups using groups()\n",
    "\n"
   ]
  },
  {
   "cell_type": "code",
   "execution_count": null,
   "id": "3640f4bd",
   "metadata": {},
   "outputs": [],
   "source": [
    "import re\n",
    "\n",
    "text = \"Date: 2023-07-15\"\n",
    "\n",
    "# Extract the year, month, and day using groups\n",
    "match = re.search(r\"(\\d{4})-(\\d{2})-(\\d{2})\", text)\n",
    "\n",
    "if match:\n",
    "    year, month, day = match.groups()\n",
    "    print(\"Year:\", year)\n",
    "    print(\"Month:\", month)\n",
    "    print(\"Day:\", day)\n",
    "else:\n",
    "    print(\"No match found.\")\n"
   ]
  },
  {
   "cell_type": "markdown",
   "id": "ed3337af",
   "metadata": {},
   "source": [
    "# JSON"
   ]
  },
  {
   "cell_type": "markdown",
   "id": "5911d15b",
   "metadata": {},
   "source": [
    "JavaScript Object Notation was inspired by a subset of the JavaScript programming language dealing with object literal syntax. They’ve got a nifty website that explains the whole thing. Don’t worry though: JSON has long since become language agnostic and exists as its own standard, so we can thankfully avoid JavaScript for the sake of this discussion.<br>\n",
    "Ultimately, the community at large adopted JSON because it’s easy for both humans and machines to create and understand."
   ]
  },
  {
   "cell_type": "code",
   "execution_count": null,
   "id": "9abbd83b",
   "metadata": {},
   "outputs": [],
   "source": [
    "data = {\"b\": True, \"a\": 1, \"nested\": {\"foo\": \"bar\"}, \"c\": None, \"some_list\": [1, 2, 3]}"
   ]
  },
  {
   "cell_type": "markdown",
   "id": "15465158",
   "metadata": {},
   "source": [
    "+ ### Encoding"
   ]
  },
  {
   "cell_type": "code",
   "execution_count": null,
   "id": "82deafdc",
   "metadata": {},
   "outputs": [],
   "source": [
    "import json\n",
    "json_data = json.dumps(data)\n",
    "print(f\"type: {type(json_data)} data: {json_data}\")"
   ]
  },
  {
   "cell_type": "markdown",
   "id": "89cae0b1",
   "metadata": {},
   "source": [
    "+ ### Decoding"
   ]
  },
  {
   "cell_type": "code",
   "execution_count": null,
   "id": "7867c84b",
   "metadata": {},
   "outputs": [],
   "source": [
    "decoded = json.loads(json_data)\n",
    "print(f\"type: {type(decoded)} data: {decoded}\")"
   ]
  },
  {
   "cell_type": "markdown",
   "id": "df2d5954",
   "metadata": {},
   "source": [
    "| Python | JSON |\n",
    "|:----:| :--- |\n",
    "| dict | object |\n",
    "| list, tuple | array |\n",
    "| str | string |\n",
    "| int, long, float | number |\n",
    "| True | true |\n",
    "| False | false |\n",
    "| None | null |"
   ]
  },
  {
   "cell_type": "markdown",
   "id": "dfaa8d2f",
   "metadata": {},
   "source": [
    "# Datetime"
   ]
  },
  {
   "cell_type": "code",
   "execution_count": null,
   "id": "ba65e9b1",
   "metadata": {},
   "outputs": [],
   "source": [
    "import datetime as dt\n",
    "\n",
    "local_now = dt.datetime.now()\n",
    "print(f\"local now: {local_now}\")\n",
    "\n",
    "\n",
    "# You can access any value separately:\n",
    "print(\n",
    "    f\"{local_now.year} {local_now.month} {local_now.day} {local_now.hour} {local_now.minute} {local_now.second}\"\n",
    ")\n",
    "\n",
    "print(f\"date: {local_now.date()}\")\n",
    "print(f\"time: {local_now.time()}\")"
   ]
  },
  {
   "cell_type": "markdown",
   "id": "d9a6c195",
   "metadata": {},
   "source": [
    "+ ## Creating Date Objects"
   ]
  },
  {
   "cell_type": "markdown",
   "id": "3a221688",
   "metadata": {},
   "source": [
    "To create a date, we can use the datetime() class (constructor) of the datetime module.<br>\n",
    "The datetime() class requires three parameters to create a date: year, month, day."
   ]
  },
  {
   "cell_type": "code",
   "execution_count": null,
   "id": "2feffc7b",
   "metadata": {},
   "outputs": [],
   "source": [
    "import datetime as dt \n",
    "x = dt.datetime(2024, 3, 22)\n",
    "print(x)"
   ]
  },
  {
   "cell_type": "markdown",
   "id": "c4d690e4",
   "metadata": {},
   "source": [
    "+ ## strftime()\n",
    "For string formatting the `datetime`"
   ]
  },
  {
   "cell_type": "code",
   "execution_count": null,
   "id": "da2d8e48",
   "metadata": {},
   "outputs": [],
   "source": [
    "formatted1 = local_now.strftime(\"%Y/%m/%d-%H:%M:%S\")\n",
    "print(formatted1)\n",
    "\n",
    "formatted2 = local_now.strftime(\"date: %Y-%m-%d time:%H:%M:%S\")\n",
    "print(formatted2)"
   ]
  },
  {
   "cell_type": "markdown",
   "id": "9b5f9812",
   "metadata": {},
   "source": [
    "# Multithreading\n",
    "\n",
    "+ ## An Intro to Threading in Python\n",
    "    Multithreading is defined as the ability of a processor to execute multiple threads concurrently. In a simple, single-core CPU, it is achieved using frequent switching between threads. This is termed context switching. In context switching, the state of a thread is saved and the state of another thread is loaded whenever any interrupt (due to I/O or manually set) takes place. Context switching takes place so frequently that all the threads appear to be running parallelly (this is termed multitasking).\n",
    "\n",
    "    Multithreading in Python\n",
    "    In Python, the threading module provides a very simple and intuitive API for spawning multiple threads in a program. Let us try to understand multithreading code step-by-step.\n",
    "#### Step 1: Import Module\n",
    "First, import the threading module.\n",
    "\n",
    "\n",
    "\n",
    "\n"
   ]
  },
  {
   "cell_type": "code",
   "execution_count": null,
   "id": "363d7f2e",
   "metadata": {},
   "outputs": [],
   "source": [
    "import threading"
   ]
  },
  {
   "cell_type": "markdown",
   "id": "b67b305a",
   "metadata": {},
   "source": [
    "#### Step 2: Create a Thread\n",
    "\n",
    "To create a new thread, we create an object of the Thread class. It takes the ‘target’ and ‘args’ as the parameters. The target is the function to be executed by the thread whereas the args is the arguments to be passed to the target function."
   ]
  },
  {
   "cell_type": "code",
   "execution_count": null,
   "id": "d1660a75",
   "metadata": {},
   "outputs": [],
   "source": [
    "t1 = threading.Thread(target, args)\n",
    "t2 = threading.Thread(target, args)"
   ]
  },
  {
   "cell_type": "markdown",
   "id": "d37cb524",
   "metadata": {},
   "source": [
    "#### Step 3: Start a Thread\n",
    "\n",
    "To start a thread, we use the start() method of the Thread class."
   ]
  },
  {
   "cell_type": "code",
   "execution_count": null,
   "id": "cf174e36",
   "metadata": {},
   "outputs": [],
   "source": [
    "t1.start()\n",
    "t2.start()"
   ]
  },
  {
   "cell_type": "markdown",
   "id": "c1fab57a",
   "metadata": {},
   "source": [
    "#### Step 4: End the thread Execution\n",
    "\n",
    "Once the threads start, the current program (you can think of it like a main thread) also keeps on executing. In order to stop the execution of the current program until a thread is complete, we use the join() method."
   ]
  },
  {
   "cell_type": "code",
   "execution_count": null,
   "id": "f42f5c39",
   "metadata": {},
   "outputs": [],
   "source": [
    "t1.join()\n",
    "t2.join()"
   ]
  },
  {
   "cell_type": "markdown",
   "id": "fc36455f",
   "metadata": {},
   "source": [
    "#### Example:"
   ]
  },
  {
   "cell_type": "code",
   "execution_count": null,
   "id": "a5d93fd3",
   "metadata": {},
   "outputs": [],
   "source": [
    "import threading\n",
    "def print_cube(num):\n",
    "\tprint(\"Cube: {}\" .format(num * num * num))\n",
    "\n",
    "def print_square(num):\n",
    "\tprint(\"Square: {}\" .format(num * num))\n",
    "\n",
    "if __name__ ==\"__main__\":\n",
    "\tt1 = threading.Thread(target=print_square, args=(10,))\n",
    "\tt2 = threading.Thread(target=print_cube, args=(10,))\n",
    "\n",
    "\tt1.start()\n",
    "\tt2.start()\n",
    "\n",
    "\tt1.join()\n",
    "\tt2.join()\n",
    "\n",
    "\tprint(\"Done!\")"
   ]
  },
  {
   "cell_type": "markdown",
   "id": "2afbab2b",
   "metadata": {},
   "source": [
    "+ ## Difference between Multiprocessing and Multithreading:"
   ]
  },
  {
   "cell_type": "markdown",
   "id": "c284f5c4",
   "metadata": {},
   "source": [
    "\n",
    "| Multiprocessing | Multithreading |\n",
    "|:----:| :--- |\n",
    "| In Multiprocessing, CPUs are added for increasing computing power. | While In Multithreading, many threads are created of a single process for increasing computing power. |\n",
    "| In Multiprocessing, Many processes are executed simultaneously. | While in multithreading, many threads of a process are executed simultaneously. |\n",
    "| Multiprocessing are classified into Symmetric and Asymmetric. | While Multithreading is not classified in any categories. |\n",
    "| In Multiprocessing, Process creation is a time-consuming process. | While in Multithreading, process creation is according to economical. |\n",
    "| In Multiprocessing, every process owned a separate address space. | While in Multithreading, a common address space is shared by all the threads. |"
   ]
  },
  {
   "cell_type": "markdown",
   "id": "4c4d4a0d",
   "metadata": {},
   "source": [
    "# File I/O"
   ]
  },
  {
   "cell_type": "markdown",
   "id": "02ce566f",
   "metadata": {},
   "source": [
    "+ ## Working with paths"
   ]
  },
  {
   "cell_type": "code",
   "execution_count": null,
   "id": "bd37e17f",
   "metadata": {},
   "outputs": [],
   "source": [
    "from pathlib import Path\n",
    "\n",
    "current_file = Path(\"file_io.ipynb\").resolve()\n",
    "print(f\"current file: {current_file}\")\n",
    "# Note: in .py files you can get the path of current file by Path(__file__)\n",
    "\n",
    "current_dir = current_file.parent\n",
    "print(f\"current directory: {current_dir}\")\n",
    "\n",
    "data_dir = current_dir.parent / \"data\"\n",
    "print(f\"data directory: {data_dir}\")"
   ]
  },
  {
   "cell_type": "markdown",
   "id": "09ed3406",
   "metadata": {},
   "source": [
    "+ ### Checking if path exists"
   ]
  },
  {
   "cell_type": "code",
   "execution_count": null,
   "id": "5065b64f",
   "metadata": {},
   "outputs": [],
   "source": [
    "print(f\"exists: {data_dir.exists()}\")\n",
    "print(f\"is file: {data_dir.is_file()}\")\n",
    "print(f\"is directory: {data_dir.is_dir()}\")"
   ]
  },
  {
   "cell_type": "markdown",
   "id": "a0beccf4",
   "metadata": {},
   "source": [
    "+ ## Reading files"
   ]
  },
  {
   "cell_type": "code",
   "execution_count": null,
   "id": "4d0be49d",
   "metadata": {},
   "outputs": [],
   "source": [
    "file_path = data_dir / \"simple_file.txt\"\n",
    "\n",
    "with open(file_path) as simple_file:\n",
    "    for line in simple_file:\n",
    "        print(line.strip())"
   ]
  },
  {
   "cell_type": "markdown",
   "id": "21c17f06",
   "metadata": {},
   "source": [
    "The `with` statement is for obtaining a context manager that will be used as an execution context for the commands inside the `with`. Context managers guarantee that certain operations are done when exiting the context. \n",
    "\n",
    "In this case, the context manager guarantees that `simple_file.close()` is implicitly called when exiting the context. This is a way to make developers life easier: you don't have to remember to explicitly close the file you openened nor be worried about an exception occuring while the file is open. Unclosed file maybe a source of a resource leak. Thus, prefer using `with open()` structure always with file I/O.\n",
    "\n",
    "To have an example, the same as above without the `with`."
   ]
  },
  {
   "cell_type": "code",
   "execution_count": null,
   "id": "59759612",
   "metadata": {},
   "outputs": [],
   "source": [
    "file_path = data_dir / \"simple_file.txt\"\n",
    "\n",
    "# THIS IS NOT THE PREFERRED WAY\n",
    "simple_file = open(file_path)\n",
    "for line in simple_file:\n",
    "    print(line.strip())\n",
    "simple_file.close()  # This has to be called explicitly"
   ]
  },
  {
   "cell_type": "markdown",
   "id": "35101551",
   "metadata": {},
   "source": [
    "+ ### Opening modes"
   ]
  },
  {
   "cell_type": "code",
   "execution_count": null,
   "id": "16514284",
   "metadata": {},
   "outputs": [],
   "source": [
    "new_file_path = data_dir / \"new_file.txt\"\n",
    "\n",
    "with open(new_file_path, \"r\") as my_file:\n",
    "    my_file.read([1])"
   ]
  },
  {
   "cell_type": "markdown",
   "id": "af51ec87",
   "metadata": {},
   "source": [
    "\n",
    "| Mode | Description |\n",
    "|:----:| :--- |\n",
    "| **`r`** | **Read** -Opens a file for reading only. The file pointer is placed at the beginning of the file. This is the default mode.   | \n",
    "| **`t`** | **Text** - Opens in text mode. (default).   |\n",
    "| **`x`** | **Create** - Opens a file for exclusive creation. If the file already exists, the operation fails.   | \n",
    "| **`w`** | **Write** - Opens a file for writing only. Overwrites the file if the file exists. If the file does not exist, creates a new file for writing.   | \n",
    "| **`a`** | **Append** - Opens a file for appending. The file pointer is at the end of the file if the file exists. That is, the file is in the append mode. If the file does not exist, it creates a new file for writing.   | "
   ]
  },
  {
   "cell_type": "markdown",
   "id": "9e5d386e",
   "metadata": {},
   "source": [
    "+ ## Readline\n",
    "we can use the **`readline()`** method to read individual lines of a file. This method reads a file till the newline, including the newline character.\n"
   ]
  },
  {
   "cell_type": "code",
   "execution_count": null,
   "id": "eed4cbc6",
   "metadata": {},
   "outputs": [],
   "source": [
    "with open(\"test_1.txt\",'r',encoding = 'utf-8') as f:\n",
    "    f.readline()"
   ]
  },
  {
   "cell_type": "markdown",
   "id": "566a44b7",
   "metadata": {},
   "source": [
    "+ ## Writing files"
   ]
  },
  {
   "cell_type": "code",
   "execution_count": null,
   "id": "a706c2f3",
   "metadata": {},
   "outputs": [],
   "source": [
    "new_file_path = data_dir / \"new_file.txt\"\n",
    "\n",
    "with open(new_file_path, \"w\") as my_file:\n",
    "    my_file.write(\"This is my first file that I wrote with Python.\")"
   ]
  },
  {
   "cell_type": "markdown",
   "id": "670c3ac7",
   "metadata": {},
   "source": [
    "#### Writing modes <br>\n"
   ]
  },
  {
   "cell_type": "markdown",
   "id": "f2ddcf4a",
   "metadata": {},
   "source": [
    "| Mode | Description |\n",
    "|:----:| :--- |\n",
    "| **`r`** | **Read Only**  | \n",
    "| **`r+`** | **Read and Write**|\n",
    "| **`w`** | **Write Only** | \n",
    "| **`w+`** | **Write and Read** | \n",
    "| **`a`** | **Append Only**  | \n",
    "| **`a+`** | **Append and Read** |"
   ]
  },
  {
   "cell_type": "markdown",
   "id": "c84c4491",
   "metadata": {},
   "source": [
    "+ ### Deleteing files\n",
    "Now go and check that there is a new_file.txt in the data directory. After that you can delete the file by:"
   ]
  },
  {
   "cell_type": "code",
   "execution_count": null,
   "id": "bcc7fb19",
   "metadata": {},
   "outputs": [],
   "source": [
    "if new_file_path.exists():  # make sure it's there\n",
    "    new_file_path.unlink()"
   ]
  }
 ],
 "metadata": {
  "kernelspec": {
   "display_name": "Python 3 (ipykernel)",
   "language": "python",
   "name": "python3"
  },
  "language_info": {
   "codemirror_mode": {
    "name": "ipython",
    "version": 3
   },
   "file_extension": ".py",
   "mimetype": "text/x-python",
   "name": "python",
   "nbconvert_exporter": "python",
   "pygments_lexer": "ipython3",
   "version": "3.11.8"
  }
 },
 "nbformat": 4,
 "nbformat_minor": 5
}

{
 "cells": [
  {
   "cell_type": "markdown",
   "id": "24971931-144f-402e-9fc4-ede95a159218",
   "metadata": {},
   "source": [
    "<div style=\"font-family: arial; padding: 30px; padding-bottom: 0;\">\n",
    "\n",
    "<h4 style=\"text-align: center;\">In the Name of God</h4>\n",
    "\n",
    "<h2 style=\"text-align: center; color: #103bc9;\">CS232 - Advanced Programming</h2>\n",
    "\n",
    "<h3 style=\"text-align: center; color: #d42c06;\">Iran University of Science and Technology</h3>\n",
    "\n",
    "<h3 style=\"text-align: center; color: #d42c06;\">School of Mathematics and Computer Science</h3>\n",
    "\n",
    "<h4 style=\"padding-top: 7px; text-align: center;\">Winter-Spring 2024</h4>\n",
    "\n",
    "<hr style=\"margin-top: 25px; border-color: #fff;\">\n",
    "\n",
    "<h1 style=\"text-align: center; color: #9c0000;\">Chapter 1: Python Fundamentals</h1>\n",
    "\n",
    "<h3 style=\"padding-top: 7px; text-align: center;\">Fateme Raadfar, Mahdi Porheydari</h3>\n",
    "\n",
    "<hr style=\"margin-top: 25px; border-color: #fff;\">\n",
    "\n",
    "</div>"
   ]
  },
  {
   "cell_type": "markdown",
   "id": "648a3a2d",
   "metadata": {
    "jp-MarkdownHeadingCollapsed": true
   },
   "source": [
    "<div style=\"font-family: arial; padding: 30px; padding-top: 15px; padding-bottom: 0;\">\n",
    "\n",
    "<hr style=\"margin-top: 25px; border-color: #fff;\">\n",
    "\n",
    "<h2 style=\"text-align: center; color: #186e00;\">Section 1: Python Introduction</h2>\n",
    "\n",
    "<hr style=\"margin-top: 25px; border-color: #fff;\">\n",
    "\n",
    "</div>"
   ]
  },
  {
   "cell_type": "markdown",
   "id": "b2703d52-7195-48ea-8648-327e02dd0761",
   "metadata": {},
   "source": [
    "<div style=\"font-family: arial; padding: 30px; padding-top: 0; padding-bottom: 0;\">\n",
    "    \n",
    "<h2 id=\"Brief History\" style=\"color: #d42c06;\">Brief History</h2>\n",
    "\n",
    "Python, conceived in the late 1980s by Guido van Rossum, is a high-level, versatile programming language known for its readability and simplicity. The first official Python release, version 0.9.0, came in February 1991. The language's name, inspired by Monty Python's Flying Circus, reflects its whimsical nature. Python's development has been guided by a philosophy emphasizing code readability and ease of use, making it an excellent choice for both beginners and seasoned developers.\n",
    "</div>"
   ]
  },
  {
   "cell_type": "markdown",
   "id": "d010a5c6",
   "metadata": {},
   "source": [
    "<div style=\"font-family: arial; padding: 30px; padding-top: 0; padding-bottom: 0;\">\n",
    "    \n",
    "<h2 id=\"Common Uses\" style=\"color: #d42c06;\">Common Uses</h2>\n",
    "\n",
    "Python has gained widespread popularity across various domains due to its flexibility and extensive libraries. Some common uses include:\n",
    "\n",
    "1. **Web Development**: \n",
    "    - Frameworks: Python is widely used for web development, with frameworks like Django and Flask providing powerful tools for building scalable and maintainable web applications.\n",
    "    - Backend Development: Python's ease of use makes it a popular choice for server-side development, handling the logic and data processing behind web applications.\n",
    "2. **Data Science and Machine Learning**: \n",
    "    - Libraries: Python has become the de facto language for data science and machine learning, thanks to libraries such as NumPy, Pandas, and TensorFlow. These tools empower developers and data scientists to analyze and model complex datasets efficiently.\n",
    "\n",
    "3. **Automation and Scripting**: \n",
    "    - Productivity: Python's simple syntax and extensive standard library make it an ideal language for automating tasks and writing scripts. It is widely used in system administration, network automation, and routine scripting.\n",
    "\n",
    "4. **Scientific Computing**: \n",
    "    - NumPy and SciPy: Python is a preferred choice in scientific research for its libraries like NumPy and SciPy, which provide support for mathematical and scientific computing tasks.\n",
    "5. **Game Development**: \n",
    "    - Pygame: Python is utilized in game development, particularly for creating simple games and prototypes. The Pygame library facilitates the development of 2D games with ease.\n",
    "\n",
    "6. **Network Programming**: \n",
    "    - Networking Protocols: Python's standard library supports various networking protocols, making it a valuable language for developing network applications and tools.\n",
    "\n",
    "7. **Desktop GUI Applications**: \n",
    "    - Tkinter and PyQt: Python is used for developing desktop applications with graphical user interfaces (GUIs) using frameworks like Tkinter and PyQt.\n",
    "</div>"
   ]
  },
  {
   "cell_type": "markdown",
   "id": "caef7364",
   "metadata": {},
   "source": [
    "<div style=\"font-family: arial; padding: 30px; padding-top: 0; padding-bottom: 0;\">\n",
    "    \n",
    "<h2 id=\"Comparison with Some Other Programming Languages\" style=\"color: #d42c06;\">Comparison with Some Other Programming Languages</h2>\n",
    "\n",
    "Python stands out among programming languages for its readability and simplicity. Let's delve into a brief comparison with some other popular languages and highlight Python's performance characteristics:\n",
    "\n",
    "- **Java**:\n",
    "\n",
    "    - **Readability**: Python is often considered more concise and readable than Java, with less boilerplate code. Python's dynamic typing also contrasts with Java's static typing.\n",
    "    - **Performance**: Java tends to have better performance than Python, especially in situations where execution speed is crucial.\n",
    "        However, Python's ease of use often outweighs Java's performance advantages in certain scenarios.\n",
    "- **C++**:\n",
    "\n",
    "    - **Readability and Rapid Development**: While C++ provides more low-level control over hardware, Python's simplicity makes it preferable for rapid development and prototyping.\n",
    "    - **Performance**: C++ generally offers better performance than Python due to its lower-level nature. Python sacrifices some performance for readability and ease of use.\n",
    "- **JavaScript**:\n",
    "\n",
    "    - **Versatility**: Python and JavaScript are both versatile, but Python is often used on the server side (backend development), while JavaScript dominates in the browser (frontend development).\n",
    "    - **Performance**: Both languages have similar performance characteristics for their respective domains. Python's server-side performance is comparable to that of JavaScript, but Python may be preferred for its readability.\n",
    "- **Ruby**:\n",
    "\n",
    "    - **Philosophy**: Python and Ruby share similar philosophies, emphasizing readability and developer happiness. Python is often chosen for its larger community and widespread use in scientific computing and data science.\n",
    "    - **Performance**: Python generally has better performance than Ruby, primarily due to its more extensive standard library and better optimization. However, both prioritize developer-friendly features over raw performance.\n",
    "<br>\n",
    "\n",
    "### Additional Considerations: Python's Speed and Memory Consumption\n",
    "\n",
    "While Python excels in readability and ease of use, it may not always match the performance of languages like C++ or Java.\n",
    "\n",
    "It is an interpreted language, which means that the code is executed line by line, introducing some overhead.\n",
    "However, advancements like Just-In-Time (JIT) compilation in recent Python versions have improved execution speed.\n",
    "\n",
    "**Execution Speed:**\n",
    "\n",
    "Python is not as fast as compiled languages like C or C++, but its performance has improved with implementations like CPython, PyPy, and optimizations in newer language versions.\n",
    "For computationally intensive tasks, developers may choose to implement critical sections in languages like C and integrate them with Python for overall performance gains.\n",
    "\n",
    "**Memory Consumption:**\n",
    "\n",
    "Python's memory consumption can be higher compared to languages with more explicit memory management, as it utilizes automatic memory management (garbage collection).\n",
    "\n",
    "Developers need to be mindful of memory usage, especially in resource-constrained environments.\n",
    "Techniques like memory profiling and optimizing data structures can help mitigate excessive memory usage.\n",
    "\n",
    "</div>"
   ]
  },
  {
   "cell_type": "markdown",
   "id": "04f0231b",
   "metadata": {},
   "source": [
    "<div style=\"font-family: arial; padding: 30px; padding-top: 15px; padding-bottom: 0;\">\n",
    "\n",
    "<hr style=\"margin-top: 25px; border-color: #fff;\">\n",
    "\n",
    "<h2 style=\"text-align: center; color: #186e00;\">Section 2: Basics of Python Syntax</h2>\n",
    "\n",
    "<hr style=\"margin-top: 25px; border-color: #fff;\">\n",
    "\n",
    "</div>"
   ]
  },
  {
   "cell_type": "markdown",
   "id": "ca6e5632",
   "metadata": {},
   "source": [
    "<div style=\"font-family: arial; padding: 30px; padding-top: 0; padding-bottom: 0;\">\n",
    "    \n",
    "<h2 id=\"Installation of Python Interpreter\" style=\"color: #d42c06;\">Installation of Python Interpreter</h2>\n",
    "Before diving into Python programming, it's essential to have Python installed on your system. Python can be easily installed on various operating systems. Follow the steps below based on your platform:\n",
    "\n",
    "### **For Windows**:\n",
    "\n",
    "1. Download Python:\n",
    "\n",
    "    - Visit the official Python website at [python.org](https://python.org).\n",
    "    - Navigate to the \"Downloads\" section and click on the latest version of Python for Windows.\n",
    "    - Choose the installer based on your system architecture (usually 64-bit) and download the executable installer.\n",
    "2. Run the Installer:\n",
    "\n",
    "    - Locate the downloaded installer file (e.g., python-3.x.x.exe) and double-click to run it.\n",
    "    - Ensure you check the box that says \"Add Python to PATH\" during installation. This makes it easier to run Python from the command line.\n",
    "3. Complete the Installation:\n",
    "\n",
    "    - Follow the on-screen instructions to complete the installation. Python will be installed in the default location on your system.\n",
    "4. Verify Installation:\n",
    "\n",
    "    - Open a command prompt or PowerShell window and type <code>python --version</code> or <code>python -V</code> to check if Pyt   hon has been installed successfully.\n",
    "    \n",
    "### **For macOS**:\n",
    "\n",
    "1. Installation using Homebrew (recommended):\n",
    "\n",
    "    - Open the Terminal.\n",
    "    - Install Homebrew by following the instructions on the [Homebrew website](https://brew.sh).\n",
    "    - Once Homebrew is installed, run the command ```brew install python ```.\n",
    "2. Verification:\n",
    "\n",
    "    - After installation, verify Python by typing <code>python3 --version</code> in the Terminal. You should see the installed Python version.\n",
    "\n",
    "### **For Linux**:\n",
    "\n",
    "1. Using Package Manager:\n",
    "\n",
    "    - Most Linux distributions come with Python pre-installed. However, you can use your package manager to install or update Python. For example, on Ubuntu, use ```sudo apt-get update``` followed by ```sudo apt-get install python3```.\n",
    "2. Alternative Method - Python Official Release:\n",
    "\n",
    "    - You can also download and install Python from the official website or use tools like pyenv. Follow the instructions on python.org for the official release.\n",
    "3. Verification:\n",
    "\n",
    "    - Open a terminal and type ```python3 --version``` to check if Python has been installed successfully.\n",
    "</div>"
   ]
  },
  {
   "cell_type": "markdown",
   "id": "ef5788c2",
   "metadata": {},
   "source": [
    "<div style=\"font-family: arial; padding: 30px; padding-top: 0; padding-bottom: 0;\">\n",
    "    \n",
    "<h2 id=\"Comments\" style=\"color: #d42c06;\">Comments</h2>\n",
    "Comments in Python are essential for improving code readability and providing explanations for different parts of your code. There are two types of comments: single-line comments and multiline comments.\n",
    "</div>"
   ]
  },
  {
   "cell_type": "markdown",
   "id": "92b5ad89",
   "metadata": {},
   "source": [
    "Single-line comments start with the hash (#) symbol and continue to the end of the line. They are useful for adding brief explanations or annotations to specific lines of code."
   ]
  },
  {
   "cell_type": "code",
   "execution_count": 2,
   "id": "5b32f7f0",
   "metadata": {},
   "outputs": [],
   "source": [
    "# This is a single-line comment\n",
    "print(\"Hello, World!\")  # Another comment after a line of code"
   ]
  },
  {
   "cell_type": "markdown",
   "id": "2ea4f279",
   "metadata": {},
   "source": [
    "While Python does not have a specific syntax for multiline comments, you can use triple quotes (''' or \"\"\") to create multiline strings, effectively achieving the same purpose. Although these multiline strings are not actual comments, they serve as a way to include multiline explanations or comments."
   ]
  },
  {
   "cell_type": "code",
   "execution_count": null,
   "id": "d74c4434",
   "metadata": {},
   "outputs": [],
   "source": [
    "'''\n",
    "This is a multiline comment or explanation.\n",
    "It spans multiple lines without affecting the code.\n",
    "'''\n",
    "print(\"Python is powerful!\")\n",
    "\n",
    "\"\"\"\n",
    "Another way to create a multiline comment.\n",
    "This can be useful for more extended explanations.\n",
    "\"\"\"\n"
   ]
  },
  {
   "cell_type": "markdown",
   "id": "97aabab7",
   "metadata": {},
   "source": [
    "While multiline strings can serve as multiline comments, keep in mind that they are actually string literals, and their content may be included in the compiled code if not assigned to a variable or used in a meaningful way.\n",
    "\n",
    "In practice, developers often use single-line comments for brevity and clarity, reserving multiline strings for docstrings (documentation within functions and modules)."
   ]
  },
  {
   "cell_type": "markdown",
   "id": "49f4a996",
   "metadata": {},
   "source": [
    "<div style=\"font-family: arial; padding: 30px; padding-top: 0; padding-bottom: 0;\">\n",
    "    \n",
    "<h2 id=\"Variables\" style=\"color: #d42c06;\">Variables (Built-in Data Types)</h2>\n",
    "\n",
    "</div>"
   ]
  },
  {
   "cell_type": "markdown",
   "id": "7707648c",
   "metadata": {},
   "source": [
    "- **Text Type** - `str`:\n",
    "\n",
    "    The str (string) type represents text in Python. Strings are sequences of characters and can be enclosed in single (') or double (\") quotes.\n"
   ]
  },
  {
   "cell_type": "code",
   "execution_count": null,
   "id": "57757c2d",
   "metadata": {},
   "outputs": [],
   "source": [
    "my_string = 'Hello, Python!'\n",
    "another_string = \"Welcome to the world of strings.\""
   ]
  },
  {
   "cell_type": "markdown",
   "id": "50477b8d",
   "metadata": {},
   "source": [
    "- **Numeric Types** - `int`, `float`, and `complex`:\n",
    "\n",
    "    - `int`: Integer type represents whole numbers without decimals.\n",
    "    - `float`: Floating-point type represents numbers with decimals.\n",
    "    - `complex`: Complex numbers with a real and an imaginary part."
   ]
  },
  {
   "cell_type": "code",
   "execution_count": null,
   "id": "698432b7",
   "metadata": {},
   "outputs": [],
   "source": [
    "my_integer = 42\n",
    "my_float = 3.14\n",
    "my_complex = 2 + 3j"
   ]
  },
  {
   "cell_type": "markdown",
   "id": "141eeae6",
   "metadata": {},
   "source": [
    "- Sequence Types - `list`, `tuple`, and `range`:\n",
    "\n",
    "    - `list`: Ordered, mutable collection of elements.\n",
    "    - `tuple`: Ordered, immutable collection of elements.\n",
    "    - `range`:  Represents a sequence of numbers. ranges arguments are closed for the first of range and closed for the end, range(1, 3) means [1,3)"
   ]
  },
  {
   "cell_type": "code",
   "execution_count": 4,
   "id": "eb90add7",
   "metadata": {},
   "outputs": [],
   "source": [
    "my_list = [1, 2, 3, 4, 5]\n",
    "my_tuple = (10, 20, 30)\n",
    "my_range = range(1, 10, 2) # from 1 to 9 with steps of 2"
   ]
  },
  {
   "cell_type": "markdown",
   "id": "b265c6a8",
   "metadata": {},
   "source": [
    "- **Mapping Type** - dict::\n",
    "\n",
    "    - The `dict` (dictionary) type represents an unordered collection of key-value pairs. Each key must be unique."
   ]
  },
  {
   "cell_type": "code",
   "execution_count": null,
   "id": "3056b4e9",
   "metadata": {},
   "outputs": [],
   "source": [
    "my_dict = {'name': 'John', 'age': 25, 'city': 'New York'}"
   ]
  },
  {
   "cell_type": "markdown",
   "id": "a8abbb17",
   "metadata": {},
   "source": [
    "- **Set Types** - `set` and `frozenset`:\n",
    "\n",
    "    - `set`: Unordered, mutable collection of unique elements.\n",
    "    - `frozenset`: Unordered, immutable collection of unique elements."
   ]
  },
  {
   "cell_type": "code",
   "execution_count": null,
   "id": "f949c8c7",
   "metadata": {},
   "outputs": [],
   "source": [
    "my_set = {1, 2, 3, 4, 5}\n",
    "my_frozenset = frozenset([10, 20, 30])"
   ]
  },
  {
   "cell_type": "markdown",
   "id": "f8b5e076",
   "metadata": {},
   "source": [
    "- **Boolean Type** - `bool`:\n",
    "\n",
    "    The bool type represents boolean values, either True or False.\n"
   ]
  },
  {
   "cell_type": "code",
   "execution_count": null,
   "id": "fb570f84",
   "metadata": {},
   "outputs": [],
   "source": [
    "is_python_fun = True # also considered as 1!\n",
    "is_learning_python = False # also considered as 0!"
   ]
  },
  {
   "cell_type": "markdown",
   "id": "5ca38268",
   "metadata": {},
   "source": [
    "- **Binary Types** - `bytes`, `bytearray`, and `memoryview`:\n",
    "\n",
    "    - `bytes`: Immutable sequence of bytes.\n",
    "    - `bytearray`: Mutable sequence of bytes.\n",
    "    - `memoryview`: Memory view object that exposes an array's buffer interface.\n"
   ]
  },
  {
   "cell_type": "code",
   "execution_count": null,
   "id": "0c882213",
   "metadata": {},
   "outputs": [],
   "source": [
    "my_bytes = b'Hello'\n",
    "my_bytearray = bytearray([65, 66, 67])\n",
    "my_memoryview = memoryview(my_bytearray)"
   ]
  },
  {
   "cell_type": "markdown",
   "id": "2a6a5413",
   "metadata": {},
   "source": [
    "- **None Type** - `None`:\n",
    "\n",
    "    The None type represents the absence of a value or a null value in Python."
   ]
  },
  {
   "cell_type": "code",
   "execution_count": null,
   "id": "f6b42d9b",
   "metadata": {},
   "outputs": [],
   "source": [
    "my_variable = None"
   ]
  },
  {
   "cell_type": "markdown",
   "id": "e1338616",
   "metadata": {},
   "source": [
    "<div style=\"font-family: arial; padding: 30px; padding-top: 0; padding-bottom: 0;\">\n",
    "    \n",
    "<h2 id=\"Type Conversion\" style=\"color: #d42c06;\">Type Conversion</h2>\n",
    "\n",
    "</div>"
   ]
  },
  {
   "cell_type": "markdown",
   "id": "5c518527",
   "metadata": {},
   "source": [
    "### Checking Type of a Variable\n",
    "In Python, you can use the type() function to determine the type of a variable. This is especially useful when dealing with dynamic typing, where variables can change their type during runtime."
   ]
  },
  {
   "cell_type": "code",
   "execution_count": null,
   "id": "a61d49b3",
   "metadata": {},
   "outputs": [],
   "source": [
    "# Example: Checking the type of variables\n",
    "my_variable = 42\n",
    "print(type(my_variable))  # Output: <class 'int'>\n",
    "\n",
    "my_text = \"Hello, Python!\"\n",
    "print(type(my_text))  # Output: <class 'str'>\n",
    "\n",
    "my_list = [1, 2, 3, 4, 5]\n",
    "print(type(my_list))  # Output: <class 'list'>"
   ]
  },
  {
   "cell_type": "markdown",
   "id": "aeb6f7c8",
   "metadata": {},
   "source": [
    "Python allows you to convert variables from one type to another, a process known as type conversion or casting. This can be done using various built-in functions.\n",
    "### Implicit Type Conversion\n",
    "-   Python automatically converts one data type to another when an operation involves two different types."
   ]
  },
  {
   "cell_type": "code",
   "execution_count": null,
   "id": "4c45d7b6",
   "metadata": {},
   "outputs": [],
   "source": [
    "# Example: Implicit Type Conversion\n",
    "result = 10 + 3.5\n",
    "print(result)  # Output: 13.5 (int 10 is implicitly converted to float for the addition)"
   ]
  },
  {
   "cell_type": "markdown",
   "id": "0fde85ae",
   "metadata": {},
   "source": [
    "### Explicit Type Conversion:\n",
    "- You can explicitly convert a variable from one type to another using the relevant built-in functions."
   ]
  },
  {
   "cell_type": "code",
   "execution_count": null,
   "id": "9266516d",
   "metadata": {},
   "outputs": [],
   "source": [
    "# Example: Explicit Type Conversion\n",
    "my_float = 3.14\n",
    "converted_integer = int(my_float)\n",
    "print(converted_integer)  # Output: 3 (float 3.14 is explicitly converted to int)\n",
    "\n",
    "my_string_number = \"42\"\n",
    "converted_number = int(my_string_number)\n",
    "print(converted_number)  # Output: 42 (string '42' is explicitly converted to int)\n"
   ]
  },
  {
   "cell_type": "code",
   "execution_count": null,
   "id": "75884b01",
   "metadata": {},
   "outputs": [],
   "source": [
    "# Converting to List and Tuple\n",
    "my_string = \"Python\"\n",
    "list_version = list(my_string)\n",
    "tuple_version = tuple(my_string)\n",
    "\n",
    "print(list_version)  # Output: ['P', 'y', 't', 'h', 'o', 'n']\n",
    "print(tuple_version)  # Output: ('P', 'y', 't', 'h', 'o', 'n')\n"
   ]
  },
  {
   "cell_type": "markdown",
   "id": "a1102b17",
   "metadata": {},
   "source": [
    "some conversions may result in errors if the types are incompatible. Always validate and handle conversions appropriately in your code."
   ]
  },
  {
   "cell_type": "code",
   "execution_count": null,
   "id": "c15cc315",
   "metadata": {},
   "outputs": [],
   "source": [
    "# Error Example: Attempting to convert a non-numeric string to int\n",
    "invalid_string = \"Hello\"\n",
    "invalid_number = int(invalid_string)\n",
    "\n",
    "# Error Example: Mixing incompatible types\n",
    "mixing_types_result = \"Python\" + 42  # TypeError: can only concatenate str (not \"int\") to str"
   ]
  },
  {
   "cell_type": "markdown",
   "id": "a7cebba6",
   "metadata": {},
   "source": [
    "<div style=\"font-family: arial; padding: 30px; padding-top: 0; padding-bottom: 0;\">\n",
    "    \n",
    "<h2 id=\"Input/Output(I/O)\" style=\"color: #d42c06;\">Input/Output(I/O)</h2>\n",
    "\n",
    "- **Input Function** - `input()`:\n",
    "    \n",
    "    The input() function allows you to interact with the user by taking input from the keyboard. It reads a line of text from the user and returns it as a string.\n",
    "</div>"
   ]
  },
  {
   "cell_type": "code",
   "execution_count": 6,
   "id": "750f8dc6",
   "metadata": {},
   "outputs": [],
   "source": [
    "# Example: Taking user input\n",
    "user_name = input(\"Enter your name: \")\n",
    "print(\"Hello \", user_name, sep=\"\")"
   ]
  },
  {
   "cell_type": "markdown",
   "id": "25afc75e",
   "metadata": {},
   "source": [
    "It's important to note that the input() function always returns a string, so if you need numeric input, you'll need to convert it using type conversion functions."
   ]
  },
  {
   "cell_type": "markdown",
   "id": "22cf6da5",
   "metadata": {},
   "source": [
    "-  **Splitting Input** - `split()`:\n",
    "\n",
    "    The split() method is used to split a string into a list of substrings based on a specified delimiter. By default, the delimiter is a space."
   ]
  },
  {
   "cell_type": "code",
   "execution_count": null,
   "id": "c8f9089d",
   "metadata": {},
   "outputs": [],
   "source": [
    "# Example: Splitting input into a list\n",
    "numbers_input = input(\"Enter numbers separated by space: \")\n",
    "numbers_list = numbers_input.split()\n",
    "\n",
    "print(\"List of numbers:\", numbers_list)"
   ]
  },
  {
   "cell_type": "markdown",
   "id": "61e1738b",
   "metadata": {},
   "source": [
    "You can also specify a custom delimiter by passing it as an argument to the split() method. For example:"
   ]
  },
  {
   "cell_type": "code",
   "execution_count": null,
   "id": "b7b98931",
   "metadata": {},
   "outputs": [],
   "source": [
    "# Example: Splitting input with a custom delimiter\n",
    "csv_input = input(\"Enter comma-separated values: \")\n",
    "csv_list = csv_input.split(',')\n",
    "\n",
    "print(\"List of values:\", csv_list)"
   ]
  },
  {
   "cell_type": "markdown",
   "id": "7cc15b35",
   "metadata": {},
   "source": [
    "- **Print Function** - `print()`:\n",
    "\n",
    "    The print() function is used to display output on the screen. It can take multiple arguments and concatenate them for output."
   ]
  },
  {
   "cell_type": "code",
   "execution_count": 10,
   "id": "98639acc",
   "metadata": {},
   "outputs": [],
   "source": [
    "# Example: Using print to display output\n",
    "name = \"Alice\"\n",
    "age = 30\n",
    "print(\"Name:\", name, \"Age:\", age)\n"
   ]
  },
  {
   "cell_type": "markdown",
   "id": "af94fc96",
   "metadata": {},
   "source": [
    "You can use formatted strings (f-strings) to embed variables and expressions within a string:\n",
    "\n"
   ]
  },
  {
   "cell_type": "code",
   "execution_count": 9,
   "id": "1d806e5d",
   "metadata": {},
   "outputs": [],
   "source": [
    "# Example: Using f-strings with print\n",
    "print(f\"Person: {name}, Age: {age}\")"
   ]
  },
  {
   "cell_type": "markdown",
   "id": "879aa14d",
   "metadata": {},
   "source": [
    "The print() function also accepts optional parameters like sep (separator) and end (end character):"
   ]
  },
  {
   "cell_type": "code",
   "execution_count": 12,
   "id": "e8fcd703",
   "metadata": {},
   "outputs": [],
   "source": [
    "# Example: Using sep and end parameters with print\n",
    "print(\"Python\", \"Programming\", sep='-', end='!')\n",
    "# Output: Python-Programming!"
   ]
  },
  {
   "cell_type": "markdown",
   "id": "72e38af5-57c5-47c8-94c4-77b719591a53",
   "metadata": {},
   "source": [
    "<div style=\"padding: 30px; padding-top: 0; padding-bottom: 0;\">\n",
    "\n",
    "<hr style=\"border-color: #fff;\">\n",
    "\n",
    "</div>"
   ]
  },
  {
   "cell_type": "markdown",
   "id": "bb103277-4745-4d72-bd54-32d161c0ce59",
   "metadata": {},
   "source": [
    "<div style=\"font-family: arial; padding: 30px; padding-top: 0; padding-bottom: 0;\">\n",
    "    \n",
    "<h2 id=\"conclusion\" style=\"color: #d42c06;\">Conclusion</h2>\n",
    "\n",
    "</div>"
   ]
  },
  {
   "cell_type": "code",
   "execution_count": null,
   "id": "b778dbc4-e3ee-4b1d-baf7-067e7773af9a",
   "metadata": {},
   "outputs": [],
   "source": []
  },
  {
   "cell_type": "markdown",
   "id": "16a0474b-c50d-4087-a7f2-5a232fe6f720",
   "metadata": {},
   "source": [
    "<div style=\"padding: 30px; padding-top: 0; padding-bottom: 0;\">\n",
    "\n",
    "<hr style=\"border-color: #fff;\">\n",
    "\n",
    "</div>"
   ]
  },
  {
   "cell_type": "markdown",
   "id": "e0dea3fb-d681-473d-9d33-8a3c504b3fd9",
   "metadata": {},
   "source": [
    "<div style=\"font-family: arial; padding: 30px; padding-top: 0; padding-bottom: 0;\">\n",
    "    \n",
    "<h2 style=\"color: #d42c06;\">References</h2>\n",
    "\n",
    "<ul>\n",
    "    <li>Voron, François. Building Data Science Applications with FastAPI: Develop, manage, and deploy efficient machine learning applications with Python. Packt Publishing Ltd, 2023\n",
    "        .</li>\n",
    "</ul>\n",
    "\n",
    "<hr style=\"margin-top: 25px; border-color: #fff;\">\n",
    "\n",
    "</div>"
   ]
  }
 ],
 "metadata": {
  "kernelspec": {
   "display_name": "Python 3 (ipykernel)",
   "language": "python",
   "name": "python3"
  },
  "language_info": {
   "codemirror_mode": {
    "name": "ipython",
    "version": 3
   },
   "file_extension": ".py",
   "mimetype": "text/x-python",
   "name": "python",
   "nbconvert_exporter": "python",
   "pygments_lexer": "ipython3",
   "version": "3.12.1"
  }
 },
 "nbformat": 4,
 "nbformat_minor": 5
}

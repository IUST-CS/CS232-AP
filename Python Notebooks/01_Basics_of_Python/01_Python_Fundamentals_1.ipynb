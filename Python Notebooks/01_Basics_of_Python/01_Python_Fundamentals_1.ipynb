{
 "cells": [
  {
   "cell_type": "markdown",
   "id": "24971931-144f-402e-9fc4-ede95a159218",
   "metadata": {
    "id": "24971931-144f-402e-9fc4-ede95a159218"
   },
   "source": [
    "<div style=\"font-family: arial; padding: 30px; padding-bottom: 0;\">\n",
    "\n",
    "<h4 style=\"text-align: center;\">In the Name of God</h4>\n",
    "\n",
    "<h2 style=\"text-align: center; color: #103bc9;\">CS232 - Advanced Programming</h2>\n",
    "\n",
    "<h3 style=\"text-align: center; color: #d42c06;\">Iran University of Science and Technology</h3>\n",
    "\n",
    "<h3 style=\"text-align: center; color: #d42c06;\">School of Mathematics and Computer Science</h3>\n",
    "\n",
    "<h4 style=\"padding-top: 7px; text-align: center;\">Winter-Spring 2024</h4>\n",
    "\n",
    "<hr style=\"margin-top: 25px; border-color: #fff;\">\n",
    "\n",
    "<h1 style=\"text-align: center; color: #9c0000;\">Chapter 1: Python Fundamentals</h1>\n",
    "\n",
    "<h3 style=\"padding-top: 7px; text-align: center;\">Fateme Raadfar, Mahdi Porheydari</h3>\n",
    "\n",
    "<hr style=\"margin-top: 25px; border-color: #fff;\">\n",
    "\n",
    "</div>"
   ]
  },
  {
   "cell_type": "markdown",
   "id": "648a3a2d",
   "metadata": {
    "id": "648a3a2d",
    "jp-MarkdownHeadingCollapsed": true
   },
   "source": [
    "<div style=\"font-family: arial; padding: 30px; padding-top: 15px; padding-bottom: 0;\">\n",
    "\n",
    "<hr style=\"margin-top: 25px; border-color: #fff;\">\n",
    "\n",
    "<h2 style=\"text-align: center; color: #186e00;\">Section 1: Python Introduction</h2>\n",
    "\n",
    "<hr style=\"margin-top: 25px; border-color: #fff;\">\n",
    "\n",
    "</div>"
   ]
  },
  {
   "cell_type": "markdown",
   "id": "b2703d52-7195-48ea-8648-327e02dd0761",
   "metadata": {
    "id": "b2703d52-7195-48ea-8648-327e02dd0761"
   },
   "source": [
    "<div style=\"font-family: arial; padding: 30px; padding-top: 0; padding-bottom: 0;\">\n",
    "    \n",
    "<h2 id=\"Brief History\" style=\"color: #d42c06;\">Brief History</h2>\n",
    "\n",
    "Python, conceived in the late 1980s by Guido van Rossum, is a high-level, versatile programming language known for its readability and simplicity. The first official Python release, version 0.9.0, came in February 1991. The language's name, inspired by Monty Python's Flying Circus, reflects its whimsical nature. Python's development has been guided by a philosophy emphasizing code readability and ease of use, making it an excellent choice for both beginners and seasoned developers.\n",
    "</div>"
   ]
  },
  {
   "cell_type": "markdown",
   "id": "d010a5c6",
   "metadata": {
    "id": "d010a5c6"
   },
   "source": [
    "<div style=\"font-family: arial; padding: 30px; padding-top: 0; padding-bottom: 0;\">\n",
    "    \n",
    "<h2 id=\"Common Uses\" style=\"color: #d42c06;\">Common Uses</h2>\n",
    "\n",
    "Python has gained widespread popularity across various domains due to its flexibility and extensive libraries. Some common uses include:\n",
    "\n",
    "1. **Web Development**:\n",
    "    - Frameworks: Python is widely used for web development, with frameworks like Django and Flask providing powerful tools for building scalable and maintainable web applications.\n",
    "    - Backend Development: Python's ease of use makes it a popular choice for server-side development, handling the logic and data processing behind web applications.\n",
    "2. **Data Science and Machine Learning**:\n",
    "    - Libraries: Python has become the de facto language for data science and machine learning, thanks to libraries such as NumPy, Pandas, and TensorFlow. These tools empower developers and data scientists to analyze and model complex datasets efficiently.\n",
    "\n",
    "3. **Automation and Scripting**:\n",
    "    - Productivity: Python's simple syntax and extensive standard library make it an ideal language for automating tasks and writing scripts. It is widely used in system administration, network automation, and routine scripting.\n",
    "\n",
    "4. **Scientific Computing**:\n",
    "    - NumPy and SciPy: Python is a preferred choice in scientific research for its libraries like NumPy and SciPy, which provide support for mathematical and scientific computing tasks.\n",
    "5. **Game Development**:\n",
    "    - Pygame: Python is utilized in game development, particularly for creating simple games and prototypes. The Pygame library facilitates the development of 2D games with ease.\n",
    "\n",
    "6. **Network Programming**:\n",
    "    - Networking Protocols: Python's standard library supports various networking protocols, making it a valuable language for developing network applications and tools.\n",
    "\n",
    "7. **Desktop GUI Applications**:\n",
    "    - Tkinter and PyQt: Python is used for developing desktop applications with graphical user interfaces (GUIs) using frameworks like Tkinter and PyQt.\n",
    "</div>"
   ]
  },
  {
   "cell_type": "markdown",
   "id": "caef7364",
   "metadata": {
    "id": "caef7364"
   },
   "source": [
    "<div style=\"font-family: arial; padding: 30px; padding-top: 0; padding-bottom: 0;\">\n",
    "    \n",
    "<h2 id=\"Comparison with Some Other Programming Languages\" style=\"color: #d42c06;\">Comparison with Some Other Programming Languages</h2>\n",
    "\n",
    "Python stands out among programming languages for its readability and simplicity. Let's delve into a brief comparison with some other popular languages and highlight Python's performance characteristics:\n",
    "- **C++**:\n",
    "\n",
    "    - **Readability and Rapid Development**: While C++ provides more low-level control over hardware, Python's simplicity makes it preferable for rapid development and prototyping.\n",
    "    - **Performance**: C++ generally offers better performance than Python due to its lower-level nature. Python sacrifices some performance for readability and ease of use.\n",
    "<br>\n",
    "\n",
    "### Additional Considerations: Python's Speed and Memory Consumption\n",
    "\n",
    "While Python excels in readability and ease of use, it may not always match the performance of languages like C++ or Java.\n",
    "\n",
    "It is an interpreted language, which means that the code is executed line by line, introducing some overhead.\n",
    "However, advancements like Just-In-Time (JIT) compilation in recent Python versions have improved execution speed.\n",
    "\n",
    "**Execution Speed:**\n",
    "\n",
    "Python is not as fast as compiled languages like C or C++, but its performance has improved with implementations like CPython, PyPy, and optimizations in newer language versions.\n",
    "For computationally intensive tasks, developers may choose to implement critical sections in languages like C and integrate them with Python for overall performance gains.\n",
    "\n",
    "**Memory Consumption:**\n",
    "\n",
    "Python's memory consumption can be higher compared to languages with more explicit memory management, as it utilizes automatic memory management (garbage collection).\n",
    "\n",
    "Developers need to be mindful of memory usage, especially in resource-constrained environments.\n",
    "Techniques like memory profiling and optimizing data structures can help mitigate excessive memory usage.\n",
    "\n",
    "</div>"
   ]
  },
  {
   "cell_type": "markdown",
   "id": "04f0231b",
   "metadata": {
    "id": "04f0231b"
   },
   "source": [
    "<div style=\"font-family: arial; padding: 30px; padding-top: 15px; padding-bottom: 0;\">\n",
    "\n",
    "<hr style=\"margin-top: 25px; border-color: #fff;\">\n",
    "\n",
    "<h2 style=\"text-align: center; color: #186e00;\">Section 2: Installation of Python Interpreter</h2>\n",
    "\n",
    "<hr style=\"margin-top: 25px; border-color: #fff;\">\n",
    "\n",
    "</div>"
   ]
  },
  {
   "cell_type": "markdown",
   "id": "ca6e5632",
   "metadata": {
    "id": "ca6e5632"
   },
   "source": [
    "<div style=\"font-family: arial; padding: 30px; padding-top: 0; padding-bottom: 0;\">\n",
    "    \n",
    "Before diving into Python programming, it's essential to have Python installed on your system. Python can be easily installed on various operating systems. Follow the steps below based on your platform:\n",
    "\n",
    "### **For Windows**:\n",
    "\n",
    "1. Download Python:\n",
    "\n",
    "    - Visit the official Python website at [python.org](https://python.org).\n",
    "    - Navigate to the \"Downloads\" section and click on the latest version of Python for Windows.\n",
    "    - Choose the installer based on your system architecture (usually 64-bit) and download the executable installer.\n",
    "2. Run the Installer:\n",
    "\n",
    "    - Locate the downloaded installer file (e.g., python-3.x.x.exe) and double-click to run it.\n",
    "    - Ensure you check the box that says \"Add Python to PATH\" during installation. This makes it easier to run Python from the command line.\n",
    "3. Complete the Installation:\n",
    "\n",
    "    - Follow the on-screen instructions to complete the installation. Python will be installed in the default location on your system.\n",
    "4. Verify Installation:\n",
    "\n",
    "    - Open a command prompt or PowerShell window and type <code>python --version</code> or <code>python -V</code> to check if Pyt   hon has been installed successfully.\n",
    "    \n",
    "### **For macOS**:\n",
    "\n",
    "1. Installation using Homebrew (recommended):\n",
    "\n",
    "    - Open the Terminal.\n",
    "    - Install Homebrew by following the instructions on the [Homebrew website](https://brew.sh).\n",
    "    - Once Homebrew is installed, run the command ```brew install python ```.\n",
    "2. Verification:\n",
    "\n",
    "    - After installation, verify Python by typing <code>python3 --version</code> in the Terminal. You should see the installed Python version.\n",
    "\n",
    "### **For Linux**:\n",
    "\n",
    "1. Using Package Manager:\n",
    "\n",
    "    - Most Linux distributions come with Python pre-installed. However, you can use your package manager to install or update Python. For example, on Ubuntu, use ```sudo apt-get update``` followed by ```sudo apt-get install python3```.\n",
    "2. Alternative Method - Python Official Release:\n",
    "\n",
    "    - You can also download and install Python from the official website or use tools like pyenv. Follow the instructions on python.org for the official release.\n",
    "3. Verification:\n",
    "\n",
    "    - Open a terminal and type ```python3 --version``` to check if Python has been installed successfully.\n",
    "</div>"
   ]
  },
  {
   "cell_type": "markdown",
   "id": "exquOM76dXE0",
   "metadata": {
    "id": "exquOM76dXE0"
   },
   "source": [
    "<div style=\"font-family: arial; padding: 30px; padding-top: 15px; padding-bottom: 0;\">\n",
    "\n",
    "<hr style=\"margin-top: 25px; border-color: #fff;\">\n",
    "\n",
    "<h2 style=\"text-align: center; color: #186e00;\">Section 3: Basics of Python Syntax</h2>\n",
    "\n",
    "<hr style=\"margin-top: 25px; border-color: #fff;\">\n",
    "\n",
    "</div>"
   ]
  },
  {
   "cell_type": "markdown",
   "id": "ef5788c2",
   "metadata": {
    "id": "ef5788c2"
   },
   "source": [
    "<div style=\"font-family: arial; padding: 30px; padding-top: 0; padding-bottom: 0;\">\n",
    "    \n",
    "<h2 id=\"Comments\" style=\"color: #d42c06;\">Comments</h2>\n",
    "Comments in Python are essential for improving code readability and providing explanations for different parts of your code. There are two types of comments: single-line comments and multiline comments.\n",
    "</div>"
   ]
  },
  {
   "cell_type": "markdown",
   "id": "92b5ad89",
   "metadata": {
    "id": "92b5ad89"
   },
   "source": [
    "Single-line comments start with the hash (#) symbol and continue to the end of the line. They are useful for adding brief explanations or annotations to specific lines of code."
   ]
  },
  {
   "cell_type": "code",
   "execution_count": 6,
   "id": "5b32f7f0",
   "metadata": {
    "colab": {
     "base_uri": "https://localhost:8080/"
    },
    "id": "5b32f7f0",
    "outputId": "f9933094-1464-46b3-c89e-637dcc479308"
   },
   "outputs": [
    {
     "name": "stdout",
     "output_type": "stream",
     "text": [
      "Hello, World!\n"
     ]
    }
   ],
   "source": [
    "# This is a single-line comment\n",
    "print(\"Hello, World!\")  # Another comment after a line of code"
   ]
  },
  {
   "cell_type": "markdown",
   "id": "2ea4f279",
   "metadata": {
    "id": "2ea4f279"
   },
   "source": [
    "While Python does not have a specific syntax for multiline comments, you can use triple quotes (''' or \"\"\") to create multiline strings, effectively achieving the same purpose. Although these multiline strings are not actual comments, they serve as a way to include multiline explanations or comments."
   ]
  },
  {
   "cell_type": "code",
   "execution_count": 1,
   "id": "d74c4434",
   "metadata": {
    "colab": {
     "base_uri": "https://localhost:8080/",
     "height": 72
    },
    "id": "d74c4434",
    "outputId": "866b1ae9-a21c-436a-c0f7-b32dceb1a550"
   },
   "outputs": [
    {
     "data": {
      "text/plain": [
       "'\\nAnother way to create a multiline comment.\\nThis can be useful for more extended explanations.\\n'"
      ]
     },
     "execution_count": 1,
     "metadata": {},
     "output_type": "execute_result"
    }
   ],
   "source": [
    "'''\n",
    "This is a multiline comment or explanation.\n",
    "It spans multiple lines without affecting the code.\n",
    "'''\n",
    "\n",
    "\"\"\"\n",
    "Another way to create a multiline comment.\n",
    "This can be useful for more extended explanations.\n",
    "\"\"\"\n"
   ]
  },
  {
   "cell_type": "markdown",
   "id": "97aabab7",
   "metadata": {
    "id": "97aabab7"
   },
   "source": [
    "While multiline strings can serve as multiline comments, keep in mind that they are actually string literals, and their content may be included in the compiled code if not assigned to a variable or used in a meaningful way.\n",
    "\n",
    "In practice, developers often use single-line comments for brevity and clarity, reserving multiline strings for docstrings (documentation within functions and modules)."
   ]
  },
  {
   "cell_type": "markdown",
   "id": "7ca0f1a4",
   "metadata": {
    "id": "7ca0f1a4"
   },
   "source": [
    "<div style=\"padding: 30px; padding-top: 0; padding-bottom: 0;\">\n",
    "\n",
    "<hr style=\"border-color: #fff;\">\n",
    "\n",
    "</div>"
   ]
  },
  {
   "cell_type": "markdown",
   "id": "49f4a996",
   "metadata": {
    "id": "49f4a996"
   },
   "source": [
    "<div style=\"font-family: arial; padding: 30px; padding-top: 0; padding-bottom: 0;\">\n",
    "    \n",
    "<h2 id=\"Variables\" style=\"color: #d42c06;\">Variables (Built-in Data Types)</h2>\n",
    "\n",
    "</div>"
   ]
  },
  {
   "cell_type": "markdown",
   "id": "7707648c",
   "metadata": {
    "id": "7707648c"
   },
   "source": [
    "- **Text Type** - `str`:\n",
    "\n",
    "    The str (string) type represents text in Python. Strings are sequences of characters and can be enclosed in single (') or double (\") quotes.\n"
   ]
  },
  {
   "cell_type": "code",
   "execution_count": 8,
   "id": "57757c2d",
   "metadata": {
    "id": "57757c2d"
   },
   "outputs": [],
   "source": [
    "my_string = 'Hello, Python!'\n",
    "another_string = \"Welcome to the world of strings.\""
   ]
  },
  {
   "cell_type": "markdown",
   "id": "50477b8d",
   "metadata": {
    "id": "50477b8d"
   },
   "source": [
    "- **Numeric Types** - `int`, `float`, and `complex`:\n",
    "\n",
    "    - `int`: Integer type represents whole numbers without decimals.\n",
    "    - `float`: Floating-point type represents numbers with decimals.\n",
    "    - `complex`: Complex numbers with a real and an imaginary part."
   ]
  },
  {
   "cell_type": "code",
   "execution_count": 9,
   "id": "698432b7",
   "metadata": {
    "id": "698432b7"
   },
   "outputs": [],
   "source": [
    "my_integer = 42\n",
    "my_float = 3.14\n",
    "my_complex = 2 + 3j"
   ]
  },
  {
   "cell_type": "markdown",
   "id": "141eeae6",
   "metadata": {
    "id": "141eeae6"
   },
   "source": [
    "- Sequence Types - `list`, `tuple`, and `range`:\n",
    "\n",
    "    - `list`: Ordered, mutable collection of elements.\n",
    "    - `tuple`: Ordered, immutable collection of elements.\n",
    "    - `range`:  Represents a sequence of numbers. ranges arguments are closed for the first of range and closed for the end, range(1, 3) means [1,3)"
   ]
  },
  {
   "cell_type": "code",
   "execution_count": 10,
   "id": "eb90add7",
   "metadata": {
    "id": "eb90add7"
   },
   "outputs": [],
   "source": [
    "my_list = [1, 2, 3, 4, 5]\n",
    "my_tuple = (10, 20, 30)\n",
    "my_range = range(1, 10, 2) # from 1 to 9 with steps of 2"
   ]
  },
  {
   "cell_type": "markdown",
   "id": "b265c6a8",
   "metadata": {
    "id": "b265c6a8"
   },
   "source": [
    "- **Mapping Type** - dict::\n",
    "\n",
    "    - The `dict` (dictionary) type represents an unordered collection of key-value pairs. Each key must be unique."
   ]
  },
  {
   "cell_type": "code",
   "execution_count": 11,
   "id": "3056b4e9",
   "metadata": {
    "id": "3056b4e9"
   },
   "outputs": [],
   "source": [
    "my_dict = {'name': 'John', 'age': 25, 'city': 'New York'}"
   ]
  },
  {
   "cell_type": "markdown",
   "id": "a8abbb17",
   "metadata": {
    "id": "a8abbb17"
   },
   "source": [
    "- **Set Types** - `set` and `frozenset`:\n",
    "\n",
    "    - `set`: Unordered, mutable collection of unique elements.\n",
    "    - `frozenset`: Unordered, immutable collection of unique elements."
   ]
  },
  {
   "cell_type": "code",
   "execution_count": 12,
   "id": "f949c8c7",
   "metadata": {
    "id": "f949c8c7"
   },
   "outputs": [],
   "source": [
    "my_set = {1, 2, 3, 4, 5}\n",
    "my_frozenset = frozenset([10, 20, 30])"
   ]
  },
  {
   "cell_type": "markdown",
   "id": "f8b5e076",
   "metadata": {
    "id": "f8b5e076"
   },
   "source": [
    "- **Boolean Type** - `bool`:\n",
    "\n",
    "    The bool type represents boolean values, either True or False.\n"
   ]
  },
  {
   "cell_type": "code",
   "execution_count": 13,
   "id": "fb570f84",
   "metadata": {
    "id": "fb570f84"
   },
   "outputs": [],
   "source": [
    "is_python_fun = True # also considered as 1!\n",
    "is_learning_python = False # also considered as 0!"
   ]
  },
  {
   "cell_type": "markdown",
   "id": "5ca38268",
   "metadata": {
    "id": "5ca38268"
   },
   "source": [
    "- **Binary Types** - `bytes`, `bytearray`, and `memoryview`:\n",
    "\n",
    "    - `bytes`: Immutable sequence of bytes.\n",
    "    - `bytearray`: Mutable sequence of bytes.\n",
    "    - `memoryview`: Memory view object that exposes an array's buffer interface.\n"
   ]
  },
  {
   "cell_type": "code",
   "execution_count": 14,
   "id": "0c882213",
   "metadata": {
    "id": "0c882213"
   },
   "outputs": [],
   "source": [
    "my_bytes = b'Hello'\n",
    "my_bytearray = bytearray([65, 66, 67])\n",
    "my_memoryview = memoryview(my_bytearray)"
   ]
  },
  {
   "cell_type": "markdown",
   "id": "2a6a5413",
   "metadata": {
    "id": "2a6a5413"
   },
   "source": [
    "- **None Type** - `None`:\n",
    "\n",
    "    The None type represents the absence of a value or a null value in Python."
   ]
  },
  {
   "cell_type": "code",
   "execution_count": 15,
   "id": "f6b42d9b",
   "metadata": {
    "id": "f6b42d9b"
   },
   "outputs": [],
   "source": [
    "my_variable = None"
   ]
  },
  {
   "cell_type": "markdown",
   "id": "6a9beb20",
   "metadata": {
    "id": "6a9beb20"
   },
   "source": [
    "<div style=\"padding: 30px; padding-top: 0; padding-bottom: 0;\">\n",
    "\n",
    "<hr style=\"border-color: #fff;\">\n",
    "\n",
    "</div>"
   ]
  },
  {
   "cell_type": "markdown",
   "id": "e1338616",
   "metadata": {
    "id": "e1338616"
   },
   "source": [
    "<div style=\"font-family: arial; padding: 30px; padding-top: 0; padding-bottom: 0;\">\n",
    "    \n",
    "<h2 id=\"Type Conversion\" style=\"color: #d42c06;\">Type Conversion</h2>\n",
    "\n",
    "</div>"
   ]
  },
  {
   "cell_type": "markdown",
   "id": "5c518527",
   "metadata": {
    "id": "5c518527"
   },
   "source": [
    "### Checking Type of a Variable\n",
    "In Python, you can use the type() function to determine the type of a variable. This is especially useful when dealing with dynamic typing, where variables can change their type during runtime."
   ]
  },
  {
   "cell_type": "code",
   "execution_count": 16,
   "id": "a61d49b3",
   "metadata": {
    "colab": {
     "base_uri": "https://localhost:8080/"
    },
    "id": "a61d49b3",
    "outputId": "bc7d42c8-98ec-4e66-8371-eee4cca6a876"
   },
   "outputs": [
    {
     "name": "stdout",
     "output_type": "stream",
     "text": [
      "<class 'int'>\n",
      "<class 'str'>\n",
      "<class 'list'>\n"
     ]
    }
   ],
   "source": [
    "# Example: Checking the type of variables\n",
    "my_variable = 42\n",
    "print(type(my_variable))  # Output: <class 'int'>\n",
    "\n",
    "my_text = \"Hello, Python!\"\n",
    "print(type(my_text))  # Output: <class 'str'>\n",
    "\n",
    "my_list = [1, 2, 3, 4, 5]\n",
    "print(type(my_list))  # Output: <class 'list'>"
   ]
  },
  {
   "cell_type": "markdown",
   "id": "aeb6f7c8",
   "metadata": {
    "id": "aeb6f7c8"
   },
   "source": [
    "Python allows you to convert variables from one type to another, a process known as type conversion or casting. This can be done using various built-in functions.\n",
    "### Implicit Type Conversion\n",
    "-   Python automatically converts one data type to another when an operation involves two different types."
   ]
  },
  {
   "cell_type": "code",
   "execution_count": 17,
   "id": "4c45d7b6",
   "metadata": {
    "colab": {
     "base_uri": "https://localhost:8080/"
    },
    "id": "4c45d7b6",
    "outputId": "a8159f62-e2da-425b-ecdc-5fde105489f6"
   },
   "outputs": [
    {
     "name": "stdout",
     "output_type": "stream",
     "text": [
      "13.5\n"
     ]
    }
   ],
   "source": [
    "# Example: Implicit Type Conversion\n",
    "result = 10 + 3.5\n",
    "print(result)  # Output: 13.5 (int 10 is implicitly converted to float for the addition)"
   ]
  },
  {
   "cell_type": "markdown",
   "id": "0fde85ae",
   "metadata": {
    "id": "0fde85ae"
   },
   "source": [
    "### Explicit Type Conversion:\n",
    "- You can explicitly convert a variable from one type to another using the relevant built-in functions."
   ]
  },
  {
   "cell_type": "code",
   "execution_count": 18,
   "id": "9266516d",
   "metadata": {
    "colab": {
     "base_uri": "https://localhost:8080/"
    },
    "id": "9266516d",
    "outputId": "d630c0ca-f486-4a46-9bb4-5a2fb0e91c0c"
   },
   "outputs": [
    {
     "name": "stdout",
     "output_type": "stream",
     "text": [
      "3\n",
      "42\n"
     ]
    }
   ],
   "source": [
    "# Example: Explicit Type Conversion\n",
    "my_float = 3.14\n",
    "converted_integer = int(my_float)\n",
    "print(converted_integer)  # Output: 3 (float 3.14 is explicitly converted to int)\n",
    "\n",
    "my_string_number = \"42\"\n",
    "converted_number = int(my_string_number)\n",
    "print(converted_number)  # Output: 42 (string '42' is explicitly converted to int)\n"
   ]
  },
  {
   "cell_type": "code",
   "execution_count": 19,
   "id": "75884b01",
   "metadata": {
    "colab": {
     "base_uri": "https://localhost:8080/"
    },
    "id": "75884b01",
    "outputId": "9a7f03a3-342b-43f3-9a4f-abb71294c583"
   },
   "outputs": [
    {
     "name": "stdout",
     "output_type": "stream",
     "text": [
      "['P', 'y', 't', 'h', 'o', 'n']\n",
      "('P', 'y', 't', 'h', 'o', 'n')\n"
     ]
    }
   ],
   "source": [
    "# Converting to List and Tuple\n",
    "my_string = \"Python\"\n",
    "list_version = list(my_string)\n",
    "tuple_version = tuple(my_string)\n",
    "\n",
    "print(list_version)  # Output: ['P', 'y', 't', 'h', 'o', 'n']\n",
    "print(tuple_version)  # Output: ('P', 'y', 't', 'h', 'o', 'n')\n"
   ]
  },
  {
   "cell_type": "markdown",
   "id": "a1102b17",
   "metadata": {
    "id": "a1102b17"
   },
   "source": [
    "some conversions may result in errors if the types are incompatible. Always validate and handle conversions appropriately in your code."
   ]
  },
  {
   "cell_type": "code",
   "execution_count": 20,
   "id": "c15cc315",
   "metadata": {
    "colab": {
     "base_uri": "https://localhost:8080/",
     "height": 225
    },
    "id": "c15cc315",
    "outputId": "8308b8c1-7bcf-4b65-8efd-01f81cda2e6d"
   },
   "outputs": [
    {
     "ename": "ValueError",
     "evalue": "invalid literal for int() with base 10: 'Hello'",
     "output_type": "error",
     "traceback": [
      "\u001b[0;31m---------------------------------------------------------------------------\u001b[0m",
      "\u001b[0;31mValueError\u001b[0m                                Traceback (most recent call last)",
      "\u001b[0;32m<ipython-input-20-7e9d6b6ba4ea>\u001b[0m in \u001b[0;36m<cell line: 3>\u001b[0;34m()\u001b[0m\n\u001b[1;32m      1\u001b[0m \u001b[0;31m# Error Example: Attempting to convert a non-numeric string to int\u001b[0m\u001b[0;34m\u001b[0m\u001b[0;34m\u001b[0m\u001b[0m\n\u001b[1;32m      2\u001b[0m \u001b[0minvalid_string\u001b[0m \u001b[0;34m=\u001b[0m \u001b[0;34m\"Hello\"\u001b[0m\u001b[0;34m\u001b[0m\u001b[0;34m\u001b[0m\u001b[0m\n\u001b[0;32m----> 3\u001b[0;31m \u001b[0minvalid_number\u001b[0m \u001b[0;34m=\u001b[0m \u001b[0mint\u001b[0m\u001b[0;34m(\u001b[0m\u001b[0minvalid_string\u001b[0m\u001b[0;34m)\u001b[0m\u001b[0;34m\u001b[0m\u001b[0;34m\u001b[0m\u001b[0m\n\u001b[0m\u001b[1;32m      4\u001b[0m \u001b[0;34m\u001b[0m\u001b[0m\n\u001b[1;32m      5\u001b[0m \u001b[0;31m# Error Example: Mixing incompatible types\u001b[0m\u001b[0;34m\u001b[0m\u001b[0;34m\u001b[0m\u001b[0m\n",
      "\u001b[0;31mValueError\u001b[0m: invalid literal for int() with base 10: 'Hello'"
     ]
    }
   ],
   "source": [
    "# Error Example: Attempting to convert a non-numeric string to int\n",
    "invalid_string = \"Hello\"\n",
    "invalid_number = int(invalid_string)\n",
    "\n",
    "# Error Example: Mixing incompatible types\n",
    "mixing_types_result = \"Python\" + 42  # TypeError: can only concatenate str (not \"int\") to str"
   ]
  },
  {
   "cell_type": "markdown",
   "id": "7fe81791",
   "metadata": {
    "id": "7fe81791"
   },
   "source": [
    "<div style=\"padding: 30px; padding-top: 0; padding-bottom: 0;\">\n",
    "\n",
    "<hr style=\"border-color: #fff;\">\n",
    "\n",
    "</div>"
   ]
  },
  {
   "cell_type": "markdown",
   "id": "a7cebba6",
   "metadata": {
    "id": "a7cebba6"
   },
   "source": [
    "<div style=\"font-family: arial; padding: 30px; padding-top: 0; padding-bottom: 0;\">\n",
    "    \n",
    "<h2 id=\"Input/Output(I/O)\" style=\"color: #d42c06;\">Input/Output(I/O)</h2>\n",
    "\n",
    "</div>"
   ]
  },
  {
   "cell_type": "markdown",
   "id": "a3d57260",
   "metadata": {
    "id": "a3d57260"
   },
   "source": [
    "- **Input Function** - `input()`:\n",
    "    \n",
    "    The input() function allows you to interact with the user by taking input from the keyboard. It reads a line of text from the user and returns it as a string."
   ]
  },
  {
   "cell_type": "code",
   "execution_count": 6,
   "id": "750f8dc6",
   "metadata": {
    "id": "750f8dc6"
   },
   "outputs": [
    {
     "name": "stdin",
     "output_type": "stream",
     "text": [
      "Enter your name:  this is a test\n"
     ]
    },
    {
     "name": "stdout",
     "output_type": "stream",
     "text": [
      "Hello this is a test#"
     ]
    }
   ],
   "source": [
    "# Example: Taking user input\n",
    "user_name = input(\"Enter your name: \")\n",
    "print(\"Hello \", user_name, sep=\"\", end = \"#\")"
   ]
  },
  {
   "cell_type": "markdown",
   "id": "25afc75e",
   "metadata": {
    "id": "25afc75e"
   },
   "source": [
    "It's important to note that the input() function always returns a string, so if you need numeric input, you'll need to convert it using type conversion functions."
   ]
  },
  {
   "cell_type": "markdown",
   "id": "22cf6da5",
   "metadata": {
    "id": "22cf6da5"
   },
   "source": [
    "-  **Splitting Input** - `split()`:\n",
    "\n",
    "    The split() method is used to split a string into a list of substrings based on a specified delimiter. By default, the delimiter is a space."
   ]
  },
  {
   "cell_type": "code",
   "execution_count": 9,
   "id": "c8f9089d",
   "metadata": {
    "id": "c8f9089d"
   },
   "outputs": [
    {
     "name": "stdout",
     "output_type": "stream",
     "text": [
      "List of numbers: ['E', 'ter ', 'mbers separ', 'ated by space: ']\n"
     ]
    }
   ],
   "source": [
    "# Example: Splitting input into a list\n",
    "numbers_input = \"Enuter numbers separnuated by space: \"\n",
    "numbers_list = numbers_input.split(\"nu\")\n",
    "\n",
    "print(\"List of numbers:\", numbers_list)"
   ]
  },
  {
   "cell_type": "markdown",
   "id": "61e1738b",
   "metadata": {
    "id": "61e1738b"
   },
   "source": [
    "You can also specify a custom delimiter by passing it as an argument to the split() method. For example:"
   ]
  },
  {
   "cell_type": "code",
   "execution_count": 7,
   "id": "b7b98931",
   "metadata": {
    "id": "b7b98931"
   },
   "outputs": [
    {
     "name": "stdout",
     "output_type": "stream",
     "text": [
      "List of values: ['1', ' 2', ' 3']\n"
     ]
    }
   ],
   "source": [
    "# Example: Splitting input with a custom delimiter\n",
    "csv_input = input(\"Enter comma-separated values: \")\n",
    "csv_list = csv_input.split(',')\n",
    "\n",
    "print(\"List of values:\", csv_list)"
   ]
  },
  {
   "cell_type": "markdown",
   "id": "7cc15b35",
   "metadata": {
    "id": "7cc15b35"
   },
   "source": [
    "- **Print Function** - `print()`:\n",
    "\n",
    "    The print() function is used to display output on the screen. It can take multiple arguments and concatenate them for output."
   ]
  },
  {
   "cell_type": "code",
   "execution_count": 8,
   "id": "98639acc",
   "metadata": {
    "id": "98639acc"
   },
   "outputs": [
    {
     "name": "stdout",
     "output_type": "stream",
     "text": [
      "Name: Alice Age: 30\n"
     ]
    }
   ],
   "source": [
    "# Example: Using print to display output\n",
    "name = \"Alice\"\n",
    "age = 30\n",
    "print(\"Name:\", name, \"Age:\", age)\n"
   ]
  },
  {
   "cell_type": "markdown",
   "id": "af94fc96",
   "metadata": {
    "id": "af94fc96"
   },
   "source": [
    "You can use formatted strings (f-strings) to embed variables and expressions within a string:\n",
    "\n"
   ]
  },
  {
   "cell_type": "code",
   "execution_count": 9,
   "id": "1d806e5d",
   "metadata": {
    "id": "1d806e5d"
   },
   "outputs": [
    {
     "name": "stdout",
     "output_type": "stream",
     "text": [
      "Person: Alice, Age: 30\n"
     ]
    }
   ],
   "source": [
    "# Example: Using f-strings with print\n",
    "print(f\"Person: {name}, Age: {age}\")"
   ]
  },
  {
   "cell_type": "markdown",
   "id": "879aa14d",
   "metadata": {
    "id": "879aa14d"
   },
   "source": [
    "The print() function also accepts optional parameters like sep (separator) and end (end character):"
   ]
  },
  {
   "cell_type": "code",
   "execution_count": 10,
   "id": "e8fcd703",
   "metadata": {
    "id": "e8fcd703"
   },
   "outputs": [
    {
     "name": "stdout",
     "output_type": "stream",
     "text": [
      "Python-Programming!"
     ]
    }
   ],
   "source": [
    "# Example: Using sep and end parameters with print\n",
    "print(\"Python\", \"Programming\", sep='-', end='!')\n",
    "# Output: Python-Programming!"
   ]
  },
  {
   "cell_type": "markdown",
   "id": "72e38af5-57c5-47c8-94c4-77b719591a53",
   "metadata": {
    "id": "72e38af5-57c5-47c8-94c4-77b719591a53"
   },
   "source": [
    "<div style=\"padding: 30px; padding-top: 0; padding-bottom: 0;\">\n",
    "\n",
    "<hr style=\"border-color: #fff;\">\n",
    "\n",
    "</div>"
   ]
  },
  {
   "cell_type": "markdown",
   "id": "49cd02c9",
   "metadata": {
    "id": "49cd02c9"
   },
   "source": [
    "<div style=\"font-family: arial; padding: 30px; padding-top: 0; padding-bottom: 0;\">\n",
    "    \n",
    "<h2 id=\"Srtings\" style=\"color: #d42c06;\">Strings</h2>\n",
    "\n",
    "In Python, a string is a sequence of characters enclosed in single (') or double (\") quotes. Strings are immutable, meaning their content cannot be changed once they are created.\n",
    "</div>"
   ]
  },
  {
   "cell_type": "code",
   "execution_count": null,
   "id": "afc8a340",
   "metadata": {
    "id": "afc8a340"
   },
   "outputs": [],
   "source": [
    "# Example: Creating strings\n",
    "single_quoted_string = 'Hello, Python!'\n",
    "double_quoted_string = \"Strings are versatile.\""
   ]
  },
  {
   "cell_type": "markdown",
   "id": "c64826e8",
   "metadata": {
    "id": "c64826e8"
   },
   "source": [
    "- **Slicing Strings**\n",
    "\n",
    "    String slicing allows you to extract a portion of a string. The syntax is `string[start:stop:step]`, where start is the starting index, stop is the ending index (exclusive), and step is the step size."
   ]
  },
  {
   "cell_type": "code",
   "execution_count": 11,
   "id": "df6955e1",
   "metadata": {
    "id": "df6955e1"
   },
   "outputs": [
    {
     "name": "stdout",
     "output_type": "stream",
     "text": [
      "Programming\n",
      "Pto rgamn\n"
     ]
    }
   ],
   "source": [
    "# Example: Slicing strings\n",
    "my_string = \"Python Programming\"\n",
    "\n",
    "# Extracting a substring\n",
    "substring = my_string[7:18]\n",
    "print(substring)  # Output: \"Programming\"\n",
    "\n",
    "# Using step to get every second character\n",
    "every_second_char = my_string[::2]\n",
    "print(every_second_char)  # Output: \"Pto rgamn\"\n"
   ]
  },
  {
   "cell_type": "markdown",
   "id": "ba97f65f",
   "metadata": {
    "id": "ba97f65f"
   },
   "source": [
    "- **String Concatenation**\n",
    "\n",
    "    String concatenation is the process of combining two or more strings into a single string."
   ]
  },
  {
   "cell_type": "code",
   "execution_count": 12,
   "id": "11a7cb2d",
   "metadata": {
    "id": "11a7cb2d"
   },
   "outputs": [
    {
     "name": "stdout",
     "output_type": "stream",
     "text": [
      "John Doe\n"
     ]
    }
   ],
   "source": [
    "# Example: String concatenation\n",
    "first_name = \"John\"\n",
    "last_name = \"Doe\"\n",
    "full_name = first_name + \" \" + last_name\n",
    "print(full_name)  # Output: \"John Doe\"\n"
   ]
  },
  {
   "cell_type": "markdown",
   "id": "09545c9a",
   "metadata": {
    "id": "09545c9a"
   },
   "source": [
    "- **Formatting Strings**\n",
    "\n",
    "\n",
    "    String formatting allows you to create dynamic strings by embedding variables and expressions. One common method is using f-strings."
   ]
  },
  {
   "cell_type": "code",
   "execution_count": 13,
   "id": "eaa10007",
   "metadata": {
    "id": "eaa10007"
   },
   "outputs": [
    {
     "name": "stdout",
     "output_type": "stream",
     "text": [
      "Person: Alice, Age: 30\n"
     ]
    }
   ],
   "source": [
    "# Example: Using f-strings for string formatting\n",
    "name = \"Alice\"\n",
    "age = 30\n",
    "formatted_string = f\"Person: {name}, Age: {age}\"\n",
    "print(formatted_string)  # Output: \"Person: Alice, Age: 30\"\n"
   ]
  },
  {
   "cell_type": "markdown",
   "id": "e3bb0cbf",
   "metadata": {
    "id": "e3bb0cbf"
   },
   "source": [
    "- **Escape Characters**\n",
    "\n",
    "    Escape characters are used to include special characters within strings. Common escape characters include \\n for a new line and \\t for a tab."
   ]
  },
  {
   "cell_type": "code",
   "execution_count": 14,
   "id": "a483be26",
   "metadata": {
    "id": "a483be26"
   },
   "outputs": [
    {
     "name": "stdout",
     "output_type": "stream",
     "text": [
      "This is a multiline\n",
      "string with a line break.\n"
     ]
    }
   ],
   "source": [
    "# Example: Using escape characters\n",
    "multiline_string = \"This is a multiline\\nstring with a line break.\"\n",
    "print(multiline_string)"
   ]
  },
  {
   "cell_type": "markdown",
   "id": "935a3762",
   "metadata": {
    "id": "935a3762"
   },
   "source": [
    "<h2 id=\"Srtings\" style=\"color: #d42c06;\">Basic String Methods</h2>\n",
    "\n",
    "Python provides several built-in string methods for common operations:"
   ]
  },
  {
   "cell_type": "code",
   "execution_count": 15,
   "id": "843bcb5f",
   "metadata": {
    "id": "843bcb5f"
   },
   "outputs": [
    {
     "name": "stdout",
     "output_type": "stream",
     "text": [
      "hello, python!\n",
      "HELLO, PYTHON!\n",
      "Hello, python!\n",
      "True\n"
     ]
    }
   ],
   "source": [
    "# Example: Basic string methods\n",
    "my_string = \"Hello, Python!\"\n",
    "\n",
    "# Convert to lowercase\n",
    "lowercase_string = my_string.lower()\n",
    "print(lowercase_string)\n",
    "\n",
    "# Convert to uppercase\n",
    "uppercase_string = my_string.upper()\n",
    "print(uppercase_string)\n",
    "\n",
    "# Capitalize the first letter\n",
    "capitalized_string = my_string.capitalize()\n",
    "print(capitalized_string)\n",
    "\n",
    "# Check if a string starts with a specific prefix\n",
    "starts_with_hello = my_string.startswith(\"Hello\")\n",
    "print(starts_with_hello)"
   ]
  },
  {
   "cell_type": "code",
   "execution_count": 10,
   "id": "6cafb35f",
   "metadata": {
    "id": "6cafb35f"
   },
   "outputs": [
    {
     "name": "stdout",
     "output_type": "stream",
     "text": [
      "7\n",
      "2\n",
      "True\n",
      "********Hello, Python!*******\n",
      "Hello, World!\n",
      "Python Programming\n"
     ]
    }
   ],
   "source": [
    "# Example: Additional string methods\n",
    "my_string = \"Hello, Python!\"\n",
    "\n",
    "# Find the index of a substring\n",
    "index_of_python = my_string.find(\"Python\")\n",
    "print(index_of_python)  # Output: 7\n",
    "\n",
    "# Count occurrences of a substring\n",
    "count_of_l = my_string.count(\"l\")\n",
    "print(count_of_l)  # Output: 3\n",
    "\n",
    "# Check if the string ends with a specific suffix\n",
    "ends_with_exclamation = my_string.endswith(\"!\")\n",
    "print(ends_with_exclamation)  # Output: True\n",
    "\n",
    "# Center the string within a specified width with padding\n",
    "centered_string = my_string.center(29, \"*\")\n",
    "print(centered_string)\n",
    "# Output: \"****Hello, Python!*****\"\n",
    "\n",
    "# Replace occurrences of a substring with another string\n",
    "replaced_string = my_string.replace(\"Python\", \"World\")\n",
    "print(replaced_string)\n",
    "# Output: \"Hello, World!\"\n",
    "\n",
    "# Strip leading and trailing whitespaces\n",
    "whitespace_string = \"    Python Programming    \"\n",
    "stripped_string = whitespace_string.strip()\n",
    "print(stripped_string)\n",
    "# Output: \"Python Programming\"\n"
   ]
  },
  {
   "cell_type": "markdown",
   "id": "ec2da666",
   "metadata": {
    "id": "ec2da666"
   },
   "source": [
    "<div style=\"padding: 30px; padding-top: 0; padding-bottom: 0;\">\n",
    "\n",
    "<hr style=\"border-color: #fff;\">\n",
    "\n",
    "</div>"
   ]
  },
  {
   "cell_type": "markdown",
   "id": "3ee9156b",
   "metadata": {
    "id": "3ee9156b"
   },
   "source": [
    "<div style=\"font-family: arial; padding: 30px; padding-top: 0; padding-bottom: 0;\">\n",
    "    \n",
    "<h2 id=\"Operators\" style=\"color: #d42c06;\">Operators</h2>\n",
    "\n",
    "</div>"
   ]
  },
  {
   "cell_type": "markdown",
   "id": "cc14831f",
   "metadata": {
    "id": "cc14831f"
   },
   "source": [
    "- **Arithmetic Operators**\n",
    "<div style=\"font-family: arial; padding: 30px; padding-top: 0; padding-bottom: 0;\">\n",
    "Arithmetic operators are used to perform mathematical operations.\n",
    "</div>"
   ]
  },
  {
   "cell_type": "code",
   "execution_count": 17,
   "id": "583f01c7",
   "metadata": {
    "id": "583f01c7"
   },
   "outputs": [
    {
     "name": "stdout",
     "output_type": "stream",
     "text": [
      "Addition: 13\n",
      "Subtraction: 7\n",
      "Multiplication: 30\n",
      "Division: 3.3333333333333335\n",
      "Remainder: 1\n",
      "Exponentiation: 1000\n"
     ]
    }
   ],
   "source": [
    "# Example: Arithmetic operators\n",
    "a = 10\n",
    "b = 3\n",
    "\n",
    "addition = a + b\n",
    "subtraction = a - b\n",
    "multiplication = a * b\n",
    "division = a / b\n",
    "remainder = a % b\n",
    "exponentiation = a ** b\n",
    "\n",
    "print(f\"Addition: {addition}\")\n",
    "print(f\"Subtraction: {subtraction}\")\n",
    "print(f\"Multiplication: {multiplication}\")\n",
    "print(f\"Division: {division}\")\n",
    "print(f\"Remainder: {remainder}\")\n",
    "print(f\"Exponentiation: {exponentiation}\")\n"
   ]
  },
  {
   "cell_type": "markdown",
   "id": "812f4a7c",
   "metadata": {
    "id": "812f4a7c"
   },
   "source": [
    "- **Assignment Operators**\n",
    "<div style=\"font-family: arial; padding: 30px; padding-top: 0; padding-bottom: 0;\">\n",
    "Assignment operators are used to assign values to variables.\n",
    "</div>"
   ]
  },
  {
   "cell_type": "code",
   "execution_count": 18,
   "id": "a52db7a1",
   "metadata": {
    "id": "a52db7a1"
   },
   "outputs": [
    {
     "name": "stdout",
     "output_type": "stream",
     "text": [
      "Updated x: 8\n"
     ]
    }
   ],
   "source": [
    "# Example: Assignment operators\n",
    "x = 5\n",
    "\n",
    "# Shortened assignment\n",
    "x += 3  # Equivalent to x = x + 3\n",
    "\n",
    "# Other assignment operators include -=, *=, /=, %=, **=, etc.\n",
    "\n",
    "print(f\"Updated x: {x}\")\n"
   ]
  },
  {
   "cell_type": "markdown",
   "id": "0d4da9db",
   "metadata": {
    "id": "0d4da9db"
   },
   "source": [
    "- **Comparison Operators**\n",
    "<div style=\"font-family: arial; padding: 30px; padding-top: 0; padding-bottom: 0;\">\n",
    "Comparison operators are used to compare values and return Boolean results.\n",
    "</div>"
   ]
  },
  {
   "cell_type": "code",
   "execution_count": 19,
   "id": "e9b872fa",
   "metadata": {
    "id": "e9b872fa"
   },
   "outputs": [
    {
     "name": "stdout",
     "output_type": "stream",
     "text": [
      "Greater than: False\n",
      "Less than or equal: True\n",
      "Equal to: False\n",
      "Not equal to: True\n"
     ]
    }
   ],
   "source": [
    "# Example: Comparison operators\n",
    "a = 10\n",
    "b = 20\n",
    "\n",
    "greater_than = a > b\n",
    "less_than_or_equal = a <= b\n",
    "equal_to = a == b\n",
    "not_equal_to = a != b\n",
    "\n",
    "print(f\"Greater than: {greater_than}\")\n",
    "print(f\"Less than or equal: {less_than_or_equal}\")\n",
    "print(f\"Equal to: {equal_to}\")\n",
    "print(f\"Not equal to: {not_equal_to}\")\n"
   ]
  },
  {
   "cell_type": "markdown",
   "id": "800208d6",
   "metadata": {
    "id": "800208d6"
   },
   "source": [
    "- **Identity Operators**\n",
    "\n",
    "Identity operators are used to compare the memory location of two objects."
   ]
  },
  {
   "cell_type": "code",
   "execution_count": 13,
   "id": "c712ed53",
   "metadata": {
    "id": "c712ed53"
   },
   "outputs": [
    {
     "name": "stdout",
     "output_type": "stream",
     "text": [
      "x is y: False\n",
      "x is z: True\n",
      "x is not y: True\n",
      "False True\n"
     ]
    }
   ],
   "source": [
    "# Example: Identity operators\n",
    "x = [1, 2, 3]\n",
    "y = [1, 2, 3]\n",
    "z = x\n",
    "\n",
    "print(f\"x is y: {x is y}\")  # Output: False\n",
    "print(f\"x is z: {x is z}\")  # Output: True\n",
    "print(f\"x is not y: {x is not y}\")  # Output: True\n",
    "\n",
    "x = (\"abc\",)\n",
    "y = (\"abc\",)\n",
    "z = x\n",
    "\n",
    "print(x is y, x is z)"
   ]
  },
  {
   "cell_type": "markdown",
   "id": "63c92267",
   "metadata": {
    "id": "63c92267"
   },
   "source": [
    "- **Membership Operators**\n",
    "\n",
    "Membership operators are used to test whether a value or variable is found in a sequence."
   ]
  },
  {
   "cell_type": "code",
   "execution_count": 21,
   "id": "da95010d",
   "metadata": {
    "id": "da95010d"
   },
   "outputs": [
    {
     "name": "stdout",
     "output_type": "stream",
     "text": [
      "2 in my_list: True\n",
      "6 not in my_list: True\n"
     ]
    }
   ],
   "source": [
    "# Example: Membership operators\n",
    "my_list = [1, 2, 3, 4, 5]\n",
    "\n",
    "print(f\"2 in my_list: {2 in my_list}\")  # Output: True\n",
    "print(f\"6 not in my_list: {6 not in my_list}\")  # Output: True"
   ]
  },
  {
   "cell_type": "markdown",
   "id": "2ed055f7",
   "metadata": {
    "id": "2ed055f7"
   },
   "source": [
    "- **Bitwise Operators**\n",
    "\n",
    "Bitwise operators perform operations on individual bits of binary numbers."
   ]
  },
  {
   "cell_type": "code",
   "execution_count": 22,
   "id": "83debe1e",
   "metadata": {
    "id": "83debe1e"
   },
   "outputs": [
    {
     "name": "stdout",
     "output_type": "stream",
     "text": [
      "Bitwise AND: 1\n",
      "Bitwise OR: 7\n",
      "Bitwise XOR: 6\n",
      "Bitwise NOT a: -6\n"
     ]
    }
   ],
   "source": [
    "# Example: Bitwise operators\n",
    "a = 5  # Binary: 0101\n",
    "b = 3  # Binary: 0011\n",
    "\n",
    "bitwise_and = a & b  # Binary: 0001 (1 in decimal)\n",
    "bitwise_or = a | b   # Binary: 0111 (7 in decimal)\n",
    "bitwise_xor = a ^ b  # Binary: 0110 (6 in decimal)\n",
    "bitwise_not_a = ~a   # Binary: 1010 (in 2's complement form)\n",
    "\n",
    "print(f\"Bitwise AND: {bitwise_and}\")\n",
    "print(f\"Bitwise OR: {bitwise_or}\")\n",
    "print(f\"Bitwise XOR: {bitwise_xor}\")\n",
    "print(f\"Bitwise NOT a: {bitwise_not_a}\")"
   ]
  },
  {
   "cell_type": "code",
   "execution_count": 23,
   "id": "7f2676a5",
   "metadata": {
    "id": "7f2676a5"
   },
   "outputs": [
    {
     "name": "stdout",
     "output_type": "stream",
     "text": [
      "Bitwise Multiplication: 10\n",
      "Bitwise Halving: 2\n"
     ]
    }
   ],
   "source": [
    "# Bitwise Multiplication (Left Shift)\n",
    "bitwise_multiply = a << 1  # Binary: 1010 (10 in decimal)\n",
    "print(f\"Bitwise Multiplication: {bitwise_multiply}\")\n",
    "\n",
    "# Bitwise Halving (Right Shift)\n",
    "bitwise_halve = a >> 1  # Binary: 0010 (2 in decimal)\n",
    "print(f\"Bitwise Halving: {bitwise_halve}\")"
   ]
  },
  {
   "cell_type": "markdown",
   "id": "9a4682f9",
   "metadata": {
    "id": "9a4682f9"
   },
   "source": [
    "<div style=\"font-family: arial; padding: 30px; padding-top: 15px; padding-bottom: 0;\">\n",
    "\n",
    "<hr style=\"margin-top: 25px; border-color: #fff;\">\n",
    "\n",
    "<h2 style=\"text-align: center; color: #186e00;\">Section 4: Diving into some data structures</h2>\n",
    "\n",
    "<hr style=\"margin-top: 25px; border-color: #fff;\">\n",
    "\n",
    "</div>"
   ]
  },
  {
   "cell_type": "markdown",
   "id": "NgAqt16CUcSP",
   "metadata": {
    "id": "NgAqt16CUcSP"
   },
   "source": [
    "<div style=\"font-family: arial; padding: 30px; padding-top: 0; padding-bottom: 0;\">\n",
    "    \n",
    "<h2 id=\"ds\" style=\"color: #d42c06;\">Lists</h2>\n",
    "</div>"
   ]
  },
  {
   "cell_type": "markdown",
   "id": "_SgzlleyKcof",
   "metadata": {
    "id": "_SgzlleyKcof"
   },
   "source": [
    "\n",
    "<div style=\"font-family: arial; padding: 30px; padding-top: 0; padding-bottom: 0;\">\n",
    "what is a list?\n",
    "<ul>\n",
    "<li>List is an <strong>ordered</strong> sequence of items.</li>\n",
    "<li> it is mutable.\n",
    "<li>All the items in a list do not need to be of the same type.</li>\n",
    "</ul>\n",
    "</div>"
   ]
  },
  {
   "cell_type": "markdown",
   "id": "a-qpetyTLi7k",
   "metadata": {
    "id": "a-qpetyTLi7k"
   },
   "source": [
    "- **Declaring a List**\n",
    "\n",
    "    Declaring a list is pretty straight forward. Items separated by commas are enclosed within brackets <code>[ ]</code>.\n"
   ]
  },
  {
   "cell_type": "code",
   "execution_count": 24,
   "id": "pZN7187-LnWY",
   "metadata": {
    "id": "pZN7187-LnWY"
   },
   "outputs": [
    {
     "name": "stdout",
     "output_type": "stream",
     "text": [
      "[6, 99, 'banana', 'Apple'] is of type <class 'list'>\n"
     ]
    }
   ],
   "source": [
    "x = [6, 99,'banana', 'Apple']\n",
    "print(x, \"is of type\", type(x))"
   ]
  },
  {
   "cell_type": "markdown",
   "id": "3kOiPo9wMUUp",
   "metadata": {
    "id": "3kOiPo9wMUUp"
   },
   "source": [
    "<div style=\"font-family: arial; padding: 30px; padding-top: 0; padding-bottom: 0;\">\n",
    "    \n",
    "<h2 id=\"Operators\" style=\"color: #d42c06;\">List Methods</h2>"
   ]
  },
  {
   "cell_type": "markdown",
   "id": "bCye7Ly6Me-M",
   "metadata": {
    "id": "bCye7Ly6Me-M"
   },
   "source": [
    "- **append()**\n",
    "<div style=\"font-family: arial; padding: 30px; padding-top: 0; padding-bottom: 0;\">\n",
    "append method adds elements at the end of the list.\n",
    "</div>"
   ]
  },
  {
   "cell_type": "code",
   "execution_count": 25,
   "id": "FFYu96FmNMdY",
   "metadata": {
    "id": "FFYu96FmNMdY"
   },
   "outputs": [
    {
     "name": "stdout",
     "output_type": "stream",
     "text": [
      "[2, 5, 6, 7, 8]\n"
     ]
    }
   ],
   "source": [
    "list=[2,5,6,7]\n",
    "list.append(8)\n",
    "print(list)\n"
   ]
  },
  {
   "cell_type": "markdown",
   "id": "ijzOPRDqNT8B",
   "metadata": {
    "id": "ijzOPRDqNT8B"
   },
   "source": [
    "- **pop()**\n",
    "<div style=\"font-family: arial; padding: 30px; padding-top: 0; padding-bottom: 0;\">\n",
    "pop method removes and returns the last value from the List or the given index value.\n",
    "<ul>\n",
    "<li>so giving index to pop method is optional.</li>\n",
    "</ul>\n",
    "</div>"
   ]
  },
  {
   "cell_type": "code",
   "execution_count": 26,
   "id": "fYJ9WlDgNzjR",
   "metadata": {
    "id": "fYJ9WlDgNzjR"
   },
   "outputs": [
    {
     "name": "stdout",
     "output_type": "stream",
     "text": [
      "['apple', 'mango', 'plum']\n",
      "['apple', 'mango', 'orange']\n"
     ]
    }
   ],
   "source": [
    "fruits1 = [\"apple\", \"mango\", \"plum\",'orange']\n",
    "fruits1.pop()\n",
    "print(fruits1)\n",
    "\n",
    "#with index\n",
    "fruits2 = [\"apple\", \"mango\", \"plum\",'orange']\n",
    "fruits2.pop(2)\n",
    "print(fruits2)\n"
   ]
  },
  {
   "cell_type": "markdown",
   "id": "mkBwTh0dOWlW",
   "metadata": {
    "id": "mkBwTh0dOWlW"
   },
   "source": [
    "- **remove()**\n",
    "<div style=\"font-family: arial; padding: 30px; padding-top: 0; padding-bottom: 0;\">\n",
    "remove method removes a given element from the list.\n",
    "\n",
    "</div>"
   ]
  },
  {
   "cell_type": "code",
   "execution_count": 27,
   "id": "tOj09yFyOmw5",
   "metadata": {
    "id": "tOj09yFyOmw5"
   },
   "outputs": [
    {
     "name": "stdout",
     "output_type": "stream",
     "text": [
      "['Canada', 'Iran', 'Turkey']\n"
     ]
    }
   ],
   "source": [
    "countries = ['Canada','Iran','USA','Turkey']\n",
    "countries.remove('USA')\n",
    "print(countries)"
   ]
  },
  {
   "cell_type": "markdown",
   "id": "NQ25kGM_PG7K",
   "metadata": {
    "id": "NQ25kGM_PG7K"
   },
   "source": [
    "- **sort()**\n",
    "<div style=\"font-family: arial; padding: 30px; padding-top: 0; padding-bottom: 0;\">\n",
    "sort() method sorts the elements of a list.\n",
    " It sorts in ascending order by default but you can use some functions to change the sorting format. e.g: reverse and key.\n",
    "</div>"
   ]
  },
  {
   "cell_type": "code",
   "execution_count": 28,
   "id": "aMv0AoKTPglI",
   "metadata": {
    "id": "aMv0AoKTPglI"
   },
   "outputs": [
    {
     "name": "stdout",
     "output_type": "stream",
     "text": [
      "[1, 2, 3, 5, 6, 8]\n"
     ]
    }
   ],
   "source": [
    "random_numbers = [2,5,6,1,8,3]\n",
    "random_numbers.sort()\n",
    "print(random_numbers)"
   ]
  },
  {
   "cell_type": "markdown",
   "id": "4bGDw54APwuo",
   "metadata": {
    "id": "4bGDw54APwuo"
   },
   "source": [
    "- **key parameter**\n",
    "<div style=\"font-family: arial; padding: 30px; padding-top: 0; padding-bottom: 0;\">\n",
    "it lets you sort in a custom manner using its parameters.\n",
    "</div>\n"
   ]
  },
  {
   "cell_type": "code",
   "execution_count": 15,
   "id": "SbrYH892PrLX",
   "metadata": {
    "id": "SbrYH892PrLX"
   },
   "outputs": [
    {
     "name": "stdout",
     "output_type": "stream",
     "text": [
      "['pie', 'book', 'banana', 'Washington']\n"
     ]
    }
   ],
   "source": [
    "#using key parameter\n",
    "words = ['banana', 'pie', 'Washington', 'book']\n",
    "words.sort(key=len) #it sorts words list based on the words length.\n",
    "print(words)\n",
    "\n",
    "# print(len(\"abc\"))"
   ]
  },
  {
   "cell_type": "code",
   "execution_count": 17,
   "id": "ef983067-274e-4c91-9f66-c29f3a5048c4",
   "metadata": {},
   "outputs": [
    {
     "data": {
      "text/plain": [
       "\u001b[0;31mSignature:\u001b[0m \u001b[0mwords\u001b[0m\u001b[0;34m.\u001b[0m\u001b[0msort\u001b[0m\u001b[0;34m(\u001b[0m\u001b[0;34m*\u001b[0m\u001b[0;34m,\u001b[0m \u001b[0mkey\u001b[0m\u001b[0;34m=\u001b[0m\u001b[0;32mNone\u001b[0m\u001b[0;34m,\u001b[0m \u001b[0mreverse\u001b[0m\u001b[0;34m=\u001b[0m\u001b[0;32mFalse\u001b[0m\u001b[0;34m)\u001b[0m\u001b[0;34m\u001b[0m\u001b[0;34m\u001b[0m\u001b[0m\n",
       "\u001b[0;31mDocstring:\u001b[0m\n",
       "Sort the list in ascending order and return None.\n",
       "\n",
       "The sort is in-place (i.e. the list itself is modified) and stable (i.e. the\n",
       "order of two equal elements is maintained).\n",
       "\n",
       "If a key function is given, apply it once to each list item and sort them,\n",
       "ascending or descending, according to their function values.\n",
       "\n",
       "The reverse flag can be set to sort in descending order.\n",
       "\u001b[0;31mType:\u001b[0m      builtin_function_or_method"
      ]
     },
     "metadata": {},
     "output_type": "display_data"
    }
   ],
   "source": [
    "?words.sort"
   ]
  },
  {
   "cell_type": "markdown",
   "id": "zU4IZumxQTOA",
   "metadata": {
    "id": "zU4IZumxQTOA"
   },
   "source": [
    "- **reverse parameter**"
   ]
  },
  {
   "cell_type": "code",
   "execution_count": 30,
   "id": "rncnL721QY0A",
   "metadata": {
    "id": "rncnL721QY0A"
   },
   "outputs": [
    {
     "name": "stdout",
     "output_type": "stream",
     "text": [
      "[7, 5, 3, 2, 1]\n"
     ]
    }
   ],
   "source": [
    "numbers = [1, 3, 5, 7, 2]\n",
    "numbers.sort(reverse=True)\n",
    "print(numbers)\n"
   ]
  },
  {
   "cell_type": "markdown",
   "id": "NEN7rTm9QlT1",
   "metadata": {
    "id": "NEN7rTm9QlT1"
   },
   "source": [
    "- **clear()**\n",
    "<div style=\"font-family: arial; padding: 30px; padding-top: 0; padding-bottom: 0;\">\n",
    "clear methos removes all items and makes the list empty/null.\n",
    "\n",
    "</div>"
   ]
  },
  {
   "cell_type": "code",
   "execution_count": 31,
   "id": "sqqANV9yQxPv",
   "metadata": {
    "id": "sqqANV9yQxPv"
   },
   "outputs": [
    {
     "name": "stdout",
     "output_type": "stream",
     "text": [
      "[]\n"
     ]
    }
   ],
   "source": [
    "numbers = [1, 2, 4, 5, 8, 3]\n",
    "numbers.clear()\n",
    "print(numbers)\n"
   ]
  },
  {
   "cell_type": "markdown",
   "id": "tEaCrq6QeTEJ",
   "metadata": {
    "id": "tEaCrq6QeTEJ"
   },
   "source": [
    "<div style=\"font-family: arial; padding: 30px; padding-top: 0; padding-bottom: 0;\">\n",
    "    \n",
    "<h2 id=\"ds\" style=\"color: #d42c06;\">List Comperhension</h2>\n",
    "</div>"
   ]
  },
  {
   "cell_type": "markdown",
   "id": "OJtXT8nTel5m",
   "metadata": {
    "id": "OJtXT8nTel5m"
   },
   "source": [
    "List comprehensions provide a concise way to create lists. They consist of an expression followed by a for clause, then zero or more for or if clauses. List comprehensions are efficient and readable alternatives to traditional loops for creating lists."
   ]
  },
  {
   "cell_type": "code",
   "execution_count": 22,
   "id": "nK4-Ll5Geq4t",
   "metadata": {
    "id": "nK4-Ll5Geq4t"
   },
   "outputs": [
    {
     "name": "stdout",
     "output_type": "stream",
     "text": [
      "[1, 4, 9, 16, 25]\n",
      "[1, 4, 9, 16, 25]\n"
     ]
    }
   ],
   "source": [
    "# Example 1: List comprehension to create a list of squares\n",
    "squares = [x ** 2 for x in range(1, 6)]\n",
    "print(squares)  # Output: [1, 4, 9, 16, 25]\n",
    "\n",
    "\n",
    "\n",
    "squares = []\n",
    "\n",
    "for x in range(1, 6):\n",
    "    squares.append(x ** 2)\n",
    "\n",
    "print(squares)"
   ]
  },
  {
   "cell_type": "code",
   "execution_count": 33,
   "id": "1ivzoRx-evd1",
   "metadata": {
    "id": "1ivzoRx-evd1"
   },
   "outputs": [
    {
     "name": "stdout",
     "output_type": "stream",
     "text": [
      "[2, 4, 6, 8]\n"
     ]
    }
   ],
   "source": [
    "# Example 2: List comprehension to create a list of even numbers\n",
    "evens = [x for x in range(1, 10, 2)]\n",
    "# or\n",
    "evens = [x for x in range(1, 10) if x % 2 == 0]\n",
    "\n",
    "print(evens)  # Output: [2, 4, 6, 8]"
   ]
  },
  {
   "cell_type": "code",
   "execution_count": 30,
   "id": "5e892726-3233-4a14-9cab-a2e4f963e4fb",
   "metadata": {},
   "outputs": [
    {
     "data": {
      "text/plain": [
       "[1, 2, 2, 4, 3, 6, 4, 8]"
      ]
     },
     "execution_count": 30,
     "metadata": {},
     "output_type": "execute_result"
    }
   ],
   "source": [
    "[x * y for x in range(1, 5) for y in range(1, 2 + 1)]"
   ]
  },
  {
   "cell_type": "code",
   "execution_count": 31,
   "id": "8ea3ba53-aa95-4921-b858-3f9d0da9bb01",
   "metadata": {},
   "outputs": [
    {
     "name": "stdout",
     "output_type": "stream",
     "text": [
      "[1, 2, 3, 4, 2, 4, 6, 8]\n"
     ]
    }
   ],
   "source": [
    "lst = []\n",
    "\n",
    "for y in range(1, 2 + 1):\n",
    "    for x in range(1, 5):\n",
    "        lst.append(x * y)\n",
    "\n",
    "print(lst)"
   ]
  },
  {
   "cell_type": "markdown",
   "id": "RrV-qXQWRK79",
   "metadata": {
    "id": "RrV-qXQWRK79"
   },
   "source": [
    "<div style=\"font-family: arial; padding: 30px; padding-top: 0; padding-bottom: 0;\">\n",
    "    \n",
    "<h2 id=\"Operators\" style=\"color: #d42c06;\">List concatenation</h2>\n",
    "<div style=\"font-family: arial; padding: 30px; padding-top: 0; padding-bottom: 0;\">\n",
    "There are several ways to merge two lists. Here we see:\n",
    "</div>\n"
   ]
  },
  {
   "cell_type": "markdown",
   "id": "6G2_JN9aSLq5",
   "metadata": {
    "id": "6G2_JN9aSLq5"
   },
   "source": [
    "- **Using (+) operator**"
   ]
  },
  {
   "cell_type": "code",
   "execution_count": 34,
   "id": "dm_HPeFuL-kU",
   "metadata": {
    "id": "dm_HPeFuL-kU"
   },
   "outputs": [
    {
     "name": "stdout",
     "output_type": "stream",
     "text": [
      "[1, 2, 3, 4, 5, 6]\n"
     ]
    }
   ],
   "source": [
    "list1 = [1, 2, 3]\n",
    "list2 = [4, 5, 6]\n",
    "combined_list = list1 + list2\n",
    "print(combined_list)"
   ]
  },
  {
   "cell_type": "markdown",
   "id": "OD-vgu6JS63C",
   "metadata": {
    "id": "OD-vgu6JS63C"
   },
   "source": [
    "- **Using the extend() Method**"
   ]
  },
  {
   "cell_type": "code",
   "execution_count": 35,
   "id": "fxPCg5GHTE02",
   "metadata": {
    "id": "fxPCg5GHTE02"
   },
   "outputs": [
    {
     "name": "stdout",
     "output_type": "stream",
     "text": [
      "[1, 2, 3, 4, 5, 6]\n"
     ]
    }
   ],
   "source": [
    "list1 = [1, 2, 3]\n",
    "list2 = [4, 5, 6]\n",
    "list1.extend(list2)\n",
    "print(list1)"
   ]
  },
  {
   "cell_type": "markdown",
   "id": "eOlhwY4GTQn2",
   "metadata": {
    "id": "eOlhwY4GTQn2"
   },
   "source": [
    "- **Using List Comprehension**"
   ]
  },
  {
   "cell_type": "code",
   "execution_count": 33,
   "id": "r2zL9ZSLTS8M",
   "metadata": {
    "id": "r2zL9ZSLTS8M"
   },
   "outputs": [
    {
     "name": "stdout",
     "output_type": "stream",
     "text": [
      "[1, 2, 3, 4, 5, 6]\n"
     ]
    }
   ],
   "source": [
    "list1 = [1, 2, 3]\n",
    "list2 = [4, 5, 6]\n",
    "combined_list = [item for sublist in [list1, list2] for item in sublist]\n",
    "print(combined_list)\n"
   ]
  },
  {
   "cell_type": "markdown",
   "id": "9d1366a3",
   "metadata": {
    "id": "9d1366a3"
   },
   "source": [
    "<div style=\"font-family: arial; padding: 30px; padding-top: 0; padding-bottom: 0;\">\n",
    "    \n",
    "<h2 id=\"ds\" style=\"color: #d42c06;\">Some Tricks and Tips with Lists</h2>\n",
    "</div>"
   ]
  },
  {
   "cell_type": "markdown",
   "id": "183dde46",
   "metadata": {
    "id": "183dde46"
   },
   "source": [
    "- **Reversing a List**\n",
    "\n",
    "    Use slicing with a negative step size to reverse a list.\n"
   ]
  },
  {
   "cell_type": "code",
   "execution_count": 37,
   "id": "7e114fba",
   "metadata": {
    "id": "7e114fba"
   },
   "outputs": [
    {
     "name": "stdout",
     "output_type": "stream",
     "text": [
      "[5, 4, 3, 2, 1]\n"
     ]
    }
   ],
   "source": [
    "my_list = [1, 2, 3, 4, 5]\n",
    "reversed_list = my_list[::-1]\n",
    "print(reversed_list)  # Output: [5, 4, 3, 2, 1]"
   ]
  },
  {
   "cell_type": "markdown",
   "id": "179fe29c",
   "metadata": {
    "id": "179fe29c"
   },
   "source": [
    "- **Flattening Nested Lists**\n",
    "\n",
    "    Use list comprehension to flatten nested lists into a single list.\n"
   ]
  },
  {
   "cell_type": "code",
   "execution_count": 38,
   "id": "06817f03",
   "metadata": {
    "id": "06817f03"
   },
   "outputs": [
    {
     "name": "stdout",
     "output_type": "stream",
     "text": [
      "[1, 2, 3, 4, 5, 6]\n"
     ]
    }
   ],
   "source": [
    "nested_list = [[1, 2], [3, 4], [5, 6]]\n",
    "flattened_list = [item for sublist in nested_list for item in sublist]\n",
    "print(flattened_list)  # Output: [1, 2, 3, 4, 5, 6]"
   ]
  },
  {
   "cell_type": "markdown",
   "id": "a3df6259",
   "metadata": {
    "id": "a3df6259"
   },
   "source": [
    "- **Using Enumerate**\n",
    "\n",
    "    Use <code>enumerate()</code> function to get both the index and value of elements in a list.\n"
   ]
  },
  {
   "cell_type": "code",
   "execution_count": 39,
   "id": "25e49f50",
   "metadata": {
    "id": "25e49f50"
   },
   "outputs": [
    {
     "name": "stdout",
     "output_type": "stream",
     "text": [
      "Index: 0, Color: red\n",
      "Index: 1, Color: green\n",
      "Index: 2, Color: blue\n"
     ]
    }
   ],
   "source": [
    "colors = ['red', 'green', 'blue']\n",
    "for index, color in enumerate(colors):\n",
    "    print(f\"Index: {index}, Color: {color}\")"
   ]
  },
  {
   "cell_type": "markdown",
   "id": "3e901ccb",
   "metadata": {
    "id": "3e901ccb"
   },
   "source": [
    "- **Zip Lists**\n",
    "\n",
    "    Use zip() function to iterate over multiple lists simultaneously.\n"
   ]
  },
  {
   "cell_type": "code",
   "execution_count": 37,
   "id": "618e093e",
   "metadata": {
    "id": "618e093e"
   },
   "outputs": [
    {
     "name": "stdout",
     "output_type": "stream",
     "text": [
      "Name: Alice, Age: 30\n",
      "Name: Bob, Age: 25\n",
      "Name: Charlie, Age: 35\n"
     ]
    }
   ],
   "source": [
    "names = ['Alice', 'Bob', 'Charlie']\n",
    "ages = [30, 25, 35,12]\n",
    "for name, age in zip(names, ages):\n",
    "    print(f\"Name: {name}, Age: {age}\")"
   ]
  },
  {
   "cell_type": "markdown",
   "id": "A1ITR9dQVHd-",
   "metadata": {
    "id": "A1ITR9dQVHd-"
   },
   "source": [
    "<div style=\"font-family: arial; padding: 30px; padding-top: 0; padding-bottom: 0;\">\n",
    "    \n",
    "<h2 id=\"ds\" style=\"color: #d42c06;\">Sets</h2>\n",
    "</div>"
   ]
  },
  {
   "cell_type": "markdown",
   "id": "A8d9U_RiVUX9",
   "metadata": {
    "id": "A8d9U_RiVUX9"
   },
   "source": [
    "\n",
    "<div style=\"font-family: arial; padding: 30px; padding-top: 0; padding-bottom: 0;\">\n",
    "what is a set?\n",
    "<ul>\n",
    "<li>Set is an <strong>unordered collection</strong> of unique items.</li>\n",
    "<li>Set is defined by values separated by \",\" inside braces<code>{ }</code>.\n",
    "<li>Most importantly, sets are immutable.</li>\n",
    "</ul>\n",
    "</div>"
   ]
  },
  {
   "cell_type": "code",
   "execution_count": 41,
   "id": "LHu3N_NiWUlp",
   "metadata": {
    "id": "LHu3N_NiWUlp"
   },
   "outputs": [
    {
     "name": "stdout",
     "output_type": "stream",
     "text": [
      "<class 'set'>\n"
     ]
    }
   ],
   "source": [
    "numbers = {7,1,3,6,9}\n",
    "print(type(numbers))"
   ]
  },
  {
   "cell_type": "markdown",
   "id": "t3LtWil1XBhd",
   "metadata": {
    "id": "t3LtWil1XBhd"
   },
   "source": [
    "<div style=\"font-family: arial; padding: 30px; padding-top: 0; padding-bottom: 0;\">\n",
    "\n",
    "<ul>\n",
    "<li>sets are collections of unique elements.</li>\n",
    "<li>you can perform set operations like union, intersection, and difference to combine or compare sets in meaningful ways.</li>\n",
    "</ul>\n",
    "</div>"
   ]
  },
  {
   "cell_type": "markdown",
   "id": "Bb5tzr0qYwJ2",
   "metadata": {
    "id": "Bb5tzr0qYwJ2"
   },
   "source": [
    "<div style=\"font-family: arial; padding: 30px; padding-top: 0; padding-bottom: 0;\">\n",
    "    \n",
    "<h2 id=\"Operators\" style=\"color: #d42c06;\">Set Methods</h2>"
   ]
  },
  {
   "cell_type": "markdown",
   "id": "2306de95",
   "metadata": {
    "id": "2306de95"
   },
   "source": [
    "- **Union**\n",
    "\n",
    "<div style=\"font-family: arial; padding: 30px; padding-top: 0; padding-bottom: 0;\">\n",
    "Returns the union set of two sets.\n",
    "</div>"
   ]
  },
  {
   "cell_type": "code",
   "execution_count": 42,
   "id": "7lFJSdrUX57X",
   "metadata": {
    "id": "7lFJSdrUX57X"
   },
   "outputs": [
    {
     "name": "stdout",
     "output_type": "stream",
     "text": [
      "{1, 2, 3, 4, 5}\n"
     ]
    }
   ],
   "source": [
    "#union\n",
    "\n",
    "set1 = {1, 2, 3}\n",
    "set2 = {3, 4, 5}\n",
    "union_set = set1.union(set2)\n",
    "print(union_set)"
   ]
  },
  {
   "cell_type": "markdown",
   "id": "0dd8c2f6",
   "metadata": {
    "id": "0dd8c2f6"
   },
   "source": [
    "- **Intersection**\n",
    "\n",
    "<div style=\"font-family: arial; padding: 30px; padding-top: 0; padding-bottom: 0;\">\n",
    "Returns the Intersection set of two sets.\n",
    "</div>"
   ]
  },
  {
   "cell_type": "code",
   "execution_count": 43,
   "id": "hpr7QxlHYHJW",
   "metadata": {
    "id": "hpr7QxlHYHJW"
   },
   "outputs": [
    {
     "name": "stdout",
     "output_type": "stream",
     "text": [
      "{3}\n"
     ]
    }
   ],
   "source": [
    "#intersection\n",
    "\n",
    "set1 = {1, 2, 3}\n",
    "set2 = {3, 4, 5}\n",
    "intersection_set = set1.intersection(set2)\n",
    "print(intersection_set)"
   ]
  },
  {
   "cell_type": "markdown",
   "id": "5c823b69",
   "metadata": {
    "id": "5c823b69"
   },
   "source": [
    "- **Difference**\n",
    "\n",
    "<div style=\"font-family: arial; padding: 30px; padding-top: 0; padding-bottom: 0;\">\n",
    "Returns the differnce set between two sets.\n",
    "</div>"
   ]
  },
  {
   "cell_type": "code",
   "execution_count": 44,
   "id": "KIgw9-SjYVE-",
   "metadata": {
    "id": "KIgw9-SjYVE-"
   },
   "outputs": [
    {
     "name": "stdout",
     "output_type": "stream",
     "text": [
      "{1, 2}\n"
     ]
    }
   ],
   "source": [
    "#difference\n",
    "\n",
    "set1 = {1, 2, 3}\n",
    "set2 = {3, 4, 5}\n",
    "difference_set = set1.difference(set2)\n",
    "print(difference_set)"
   ]
  },
  {
   "cell_type": "markdown",
   "id": "1uLX4IsSYzeC",
   "metadata": {
    "id": "1uLX4IsSYzeC"
   },
   "source": [
    "- **add()**\n",
    "<div style=\"font-family: arial; padding: 30px; padding-top: 0; padding-bottom: 0;\">\n",
    "Adds an element to a set. If the element is already in the set, the set doesn't change.\n",
    "\n",
    "</div>"
   ]
  },
  {
   "cell_type": "code",
   "execution_count": 45,
   "id": "mrAhZvhOY5zH",
   "metadata": {
    "id": "mrAhZvhOY5zH"
   },
   "outputs": [
    {
     "name": "stdout",
     "output_type": "stream",
     "text": [
      "{1, 2, 3, 4}\n"
     ]
    }
   ],
   "source": [
    "my_set = {1, 2, 3}\n",
    "my_set.add(4)\n",
    "print(my_set)"
   ]
  },
  {
   "cell_type": "markdown",
   "id": "WnGFSkUiZGa8",
   "metadata": {
    "id": "WnGFSkUiZGa8"
   },
   "source": [
    "- **remove()**\n",
    "<div style=\"font-family: arial; padding: 30px; padding-top: 0; padding-bottom: 0;\">\n",
    "Removes an element from the set. Raises a KeyError if the element is not present.\n",
    "</div>"
   ]
  },
  {
   "cell_type": "code",
   "execution_count": 46,
   "id": "3uRMRIBTZQpO",
   "metadata": {
    "id": "3uRMRIBTZQpO"
   },
   "outputs": [
    {
     "name": "stdout",
     "output_type": "stream",
     "text": [
      "{'fateme', 'ali', 'reza'}\n"
     ]
    }
   ],
   "source": [
    "names= {'ali', 'reza', 'saeed', 'fateme'}\n",
    "names.remove('saeed')\n",
    "print(names)"
   ]
  },
  {
   "cell_type": "markdown",
   "id": "MJCETc-AZoBZ",
   "metadata": {
    "id": "MJCETc-AZoBZ"
   },
   "source": [
    "- **pop()**\n",
    "<div style=\"font-family: arial; padding: 30px; padding-top: 0; padding-bottom: 0;\">\n",
    "Removes and returns an arbitrary set element. Raises a KeyError if the set is empty.\n",
    "</div>"
   ]
  },
  {
   "cell_type": "code",
   "execution_count": 47,
   "id": "r8jmkWViZywp",
   "metadata": {
    "id": "r8jmkWViZywp"
   },
   "outputs": [
    {
     "name": "stdout",
     "output_type": "stream",
     "text": [
      "1\n",
      "{2, 3, 4}\n"
     ]
    }
   ],
   "source": [
    "my_set = {1, 2, 4, 3}\n",
    "print(my_set.pop())\n",
    "print(my_set)\n"
   ]
  },
  {
   "cell_type": "markdown",
   "id": "t4iCrZJOaUwF",
   "metadata": {
    "id": "t4iCrZJOaUwF"
   },
   "source": [
    "- **update()**\n",
    "<div style=\"font-family: arial; padding: 30px; padding-top: 0; padding-bottom: 0;\">\n",
    "Adds elements from other_set to the set.\n",
    "</div>"
   ]
  },
  {
   "cell_type": "code",
   "execution_count": 48,
   "id": "r_WPWqlyaZwu",
   "metadata": {
    "id": "r_WPWqlyaZwu"
   },
   "outputs": [
    {
     "name": "stdout",
     "output_type": "stream",
     "text": [
      "{1, 2, 3, 4, 5}\n"
     ]
    }
   ],
   "source": [
    "set1 = {1, 2, 3}\n",
    "set2 = {3, 4, 5}\n",
    "set1.update(set2)\n",
    "print(set1)"
   ]
  },
  {
   "cell_type": "markdown",
   "id": "1-wuCMPaaekD",
   "metadata": {
    "id": "1-wuCMPaaekD"
   },
   "source": [
    "- **discard()**\n",
    "<div style=\"font-family: arial; padding: 30px; padding-top: 0; padding-bottom: 0;\">\n",
    "Removes an element from the set if it is a member. If the element is not a member, do nothing.\n",
    "</div>"
   ]
  },
  {
   "cell_type": "code",
   "execution_count": 39,
   "id": "KyuhE60XalMb",
   "metadata": {
    "id": "KyuhE60XalMb"
   },
   "outputs": [
    {
     "name": "stdout",
     "output_type": "stream",
     "text": [
      "{1, 2}\n"
     ]
    }
   ],
   "source": [
    "my_set = {1, 2, 3}\n",
    "my_set.discard(3)\n",
    "print(my_set)\n",
    "my_set.discard(3)\n",
    "#doesnt raise any error as you see!"
   ]
  },
  {
   "cell_type": "markdown",
   "id": "865e835c",
   "metadata": {
    "id": "865e835c"
   },
   "source": [
    "<div style=\"font-family: arial; padding: 30px; padding-top: 0; padding-bottom: 0;\">\n",
    "\n",
    "<h2 id=\"Srtings\" style=\"color: #d42c06;\">Bitwise Operations on Sets</h2>"
   ]
  },
  {
   "cell_type": "code",
   "execution_count": 54,
   "id": "398e6887",
   "metadata": {
    "id": "398e6887"
   },
   "outputs": [
    {
     "name": "stdout",
     "output_type": "stream",
     "text": [
      "Bitwise Union: {1, 2, 3, 4, 5, 6, 7, 8}\n",
      "Bitwise Intersection: {4, 5}\n",
      "Bitwise Difference: {1, 2, 3}\n",
      "Bitwise Symmetric Difference: {1, 2, 3, 6, 7, 8}\n"
     ]
    }
   ],
   "source": [
    "# Define sets\n",
    "set1 = {1, 2, 3, 4, 5}\n",
    "set2 = {4, 5, 6, 7, 8}\n",
    "\n",
    "# Bitwise operations\n",
    "bitwise_union = set1 | set2\n",
    "bitwise_intersection = set1 & set2\n",
    "bitwise_difference = set1 - set2\n",
    "bitwise_symmetric_difference = set1 ^ set2\n",
    "\n",
    "# Print results\n",
    "print(\"Bitwise Union:\", bitwise_union)\n",
    "print(\"Bitwise Intersection:\", bitwise_intersection)\n",
    "print(\"Bitwise Difference:\", bitwise_difference)\n",
    "print(\"Bitwise Symmetric Difference:\", bitwise_symmetric_difference)\n"
   ]
  },
  {
   "cell_type": "markdown",
   "id": "9a4f8aeb",
   "metadata": {
    "id": "9a4f8aeb"
   },
   "source": [
    "<div style=\"font-family: arial; padding: 30px; padding-top: 0; padding-bottom: 0;\">\n",
    "    \n",
    "<h2 id=\"Operators\" style=\"color: #d42c06;\">Tuples</h2>"
   ]
  },
  {
   "cell_type": "markdown",
   "id": "Xif9kSsFKO0V",
   "metadata": {
    "id": "Xif9kSsFKO0V"
   },
   "source": [
    "<div style=\"font-family: arial; padding: 30px; padding-top: 0; padding-bottom: 0;\">\n",
    "what is a tuple?\n",
    "<ul>\n",
    "<li>Tuple is an ordered sequence of items same as a list..</li>\n",
    "<li>they are immutable, which means they are unchangable.that is why they are faster!\n",
    "<li>once you create a tuple, you can not modify it.</li>\n",
    "<li>Tuple is defined within parentheses <code>()</code> where items are separated by commas.</li>\n",
    "</ul>\n",
    "</div>"
   ]
  },
  {
   "cell_type": "code",
   "execution_count": 55,
   "id": "b778dbc4-e3ee-4b1d-baf7-067e7773af9a",
   "metadata": {
    "id": "b778dbc4-e3ee-4b1d-baf7-067e7773af9a"
   },
   "outputs": [
    {
     "name": "stdout",
     "output_type": "stream",
     "text": [
      "<class 'tuple'>\n"
     ]
    }
   ],
   "source": [
    "tuple1 = (9, 'apple', 3 + 6j)\n",
    "print(type(tuple1))"
   ]
  },
  {
   "cell_type": "markdown",
   "id": "SAAFGqeSen2A",
   "metadata": {
    "id": "SAAFGqeSen2A"
   },
   "source": [
    "<div style=\"font-family: arial; padding: 30px; padding-top: 0; padding-bottom: 0;\">\n",
    "\n",
    "<ul>\n",
    "Tuples are immutable, meaning their contents cannot be changed after they are created.<br>\n",
    "Attempting to alter the content of a tuple results in a TypeError. Here you can see:\n",
    "</ul>\n",
    "</div>"
   ]
  },
  {
   "cell_type": "code",
   "execution_count": 56,
   "id": "UXvVMrvte5WU",
   "metadata": {
    "id": "UXvVMrvte5WU"
   },
   "outputs": [
    {
     "ename": "TypeError",
     "evalue": "'tuple' object does not support item assignment",
     "output_type": "error",
     "traceback": [
      "\u001b[0;31m---------------------------------------------------------------------------\u001b[0m",
      "\u001b[0;31mTypeError\u001b[0m                                 Traceback (most recent call last)",
      "\u001b[0;32m<ipython-input-56-901e16d98270>\u001b[0m in \u001b[0;36m<module>\u001b[0;34m\u001b[0m\n\u001b[1;32m      1\u001b[0m \u001b[0mmy_tuple\u001b[0m \u001b[0;34m=\u001b[0m \u001b[0;34m(\u001b[0m\u001b[0;36m1\u001b[0m\u001b[0;34m,\u001b[0m \u001b[0;36m2\u001b[0m\u001b[0;34m,\u001b[0m \u001b[0;36m3\u001b[0m\u001b[0;34m)\u001b[0m\u001b[0;34m\u001b[0m\u001b[0;34m\u001b[0m\u001b[0m\n\u001b[1;32m      2\u001b[0m \u001b[0;31m# The following line would raise an error:\u001b[0m\u001b[0;34m\u001b[0m\u001b[0;34m\u001b[0m\u001b[0;34m\u001b[0m\u001b[0m\n\u001b[0;32m----> 3\u001b[0;31m \u001b[0mmy_tuple\u001b[0m\u001b[0;34m[\u001b[0m\u001b[0;36m1\u001b[0m\u001b[0;34m]\u001b[0m \u001b[0;34m=\u001b[0m \u001b[0;36m20\u001b[0m\u001b[0;34m\u001b[0m\u001b[0;34m\u001b[0m\u001b[0m\n\u001b[0m",
      "\u001b[0;31mTypeError\u001b[0m: 'tuple' object does not support item assignment"
     ]
    }
   ],
   "source": [
    "my_tuple = (1, 2, 3)\n",
    "# The following line would raise an error:\n",
    "my_tuple[1] = 20"
   ]
  },
  {
   "cell_type": "markdown",
   "id": "X8gVnHhygmo8",
   "metadata": {
    "id": "X8gVnHhygmo8"
   },
   "source": [
    "<div style=\"font-family: arial; padding: 30px; padding-top: 0; padding-bottom: 0;\">\n",
    "    \n",
    "<h2 id=\"Operators\" style=\"color: #d42c06;\">Unpacking Tuples</h2>"
   ]
  },
  {
   "cell_type": "markdown",
   "id": "iMTrQ47sfN1u",
   "metadata": {
    "id": "iMTrQ47sfN1u"
   },
   "source": [
    "<div style=\"font-family: arial; padding: 30px; padding-top: 0; padding-bottom: 0;\">\n",
    "<ul>\n",
    "<li>Tuple unpacking is a convenient feature in Python that allows you to assign each item in a tuple to a separate variable in a single statement.</li>\n",
    "<li>This process simplifies working with tuples and iterables by enabling direct access to their elements without the need for indexing.</li>\n",
    "\n",
    "</ul>\n",
    "</div>"
   ]
  },
  {
   "cell_type": "markdown",
   "id": "cc2_jpmehVcv",
   "metadata": {
    "id": "cc2_jpmehVcv"
   },
   "source": [
    "- **basic unpacking**\n",
    "<div style=\"font-family: arial; padding: 30px; padding-top: 0; padding-bottom: 0;\">\n",
    "As you see, 'a', 'b', and 'c' are assigned the values of the elements in my_tuple in order.\n",
    "</div>"
   ]
  },
  {
   "cell_type": "code",
   "execution_count": 47,
   "id": "iBak_7K4hak8",
   "metadata": {
    "id": "iBak_7K4hak8"
   },
   "outputs": [
    {
     "name": "stdout",
     "output_type": "stream",
     "text": [
      "a\n",
      "b\n",
      "['c', 'd', 'e', 'f']\n"
     ]
    }
   ],
   "source": [
    "my_tuple = \"abcdef\"\n",
    "a, b, *c = my_tuple\n",
    "print(a)\n",
    "print(b)\n",
    "print(c)"
   ]
  },
  {
   "cell_type": "markdown",
   "id": "0yQMZJ54h65a",
   "metadata": {
    "id": "0yQMZJ54h65a"
   },
   "source": [
    "- **Unpacking with an Asterisk (*)**\n",
    "<div style=\"font-family: arial; padding: 30px; padding-top: 0; padding-bottom: 0;\">\n",
    "Sometimes, you might not know the exact length of a tuple or you're only interested in a part of it. you can use this:\n",
    "</div>"
   ]
  },
  {
   "cell_type": "code",
   "execution_count": 58,
   "id": "RSZL0Kari6nf",
   "metadata": {
    "id": "RSZL0Kari6nf"
   },
   "outputs": [
    {
     "name": "stdout",
     "output_type": "stream",
     "text": [
      "russia\n",
      "USA\n",
      "['australia', 'india', 'iran']\n"
     ]
    }
   ],
   "source": [
    "countries = ('russia', 'USA','australia', 'india', 'iran')\n",
    "middle_east, america, *rest = countries\n",
    "print(middle_east)    # Output: russia\n",
    "print(america)    # Output: USA\n",
    "print(rest)   #output:list of others"
   ]
  },
  {
   "cell_type": "markdown",
   "id": "VzEWOPCyjh_w",
   "metadata": {
    "id": "VzEWOPCyjh_w"
   },
   "source": [
    "<div style=\"font-family: arial; padding: 30px; padding-top: 0; padding-bottom: 0;\">\n",
    "    \n",
    "<h2 id=\"Operators\" style=\"color: #d42c06;\">Joining Tuples</h2>"
   ]
  },
  {
   "cell_type": "markdown",
   "id": "M0sqf1JHkmR1",
   "metadata": {
    "id": "M0sqf1JHkmR1"
   },
   "source": [
    "<div style=\"font-family: arial; padding: 30px; padding-top: 0; padding-bottom: 0;\">\n",
    "Since tuples are immutable, joining tuples does not modify the original tuples; instead, it creates a new tuple containing elements from the tuples being joined.\n",
    "</div>"
   ]
  },
  {
   "cell_type": "markdown",
   "id": "FkA_z2iFkx8T",
   "metadata": {
    "id": "FkA_z2iFkx8T"
   },
   "source": [
    "- **Using the tuple() Constructor with Iterables**\n",
    "<div style=\"font-family: arial; padding: 30px; padding-top: 0; padding-bottom: 0;\">\n",
    "If you have some tuples or lists, you can use the tuple() constructor with a generator expression or a loop to iterate through elements.\n",
    "</div>"
   ]
  },
  {
   "cell_type": "code",
   "execution_count": 59,
   "id": "4DH6aj-MlJuz",
   "metadata": {
    "id": "4DH6aj-MlJuz"
   },
   "outputs": [
    {
     "name": "stdout",
     "output_type": "stream",
     "text": [
      "(1, 2, 3, 'a', 'b', 'c')\n"
     ]
    }
   ],
   "source": [
    "list1 = [1, 2, 3]\n",
    "tuple1 = ('a', 'b', 'c')\n",
    "joined_tuple = tuple(item for iterable in (list1, tuple1) for item in iterable)\n",
    "print(joined_tuple)"
   ]
  },
  {
   "cell_type": "code",
   "execution_count": 48,
   "id": "81e75b94-15c9-4377-a610-764f0af47dfc",
   "metadata": {},
   "outputs": [
    {
     "name": "stdout",
     "output_type": "stream",
     "text": [
      "A B C\n"
     ]
    }
   ],
   "source": [
    "print(*\"ABC\")"
   ]
  },
  {
   "cell_type": "markdown",
   "id": "Kvfg3bzileMd",
   "metadata": {
    "id": "Kvfg3bzileMd"
   },
   "source": [
    "- **Using the + Operator**"
   ]
  },
  {
   "cell_type": "code",
   "execution_count": 60,
   "id": "Umg8AFGklpBB",
   "metadata": {
    "id": "Umg8AFGklpBB"
   },
   "outputs": [
    {
     "name": "stdout",
     "output_type": "stream",
     "text": [
      "(1, 2, 3, 4, 5, 6)\n"
     ]
    }
   ],
   "source": [
    "tuple1 = (1, 2, 3)\n",
    "tuple2 = (4, 5, 6)\n",
    "joined_tuple = tuple1 + tuple2\n",
    "print(joined_tuple)"
   ]
  },
  {
   "cell_type": "markdown",
   "id": "_-agcGQflxsu",
   "metadata": {
    "id": "_-agcGQflxsu"
   },
   "source": [
    "<div style=\"font-family: arial; padding: 30px; padding-top: 0; padding-bottom: 0;\">\n",
    "    \n",
    "<h2 id=\"Operators\" style=\"color: #d42c06;\">Tuple Methods</h2>"
   ]
  },
  {
   "cell_type": "markdown",
   "id": "mMAoKYdBmCt-",
   "metadata": {
    "id": "mMAoKYdBmCt-"
   },
   "source": [
    "<div style=\"font-family: arial; padding: 30px; padding-top: 0; padding-bottom: 0;\">\n",
    "<ul>\n",
    "<li>Tuples in Python are simple but powerful data structures. </li>\n",
    "<li>As we mentioned earlier, they are immutable.</li>\n",
    "<li>This immutability gives them certain advantages, such as being hashable and usable as keys in dictionaries (we will talk about it later).</li>\n",
    "</ul>\n",
    "</div>"
   ]
  },
  {
   "cell_type": "markdown",
   "id": "K8GIhzqnmfvz",
   "metadata": {
    "id": "K8GIhzqnmfvz"
   },
   "source": [
    "- **index()**\n",
    "<div style=\"font-family: arial; padding: 30px; padding-top: 0; padding-bottom: 0;\">\n",
    "Returns the first index of a specified value in the tuple.\n",
    "</div>"
   ]
  },
  {
   "cell_type": "code",
   "execution_count": 61,
   "id": "3_pfux27m6IM",
   "metadata": {
    "id": "3_pfux27m6IM"
   },
   "outputs": [
    {
     "name": "stdout",
     "output_type": "stream",
     "text": [
      "The first 'Phoenix' was spotted at position: 2\n"
     ]
    }
   ],
   "source": [
    "bird_log = ('Sparrow', 'Robin', 'Phoenix', 'Canary', 'Phoenix')\n",
    "first_phoenix_sighting = bird_log.index('Phoenix')\n",
    "print(f\"The first 'Phoenix' was spotted at position: {first_phoenix_sighting}\")"
   ]
  },
  {
   "cell_type": "markdown",
   "id": "cfzzEwcDm8IB",
   "metadata": {
    "id": "cfzzEwcDm8IB"
   },
   "source": [
    "<div style=\"font-family: arial; padding: 30px; padding-top: 0; padding-bottom: 0;\">\n",
    "exp discription: Imagine you're a birdwatcher keeping a log of birds during your expedition. Each bird spotted is recorded in order of sighting. You're particularly interested in the first sighting of a rare bird named \"Phoenix\".\n",
    "</div>"
   ]
  },
  {
   "cell_type": "markdown",
   "id": "rVooDCU8nVaJ",
   "metadata": {
    "id": "rVooDCU8nVaJ"
   },
   "source": [
    "- **count()**\n",
    "<div style=\"font-family: arial; padding: 30px; padding-top: 0; padding-bottom: 0;\">\n",
    "Returns the number of times a specified value appears in the tuple.<br>\n",
    "exp: Imagine you're an astronomer counting the number of times specific types of stars appear in your observations.\n",
    "</div>"
   ]
  },
  {
   "cell_type": "code",
   "execution_count": 62,
   "id": "FceGXE77nsPU",
   "metadata": {
    "id": "FceGXE77nsPU"
   },
   "outputs": [
    {
     "name": "stdout",
     "output_type": "stream",
     "text": [
      "Type 'A' stars observed: 4\n"
     ]
    }
   ],
   "source": [
    "observations = ('A', 'B', 'A', 'C', 'B', 'A', 'D', 'A')\n",
    "type_a_count = observations.count('A')\n",
    "print(f\"Type 'A' stars observed: {type_a_count}\")"
   ]
  },
  {
   "cell_type": "markdown",
   "id": "3xFYaqx5oVpl",
   "metadata": {
    "id": "3xFYaqx5oVpl"
   },
   "source": [
    "- **max() and min()**\n",
    "<div style=\"font-family: arial; padding: 30px; padding-top: 0; padding-bottom: 0;\">\n",
    "Return the largest and smallest elements in a tuple, respectively.\n",
    "</div>"
   ]
  },
  {
   "cell_type": "code",
   "execution_count": 49,
   "id": "iLR3zfyLohc1",
   "metadata": {
    "id": "iLR3zfyLohc1"
   },
   "outputs": [
    {
     "ename": "TypeError",
     "evalue": "'>' not supported between instances of 'str' and 'int'",
     "output_type": "error",
     "traceback": [
      "\u001b[0;31m---------------------------------------------------------------------------\u001b[0m",
      "\u001b[0;31mTypeError\u001b[0m                                 Traceback (most recent call last)",
      "Cell \u001b[0;32mIn[49], line 2\u001b[0m\n\u001b[1;32m      1\u001b[0m numbers \u001b[38;5;241m=\u001b[39m (\u001b[38;5;241m1\u001b[39m, \u001b[38;5;124m\"\u001b[39m\u001b[38;5;124m44\u001b[39m\u001b[38;5;124m\"\u001b[39m, \u001b[38;5;241m3\u001b[39m, \u001b[38;5;241m4\u001b[39m, \u001b[38;5;241m5\u001b[39m)\n\u001b[0;32m----> 2\u001b[0m \u001b[38;5;28mprint\u001b[39m(\u001b[38;5;28;43mmax\u001b[39;49m\u001b[43m(\u001b[49m\u001b[43mnumbers\u001b[49m\u001b[43m)\u001b[49m)\n\u001b[1;32m      3\u001b[0m \u001b[38;5;28mprint\u001b[39m(\u001b[38;5;28mmin\u001b[39m(numbers))\n",
      "\u001b[0;31mTypeError\u001b[0m: '>' not supported between instances of 'str' and 'int'"
     ]
    }
   ],
   "source": [
    "numbers = (1, \"44\", 3, 4, 5)\n",
    "print(max(numbers))\n",
    "print(min(numbers))"
   ]
  },
  {
   "cell_type": "markdown",
   "id": "Jbgk9pVzgXkD",
   "metadata": {
    "id": "Jbgk9pVzgXkD"
   },
   "source": [
    "<div style=\"font-family: arial; padding: 30px; padding-top: 0; padding-bottom: 0;\">\n",
    "    \n",
    "<h2 id=\"Operators\" style=\"color: #d42c06;\">Broadening \"Tuple Methods\" with universal max and min functions</h2>"
   ]
  },
  {
   "cell_type": "markdown",
   "id": "uOhDxWo9hw8W",
   "metadata": {
    "id": "uOhDxWo9hw8W"
   },
   "source": [
    "<div style=\"font-family: arial; padding: 30px; padding-top: 0; padding-bottom: 0;\">\n",
    "<ul>\n",
    "<li>As we go deeper through tuple methods(discussed earlier), it's crucial to recognize the broader toolkit Python offers for working with iterables.</li>\n",
    "<li>These functions are not limited to tuples; their real power lies in their universality, being applicable to any iterable. </li>\n",
    "<li>It enhances their utility, making them indispensable tools in data analysis and manipulation across Python data types.</li>\n",
    "</ul>\n",
    "</div>"
   ]
  },
  {
   "cell_type": "code",
   "execution_count": 64,
   "id": "mZkp7bioimkC",
   "metadata": {
    "id": "mZkp7bioimkC"
   },
   "outputs": [
    {
     "name": "stdout",
     "output_type": "stream",
     "text": [
      "Maximum: Python\n",
      "Minimum: 1\n"
     ]
    }
   ],
   "source": [
    "#example: finding max and minimum in a tuple\n",
    "\n",
    "mixed_elements = (1, 'Python', 3, 'Code', 5)\n",
    "\n",
    "# Identifying the maximum and minimum values (lexicographically for strings)\n",
    "print(\"Maximum:\", max(mixed_elements, key=str))  #all elements are compared as strings\n",
    "print(\"Minimum:\", min(mixed_elements, key=str))"
   ]
  },
  {
   "cell_type": "code",
   "execution_count": 65,
   "id": "pfAb4TI-i1wb",
   "metadata": {
    "id": "pfAb4TI-i1wb"
   },
   "outputs": [
    {
     "name": "stdout",
     "output_type": "stream",
     "text": [
      "Maximum in list: 20\n",
      "Minimum in list: 5\n"
     ]
    }
   ],
   "source": [
    "#Now we apply max and min across Iterables\n",
    "\n",
    "number_list = [5, 10, 15, 20]\n",
    "\n",
    "# Finding the maximum and minimum\n",
    "print(\"Maximum in list:\", max(number_list))\n",
    "print(\"Minimum in list:\", min(number_list))\n"
   ]
  },
  {
   "cell_type": "markdown",
   "id": "3791fe90",
   "metadata": {
    "id": "3791fe90"
   },
   "source": [
    "<div style=\"font-family: arial; padding: 30px; padding-top: 0; padding-bottom: 0;\">\n",
    "    \n",
    "<h2 id=\"Operators\" style=\"color: #d42c06;\">Dictionaries</h2>"
   ]
  },
  {
   "cell_type": "markdown",
   "id": "SrAGG9AcpKmM",
   "metadata": {
    "id": "SrAGG9AcpKmM"
   },
   "source": [
    "<div style=\"font-family: arial; padding: 30px; padding-top: 0; padding-bottom: 0;\">\n",
    "what is a dictionary?\n",
    "<ul>\n",
    "<li>Dictionary is an unordered collection of data values.</li>\n",
    "<li>Unlike other Data Types that hold only a single value as an element, a Dictionary holds a key:value pair.</li>\n",
    "<li>They are mutable, meaning they can be modified after their creation.</li>\n",
    "<li>They are written with curly braces <code>{}</code>.</li>\n",
    "<li> Here is a simple exp:\n",
    "</ul>\n",
    "</div>"
   ]
  },
  {
   "cell_type": "code",
   "execution_count": 66,
   "id": "vJWkkTgLqNS-",
   "metadata": {
    "id": "vJWkkTgLqNS-"
   },
   "outputs": [
    {
     "name": "stdout",
     "output_type": "stream",
     "text": [
      "{'name': 'Alice', 'age': 25, 'city': 'New York', 'job': 'Software engineer'}\n"
     ]
    }
   ],
   "source": [
    "my_dict = {\"name\": \"Alice\", \"age\": 25, \"city\": \"New York\", \"job\": \"Software engineer\"}\n",
    "print(my_dict)"
   ]
  },
  {
   "cell_type": "markdown",
   "id": "mSC1Ykzeqfmj",
   "metadata": {
    "id": "mSC1Ykzeqfmj"
   },
   "source": [
    "<div style=\"font-family: arial; padding: 30px; padding-top: 0; padding-bottom: 0;\">\n",
    "    \n",
    "<h2 id=\"Operators\" style=\"color: #d42c06;\">Accessing Values</h2>"
   ]
  },
  {
   "cell_type": "markdown",
   "id": "hlp-Q4CIqiym",
   "metadata": {
    "id": "hlp-Q4CIqiym"
   },
   "source": [
    "<div style=\"font-family: arial; padding: 30px; padding-top: 0; padding-bottom: 0;\">\n",
    "<ul>\n",
    "<li>dictionary values are accessed by placing the key in square brackets [] next to the dictionary name or using the get() method. </li>\n",
    "<li>If a value does not exist, it will raise KeyError.</li>\n",
    "</ul>\n",
    "</div>"
   ]
  },
  {
   "cell_type": "code",
   "execution_count": 67,
   "id": "cvu0i4V_rA4x",
   "metadata": {
    "id": "cvu0i4V_rA4x"
   },
   "outputs": [
    {
     "name": "stdout",
     "output_type": "stream",
     "text": [
      "Alice\n",
      "25\n"
     ]
    }
   ],
   "source": [
    "print(my_dict[\"name\"])  #my_dict is identified earlier\n",
    "print(my_dict.get(\"age\"))\n"
   ]
  },
  {
   "cell_type": "markdown",
   "id": "Qo4RLgQOrYcu",
   "metadata": {
    "id": "Qo4RLgQOrYcu"
   },
   "source": [
    "<div style=\"font-family: arial; padding: 30px; padding-top: 0; padding-bottom: 0;\">\n",
    "    \n",
    "<h2 id=\"Operators\" style=\"color: #d42c06;\">Nested Dictionaries</h2>"
   ]
  },
  {
   "cell_type": "markdown",
   "id": "kAwMZrRjrcMi",
   "metadata": {
    "id": "kAwMZrRjrcMi"
   },
   "source": [
    "<div style=\"font-family: arial; padding: 30px; padding-top: 0; padding-bottom: 0;\">\n",
    "<ul>\n",
    "<li>A dictionary can contain dictionaries, this is called nested dictionaries.</li>\n",
    "</ul>\n",
    "</div>"
   ]
  },
  {
   "cell_type": "code",
   "execution_count": 68,
   "id": "Qc5NSkERrpZq",
   "metadata": {
    "id": "Qc5NSkERrpZq"
   },
   "outputs": [
    {
     "name": "stdout",
     "output_type": "stream",
     "text": [
      "John\n"
     ]
    }
   ],
   "source": [
    "nested_dict = {\n",
    "    \"employee1\": {\"name\": \"John\", \"age\": 28, \"department\": \"Sales\"},\n",
    "    \"employee2\": {\"name\": \"Marie\", \"age\": 34, \"department\": \"HR\"}\n",
    "}\n",
    "\n",
    "print(nested_dict[\"employee1\"][\"name\"])\n"
   ]
  },
  {
   "cell_type": "markdown",
   "id": "Xnp0i8lBrxZg",
   "metadata": {
    "id": "Xnp0i8lBrxZg"
   },
   "source": [
    "<div style=\"font-family: arial; padding: 30px; padding-top: 0; padding-bottom: 0;\">\n",
    "    \n",
    "<h2 id=\"Operators\" style=\"color: #d42c06;\">Dictionary Methods</h2>"
   ]
  },
  {
   "cell_type": "markdown",
   "id": "G3V5KJArsDN7",
   "metadata": {
    "id": "G3V5KJArsDN7"
   },
   "source": [
    "- **keys()**\n",
    "<div style=\"font-family: arial; padding: 30px; padding-top: 0; padding-bottom: 0;\">\n",
    "Returns a view object containing the dictionary's keys.\n",
    "</div>"
   ]
  },
  {
   "cell_type": "code",
   "execution_count": 69,
   "id": "Kygb9sL6sM8O",
   "metadata": {
    "id": "Kygb9sL6sM8O"
   },
   "outputs": [
    {
     "name": "stdout",
     "output_type": "stream",
     "text": [
      "dict_keys(['name', 'age', 'city', 'job'])\n"
     ]
    }
   ],
   "source": [
    "print(my_dict.keys())"
   ]
  },
  {
   "cell_type": "markdown",
   "id": "HxtK9OE-sX9r",
   "metadata": {
    "id": "HxtK9OE-sX9r"
   },
   "source": [
    "- **values()**\n",
    "<div style=\"font-family: arial; padding: 30px; padding-top: 0; padding-bottom: 0;\">\n",
    "Returns a view object containing the dictionary's values.\n",
    "</div>"
   ]
  },
  {
   "cell_type": "code",
   "execution_count": 70,
   "id": "h-6IrQrqseZx",
   "metadata": {
    "id": "h-6IrQrqseZx"
   },
   "outputs": [
    {
     "name": "stdout",
     "output_type": "stream",
     "text": [
      "dict_values(['Alice', 25, 'New York', 'Software engineer'])\n"
     ]
    }
   ],
   "source": [
    "print(my_dict.values())"
   ]
  },
  {
   "cell_type": "markdown",
   "id": "IQbD4XxlsmA7",
   "metadata": {
    "id": "IQbD4XxlsmA7"
   },
   "source": [
    "- **items()**\n",
    "<div style=\"font-family: arial; padding: 30px; padding-top: 0; padding-bottom: 0;\">\n",
    "Returns a view of the dictionary's key-value pairs (tuples).\n",
    "</div>"
   ]
  },
  {
   "cell_type": "code",
   "execution_count": 71,
   "id": "RcNjRFjQsrYJ",
   "metadata": {
    "id": "RcNjRFjQsrYJ"
   },
   "outputs": [
    {
     "name": "stdout",
     "output_type": "stream",
     "text": [
      "dict_items([('name', 'Alice'), ('age', 25), ('city', 'New York'), ('job', 'Software engineer')])\n"
     ]
    }
   ],
   "source": [
    "print(my_dict.items())\n"
   ]
  },
  {
   "cell_type": "markdown",
   "id": "m9nJTv2Ss1lv",
   "metadata": {
    "id": "m9nJTv2Ss1lv"
   },
   "source": [
    "- **pop()**\n",
    "<div style=\"font-family: arial; padding: 30px; padding-top: 0; padding-bottom: 0;\">\n",
    "Removes a key from the dictionary, returning its value.\n",
    "</div>"
   ]
  },
  {
   "cell_type": "code",
   "execution_count": 72,
   "id": "PLbNKRp7s7QQ",
   "metadata": {
    "id": "PLbNKRp7s7QQ"
   },
   "outputs": [
    {
     "name": "stdout",
     "output_type": "stream",
     "text": [
      "Software engineer\n",
      "{'name': 'Alice', 'age': 25, 'city': 'New York'}\n"
     ]
    }
   ],
   "source": [
    "job = my_dict.pop(\"job\")\n",
    "print(job)\n",
    "print(my_dict)"
   ]
  },
  {
   "cell_type": "markdown",
   "id": "faf17dec",
   "metadata": {
    "id": "faf17dec"
   },
   "source": []
  },
  {
   "cell_type": "markdown",
   "id": "jbTEEsBhtPtl",
   "metadata": {
    "id": "jbTEEsBhtPtl"
   },
   "source": [
    "- **update()**\n",
    "<div style=\"font-family: arial; padding: 30px; padding-top: 0; padding-bottom: 0;\">\n",
    "Updates the dictionary with elements from another dictionary. </div>"
   ]
  },
  {
   "cell_type": "code",
   "execution_count": 73,
   "id": "f54fdGDhtd5P",
   "metadata": {
    "id": "f54fdGDhtd5P"
   },
   "outputs": [
    {
     "name": "stdout",
     "output_type": "stream",
     "text": [
      "{'name': 'Alice', 'age': 25, 'city': 'New York', 'email': 'alice@gmail.com'}\n"
     ]
    }
   ],
   "source": [
    "my_dict.update({\"email\": \"alice@gmail.com\"})\n",
    "print(my_dict)"
   ]
  },
  {
   "cell_type": "markdown",
   "id": "b2ec9882",
   "metadata": {
    "id": "b2ec9882"
   },
   "source": [
    "<div style=\"font-family: arial; padding: 30px; padding-top: 15px; padding-bottom: 0;\">\n",
    "\n",
    "<hr style=\"margin-top: 25px; border-color: #fff;\">\n",
    "\n",
    "<h2 style=\"text-align: center; color: #186e00;\">Section 5: Controlling Program Flow</h2>\n",
    "\n",
    "<hr style=\"margin-top: 25px; border-color: #fff;\">\n",
    "\n",
    "</div>"
   ]
  },
  {
   "cell_type": "markdown",
   "id": "qGmTp9RDPAQr",
   "metadata": {
    "id": "qGmTp9RDPAQr"
   },
   "source": [
    "<div style=\"font-family: arial; padding: 30px; padding-top: 0; padding-bottom: 0;\">\n",
    "what is controlling program flow?\n",
    "<ul>\n",
    "<li>Controlling program flow is a fundamental aspect of programming that allows you to make decisions within your code based on certain conditions. </li>\n",
    "<li>this is primarily handled through conditional statements like if, else, and elif.</li>\n",
    "</ul>\n",
    "</div>"
   ]
  },
  {
   "cell_type": "markdown",
   "id": "a94cec4b",
   "metadata": {
    "id": "a94cec4b"
   },
   "source": [
    "<div style=\"font-family: arial; padding: 30px; padding-top: 0; padding-bottom: 0;\">\n",
    "    \n",
    "<h2 id=\"Operators\" style=\"color: #d42c06;\">Conditions and If statements</h2>"
   ]
  },
  {
   "cell_type": "markdown",
   "id": "LyOwiQlGOXDP",
   "metadata": {
    "id": "LyOwiQlGOXDP"
   },
   "source": [
    "- **' if ' statement**\n",
    "<div style=\"font-family: arial; padding: 30px; padding-top: 0; padding-bottom: 0;\">\n",
    "This is the basic form of control flow statement that allows you to execute a block of code only if a certain condition is true. </div>"
   ]
  },
  {
   "cell_type": "markdown",
   "id": "8eOZQNceQcD1",
   "metadata": {
    "id": "8eOZQNceQcD1"
   },
   "source": [
    "- **' else ' statement**\n",
    "<div style=\"font-family: arial; padding: 30px; padding-top: 0; padding-bottom: 0;\">\n",
    "Used in conjunction with if, else allows you to execute a block of code when the if condition is false.here is an exp:<br>\n",
    "Imagine you're programming a light system for your house, which changes colors based on the time of day to energize you in the morning or help you relax in the evening. </div>"
   ]
  },
  {
   "cell_type": "code",
   "execution_count": 74,
   "id": "x_YOnR1NRUDp",
   "metadata": {
    "id": "x_YOnR1NRUDp"
   },
   "outputs": [
    {
     "name": "stdout",
     "output_type": "stream",
     "text": [
      "The light color is now set to soft blue.\n"
     ]
    }
   ],
   "source": [
    "current_hour = 17  # Assume 24-hour format, so now is 17, which means 5 pm!\n",
    "\n",
    "# Check what time it is to decide the light color\n",
    "if 6 <= current_hour < 12:\n",
    "    light_color = \"bright white\"\n",
    "elif 12 <= current_hour < 18:\n",
    "    light_color = \"soft blue\"\n",
    "else:\n",
    "    light_color = \"warm orange\"\n",
    "\n",
    "print(f\"The light color is now set to {light_color}.\")"
   ]
  },
  {
   "cell_type": "markdown",
   "id": "t-GKhThOR1o8",
   "metadata": {
    "id": "t-GKhThOR1o8"
   },
   "source": [
    "- **' elif ' statement**\n",
    "<div style=\"font-family: arial; padding: 30px; padding-top: 0; padding-bottom: 0;\">\n",
    "Shortened form of \"else if\". It allows you to check multiple conditions after an if statement. If the if condition is false, it checks the conditions of the elif blocks; if none of them are true, an optional else block will be executed. here is an exp: </div>"
   ]
  },
  {
   "cell_type": "code",
   "execution_count": 75,
   "id": "LityUGsHRSIp",
   "metadata": {
    "colab": {
     "base_uri": "https://localhost:8080/"
    },
    "id": "LityUGsHRSIp",
    "outputId": "8fc64694-1c8a-44b3-d0ce-112a2e2c3f78"
   },
   "outputs": [
    {
     "name": "stdout",
     "output_type": "stream",
     "text": [
      "Enter 'C' to convert from Fahrenheit to Celsius.\n",
      "Enter 'F' to convert from Celsius to Fahrenheit.\n",
      "Enter 'Q' to quit.\n",
      "32.0°F is 0.00°C.\n"
     ]
    }
   ],
   "source": [
    "#Temperature Conversion Menu\n",
    "print(\"Enter 'C' to convert from Fahrenheit to Celsius.\")\n",
    "print(\"Enter 'F' to convert from Celsius to Fahrenheit.\")\n",
    "print(\"Enter 'Q' to quit.\")\n",
    "choice = input(\"Your choice: \").upper()\n",
    "\n",
    "if choice == 'C':\n",
    "    temperature = float(input(\"Enter the temperature in Fahrenheit: \"))\n",
    "    converted_temp = (temperature - 32) * 5/9\n",
    "    print(f\"{temperature}°F is {converted_temp:.2f}°C.\")\n",
    "elif choice == 'F':\n",
    "    temperature = float(input(\"Enter the temperature in Celsius: \"))\n",
    "    converted_temp = (temperature * 9/5) + 32\n",
    "    print(f\"{temperature}°C is {converted_temp:.2f}°F.\")\n",
    "elif choice == 'Q':\n",
    "    print(\"Exiting the program. Goodbye!\")\n",
    "else:\n",
    "    print(\"Invalid choice. Please enter 'C', 'F', or 'Q'.\")"
   ]
  },
  {
   "cell_type": "markdown",
   "id": "be4ecfb5",
   "metadata": {
    "id": "be4ecfb5"
   },
   "source": [
    "- **Shortened if and else**"
   ]
  },
  {
   "cell_type": "markdown",
   "id": "16PUv99ZVP2R",
   "metadata": {
    "id": "16PUv99ZVP2R"
   },
   "source": [
    "<div style=\"font-family: arial; padding: 30px; padding-top: 0; padding-bottom: 0;\">\n",
    "\n",
    "<ul>\n",
    "<li>The shortened form of if and else, often referred to as the ternary operator, allows for a more compact way of writing an if-else block. </li>\n",
    "<li> This is useful for simple conditions and assignments which enables you to write conditions in a single line.</li>\n",
    "<li> the format is like this: <br>\n",
    "<code> value_if_true if condition else value_if_false</code>\n",
    "</ul>\n",
    "</div>"
   ]
  },
  {
   "cell_type": "code",
   "execution_count": 76,
   "id": "fYKUDfjYVrOh",
   "metadata": {
    "id": "fYKUDfjYVrOh"
   },
   "outputs": [
    {
     "name": "stdout",
     "output_type": "stream",
     "text": [
      "tell a number: \n",
      "Even\n"
     ]
    }
   ],
   "source": [
    "# a program to identify if a number is even or odd\n",
    "print(\"tell a number: \")\n",
    "number = int(input())\n",
    "message = \"Even\" if number % 2 == 0 else \"Odd\"\n",
    "print(message)\n"
   ]
  },
  {
   "cell_type": "markdown",
   "id": "jcwu5dJ7XIJq",
   "metadata": {
    "id": "jcwu5dJ7XIJq"
   },
   "source": [
    "- **Pass Statement**"
   ]
  },
  {
   "cell_type": "markdown",
   "id": "pCzqfDQLXT4x",
   "metadata": {
    "id": "pCzqfDQLXT4x"
   },
   "source": [
    "<div style=\"font-family: arial; padding: 30px; padding-top: 0; padding-bottom: 0;\">\n",
    "\n",
    "<ul>\n",
    "<li>The pass statement in Python is a null operation. </li>\n",
    "<li>when it's executed, nothing happens.</li>\n",
    "<li>It serves as a placeholder in areas of code where a statement is syntactically needed, but you do not want code to execute.</li>\n",
    "</ul>\n",
    "</div>"
   ]
  },
  {
   "cell_type": "code",
   "execution_count": 77,
   "id": "E57imtLcY7LD",
   "metadata": {
    "id": "E57imtLcY7LD"
   },
   "outputs": [
    {
     "name": "stdout",
     "output_type": "stream",
     "text": [
      "Book processing complete.\n"
     ]
    }
   ],
   "source": [
    "# Example usage\n",
    "\n",
    "genre = \"Fantasy\"\n",
    "\n",
    "if genre == \"Fantasy\":\n",
    "    # Placeholder for future fantasy book processing logic\n",
    "    pass\n",
    "elif genre == \"Science Fiction\":\n",
    "    # Placeholder for future science fiction book processing logic\n",
    "    pass\n",
    "elif genre == \"Mystery\":\n",
    "    # Placeholder for future mystery book processing logic\n",
    "    pass\n",
    "else:\n",
    "    print(\"Genre not recognized. Please update the genre list.\")\n",
    "\n",
    "print(\"Book processing complete.\")\n"
   ]
  },
  {
   "cell_type": "markdown",
   "id": "ff98fc7d",
   "metadata": {
    "id": "ff98fc7d"
   },
   "source": [
    "<div style=\"font-family: arial; padding: 30px; padding-top: 0; padding-bottom: 0;\">\n",
    "    \n",
    "<h2 id=\"Operators\" style=\"color: #d42c06;\">Indentation</h2>"
   ]
  },
  {
   "cell_type": "markdown",
   "id": "ilgXsb08ZQJe",
   "metadata": {
    "id": "ilgXsb08ZQJe"
   },
   "source": [
    "<div style=\"font-family: arial; padding: 30px; padding-top: 0; padding-bottom: 0;\">\n",
    "Indentation in Python plays a crucial role in defining the structure and flow of a program. Unlike many other programming languages that use braces {} or keywords to delineate blocks of code, Python uses indentation to group statements. This design choice enforces readability and a uniform coding style across Python programs. here is the rules:\n",
    "<ul>\n",
    "<li> Indentation is used to define blocks of code that belong together.</li>\n",
    "<li>The amount of indentation for each level can be any number of spaces or tabs, as long as it is consistent throughout the block.  </li>\n",
    "<li>You must be consistent with the indentation level you use. Mixing spaces and tabs can lead to errors that are hard to diagnose. </li>\n",
    "<li>Here is a simple example demonstrating the use of indentation:</li>\n",
    "</ul>\n",
    "</div>"
   ]
  },
  {
   "cell_type": "code",
   "execution_count": 78,
   "id": "dhK8UXiMaBhN",
   "metadata": {
    "colab": {
     "base_uri": "https://localhost:8080/"
    },
    "id": "dhK8UXiMaBhN",
    "outputId": "4dcba17b-9524-4639-b22f-774a84896d6b"
   },
   "outputs": [
    {
     "name": "stdout",
     "output_type": "stream",
     "text": [
      "Hello, Alice\n",
      "Hello, world!\n"
     ]
    }
   ],
   "source": [
    "name = \"Alice\"\n",
    "if name:\n",
    "        message = \"Hello, \" + name\n",
    "        print(message)\n",
    "else:\n",
    "    print(\"Hello, world!\")\n",
    "\n",
    "name = \"\"\n",
    "if name:\n",
    "        message = \"Hello, \" + name\n",
    "        print(message)\n",
    "else:\n",
    "    print(\"Hello, world!\")\n"
   ]
  },
  {
   "cell_type": "markdown",
   "id": "ba43e5e5",
   "metadata": {
    "id": "ba43e5e5"
   },
   "source": [
    "<div style=\"font-family: arial; padding: 30px; padding-top: 0; padding-bottom: 0;\">\n",
    "    \n",
    "<h2 id=\"Operators\" style=\"color: #d42c06;\">While Loops</h2>"
   ]
  },
  {
   "cell_type": "markdown",
   "id": "gx6_HioKaeW3",
   "metadata": {
    "id": "gx6_HioKaeW3"
   },
   "source": [
    "\n",
    "While loops in Python allow you to execute a block of code repeatedly as long as a given condition is true.\n"
   ]
  },
  {
   "cell_type": "markdown",
   "id": "ZvDBdPwgahqF",
   "metadata": {
    "id": "ZvDBdPwgahqF"
   },
   "source": [
    "- **break**\n",
    "<div style=\"font-family: arial; padding: 30px; padding-top: 0; padding-bottom: 0;\">\n",
    "The break statement is used to exit a while loop immediately, regardless of the iteration condition.</div>"
   ]
  },
  {
   "cell_type": "markdown",
   "id": "HxmFZalDbFr7",
   "metadata": {
    "id": "HxmFZalDbFr7"
   },
   "source": [
    "- **continue**\n",
    "<div style=\"font-family: arial; padding: 30px; padding-top: 0; padding-bottom: 0;\">\n",
    "The continue statement is used to skip the rest of the code inside the loop for the current iteration and proceed to the next iteration of the loop.</div>"
   ]
  },
  {
   "cell_type": "code",
   "execution_count": 79,
   "id": "qjvwfiCCbiM3",
   "metadata": {
    "id": "qjvwfiCCbiM3"
   },
   "outputs": [
    {
     "name": "stdout",
     "output_type": "stream",
     "text": [
      "1\n",
      "2\n",
      "3\n",
      "4\n",
      "Skipping 5\n",
      "6\n",
      "7\n",
      "8\n",
      "Breaking at 8\n"
     ]
    }
   ],
   "source": [
    "count = 0\n",
    "while count < 10:\n",
    "    count += 1\n",
    "    if count == 5:\n",
    "        print(\"Skipping 5\")\n",
    "        continue  # Skip the rest of the loop for count == 5\n",
    "    print(count)\n",
    "    if count == 8:\n",
    "        print(\"Breaking at 8\")\n",
    "        break  # Exit the loop when count == 8"
   ]
  },
  {
   "cell_type": "markdown",
   "id": "0099d19b",
   "metadata": {
    "id": "0099d19b"
   },
   "source": [
    "<div style=\"font-family: arial; padding: 30px; padding-top: 0; padding-bottom: 0;\">\n",
    "    \n",
    "<h2 id=\"Operators\" style=\"color: #d42c06;\">For Loops</h2>"
   ]
  },
  {
   "cell_type": "markdown",
   "id": "UZ0zmyz7cM16",
   "metadata": {
    "id": "UZ0zmyz7cM16"
   },
   "source": [
    "- **'in' keyword**"
   ]
  },
  {
   "cell_type": "code",
   "execution_count": 80,
   "id": "rLK2t8EDcZw6",
   "metadata": {
    "colab": {
     "base_uri": "https://localhost:8080/"
    },
    "id": "rLK2t8EDcZw6",
    "outputId": "7a0909cf-85c8-4d13-e64b-f947fde650b8"
   },
   "outputs": [
    {
     "name": "stdout",
     "output_type": "stream",
     "text": [
      "apple\n",
      "banana\n",
      "cherry\n",
      "plum\n"
     ]
    }
   ],
   "source": [
    "fruits = [\"apple\", \"banana\", \"cherry\", \"plum\"]\n",
    "for fruit in fruits:\n",
    "    print(fruit)"
   ]
  },
  {
   "cell_type": "markdown",
   "id": "cFUbmBCccmcv",
   "metadata": {
    "id": "cFUbmBCccmcv"
   },
   "source": [
    "- **List Comprehension**\n",
    "<div style=\"font-family: arial; padding: 30px; padding-top: 0; padding-bottom: 0;\">\n",
    "List comprehension provides a concise way to create lists. here is a simple example of how we use it:</div>"
   ]
  },
  {
   "cell_type": "code",
   "execution_count": 81,
   "id": "iYlb5eJHc3C3",
   "metadata": {
    "id": "iYlb5eJHc3C3"
   },
   "outputs": [
    {
     "name": "stdout",
     "output_type": "stream",
     "text": [
      "[0, 1, 4, 9, 16, 25, 36, 49, 64, 81]\n"
     ]
    }
   ],
   "source": [
    "squares = [x**2 for x in range(10)]\n",
    "print(squares)"
   ]
  },
  {
   "cell_type": "markdown",
   "id": "F8c0-xCGdrbZ",
   "metadata": {
    "id": "F8c0-xCGdrbZ"
   },
   "source": [
    "- **Dictionary Comprehension**\n",
    "<div style=\"font-family: arial; padding: 30px; padding-top: 0; padding-bottom: 0;\">\n",
    "Similar to list comprehension, dictionary comprehension offers a succinct way to generate dictionaries. </div>"
   ]
  },
  {
   "cell_type": "code",
   "execution_count": 82,
   "id": "oQplR8D_d9G4",
   "metadata": {
    "id": "oQplR8D_d9G4"
   },
   "outputs": [
    {
     "name": "stdout",
     "output_type": "stream",
     "text": [
      "{0: 0, 1: 1, 2: 4, 3: 9, 4: 16}\n"
     ]
    }
   ],
   "source": [
    "square_dict = {x: x**2 for x in range(5)} # it squeres every number is range 0 to 5 by two\n",
    "print(square_dict)"
   ]
  },
  {
   "cell_type": "markdown",
   "id": "PlOz0PnLcGSD",
   "metadata": {
    "id": "PlOz0PnLcGSD"
   },
   "source": [
    "<div style=\"font-family: arial; padding: 30px; padding-top: 0; padding-bottom: 0;\">\n",
    "    \n",
    "<h2 id=\"conclusion\" style=\"color: #d42c06;\">Conclusion</h2>\n",
    "\n",
    "</div>"
   ]
  },
  {
   "cell_type": "markdown",
   "id": "Lu-PiVkwkb2H",
   "metadata": {
    "id": "Lu-PiVkwkb2H"
   },
   "source": [
    "<div style=\"font-family: arial; padding: 30px; padding-top: 0; padding-bottom: 0;\">\n",
    "<ul><li>In wrapping up our journey through Python fundamentals, we've armed ourselves with the concepts essential for crafting efficient Python programs. From mastering the basics of syntax and control structures to exploring advanced features like list comprehensions and generators, we've laid a robust foundation. As you continue to build on this knowledge, remember that the true power of Python lies in its simplicity, versatility, and the vast community support. Keep experimenting, learning, and coding, and you'll find that Python's potential to bring your ideas to life is boundless. Happy coding, and may your Python journey be filled with discovery and innovation!\n",
    "</ul>\n",
    "</div>"
   ]
  },
  {
   "cell_type": "markdown",
   "id": "16a0474b-c50d-4087-a7f2-5a232fe6f720",
   "metadata": {
    "id": "16a0474b-c50d-4087-a7f2-5a232fe6f720"
   },
   "source": [
    "<div style=\"padding: 30px; padding-top: 0; padding-bottom: 0;\">\n",
    "\n",
    "<hr style=\"border-color: #fff;\">\n",
    "\n",
    "</div>"
   ]
  },
  {
   "cell_type": "markdown",
   "id": "e0dea3fb-d681-473d-9d33-8a3c504b3fd9",
   "metadata": {
    "id": "e0dea3fb-d681-473d-9d33-8a3c504b3fd9"
   },
   "source": [
    "<div style=\"font-family: arial; padding: 30px; padding-top: 0; padding-bottom: 0;\">\n",
    "    \n",
    "<h2 style=\"color: #d42c06;\">References</h2>\n",
    "\n",
    "<ul>\n",
    "    <li>Dear GPT 3.5 and 4. </li>\n",
    "    <li> Python Crash Course - Eric Matthes(2016)</li>\n",
    "</ul>\n",
    "\n",
    "<hr style=\"margin-top: 25px; border-color: #fff;\">\n",
    "\n",
    "</div>"
   ]
  }
 ],
 "metadata": {
  "colab": {
   "provenance": []
  },
  "kernelspec": {
   "display_name": "Python 3 (ipykernel)",
   "language": "python",
   "name": "python3"
  },
  "language_info": {
   "codemirror_mode": {
    "name": "ipython",
    "version": 3
   },
   "file_extension": ".py",
   "mimetype": "text/x-python",
   "name": "python",
   "nbconvert_exporter": "python",
   "pygments_lexer": "ipython3",
   "version": "3.12.2"
  }
 },
 "nbformat": 4,
 "nbformat_minor": 5
}

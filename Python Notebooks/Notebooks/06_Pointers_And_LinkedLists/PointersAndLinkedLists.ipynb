{
 "cells": [
  {
   "cell_type": "markdown",
   "metadata": {},
   "source": [
    "<div style=\"font-family: arial; padding: 30px; padding-bottom: 0;\">\n",
    "\n",
    "<h4 style=\"text-align: center;\">In the Name of God</h4>\n",
    "\n",
    "<h2 style=\"text-align: center; color: #103bc9;\">CS232 - Advanced Programming</h2>\n",
    "\n",
    "<h3 style=\"text-align: center; color: #d42c06;\">Iran University of Science and Technology</h3>\n",
    "    \n",
    "<h3 style=\"text-align: center; color: #d42c06;\">School of Mathematics and Computer Science</h3>\n",
    "\n",
    "<h4 style=\"padding-top: 7px; text-align: center;\">Winter-Spring 2024</h4>\n",
    "\n",
    "<hr style=\"margin-top: 25px; border-color: #fff;\">\n",
    "\n",
    "<h1 style=\"text-align: center; color: #9c0000;\">Chapter 13: Pointers And LinkedLists</h1>\n",
    "\n",
    "<h3 style=\"padding-top: 7px; text-align: center;\">Sahar Pourghasemi</h3>\n",
    "\n",
    "<hr style=\"margin-top: 25px; border-color: #fff;\">\n",
    "\n",
    "</div>"
   ]
  },
  {
   "cell_type": "markdown",
   "metadata": {},
   "source": [
    "<div style=\"font-family: arial; padding: 30px; padding-bottom: 0;\">\n",
    "\n",
    "<hr style=\"margin-top: 25px; border-color: #fff;\">\n",
    "\n",
    "<h2 style=\"text-align: center; color: #186e00;\">Section 2: Stacks and Queues</h2>\n",
    "\n",
    "<hr style=\"margin-top: 25px; border-color: #fff;\">\n",
    "\n",
    "</div>"
   ]
  },
  {
   "cell_type": "markdown",
   "metadata": {},
   "source": [
    "<div style=\"font-family: arial; padding: 30px; padding-top: 0; padding-bottom: 0;\">\n",
    "    \n",
    "<h2 id=\"Abstract Data Types\" style=\"color: #d42c06;\">A Linked List Application</h2>\n",
    "<li> A stack is a data structure that retrieves data in\n",
    "the reverse order the data was stored</li>\n",
    "<ul style=\"margin-right:50px\">\n",
    "  <li>If 'A', 'B', and then 'C' are placed in a stack,\n",
    "  they will be removed in the order 'C', 'B', and\n",
    "  then 'A'</li>\n",
    "</ul>\n",
    "<li>A stack is a last-in/first-out data structure like\n",
    "the stack of plates in a cafeteria; adding a plate\n",
    "pushes down the stack and the top plate is the\n",
    "first one removed</li>\n",
    "<br>\n",
    "</div>\n"
   ]
  },
  {
   "cell_type": "markdown",
   "metadata": {},
   "source": [
    "<h3>A stack</h3>\n",
    "<img src=\"src/img/stack.png\" style=\"margin: 0 auto; display: block;\"/> <br>"
   ]
  },
  {
   "cell_type": "markdown",
   "metadata": {},
   "source": [
    "<div style=\"font-family: arial; padding: 30px; padding-top: 0; padding-bottom: 0;\">\n",
    "    \n",
    "<h2 id=\"Abstract Data Types\" style=\"color: #d42c06;\">Program Example:\n",
    "A Stack Class</h2>\n",
    "<li> We will create a stack class to store characters\n",
    "</li>\n",
    "<ul style=\"margin-right:50px\">\n",
    "  <li>Adding an item to a stack is pushing onto the\n",
    "  stack</li>\n",
    "  <li>Member function push will perform this task</li>\n",
    "  <li>Removing an item from the stack is popping\n",
    "   the the item off the stack</li>\n",
    "  <li>Member function pop will perform this task</li>\n",
    "</ul>\n",
    "<br>\n",
    "</div>\n"
   ]
  },
  {
   "cell_type": "code",
   "execution_count": null,
   "metadata": {
    "vscode": {
     "languageId": "plaintext"
    }
   },
   "outputs": [],
   "source": [
    "\n",
    "//This is the header file stack.h. This is the interface for the class Stack,\n",
    "//which is a class for a stack of symbols.\n",
    "\n",
    "namespace stacksavitch\n",
    "{\n",
    "    struct StackFrame\n",
    "    {\n",
    "    char data;\n",
    "    StackFrame * link;\n",
    "    };\n",
    "    typedef StackFrame* StackFramePtr;\n",
    "    class Stack\n",
    "    {\n",
    "    public:\n",
    "        Stack( ) :\n",
    "        //Initializes the object to an empty stack.\n",
    "        Stack(const Stack& aStack);\n",
    "        //Copy constructor.\n",
    "        -Stack( );\n",
    "        //Destroys the stack and returns all the memory to the freestore.\n",
    "\n",
    "        void push (char theSymbol) :\n",
    "        //Postcondition: theSymbol has been added to the stack.\n",
    "        char pop( );\n",
    "        //Precondition: The stack is not empty.\n",
    "        //Returns the top symbol on the stack and removes that\n",
    "        //top symbol from the stack.\n",
    "\n",
    "        bool empty( ) const;\n",
    "        //Returns true if the stack is empty. Returns false otherwise.\n",
    "    private:\n",
    "        StackFramePtr top;\n",
    "    };\n",
    "}//stacksavitch"
   ]
  },
  {
   "cell_type": "markdown",
   "metadata": {},
   "source": [
    "<div style=\"font-family: arial; padding: 30px; padding-top: 0; padding-bottom: 0;\">\n",
    "    \n",
    "<h2 id=\"Abstract Data Types\" style=\"color: #d42c06;\">Using the stack Class</h2>\n",
    "<li> demonstrates the use of the\n",
    "stack class\n",
    "</li>\n",
    "<br>\n",
    "</div>\n"
   ]
  },
  {
   "cell_type": "code",
   "execution_count": null,
   "metadata": {
    "vscode": {
     "languageId": "plaintext"
    }
   },
   "outputs": [],
   "source": [
    "//program to demonstrate use of the stack class.  \n",
    "#include <iostream>  \n",
    "#include \"stack.h\"  \n",
    "using namespace std;  \n",
    "using namespace stacksavitch;  \n",
    "\n",
    "int main( ) \n",
    "{\n",
    "    Stack s; \n",
    "    char next, ans;  \n",
    "    do  \n",
    "    {  \n",
    "        cout << \"Enter a word: \";  \n",
    "        cin-get (next) ;  \n",
    "        while (next != '\\ n' )  \n",
    "        {  \n",
    "            s.push(next);  \n",
    "            cin.get(next);  \n",
    "        }  \n",
    "\n",
    "        cout << \"Written backward that is: \";  \n",
    "        white ( ! s.empty() )  \n",
    "        cout << s.pop( ) ;  \n",
    "        cout << endt ;  \n",
    "        cout << \"Again?(y / n): \";  \n",
    "        cin >> ans;  \n",
    "        cin.ignore(10000, '\\n') ;  \n",
    "    }white (ans != 'n' && ans != 'N');  \n",
    "\n",
    "    return 0;  \n",
    "}"
   ]
  },
  {
   "cell_type": "markdown",
   "metadata": {},
   "source": [
    "<div style=\"font-family: arial; padding: 30px; padding-top: 0; padding-bottom: 0;\">\n",
    "    \n",
    "<h2 id=\"Abstract Data Types\" style=\"color: #d42c06;\">Program Using the Stack Class</h2>\n",
    "<h4>Sample Dialogue</h4>\n",
    "<br>\n",
    "</div>\n",
    "<img src=\"src/img/dialogue.png\" style=\"margin: 0 auto; display: block;\"/> <br>\n"
   ]
  },
  {
   "cell_type": "markdown",
   "metadata": {},
   "source": [
    "<div style=\"font-family: arial; padding: 30px; padding-top: 0; padding-bottom: 0;\">\n",
    "<h2 id=\"Abstract Data Types\" style=\"color: #d42c06;\">Function push</h2>\n",
    "<li> The push function adds an item to the stack\n",
    "</li>\n",
    "<ul style=\"margin-right:50px\">\n",
    "  <li>It uses a parameter of the type stored in the stack\n",
    "  <br>\n",
    "void push(char the_symbol);</li>\n",
    "  <li>Pushing an item onto the stack is precisely the same\n",
    "task accomplished by function headInsert of the linked\n",
    "list</li>\n",
    "  <li>For a stack, a pointer named top is used instead of a\n",
    "pointer named head</li>\n",
    "</ul>\n",
    "</div>"
   ]
  },
  {
   "cell_type": "markdown",
   "metadata": {},
   "source": [
    "<div style=\"font-family: arial; padding: 30px; padding-top: 0; padding-bottom: 0;\">\n",
    "<h2 id=\"Abstract Data Types\" style=\"color: #d42c06;\">Function pop</h2>\n",
    "\n",
    "<li> The pop function returns the item that was at\n",
    "the top of the stack\n",
    "<br>\n",
    "char pop();\n",
    "</li>\n",
    "<ul style=\"margin-right:50px\">\n",
    "  <li>Before popping an item from a stack, pop checks\n",
    "  that the stack is not empty</li>\n",
    "  <li>pop stores the top item in a local variable result,\n",
    "  and the item is \"popped\" by:\n",
    "  <br>\n",
    "  top = top->link;\n",
    "  </li>\n",
    "  <ul>\n",
    "      <li>A temporary pointer must point to the old top item\n",
    "      so it can be \"deleted\" to prevent a memory leak\n",
    "    </li>\n",
    "  </ul>\n",
    "  <li> pop then returns variable result</li>\n",
    "</ul>\n",
    "</div>"
   ]
  },
  {
   "cell_type": "markdown",
   "metadata": {},
   "source": [
    "<div style=\"font-family: arial; padding: 30px; padding-top: 0; padding-bottom: 0;\">\n",
    "<h2 id=\"Abstract Data Types\" style=\"color: #d42c06;\">Empty Stack</h2>\n",
    "<li> An empty stack is identified by setting the\n",
    "top pointer to NULL\n",
    "<br>\n",
    "<br>\n",
    "<li style=\"margin: 0 35%; display: block;\">top = NULL;</li>\n",
    "</li>\n",
    "</div>"
   ]
  },
  {
   "cell_type": "markdown",
   "metadata": {},
   "source": [
    "<div style=\"font-family: arial; padding: 30px; padding-top: 0; padding-bottom: 0;\">\n",
    "<h2 id=\"Abstract Data Types\" style=\"color: #d42c06;\">The Copy Constructor</h2>\n",
    "\n",
    "<li> Because the stack class uses a pointer and\n",
    "creates new nodes using new, a copy constructor\n",
    "is needed\n",
    "</li>\n",
    "<ul style=\"margin-right:50px\">\n",
    "  <li>The copy constructor (a self-test exercise)\n",
    "must make a copy of each item in the stack\n",
    "and store the copies in a new stack</li>\n",
    "  <ul>\n",
    "      <li>Items in the new stack must be in the same position\n",
    "in the stack as in the original\n",
    "    </li>\n",
    "  </ul>\n",
    "</ul>\n",
    "</div>"
   ]
  },
  {
   "cell_type": "markdown",
   "metadata": {},
   "source": [
    "<div style=\"font-family: arial; padding: 30px; padding-top: 0; padding-bottom: 0;\">\n",
    "<h2 id=\"Abstract Data Types\" style=\"color: #d42c06;\">The stack destructor</h2>\n",
    "\n",
    "<li> Because function pop calls delete each time an\n",
    "item is popped off the stack, ~stack only needs\n",
    "to call pop until the stack is empty\n",
    "</li>\n",
    "</div>"
   ]
  },
  {
   "cell_type": "code",
   "execution_count": null,
   "metadata": {
    "vscode": {
     "languageId": "plaintext"
    }
   },
   "outputs": [],
   "source": [
    "char next;\n",
    "while(!empty())\n",
    "{\n",
    "    next = pop()\n",
    "}"
   ]
  },
  {
   "cell_type": "markdown",
   "metadata": {},
   "source": [
    "<div style=\"font-family: arial; padding: 30px; padding-top: 0; padding-bottom: 0;\">\n",
    "<h2 id=\"Abstract Data Types\" style=\"color: #d42c06;\">stack Class Implementation</h2>\n",
    "\n",
    "<li> The stack class implementation is\n",
    "found in\n",
    "</li>\n",
    "</div>"
   ]
  },
  {
   "cell_type": "code",
   "execution_count": null,
   "metadata": {
    "vscode": {
     "languageId": "plaintext"
    }
   },
   "outputs": [],
   "source": [
    "// This is the implementation file stack.cpp.\n",
    "// This is the implementation of the class Stack.\n",
    "// The interface for the class Stack is in the header file stack.h.\n",
    "#include <iostream>\n",
    "#include <cstddef>\n",
    "#include \"stack.h\"\n",
    "\n",
    "using namespace std;\n",
    "namespace stacksavitch {\n",
    "\n",
    "    // Uses cstddef:\n",
    "    Stack::Stack() : top(NULL) {\n",
    "        // Body intentionally empty.\n",
    "    }\n",
    "\n",
    "    Stack::Stack(const Stack& aStack) {\n",
    "        < The definition of the copy constructor is Self-Test Exercise 11.>\n",
    "    }\n",
    "\n",
    "    Stack::~Stack() {\n",
    "        char next;\n",
    "        while (!empty())\n",
    "            next = pop();\n",
    "    }\n",
    "\n",
    "    // Uses cstddef:\n",
    "    bool Stack::empty() const {\n",
    "        return (top == NULL);\n",
    "    }\n",
    "\n",
    "    void Stack::push(char thesymbol) {\n",
    "        <The rest of the definition is Self-Test Exercise 10.>    \n",
    "    // Uses iostream and cstdlib:\n",
    "    char Stack::pop() {\n",
    "        if (empty()) {\n",
    "            cout << \"Error: popping an empty stack. In\";\n",
    "            exit(1);\n",
    "        }\n",
    "    }\n",
    "    char result = top->data;\n",
    "\n",
    "    StackFramePtr tempPtr;\n",
    "    tempPts = top;\n",
    "    top = top ->link;\n",
    "\n",
    "    delete tempPtr;\n",
    "\n",
    "    return result;\n",
    "    }\n",
    "}\n"
   ]
  },
  {
   "cell_type": "markdown",
   "metadata": {},
   "source": [
    "<div style=\"font-family: arial; padding: 30px; padding-top: 0; padding-bottom: 0;\">\n",
    "<h2 id=\"Abstract Data Types\" style=\"color: #d42c06;\">A Queue\n",
    "</h2>\n",
    "\n",
    "<li> A queue is a data structure that retrieves data in\n",
    "the same order the data was stored\n",
    "</li>\n",
    "<ul style=\"margin-right:50px\">\n",
    "  <li>If 'A', 'B', and then 'C' are placed in a queue,\n",
    "they will be removed in the order ‘A', 'B', and\n",
    "then ‘C'</li>\n",
    "</ul>\n",
    "<li>A queue is a first-in/first-out data structure like\n",
    "the checkout line in a supermarket</li>\n",
    "<br>\n",
    "<img src=\"src/img/Queue.png\" style=\"margin: 0 auto; display: block;\"/> <br>\n",
    "</div>"
   ]
  },
  {
   "cell_type": "markdown",
   "metadata": {},
   "source": [
    "<div style=\"font-family: arial; padding: 30px; padding-top: 0; padding-bottom: 0;\">\n",
    "<h2 id=\"Abstract Data Types\" style=\"color: #d42c06;\">Section 13.2 Conclusion</h2>\n",
    "\n",
    "<li> Can you\n",
    "</li>\n",
    "<ul style=\"margin-right:50px\">\n",
    "    <li>Give the definition of member function push?\n",
    "    Create a definition for the stack class copy\n",
    "    constructor?\n",
    "    </li>\n",
    "    <li>Know when to use a queue vs. a stack?\n",
    "    </li>\n",
    "    <li>Create a definition for the queue class copy\n",
    "constructor?\n",
    "    </li>\n",
    " <ul>\n",
    "</div>"
   ]
  },
  {
   "cell_type": "markdown",
   "metadata": {},
   "source": [
    "<div style=\"font-family: arial; padding: 30px; padding-top: 0; padding-bottom: 0;\">\n",
    "<h2 id=\"Abstract Data Types\" style=\"color: #d42c06;\">Chapter 13 -- End</h2>\n",
    "</div>"
   ]
  }
 ],
 "metadata": {
  "language_info": {
   "name": "python"
  }
 },
 "nbformat": 4,
 "nbformat_minor": 2
}

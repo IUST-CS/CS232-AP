{
 "cells": [
  {
   "cell_type": "markdown",
   "metadata": {},
   "source": [
    "<div style=\"font-family: arial; padding: 30px; padding-bottom: 0;\">\n",
    "\n",
    "<h4 style=\"text-align: center;\">In the Name of God</h4>\n",
    "\n",
    "<h2 style=\"text-align: center; color: #103bc9;\">CS232 - Advanced Programming</h2>\n",
    "\n",
    "<h3 style=\"text-align: center; color: #d42c06;\">Iran University of Science and Technology</h3>\n",
    "\n",
    "<h3 style=\"text-align: center; color: #d42c06;\">School of Mathematics and Computer Science</h3>\n",
    "\n",
    "<h4 style=\"padding-top: 7px; text-align: center;\">Winter-Spring 2024</h4>\n",
    "\n",
    "<hr style=\"margin-top: 25px; border-color: #fff;\">\n",
    "\n",
    "<h1 style=\"text-align: center; color: #9c0000;\">Chapter 2: Python Fundamentals</h1>\n",
    "\n",
    "<h3 style=\"padding-top: 7px; text-align: center;\">Sahar Pourghasemi, Mehrnoosh Mofidi\n",
    "</h3>\n",
    "\n",
    "<hr style=\"margin-top: 25px; border-color: #fff;\">\n",
    "\n",
    "</div>"
   ]
  },
  {
   "cell_type": "markdown",
   "metadata": {},
   "source": [
    "<div style=\"font-family: arial; padding: 30px; padding-top: 15px; padding-bottom: 0;\">\n",
    "\n",
    "<hr style=\"margin-top: 25px; border-color: #fff;\">\n",
    "\n",
    "<h2 style=\"text-align: center; color: #186e00;\">Section 7: OOP\n",
    "\n",
    "</h2>\n",
    "\n",
    "<hr style=\"margin-top: 25px; border-color: #fff;\">\n",
    "\n",
    "</div>\n"
   ]
  },
  {
   "cell_type": "markdown",
   "metadata": {},
   "source": [
    "<div style=\"font-family: arial; padding: 30px; padding-top: 0; padding-bottom: 0;\">\n",
    "    \n",
    "<h2 id=\"introduction\" style=\"color: #d42c06;\">Classes\n",
    "</h2>\n",
    "\n",
    "</div>"
   ]
  },
  {
   "cell_type": "markdown",
   "metadata": {},
   "source": [
    "<div style=\"font-size: 1.1em; font-family: arial; padding: 30px; padding-top: 0; padding-bottom: 0;\">\n",
    "\n",
    "<h4>Creating a class</h4>\n",
    "\n",
    "\n",
    "<span>In Python, defining a class is straightforward. You use the class keyword followed by the name of your class, and then begin a new block where you can define methods just like regular functions.</span>\n",
    "\n",
    "<span>Let's review an example:</span>\n",
    "\n",
    "</div>"
   ]
  },
  {
   "cell_type": "code",
   "execution_count": 4,
   "metadata": {},
   "outputs": [
    {
     "name": "stdout",
     "output_type": "stream",
     "text": [
      "Hello, John\n"
     ]
    }
   ],
   "source": [
    "class Greetings:\n",
    "    def greet(self, name):\n",
    "        return f\"Hello, {name}\"\n",
    "\n",
    "c = Greetings()\n",
    "print(c.greet(\"John\"))  # Output: \"Hello, John\"\n"
   ]
  },
  {
   "cell_type": "markdown",
   "metadata": {},
   "source": [
    "<div style=\"font-size: 1.1em; font-family: arial; padding: 30px;\">\n",
    "<div style=\"border: 2px solid #1f49a3; border-radius: 10px; padding: 30px; padding-top: 15px;\">\n",
    "<h3 style=\"color: #1f49a3; font-weight: bold;\">Class and method naming</h3>\n",
    "<span style=\"color: #1f49a3;\">By convention, classes should be named using camel case: MyWonderfulClass but not\n",
    "my_wonderful_class. Methods should use snake case, like regular functions.</span>\n",
    "</div>\n",
    "</div>"
   ]
  },
  {
   "cell_type": "markdown",
   "metadata": {},
   "source": [
    "<div style=\"font-size: 1.1em; font-family: arial; padding: 30px; padding-top: 0; padding-bottom: 0;\">\n",
    "\n",
    "<h4> Self Parameter</h4>\n",
    "\n",
    "\n",
    "<span>The first argument of each method in Python classes must be self, which refers to the current object instance (similar to this in other languages).</span>\n",
    "\n",
    "</div>"
   ]
  },
  {
   "cell_type": "markdown",
   "metadata": {},
   "source": [
    "<div style=\"font-size: 1.1em; font-family: arial; padding: 30px; padding-top: 0; padding-bottom: 0;\">\n",
    "\n",
    "<h4>  Creating an Object</h4>\n",
    "\n",
    "\n",
    "<span>To instantiate a class, simply call the class as you would for a function and assign it to a variable. You can then access the methods using dot notation.</span>\n",
    "\n",
    "</div>"
   ]
  },
  {
   "cell_type": "markdown",
   "metadata": {},
   "source": [
    "<div style=\"font-size: 1.1em; font-family: arial; padding: 30px; padding-top: 0; padding-bottom: 0;\">\n",
    "\n",
    "<h4> Dunder Methods</h4>\n",
    "\n",
    "\n",
    "<span>Dunder methods, or magic methods, are special methods in Python surrounded by double underscores (e.g., '_ _ init _ _', '_ _ str _ _'). They are used to perform various operations like initialization, representation, and more.</span>\n",
    "<br>\n",
    "<br>\n",
    "<span>Let's consider an example:</span>\n",
    "\n",
    "</div>"
   ]
  },
  {
   "cell_type": "code",
   "execution_count": 5,
   "metadata": {},
   "outputs": [
    {
     "name": "stdout",
     "output_type": "stream",
     "text": [
      "Alan\n",
      "Hello, Alan\n",
      "Hello, John\n"
     ]
    }
   ],
   "source": [
    "class Greetings:\n",
    "    def __init__(self, default_name):\n",
    "        self.default_name = default_name\n",
    "        \n",
    "    def greet(self, name=None):\n",
    "        return f\"Hello, {name if name else self.default_name}\"\n",
    "\n",
    "c = Greetings(\"Alan\")\n",
    "print(c.default_name)  # Output: \"Alan\"\n",
    "print(c.greet())        # Output: \"Hello, Alan\"\n",
    "print(c.greet(\"John\"))  # Output: \"Hello, John\"\n"
   ]
  },
  {
   "cell_type": "markdown",
   "metadata": {},
   "source": [
    "<div style=\"font-size: 1.1em; font-family: arial; padding: 30px; padding-top: 0; padding-bottom: 0;\">\n",
    "\n",
    "<span>In this example, __init__ allows us to set a default name property, which will be used by the greet method if no name is provided in the argument.</span>\n",
    "\n",
    "</div>"
   ]
  },
  {
   "cell_type": "markdown",
   "metadata": {},
   "source": [
    "<div style=\"font-size: 1.1em; font-family: arial; padding: 30px;\">\n",
    "<div style=\"border: 2px solid #1f49a3; border-radius: 10px; padding: 30px; padding-top: 15px;\">\n",
    "<h3 style=\"color: #1f49a3; font-weight: bold;\">Private Methods and Properties</h3>\n",
    "<span style=\"color: #1f49a3;\">In Python, there is no strict concept of private methods or properties. However, by convention, you can prefix your private methods and properties with an underscore _ to suggest that they should be considered private.</span>\n",
    "</div>\n",
    "</div>"
   ]
  },
  {
   "cell_type": "markdown",
   "metadata": {},
   "source": [
    "<div style=\"font-family: arial; padding: 30px; padding-top: 0; padding-bottom: 0;\">\n",
    "    \n",
    "<h2 id=\"introduction\" style=\"color: #d42c06;\">Inheritance\n",
    "</h2>\n",
    "\n",
    "</div>"
   ]
  },
  {
   "cell_type": "markdown",
   "metadata": {},
   "source": [
    "<div style=\"font-size: 1.1em; font-family: arial; padding: 30px; padding-top: 0; padding-bottom: 0;\">\n",
    "\n",
    "\n",
    "<span>Inheritance is a key principle in object-oriented programming (OOP) where a new class (child class) can inherit attributes and methods from an existing class (parent class). This promotes code reuse and enables the creation of class hierarchies.</span>\n",
    "\n",
    "</div>"
   ]
  },
  {
   "cell_type": "code",
   "execution_count": 9,
   "metadata": {},
   "outputs": [],
   "source": [
    "class Parent:\n",
    "    def method(self):\n",
    "        return \"Parent method\"\n",
    "\n",
    "class Child(Parent):\n",
    "    pass\n"
   ]
  },
  {
   "cell_type": "markdown",
   "metadata": {},
   "source": [
    "<div style=\"font-size: 1.1em; font-family: arial; padding: 30px;\">\n",
    "<div style=\"border: 2px solid #1f49a3; border-radius: 10px; padding: 30px; padding-top: 15px;\">\n",
    "<h3 style=\"color: #1f49a3; font-weight: bold;\">The pass statement</h3>\n",
    "<span style=\"color: #1f49a3;\">pass is a statement that does nothing. Since Python relies only on indentation to denote\n",
    "blocks, it’s a useful statement to create an empty block, as you would do with curly braces in\n",
    "other programming languages.\n",
    "In this example, we don’t want to add some logic to the Child class, so we just write pass.\n",
    "Another way to do it is to add a docstring just below the class definition.</span>\n",
    "</div>\n",
    "</div>"
   ]
  },
  {
   "cell_type": "markdown",
   "metadata": {},
   "source": [
    "<div style=\"font-size: 1.1em; font-family: arial; padding: 30px; padding-top: 0; padding-bottom: 0;\">\n",
    "\n",
    "<span>Here, the ' Child ' class inherits the ' method() ' from the ' Parent ' class.\n",
    "\n",
    "</span>\n",
    "\n",
    "</div>"
   ]
  },
  {
   "cell_type": "markdown",
   "metadata": {},
   "source": [
    "<div style=\"font-size: 1.1em; font-family: arial; padding: 30px; padding-top: 0; padding-bottom: 0;\">\n",
    "\n",
    "<h4>Super Function:</h4>\n",
    "\n",
    "\n",
    "<span>The ' super() ' function allows a subclass to call methods of its superclass. This is particularly useful when you want to extend or override methods from the parent class while still retaining their functionality.</span>\n",
    "\n",
    "</div>"
   ]
  },
  {
   "cell_type": "code",
   "execution_count": 10,
   "metadata": {},
   "outputs": [],
   "source": [
    "class Parent:\n",
    "    def method(self):\n",
    "        return \"Parent method\"\n",
    "\n",
    "class Child(Parent):\n",
    "    def method(self):\n",
    "        parent_result = super().method()\n",
    "        return f\"Child {parent_result}\"\n"
   ]
  },
  {
   "cell_type": "markdown",
   "metadata": {},
   "source": [
    "<div style=\"font-size: 1.1em; font-family: arial; padding: 30px; padding-top: 0; padding-bottom: 0;\">\n",
    "\n",
    "<span>In this example, the ' Child ' class overrides the ' method() ' of the ' Parent ' class and extends it.\n",
    "\n",
    "\n",
    "\n",
    "</span>\n",
    "\n",
    "</div>"
   ]
  },
  {
   "cell_type": "markdown",
   "metadata": {},
   "source": [
    "<div style=\"font-family: arial; padding: 30px; padding-top: 0; padding-bottom: 0;\">\n",
    "    \n",
    "<h2 id=\"introduction\" style=\"color: #d42c06;\">Iterators\n",
    "</h2>\n",
    "\n",
    "</div>"
   ]
  },
  {
   "cell_type": "markdown",
   "metadata": {},
   "source": [
    "<div style=\"font-size: 1.1em; font-family: arial; padding: 30px; padding-top: 0; padding-bottom: 0;\">\n",
    "\n",
    "\n",
    "<span>In Python, an iterator is an object that represents a stream of data. It allows you to iterate over elements in a sequence, one at a time, without needing to know the underlying implementation. Iterators are fundamental to Python's iteration protocol and are used extensively in loops and comprehensions.</span>\n",
    "\n",
    "<span>Creating an Iterator\n",
    "</span>\n",
    "\n",
    "<span>To create an iterator in Python, you need to implement two special methods: ' _ _ iter _ _ () ' and ' _ _ next _ _ () '. The ' _ _ iter _ _ () ' method returns the iterator object itself, while the ' _ _ next _ _ () ' method returns the next element in the sequence. When there are no more elements to return, ' _ _ next _ _ () ' raises a ' StopIteration ' exception.</span>\n",
    "\n",
    "\n",
    "\n",
    "</div>"
   ]
  },
  {
   "cell_type": "code",
   "execution_count": 11,
   "metadata": {},
   "outputs": [
    {
     "name": "stdout",
     "output_type": "stream",
     "text": [
      "1\n",
      "2\n",
      "3\n",
      "4\n",
      "5\n"
     ]
    }
   ],
   "source": [
    "class MyIterator:\n",
    "    def __init__(self, data):\n",
    "        self.data = data\n",
    "        self.index = 0\n",
    "    \n",
    "    def __iter__(self):\n",
    "        return self\n",
    "    \n",
    "    def __next__(self):\n",
    "        if self.index < len(self.data):\n",
    "            value = self.data[self.index]\n",
    "            self.index += 1\n",
    "            return value\n",
    "        else:\n",
    "            raise StopIteration()\n",
    "\n",
    "# Example usage:\n",
    "my_iter = MyIterator([1, 2, 3, 4, 5])\n",
    "for item in my_iter:\n",
    "    print(item)\n"
   ]
  },
  {
   "cell_type": "markdown",
   "metadata": {},
   "source": [
    "<div style=\"font-size: 1.1em; font-family: arial; padding: 30px; padding-top: 0; padding-bottom: 0;\">\n",
    "\n",
    "<span>In this example, ' MyIterator ' is a custom iterator class that iterates over a list of data. The ' _ _ iter _ _ () ' method returns the iterator object itself, and the ' _ _ next _ _ () ' method returns each element from the list until it reaches the end.</span>\n",
    "\n",
    "</div>"
   ]
  },
  {
   "cell_type": "markdown",
   "metadata": {},
   "source": [
    "<div style=\"font-size: 1.1em; font-family: arial; padding: 30px; padding-top: 0; padding-bottom: 0;\">\n",
    "\n",
    "<h4>StopIteration Exception</h4>\n",
    "\n",
    "\n",
    "<span>The StopIteration exception is raised by the ' _ _ next _ _ () ' method when there are no more elements to return. This signals the end of the iteration and is used by Python's iteration protocol to terminate the loop or comprehension.</span>\n",
    "\n",
    "</div>"
   ]
  },
  {
   "cell_type": "code",
   "execution_count": null,
   "metadata": {},
   "outputs": [
    {
     "ename": "",
     "evalue": "",
     "output_type": "error",
     "traceback": [
      "\u001b[1;31mThe kernel failed to start as '/Library/Frameworks/Python.framework/Versions/3.11/lib/python3.11/site-packages/psutil/_psutil_osx.abi3.so' could not be imported from '/Library/Frameworks/Python.framework/Versions/3.11/lib/python3.11/site-packages/psutil/_psutil_osx.abi3.so, 0x0002'.\n",
      "Click <a href='https://aka.ms/kernelFailuresModuleImportErrFromFile'>here</a> for more info."
     ]
    }
   ],
   "source": [
    "iterator = iter([1, 2, 3])\n",
    "print(next(iterator))  # Output: 1\n",
    "print(next(iterator))  # Output: 2\n",
    "print(next(iterator))  # Output: 3\n",
    "print(next(iterator))  # Raises StopIteration exception\n"
   ]
  },
  {
   "cell_type": "markdown",
   "metadata": {},
   "source": [
    "<div style=\"font-size: 1.1em; font-family: arial; padding: 30px; padding-top: 0; padding-bottom: 0;\">\n",
    "\n",
    "<span>Here, the ' next() ' function is used to retrieve the next element from the iterator. When there are no more elements, it raises a ' StopIteration ' exception.\n",
    "\n",
    "</span>\n",
    "<span>Understanding iterators and how to create them is essential for working with iterable objects in Python, such as lists, tuples, dictionaries, and custom data structures.</span>\n",
    "\n",
    "</div>"
   ]
  },
  {
   "cell_type": "markdown",
   "metadata": {},
   "source": [
    "<div style=\"font-family: arial; padding: 30px; padding-top: 0; padding-bottom: 0;\">\n",
    "    \n",
    "<h2 id=\"introduction\" style=\"color: #d42c06;\">Polymorphism\n",
    "</h2>\n",
    "\n",
    "</div>"
   ]
  },
  {
   "cell_type": "markdown",
   "metadata": {},
   "source": [
    "<div style=\"font-size: 1.1em; font-family: arial; padding: 30px; padding-top: 0; padding-bottom: 0;\">\n",
    "\n",
    "\n",
    "<span>Polymorphism in object-oriented programming refers to the ability of different classes to be treated as instances of the same class through a common interface. This allows for more flexible and modular code, as it enables different classes to implement the same methods in different ways. One common way to achieve polymorphism is through method overriding, where a subclass provides a specific implementation of a method that is already defined in its superclass.</span>\n",
    "\n",
    "<span>Let's explore how method overriding works in Python:</span>\n",
    "\n",
    "</div>"
   ]
  },
  {
   "cell_type": "code",
   "execution_count": 13,
   "metadata": {},
   "outputs": [
    {
     "name": "stdout",
     "output_type": "stream",
     "text": [
      "Animal speaks\n",
      "Dog barks\n",
      "Cat meows\n"
     ]
    }
   ],
   "source": [
    "class Animal:\n",
    "    def speak(self):\n",
    "        return \"Animal speaks\"\n",
    "\n",
    "class Dog(Animal):\n",
    "    def speak(self):\n",
    "        return \"Dog barks\"\n",
    "\n",
    "class Cat(Animal):\n",
    "    def speak(self):\n",
    "        return \"Cat meows\"\n",
    "\n",
    "# Creating instances of each class\n",
    "animal = Animal()\n",
    "dog = Dog()\n",
    "cat = Cat()\n",
    "\n",
    "# Calling the speak method on each instance\n",
    "print(animal.speak())  # Output: Animal speaks\n",
    "print(dog.speak())     # Output: Dog barks\n",
    "print(cat.speak())     # Output: Cat meows\n"
   ]
  },
  {
   "cell_type": "markdown",
   "metadata": {},
   "source": [
    "<div style=\"font-size: 1.1em; font-family: arial; padding: 30px; padding-top: 0; padding-bottom: 0;\">\n",
    "\n",
    "<span>In this example, we have a base class ' Animal ' with a method ' speak() '. We then create two subclasses  ' Dog ' and ' Cat ', each of which overrides the ' speak() ' method with its own implementation. When we call the ' speak() ' method on instances of each class, Python resolves the method call dynamically based on the actual type of the object, resulting in polymorphic behavior.</span>\n",
    "\n",
    "<span>This ability to override methods in subclasses allows for more specialized behavior while still maintaining a common interface defined by the superclass. It's a powerful concept in object-oriented programming that promotes code reuse and flexibility.</span>\n",
    "\n",
    "</div>"
   ]
  },
  {
   "cell_type": "markdown",
   "metadata": {},
   "source": [
    "<div style=\"font-family: arial; padding: 30px; padding-top: 0; padding-bottom: 0;\">\n",
    "    \n",
    "<h2 style=\"color: #d42c06;\">References</h2>\n",
    "\n",
    "<ul>\n",
    "    <li>Voron, François. Building Data Science Applications with FastAPI: Develop, manage, and deploy efficient machine learning applications with Python. Packt Publishing Ltd, 2023\n",
    "        .</li>\n",
    "</ul>\n",
    "\n",
    "<hr style=\"margin-top: 25px; border-color: #fff;\">\n",
    "\n",
    "</div>"
   ]
  }
 ],
 "metadata": {
  "kernelspec": {
   "display_name": "Python 3.11.2 64-bit",
   "language": "python",
   "name": "python3"
  },
  "language_info": {
   "codemirror_mode": {
    "name": "ipython",
    "version": 3
   },
   "file_extension": ".py",
   "mimetype": "text/x-python",
   "name": "python",
   "nbconvert_exporter": "python",
   "pygments_lexer": "ipython3",
   "version": "3.11.2"
  },
  "vscode": {
   "interpreter": {
    "hash": "aee8b7b246df8f9039afb4144a1f6fd8d2ca17a180786b69acc140d282b71a49"
   }
  }
 },
 "nbformat": 4,
 "nbformat_minor": 2
}

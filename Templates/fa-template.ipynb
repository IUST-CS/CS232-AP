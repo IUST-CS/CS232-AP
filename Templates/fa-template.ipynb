{
 "cells": [
  {
   "cell_type": "markdown",
   "id": "24971931-144f-402e-9fc4-ede95a159218",
   "metadata": {},
   "source": [
    "<div style=\"font-family: arial; direction: rtl; padding: 30px; padding-bottom: 0;\">\n",
    "\n",
    "<h4 style=\"text-align: center;\">به نام خدا</h4>\n",
    "\n",
    "<h2 style=\"text-align: center; color: #103bc9;\">برنامه‌سازی پیشرفته</h2>\n",
    "\n",
    "<h3 style=\"text-align: center; color: #d42c06;\">دانشگاه علم و صنعت ایران<br><br>دانشکده ریاضی و علوم کامپیوتر</h3>\n",
    "\n",
    "<h4 style=\"padding-top: 7px; text-align: center;\">نیمسال دوم سال تحصیلی ۱۴۰۲-۱۴۰۳</h4>\n",
    "\n",
    "<hr style=\"margin-top: 25px; border-color: #fff;\">\n",
    "\n",
    "<h1 style=\"text-align: center; color: #9c0000;\">فصل ۱: کلاس‌ها</h1>\n",
    "\n",
    "<h2 style=\"text-align: center; color: #186e00;\">بخش ۱: مقدمات</h2>\n",
    "\n",
    "<h3 style=\"text-align: center; padding-top: 7px;\">کاظم فرقانی</h3>\n",
    "\n",
    "<hr style=\"margin-top: 25px; border-color: #fff;\">\n",
    "\n",
    "</div>"
   ]
  },
  {
   "cell_type": "markdown",
   "id": "90298cc0-60cf-4799-87db-bd2e8fc338c3",
   "metadata": {},
   "source": [
    "<div style=\"font-family: arial; direction: rtl; padding: 30px; padding-top: 0; padding-bottom: 0;\">\n",
    "    \n",
    "<h2 style=\"color: #d42c06;\">فهرست مطالب</h2>\n",
    "\n",
    "<ul>\n",
    "    <li><a href=\"#introduction\">مقدمات</a></li>\n",
    "    <li><a href=\"#conclusion\">جمع‌بندی</a></li>\n",
    "</ul>\n",
    "\n",
    "<hr style=\"margin-top: 25px; border-color: #fff;\">\n",
    "\n",
    "</div>"
   ]
  },
  {
   "cell_type": "markdown",
   "id": "b2703d52-7195-48ea-8648-327e02dd0761",
   "metadata": {},
   "source": [
    "<div style=\"font-family: arial; direction: rtl; padding: 30px; padding-top: 0; padding-bottom: 0;\">\n",
    "    \n",
    "<h2 id=\"introduction\" style=\"color: #d42c06;\">مقدمات</h2>\n",
    "\n",
    "</div>"
   ]
  },
  {
   "cell_type": "markdown",
   "id": "0c39d9ec-0d0b-4196-b8d6-6d063bfc356f",
   "metadata": {},
   "source": [
    "<div style=\"direction: rtl; font-size: 1.1em; font-family: arial; padding: 30px; padding-top: 0; padding-bottom: 0;\">\n",
    "<span>این یک نمونه است.</span>\n",
    "<hr style=\"margin-top: 25px; border-color: #fff;\">\n",
    "</div>"
   ]
  },
  {
   "cell_type": "markdown",
   "id": "dcfc18a2-fdea-415d-ad02-7e3ac7859c2a",
   "metadata": {},
   "source": [
    "<div style=\"font-size: 1.1em; font-family: arial; direction: rtl; padding: 30px;\">\n",
    "<div style=\"border: 2px solid #1f49a3; border-radius: 10px; padding: 30px; padding-top: 15px;\">\n",
    "<h3 style=\"color: #1f49a3; font-weight: bold;\">نکته</h3>\n",
    "<span style=\"color: #1f49a3;\">این یک نمونه است.</span>\n",
    "</div>\n",
    "</div>"
   ]
  },
  {
   "cell_type": "code",
   "execution_count": null,
   "id": "c520a3aa-94e2-413f-9807-124015c0358d",
   "metadata": {},
   "outputs": [],
   "source": []
  },
  {
   "cell_type": "markdown",
   "id": "72e38af5-57c5-47c8-94c4-77b719591a53",
   "metadata": {},
   "source": [
    "<div style=\"padding: 30px; padding-top: 0; padding-bottom: 0;\">\n",
    "\n",
    "<hr style=\"border-color: #fff;\">\n",
    "\n",
    "</div>"
   ]
  },
  {
   "cell_type": "markdown",
   "id": "bb103277-4745-4d72-bd54-32d161c0ce59",
   "metadata": {},
   "source": [
    "<div style=\"font-family: arial; direction: rtl; padding: 30px; padding-top: 0; padding-bottom: 0;\">\n",
    "    \n",
    "<h2 id=\"conclusion\" style=\"color: #d42c06;\">جمع‌بندی</h2>\n",
    "\n",
    "</div>"
   ]
  },
  {
   "cell_type": "code",
   "execution_count": null,
   "id": "b778dbc4-e3ee-4b1d-baf7-067e7773af9a",
   "metadata": {},
   "outputs": [],
   "source": []
  },
  {
   "cell_type": "markdown",
   "id": "16a0474b-c50d-4087-a7f2-5a232fe6f720",
   "metadata": {},
   "source": [
    "<div style=\"padding: 30px; padding-top: 0; padding-bottom: 0;\">\n",
    "\n",
    "<hr style=\"border-color: #fff;\">\n",
    "\n",
    "</div>"
   ]
  },
  {
   "cell_type": "markdown",
   "id": "e0dea3fb-d681-473d-9d33-8a3c504b3fd9",
   "metadata": {},
   "source": [
    "<div style=\"font-family: arial; direction: rtl; padding: 30px; padding-top: 0; padding-bottom: 0;\">\n",
    "    \n",
    "<h2 style=\"color: #d42c06;\">منابع و مراجع</h2>\n",
    "\n",
    "<ul style=\"direction: ltr;\">\n",
    "    <li>Walter J. Savitch. Problem Solving with C++, Tenth Edition. 2018.</li>\n",
    "</ul>\n",
    "\n",
    "<hr style=\"margin-top: 25px; border-color: #fff;\">\n",
    "\n",
    "</div>"
   ]
  }
 ],
 "metadata": {
  "kernelspec": {
   "display_name": "C++17",
   "language": "C++17",
   "name": "xcpp17"
  },
  "language_info": {
   "codemirror_mode": "text/x-c++src",
   "file_extension": ".cpp",
   "mimetype": "text/x-c++src",
   "name": "c++",
   "version": "17"
  }
 },
 "nbformat": 4,
 "nbformat_minor": 5
}

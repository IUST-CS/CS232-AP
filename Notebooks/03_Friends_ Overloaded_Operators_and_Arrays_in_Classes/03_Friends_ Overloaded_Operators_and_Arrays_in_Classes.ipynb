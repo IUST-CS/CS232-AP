{
 "cells": [
  {
   "cell_type": "markdown",
   "id": "24971931-144f-402e-9fc4-ede95a159218",
   "metadata": {},
   "source": [
    "<div style=\"font-family: arial; padding: 30px; padding-bottom: 0;\">\n",
    "\n",
    "<h4 style=\"text-align: center;\">In the Name of God</h4>\n",
    "\n",
    "<h2 style=\"text-align: center; color: #103bc9;\">CS232 - Advanced Programming</h2>\n",
    "\n",
    "<h3 style=\"text-align: center; color: #d42c06;\">Iran University of Science and Technology</h3>\n",
    "\n",
    "<h3 style=\"text-align: center; color: #d42c06;\">School of Mathematics and Computer Science</h3>\n",
    "\n",
    "<h4 style=\"padding-top: 7px; text-align: center;\">Winter-Spring 2024</h4>\n",
    "\n",
    "<hr style=\"margin-top: 25px; border-color: #fff;\">\n",
    "\n",
    "<h1 style=\"text-align: center; color: #9c0000;\">Chapter 1: Classes</h1>\n",
    "\n",
    "<h3 style=\"padding-top: 7px; text-align: center;\">Kazem Forghani</h3>\n",
    "\n",
    "<hr style=\"margin-top: 25px; border-color: #fff;\">\n",
    "\n",
    "</div>"
   ]
  },
  {
   "cell_type": "markdown",
   "id": "648a3a2d",
   "metadata": {},
   "source": [
    "<div style=\"font-family: arial; padding: 30px; padding-bottom: 0;\">\n",
    "\n",
    "<hr style=\"margin-top: 25px; border-color: #fff;\">\n",
    "\n",
    "<h2 style=\"text-align: center; color: #186e00;\">Section 1: Introduction </h2>\n",
    "\n",
    "<hr style=\"margin-top: 25px; border-color: #fff;\">\n",
    "\n",
    "</div>"
   ]
  },
  {
   "cell_type": "markdown",
   "id": "90298cc0-60cf-4799-87db-bd2e8fc338c3",
   "metadata": {},
   "source": [
    "<div style=\"font-family: arial; padding: 30px; padding-top: 0; padding-bottom: 0;\">\n",
    "    \n",
    "<h2 style=\"color: #d42c06;\">the money class </h2>\n",
    "\n",
    "\n",
    "</div>"
   ]
  },
  {
   "cell_type": "code",
   "execution_count": 1,
   "id": "d2b25528-c788-46aa-80fb-b9d8bfcfd738",
   "metadata": {},
   "outputs": [],
   "source": [
    "//Program to demonstrate the class Money.\n",
    "#include <iostream>\n",
    "#include <cstdlib>\n",
    "#include <cctype>\n",
    "\n",
    "using namespace std;"
   ]
  },
  {
   "cell_type": "code",
   "execution_count": 2,
   "id": "da2c20a5-92fd-4de1-86e2-3a9d32ed3169",
   "metadata": {},
   "outputs": [],
   "source": [
    "//Class for amounts of money in U.S. currency.\n",
    "\n",
    "class Money\n",
    "{\n",
    "public:\n",
    "    friend Money add(Money amount1, Money amount2);\n",
    "    //Precondition: amount1 and amount2 have been given values.\n",
    "    //Returns the sum of the values of amount1 and amount2.\n",
    "\n",
    "    friend bool equal(Money amount1, Money amount2);\n",
    "    //Precondition: amount1 and amount2 have been given values.\n",
    "    //Returns true if the amount1 and amount2 have the same value;\n",
    "    //otherwise, returns false.\n",
    "    \n",
    "    Money(long dollars, int cents);\n",
    "    //Initializes the object so its value represents an amount with the\n",
    "    //dollars and cents given by the arguments. If the amount is negative,\n",
    "    //then both dollars and cents must be negative.\n",
    "    \n",
    "    Money(long dollars);\n",
    "    //Initializes the object so its value represents $dollars.00.\n",
    "    \n",
    "    Money( );\n",
    "    //Initializes the object so its value represents $0.00.\n",
    "    \n",
    "    double getValue( );\n",
    "    //Precondition: The calling object has been given a value.\n",
    "    //Returns the amount of money recorded in the data of the calling object.\n",
    "    \n",
    "    void input(istream& ins);\n",
    "    //Precondition: If ins is a file input stream, then ins has already been\n",
    "    //connected to a file. An amount of money, including a dollar sign, has been\n",
    "    //entered in the input stream ins. Notation for negative amounts is −$100.00.\n",
    "    //Postcondition: The value of the calling object has been set to\n",
    "    //the amount of money read from the input stream ins.\n",
    "    \n",
    "    void output(ostream& outs);\n",
    "    //Precondition: If outs is a file output stream, then outs has already been\n",
    "    //connected to a file.\n",
    "    //Postcondition: A dollar sign and the amount of money recorded\n",
    "    //in the calling object have been sent to the output stream outs.\n",
    "\n",
    "private:\n",
    "    long allCents;\n",
    "};\n"
   ]
  },
  {
   "cell_type": "code",
   "execution_count": 3,
   "id": "59c2392f-cdb5-4e2e-92bb-f3cc18bb7f06",
   "metadata": {},
   "outputs": [],
   "source": [
    "int digitToInt(char c)\n",
    "{\n",
    "    return (static_cast<int>(c) - static_cast<int>('0'));\n",
    "}"
   ]
  },
  {
   "cell_type": "code",
   "execution_count": 4,
   "id": "a0943714-845d-4945-8bf6-1d52fe1d91b6",
   "metadata": {},
   "outputs": [],
   "source": [
    "Money add(Money amount1, Money amount2)\n",
    "{\n",
    "    Money temp;\n",
    "\n",
    "    temp.allCents = amount1.allCents + amount2.allCents;\n",
    "    return temp;\n",
    "}"
   ]
  },
  {
   "cell_type": "code",
   "execution_count": 5,
   "id": "06d9f30e-d961-4567-b6c7-793c98cd7f83",
   "metadata": {},
   "outputs": [],
   "source": [
    "bool equal(Money amount1, Money amount2)\n",
    "{\n",
    "    return (amount1.allCents == amount2.allCents);\n",
    "}\n"
   ]
  },
  {
   "cell_type": "code",
   "execution_count": 6,
   "id": "a07ba285-8568-4b99-9714-edbd909d5eaf",
   "metadata": {},
   "outputs": [],
   "source": [
    "Money::Money(long dollars, int cents)\n",
    "{\n",
    "    if (dollars * cents < 0) //If one is negative and one is positive\n",
    "    {\n",
    "        cout << \"Error illegal form for money input\\n\";\n",
    "        exit(1);\n",
    "    }\n",
    "\n",
    "    allCents = dollars * 100 + cents;\n",
    "}"
   ]
  },
  {
   "cell_type": "code",
   "execution_count": 7,
   "id": "4cad4c4d-9f5e-444f-b5b1-3152c21ac5ed",
   "metadata": {},
   "outputs": [],
   "source": [
    "Money::Money(): allCents(0){}"
   ]
  },
  {
   "cell_type": "code",
   "execution_count": 8,
   "id": "3c491990-4ea2-497a-a695-2cdd8c7034cd",
   "metadata": {},
   "outputs": [],
   "source": [
    "Money::Money(long dollars): allCents(dollars*100){}"
   ]
  },
  {
   "cell_type": "code",
   "execution_count": 9,
   "id": "94acad1c-3199-401d-93df-9491f20e2ef4",
   "metadata": {},
   "outputs": [],
   "source": [
    "void Money::input(istream& ins){\n",
    "    char oneChar, decimalPoint, digit1, digit2;\n",
    "    long dollars;\n",
    "    int cents;\n",
    "    bool negative;\n",
    "\n",
    "    ins >> oneChar;\n",
    "    if (oneChar == ' '){\n",
    "        negative = true;\n",
    "        ins >> oneChar; //read $\n",
    "    }else\n",
    "        negative = false;\n",
    "    ins >> dollars >> decimalPoint >> digit1 >> digit2;\n",
    "    if ( oneChar != '$' || decimalPoint != '.' ||\n",
    "        !isdigit(digit1) || !isdigit(digit2)){\n",
    "        cout << \"Error illegal form from money input\\n\";\n",
    "        exit(1);\n",
    "    }\n",
    "\n",
    "    cents = digitToInt(digit1) * 10 + digitToInt(digit2);\n",
    "    allCents = dollars * 100 + cents;\n",
    "    if(negative)\n",
    "        allCents = - allCents;\n",
    "}"
   ]
  },
  {
   "cell_type": "code",
   "execution_count": 10,
   "id": "39741ea5-a5d2-415b-a14f-13b3ba994f77",
   "metadata": {},
   "outputs": [],
   "source": [
    "//Uses cstdlib and iostream:\n",
    "\n",
    "void Money::output(ostream& outs)\n",
    "{\n",
    "    long positiveCents, dollars, cents;\n",
    "    positiveCents = labs(allCents);\n",
    "    dollars = positiveCents / 100;\n",
    "    cents = positiveCents % 100;\n",
    "\n",
    "    if (allCents < 0)\n",
    "        outs << \"−$\" << dollars << '.';\n",
    "    else\n",
    "        outs << \"$\" << dollars << '.';\n",
    "    \n",
    "    if (cents < 10)\n",
    "        outs << '0';\n",
    "    outs << cents;\n",
    "}"
   ]
  },
  {
   "cell_type": "code",
   "execution_count": 11,
   "id": "995b58e3-102e-4bf4-9512-d88318994aeb",
   "metadata": {},
   "outputs": [
    {
     "name": "stdout",
     "output_type": "stream",
     "text": [
      "Enter an amount of money: "
     ]
    },
    {
     "name": "stdin",
     "output_type": "stream",
     "text": [
      " $123.45\n"
     ]
    },
    {
     "name": "stdout",
     "output_type": "stream",
     "text": [
      "Your amount is $123.45\n",
      "My amount is $10.09\n",
      "One of us is richer.\n",
      "$123.45 + $10.09 equals $133.54\n"
     ]
    }
   ],
   "source": [
    "Money yourAmount, myAmount(10, 9), ourAmount;\n",
    "cout << \"Enter an amount of money: \";\n",
    "yourAmount.input(cin);\n",
    "cout << \"Your amount is \";\n",
    "yourAmount.output(cout);\n",
    "cout << endl;\n",
    "cout << \"My amount is \";\n",
    "myAmount.output(cout);\n",
    "cout << endl;\n",
    "if (equal(yourAmount, myAmount))\n",
    "    cout << \"We have the same amounts.\\n\";\n",
    "else\n",
    "    cout << \"One of us is richer.\\n\";\n",
    "ourAmount = add(yourAmount, myAmount);\n",
    "yourAmount.output(cout);\n",
    "cout << \" + \";\n",
    "myAmount.output(cout);\n",
    "cout << \" equals \";\n",
    "ourAmount.output(cout);\n",
    "cout << endl;"
   ]
  },
  {
   "cell_type": "markdown",
   "id": "b2703d52-7195-48ea-8648-327e02dd0761",
   "metadata": {},
   "source": [
    "<div style=\"font-family: arial; padding: 30px; padding-top: 0; padding-bottom: 0;\">\n",
    "    \n",
    "<h2  style=\"color: #d42c06;\">Characters to Integers</h2>\n",
    "\n",
    "</div>"
   ]
  },
  {
   "cell_type": "markdown",
   "id": "e9fce79e-610b-4158-a0ec-e384bb3be676",
   "metadata": {},
   "source": [
    "<div style=\"font-size: 1.1em; font-family: arial; padding: 30px; padding-top: 0; padding-bottom: 0;\">\n",
    "\n",
    "\n",
    "<div style=\"font-size: 1em; font-family: arial; margin-top: 20px;\">\n",
    "    <ul>\n",
    "        <p>Notice how function input (Display 11.3) processes the dollar values entered:</p>\n",
    "        <li>First read the character that is a dollar sign or a dash.</li>\n",
    "        <li>If it is the -, set the value of negative to true and read the $ sign which should be next.</li>\n",
    "        <li>Next read the dollar amount as a long.</li>\n",
    "        <li>Next read the decimal point and cents as three characters.</li>\n",
    "        <li>digitToInt is then used to convert the cents characters to integers.</li>\n",
    "        </ul>\n",
    "    \n",
    "</div>\n",
    "\n",
    "</div>\n"
   ]
  },
  {
   "cell_type": "markdown",
   "id": "6eb0cf5f-6243-429e-8711-fdb197da6477",
   "metadata": {},
   "source": [
    "<div style=\"font-family: arial; padding: 30px; padding-top: 0; padding-bottom: 0;\">\n",
    "    \n",
    "<h2  style=\"color: #d42c06;\">digitToInt(optional)</h2>\n",
    "\n",
    "</div>"
   ]
  },
  {
   "cell_type": "markdown",
   "id": "456cc7d8-e9ac-44ea-8d1e-81b63c9a0035",
   "metadata": {},
   "source": [
    "<div style=\"font-size: 1.1em; font-family: arial; padding: 30px; padding-top: 0; padding-bottom: 0;\">\n",
    "\n",
    "\n",
    "\n",
    "<p><strong>digitToInt is defined as:</strong></p>\n",
    "<pre>\n",
    "int digitToInt(char c)\n",
    "{\n",
    "    return (static_cast&lt;int&gt;(c) - static_cast&lt;int&gt;('0'));\n",
    "}\n",
    "</pre>\n",
    "<p><strong>Explanation:</strong></p>\n",
    "<ul>\n",
    "    <li>A digit, such as '3', is parameter <em>c</em>.</li>\n",
    "    <li>This is the character '3', not the number 3.</li>\n",
    "    <li>The type cast <code>static_cast&lt;int&gt;(c)</code> returns the number that implements the character stored in <em>c</em>.</li>\n",
    "    <li>The type cast <code>static_cast&lt;int&gt;('0')</code> returns the number that implements the character '0'.</li>\n",
    "</ul>\n",
    "\n",
    "</div>\n"
   ]
  },
  {
   "cell_type": "markdown",
   "id": "8b768f85-ba8a-41b9-916c-3f95d74be666",
   "metadata": {},
   "source": [
    "<div style=\"font-family: arial; padding: 30px; padding-top: 0; padding-bottom: 0;\">\n",
    "    \n",
    "<h2  style=\"color: #d42c06;\">int(c) – int ('0')?</h2>\n",
    "\n",
    "</div>"
   ]
  },
  {
   "cell_type": "markdown",
   "id": "27795f3b-8942-43ca-8e14-7e2874664b08",
   "metadata": {},
   "source": [
    "<div style=\"font-size: 1.1em; font-family: arial; padding: 30px; padding-top: 0; padding-bottom: 0;\">\n",
    "\n",
    "<p>The numbers implementing the digits are in order:</p>\n",
    "<ul>\n",
    "    <li><code>int('0') + 1</code> is equivalent to <code>int('1')</code>.</li>\n",
    "    <li><code>int('1') + 1</code> is equivalent to <code>int('2')</code>.</li>\n",
    "</ul>\n",
    "\n",
    "<p>If <code>c</code> is '0':</p>\n",
    "<ul>\n",
    "    <li><code>int(c) - int('0')</code> returns integer 0.</li>\n",
    "</ul>\n",
    "\n",
    "<p>If <code>c</code> is '1':</p>\n",
    "<ul>\n",
    "    <li><code>int(c) – int('0')</code> returns integer 1.</li>\n",
    "</ul>\n",
    "\n",
    "</div>\n",
    "\n"
   ]
  },
  {
   "cell_type": "markdown",
   "id": "96441408-cf73-4575-93c5-a3b6072a01a9",
   "metadata": {},
   "source": [
    "<div style=\"font-family: arial; padding: 30px; padding-top: 0; padding-bottom: 0;\">\n",
    "    \n",
    "<h2  style=\"color: #d42c06;\">Leading Zeros</h2>\n",
    "\n",
    "</div>"
   ]
  },
  {
   "cell_type": "markdown",
   "id": "feb7090d-ae17-4f84-a110-0220aa3a1b27",
   "metadata": {},
   "source": [
    "<div style=\"font-size: 1.1em; font-family: arial; padding: 30px; padding-top: 0; padding-bottom: 0;\">\n",
    "\n",
    "<p>Some compilers interpret a number with a leading zero as a base 8 number.</p>\n",
    "<ul>\n",
    "    <li>Base 8 uses digits 0–7.</li>\n",
    "</ul>\n",
    "<p>Using 09 to represent 9 cents could cause an error.</p>\n",
    "<ul>\n",
    "    <li>the digit 9 is not allowed in a base 8 number.</li>\n",
    "</ul>\n",
    "<p>The ANSI C++ standard is that input should be interpreted as base 10 regardless of a leading zero.</p>\n",
    "\n",
    "</div>\n",
    "\n"
   ]
  },
  {
   "cell_type": "markdown",
   "id": "b0427b1e-04f2-47e8-8c7d-fb7544b93faa",
   "metadata": {},
   "source": [
    "<div style=\"font-family: arial; padding: 30px; padding-top: 0; padding-bottom: 0;\">\n",
    "    \n",
    "<h2  style=\"color: #d42c06;\">Parameter Passing Efficiency</h2>\n",
    "\n",
    "</div>"
   ]
  },
  {
   "cell_type": "markdown",
   "id": "00f43610-ff7a-46bd-a0e5-64f706824f8f",
   "metadata": {},
   "source": [
    "<div style=\"font-size: 1.1em; font-family: arial; padding: 30px; padding-top: 0; padding-bottom: 0;\">\n",
    "\n",
    "\n",
    "<p>A call-by-value parameter is less efficient than a call-by-reference parameter.\n",
    "    <ul>\n",
    "        <li>The parameter is a local variable initialized to the value of the argument.\n",
    "            <ul>\n",
    "                <li>This results in two copies of the argument.</li>\n",
    "            </ul>\n",
    "        </li>\n",
    "    </ul>\n",
    "</p>\n",
    "<p>A call-by-reference parameter is more efficient.\n",
    "    <ul>\n",
    "        <li>The parameter is a placeholder replaced by the argument.\n",
    "            <ul>\n",
    "                <li>There is only one copy of the argument.</li>\n",
    "            </ul>\n",
    "        </li>\n",
    "    </ul>\n",
    "</p>\n",
    "\n",
    "</div>\n"
   ]
  },
  {
   "cell_type": "markdown",
   "id": "c3662b78-5527-4a1e-ad13-6d8e246535e4",
   "metadata": {},
   "source": [
    "<div style=\"font-family: arial; padding: 30px; padding-top: 0; padding-bottom: 0;\">\n",
    "    \n",
    "<h2  style=\"color: #d42c06;\">Class Parameters</h2>\n",
    "\n",
    "</div>"
   ]
  },
  {
   "cell_type": "markdown",
   "id": "0876cfaf-6bf9-4bf4-a021-8296a08ac5a8",
   "metadata": {},
   "source": [
    "<div style=\"font-size: 1.1em; font-family: arial; padding: 30px; padding-top: 0; padding-bottom: 0;\">\n",
    "<ul>\n",
    "<li> It can be much more efficient to use call-by-reference parameters when the parameter is of a class type.</li>\n",
    "<li>When using a call-by-reference parameter.</li>\n",
    "    <ul>\n",
    "<li> If the function does not change the value of the parameter, mark the parameter so the compiler knows it should not be changed.</li>\n",
    "    </ul>\n",
    "</ul>\n",
    "</div> \n"
   ]
  },
  {
   "cell_type": "markdown",
   "id": "49f9ac9d-e762-44f4-b11f-2474becd1d63",
   "metadata": {},
   "source": [
    "<div style=\"font-family: arial; padding: 30px; padding-top: 0; padding-bottom: 0;\">\n",
    "    \n",
    "<h2  style=\"color: #d42c06;\">Const Parameter Modifier</h2>\n",
    "\n",
    "</div>"
   ]
  },
  {
   "cell_type": "markdown",
   "id": "4d9746bb-d258-4824-97d0-6af708ce2ed6",
   "metadata": {},
   "source": [
    "<div style=\"font-size: 1.1em; font-family: arial; padding: 30px; padding-top: 0; padding-bottom: 0;\">\n",
    "\n",
    "<p> To mark a call-by-reference parameter so it cannot be changed:</p>\n",
    "<ul>\n",
    "   <li> Use the modifier <strong>const</strong> before the parameter type.</li>\n",
    "   <li> The parameter becomes a constant parameter.</li>\n",
    "   <li><strong>const</strong> used in the function declaration and definition.</li>\n",
    "</ul>\n",
    "\n",
    "</div> \n"
   ]
  },
  {
   "cell_type": "markdown",
   "id": "9851f11b-559f-470a-8ed4-368b6b31d739",
   "metadata": {},
   "source": [
    "<div style=\"font-family: arial; padding: 30px; padding-top: 0; padding-bottom: 0;\">\n",
    "    \n",
    "<h2  style=\"color: #d42c06;\">const Parameter Example</h2>\n",
    "\n",
    "</div>"
   ]
  },
  {
   "cell_type": "markdown",
   "id": "e72382e7-4c9a-4f28-a4dd-45af06c6b6bc",
   "metadata": {},
   "source": [
    "<div style=\"font-size: 1.1em; font-family: arial; padding: 30px; padding-top: 0; padding-bottom: 0;\">\n",
    "\n",
    "<p> Example (from the Money class of Display 11.3):</p>\n",
    "<ul>\n",
    "   <li> A function declaration with constant parameters:\n",
    "      <ul>\n",
    "         <li> <code>friend Money add(const Money& amount1, const Money& amount2);</code></li>\n",
    "      </ul>\n",
    "   </li>\n",
    "   <li> A function definition with constant parameters:\n",
    "      <ul>\n",
    "         <li> <code>Money add(const Money& amount1, const Money& amount2) \n",
    "    {<br>\n",
    "         ...<br>\n",
    "    }</code></li>\n",
    "      </ul>\n",
    "   </li>\n",
    "</ul>\n",
    "\n",
    "</div> \n",
    "\n"
   ]
  },
  {
   "cell_type": "markdown",
   "id": "f6e9f03d-0267-46aa-9beb-f12f361bca16",
   "metadata": {},
   "source": [
    "<div style=\"font-family: arial; padding: 30px; padding-top: 0; padding-bottom: 0;\">\n",
    "    \n",
    "<h2  style=\"color: #d42c06;\">const Considerations</h2>\n",
    "\n",
    "</div>"
   ]
  },
  {
   "cell_type": "markdown",
   "id": "b4dbe86f-72b1-4fa3-b1c9-1b2db2f0318f",
   "metadata": {},
   "source": [
    "<div style=\"font-size: 1.1em; font-family: arial; padding: 30px; padding-top: 0; padding-bottom: 0;\">\n",
    "\n",
    "<p>When a function has a constant parameter, the compiler will make certain the parameter cannot be changed by the function.</p>\n",
    "<ul>\n",
    "    <li>What if the parameter calls a member function?</li>\n",
    "    <ul>\n",
    "        <li> Example:</li>\n",
    "        <li><code>Money add(const Money&amp; amount1, const Money&amp; amount2) \n",
    "        {<br>\n",
    "        ...<br>\n",
    "        amount1.input(cin);<br>\n",
    "        }</code></li>\n",
    "        <li> The call to <code>input</code> will change the value of <code>amount1</code>!</li>\n",
    "    </ul>\n",
    "</ul>\n",
    "\n",
    "</div> \n",
    "\n",
    "\n"
   ]
  },
  {
   "cell_type": "markdown",
   "id": "0f34978c-f224-432f-a06a-fe00f45f2d5f",
   "metadata": {},
   "source": [
    "<div style=\"font-family: arial; padding: 30px; padding-top: 0; padding-bottom: 0;\">\n",
    "    \n",
    "<h2  style=\"color: #d42c06;\">const And Accessor Functions</h2>\n",
    "\n",
    "</div>"
   ]
  },
  {
   "cell_type": "markdown",
   "id": "f2326e4b-2a6a-4252-8124-33905b25d7c6",
   "metadata": {},
   "source": [
    "<div style=\"font-size: 1.1em; font-family: arial; padding: 30px; padding-top: 0; padding-bottom: 0;\">\n",
    "<p>Will the compiler accept an accessor function call from the constant parameter?</p>\n",
    "<ul>\n",
    "    <li> Example:</li>\n",
    "    <li><code>Money add(const Money&amp; amount1, const Money&amp; amount2)\n",
    "    {<br>\n",
    "    ...<br>\n",
    "    amount1.output(cout);<br>\n",
    "    }</code></li>\n",
    "    <li>The compiler will not accept this code.\n",
    "        <ul>\n",
    "            <li> There is no guarantee that <code>output</code> will not change the value of the parameter.</li>\n",
    "        </ul>\n",
    "    </li>\n",
    "</ul>\n",
    "\n",
    "</div> \n",
    "\n"
   ]
  },
  {
   "cell_type": "markdown",
   "id": "cabb6719-783b-4396-8519-97e2c1d52415",
   "metadata": {},
   "source": [
    "<div style=\"font-family: arial; padding: 30px; padding-top: 0; padding-bottom: 0;\">\n",
    "    \n",
    "<h2  style=\"color: #d42c06;\">const Modifies Functions</h2>\n",
    "\n",
    "</div>"
   ]
  },
  {
   "cell_type": "markdown",
   "id": "213d92d5-819c-4c79-8957-179afe94d249",
   "metadata": {},
   "source": [
    "<div style=\"font-size: 1.1em; font-family: arial; padding: 30px; padding-top: 0; padding-bottom: 0;\">\n",
    "<p> If a constant parameter makes a member function call...</p>\n",
    "<ul>\n",
    "   <li>The member function called must be marked so the compiler knows it will not change the parameter.</li>\n",
    "   <li> <strong>const</strong> is used to mark functions that will not change the value of an object.</li>\n",
    "   <li><strong>const</strong> is used in the function declaration and the function definition.</li>\n",
    "</ul>\n",
    "</div> \n"
   ]
  },
  {
   "cell_type": "markdown",
   "id": "5eb87dae-fe1a-4588-a851-c2da5891b78c",
   "metadata": {},
   "source": [
    "<div style=\"font-family: arial; padding: 30px; padding-top: 0; padding-bottom: 0;\">\n",
    "    \n",
    "<h2  style=\"color: #d42c06;\">Function Declarations With const</h2>\n",
    "\n",
    "</div>"
   ]
  },
  {
   "cell_type": "markdown",
   "id": "37d1e55b-60be-444d-9cb4-d9297ff86fa9",
   "metadata": {},
   "source": [
    "<div style=\"font-size: 1.1em; font-family: arial; padding: 30px; padding-top: 0; padding-bottom: 0;\">\n",
    "<p>To declare a function that will not change the value of any member variables:</p>\n",
    "<ul>\n",
    "   <li> Use <strong>const</strong> after the parameter list and just before the semicolon.</li>\n",
    "</ul>\n",
    "<p>Example in class declaration:</p>\n",
    "<code>class Money {\n",
    "public: \n",
    "...\n",
    "void output(ostream& outs) const; \n",
    "...\n",
    "}</code>\n",
    "\n",
    "\n",
    "</div> \n"
   ]
  },
  {
   "cell_type": "markdown",
   "id": "4b49bff2-4de5-4f2c-9e9f-0c95ea69d448",
   "metadata": {},
   "source": [
    "<div style=\"font-family: arial; padding: 30px; padding-top: 0; padding-bottom: 0;\">\n",
    "    \n",
    "<h2  style=\"color: #d42c06;\">const Problem Solved</h2>\n",
    "\n",
    "</div>"
   ]
  },
  {
   "cell_type": "markdown",
   "id": "8a45c543-3a36-4b78-bc46-2167f013f013",
   "metadata": {},
   "source": [
    "\n",
    "<div style=\"font-size: 1.1em; font-family: arial; padding: 30px; padding-top: 0; padding-bottom: 0;\">\n",
    "<ul>\n",
    "<li> Now that <code>output</code> is declared and defined using the <strong>const</strong> modifier, the compiler will accept this code:</li>\n",
    "<li><code>Money add(const Money&amp; amount1, const Money&amp; amount2)\n",
    "{... \n",
    "amount1.output(cout);\n",
    "}</code></li>\n",
    "</ul>\n",
    "</div> \n"
   ]
  },
  {
   "cell_type": "markdown",
   "id": "a7c72756-6bec-46a0-9e93-d7c4cc275620",
   "metadata": {},
   "source": [
    "<div style=\"font-family: arial; padding: 30px; padding-top: 0; padding-bottom: 0;\">\n",
    "    \n",
    "<h2  style=\"color: #d42c06;\">const Wrapup</h2>\n",
    "\n",
    "</div>"
   ]
  },
  {
   "cell_type": "markdown",
   "id": "174d13f9-a920-4a50-a52d-777b3d824edd",
   "metadata": {},
   "source": [
    "<div style=\"font-size: 1.1em; font-family: arial; padding: 30px; padding-top: 0; padding-bottom: 0;\">\n",
    "\n",
    "<ul> <li> Using <strong>const</strong> to modify parameters of class types improves program efficiency:</li>\n",
    "<ul>\n",
    "    <li><strong>const</strong> is typed in front of the parameter's type.</li>\n",
    "</ul>\n",
    "<li>Member functions called by constant parameters must also use <strong>const</strong> to let the compiler know they do not change the value of the parameter:</li>\n",
    "<ul>\n",
    "    <li><strong>const</strong> is typed following the parameter list in the declaration and definition.</li>\n",
    "</ul>\n",
    "</ul>\n",
    "</div> \n"
   ]
  },
  {
   "cell_type": "markdown",
   "id": "cdc1f8e7-bb0b-4b1d-843e-c802c164ebce",
   "metadata": {},
   "source": [
    "<div style=\"font-family: arial; padding: 30px; padding-top: 0; padding-bottom: 0;\">\n",
    "    \n",
    "<h2  style=\"color: #d42c06;\">The Class Money With Constant Parameters</h2>\n",
    "\n",
    "</div>"
   ]
  },
  {
   "cell_type": "code",
   "execution_count": 12,
   "id": "2b43c229-76f8-4ff7-ac3a-d8df3c6a04dd",
   "metadata": {},
   "outputs": [],
   "source": [
    "#include <iostream>\n",
    "using namespace std;"
   ]
  },
  {
   "cell_type": "code",
   "execution_count": 13,
   "id": "a573968f-185c-4422-a299-3d7ad12a4af8",
   "metadata": {},
   "outputs": [],
   "source": [
    "\n",
    "//Class for amounts of money in U.S. currency.\n",
    "class Money\n",
    "{\n",
    "public:\n",
    "friend Money add(const Money& amount1, const Money& amount2);\n",
    "//Precondition: amount1 and amount2 have been given values.\n",
    "//Returns the sum of the values of amount1 and amount2.\n",
    "\n",
    "friend bool equal(const Money& amount1, const Money& amount2);\n",
    "//Precondition: amount1 and amount2 have been given values.\n",
    "//Returns true if amount1 and amount2 have the same value;\n",
    "//otherwise, returns false.\n",
    "\n",
    "Money(long dollars, int cents);\n",
    "//Initializes the object so its value represents an amount with the\n",
    "//dollars and cents given by the arguments. If the amount is negative,\n",
    "//then both dollars and cents must be negative.\n",
    "\n",
    "Money(long dollars);\n",
    "//Initializes the object so its value represents $dollars.00.\n",
    "\n",
    "Money();\n",
    "//Initializes the object so its value represents $0.00.\n",
    "\n",
    "double getValue() const;\n",
    "//Precondition: The calling object has been given a value.\n",
    "//Returns the amount of money recorded in the data of the calling object.\n",
    "\n",
    "void input(istream& ins);\n",
    "//Precondition: If ins is a file input stream, then ins has already been\n",
    "//connected to a file. An amount of money, including a dollar sign, has been\n",
    "//entered in the input stream ins. Notation for negative amounts is −$100.00.\n",
    "//Postcondition: The value of the calling object has been set to\n",
    "//the amount of money read from the input stream ins.\n",
    "\n",
    "void output(ostream& outs) const;\n",
    "//Precondition: If outs is a file output stream, then outs has already been\n",
    "//connected to a file.\n",
    "//Postcondition: A dollar sign and the amount of money recorded\n",
    "//in the calling object have been sent to the output stream outs.\n",
    "\n",
    "private:\n",
    "long allCents;\n",
    "};\n"
   ]
  },
  {
   "cell_type": "markdown",
   "id": "217310d9-3437-484e-91b2-ac51437a4c0f",
   "metadata": {},
   "source": [
    "<div style=\"font-family: arial; padding: 30px; padding-top: 0; padding-bottom: 0;\">\n",
    "    \n",
    "<h2  style=\"color: #d42c06;\">Use const Consistently</h2>\n",
    "\n",
    "</div>"
   ]
  },
  {
   "cell_type": "markdown",
   "id": "d0a8c0f1-fc48-4844-85cd-2ffe6ec396c8",
   "metadata": {},
   "source": [
    "<div style=\"font-size: 1.1em; font-family: arial; padding: 30px; padding-top: 0; padding-bottom: 0;\">\n",
    "<ul>\n",
    "<li>Once a parameter is modified by using <strong>const</strong> to make it a constant parameter:</li>\n",
    "<ul>\n",
    "    <li>Any member functions that are called by the parameter must also be modified using <strong>const</strong> to tell the compiler they will not change the parameter.</li>\n",
    "    <li>It is a good idea to modify, with <strong>const</strong>, every member function that does not change a member variable.</li>\n",
    "</ul>\n",
    "</ul>\n",
    "\n",
    "</div> \n"
   ]
  },
  {
   "cell_type": "markdown",
   "id": "bb103277-4745-4d72-bd54-32d161c0ce59",
   "metadata": {},
   "source": [
    "<div style=\"font-family: arial; padding: 30px; padding-top: 0; padding-bottom: 0;\">\n",
    "    \n",
    "<h2 id=\"conclusion\" style=\"color: #d42c06;\">Conclusion</h2>\n",
    "\n",
    "</div>"
   ]
  },
  {
   "cell_type": "markdown",
   "id": "ce363901-fd1e-402e-9de4-a765a351d386",
   "metadata": {},
   "source": [
    "\n",
    "<div style=\"font-size: 1.1em; font-family: arial; padding: 30px; padding-top: 0; padding-bottom: 0;\">\n",
    "<ul>\n",
    "<li>Can you...</li>\n",
    "<ul>\n",
    "    <li>Describe the promise that you make to the compiler when you modify a parameter with <strong>const</strong>?\n",
    "    <li> Explain why this declaration is probably not correct?\n",
    "        <ul>\n",
    "            <li>\n",
    "               <pre> <code>class Money \n",
    "                {\n",
    "                 ... \n",
    "                public:\n",
    "                       void input(istream&amp; ins) const;\n",
    "                 ... \n",
    "                };</code></pre>\n",
    "</ul>\n",
    "</ul>\n",
    "</div> \n"
   ]
  },
  {
   "cell_type": "markdown",
   "id": "e0dea3fb-d681-473d-9d33-8a3c504b3fd9",
   "metadata": {},
   "source": [
    "<div style=\"font-family: arial; padding: 30px; padding-top: 0; padding-bottom: 0;\">\n",
    "    \n",
    "<h2 style=\"color: #d42c06;\">References</h2>\n",
    "\n",
    "<ul>\n",
    "    <li>Walter J. Savitch. Problem Solving with C++, Tenth Edition. 2018.</li>\n",
    "</ul>\n",
    "\n",
    "<hr style=\"margin-top: 25px; border-color: #fff;\">\n",
    "\n",
    "</div>"
   ]
  }
 ],
 "metadata": {
  "kernelspec": {
   "display_name": "C++17",
   "language": "C++17",
   "name": "xcpp17"
  },
  "language_info": {
   "codemirror_mode": "text/x-c++src",
   "file_extension": ".cpp",
   "mimetype": "text/x-c++src",
   "name": "c++",
   "version": "17"
  }
 },
 "nbformat": 4,
 "nbformat_minor": 5
}

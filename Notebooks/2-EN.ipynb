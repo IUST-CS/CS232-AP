{
 "cells": [
  {
   "cell_type": "markdown",
   "id": "883aa48a",
   "metadata": {},
   "source": [
    "<div style=\"font-family: arial; padding: 30px; padding-bottom: 0;\">\n",
    "\n",
    "<h4 style=\"text-align: center;\">In the Name of God</h4>\n",
    "\n",
    "<h2 style=\"text-align: center; color: #103bc9;\">CS232 - Advanced Programming</h2>\n",
    "\n",
    "<h3 style=\"text-align: center; color: #d42c06;\">Iran University of Science and Technology</h3>\n",
    "    \n",
    "<h3 style=\"text-align: center; color: #d42c06;\">School of Mathematics and Computer Science</h3>\n",
    "\n",
    "<h4 style=\"padding-top: 7px; text-align: center;\">Winter-Spring 2024</h4>\n",
    "\n",
    "<hr style=\"margin-top: 25px; border-color: #fff;\">\n",
    "\n",
    "<h1 style=\"text-align: center; color: #9c0000;\">Chapter 10: Classes</h1>\n",
    "\n",
    "<h2 style=\"text-align: center; color: #186e00;\">Section 3: Abstract Data Types</h2>\n",
    "\n",
    "<h3 style=\"padding-top: 7px; text-align: center;\">Mahdi Porheydari, Sahar Pourghasemi</h3>\n",
    "\n",
    "<hr style=\"margin-top: 25px; border-color: #fff;\">\n",
    "\n",
    "</div>"
   ]
  },
  {
   "cell_type": "markdown",
   "id": "bebab015",
   "metadata": {},
   "source": [
    "<div style=\"font-family: arial; padding: 30px; padding-top: 0; padding-bottom: 0;\">\n",
    "    \n",
    "<h2 id=\"Abstract Data Types\" style=\"color: #d42c06;\">Abstract Data Types</h2>\n",
    "<li> A data type consists of acollection of values together with a set of basic operations definedon the values</li><br>\n",
    "<li> A data type is an Abstract Data Type (ADT) if programmers using the type do not have access to the details of how the values and operations are implemented </li>\n",
    "<br>\n",
    "</div>\n"
   ]
  },
  {
   "cell_type": "markdown",
   "id": "d5c0caa7",
   "metadata": {},
   "source": [
    "<div style=\"font-family: arial; padding: 30px; padding-top: 0; padding-bottom: 0;\">\n",
    "    \n",
    "<h2 id=\"Classes To Produce ADTs\" style=\"color: #d42c06;\">Classes To Produce ADTs</h2>\n",
    "To define a class so it is an ADT:<br>\n",
    "<ul style=\"margin-right:50px\">\n",
    "    <li>Separate the specific ation of how the type is used by a programmer from the details of how the type is implemented\n",
    "    <li>Make all member variables private * \n",
    "    <li>Basic operations a programmer needs should be public member functions\n",
    "    <li>Fully specify how to use each public function\n",
    "    <li>Helper functions should be private * \n",
    "\n",
    "</div>"
   ]
  },
  {
   "cell_type": "markdown",
   "id": "a3475b77",
   "metadata": {},
   "source": [
    "<div style=\"font-family: arial; padding: 30px; padding-top: 0; padding-bottom: 0;\">\n",
    "    \n",
    "<h2 id=\"Helper Function\" style=\"color: #d42c06;\">Helper Function</h2>\n",
    "A helper function is a function that performs part of the\n",
    "computation of another function. Helper functions are used to\n",
    "make your programs easier to read by giving descriptive\n",
    "names to computations. They also let you reuse computations,\n",
    "just as with functions in general.\n",
    "</div>"
   ]
  },
  {
   "cell_type": "markdown",
   "id": "b156142f",
   "metadata": {},
   "source": [
    "<div style=\"font-family: arial; padding: 30px; padding-top: 0; padding-bottom: 0;\">\n",
    "    \n",
    "<h2 id=\"ADT Interface\" style=\"color: #d42c06;\">ADT Interface</h2>\n",
    "The ADT interface tells how to use the ADT in a program <br>\n",
    "\n",
    "The interface consists of:\n",
    "<ul style=\"margin-right:50px\">\n",
    "    <li>The public member functions\n",
    "    <li>The comments that explain how to use the functions\n",
    "    <li>The interface should be all that is needed to know how to use the ADT in a program\n",
    "</div>"
   ]
  },
  {
   "cell_type": "markdown",
   "id": "d13f500a",
   "metadata": {},
   "source": [
    "<div style=\"font-family: arial; padding: 30px; padding-top: 0; padding-bottom: 0;\">\n",
    "    \n",
    "<h2 id=\"ADT Implementation\" style=\"color: #d42c06;\">ADT Implementation</h2>\n",
    "The ADT implementation tells how the interface is realized in C++\n",
    "\n",
    "The implementation consists of:\n",
    "<ul style=\"margin-right:50px\">\n",
    "    <li>The private members of the class\n",
    "    <li>The definitions of public and private member functions\n",
    "    <li>The implementation is needed to run a program\n",
    "    <li>The implementation is not needed to write the main part of a program or any non-member functions\n",
    "</div>"
   ]
  },
  {
   "cell_type": "markdown",
   "id": "87f124b0",
   "metadata": {},
   "source": [
    "<div style=\"font-family: arial; padding: 30px; padding-top: 0; padding-bottom: 0;\">\n",
    "    \n",
    "<h2 id=\"ADT Benefits\" style=\"color: #d42c06;\">ADT Benefits</h2>\n",
    "<li>Changing an ADT implementation does require\n",
    "changing a program that uses the ADT <br>\n",
    "<li>ADT’s make it easier to divide work among\n",
    "different programmers: <br>\n",
    "<ul style=\"margin-right:50px\">\n",
    "  <li> One or more can write the ADT\n",
    "  <li> One or more can write code that uses the ADT <br>\n",
    "</ul>\n",
    "<li>Writing and using ADTs breaks the larger programming task into smaller tasks\n",
    "</div>"
   ]
  },
  {
   "cell_type": "markdown",
   "id": "5ff69629",
   "metadata": {},
   "source": [
    "<div style=\"font-family: arial; padding: 30px; padding-top: 0; padding-bottom: 0;\">\n",
    "    \n",
    "<h2 id=\"Program Example The BankAccount ADT\" style=\"color: #d42c06;\">Program Example The BankAccount ADT</h2>\n",
    "In this version of the BankAccount ADT\n",
    "<li>Data is stored as three member variables\n",
    "<ul style=\"margin-right:50px\">\n",
    "  <li>The dollars part of the account balance\n",
    "  <li>The cents part of the account balance\n",
    "  <li>The interest rate\n",
    "</ul>\n",
    "<li>This version stores the interest rate as a fraction\n",
    "<li>The public portion of the class definition remains\n",
    "unchanged from the version of Display 10.6\n",
    "</div>"
   ]
  },
  {
   "cell_type": "code",
   "execution_count": null,
   "id": "a04172c7",
   "metadata": {
    "vscode": {
     "languageId": "cpp"
    }
   },
   "outputs": [],
   "source": [
    "#include <iostream>\n",
    "#include <cmath>\n",
    "using namespace std;"
   ]
  },
  {
   "cell_type": "code",
   "execution_count": null,
   "id": "b2818208",
   "metadata": {
    "vscode": {
     "languageId": "cpp"
    }
   },
   "outputs": [
    {
     "name": "stdout",
     "output_type": "stream",
     "text": [
      "account1 initialized as follows:\n",
      "Account balance $100.00\n",
      "Interest rate 2.30%\n",
      "account2 initialized as follows:\n",
      "Account balance $0.00\n",
      "Interest rate 0.00%\n",
      "account1 reset to the following:\n",
      "Account balance $999.99\n",
      "Interest rate 5.50%\n"
     ]
    }
   ],
   "source": [
    "{\n",
    "class BankAccount\n",
    "{\n",
    "public:\n",
    "    BankAccount(int dollars, int cents, double rate){\n",
    "        if ((dollars < 0) || (cents < 0) || (rate < 0))\n",
    "        {\n",
    "            cout << \"Illegal values for money or interest rate.\\n\";\n",
    "            exit(1);\n",
    "        }\n",
    "        dollarsPart = dollars;\n",
    "        centsPart = cents;\n",
    "        interestRate = fraction(rate);\n",
    "    }\n",
    "    //Initializes the account balance to $dollars.cents and\n",
    "    //initializes the interest rate to rate percent.\n",
    "    BankAccount(int dollars, double rate){\n",
    "        if ((dollars < 0) || (rate < 0))\n",
    "        {\n",
    "            cout << \"Illegal values for money or interest rate.\\n\";\n",
    "            exit(1);\n",
    "        }\n",
    "        dollarsPart = dollars;\n",
    "        centsPart = 0;\n",
    "        interestRate = fraction(rate);\n",
    "    }\n",
    "    //Initializes the account balance to $dollars.and\n",
    "    //initializes the interest rate to rate percent.\n",
    "    BankAccount( ) : dollarsPart(0), centsPart(0), interestRate(0.0)\n",
    "    {\n",
    "        \n",
    "    }\n",
    "    //Initializes the account balance to $0.and the\n",
    "    //interest rate to 0.0%.\n",
    "    void set(int dollars, int cents, double rate){\n",
    "        if ((dollars < 0) || (cents < 0) || (rate < 0))\n",
    "        {\n",
    "            cout << \"Illegal values for money or interest rate.\\n\";\n",
    "            return;\n",
    "        }\n",
    "        dollarsPart = dollars;\n",
    "        centsPart = cents;\n",
    "        interestRate = fraction(rate);\n",
    "    }\n",
    "    //Postcondition: The account balance has been set to $dollars.cents;\n",
    "    //The interest rate has been set to rate percent.\n",
    "    void set(int dollars, double rate){\n",
    "    if ((dollars < 0) || (rate < 0))\n",
    "        {\n",
    "        cout << \"Illegal values for money or interest rate.\\n\";\n",
    "        return;\n",
    "        }\n",
    "    dollarsPart = dollars;\n",
    "    interestRate = fraction(rate);\n",
    "    }\n",
    "    //Postcondition: The account balance has been set to $dollars.00.\n",
    "    //The interest rate has been set to rate percent.\n",
    "    double getBalance( ){\n",
    "        return (dollarsPart + 0.* centsPart);\n",
    "    }\n",
    "    //Returns the current account balance.\n",
    "    double getRate( ){\n",
    "        return percent(interestRate);\n",
    "    }\n",
    "    //Returns the current account interest rate as a percentage.\n",
    "    void output(ostream& outs){\n",
    "        outs.setf(ios::fixed);\n",
    "        outs.setf(ios::showpoint);\n",
    "        outs.precision(2);\n",
    "        outs << \"Account balance $\" << getBalance( ) << endl;\n",
    "        outs << \"Interest rate \"<< getRate( ) << \"%\" << endl;\n",
    "    }\n",
    "    //Precondition: If outs is a file output stream, then\n",
    "    //outs has already been connected to a file.\n",
    "    //Postcondition: Account balance and interest rate\n",
    "    //have been written to the stream outs.\n",
    "private:\n",
    "    int dollarsPart;\n",
    "    int centsPart;\n",
    "    double interestRate;\n",
    "    //Expressed as a fraction, for example, 0.0for 5.7%\n",
    "    double fraction(double percentValue){\n",
    "        return (percentValue/100.0);\n",
    "    }\n",
    "    //Converts a percentage to a fraction. For example, fraction(50.3)\n",
    "    //returns 0.503.\n",
    "    double percent(double fractionValue){\n",
    "        return (fractionValue * 100);\n",
    "    }\n",
    "    //Converts a fraction to a percentage. For example, percent(0.503)\n",
    "    //returns 50.3.\n",
    "};\n",
    "\n",
    "    BankAccount account1(100, 2.3), account2;\n",
    "    cout << \"accountinitialized as follows:\\n\";\n",
    "    account1.output(cout);\n",
    "    cout << \"accountinitialized as follows:\\n\";\n",
    "    account2.output(cout);\n",
    "    account= BankAccount(999, 99, 5.5);\n",
    "    cout << \"accountreset to the following:\\n\";\n",
    "    account1.output(cout);\n",
    "}"
   ]
  },
  {
   "cell_type": "markdown",
   "id": "54304f4c",
   "metadata": {},
   "source": [
    "<div style=\"font-family: arial; padding: 30px; padding-top: 0; padding-bottom: 0;\">\n",
    "    \n",
    "<h2 id=\"Interface Preservation\" style=\"color: #d42c06;\">Interface Preservation</h2>\n",
    "To preserve the interface of an ADT so that\n",
    "programs using it do not need to be changed\n",
    "<ul style=\"margin-right:50px\">\n",
    "    <li>Public member declarations cannot be\n",
    "    changed\n",
    "    <li>Public member definitions can be changed\n",
    "    <li>Private member functions can be added, deleted, or changed\n",
    "</div>"
   ]
  },
  {
   "cell_type": "markdown",
   "id": "bdc444f7",
   "metadata": {},
   "source": [
    "<div style=\"font-family: arial; padding: 30px; padding-top: 0; padding-bottom: 0;\">\n",
    "    \n",
    "<h2 id=\"Information Hiding\" style=\"color: #d42c06;\">Information Hiding</h2>\n",
    "Information hiding was refered to earlier as\n",
    "writing functions so they can be used like\n",
    "black boxes\n",
    "ADT’s implement information hiding because\n",
    "<ul style=\"margin-right:50px\">\n",
    "    <li>The interface is all that is needed to use the ADT\n",
    "    <li>Implementation details of the ADT are not needed\n",
    "    to know how to use the ADT\n",
    "    <li>Implementation details of the data values are not\n",
    "    needed to know how to use the ADT\n",
    "</div>"
   ]
  },
  {
   "cell_type": "markdown",
   "id": "a659972a",
   "metadata": {},
   "source": [
    "<div style=\"font-family: arial; padding: 30px; padding-top: 0; padding-bottom: 0;\">\n",
    "    \n",
    "<h2 id=\"Section 10.3 Conclusion\" style=\"color: #d42c06;\">Section 10.3 Conclusion</h2>\n",
    "Can you\n",
    "<ul style=\"margin-right:50px\">\n",
    "    <li>Describe an ADT?\n",
    "    <li>Describe how to implement an ADT in C++?\n",
    "    <li>Define the interface of an ADT?\n",
    "    <li>Define the implementation of an ADT?\n",
    "</div>"
   ]
  },
  {
   "cell_type": "markdown",
   "id": "a5e4849f",
   "metadata": {},
   "source": [
    "<div style=\"font-family: arial; padding: 30px; padding-bottom: 0;\">\n",
    "\n",
    "<hr style=\"margin-top: 25px; border-color: #fff;\">\n",
    "\n",
    "<h2 style=\"text-align: center; color: #186e00;\">Section 4: Introduction to Inheritance</h2>\n",
    "\n",
    "<hr style=\"margin-top: 25px; border-color: #fff;\">\n",
    "\n",
    "</div>"
   ]
  },
  {
   "cell_type": "markdown",
   "id": "1906c3e1",
   "metadata": {},
   "source": [
    "<div style=\"font-family: arial; padding: 30px; padding-top: 0; padding-bottom: 0;\">\n",
    "    \n",
    "<h2 id=\"Inheritance\" style=\"color: #d42c06;\">Inheritance</h2>\n",
    "Inheritance refers to derived classes\n",
    "<li>Derived classes are obtained from another class\n",
    "by adding features\n",
    "<li>A derived class inherits the member functions and\n",
    "variables from its parent class without having to rewrite them\n",
    "<li>Example:\n",
    "<ul style=\"margin-right:50px\">\n",
    "  <li>In Chapter we saw that the class of input-file streams is derived from the class of all input streams by adding member functions such as open and close\n",
    "</ul>\n",
    "<ul style=\"margin-right:50px\">\n",
    "  <li>cin belongs to the class of all input streams, but not the class of input-file streams\n",
    "</ul>\n",
    "</div>"
   ]
  },
  {
   "cell_type": "markdown",
   "id": "84744ff7",
   "metadata": {},
   "source": [
    "<div style=\"font-family: arial; padding: 30px; padding-top: 0; padding-bottom: 0;\">\n",
    "<h2 id=\"Inheritance Example\" style=\"color: #d42c06;\">Inheritance Example</h2>\n",
    "\n",
    "Natural hierarchy of bank accounts <br>\n",
    "Most general: A Bank Account stores a balance <br>\n",
    "A Checking Account “IS A” Bank Account that allows customers to write checks <br>\n",
    "A Savings Account “IS A” Bank Account without checks but higher interest <br> <br>\n",
    "\n",
    "![class](../src/1.png) <br>\n",
    "**Accounts are more specific as we go down the hierarchy** <br>\n",
    "**Each box can be a class**\n",
    "\n",
    "</div>"
   ]
  },
  {
   "cell_type": "markdown",
   "id": "4b728d7e",
   "metadata": {},
   "source": [
    "<div style=\"font-family: arial; padding: 30px; padding-top: 0; padding-bottom: 0;\">\n",
    "    \n",
    "<h2 id=\"Inheritance Relationships\" style=\"color: #d42c06;\">Inheritance Relationships</h2>\n",
    "The more specific class is a derived or child\n",
    "class <br>\n",
    "The more general class is the base, super, or\n",
    "parent class <br>\n",
    "If class B is derived from class A :\n",
    "<ul style=\"margin-right:50px\">\n",
    "    <li>Class B is a derived class of class A\n",
    "    <li>Class B is a child of class A\n",
    "    <li>Class A is the parent of class B\n",
    "    <li>Class B inherits the member functions and\n",
    "    variables of class A\n",
    "</div>"
   ]
  },
  {
   "cell_type": "markdown",
   "id": "c6c0e5a2",
   "metadata": {},
   "source": [
    "<div style=\"font-family: arial; padding: 30px; padding-top: 0; padding-bottom: 0;\">\n",
    "    \n",
    "<h2 id=\"Defining Derived Classes\" style=\"color: #d42c06;\">Defining Derived Classes</h2>\n",
    "<li> Give the class name as normal, but add a colon and then\n",
    "the name of the base class <br>\n",
    "<li> Objects of type SavingsAccount can access member\n",
    "functions defined in SavingsAccount or BankAccount\n",
    "</div>"
   ]
  },
  {
   "cell_type": "markdown",
   "id": "0d491bd3",
   "metadata": {},
   "source": [
    "```cpp \n",
    "class SavingsAccount : public BankAccount\n",
    "{ \n",
    "… \n",
    "}\n",
    "```"
   ]
  },
  {
   "cell_type": "markdown",
   "id": "a2364adf",
   "metadata": {},
   "source": [
    "<div style=\"font-size: 1.1em; font-family: arial; padding: 30px;\">\n",
    "<div style=\"border: 2px solid #1f49a3; border-radius: 10px; padding: 30px; padding-top: 15px;\">\n",
    "<h3 style=\"color: #1f49a3; font-weight: bold;\">Note</h3>\n",
    "<span style=\"color: #1f49a3;\">C++ Jupyter Kernel Does not support Inheritance, so please try this in your own IDE</span>\n",
    "</div>\n",
    "</div>"
   ]
  },
  {
   "cell_type": "markdown",
   "id": "b60b36e0",
   "metadata": {},
   "source": [
    "```cpp\n",
    "class SavingsAccount : public BankAccount\n",
    "{\n",
    "    public:\n",
    "    SavingsAccount(int dollars, int cents, double rate) BankAccount(dollars, cents, rate)\n",
    "    {\n",
    "    //deliberately empty\n",
    "    }\n",
    "    //Other constructors would go here\n",
    "    void deposit(int dollars, int cents)\n",
    "    {\n",
    "        double balance = getBalance();\n",
    "        balance += dollars;\n",
    "        balance += (static_cast<double>(cents) / 100);\n",
    "        int newDollars = static_cast<int>(balance);\n",
    "        int newCents = static_cast<int>((balance − newDollars) * 100);\n",
    "        set(newDollars, newCents, getRate());\n",
    "    }\n",
    "    //Adds $dollars.cents to the account balance\n",
    "    void withdraw(int dollars, int cents)\n",
    "    {\n",
    "        double balance = getBalance();\n",
    "        balance −= dollars;\n",
    "        balance −= (static_cast<double>(cents) / 100);\n",
    "        int newDollars = static_cast<int>(balance);\n",
    "        int newCents = static_cast<int>((balance − newDollars) * 100);\n",
    "        set(newDollars, newCents, getRate());\n",
    "    }\n",
    "    //Subtracts $dollars.cents from the account balance\n",
    "private:\n",
    "};\n",
    "\n",
    "int main()\n",
    "{\n",
    "    SavingsAccount account(100, 50, 5.5);\n",
    "    account.output(cout);\n",
    "    cout << endl;\n",
    "    cout << \"Depositing $10.25.\" << endl;\n",
    "    account.deposit(10,25);\n",
    "    account.output(cout);\n",
    "    cout << endl;\n",
    "    cout << \"Withdrawing $11.80.\" << endl;\n",
    "    account.withdraw(11,80);\n",
    "    account.output(cout);\n",
    "    cout << endl;\n",
    "}\n",
    "```"
   ]
  },
  {
   "cell_type": "markdown",
   "id": "b4428241",
   "metadata": {},
   "source": [
    "<div style=\"font-family: arial; padding: 30px; padding-top: 0; padding-bottom: 0;\">\n",
    "    \n",
    "<h2 id=\"Section 10.4 Conclusion\" style=\"color: #d42c06;\">Section 10.4 Conclusion</h2>\n",
    "Can you\n",
    "<ul style=\"margin-right:50px\">\n",
    "    <li>Define object?\n",
    "    <li>Define class?\n",
    "    <li>Describe the relationship between parent and child\n",
    "    classes?\n",
    "    <li>Describe the benefit of inheritance?\n",
    "</div>"
   ]
  },
  {
   "cell_type": "markdown",
   "id": "72a66fd4",
   "metadata": {},
   "source": [
    "<div style=\"padding: 30px; padding-top: 0; padding-bottom: 0;\">\n",
    "\n",
    "<hr style=\"border-color: #fff;\">\n",
    "\n",
    "</div>"
   ]
  },
  {
   "cell_type": "markdown",
   "id": "15d17420",
   "metadata": {},
   "source": [
    "<div style=\"font-family: arial; padding: 30px; padding-top: 0; padding-bottom: 0;\">\n",
    "    \n",
    "<h2 style=\"color: #d42c06;\">References</h2>\n",
    "\n",
    "<ul>\n",
    "    <li>Walter J. Savitch. Problem Solving with C++, Tenth Edition. 2018.</li>\n",
    "</ul>\n",
    "\n",
    "<hr style=\"margin-top: 25px; border-color: #fff;\">\n",
    "\n",
    "</div>"
   ]
  }
 ],
 "metadata": {
  "kernelspec": {
   "display_name": "C++17",
   "language": "C++17",
   "name": "xcpp17"
  },
  "language_info": {
   "codemirror_mode": "text/x-c++src",
   "file_extension": ".cpp",
   "mimetype": "text/x-c++src",
   "name": "c++",
   "version": "-std=c++17"
  }
 },
 "nbformat": 4,
 "nbformat_minor": 5
}

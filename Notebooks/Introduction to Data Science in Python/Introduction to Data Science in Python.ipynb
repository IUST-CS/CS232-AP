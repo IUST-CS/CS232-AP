{
 "cells": [
  {
   "cell_type": "markdown",
   "id": "24971931-144f-402e-9fc4-ede95a159218",
   "metadata": {},
   "source": [
    "<div style=\"font-family: arial; padding: 30px; padding-bottom: 0;\">\n",
    "\n",
    "<h4 style=\"text-align: center;\">In the Name of God</h4>\n",
    "\n",
    "<h2 style=\"text-align: center; color: #103bc9;\">CS232 - Advanced Programming</h2>\n",
    "\n",
    "<h3 style=\"text-align: center; color: #d42c06;\">Iran University of Science and Technology</h3>\n",
    "\n",
    "<h3 style=\"text-align: center; color: #d42c06;\">School of Mathematics and Computer Science</h3>\n",
    "\n",
    "<h4 style=\"padding-top: 7px; text-align: center;\">Winter-Spring 2024</h4>\n",
    "\n",
    "<hr style=\"margin-top: 25px; border-color: #fff;\">\n",
    "\n",
    "<h1 style=\"text-align: center; color: #9c0000;\">Chapter 2: Data Science</h1>\n",
    "\n",
    "<h3 style=\"padding-top: 7px; text-align: center;\">Mehrnoosh Mofidi, Sahar Pourghasemi, <br> Eliya Kaheni & Sina Golshahi Karim</h3>\n",
    "\n",
    "<hr style=\"margin-top: 25px; border-color: #fff;\">\n",
    "\n",
    "</div>"
   ]
  },
  {
   "cell_type": "markdown",
   "id": "648a3a2d",
   "metadata": {
    "jp-MarkdownHeadingCollapsed": true
   },
   "source": [
    "<div style=\"font-family: arial; padding: 30px; padding-top: 15px; padding-bottom: 0;\">\n",
    "\n",
    "<hr style=\"margin-top: 25px; border-color: #fff;\">\n",
    "\n",
    "<h2 style=\"text-align: center; color: #186e00;\">Session 4: Introduction to Data Science in Python</h2>\n",
    "\n",
    "<hr style=\"margin-top: 25px; border-color: #fff;\">\n",
    "\n",
    "</div>"
   ]
  },
  {
   "cell_type": "markdown",
   "id": "e9fce79e-610b-4158-a0ec-e384bb3be676",
   "metadata": {},
   "source": [
    "<div style=\"font-size: 1.1em; font-family: arial; padding: 30px; padding-top: 0; padding-bottom: 0; width: 1100px;\">\n",
    "\n",
    "<h2 id=\"What is machine learning?\" style=\"color: #d42c06;\">What is machine learning?</h2>\n",
    "\n",
    "<ul>\n",
    "    <li> Machine learning is a subset of artificial intelligence that focuses on developing algorithms and models that can learn from and make predictions or decisions based on data.\n",
    "    <li> It involves the use of statistical techniques to enable computers to improve their performance on a specific task without being explicitly programmed. <br>\n",
    "    <li> Machine learning can be categorized into supervised learning, unsupervised learning, and reinforcement learning, each serving different purposes in data analysis. <br>\n",
    "    <li> Common machine learning algorithms include linear regression, decision trees, support vector machines, and neural networks. <br>\n",
    "    <li> Python is a popular programming language for implementing machine learning algorithms due to its simplicity, flexibility, and rich ecosystem of libraries such as scikit-learn, TensorFlow, and Keras.\n",
    "</ul>\n",
    "\n",
    "\n",
    "</div>"
   ]
  },
  {
   "cell_type": "markdown",
   "id": "a9be4b20",
   "metadata": {},
   "source": [
    "<div style=\"font-size: 1.1em; font-family: arial; padding: 30px; padding-top: 0; padding-bottom: 0; width: 1100px;\">\n",
    "\n",
    "<h2 id=\"Supervised learning vs Unsupervised learning\" style=\"color: #d42c06;\">Supervised learning vs Unsupervised learning</h2>\n",
    "\n",
    "<ul>\n",
    "    <li> <b>Supervised Learning:</b> In supervised learning, the algorithm is trained on a labeled dataset where the input data is paired with the corresponding output labels. The goal is to learn a mapping function from inputs to outputs.\n",
    "    <ul>\n",
    "        <li> Examples of supervised learning tasks include classification (predicting a category) and regression (predicting a continuous value).\n",
    "        <li> Common algorithms used in supervised learning include linear regression, logistic regression, support vector machines, decision trees, and neural networks.\n",
    "    </ul>\n",
    "    <li> <b>Unsupervised Learning:</b> In unsupervised learning, the algorithm is trained on an unlabeled dataset where the input data does not have corresponding output labels. The goal is to find patterns or structures in the data.\n",
    "    <ul>\n",
    "        <li> Examples of unsupervised learning tasks include clustering (grouping similar data points) and dimensionality reduction (reducing the number of features).\n",
    "        <li> Common algorithms used in unsupervised learning include k-means clustering, hierarchical clustering, principal component analysis (PCA), and t-distributed stochastic neighbor embedding (t-SNE).\n",
    "    </ul>\n",
    "</ul>\n",
    "</div>"
   ]
  },
  {
   "cell_type": "markdown",
   "id": "b21cdaf0",
   "metadata": {},
   "source": [
    "<img src=\"images/supervidesVSunsupervised.png\">"
   ]
  },
  {
   "cell_type": "markdown",
   "id": "60f1dfb3",
   "metadata": {},
   "source": [
    "\n",
    "<hr style=\"margin-top: 25px; border-color: #fff;\">\n"
   ]
  },
  {
   "cell_type": "markdown",
   "id": "41952805",
   "metadata": {},
   "source": [
    "<div style=\"font-size: 1.1em; font-family: arial; padding: 30px; padding-top: 0; padding-bottom: 0; width: 1100px;\">\n",
    "\n",
    "<h2 id=\"Features\" style=\"color: #d42c06;\">Features</h2>\n",
    "\n",
    "<ul>\n",
    "    <li> Features are the individual measurable properties or characteristics of the data that are used as inputs for the machine learning model. They represent different aspects of the data that help in making predictions or classifications.\n",
    "    <li> Features can be numerical (age, temperature, etc) or categorical (gender, color, etc). They can also be engineered or transformed to create new features that may improve the model's performance.\n",
    "    <li> Feature selection is the process of choosing the most relevant features for the model, while feature extraction involves transforming the original features into a new set of features.\n",
    "    <li> Feature engineering is a crucial step in machine learning as it directly impacts the model's ability to learn and make accurate predictions.\n",
    "    <li> Examples of features in a dataset could include customer demographics, product attributes, sensor readings, or text data.\n",
    "</ul>\n",
    "\n",
    "\n",
    "</div>"
   ]
  },
  {
   "cell_type": "markdown",
   "id": "061dfafa",
   "metadata": {},
   "source": [
    "<div style=\"font-size: 1.1em; font-family: arial; padding: 30px; padding-top: 0; padding-bottom: 0; width: 1100px;\">\n",
    "\n",
    "<h2 id=\"Labels\" style=\"color: #d42c06;\">Labels</h2>\n",
    "\n",
    "<ul>\n",
    "    <li> Labels are the target variable or output that the machine learning model aims to predict or classify. They represent the ground truth or correct answer that the model is trained to learn from the input features.\n",
    "    <li> In supervised learning, the dataset consists of both input features and corresponding labels. The model learns to map the input features to the correct labels during training.\n",
    "    <li> Labels can be categorical (e.g., class labels like \"spam\" or \"not spam\") or numerical (e.g., regression targets like house prices).\n",
    "    <li> The quality and accuracy of the labels in the dataset are crucial for training a reliable machine learning model. Noisy or incorrect labels can significantly impact the model's performance.\n",
    "    <li> Label encoding may be required to convert categorical labels into numerical form for certain machine learning algorithms that only work with numerical data.\n",
    "    <li> Examples of labels in a dataset could include disease diagnosis, sentiment analysis (positive/negative), or stock price prediction.\n",
    "</ul>\n",
    "\n",
    "\n",
    "</div>\n"
   ]
  },
  {
   "cell_type": "markdown",
   "id": "10ecfd8f",
   "metadata": {},
   "source": [
    "<div style=\"font-size: 1.1em; font-family: arial; padding: 30px; padding-top: 0; padding-bottom: 0; width: 1100px;\">\n",
    "\n",
    "<h2 id=\"Training\" style=\"color: #d42c06;\">Training</h2>\n",
    "\n",
    "<ul>\n",
    "    <li> During the training phase of a machine learning model, the algorithm uses the input features and corresponding labels to learn the patterns and relationships in the data.\n",
    "    <li> The model adjusts its internal parameters through an optimization process to minimize the difference between the predicted output and the actual labels.\n",
    "    <li> The goal of training is to enable the model to generalize well to unseen data by learning from the labeled examples in the training set.\n",
    "    <li> Different algorithms use various techniques such as gradient descent, backpropagation, or support vector machines to optimize the model's parameters based on the labeled data.\n",
    "</ul>\n",
    "\n",
    "\n",
    "</div>\n"
   ]
  },
  {
   "cell_type": "markdown",
   "id": "7f22e301",
   "metadata": {},
   "source": [
    "<div style=\"font-size: 1.1em; font-family: arial; padding: 30px; padding-top: 0; padding-bottom: 0; width: 1100px;\">\n",
    "\n",
    "<h2 id=\"Testing\" style=\"color: #d42c06;\">Testing</h2>\n",
    "\n",
    "<ul>\n",
    "    <li> After training the model on labeled data, it is essential to evaluate its performance on a separate dataset known as the test set.\n",
    "    <li> The test set contains input features but with held-out labels that the model has not seen during training.\n",
    "    <li> By comparing the model's predictions on the test set to the actual labels, we can assess its generalization ability and measure its performance metrics such as accuracy, precision, recall, or F1 score.\n",
    "    <li> Testing with labels helps us understand how well the model can make predictions on new, unseen data and provides insights into its reliability and effectiveness in real-world applications.\n",
    "</ul>\n",
    "\n",
    "\n",
    "</div>\n"
   ]
  },
  {
   "cell_type": "markdown",
   "id": "4ab7ffb9",
   "metadata": {},
   "source": [
    "<div style=\"font-size: 1.1em; font-family: arial; padding: 30px; width: 1000px;\">\n",
    "<div style=\"border: 2px solid #1f49a3; border-radius: 10px; padding: 30px; padding-top: 15px;\">\n",
    "<h3 style=\"color: #1f49a3; font-weight: bold;\">Note</h3>\n",
    "    <span style=\"color: #1f49a3;\">Be careful that if your model has a good score on the training dataset and a bad score on the testing dataset, your model is actually overfitting.\n",
    "    It means that it has memorized the training set and its labels, rather than learning to generalize to new, unseen data.</span>\n",
    "</div>\n",
    "</div>"
   ]
  },
  {
   "cell_type": "markdown",
   "id": "319b4737",
   "metadata": {},
   "source": [
    "<div style=\"font-size: 1.1em; font-family: arial; padding: 30px; padding-top: 0; padding-bottom: 0; width: 1100px;\">\n",
    "\n",
    "<h2 id=\"Model Evaluation Metrics\" style=\"color: #d42c06;\">Model Evaluation Metrics</h2>\n",
    "\n",
    "<p> When evaluating the performance of a machine learning model, there are several metrics that can be used depending on the type of problem you are trying to solve. Some common evaluation metrics include: </p>\n",
    "\n",
    "<ul>\n",
    "    <li> <b>Accuracy:</b> The proportion of correctly classified instances out of the total instances. It is a good metric for balanced datasets.\n",
    "    <li> <b>Precision:</b> The proportion of true positive predictions out of all positive predictions. It is useful when the cost of false positives is high.\n",
    "    <li> <b>Recall (Sensitivity):</b> The proportion of true positive predictions out of all actual positive instances. It is useful when the cost of false negatives is high.\n",
    "    <li> <b>F1 Score:</b> The harmonic mean of precision and recall. It provides a balance between precision and recall.\n",
    "    <li> <b>Area Under the Receiver Operating Characteristic curve (AUC-ROC):</b> A metric used for binary classification problems that measures the trade-off between true positive rate and false positive rate.\n",
    "    <li> <b>Mean Squared Error (MSE):</b> A metric used for regression problems that measures the average squared difference between predicted and actual values.\n",
    "\n",
    "</ul>\n",
    "\n",
    " <p> It is important to select the appropriate evaluation metric based on the specific characteristics of your dataset and the goals of your project. </p>\n",
    "\n",
    "</div>\n"
   ]
  },
  {
   "cell_type": "markdown",
   "id": "21c72520",
   "metadata": {},
   "source": [
    "<hr style=\"margin-top: 25px; border-color: #fff;\">"
   ]
  },
  {
   "cell_type": "markdown",
   "id": "69a5386c",
   "metadata": {},
   "source": [
    "<div style=\"font-size: 1.1em; font-family: arial; padding: 30px; padding-top: 0; padding-bottom: 0; width: 1100px;\">\n",
    "\n",
    "<p>Model validation is a crucial step in the machine learning pipeline that involves assessing the performance and generalizability of a trained model.</p>\n",
    "<p>It helps ensure that the model is not overfitting or underfitting the data and can make accurate predictions on unseen data.</p>\n",
    "\n",
    "</div>"
   ]
  },
  {
   "cell_type": "markdown",
   "id": "423ce2a8",
   "metadata": {},
   "source": [
    "<div style=\"font-size: 1.1em; font-family: arial; padding: 30px; padding-top: 0; padding-bottom: 0; width: 1100px;\">\n",
    "<h2 id=\"Overview and Importance\" style=\"color: #d42c06;\">Overview and Importance</h2>\n",
    "\n",
    "<ul>\n",
    "    <li> Ensures the model's performance is reliable and robust across different datasets.\n",
    "    <li> Helps identify and address issues such as overfitting, underfitting, bias, and variance.\n",
    "    <li> Allows for the selection of the best-performing model for deployment in real-world applications.\n",
    "    <li> Provides insights into the model's strengths and weaknesses, guiding further improvements and optimizations. \n",
    "</ul>\n",
    "\n",
    "</div>"
   ]
  },
  {
   "cell_type": "markdown",
   "id": "72e38af5-57c5-47c8-94c4-77b719591a53",
   "metadata": {},
   "source": [
    "<div style=\"padding: 30px; padding-top: 0; padding-bottom: 0;\">\n",
    "\n",
    "<hr style=\"border-color: #fff;\">\n",
    "\n",
    "</div>"
   ]
  }
 ],
 "metadata": {
  "kernelspec": {
   "display_name": "Python 3.11.2 64-bit",
   "language": "python",
   "name": "python3"
  },
  "language_info": {
   "codemirror_mode": {
    "name": "ipython",
    "version": 3
   },
   "file_extension": ".py",
   "mimetype": "text/x-python",
   "name": "python",
   "nbconvert_exporter": "python",
   "pygments_lexer": "ipython3",
   "version": "3.11.2"
  },
  "vscode": {
   "interpreter": {
    "hash": "aee8b7b246df8f9039afb4144a1f6fd8d2ca17a180786b69acc140d282b71a49"
   }
  }
 },
 "nbformat": 4,
 "nbformat_minor": 5
}

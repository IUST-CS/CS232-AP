{
 "cells": [
  {
   "cell_type": "markdown",
   "id": "24971931-144f-402e-9fc4-ede95a159218",
   "metadata": {},
   "source": [
    "<div style=\"font-family: arial; direction: rtl; padding: 30px; padding-bottom: 0;\">\n",
    "\n",
    "<h4 style=\"text-align: center;\">به نام خدا</h4>\n",
    "\n",
    "<h2 style=\"text-align: center; color: #103bc9;\">برنامه‌سازی پیشرفته</h2>\n",
    "\n",
    "<h3 style=\"text-align: center; color: #d42c06;\">دانشگاه علم و صنعت ایران<br><br>دانشکده ریاضی و علوم کامپیوتر</h3>\n",
    "\n",
    "<h4 style=\"padding-top: 7px; text-align: center;\">نیمسال دوم سال تحصیلی ۱۴۰۲-۱۴۰۳</h4>\n",
    "\n",
    "<hr style=\"margin-top: 25px; border-color: #fff;\">\n",
    "\n",
    "<h1 style=\"text-align: center; color: #9c0000;\">فصل ۱: کلاس‌ها</h1>\n",
    "\n",
    "<h2 style=\"text-align: center; color: #186e00;\">بخش ۱: مقدمات</h2>\n",
    "\n",
    "<h3 style=\"text-align: center; padding-top: 7px;\">علیرضا خادم دقیق</h3>\n",
    "\n",
    "<hr style=\"margin-top: 25px; border-color: #fff;\">\n",
    "\n",
    "</div>"
   ]
  },
  {
   "cell_type": "markdown",
   "id": "90298cc0-60cf-4799-87db-bd2e8fc338c3",
   "metadata": {},
   "source": [
    "<div style=\"font-family: arial; direction: rtl; padding-right: 40px; padding-top: 0; padding-bottom: 0;\">\n",
    "    <h2 style=\"color: #d42c06;\">فهرست مطالب</h2>\n",
    "    <ul>\n",
    "        <li><a href=\"#introduction\">مقدمات</a></li>\n",
    "        <li><a href=\"#conclusion\">جمع‌بندی</a></li>\n",
    "    </ul>\n",
    "    <hr style=\"margin-top: 25px; border-color: #fff;\">\n",
    "</div>"
   ]
  },
  {
   "cell_type": "markdown",
   "id": "b2703d52-7195-48ea-8648-327e02dd0761",
   "metadata": {},
   "source": [
    "<div style=\"font-family: arial; direction: rtl; padding-right: 40px; padding-top: 0; padding-bottom: 0;\">    \n",
    "    <h2 id=\"introduction\" style=\"color: #d42c06;\">مقدمات</h2>\n",
    "</div>"
   ]
  },
  {
   "cell_type": "markdown",
   "id": "0c39d9ec-0d0b-4196-b8d6-6d063bfc356f",
   "metadata": {},
   "source": [
    "<div style=\"direction: rtl; font-size: 1.1em; font-family: arial; padding-right: 40px; padding-top: 0; padding-bottom: 0;\">\n",
    "    <span>این یک نمونه است.</span>\n",
    "    <hr style=\"margin-top: 25px; border-color: #fff;\">\n",
    "</div>"
   ]
  },
  {
   "cell_type": "markdown",
   "id": "3e62ead6",
   "metadata": {},
   "source": [
    "<div style=\"font-size: 9pt; font-family: arial; padding-right: 40px\" dir=\"rtl\">\n",
    "        <h1 id=\"classDef\" style=\"color: #d42c06;\">تعریف کلاس</h1>\n",
    "            <ul>\n",
    "                <li>\n",
    "                    <h3>یک کلاس یک <a title=\"Data Type\">نوع داده</a> است که متغیرهای آن اشیاء هستند</h3>\n",
    "                    <ul>\n",
    "                        <li>\n",
    "                            <h3>تعریف یک کلاس شامل:</h3>\n",
    "                            <ul>\n",
    "                                <li>\n",
    "                                    <h3>توضیح در مورد انواع مقادیر متغیرهای عضو کلاس</h3>\n",
    "                                </li>\n",
    "                                <li>\n",
    "                                    <h3>توضیح در مورد توابع</h3>\n",
    "                                </li>\n",
    "                            </ul>\n",
    "                        </li>\n",
    "                        <li>\n",
    "                            <h3>توضیح یک کلاس کمی شبیه به تعریف یک <a title=\"Structure\">ساختار</a> به علاوه متغیرهای عضو است</h3>\n",
    "                        </li>\n",
    "                    </ul>\n",
    "                </li>\n",
    "                <li>\n",
    "                    <h3>برای ساخت یک کلاس جدید به اسم DayOfYear</h3>\n",
    "                    <ul>\n",
    "                        <li>\n",
    "                            <h3>تصمیم بگیرید که چه مقادیری را نشان دهید</h3>\n",
    "                        </li>\n",
    "                        <li>\n",
    "                            <h3>در این مثال مقادیر تاریخ هایی همچون  4 July هستند</h3>\n",
    "                            <ul>\n",
    "                                <li>\n",
    "                                    <h4><a title=\"Member Variable\">متغیر عضو</a> ماه که یک عدد صحیح است (Feb = 2, Jan = 1, ...)</h4>\n",
    "                                </li>\n",
    "                                <li>\n",
    "                                    <h4><a title=\"Member Variable\">متغیر عضو</a> روز که عدد صحیح است</h4>\n",
    "                                </li>\n",
    "                            </ul>\n",
    "                        </li>\n",
    "                        <li>\n",
    "                            <h3>تصمیم بگیرید که چه <a title=\" Member Functions \">تابع های عضوی</a> نیاز است</h3>\n",
    "                        </li>\n",
    "                        <li>\n",
    "                            <h3>ما تنها از یک تابع به نام output استفاده میکنیم</h3>\n",
    "                        </li>\n",
    "                    </ul>\n",
    "                </li>\n",
    "            </ul>\n",
    "        </div>"
   ]
  },
  {
   "cell_type": "code",
   "execution_count": null,
   "id": "38d36247",
   "metadata": {
    "vscode": {
     "languageId": "cpp"
    }
   },
   "outputs": [],
   "source": [
    "class DayOfYear\n",
    "{\n",
    "public:\n",
    "    void output();\n",
    "    int month;\n",
    "    int day;\n",
    "};"
   ]
  },
  {
   "cell_type": "markdown",
   "id": "6404add5",
   "metadata": {},
   "source": [
    "<div dir=\"rtl\" style=\"font-family: arial; font-size: 9pt; padding-right: 40px\">\n",
    "    <ul>\n",
    "                <li>\n",
    "                    <h3><a title=\"Member Functions\">توابع عضو</a> در بخش <a title=\"Declaration\">تعاریف</a> کلاس تعریف می شوند </h3>\n",
    "                </li>\n",
    "        <li>\n",
    "                    <h3>تعاریف <a title=\"Member Functions\">توابع عضو</a> هویت کلاس خودش را مشخص میکند</h3>\n",
    "                </li>\n",
    "            </ul>\n",
    "</div>"
   ]
  },
  {
   "cell_type": "code",
   "execution_count": null,
   "id": "d824b13e",
   "metadata": {
    "vscode": {
     "languageId": "cpp"
    }
   },
   "outputs": [],
   "source": [
    "void DayOfYear::output()\n",
    "{\n",
    "    cout << \"month = \" << month << \", day = \" << day << endl;\n",
    "}"
   ]
  },
  {
   "cell_type": "markdown",
   "id": "48cecede",
   "metadata": {},
   "source": [
    "<div dir=\"rtl\" style=\"font-family: arial; font-size: 9pt; padding-right: 40px\">\n",
    "    <ul>\n",
    "                <li>\n",
    "                    <h3><a title=\"Syntax\">شیوه</a> تعریف <a title=\"Member Functions\">توابع عضو</a>:</h3>\n",
    "                </li>\n",
    "            </ul>\n",
    "</div>"
   ]
  },
  {
   "cell_type": "code",
   "execution_count": null,
   "id": "7bffadb1",
   "metadata": {
    "vscode": {
     "languageId": "cpp"
    }
   },
   "outputs": [],
   "source": [
    "// Class_Name::Function_Name(Parameter_List)\n",
    "// {\n",
    "//     Function Body Statements\n",
    "// }\n",
    "\n",
    "void DayOfYear::output()\n",
    "{\n",
    "    cout << \"month = \" << month << \", day = \" << day << endl;\n",
    "}"
   ]
  },
  {
   "cell_type": "markdown",
   "id": "5ca0a579",
   "metadata": {},
   "source": [
    "<div dir=\"rtl\" style=\"font-family: arial; font-size: 9pt; padding-right: 40px\">\n",
    "    <h1 style=\"color: #d42c06;\">عملگر \"::\"</h1>\n",
    "    <ul>\n",
    "                <li>\n",
    "                    <h3>\"::\" <a title=\"Scope Resolution Operator\">عملگر وضوح دامنه است</a></h3>\n",
    "                    <ul>\n",
    "                        <li>\n",
    "                            <h3>به کلاس می گوید که یک تابع عضو آن است</h3>\n",
    "                        </li>\n",
    "                        <li>\n",
    "                            <h3>()void DayOfYear::output نشان می دهد که تابع output <a title=\"Member Function\">تابع عضو</a> کلاس DayOfYear است</h3>\n",
    "                        </li>\n",
    "                    </ul>\n",
    "                </li>\n",
    "        <li>\n",
    "                    <h3>نام کلاسی که قبل از \"::\" قرار بگیرد نیازمند مشخص کردن <a title=\"Type\">نوع</a> است</h3>\n",
    "                </li>\n",
    "            </ul>\n",
    "</div>"
   ]
  },
  {
   "cell_type": "markdown",
   "id": "4e2821d6",
   "metadata": {},
   "source": [
    "<div style=\"font-family: arial; font-size: 9pt; padding-right: 40px\" dir=\"rtl\">\n",
    "    <h1 style=\"color: #d42c06;\">\"::\" و \".\"</h1>\n",
    "    <ul>\n",
    "        <li>\n",
    "            <h3>\"::\" برای مشخص کردن عضویت و با کلاس استفاده می شود</h3>\n",
    "        </li>\n",
    "    </ul>\n",
    "</div>"
   ]
  },
  {
   "cell_type": "code",
   "execution_count": null,
   "id": "ee941e7d",
   "metadata": {
    "vscode": {
     "languageId": "cpp"
    }
   },
   "outputs": [],
   "source": [
    "void DayOfYear::output()\n",
    "{\n",
    "    // function body\n",
    "}"
   ]
  },
  {
   "cell_type": "markdown",
   "id": "08589c49",
   "metadata": {},
   "source": [
    "<div dir=\"rtl\" style=\"font-family: arial; font-size: 9pt; padding-right: 40px\">\n",
    "    <ul>\n",
    "    <li>\n",
    "                    <h3>\".\" برای مشخص کردن عضویت و با متغیر استفاده می شود</h3>\n",
    "                </li></ul>\n",
    "</div>"
   ]
  },
  {
   "cell_type": "code",
   "execution_count": null,
   "id": "d4ca9583",
   "metadata": {
    "vscode": {
     "languageId": "cpp"
    }
   },
   "outputs": [],
   "source": [
    "DayOfYear birthday; \n",
    "birthday.output( );"
   ]
  },
  {
   "cell_type": "markdown",
   "id": "dcfc18a2-fdea-415d-ad02-7e3ac7859c2a",
   "metadata": {},
   "source": [
    "<div style=\"font-size: 1.1em; font-family: arial; direction: rtl; padding: 30px;\">\n",
    "<div style=\"border: 2px solid #1f49a3; border-radius: 10px; padding: 30px; padding-top: 15px;\">\n",
    "<h3 style=\"color: #1f49a3; font-weight: bold;\">نکته</h3>\n",
    "<!-- <span style=\"color: #1f49a3;\">این یک نمونه است.</span> -->\n",
    "<div dir=\"rtl\" style=\"font-size: 9pt; font-family: 'Vazirmatn'\">\n",
    "    <ul>\n",
    "                <li>\n",
    "                    <h3>صدا زدن <a title=\"Member Function\">تابع عضو</a> output کلاس DayOfYear به این صورت انجام می شود:</h3>\n",
    "                </li>\n",
    "            </ul>\n",
    "</div>\n",
    "</div>\n",
    "</div>"
   ]
  },
  {
   "cell_type": "code",
   "execution_count": null,
   "id": "8764f519",
   "metadata": {
    "vscode": {
     "languageId": "cpp"
    }
   },
   "outputs": [],
   "source": [
    "DayOfYear today, birthday; \n",
    "today.output( ); \n",
    "birthday.output( );"
   ]
  },
  {
   "cell_type": "code",
   "execution_count": null,
   "id": "70603bb0",
   "metadata": {
    "vscode": {
     "languageId": "cpp"
    }
   },
   "outputs": [],
   "source": [
    "#include <iostream>\n",
    "using namespace std;\n",
    "class DayOfYear\n",
    "{\n",
    "public:\n",
    "    void output();\n",
    "    int month;\n",
    "    int day;\n",
    "};\n",
    "\n",
    "int main()\n",
    "{\n",
    "    DayOfYear today, birthday;\n",
    "    cout << \"Enter today's date:\\n\";\n",
    "    cout << \"Enter month as a number: \";\n",
    "    cin >> today.month;\n",
    "    cout << \"Enter the day of the month: \";\n",
    "    cin >> today.day;\n",
    "    cout << \"Enter your birthday : \\n\";\n",
    "    cout << \"Enter month as number: \";\n",
    "    cin >> birthday.month;\n",
    "    cout << \"Enter the day of the month: \";\n",
    "    cin >> birthday.day;\n",
    "    cout << \"Today's date is \";\n",
    "    today.output();\n",
    "    cout << \"Your birthday is \";\n",
    "    birthday.output();\n",
    "    if (birthday.month == today.month && birthday.day == today.day)\n",
    "    {\n",
    "        cout << \"Happy Birthday! \\n\";\n",
    "    }\n",
    "    else\n",
    "    {\n",
    "        cout << \"Happy Unbirthday! \\n\";\n",
    "    }\n",
    "    return 0;\n",
    "}\n",
    "\n",
    "void DayOfYear::output()\n",
    "{\n",
    "    cout << \"month = \" << month << \", day = \" << day << endl;\n",
    "}"
   ]
  },
  {
   "cell_type": "markdown",
   "id": "c82150df",
   "metadata": {},
   "source": [
    "<div dir=\"rtl\" style=\"font-size: 9pt; font-family: arial; padding-right: 40px\">\n",
    "    <h1 style=\"color: #d42c06;\">کپسوله سازی</h1>\n",
    "    <ul>\n",
    "                <li>\n",
    "                    <h3><a title=\"Encapsulation\">کپسوله سازی</a> یعنی:</h3>\n",
    "                    <ul>\n",
    "                        <li>\n",
    "                            <h3>ترکیب تعدادی از موارد، مانند\n",
    "                                متغیرها و توابع در یک بسته واحد\n",
    "                                مانند یک شی از یک کلاس</h3>\n",
    "                        </li>\n",
    "                    </ul>\n",
    "                </li>\n",
    "            </ul>\n",
    "</div>\n"
   ]
  },
  {
   "cell_type": "markdown",
   "id": "d3d46587",
   "metadata": {},
   "source": [
    "<div dir=\"rtl\" style=\"font-size: 9pt; font-family: arial; padding-right: 40px\">\n",
    "    <h1 style=\"color: #d42c06;\">مشکلات DayOfYear</h1>\n",
    "            <ul>\n",
    "                <li>\n",
    "                    <h3>تغییر در نحوه ذخیره ماه باعث ایجاد تغییر در کل کد می شود</h3>\n",
    "                </li>\n",
    "                <li>\n",
    "                    <h3>اگر تصمیم بگیریم ماه را به صورت کلمات سه حرفی (Feb, Jan , ...) در نظر بگیریم آنگاه باید کل کد را تغییر بدهیم </h3>\n",
    "                </li>\n",
    "            </ul>\n",
    "<div>"
   ]
  },
  {
   "cell_type": "markdown",
   "id": "954bed49",
   "metadata": {},
   "source": [
    "<div dir=\"rtl\" style=\"font-size: 9pt; font-family: arial; padding-right: 40px\">\n",
    "    <h1 style=\"color: #d42c06;\">تعریف کلاس ایده آل</h1>\n",
    "            <ul>\n",
    "                <li>\n",
    "                    <h3>یک تعریف کلاس ایده آل از DayOfYear کلاسی است که\n",
    "                        نیازی به تغییر در\n",
    "                        برنامه ای که از DayOfYear  استفاده می کند ندارد</h3>\n",
    "                </li>\n",
    "            </ul>\n",
    "</div>"
   ]
  },
  {
   "cell_type": "markdown",
   "id": "a7ecd5c3",
   "metadata": {},
   "source": [
    "<div dir=\"rtl\" style=\"font-size: 9pt; font-family: arial; padding-right: 40px\">\n",
    "    <h1 style=\"color: #d42c06;\">درست کردن DayOfYear</h1>\n",
    "            <ul>\n",
    "                <li>\n",
    "                    <h3>برای درست کردن DayOfYear باید:</h3>\n",
    "                </li>\n",
    "                <ul>\n",
    "                    <li>\n",
    "                        <h3>توابع عضو را اضافه کنیم تا برای تغییر یا دسترسی به متغیرهای عضو از آنها استفاده کنیم</h3>\n",
    "                    </li>\n",
    "                    <ul>\n",
    "                        <li>\n",
    "                            <h4>اگر برنامه هرگز مستقیماً به متغیرهای عضو ارجاع ندهد،\n",
    "                                تغییر نحوه ذخیره متغیرها نیازی به تغییر برنامه نخواهد داشت\n",
    "                            </h4>\n",
    "                        </li>\n",
    "                    </ul>\n",
    "                </ul>\n",
    "                 <li>\n",
    "                        <h3>ما باید مطمئن شویم برنامه هرگز مستقیما به متغیر ها ارجاع داده نمی شود</h3>\n",
    "                    </li>\n",
    "            </ul>\n",
    "</div>"
   ]
  },
  {
   "cell_type": "markdown",
   "id": "b380259a",
   "metadata": {},
   "source": [
    "<div dir=\"rtl\" style=\"font-size: 9pt; font-family: arial; padding-right: 40px\">\n",
    "    <h1 style=\"color: #d42c06;\">عمومی یا خصوصی؟</h1>\n",
    "    <ul>\n",
    "        <li>\n",
    "            <h3>سی پلاس پلاس به ما کمک می کند تا برنامه را از ارجاع مستقیم به <a title=\"Member Variables\">متغیرهای عضو</a> محدود کنیم</h3>\n",
    "            <ul>\n",
    "                <li>\n",
    "                    <h3>اعضای خصوصی یک کلاس فقط می توانند در تعاریف <a title=\"Member Functions\">توابع عضو</a> مرجع شوند</h3>\n",
    "                    <ul>\n",
    "                        <li>\n",
    "                            <h4>اگر برنامه سعی کند به یک عضو خصوصی دسترسی پیدا کند ، کامپایلر پیام خطا می دهد</h4>\n",
    "                        </li>\n",
    "                    </ul>\n",
    "                </li>\n",
    "                <li>\n",
    "                    <h3>\n",
    "                        اعضای خصوصی می توانند متغیرها یا توابع باشند\n",
    "                    </h3>\n",
    "                </li>\n",
    "            </ul>\n",
    "        </li>\n",
    "    </ul>\n",
    "</div>"
   ]
  },
  {
   "cell_type": "markdown",
   "id": "2959e66f",
   "metadata": {},
   "source": [
    "<div dir=\"rtl\" style=\"font-size: 9pt; font-family: arial; padding-right: 40px\">\n",
    "    <h1 style=\"color: #d42c06;\">متغیر های خصوصی</h1>\n",
    "    <ul>\n",
    "        <li>\n",
    "            <h3>نمی توان به طور مستقیم از برنامه به متغیر های خصوصی دسترسی پیدا کرد</h3>\n",
    "            <ul>\n",
    "                <li>\n",
    "                    <h3>برای تغییر مقادیر آنها نیاز به استفاده از <a title=\"Member Functions\">توابع عضو</a> عمومی کلاس داریم</h3>\n",
    "                </li>\n",
    "                <li>\n",
    "                    <h3>برای مقدار دادن به متغیر های خصوصی month و day در یک کلاس DayOfYear جدید از یک <a title=\"Member Function\">تابع عضو</a> مانند زیر استفاده میکنیم</h3>\n",
    "                </li>\n",
    "            </ul>\n",
    "        </li>\n",
    "    </ul>\n",
    "</div>"
   ]
  },
  {
   "cell_type": "code",
   "execution_count": null,
   "id": "a4bfed25",
   "metadata": {
    "vscode": {
     "languageId": "cpp"
    }
   },
   "outputs": [],
   "source": [
    "void DayOfYear::set(int new_month, int new_day)\n",
    "{\n",
    "    month = new_month; \n",
    "    day = new_day;\n",
    "}"
   ]
  },
  {
   "cell_type": "markdown",
   "id": "0487f653",
   "metadata": {},
   "source": [
    "<div dir=\"rtl\" style=\"font-size: 9pt; font-family: arial; padding-right: 40px\">\n",
    "    <h1 style=\"color: #d42c06;\">اعضای عمومی یا خصوصی</h1>\n",
    "    <ul>\n",
    "        <li>\n",
    "            <h3>کلمه کلیدی خصوصی اعضای یک کلاس را شناسایی می کند که فقط می توان از طریق توابع عضو آن کلاس به آنها دسترسی پیدا کرد</h3>\n",
    "            <ul>\n",
    "                <li>\n",
    "                    <h3>اعضایی که بعد از کلمه کلیدی خصوصی قرار می گیرند ، اعضای خصوصی کلاس هستند</h3>\n",
    "                </li>\n",
    "            </ul>\n",
    "        </li>\n",
    "        <li>\n",
    "            <h3>کلمه کلیدی عمومی اعضای یک کلاس را شناسایی می کند که می توان از خارج از کلاس به آنها دسترسی داشت</h3>\n",
    "            <ul>\n",
    "                <li>\n",
    "                    <h3>\n",
    "                        اعضایی که بعد از کلمه کلیدی عمومی قرار می گیرند ، اعضای عمومی کلاس هستند\n",
    "                    </h3>\n",
    "                </li>\n",
    "            </ul>\n",
    "        </li>\n",
    "    </ul>\n",
    "</div>"
   ]
  },
  {
   "cell_type": "markdown",
   "id": "d24353ca",
   "metadata": {},
   "source": [
    "<div dir=\"rtl\" style=\"font-size: 9pt; font-family: arial; padding-right: 40px\">\n",
    "    <h1 style=\"color: #d42c06;\">DayOfYear جدید</h1>\n",
    "    <ul>\n",
    "        <li>\n",
    "            <h3>از همه متغیرهای عضو خصوصی استفاده می کند</h3>\n",
    "        </li>\n",
    "        <li>\n",
    "            <h3>از توابع عضو برای اعمال تغییرات استفاده می کند</h3>\n",
    "            <ul>\n",
    "                <li>\n",
    "                    <h3>اکنون می توان متغیر ها و توابع عضو کلاس را بدون ایجاد تغییر در کلیت برنامه تغییر داد</h3>\n",
    "                </li>\n",
    "            </ul>\n",
    "        </li>\n",
    "    </ul>\n",
    "</div>"
   ]
  },
  {
   "cell_type": "code",
   "execution_count": null,
   "id": "921f79ba",
   "metadata": {
    "vscode": {
     "languageId": "cpp"
    }
   },
   "outputs": [],
   "source": [
    "// Program to demonstrate the class DayOfYear.\n",
    "#include <iostream>\n",
    "using namespace std;\n",
    "class DayOfYear\n",
    "{\n",
    "public:\n",
    "    void input();\n",
    "    void output();\n",
    "    void set(int newMonth, int newDay);\n",
    "    // Precondition: newMonth and newDay form a possible date.\n",
    "    // Postcondition: The date is reset according to the arguments.\n",
    "    int getMonth();\n",
    "    // Returns the month, 1 for January, 2 for February, etc.\n",
    "    int getDay();\n",
    "    // Returns the day of the month.\n",
    "private:\n",
    "    void checkDate();\n",
    "    int month;\n",
    "    int day;\n",
    "};\n",
    "int main()\n",
    "{\n",
    "    DayOfYear today, bachBirthday;\n",
    "    cout << \"Enter today's date:\\n\";\n",
    "    today.input();\n",
    "    cout << \"Today's date is \";\n",
    "    today.output();\n",
    "    bachBirthday.set(3, 21);\n",
    "    cout << \"J. S. Bach's birthday is \";\n",
    "    bachBirthday.output();\n",
    "    if (today.getMonth() == bachBirthday.getMonth() &&\n",
    "        today.getDay() == bachBirthday.getDay())\n",
    "        cout << \"Happy Birthday Johann Sebastian!\\n\";\n",
    "    else\n",
    "        cout << \"Happy Unbirthday Johann Sebastian!\\n\";\n",
    "    return 0;\n",
    "}\n",
    "// Uses iostream:\n",
    "void DayOfYear::input()\n",
    "{\n",
    "    cout << \"Enter the month as a number: \";\n",
    "    cin >> month;\n",
    "    cout << \"Enter the day of the month: \";\n",
    "    cin >> day;\n",
    "    checkDate();\n",
    "}\n",
    "\n",
    "void DayOfYear::output()\n",
    "{\n",
    "    cout << \"month = \" << month\n",
    "         << \", day = \" << day << endl;\n",
    "}\n",
    "\n",
    "void DayOfYear::set(int newMonth, int newDay)\n",
    "{\n",
    "    month = newMonth;\n",
    "    day = newDay;\n",
    "    checkDate();\n",
    "}\n",
    "\n",
    "void DayOfYear::checkDate()\n",
    "{\n",
    "    if ((month < 1) || (month > 12) || (day < 1) || (day > 31))\n",
    "    {\n",
    "        cout << \"Illegal date. Aborting program.\\n\";\n",
    "        exit(1);\n",
    "    }\n",
    "}\n",
    "\n",
    "int DayOfYear::getMonth()\n",
    "{\n",
    "    return month;\n",
    "}\n",
    "\n",
    "int DayOfYear::getDay()\n",
    "{\n",
    "    return day;\n",
    "}"
   ]
  },
  {
   "cell_type": "markdown",
   "id": "36defb40",
   "metadata": {},
   "source": [
    "<div dir=\"rtl\" style=\"font-size: 9pt; font-family: arial; padding-right: 40px\">\n",
    "    <h1 style=\"color: #d42c06;\">استفاده از متغیر های خصوصی</h1>\n",
    "    <ul>\n",
    "        <li>\n",
    "            <h3>این عادی است که تمام متغیرهای عضو را خصوصی کنید</h3>\n",
    "        </li>\n",
    "        <li>\n",
    "            <h3>متغیرهای خصوصی نیاز به توابع عضو برای انجام هر تغییر و بازیابی مقادیر دارند</h3>\n",
    "            <ul>\n",
    "                <li>\n",
    "                    <h3>\n",
    "                        <a title=\"Accessor Functions\">توابع دسترسی</a> به شما اجازه می دهند تا مقادیر متغیر های خصوصی را دریافت کنید\n",
    "                    </h3>\n",
    "                    <ul>\n",
    "                        <li>\n",
    "                            <h4>برای مثال تابع getDay در کلاس DayOfYear</h4>\n",
    "                        </li>\n",
    "                    </ul>\n",
    "                </li>\n",
    "                <li>\n",
    "                    <h3><a title=\"Mutator Functions\">توابع تغییر دهنده</a> به شما امکان تغییر در متغیر های خصوصی را می دهند</h3>\n",
    "                    <ul>\n",
    "                        <li>\n",
    "                            <h4>برای مثال تابع set در کلاس DayOfYear</h4>\n",
    "                        </li>\n",
    "                    </ul>\n",
    "                </li>\n",
    "            </ul>\n",
    "        </li>\n",
    "    </ul>\n",
    "</div>"
   ]
  },
  {
   "cell_type": "markdown",
   "id": "869789e8",
   "metadata": {},
   "source": [
    "<div dir=\"rtl\" style=\"font-size: 9pt; font-family: arial; padding-right: 40px\">\n",
    "    <h1 style=\"color: #d42c06;\">تعاریف کلاس عمومی</h1>\n",
    "    <ul>\n",
    "        <li>\n",
    "            <h3><a title=\"Syntax\">نوع نوشتار</a> تعریف یک کلاس به صورت زیر است</h3>\n",
    "        </li>\n",
    "    </ul>\n",
    "\n",
    "</div>"
   ]
  },
  {
   "cell_type": "code",
   "execution_count": null,
   "id": "855c9f6f",
   "metadata": {
    "vscode": {
     "languageId": "cpp"
    }
   },
   "outputs": [],
   "source": [
    "class Class_Name\n",
    "{\n",
    "    public:\n",
    "        Member_Specification_1\n",
    "        Member_Specification_2  \n",
    "        … \n",
    "        Member_Specification_3 \n",
    "    private: \n",
    "        Member_Specification_n + 1 \n",
    "        Member_Specification_n + 2\n",
    "        …\n",
    "};"
   ]
  },
  {
   "cell_type": "markdown",
   "id": "7517b723",
   "metadata": {},
   "source": [
    "<div dir=\"rtl\" style=\"font-size: 9pt; font-family: arial; padding-right: 40px\">\n",
    "    <h1 style=\"color: #d42c06;\">ایجاد شیء</h1>\n",
    "    <ul>\n",
    "        <li>\n",
    "            <h3>بعد از اینکه یک کلاس را تعریف کردیم، ایجاد <a title=\"Object\">شیء</a> از آن کلاس دقیقا مانند ایجاد نوعی متغیر است</h3>\n",
    "            <ul>\n",
    "                <li>\n",
    "                    <h3>برای مثال برای ایجاد دو <a title=\"Objects\">اشیاء</a> از کلاس Bicycle به این صورت عمل میکنیم</h3>\n",
    "                </li>\n",
    "            </ul>\n",
    "        </li>\n",
    "    </ul>\n",
    "</div>"
   ]
  },
  {
   "cell_type": "code",
   "execution_count": null,
   "id": "bb58c80f",
   "metadata": {
    "vscode": {
     "languageId": "cpp"
    }
   },
   "outputs": [],
   "source": [
    "class Bicycle\n",
    "{\n",
    "    // class definition lines\n",
    "};\n",
    "\n",
    "Bicycle myBike, yourBike;"
   ]
  },
  {
   "cell_type": "markdown",
   "id": "784e7bcc",
   "metadata": {},
   "source": [
    "<div dir=\"rtl\" style=\"font-size: 9pt; font-family: arial; padding-right: 40px\">\n",
    "    <h1 style=\"color: #d42c06;\"><a title=\"Assignment Operator\">عملگر تخصیص</a></h1>\n",
    "    <ul>\n",
    "        <li>\n",
    "            <h3><a title=\"Objects\">اشیاء</a> و <a title=\"structures\">ساختار ها</a> قابلیت <a title=\"Assign\">تخصیص داده شدن</a> توسط عملگر تخصیص را دارند</h3>\n",
    "        </li>\n",
    "    </ul>\n",
    "</div>"
   ]
  },
  {
   "cell_type": "code",
   "execution_count": null,
   "id": "34fa6f23",
   "metadata": {
    "vscode": {
     "languageId": "cpp"
    }
   },
   "outputs": [],
   "source": [
    "DayOfYear dueDate, tomorrow;\n",
    "tomorrow.set(11, 19);\n",
    "dueDate = tomorrow; //tomorrow is assigned to  the dueDate"
   ]
  },
  {
   "cell_type": "markdown",
   "id": "8eec74fc",
   "metadata": {},
   "source": [
    "<div dir=\"rtl\" style=\"font-size: 9pt; font-family: arial; padding-right: 40px\">\n",
    "    <h1 style=\"color: #d42c06;\">مثال برنامه: کلاس حساب بانکی</h1>\n",
    "    <ul>\n",
    "        <li>\n",
    "            <h3>این کلاس به شما اجازه می دهد</h3>\n",
    "            <ul>\n",
    "                <li>\n",
    "                    <h3>هر زمان که بخواهید برداشت پول کنید</h3>\n",
    "                </li>\n",
    "                <li>\n",
    "                    <h3>\n",
    "                        تمام عملیات های معمول بانکی را داشته باشید\n",
    "                    </h3>\n",
    "                </li>\n",
    "                <li>\n",
    "                    <h3>\n",
    "                        موجودی حساب را ذخیره کنید\n",
    "                    </h3>\n",
    "                </li>\n",
    "                <li>\n",
    "                    <h3>\n",
    "                    <a title=\"Interest Rate\">نرخ بهره</a> حساب را ذخیره کنید\n",
    "                </h3>\n",
    "                </li>\n",
    "            </ul>\n",
    "        </li>\n",
    "    </ul>\n",
    "</div>"
   ]
  },
  {
   "cell_type": "code",
   "execution_count": null,
   "id": "bf5edf14",
   "metadata": {
    "vscode": {
     "languageId": "cpp"
    }
   },
   "outputs": [],
   "source": [
    "#include <iostream>\n",
    "using namespace std;\n",
    "// Class for a bank account:\n",
    "class BankAccount\n",
    "{\n",
    "public:\n",
    "    void set(int dollars, int cents, double rate);\n",
    "    // Postcondition: The account balance has been set to $dollars.cents;\n",
    "    // The interest rate has been set to rate percent.\n",
    "    void set(int dollars, double rate);\n",
    "    // Postcondition: The account balance has been set to $dollars.00.\n",
    "    // The interest rate has been set to rate percent.\n",
    "    void update();\n",
    "    // Postcondition: One year of simple interest has been\n",
    "    // added to the account balance.\n",
    "    double getBalance();\n",
    "    // Returns the current account balance.\n",
    "    double getRate();\n",
    "    // Returns the current account interest rate as a percentage.\n",
    "    void output(ostream &outs);\n",
    "    // Precondition: If outs is a file output stream, then\n",
    "    // outs has already been connected to a file.\n",
    "    // Postcondition: Account balance and interest rate have\n",
    "    // been written to the stream outs.\n",
    "private:\n",
    "    double balance;\n",
    "    double interestRate;\n",
    "\n",
    "    double fraction(double percent);\n",
    "    // Converts a percentage to a fraction. For example, fraction(50.3)\n",
    "    // returns 0.503.\n",
    "};\n",
    "int main()\n",
    "{\n",
    "    BankAccount account1, account2;\n",
    "    cout << \"Start of Test:\\n\";\n",
    "    account1.set(123, 99, 3.0);\n",
    "    cout << \"account1 initial statement:\\n\";\n",
    "    account1.output(cout);\n",
    "    account1.set(100, 5.0);\n",
    "    cout << \"account1 with new setup:\\n\";\n",
    "    account1.output(cout);\n",
    "    account1.update();\n",
    "    cout << \"account1 after update:\\n\";\n",
    "    account1.output(cout);\n",
    "    account2 = account1;\n",
    "    cout << \"account2:\\n\";\n",
    "    account2.output(cout);\n",
    "    return 0;\n",
    "}\n",
    "\n",
    "void BankAccount::set(int dollars, int cents, double rate)\n",
    "{\n",
    "    if ((dollars < 0) || (cents < 0) || (rate < 0))\n",
    "    {\n",
    "        cout << \"Illegal values for money or interest rate.\\n\";\n",
    "        return;\n",
    "    }\n",
    "    balance = dollars + 0.01 * cents;\n",
    "    interestRate = rate;\n",
    "}\n",
    "\n",
    "void BankAccount::set(int dollars, double rate)\n",
    "{\n",
    "    if ((dollars < 0) || (rate < 0))\n",
    "    {\n",
    "        cout << \"Illegal values for money or interest rate.\\n\";\n",
    "        return;\n",
    "    }\n",
    "    balance = dollars;\n",
    "    interestRate = rate;\n",
    "}\n",
    "\n",
    "void BankAccount::update()\n",
    "{\n",
    "    balance = balance + fraction(interestRate) * balance;\n",
    "}\n",
    "\n",
    "double BankAccount::fraction(double percentValue)\n",
    "{\n",
    "    return (percentValue / 100.0);\n",
    "}\n",
    "\n",
    "double BankAccount::getBalance()\n",
    "{\n",
    "    return balance;\n",
    "}\n",
    "double BankAccount::getRate()\n",
    "{\n",
    "    return interestRate;\n",
    "}\n",
    "\n",
    "// Uses iostream:\n",
    "void BankAccount::output(ostream &outs)\n",
    "{\n",
    "    outs.setf(ios::fixed);\n",
    "    outs.setf(ios::showpoint);\n",
    "    outs.precision(2);\n",
    "    outs << \"Account balance $\" << balance << endl;\n",
    "    outs << \"Interest rate \" << interestRate << \"%\" << endl;\n",
    "}"
   ]
  },
  {
   "cell_type": "markdown",
   "id": "72e38af5-57c5-47c8-94c4-77b719591a53",
   "metadata": {},
   "source": [
    "<div style=\"padding: 30px; padding-top: 0; padding-bottom: 0;\">\n",
    "\n",
    "<hr style=\"border-color: #fff;\">\n",
    "\n",
    "</div>"
   ]
  },
  {
   "cell_type": "markdown",
   "id": "bb103277-4745-4d72-bd54-32d161c0ce59",
   "metadata": {},
   "source": [
    "<div style=\"font-family: arial; direction: rtl; padding: 30px; padding-top: 0; padding-bottom: 0;\">\n",
    "    \n",
    "<h2 id=\"conclusion\" style=\"color: #d42c06;\">جمع‌بندی</h2>\n",
    "\n",
    "</div>"
   ]
  },
  {
   "cell_type": "code",
   "execution_count": null,
   "id": "b778dbc4-e3ee-4b1d-baf7-067e7773af9a",
   "metadata": {},
   "outputs": [],
   "source": []
  },
  {
   "cell_type": "markdown",
   "id": "16a0474b-c50d-4087-a7f2-5a232fe6f720",
   "metadata": {},
   "source": [
    "<div style=\"padding: 30px; padding-top: 0; padding-bottom: 0;\">\n",
    "\n",
    "<hr style=\"border-color: #fff;\">\n",
    "\n",
    "</div>"
   ]
  },
  {
   "cell_type": "markdown",
   "id": "e0dea3fb-d681-473d-9d33-8a3c504b3fd9",
   "metadata": {},
   "source": [
    "<div style=\"font-family: arial; direction: rtl; padding: 30px; padding-top: 0; padding-bottom: 0;\">\n",
    "    \n",
    "<h2 style=\"color: #d42c06;\">منابع و مراجع</h2>\n",
    "\n",
    "<ul style=\"direction: ltr;\">\n",
    "    <li>Walter J. Savitch. Problem Solving with C++, Tenth Edition. 2018.</li>\n",
    "</ul>\n",
    "\n",
    "<hr style=\"margin-top: 25px; border-color: #fff;\">\n",
    "\n",
    "</div>"
   ]
  }
 ],
 "metadata": {
  "kernelspec": {
   "display_name": "C++17",
   "language": "C++17",
   "name": "xcpp17"
  },
  "language_info": {
   "codemirror_mode": "text/x-c++src",
   "file_extension": ".cpp",
   "mimetype": "text/x-c++src",
   "name": "c++",
   "version": "17"
  }
 },
 "nbformat": 4,
 "nbformat_minor": 5
}

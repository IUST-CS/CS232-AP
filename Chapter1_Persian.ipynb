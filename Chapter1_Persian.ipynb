{
 "cells": [
  {
   "cell_type": "markdown",
   "id": "24971931-144f-402e-9fc4-ede95a159218",
   "metadata": {},
   "source": [
    "<div style=\"font-family: arial; direction: rtl; padding: 30px; padding-bottom: 0;\">\n",
    "\n",
    "<h4 style=\"text-align: center;\">به نام خدا</h4>\n",
    "\n",
    "<h2 style=\"text-align: center; color: #103bc9;\">برنامه‌سازی پیشرفته</h2>\n",
    "\n",
    "<h3 style=\"text-align: center; color: #d42c06;\">دانشگاه علم و صنعت ایران<br><br>دانشکده ریاضی و علوم کامپیوتر</h3>\n",
    "\n",
    "<h4 style=\"padding-top: 7px; text-align: center;\">نیمسال دوم سال تحصیلی ۱۴۰۲-۱۴۰۳</h4>\n",
    "\n",
    "<hr style=\"margin-top: 25px; border-color: #fff;\">\n",
    "\n",
    "<h1 style=\"text-align: center; color: #9c0000;\">فصل ۱: کلاس‌ها</h1>\n",
    "\n",
    "<h2 style=\"text-align: center; color: #186e00;\">بخش ۱: مقدمات</h2>\n",
    "\n",
    "<h3 style=\"text-align: center; padding-top: 7px;\">علیرضا خادم دقیق</h3>\n",
    "\n",
    "<hr style=\"margin-top: 25px; border-color: #fff;\">\n",
    "\n",
    "</div>"
   ]
  },
  {
   "cell_type": "markdown",
   "id": "90298cc0-60cf-4799-87db-bd2e8fc338c3",
   "metadata": {},
   "source": [
    "<div style=\"font-family: arial; direction: rtl; padding-right: 30px; padding-top: 0; padding-bottom: 0;\">\n",
    "    \n",
    "<h2 style=\"color: #d42c06;\">فهرست مطالب</h2>\n",
    "\n",
    "<ul>\n",
    "    <li><a href=\"#introduction\">مقدمات</a></li>\n",
    "    <li><a href=\"#conclusion\">جمع‌بندی</a></li>\n",
    "</ul>\n",
    "\n",
    "<hr style=\"margin-top: 25px; border-color: #fff;\">\n",
    "\n",
    "</div>"
   ]
  },
  {
   "cell_type": "markdown",
   "id": "b2703d52-7195-48ea-8648-327e02dd0761",
   "metadata": {},
   "source": [
    "<div style=\"font-family: arial; direction: rtl; padding-right: 40px; padding-top: 0; padding-bottom: 0;\">\n",
    "    \n",
    "<h2 id=\"introduction\" style=\"color: #d42c06;\">مقدمات</h2>\n",
    "\n",
    "</div>"
   ]
  },
  {
   "cell_type": "markdown",
   "id": "0c39d9ec-0d0b-4196-b8d6-6d063bfc356f",
   "metadata": {},
   "source": [
    "<div style=\"direction: rtl; font-size: 1.1em; font-family: arial; padding: 30px; padding-top: 0; padding-bottom: 0;\">\n",
    "<span>این یک نمونه است.</span>\n",
    "<hr style=\"margin-top: 25px; border-color: #fff;\">\n",
    "</div>"
   ]
  },
  {
   "cell_type": "markdown",
   "id": "3e62ead6",
   "metadata": {},
   "source": [
    "<div style=\"font-size: 9pt; font-family: 'Vazirmatn'\" dir=\"rtl\">\n",
    "        <h2 id=\"classDef\" style=\"color: #d42c06;\">تعریف کلاس</h2>\n",
    "            <ul>\n",
    "                <li>\n",
    "                    <h3>یک کلاس یک <a title=\"Data Type\">نوع داده</a> است که متغیرهای آن اشیاء هستند</h3>\n",
    "                    <ul>\n",
    "                        <li>\n",
    "                            <h3>تعریف یک کلاس شامل:</h3>\n",
    "                            <ul>\n",
    "                                <li>\n",
    "                                    <h3>توضیح در مورد انواع مقادیر متغیرهای عضو کلاس</h3>\n",
    "                                </li>\n",
    "                                <li>\n",
    "                                    <h3>توضیح در مورد توابع</h3>\n",
    "                                </li>\n",
    "                            </ul>\n",
    "                        </li>\n",
    "                        <li>\n",
    "                            <h3>توضیح یک کلاس کمی شبیه به تعریف یک <a title=\"Structure\">ساختار</a> به علاوه متغیرهای عضو است</h3>\n",
    "                        </li>\n",
    "                    </ul>\n",
    "                </li>\n",
    "                <li>\n",
    "                    <h3>برای ساخت یک کلاس جدید به اسم DayOfYear</h3>\n",
    "                    <ul>\n",
    "                        <li>\n",
    "                            <h3>تصمیم بگیرید که چه مقادیری را نشان دهید</h3>\n",
    "                        </li>\n",
    "                        <li>\n",
    "                            <h3>در این مثال مقادیر تاریخ هایی همچون  4 July هستند</h3>\n",
    "                            <ul>\n",
    "                                <li>\n",
    "                                    <h4><a title=\"Member Variable\">متغیر عضو</a> ماه که یک عدد صحیح است (Feb = 2, Jan = 1, ...)</h4>\n",
    "                                </li>\n",
    "                                <li>\n",
    "                                    <h4><a title=\"Member Variable\">متغیر عضو</a> روز که عدد صحیح است</h4>\n",
    "                                </li>\n",
    "                            </ul>\n",
    "                        </li>\n",
    "                        <li>\n",
    "                            <h3>تصمیم بگیرید که چه <a title=\" Member Functions \">تابع های عضوی</a> نیاز است</h3>\n",
    "                        </li>\n",
    "                        <li>\n",
    "                            <h3>ما تنها از یک تابع به نام output استفاده میکنیم</h3>\n",
    "                        </li>\n",
    "                    </ul>\n",
    "                </li>\n",
    "            </ul>\n",
    "        </div>"
   ]
  },
  {
   "cell_type": "code",
   "execution_count": null,
   "id": "38d36247",
   "metadata": {
    "vscode": {
     "languageId": "cpp"
    }
   },
   "outputs": [],
   "source": [
    "class DayOfYear\n",
    "{\n",
    "public:\n",
    "    void output();\n",
    "    int month;\n",
    "    int day;\n",
    "};"
   ]
  },
  {
   "cell_type": "markdown",
   "id": "6404add5",
   "metadata": {},
   "source": [
    "<div dir=\"rtl\" style=\"font-family: 'Vazirmatn'; font-size: 9pt\">\n",
    "    <ul>\n",
    "                <li>\n",
    "                    <h3><a title=\"Member Functions\">توابع عضو</a> در بخش <a title=\"Declaration\">تعاریف</a> کلاس تعریف می شوند </h3>\n",
    "                </li>\n",
    "        <li>\n",
    "                    <h3>تعاریف <a title=\"Member Functions\">توابع عضو</a> هویت کلاس خودش را مشخص میکند</h3>\n",
    "                </li>\n",
    "            </ul>\n",
    "</div>"
   ]
  },
  {
   "cell_type": "code",
   "execution_count": null,
   "id": "d824b13e",
   "metadata": {
    "vscode": {
     "languageId": "cpp"
    }
   },
   "outputs": [],
   "source": [
    "void DayOfYear::output()\n",
    "{\n",
    "    cout << \"month = \" << month << \", day = \" << day << endl;\n",
    "}"
   ]
  },
  {
   "cell_type": "markdown",
   "id": "48cecede",
   "metadata": {},
   "source": [
    "<div dir=\"rtl\" style=\"font-family: 'Vazirmatn'; font-size: 9pt\">\n",
    "    <ul>\n",
    "                <li>\n",
    "                    <h3><a title=\"Syntax\">شیوه</a> تعریف <a title=\"Member Functions\">توابع عضو</a>:</h3>\n",
    "                </li>\n",
    "            </ul>\n",
    "</div>"
   ]
  },
  {
   "cell_type": "code",
   "execution_count": null,
   "id": "7bffadb1",
   "metadata": {
    "vscode": {
     "languageId": "cpp"
    }
   },
   "outputs": [],
   "source": [
    "// Class_Name::Function_Name(Parameter_List)\n",
    "// {\n",
    "//     Function Body Statements\n",
    "// }\n",
    "\n",
    "void DayOfYear::output()\n",
    "{\n",
    "    cout << \"month = \" << month << \", day = \" << day << endl;\n",
    "}"
   ]
  },
  {
   "cell_type": "markdown",
   "id": "5ca0a579",
   "metadata": {},
   "source": [
    "<div dir=\"rtl\" style=\"font-family: 'Vazirmatn'; font-size: 9pt\">\n",
    "    <h1 style=\"color: #d42c06;\">عملگر \"::\"</h1>\n",
    "    <ul>\n",
    "                <li>\n",
    "                    <h3>\"::\" <a title=\"Scope Resolution Operator\">عملگر وضوح دامنه است</a></h3>\n",
    "                    <ul>\n",
    "                        <li>\n",
    "                            <h3>به کلاس می گوید که یک تابع عضو آن است</h3>\n",
    "                        </li>\n",
    "                        <li>\n",
    "                            <h3>()void DayOfYear::output نشان می دهد که تابع output <a title=\"Member Function\">تابع عضو</a> کلاس DayOfYear است</h3>\n",
    "                        </li>\n",
    "                    </ul>\n",
    "                </li>\n",
    "        <li>\n",
    "                    <h3>نام کلاسی که قبل از \"::\" قرار بگیرد نیازمند مشخص کردن <a title=\"Type\">نوع</a> است</h3>\n",
    "                </li>\n",
    "            </ul>\n",
    "    <br />\n",
    "    <h1>\"::\" و \".\"</h1>\n",
    "            <ul>\n",
    "                <li>\n",
    "                    <h3>\"::\" برای مشخص کردن عضویت و با کلاس استفاده می شود</h3>\n",
    "                </li>\n",
    "            </ul>\n",
    "</div>"
   ]
  },
  {
   "cell_type": "code",
   "execution_count": null,
   "id": "ee941e7d",
   "metadata": {
    "vscode": {
     "languageId": "cpp"
    }
   },
   "outputs": [],
   "source": [
    "void DayOfYear::output()\n",
    "{\n",
    "    // function body\n",
    "}"
   ]
  },
  {
   "cell_type": "markdown",
   "id": "08589c49",
   "metadata": {},
   "source": [
    "<div dir=\"rtl\" style=\"font-family: 'Vazirmatn'; font-size: 9pt;\">\n",
    "    <ul>\n",
    "    <li>\n",
    "                    <h3>\".\" برای مشخص کردن عضویت و با متغیر استفاده می شود</h3>\n",
    "                </li></ul>\n",
    "</div>"
   ]
  },
  {
   "cell_type": "code",
   "execution_count": null,
   "id": "d4ca9583",
   "metadata": {
    "vscode": {
     "languageId": "cpp"
    }
   },
   "outputs": [],
   "source": [
    "DayOfYear birthday; \n",
    "birthday.output( );"
   ]
  },
  {
   "cell_type": "markdown",
   "id": "dcfc18a2-fdea-415d-ad02-7e3ac7859c2a",
   "metadata": {},
   "source": [
    "<div style=\"font-size: 1.1em; font-family: arial; direction: rtl; padding: 30px;\">\n",
    "<div style=\"border: 2px solid #1f49a3; border-radius: 10px; padding: 30px; padding-top: 15px;\">\n",
    "<h3 style=\"color: #1f49a3; font-weight: bold;\">نکته</h3>\n",
    "<!-- <span style=\"color: #1f49a3;\">این یک نمونه است.</span> -->\n",
    "<div dir=\"rtl\" style=\"font-size: 9pt; font-family: 'Vazirmatn'\">\n",
    "    <ul>\n",
    "                <li>\n",
    "                    <h3>صدا زدن <a title=\"Member Function\">تابع عضو</a> output کلاس DayOfYear به این صورت انجام می شود:</h3>\n",
    "                </li>\n",
    "            </ul>\n",
    "</div>\n",
    "</div>\n",
    "</div>"
   ]
  },
  {
   "cell_type": "code",
   "execution_count": null,
   "id": "8764f519",
   "metadata": {
    "vscode": {
     "languageId": "cpp"
    }
   },
   "outputs": [],
   "source": [
    "DayOfYear today, birthday; \n",
    "today.output( ); \n",
    "birthday.output( );"
   ]
  },
  {
   "cell_type": "code",
   "execution_count": null,
   "id": "70603bb0",
   "metadata": {
    "vscode": {
     "languageId": "cpp"
    }
   },
   "outputs": [],
   "source": [
    "#include <iostream>\n",
    "using namespace std;\n",
    "class DayOfYear\n",
    "{\n",
    "public:\n",
    "    void output();\n",
    "    int month;\n",
    "    int day;\n",
    "};\n",
    "\n",
    "int main()\n",
    "{\n",
    "    DayOfYear today, birthday;\n",
    "    cout << \"Enter today's date:\\n\";\n",
    "    cout << \"Enter month as a number: \";\n",
    "    cin >> today.month;\n",
    "    cout << \"Enter the day of the month: \";\n",
    "    cin >> today.day;\n",
    "    cout << \"Enter your birthday : \\n\";\n",
    "    cout << \"Enter month as number: \";\n",
    "    cin >> birthday.month;\n",
    "    cout << \"Enter the day of the month: \";\n",
    "    cin >> birthday.day;\n",
    "    cout << \"Today's date is \";\n",
    "    today.output();\n",
    "    cout << \"Your birthday is \";\n",
    "    birthday.output();\n",
    "    if (birthday.month == today.month && birthday.day == today.day)\n",
    "    {\n",
    "        cout << \"Happy Birthday! \\n\";\n",
    "    }\n",
    "    else\n",
    "    {\n",
    "        cout << \"Happy Unbirthday! \\n\";\n",
    "    }\n",
    "    return 0;\n",
    "}\n",
    "\n",
    "void DayOfYear::output()\n",
    "{\n",
    "    cout << \"month = \" << month << \", day = \" << day << endl;\n",
    "}"
   ]
  },
  {
   "cell_type": "markdown",
   "id": "c82150df",
   "metadata": {},
   "source": [
    "<div dir=\"rtl\" style=\"font-size: 9pt; font-family: 'Vazirmatn'\">\n",
    "    <h1 style=\"color: #d42c06;\">کپسوله سازی</h1>\n",
    "    <ul>\n",
    "                <li>\n",
    "                    <h3><a title=\"Encapsulation\">کپسوله سازی</a> یعنی:</h3>\n",
    "                    <ul>\n",
    "                        <li>\n",
    "                            <h3>ترکیب تعدادی از موارد، مانند\n",
    "                                متغیرها و توابع در یک بسته واحد\n",
    "                                مانند یک شی از یک کلاس</h3>\n",
    "                        </li>\n",
    "                    </ul>\n",
    "                </li>\n",
    "            </ul>\n",
    "</div>\n",
    "\n",
    "<br />\n",
    "<div dir=\"rtl\" style=\"font-size: 9pt; font-family: 'Vazirmatn'\">\n",
    "    <h1 style=\"color: #d42c06;\">مشکلات DayOfYear</h1>\n",
    "            <ul>\n",
    "                <li>\n",
    "                    <h3>تغییر در نحوه ذخیره ماه باعث ایجاد تغییر در کل کد می شود</h3>\n",
    "                </li>\n",
    "                <li>\n",
    "                    <h3>اگر تصمیم بگیریم ماه را به صورت کلمات سه حرفی (Feb, Jan , ...) در نظر بگیریم آنگاه باید کل کد را تغییر بدهیم </h3>\n",
    "                </li>\n",
    "            </ul>\n",
    "<div>\n",
    "<br />\n",
    "<div dir=\"rtl\" style=\"font-size: 9pt; font-family: 'Vazirmatn'\">\n",
    "    <h1 style=\"color: #d42c06;\">تعریف کلاس ایده آل</h1>\n",
    "            <ul>\n",
    "                <li>\n",
    "                    <h3>یک تعریف کلاس ایده آل از DayOfYear کلاسی است که\n",
    "                        نیازی به تغییر در\n",
    "                        برنامه ای که از DayOfYear  استفاده می کند ندارد</h3>\n",
    "                </li>\n",
    "            </ul>\n",
    "</div>\n",
    "    <br />\n",
    "<div dir=\"rtl\" style=\"font-size: 9pt; font-family: 'Vazirmatn'\">\n",
    "    <h1 style=\"color: #d42c06;\">درست کردن DayOfYear</h1>\n",
    "            <ul>\n",
    "                <li>\n",
    "                    <h3>برای درست کردن DayOfYear باید:</h3>\n",
    "                </li>\n",
    "                <ul>\n",
    "                    <li>\n",
    "                        <h3>توابع عضو را اضافه کنیم تا برای تغییر یا دسترسی به متغیرهای عضو از آنها استفاده کنیم</h3>\n",
    "                    </li>\n",
    "                    <ul>\n",
    "                        <li>\n",
    "                            <h4>اگر برنامه هرگز مستقیماً به متغیرهای عضو ارجاع ندهد،\n",
    "                                تغییر نحوه ذخیره متغیرها نیازی به تغییر برنامه نخواهد داشت\n",
    "                            </h4>\n",
    "                        </li>\n",
    "                    </ul>\n",
    "                </ul>\n",
    "                 <li>\n",
    "                        <h3>ما باید مطمئن شویم برنامه هرگز مستقیما به متغیر ها ارجاع داده نمی شود</h3>\n",
    "                    </li>\n",
    "            </ul>\n",
    "</div>"
   ]
  },
  {
   "cell_type": "code",
   "execution_count": null,
   "id": "c520a3aa-94e2-413f-9807-124015c0358d",
   "metadata": {},
   "outputs": [],
   "source": []
  },
  {
   "cell_type": "markdown",
   "id": "72e38af5-57c5-47c8-94c4-77b719591a53",
   "metadata": {},
   "source": [
    "<div style=\"padding: 30px; padding-top: 0; padding-bottom: 0;\">\n",
    "\n",
    "<hr style=\"border-color: #fff;\">\n",
    "\n",
    "</div>"
   ]
  },
  {
   "cell_type": "markdown",
   "id": "bb103277-4745-4d72-bd54-32d161c0ce59",
   "metadata": {},
   "source": [
    "<div style=\"font-family: arial; direction: rtl; padding: 30px; padding-top: 0; padding-bottom: 0;\">\n",
    "    \n",
    "<h2 id=\"conclusion\" style=\"color: #d42c06;\">جمع‌بندی</h2>\n",
    "\n",
    "</div>"
   ]
  },
  {
   "cell_type": "code",
   "execution_count": null,
   "id": "b778dbc4-e3ee-4b1d-baf7-067e7773af9a",
   "metadata": {},
   "outputs": [],
   "source": []
  },
  {
   "cell_type": "markdown",
   "id": "16a0474b-c50d-4087-a7f2-5a232fe6f720",
   "metadata": {},
   "source": [
    "<div style=\"padding: 30px; padding-top: 0; padding-bottom: 0;\">\n",
    "\n",
    "<hr style=\"border-color: #fff;\">\n",
    "\n",
    "</div>"
   ]
  },
  {
   "cell_type": "markdown",
   "id": "e0dea3fb-d681-473d-9d33-8a3c504b3fd9",
   "metadata": {},
   "source": [
    "<div style=\"font-family: arial; direction: rtl; padding: 30px; padding-top: 0; padding-bottom: 0;\">\n",
    "    \n",
    "<h2 style=\"color: #d42c06;\">منابع و مراجع</h2>\n",
    "\n",
    "<ul style=\"direction: ltr;\">\n",
    "    <li>Walter J. Savitch. Problem Solving with C++, Tenth Edition. 2018.</li>\n",
    "</ul>\n",
    "\n",
    "<hr style=\"margin-top: 25px; border-color: #fff;\">\n",
    "\n",
    "</div>"
   ]
  }
 ],
 "metadata": {
  "kernelspec": {
   "display_name": "C++17",
   "language": "C++17",
   "name": "xcpp17"
  },
  "language_info": {
   "codemirror_mode": "text/x-c++src",
   "file_extension": ".cpp",
   "mimetype": "text/x-c++src",
   "name": "c++",
   "version": "17"
  }
 },
 "nbformat": 4,
 "nbformat_minor": 5
}
